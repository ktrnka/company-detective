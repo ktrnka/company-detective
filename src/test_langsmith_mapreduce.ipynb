{
 "cells": [
  {
   "cell_type": "markdown",
   "metadata": {},
   "source": [
    "This is quick iteration to figure out if there's a way to get langsmith tracing to group correctly for map-reduce summarization pipelines"
   ]
  },
  {
   "cell_type": "code",
   "execution_count": 1,
   "metadata": {},
   "outputs": [],
   "source": [
    "from core import init\n",
    "\n",
    "# Langchain caching\n",
    "init()"
   ]
  },
  {
   "cell_type": "code",
   "execution_count": 2,
   "metadata": {},
   "outputs": [
    {
     "name": "stderr",
     "output_type": "stream",
     "text": [
      "\u001b[32m2024-09-16 15:01:22.616\u001b[0m | \u001b[34m\u001b[1mDEBUG   \u001b[0m | \u001b[36mgoogle_search\u001b[0m:\u001b[36msearch\u001b[0m:\u001b[36m58\u001b[0m - \u001b[34m\u001b[1mGoogle search results: {'kind': 'customsearch#search', 'url': {'type': 'application/json', 'template': 'https://www.googleapis.com/customsearch/v1?q={searchTerms}&num={count?}&start={startIndex?}&lr={language?}&safe={safe?}&cx={cx?}&sort={sort?}&filter={filter?}&gl={gl?}&cr={cr?}&googlehost={googleHost?}&c2coff={disableCnTwTranslation?}&hq={hq?}&hl={hl?}&siteSearch={siteSearch?}&siteSearchFilter={siteSearchFilter?}&exactTerms={exactTerms?}&excludeTerms={excludeTerms?}&linkSite={linkSite?}&orTerms={orTerms?}&dateRestrict={dateRestrict?}&lowRange={lowRange?}&highRange={highRange?}&searchType={searchType}&fileType={fileType?}&rights={rights?}&imgSize={imgSize?}&imgType={imgType?}&imgColorType={imgColorType?}&imgDominantColor={imgDominantColor?}&alt=json'}, 'queries': {'request': [{'title': 'Google Custom Search - site:reddit.com \"98point6\"\"', 'totalResults': '54', 'searchTerms': 'site:reddit.com \"98point6\"\"', 'count': 2, 'startIndex': 1, 'language': 'lang_en', 'inputEncoding': 'utf8', 'outputEncoding': 'utf8', 'safe': 'off', 'cx': 'd5705c8967e3c4d63', 'gl': 'us', 'hl': 'en'}], 'nextPage': [{'title': 'Google Custom Search - site:reddit.com \"98point6\"\"', 'totalResults': '54', 'searchTerms': 'site:reddit.com \"98point6\"\"', 'count': 2, 'startIndex': 3, 'language': 'lang_en', 'inputEncoding': 'utf8', 'outputEncoding': 'utf8', 'safe': 'off', 'cx': 'd5705c8967e3c4d63', 'gl': 'us', 'hl': 'en'}]}, 'context': {'title': 'company_detective'}, 'searchInformation': {'searchTime': 0.185441, 'formattedSearchTime': '0.19', 'totalResults': '54', 'formattedTotalResults': '54'}, 'items': [{'kind': 'customsearch#result', 'title': 'Internet medicine is awesome, 98point6 was so so helpful for me : r ...', 'htmlTitle': 'Internet medicine is awesome, <b>98point6</b> was so so helpful for me : r ...', 'link': 'https://www.reddit.com/r/povertyfinance/comments/bg7ip2/internet_medicine_is_awesome_98point6_was_so_so/', 'displayLink': 'www.reddit.com', 'snippet': 'Apr 22, 2019 ... So the 98point6 doctor could prescribe me the long-acting prescription anti-inflammatory meloxicam, but not the controlled substance Vicodin or\\xa0...', 'htmlSnippet': 'Apr 22, 2019 <b>...</b> So the <b>98point6</b> doctor could prescribe me the long-acting prescription anti-inflammatory meloxicam, but not the controlled substance Vicodin or&nbsp;...', 'formattedUrl': 'https://www.reddit.com/.../internet_medicine_is_awesome_98point6_was_s...', 'htmlFormattedUrl': 'https://www.reddit.com/.../internet_medicine_is_awesome_<b>98point6</b>_was_s...', 'pagemap': {'metatags': [{'og:image': 'https://share.redd.it/preview/post/bg7ip2', 'theme-color': '#000000', 'og:image:width': '1200', 'og:type': 'website', 'og:image:alt': 'An image containing a preview of the post', 'twitter:card': 'summary_large_image', 'twitter:title': 'r/povertyfinance on Reddit: Internet medicine is awesome, 98point6 was so so helpful for me', 'og:site_name': 'Reddit', 'og:title': 'r/povertyfinance on Reddit: Internet medicine is awesome, 98point6 was so so helpful for me', 'og:image:height': '630', 'msapplication-navbutton-color': '#000000', 'og:description': 'Posted by u/FrugalChef13 - 57 votes and 17 comments', 'twitter:image': 'https://share.redd.it/preview/post/bg7ip2', 'apple-mobile-web-app-status-bar-style': 'black', 'twitter:site': '@reddit', 'viewport': 'width=device-width, initial-scale=1, viewport-fit=cover', 'apple-mobile-web-app-capable': 'yes', 'og:ttl': '600', 'og:url': 'https://www.reddit.com/r/povertyfinance/comments/bg7ip2/internet_medicine_is_awesome_98point6_was_so_so/'}]}}, {'kind': 'customsearch#result', 'title': 'Has anyone used the 98point6 primary care? : r/Chipotle', 'htmlTitle': 'Has anyone used the <b>98point6</b> primary care? : r/Chipotle', 'link': 'https://www.reddit.com/r/Chipotle/comments/l5bbt9/has_anyone_used_the_98point6_primary_care/', 'displayLink': 'www.reddit.com', 'snippet': \"Jan 26, 2021 ... Has anyone used the 98point6 primary care? It's the 24/7 doctor program and been thinking about using it for depression treatment.\", 'htmlSnippet': 'Jan 26, 2021 <b>...</b> Has anyone used the <b>98point6</b> primary care? It&#39;s the 24/7 doctor program and been thinking about using it for depression treatment.', 'formattedUrl': 'https://www.reddit.com/r/.../has_anyone_used_the_98point6_primary_care/', 'htmlFormattedUrl': 'https://www.reddit.com/r/.../has_anyone_used_the_<b>98point6</b>_primary_care/', 'pagemap': {'metatags': [{'og:image': 'https://share.redd.it/preview/post/l5bbt9', 'theme-color': '#000000', 'og:image:width': '1200', 'og:type': 'website', 'og:image:alt': 'An image containing a preview of the post', 'twitter:card': 'summary_large_image', 'twitter:title': 'r/Chipotle on Reddit: Has anyone used the 98point6 primary care?', 'og:site_name': 'Reddit', 'og:title': 'r/Chipotle on Reddit: Has anyone used the 98point6 primary care?', 'og:image:height': '630', 'msapplication-navbutton-color': '#000000', 'og:description': 'Posted by u/pinkmoonbliss - 12 votes and 3 comments', 'twitter:image': 'https://share.redd.it/preview/post/l5bbt9', 'apple-mobile-web-app-status-bar-style': 'black', 'twitter:site': '@reddit', 'viewport': 'width=device-width, initial-scale=1, viewport-fit=cover', 'apple-mobile-web-app-capable': 'yes', 'og:ttl': '600', 'og:url': 'https://www.reddit.com/r/Chipotle/comments/l5bbt9/has_anyone_used_the_98point6_primary_care/'}], 'cse_image': [{'src': 'https://share.redd.it/preview/post/l5bbt9'}]}}]}\u001b[0m\n"
     ]
    },
    {
     "data": {
      "text/plain": [
       "['# Post ID bg7ip2: Internet medicine is awesome, 98point6 was so so helpful for me with +55 score by [(FrugalChef13, Reddit, 2019-04-22)](https://www.reddit.com/r/povertyfinance/comments/bg7ip2/internet_medicine_is_awesome_98point6_was_so_so/)\\n**TL;DR- $20 got me an awesome appointment with a nice doctor and a prescription for a medication I could afford that solved my issue.**\\n\\n*Disclaimer: This particular thing worked well for me so I\\'m going to tell you about it. Everyone is different, so it might not work as well (or at all) for you.  Take what you find useful from this post and ignore the rest.  I\\'m not compensated or connected to the website I\\'m discussing.*\\n\\nSo like a lot of people on here I\\'m usually either uninsured or underinsured.  Right now it\\'s underinsured with a high deductible, so when I messed my back up badly enough that I could barely move I freaked.  I\\'ve got scoliosis, a fucked up spine, bad knees, and muscles that love to spasm uncontrollably for days on end.  I\\'d run out of my prescription muscle relaxants last fall and hadn\\'t been able to afford another appointment.  Advil helps a little but it wears off in 4 hours so I kept waking up in pain, and for some reason Aleve has never worked for me.  Just doesn\\'t, it\\'s weird.\\n\\nSo I was fucked.  Can\\'t sleep, hurts like crazy, still gotta work.  Fuck.  Can\\'t afford the $100+ for a doctor\\'s appointment, plus taking the day off to get into the next town over where there\\'s a walk in clinic that can take me on short notice.  Fuck fuck.  Bad.\\n\\nSo I drank several glasses of wine and started googling \"how to get a prescription online.\"  There are some pretty sketchy (and expensive) options that I am pretty sure are hella illegal, and then I see a result for [98point6.com](https://98point6.com).  It\\'s $20 for a one year membership with unlimited online appointments ($120 for the second year unless I cancel before then).  Fuck it, I\\'m drunk enough to sleep tonight, if I\\'m still in bad shape tomorrow morning it\\'s worth a try.  I was still in bad shape the next morning, so I did it.\\n\\nGuys, it was amazing.  It\\'s not perfect, obviously- you need an internet connection and either a phone or  computer with webcam.  I chatted with some weird robot for 10 minutes or so and answered questions about what my problem was, then I got connected to this nice doctor lady and we talked over the webcam for... 10 minutes maybe?   about what was going on, what I\\'d already tried, what I knew from my own medical history likely wouldn\\'t help.  She was so kind, and didn\\'t make me feel dumb or worthless for not being able to afford a full price doctor\\'s appointment in my town.  She said that even people who do have a local PCP use their service because it\\'s faster and cheaper and easier than an office visit.  (One limitation of internet medicine is that they can\\'t prescribe controlled substances, or medications with high potential for abuse which apparently includes the muscle relaxant I usually took.)   She recommended a prescription anti-inflammatory that lasts for 12 hours, since the muscle relaxant I\\'d taken in the past wasn\\'t an option to have prescribed over the internet. And then I said the thing I hate saying- \"This sounds like a good option, but cost is a big issue for me.  What\\'s the usual price of this med out of pocket?\"\\n\\nUsually when I ask that the doctor says something shitty like \"well it\\'s what I normally prescribe for someone in your situation, the cost you\\'ll pay varies based on the pharmacy and your insurance. Unfortunately I can\\'t estimate your cost.\"  This lady did not.\\n\\nThis amazing awesome doctor picked up her iPhone and said \"I have an app for a website called GoodRx, if you give me your zip code I\\'ll let you know what this will cost at the pharmacies in your area using their discount program. If this medication is out of your price range there are a few other things that would work just as well and might be more affordable.\"  She didn\\'t shame me for being poor, she was actively prepared to address the needs of people who have limited funds, and she was willing to spend her time to find a medication I could afford.  Happily, the med she prescribed was under $15 for a 1 month supply through GoodRx, hooray!  (I know that\\'s a lot for some people, but it was doable for me.)\\n\\nI would 100% use 98point6 again, especially since my $20 gets me unlimited visits for a year.  It\\'s not the right place to go for a broken arm, but for prescription anti-inflammatories or antibiotics for your 3rd UTI of the year or something pretty basic it\\'s a good low cost option.   And not having to leave the house to talk to a doctor was really really great.\\n\\nIf anyone else has recommendations or critiques or thoughts on internet medicine stuff I\\'d love to hear it.\\n\\n## Comment ID elj1h0o with +8 score by [(None, Reddit, 2019-04-22)](https://www.reddit.com/r/povertyfinance/comments/bg7ip2/internet_medicine_is_awesome_98point6_was_so_so/elj1h0o/) (in reply to ID bg7ip2):\\nThat sounds like a great resource! Especially for my two most common ailments, pink eye (I work with kids, they’re gross) and strep. Thanks for sharing\\n\\n### Comment ID eljexpb with +3 score by [(FrugalChef13, Reddit, 2019-04-23)](https://www.reddit.com/r/povertyfinance/comments/bg7ip2/internet_medicine_is_awesome_98point6_was_so_so/eljexpb/) (in reply to ID elj1h0o):\\nYeah, it\\'s not a \"this solves all your problems\" thing, but it might be a \"this solves some of your problems this week\" thing.\\n\\nI love children and are they are horrible little germ spreaders.  Wonderful munchkins, terrible pink eye.\\n\\n\\n\\n## Comment ID eljwrv8 with +3 score by [(AnotherDay_RS, Reddit, 2019-04-23)](https://www.reddit.com/r/povertyfinance/comments/bg7ip2/internet_medicine_is_awesome_98point6_was_so_so/eljwrv8/) (in reply to ID bg7ip2):\\nSounds like a great service but what i don\\'t understand is, If they cannot prescribe you the medication due to ie; controlled substance etc. Why is she giving you price to purchase it under GoodRX?\\n\\nSorry that part wasn\\'t clear to me, I thought you needed a doctor approval to prescribe controlled substances.\\n\\n### Comment ID eljx9uw with +3 score by [(FrugalChef13, Reddit, 2019-04-23)](https://www.reddit.com/r/povertyfinance/comments/bg7ip2/internet_medicine_is_awesome_98point6_was_so_so/eljx9uw/) (in reply to ID eljwrv8):\\nSo there are prescriptions, and there are controlled substances which are like super duper extra prescriptions.  Controlled substances are usually stuff with a high chance of being abused, or that is sold as street drug.\\n\\nA prescription is for stuff like \"the pill\" or prescription anti-inflammatories or antibiotics.\\n\\nControlled substances are prescription drugs with extra levels of protection and oversight.  The biggies are opiates (Percocet, Oxycontin, etc), stimulants (Ritalin, Adderall), and benzodiazepines (Valium, Klonopin).  Even IRL doctors have to do extra stuff to prescribe controlled substances, and you have to sign and do extra stuff to fill the prescriptions and pick them up at the pharmacy.\\n\\nSo the 98point6 doctor could prescribe me the long-acting prescription anti-inflammatory meloxicam, but not the controlled substance Vicodin or the muscle relaxant Flexiril.  Neither medication can be purchased without a prescription from a doctor, but Vicodin is super extra hard to get prescribed.\\n\\nDoes that make sense?\\n\\nEDIT: I tried to clarify the original post to make it more obvious that although she couldn\\'t prescribe the thing I\\'d taken in the past, she did prescribe a thing that helped a lot.  It actually helped even more than the thing I\\'d taken in the past and without making me drowsy, which is AWESOME!\\n\\n#### Comment ID elkh6df with +3 score by [(Mr_Fuzzo, Reddit, 2019-04-23)](https://www.reddit.com/r/povertyfinance/comments/bg7ip2/internet_medicine_is_awesome_98point6_was_so_so/elkh6df/) (in reply to ID eljx9uw):\\nControlled substances, for the un-initiated are medications like opiates, barbiturates, methamphetamines, benzodiazepines, etc.\\n\\nSo, meds like Xanax, OxyContin, Ritalin, etc.\\n\\n#### Comment ID eljy54o with +2 score by [(AnotherDay_RS, Reddit, 2019-04-23)](https://www.reddit.com/r/povertyfinance/comments/bg7ip2/internet_medicine_is_awesome_98point6_was_so_so/eljy54o/) (in reply to ID eljx9uw):\\nThat\\'s great!! I will have to keep that service in mind, Thanks for clarifying.\\n\\n#### Comment ID jl3md0l with +1 score by [(booalijules, Reddit, 2023-05-22)](https://www.reddit.com/r/povertyfinance/comments/bg7ip2/internet_medicine_is_awesome_98point6_was_so_so/jl3md0l/) (in reply to ID eljx9uw):\\nWhat about something like dexamethasone or prednisone?\\n\\n## Comment ID hrmpl3t with +3 score by [(MarketWorldly9908, Reddit, 2022-01-07)](https://www.reddit.com/r/povertyfinance/comments/bg7ip2/internet_medicine_is_awesome_98point6_was_so_so/hrmpl3t/) (in reply to ID bg7ip2):\\nMy husband and I have used 98.6 three times. All three times they did not prescribe the needed antibiotic to get better. I had an ear infection, my husband had an ear infection, then I had a sinus infection. We had to wait and get into our family doctor, so we paid 98.6 and our family doctor. I would not recommend them!\\n\\n## Comment ID elkkysu with +2 score by [(NightSkyButterfly, Reddit, 2019-04-23)](https://www.reddit.com/r/povertyfinance/comments/bg7ip2/internet_medicine_is_awesome_98point6_was_so_so/elkkysu/) (in reply to ID bg7ip2):\\nI\\'m not sure where your old prescription on file is, but I know at the big box pharmacy I used to work at we could send an electronic request to the doctor to write a new script without a visit. Doesn\\'t always work, but worth a try for a med you need!\\n\\n## Comment ID idl52u3 with +1 score by [(Sweetcynic36, Reddit, 2022-06-24)](https://www.reddit.com/r/povertyfinance/comments/bg7ip2/internet_medicine_is_awesome_98point6_was_so_so/idl52u3/) (in reply to ID bg7ip2):\\nHelped me get paxlovid for covid more quickly than I otherwise would have been able to. Win win.\\n\\n## Comment ID k4j76lw with +1 score by [(prettyclouds88, Reddit, 2023-10-12)](https://www.reddit.com/r/povertyfinance/comments/bg7ip2/internet_medicine_is_awesome_98point6_was_so_so/k4j76lw/) (in reply to ID bg7ip2):\\nThank you for this.',\n",
       " \"# Post ID l5bbt9: Has anyone used the 98point6 primary care? with +12 score by [(pinkmoonbliss, Reddit, 2021-01-26)](https://www.reddit.com/r/Chipotle/comments/l5bbt9/has_anyone_used_the_98point6_primary_care/)\\nIt’s the 24/7 doctor program and been thinking about using it for depression treatment\\n\\n## Comment ID gkugtqg with +7 score by [(None, Reddit, 2021-01-26)](https://www.reddit.com/r/Chipotle/comments/l5bbt9/has_anyone_used_the_98point6_primary_care/gkugtqg/) (in reply to ID l5bbt9):\\nI haven’t but good for you for getting your life on track. Depression is a hard thing to get through but with the right mindset and helpful support from those you trust around you, I believe you will do amazing things! Keep riding the grind train💪🏼💪🏼💪🏼\\n\\n## Comment ID gkwtoqb with +2 score by [(Somethingtacos, Reddit, 2021-01-27)](https://www.reddit.com/r/Chipotle/comments/l5bbt9/has_anyone_used_the_98point6_primary_care/gkwtoqb/) (in reply to ID l5bbt9):\\nI really appreciate the accessibility of it. I have only used it for physical health issues. I don't know if 98point6 actually can provide mental healthcsre tbh.\\n\\nIf it can't, ask your manager about EAP. It can help connect you to some resources, if not a (temporary) counselor.\\n\\n## Comment ID joi8dqm with +1 score by [(AntRed666, Reddit, 2023-06-17)](https://www.reddit.com/r/Chipotle/comments/l5bbt9/has_anyone_used_the_98point6_primary_care/joi8dqm/) (in reply to ID l5bbt9):\\nTotal garbage, they rarely prescribe any meds online and tell you to go to a clinic. I just choose to order my meds online from Canada or Mexico.\"]"
      ]
     },
     "execution_count": 2,
     "metadata": {},
     "output_type": "execute_result"
    }
   ],
   "source": [
    "from core import Seed\n",
    "\n",
    "import reddit\n",
    "import reddit.search\n",
    "import reddit.fetch\n",
    "\n",
    "target = Seed.init(\"98point6\")\n",
    "\n",
    "reddit_client = reddit.fetch.init()\n",
    "\n",
    "reddit_urls = [\n",
    "    result.link\n",
    "    for result in reddit.search.find_submissions(\n",
    "        target, num_results=2\n",
    "    )\n",
    "]\n",
    "\n",
    "reddit_threads = [reddit_client.submission(url=url) for url in reddit_urls]\n",
    "\n",
    "# only threads with enough comments\n",
    "reddit_threads = [\n",
    "    submission for submission in reddit_threads if submission.num_comments >= 2\n",
    "]\n",
    "\n",
    "markdowns = [reddit.fetch.submission_to_markdown(thread) for thread in reddit_threads]\n",
    "markdowns"
   ]
  },
  {
   "cell_type": "code",
   "execution_count": 12,
   "metadata": {},
   "outputs": [
    {
     "data": {
      "text/plain": [
       "RunTree(id=UUID('87fd2c3c-3bd6-412a-96bd-54c0b770b8a5'), name='Parent Run', start_time=datetime.datetime(2024, 9, 16, 22, 19, 52, 59662, tzinfo=datetime.timezone.utc), run_type='chain', end_time=None, extra={}, error=None, serialized=None, events=[], inputs={'some_input': 'value'}, outputs={}, reference_example_id=None, parent_run_id=None, tags=[], parent_run=None, child_runs=[], session_name='company-detective-test', session_id=None, dotted_order='20240916T221952059662Z87fd2c3c-3bd6-412a-96bd-54c0b770b8a5', trace_id=UUID('87fd2c3c-3bd6-412a-96bd-54c0b770b8a5'))"
      ]
     },
     "execution_count": 12,
     "metadata": {},
     "output_type": "execute_result"
    }
   ],
   "source": [
    "from langsmith.run_trees import RunTree\n",
    "\n",
    "# Create a top-level (parent) run\n",
    "parent_run = RunTree(\n",
    "    name=\"Parent Run\",\n",
    "    run_type=\"chain\",\n",
    "    inputs={\"some_input\": \"value\"}\n",
    ")\n",
    "\n",
    "parent_run"
   ]
  },
  {
   "cell_type": "code",
   "execution_count": 21,
   "metadata": {},
   "outputs": [
    {
     "name": "stderr",
     "output_type": "stream",
     "text": [
      "Error in LangChainTracer.on_chain_start callback: ValidationError(model='Run', errors=[{'loc': ('__root__',), 'msg': \"argument of type 'NoneType' is not iterable\", 'type': 'type_error'}])\n",
      "Error in LangChainTracer.on_chain_end callback: TracerException('No indexed run ID f31216c3-86c6-4033-9ab5-bf379aec46fa.')\n"
     ]
    },
    {
     "name": "stdout",
     "output_type": "stream",
     "text": [
      "# Combined Summary of Reddit Threads on 98point6\n",
      "\n",
      "## Summary of Reddit Thread: Internet Medicine Experience with 98point6\n",
      "\n",
      "**Post ID:** bg7ip2  \n",
      "**Author:** FrugalChef13  \n",
      "**Date:** 2019-04-22  \n",
      "**[Link to Post](https://www.reddit.com/r/povertyfinance/comments/bg7ip2/internet_medicine_is_awesome_98point6_was_so_so/)**\n",
      "\n",
      "### TL;DR\n",
      "The author shares a positive experience using 98point6, an online medical service, which provided an affordable consultation and a prescription for a medication that addressed their health issue.\n",
      "\n",
      "### Key Points\n",
      "- The author is underinsured and faced difficulties accessing traditional healthcare due to high costs.\n",
      "- After experiencing severe back pain, they sought an online solution and found 98point6, which offers a one-year membership for $20 with unlimited online appointments.\n",
      "- The consultation involved a brief interaction with a chatbot followed by a video call with a doctor who was understanding and supportive.\n",
      "- The doctor prescribed an anti-inflammatory medication and used GoodRx to find the best price, ensuring it was affordable for the author.\n",
      "- The author emphasizes the convenience of not needing to leave home for medical advice and expresses willingness to use the service again for basic health issues.\n",
      "\n",
      "### Community Reactions\n",
      "- **Positive Feedback:** Other users shared their own experiences and expressed interest in using 98point6 for common ailments.\n",
      "- **Concerns Raised:** Some users questioned the limitations of the service, particularly regarding the prescription of controlled substances.\n",
      "- **Additional Insights:** Users discussed alternative methods for obtaining prescriptions and shared their own healthcare experiences, highlighting both successes and challenges with online medical services.\n",
      "\n",
      "### Conclusion\n",
      "The thread illustrates the potential benefits of internet medicine for individuals facing financial barriers to traditional healthcare, while also acknowledging its limitations and the varied experiences of users.\n",
      "\n",
      "---\n",
      "\n",
      "## Summary of Reddit Thread: Has anyone used the 98point6 primary care?\n",
      "\n",
      "**Original Post by:** pinkmoonbliss  \n",
      "**Score:** +12\n",
      "\n",
      "### Comments:\n",
      "- **Comment by None** (+7 score): \n",
      "  - Offers encouragement to the original poster for seeking help with depression. Emphasizes the importance of mindset and support from trusted individuals.\n",
      "\n",
      "- **Comment by Somethingtacos** (+2 score): \n",
      "  - Shares personal experience with 98point6, noting its accessibility for physical health issues but expressing uncertainty about its mental health services. Suggests looking into Employee Assistance Programs (EAP) for additional resources.\n",
      "\n",
      "- **Comment by AntRed666** (+1 score): \n",
      "  - Criticizes the service, stating that it rarely prescribes medications online and often redirects patients to clinics. Mentions opting to order medications from Canada or Mexico instead.\n",
      "\n",
      "### Conclusion\n",
      "Overall, the thread reflects a mix of encouragement, personal experiences, and concerns regarding the effectiveness of 98point6 for mental health treatment. \n",
      "\n",
      "---\n",
      "\n",
      "This combined summary highlights the positive experiences and concerns surrounding the 98point6 service, showcasing its potential benefits for both physical and mental health issues while also addressing the limitations and varied user experiences.\n"
     ]
    }
   ],
   "source": [
    "from langchain_core.documents import Document\n",
    "from langchain.chains.summarize import load_summarize_chain\n",
    "from langchain import PromptTemplate\n",
    "from langchain_openai import ChatOpenAI\n",
    "import os\n",
    "from langchain_core.callbacks.manager import trace_as_chain_group\n",
    "from pprint import pprint\n",
    "\n",
    "os.environ[\"LANGCHAIN_PROJECT\"] = \"company-detective-test\"\n",
    "\n",
    "map_prompt = \"Summarize the following Reddit thread. Format the summary as markdown: \\n{text}\"\n",
    "map_prompt_template = PromptTemplate(\n",
    "    template=map_prompt, input_variables=[\"text\"]\n",
    ")\n",
    "\n",
    "combine_prompt = \"Combine the following summaries into a single markdown document: \\n{text}\"\n",
    "combine_prompt_template = PromptTemplate(\n",
    "    template=combine_prompt, input_variables=[\"text\"]\n",
    ")\n",
    "\n",
    "documents = [\n",
    "    Document(page_content=markdown)\n",
    "    for markdown in markdowns\n",
    "]\n",
    "\n",
    "\n",
    "with trace_as_chain_group(\"Summarize Company\", inputs={\"seed\": target}) as tracing_callback:\n",
    "\n",
    "    llm = ChatOpenAI(model=\"gpt-4o-mini\", temperature=0)\n",
    "    summary_chain = load_summarize_chain(\n",
    "        llm=llm.with_config({\"run_name\": \"Summary mapper\", \"callbacks\": tracing_callback}),\n",
    "        reduce_llm=llm.with_config({\"run_name\": \"Summary reducer\"}),\n",
    "        chain_type=\"map_reduce\",\n",
    "        map_prompt=map_prompt_template,\n",
    "        combine_prompt=combine_prompt_template,\n",
    "        token_max=30000,\n",
    "        verbose=False,\n",
    "        return_intermediate_steps=True,\n",
    "        # callbacks=tracing_callback,\n",
    "    )\n",
    "\n",
    "    result = summary_chain.with_config({\"run_name\": \"Summarize Customer Experience\"}).invoke(\n",
    "        {\n",
    "            \"company\": target.company,\n",
    "            \"product\": target.product,\n",
    "            \"input_documents\": documents,\n",
    "        },\n",
    "        # TODO: There's a bug; the langchain config isn't propagated to the map steps so those aren't grouped in the output\n",
    "        # There's an arg to load_summarize_chain (callbacks) that looks like it should work, but it didn't work when I tried it\n",
    "        {\"callbacks\": tracing_callback},\n",
    "    )\n",
    "\n",
    "    tracing_callback.on_chain_end({\"output\": result})\n",
    "\n",
    "    # parent_run.end(outputs=result)\n",
    "    # parent_run.post()\n",
    "\n",
    "    print(result[\"output_text\"])"
   ]
  },
  {
   "cell_type": "code",
   "execution_count": null,
   "metadata": {},
   "outputs": [],
   "source": [
    "# Error in LangChainTracer.on_chain_start callback: ValidationError(model='Run', errors=[{'loc': ('__root__',), 'msg': \"argument of type 'NoneType' is not iterable\", 'type': 'type_error'}])\n",
    "# Parent run 03394b97-e719-4b25-8db6-86870fae49dd not found for run c4184299-a42e-4954-af3d-cc04be460d67. Treating as a root run.\n",
    "# Parent run 03394b97-e719-4b25-8db6-86870fae49dd not found for run 9461df67-54a7-4836-a8e1-bb1ee8e460f2. Treating as a root run.\n",
    "# Error in LangChainTracer.on_chain_end callback: TracerException('No indexed run ID 03394b97-e719-4b25-8db6-86870fae49dd.')\n"
   ]
  },
  {
   "cell_type": "code",
   "execution_count": 10,
   "metadata": {},
   "outputs": [
    {
     "data": {
      "text/plain": [
       "<langchain_core.callbacks.manager.CallbackManagerForChainGroup at 0x7ff6c0b5bb80>"
      ]
     },
     "execution_count": 10,
     "metadata": {},
     "output_type": "execute_result"
    }
   ],
   "source": [
    "tracing_callback"
   ]
  },
  {
   "cell_type": "code",
   "execution_count": 25,
   "metadata": {},
   "outputs": [],
   "source": [
    "# base_config = {\"callbacks\": tracing_callback}\n",
    "base_config = None"
   ]
  },
  {
   "cell_type": "code",
   "execution_count": 28,
   "metadata": {},
   "outputs": [
    {
     "data": {
      "text/plain": [
       "{'run_name': 'Summary mapper'}"
      ]
     },
     "execution_count": 28,
     "metadata": {},
     "output_type": "execute_result"
    }
   ],
   "source": [
    "{\"run_name\": \"Summary mapper\", **(base_config or {})}"
   ]
  },
  {
   "cell_type": "code",
   "execution_count": null,
   "metadata": {},
   "outputs": [],
   "source": []
  }
 ],
 "metadata": {
  "kernelspec": {
   "display_name": ".venv",
   "language": "python",
   "name": "python3"
  },
  "language_info": {
   "codemirror_mode": {
    "name": "ipython",
    "version": 3
   },
   "file_extension": ".py",
   "mimetype": "text/x-python",
   "name": "python",
   "nbconvert_exporter": "python",
   "pygments_lexer": "ipython3",
   "version": "3.10.12"
  }
 },
 "nbformat": 4,
 "nbformat_minor": 2
}
