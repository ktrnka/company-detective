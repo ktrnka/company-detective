{
 "cells": [
  {
   "cell_type": "code",
   "execution_count": 13,
   "metadata": {},
   "outputs": [],
   "source": [
    "# Inputs:\n",
    "data_folder = \"../output/data\"\n",
    "website_folder = \"../docs\""
   ]
  },
  {
   "cell_type": "code",
   "execution_count": 14,
   "metadata": {},
   "outputs": [
    {
     "name": "stdout",
     "output_type": "stream",
     "text": [
      "['../output/data/Imagine_Pediatrics.json', '../output/data/98point6.json', '../output/data/Kevala.json', '../output/data/Rippling.json', '../output/data/Singularity_6_Palia.json', '../output/data/Pomelo_Care.json']\n"
     ]
    }
   ],
   "source": [
    "import glob\n",
    "\n",
    "# List all JSON files in the data_folder\n",
    "json_files = glob.glob(f\"{data_folder}/*.json\")\n",
    "print(json_files)"
   ]
  },
  {
   "cell_type": "code",
   "execution_count": 15,
   "metadata": {},
   "outputs": [],
   "source": [
    "from unified import UnifiedResult\n",
    "import json\n",
    "from typing import Dict\n",
    "\n",
    "results: Dict[str, UnifiedResult] = {}\n",
    "\n",
    "for file_path in json_files:\n",
    "    with open(file_path, 'r') as file:\n",
    "        data = json.load(file)\n",
    "        results[file_path] = UnifiedResult(**data)\n",
    "\n",
    "# print(results)"
   ]
  },
  {
   "cell_type": "code",
   "execution_count": 16,
   "metadata": {},
   "outputs": [
    {
     "name": "stderr",
     "output_type": "stream",
     "text": [
      "\u001b[32m2024-09-30 13:08:20.307\u001b[0m | \u001b[1mINFO    \u001b[0m | \u001b[36munified\u001b[0m:\u001b[36mto_html_file\u001b[0m:\u001b[36m276\u001b[0m - \u001b[1mWritten to ../docs/companies/Imagine_Pediatrics.html\u001b[0m\n",
      "\u001b[32m2024-09-30 13:08:20.400\u001b[0m | \u001b[1mINFO    \u001b[0m | \u001b[36munified\u001b[0m:\u001b[36mto_html_file\u001b[0m:\u001b[36m276\u001b[0m - \u001b[1mWritten to ../docs/companies/98point6.html\u001b[0m\n",
      "\u001b[32m2024-09-30 13:08:20.407\u001b[0m | \u001b[1mINFO    \u001b[0m | \u001b[36munified\u001b[0m:\u001b[36mto_html_file\u001b[0m:\u001b[36m276\u001b[0m - \u001b[1mWritten to ../docs/companies/Kevala.html\u001b[0m\n",
      "\u001b[32m2024-09-30 13:08:20.418\u001b[0m | \u001b[1mINFO    \u001b[0m | \u001b[36munified\u001b[0m:\u001b[36mto_html_file\u001b[0m:\u001b[36m276\u001b[0m - \u001b[1mWritten to ../docs/companies/Rippling.html\u001b[0m\n",
      "\u001b[32m2024-09-30 13:08:20.436\u001b[0m | \u001b[1mINFO    \u001b[0m | \u001b[36munified\u001b[0m:\u001b[36mto_html_file\u001b[0m:\u001b[36m276\u001b[0m - \u001b[1mWritten to ../docs/companies/Singularity_6_Palia.html\u001b[0m\n",
      "\u001b[32m2024-09-30 13:08:20.444\u001b[0m | \u001b[1mINFO    \u001b[0m | \u001b[36munified\u001b[0m:\u001b[36mto_html_file\u001b[0m:\u001b[36m276\u001b[0m - \u001b[1mWritten to ../docs/companies/Pomelo_Care.html\u001b[0m\n"
     ]
    },
    {
     "name": "stdout",
     "output_type": "stream",
     "text": [
      "Generated ../docs/companies/Imagine_Pediatrics.html\n",
      "Generated ../docs/companies/98point6.html\n",
      "Generated ../docs/companies/Kevala.html\n",
      "Generated ../docs/companies/Rippling.html\n",
      "Generated ../docs/companies/Singularity_6_Palia.html\n",
      "Generated ../docs/companies/Pomelo_Care.html\n"
     ]
    }
   ],
   "source": [
    "from core import Seed\n",
    "\n",
    "def get_output_path(company: Seed, output_folder: str) -> str:\n",
    "    return f\"{output_folder}/companies/{company.as_path_v2()}.html\"\n",
    "\n",
    "for json_path, result in results.items():\n",
    "    output_path = get_output_path(result.target, website_folder)\n",
    "    result.to_html_file(output_path)\n",
    "    print(f\"Generated {output_path}\")\n"
   ]
  },
  {
   "cell_type": "code",
   "execution_count": 17,
   "metadata": {},
   "outputs": [],
   "source": [
    "# Regenerate index.html\n",
    "import jinja2\n",
    "templates = jinja2.Environment(\n",
    "    loader=jinja2.FileSystemLoader(\"templates\"),\n",
    ")"
   ]
  },
  {
   "cell_type": "code",
   "execution_count": 18,
   "metadata": {},
   "outputs": [
    {
     "name": "stdout",
     "output_type": "stream",
     "text": [
      "Generated ../docs/index.html\n"
     ]
    }
   ],
   "source": [
    "names_to_relative_urls = {\n",
    "    result.target.company: f\"companies/{result.target.as_path_v2()}.html\"\n",
    "    for result in results.values()\n",
    "}\n",
    "# print(templates.get_template(\"index.html\").render(names_to_relative_urls=names_to_relative_urls))\n",
    "\n",
    "with open(f\"{website_folder}/index.html\", 'w') as file:\n",
    "    file.write(templates.get_template(\"index.html\").render(\n",
    "        names_to_relative_urls=names_to_relative_urls,\n",
    "        title=\"Company Detective beta\",\n",
    "        ))\n",
    "    print(f\"Generated {website_folder}/index.html\")"
   ]
  },
  {
   "cell_type": "code",
   "execution_count": null,
   "metadata": {},
   "outputs": [],
   "source": []
  }
 ],
 "metadata": {
  "kernelspec": {
   "display_name": ".venv",
   "language": "python",
   "name": "python3"
  },
  "language_info": {
   "codemirror_mode": {
    "name": "ipython",
    "version": 3
   },
   "file_extension": ".py",
   "mimetype": "text/x-python",
   "name": "python",
   "nbconvert_exporter": "python",
   "pygments_lexer": "ipython3",
   "version": "3.10.12"
  }
 },
 "nbformat": 4,
 "nbformat_minor": 2
}
