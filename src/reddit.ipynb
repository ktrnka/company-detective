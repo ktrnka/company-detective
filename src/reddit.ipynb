{
 "cells": [
  {
   "cell_type": "markdown",
   "metadata": {},
   "source": [
    "# Reddit"
   ]
  },
  {
   "cell_type": "code",
   "execution_count": 48,
   "metadata": {},
   "outputs": [
    {
     "data": {
      "text/plain": [
       "CompanyProduct(company='98point6', product='98point6')"
      ]
     },
     "execution_count": 48,
     "metadata": {},
     "output_type": "execute_result"
    }
   ],
   "source": [
    "from typing import NamedTuple\n",
    "\n",
    "class CompanyProduct(NamedTuple):\n",
    "    company: str\n",
    "    product: str\n",
    "\n",
    "    @classmethod\n",
    "    def same(cls, name: str):\n",
    "        return cls(company=name, product=name)\n",
    "    \n",
    "CompanyProduct.same(\"98point6\")"
   ]
  },
  {
   "cell_type": "code",
   "execution_count": 1,
   "metadata": {},
   "outputs": [],
   "source": [
    "import praw\n",
    "from dotenv import load_dotenv\n",
    "import os\n",
    "\n",
    "load_dotenv()\n",
    "\n",
    "reddit = praw.Reddit(\n",
    "    client_id=os.environ[\"REDDIT_CLIENT_ID\"],\n",
    "    client_secret=os.environ[\"REDDIT_CLIENT_SECRET\"],\n",
    "    user_agent=\"Comment Extraction (by u/trnka)\",\n",
    ")\n"
   ]
  },
  {
   "cell_type": "markdown",
   "metadata": {},
   "source": [
    "# Design notes\n",
    "\n",
    "1. Transform the product name into an appropriate query\n",
    "2. Google search reddit.com with the query (possibly multiple time windows - alltime, 1y, 1m?)\n",
    "3. Process each post:\n",
    "    - Pull the top post\n",
    "    - Pull any comments\n",
    "    - Identify whether the post is primarily about the product, jobs at the company, or bizdev\n",
    "4. Summarize the product-related posts:\n",
    "    - Timeline of posts with titles and one key excerpt, linking to the original. Also include the amount of activity on the post and the score"
   ]
  },
  {
   "cell_type": "code",
   "execution_count": 10,
   "metadata": {},
   "outputs": [],
   "source": [
    "# Helper to convert a Reddit thread to text\n",
    "from datetime import datetime\n",
    "from praw.models import MoreComments\n",
    "\n",
    "DATE_FORMAT = \"%Y-%m-%d\"\n",
    "def utc_to_date(utc: float):\n",
    "    return datetime.utcfromtimestamp(utc).strftime(DATE_FORMAT)\n",
    "\n",
    "def reddit_thread_to_text(submission):\n",
    "    submission.comments.replace_more(limit=10)\n",
    "\n",
    "    text = f\"\"\"\n",
    "{submission.title} by {submission.author} on {utc_to_date(submission.created_utc)} [{submission.score:+d} votes]:\n",
    "{submission.selftext}\n",
    "\"\"\"\n",
    "    for top_level_comment in submission.comments:\n",
    "        if isinstance(top_level_comment, MoreComments):\n",
    "            continue\n",
    "\n",
    "        text += f\"\"\"\n",
    "Comment by {top_level_comment.author} on {utc_to_date(top_level_comment.created_utc)} [{top_level_comment.score:+d} votes]:\n",
    "{top_level_comment.body}\n",
    "\"\"\"\n",
    "    return text\n",
    "\n",
    "# print(reddit_thread_to_text(submission))"
   ]
  },
  {
   "cell_type": "markdown",
   "metadata": {},
   "source": [
    "# Summarize with LangChain"
   ]
  },
  {
   "cell_type": "code",
   "execution_count": 55,
   "metadata": {},
   "outputs": [],
   "source": [
    "from langchain_openai import ChatOpenAI\n",
    "from langchain_core.prompts import ChatPromptTemplate\n",
    "\n",
    "# See also\n",
    "# https://www.reddit.com/r/ChatGPT/comments/11twe7z/prompt_to_summarize/\n",
    "# https://www.reddit.com/r/ChatGPT/comments/13na8yp/highly_effective_prompt_for_summarizing_gpt4/\n",
    "\n",
    "prompt = ChatPromptTemplate.from_messages(\n",
    "    [\n",
    "        (\n",
    "            \"system\",\n",
    "            \"\"\"\n",
    "            Please read the following Reddit thread and summarize the key points relating to the COMPANY and PRODUCT specified.\n",
    "            The summary should list the key strengths and weaknesses of the user experience of the PRODUCT, any key strengths and weaknesses of employee experience of the COMPANY, and any key strengths and weaknesses of the business of the COMPANY. \n",
    "            The summary should be evidence-based, for example referencing any specific usernames or quotes from the Reddit thread as appropriate.\n",
    "            The length of the summary should be appropriate for the length and complexity of the original text, providing a clear and accurate overview without omitting any important information.\n",
    "            Format the results as HTML.\n",
    "            \"\"\",\n",
    "        ),\n",
    "        (\n",
    "            \"human\", \n",
    "            \"\"\"\n",
    "            COMPANY: {company}\n",
    "            PRODUCT: {product}\n",
    "            Reddit thread: \n",
    "            {text}\n",
    "            \"\"\"\n",
    "            ),\n",
    "    ]\n",
    ")\n",
    "\n",
    "llm = ChatOpenAI(model=\"gpt-3.5-turbo-0125\", temperature=0)\n",
    "runnable = prompt | llm"
   ]
  },
  {
   "cell_type": "markdown",
   "metadata": {},
   "source": [
    "# Google Search on Reddit for sources"
   ]
  },
  {
   "cell_type": "code",
   "execution_count": 50,
   "metadata": {},
   "outputs": [
    {
     "name": "stdout",
     "output_type": "stream",
     "text": [
      "https://www.reddit.com/r/MMORPG/comments/1bz2e0z/palia_developers_singularity_6_axes_35_of_staff/\n",
      "https://www.reddit.com/r/MMORPG/comments/1dtp97n/daybreak_acquires_singularity_6_palia_developer/\n",
      "https://www.reddit.com/r/pcgaming/comments/1bwiuin/cozy_mmo_palia_developer_singularity_6_has/\n",
      "https://www.reddit.com/r/Palia/comments/15ss9gg/singularity_6_is_not_an_indie_company/\n",
      "https://www.reddit.com/r/CozyGamers/comments/1dt80wx/daybreak_acquires_singularity_6_developer_of_palia/\n",
      "https://www.reddit.com/r/Palia/comments/1dt8dbs/palia_studio_singularity_6_acquired_by_daybreak/\n",
      "https://www.reddit.com/r/Palia/comments/19bqfoy/cant_even_give_singularity_6_my_money/\n",
      "https://www.reddit.com/r/Games/comments/1cu1f7i/palia_studio_singularity_6_confirms_36_workers/\n",
      "https://www.reddit.com/r/Palia/comments/1dt7ujt/daybreak_game_company/\n",
      "https://www.reddit.com/r/MMORPG/comments/obkdoi/singularity_6_raises_30m_to_fund_debut_mmo_game/\n",
      "https://www.reddit.com/r/Palia/comments/18zqxpx/please_singularity_6/\n",
      "https://www.reddit.com/r/Palia/comments/1ctgcw1/more_layoffs_at_s6_teams_down_to_a_few_dozen/\n",
      "https://www.reddit.com/r/PaliaMMO/comments/qn2pqo/singularity_6_is_hiring_like_crazy_for_palia/\n",
      "https://www.reddit.com/r/Palia/comments/1650bkg/we_are_singularity_6_developers_and_publishers_of/\n",
      "https://www.reddit.com/r/Games/comments/nribi0/singularity_6s_palia_is_a_relaxing_mmo/\n",
      "https://www.reddit.com/r/gamingnews/comments/1cu56tf/palia_studio_singularity_6_has_laid_off_36/\n",
      "https://www.reddit.com/r/Palia/comments/1659f6w/list_of_answers_from_singularity_6/\n",
      "https://www.reddit.com/r/Palia/comments/15sufww/repost_open_up_your_eyes/\n",
      "https://www.reddit.com/r/Palia/comments/1dglq9a/cant_reedeem_gift_form_singularity_6_team/\n"
     ]
    }
   ],
   "source": [
    "\n",
    "from googlesearch import search\n",
    "from functools import lru_cache\n",
    "from typing import Iterable\n",
    "import re\n",
    "\n",
    "url_pattern = re.compile(r\".*/comments/.+\")\n",
    "\n",
    "@lru_cache(1000)\n",
    "def reddit_search(target: CompanyProduct, num=10, stop=10, pause=2) -> Iterable[str]:\n",
    "    query = f'site:reddit.com \"{target.company}\"\"'\n",
    "    if target.product != target.company:\n",
    "        query += f' \"{target.product}\"'\n",
    " \n",
    "    return list(url for url in search(query, num=num, stop=stop, pause=pause) if url_pattern.match(url))\n",
    "\n",
    "def test_search():\n",
    "    for url in reddit_search(CompanyProduct(\"Singularity 6\", \"Palia\"), stop=20, pause=2):\n",
    "        print(url)\n",
    "\n",
    "test_search()"
   ]
  },
  {
   "cell_type": "code",
   "execution_count": 56,
   "metadata": {},
   "outputs": [],
   "source": [
    "from typing import NamedTuple\n",
    "from langchain_core.messages.ai import AIMessage\n",
    "\n",
    "def wrap_html(content: str):\n",
    "    return f\"\"\"\n",
    "<html>\n",
    "<body>\n",
    "    {content}\n",
    "</body>\n",
    "</html>\n",
    "\"\"\"\n",
    "\n",
    "class ThreadResult(NamedTuple):\n",
    "    submission: praw.models.Submission\n",
    "    text: str\n",
    "    summary_result: AIMessage\n",
    "\n",
    "    def to_html(self):\n",
    "        text = self.text.replace(\"\\n\", \"<br>\")\n",
    "        summary_html = self.summary_result.content\n",
    "        return f\"\"\"\n",
    "        <h1>{self.submission.title} by {self.submission.author} on {utc_to_date(self.submission.created_utc)}</h1>\n",
    "        <a href=\"{self.submission.url}\">{self.submission.url}</a>\n",
    "        <h2>Summary</h2>\n",
    "        {summary_html}\n",
    "\n",
    "        <h2>Original Thread</h2>\n",
    "        <p>{text}</p>\n",
    "        \"\"\"\n",
    "\n",
    "\n",
    "def process_url(target: CompanyProduct, url: str, text_max_chars=30000) -> ThreadResult:\n",
    "    submission = reddit.submission(url=url)\n",
    "    text = reddit_thread_to_text(submission)\n",
    "\n",
    "    if len(text) > text_max_chars:\n",
    "        print(f\"Text too long: {len(text)} > {text_max_chars}. Truncating.\")\n",
    "        text = text[:text_max_chars]\n",
    "    \n",
    "    summary_result = runnable.invoke({\"text\": text, \"company\": target.company, \"product\": target.product})\n",
    "    return ThreadResult(submission=submission, text=text, summary_result=summary_result)\n"
   ]
  },
  {
   "cell_type": "code",
   "execution_count": 57,
   "metadata": {},
   "outputs": [
    {
     "data": {
      "text/html": [
       "\n",
       "        <h1>Daybreak acquires Singularity 6 (Palia developer) by Kaladinar on 2024-07-02</h1>\n",
       "        <a href=\"https://www.gamesindustry.biz/daybreak-acquires-singularity-6\">https://www.gamesindustry.biz/daybreak-acquires-singularity-6</a>\n",
       "        <h2>Summary</h2>\n",
       "        <html>\n",
       "<head>\n",
       "  <title>Reddit Thread Summary</title>\n",
       "</head>\n",
       "<body>\n",
       "  <h1>Summary of Reddit Thread about Singularity 6 and Palia</h1>\n",
       "  <h2>Key Points:</h2>\n",
       "  <h3>Product: Palia</h3>\n",
       "  <ul>\n",
       "    <li><strong>Strengths:</strong> Initial focus on monetizing cosmetics only, appeal to cozy and crafting game lovers.</li>\n",
       "    <li><strong>Weaknesses:</strong> Poor execution of monetization, lack of charm in the game, perceived as a cash grab, minimal multiplayer interaction, and overall disappointment among players.</li>\n",
       "  </ul>\n",
       "  <h3>Company: Singularity 6</h3>\n",
       "  <ul>\n",
       "    <li><strong>Strengths:</strong> Not explicitly mentioned in the thread.</li>\n",
       "    <li><strong>Weaknesses:</strong> Acquisition by Daybreak viewed negatively, concerns about management decisions, potential negative impact on the game's future.</li>\n",
       "  </ul>\n",
       "  <h3>Business of the Company</h3>\n",
       "  <ul>\n",
       "    <li><strong>Strengths:</strong> Ability to secure funding and acquisitions.</li>\n",
       "    <li><strong>Weaknesses:</strong> Perceived as having poor management, history of shutting down games, concerns about monetization practices, and doubts about the future success of Palia under Daybreak's ownership.</li>\n",
       "  </ul>\n",
       "</body>\n",
       "</html>\n",
       "\n",
       "        <h2>Original Thread</h2>\n",
       "        <p><br>Daybreak acquires Singularity 6 (Palia developer) by Kaladinar on 2024-07-02 [+129 votes]:<br><br><br>Comment by bugsy42 on 2024-07-02 [+260 votes]:<br>Can somebody finally buy Wildstar from NCsoft and re-launch my favorite mmorpg of all times?<br><br>Comment by PartySr on 2024-07-02 [-8 votes]:<br>No surprise here. The game is doing great for what it offers and they can make it even better with more funding.<br><br>Comment by TheGladex on 2024-07-02 [+14 votes]:<br>I mean this game wasn't doing amazing in the first place but yikes<br><br>Comment by Greaterdivinity on 2024-07-02 [+39 votes]:<br>Where the fuck are Daybreak/EG7 getting all this fuckin money? Is My Singing Monsters that fuckin lucrative? (Finally saw an ad for it and holy shit rofl)<br><br>Comment by TommyHamburger on 2024-07-02 [+69 votes]:<br>The devs made a big deal of their monetization model in [a blog](https://palia.com/news/palia-business-model) before release. In short, they only planned to monetize cosmetics, but they'd be up front about changes.  <br><br>Anyone that's played a Daybreak game can tell you that's not how they operate. Pay for convenience, pay to win, etc., whatever you want to call it, it's coming. When I messed with Palia briefly, it seemed like the most obvious cashgrab would be to sell wait time reduction on crafting or building objects. Can't wait to see how they ruin the game.<br><br>Comment by Kofinart on 2024-07-02 [+21 votes]:<br>Not like Palia was doing that well in the first place<br><br>Comment by Cavissi on 2024-07-02 [+51 votes]:<br>Palia was a big miss for me, and I'm basically the intended audience. I love cozy and crafting games, and love mmos. But it had none of the charm that most good cozy games have, and pretty awful monetization.<br><br>Comment by le_Menace on 2024-07-02 [+10 votes]:<br>Daybreak might have the worst management in the industry, my god what a terrible decision.<br><br>Comment by skyshroud6 on 2024-07-02 [+4 votes]:<br>RIP<br><br>Comment by Starbound_Selly on 2024-07-02 [+5 votes]:<br>I remember when Daybreak shut down H1Z1 (Just Survive), the community was shattered. But it was also filled with hackers (from the East, some in america.) <br><br>  <br>But they've also closed over 20 games in their time. (From 1997 to 2018 on the [Wiki](https://en.wikipedia.org/wiki/Daybreak_Game_Company), at least.)<br><br>I've been into Palia for some time, threw a couple bucks into the game because I enjoyed supporting the Devs for the inital launch. But if Daybreak is as hands on as they usually are, this game is going to go one of two ways.<br><br>  <br>1. They stay mostly hands-off, allow S6 team to develop within healthy timeframes and put out content.<br><br>2. They grab unto the game with such force and forcefeed it more in store items (P2w items, convience items, premium pass,etc.)<br><br>  <br>For now? I can't say for sure, but I am biased in my examination of the situation as Daybreak has been horrible about alot of cashgrab things, not caring for titles, etc. Overall, I hope the S6 team does well enough to support their families and relatives. Because while these are game companies, there are people on the team who don't get a say in what happens.<br><br>Comment by LostMinimum8404 on 2024-07-02 [+14 votes]:<br>Palia was such a let down. The devs themselves were greedy and lazy and doubled down when called out about it (like adding a well requested thing behind a paywall) or instead of adding actual meaningful content they add costumes which sucked and were overpriced. Not even to get into the “mmo” aspect of the game. It’s barely a multiplayer you could go your entire Palia career and never talk to a person<br><br>So I can’t say someone else buying them is surprising and I don’t doubt this is the final nail for Palia<br><br>Comment by moosecatlol on 2024-07-02 [+1 votes]:<br>RIP I guess.<br><br>Comment by StarSyth on 2024-07-02 [+1 votes]:<br>RIP Palia<br><br>Comment by _RrezZ_ on 2024-07-02 [+6 votes]:<br>Lmao Daybreak lost all hope of me ever touching anything related to them the day they took my $200 for Landmark and then cancelled the entire project.<br><br>Was also the last time I ever bought a founders edition or similar from a game company.<br><br>Comment by Jakerkun on 2024-07-02 [+2 votes]:<br>looking how  trash this game was...<br><br>Comment by mikegoblin on 2024-07-02 [+1 votes]:<br>I’m curious what intellectual property they had that made this a smart move. Palia sucked really bad<br><br>Comment by PiperPui on 2024-07-02 [+4 votes]:<br>Garbage game being picked up by an mmo graveyard, no surprise.<br><br>Comment by kyleblane on 2024-07-02 [+3 votes]:<br>I'm dying to know how much they paid, and if it's less than the 50 million dollars Palia was developed for.<br><br>Comment by Vizio2 on 2024-07-02 [+1 votes]:<br>Game must have failed then.<br><br>Comment by Macqt on 2024-07-02 [+1 votes]:<br>Well, whether you liked Palia or not, this means it will go to shit as fast as possible.<br><br>Comment by Noximilien01 on 2024-07-02 [+1 votes]:<br>I hadn't try the game<br><br>Im sure as hell not going to now.<br><br>Comment by Ic3b3rgS on 2024-07-03 [+7 votes]:<br>Palia failed as a game and failed their objectives. This is the confirmation. A few years of maintenance mode milking and then shutdown is my prediction.<br><br>Comment by Death2Gnomes on 2024-07-03 [+1 votes]:<br>welcome to the shitshow Palia fans.<br><br>Comment by General-Oven-1523 on 2024-07-03 [+3 votes]:<br>Yikes, but this is probably their only option. Either sell the company or shut it down. The game failed on so many levels, and the developers seemed to be very cocky and ignorant of any constructive critisim around the game. They just wanted an positive echochamber.<br><br>Comment by Vanrax on 2024-07-03 [+1 votes]:<br>Lmao, Palia will die<br><br>Comment by Sand3rok on 2024-07-03 [+3 votes]:<br>Palia so boring, after 10-20h playing, its like other farm simulator, but the same Stardew Valley, being essentially a single-player game, is much more exciting and replayable than this \"MMO\"<br><br>Comment by Webmay on 2024-07-03 [+1 votes]:<br>Honestly that is not a good news.<br>After what they have done (or have they done anything) with Planetside 2..  I see a dark Future.<br><br>Comment by Lindart12 on 2024-07-03 [+1 votes]:<br>This probably means the game will be shut down soon, they didn't buy them cause of the game but instead cause they see potential to make something else.<br><br>Buyouts like this often lead to a new game being produced, and the old one going into cold storage.<br><br>Comment by StatisticianGreat969 on 2024-07-03 [+1 votes]:<br>And…it’s dead (it was already on life support tbh)<br><br>Comment by Zycree on 2024-07-03 [+1 votes]:<br>RIP Palia<br><br>Comment by ZilorZilhaust on 2024-07-04 [+1 votes]:<br>This is good because it really felt like their days were numbered.<br><br>Comment by trypnosis on 2024-07-04 [+1 votes]:<br>Based on what was announced they are going to push more platforms. <br><br>If that’s the case I would enjoy it on other platforms. <br><br>Hope my toon will carry over.<br><br>Comment by dalgimilkis on 2024-07-05 [+1 votes]:<br>How does daybreak have money. That shitty H1z1 company?<br></p>\n",
       "        "
      ],
      "text/plain": [
       "<IPython.core.display.HTML object>"
      ]
     },
     "metadata": {},
     "output_type": "display_data"
    }
   ],
   "source": [
    "from IPython.display import HTML\n",
    "\n",
    "target = CompanyProduct(\"Singularity 6\", \"Palia\")\n",
    "\n",
    "thread_urls = reddit_search(target, stop=10, pause=2)\n",
    "random_url = thread_urls[1]\n",
    "random_thread_result = process_url(target, random_url)\n",
    "display(HTML(random_thread_result.to_html()))"
   ]
  },
  {
   "cell_type": "code",
   "execution_count": 8,
   "metadata": {},
   "outputs": [
    {
     "data": {
      "text/html": [
       "\n",
       "<h1>Prompt</h1>\n",
       "\n",
       "<h2>System prompt</h2>\n",
       "<pre>\n",
       "\n",
       "            You're an expert at reading and summarizing public online discussions.\n",
       "\n",
       "            Please read and summarize the following Reddit thread.\n",
       "            The summary should cover all the key points and main ideas presented in the original text, while also condensing the information into a concise and easy-to-understand format. \n",
       "            Please ensure that the summary includes relevant details and examples that support the main ideas, while avoiding any unnecessary information or repetition. \n",
       "            The length of the summary should be appropriate for the length and complexity of the original text, providing a clear and accurate overview without omitting any important information.\n",
       "            \n",
       "</pre>\n",
       "\n",
       "<h2>Prompt</h2>\n",
       "<pre>\n",
       "\n",
       "            Reddit thread: \n",
       "            {text}\n",
       "            \n",
       "</pre>\n",
       "    "
      ],
      "text/plain": [
       "<IPython.core.display.HTML object>"
      ]
     },
     "metadata": {},
     "output_type": "display_data"
    }
   ],
   "source": [
    "def summarize_prompt(prompt):\n",
    "    return f\"\"\"\n",
    "<h1>Prompt</h1>\n",
    "\n",
    "<h2>System prompt</h2>\n",
    "<pre>\n",
    "{prompt.messages[0].prompt.template}\n",
    "</pre>\n",
    "\n",
    "<h2>Prompt</h2>\n",
    "<pre>\n",
    "{prompt.messages[1].prompt.template}\n",
    "</pre>\n",
    "    \"\"\"\n",
    "\n",
    "display(HTML(summarize_prompt(prompt)))"
   ]
  },
  {
   "cell_type": "code",
   "execution_count": 58,
   "metadata": {},
   "outputs": [
    {
     "name": "stdout",
     "output_type": "stream",
     "text": [
      "Results saved to evaluation/test_67bf/20240726_150511.html\n"
     ]
    }
   ],
   "source": [
    "import hashlib\n",
    "import os\n",
    "\n",
    "def short_evaluation(target: CompanyProduct):\n",
    "    # This is cached so it should be quick\n",
    "    thread_urls = reddit_search(target, stop=10, pause=2)[:2]\n",
    "\n",
    "    # The ID of the test is the last 4 chars of the sha of the url list\n",
    "    test_id = hashlib.sha256(\"\".join(thread_urls).encode()).hexdigest()[-4:]\n",
    "    \n",
    "    folder = f\"evaluation/test_{test_id}\"\n",
    "    os.makedirs(folder, exist_ok=True)\n",
    "\n",
    "    results = [process_url(target, url) for url in thread_urls]\n",
    "    html_result = wrap_html(summarize_prompt(prompt) + \"\\n\".join(r.to_html() for r in results))\n",
    "\n",
    "    # Create the filename using the current timestamp\n",
    "    timestamp = datetime.now().strftime(\"%Y%m%d_%H%M%S\")\n",
    "    filename = f\"{folder}/{timestamp}.html\"\n",
    "\n",
    "    with open(filename, \"w\") as f:\n",
    "        f.write(html_result)\n",
    "\n",
    "    print(f\"Results saved to {filename}\")\n",
    "\n",
    "short_evaluation(CompanyProduct.same(\"98point6\"))\n"
   ]
  },
  {
   "cell_type": "code",
   "execution_count": 47,
   "metadata": {},
   "outputs": [
    {
     "ename": "TypeError",
     "evalue": "process_url() missing 2 required positional arguments: 'product' and 'url'",
     "output_type": "error",
     "traceback": [
      "\u001b[0;31m---------------------------------------------------------------------------\u001b[0m",
      "\u001b[0;31mTypeError\u001b[0m                                 Traceback (most recent call last)",
      "Cell \u001b[0;32mIn[47], line 28\u001b[0m\n\u001b[1;32m     25\u001b[0m     \u001b[38;5;28mprint\u001b[39m(\u001b[38;5;124mf\u001b[39m\u001b[38;5;124m\"\u001b[39m\u001b[38;5;124mResults saved to \u001b[39m\u001b[38;5;132;01m{\u001b[39;00mfilename\u001b[38;5;132;01m}\u001b[39;00m\u001b[38;5;124m\"\u001b[39m)\n\u001b[1;32m     27\u001b[0m \u001b[38;5;66;03m# TODO: Update this once we have company-product pairs instead\u001b[39;00m\n\u001b[0;32m---> 28\u001b[0m \u001b[43mlong_evaluation\u001b[49m\u001b[43m(\u001b[49m\u001b[43m[\u001b[49m\u001b[43mCompanyProduct\u001b[49m\u001b[38;5;241;43m.\u001b[39;49m\u001b[43msame\u001b[49m\u001b[43m(\u001b[49m\u001b[38;5;124;43m\"\u001b[39;49m\u001b[38;5;124;43m98point6\u001b[39;49m\u001b[38;5;124;43m\"\u001b[39;49m\u001b[43m)\u001b[49m\u001b[43m,\u001b[49m\u001b[43m \u001b[49m\u001b[43mCompanyProduct\u001b[49m\u001b[38;5;241;43m.\u001b[39;49m\u001b[43msame\u001b[49m\u001b[43m(\u001b[49m\u001b[38;5;124;43m\"\u001b[39;49m\u001b[38;5;124;43mRad AI\u001b[39;49m\u001b[38;5;124;43m\"\u001b[39;49m\u001b[43m)\u001b[49m\u001b[43m,\u001b[49m\u001b[43m \u001b[49m\u001b[43mCompanyProduct\u001b[49m\u001b[43m(\u001b[49m\u001b[38;5;124;43m\"\u001b[39;49m\u001b[38;5;124;43mSingularity 6\u001b[39;49m\u001b[38;5;124;43m\"\u001b[39;49m\u001b[43m,\u001b[49m\u001b[43m \u001b[49m\u001b[38;5;124;43m\"\u001b[39;49m\u001b[38;5;124;43mPalia\u001b[39;49m\u001b[38;5;124;43m\"\u001b[39;49m\u001b[43m)\u001b[49m\u001b[43m,\u001b[49m\u001b[43m \u001b[49m\u001b[43mCompanyProduct\u001b[49m\u001b[38;5;241;43m.\u001b[39;49m\u001b[43msame\u001b[49m\u001b[43m(\u001b[49m\u001b[38;5;124;43m\"\u001b[39;49m\u001b[38;5;124;43mInstacart\u001b[39;49m\u001b[38;5;124;43m\"\u001b[39;49m\u001b[43m)\u001b[49m\u001b[43m]\u001b[49m\u001b[43m)\u001b[49m\n",
      "Cell \u001b[0;32mIn[47], line 15\u001b[0m, in \u001b[0;36mlong_evaluation\u001b[0;34m(companies)\u001b[0m\n\u001b[1;32m     13\u001b[0m \u001b[38;5;28;01mfor\u001b[39;00m company, results \u001b[38;5;129;01min\u001b[39;00m \u001b[38;5;28mzip\u001b[39m(companies, thread_lists):\n\u001b[1;32m     14\u001b[0m     html_result \u001b[38;5;241m+\u001b[39m\u001b[38;5;241m=\u001b[39m \u001b[38;5;124mf\u001b[39m\u001b[38;5;124m\"\u001b[39m\u001b[38;5;124m<h1>\u001b[39m\u001b[38;5;132;01m{\u001b[39;00mcompany\u001b[38;5;132;01m}\u001b[39;00m\u001b[38;5;124m</h1>\u001b[39m\u001b[38;5;124m\"\u001b[39m\n\u001b[0;32m---> 15\u001b[0m     results \u001b[38;5;241m=\u001b[39m [process_url(url) \u001b[38;5;28;01mfor\u001b[39;00m url \u001b[38;5;129;01min\u001b[39;00m results]\n\u001b[1;32m     16\u001b[0m     html_result \u001b[38;5;241m+\u001b[39m\u001b[38;5;241m=\u001b[39m \u001b[38;5;124m\"\u001b[39m\u001b[38;5;130;01m\\n\u001b[39;00m\u001b[38;5;124m\"\u001b[39m\u001b[38;5;241m.\u001b[39mjoin(r\u001b[38;5;241m.\u001b[39mto_html() \u001b[38;5;28;01mfor\u001b[39;00m r \u001b[38;5;129;01min\u001b[39;00m results)\n\u001b[1;32m     18\u001b[0m \u001b[38;5;66;03m# Create the filename using the current timestamp\u001b[39;00m\n",
      "Cell \u001b[0;32mIn[47], line 15\u001b[0m, in \u001b[0;36m<listcomp>\u001b[0;34m(.0)\u001b[0m\n\u001b[1;32m     13\u001b[0m \u001b[38;5;28;01mfor\u001b[39;00m company, results \u001b[38;5;129;01min\u001b[39;00m \u001b[38;5;28mzip\u001b[39m(companies, thread_lists):\n\u001b[1;32m     14\u001b[0m     html_result \u001b[38;5;241m+\u001b[39m\u001b[38;5;241m=\u001b[39m \u001b[38;5;124mf\u001b[39m\u001b[38;5;124m\"\u001b[39m\u001b[38;5;124m<h1>\u001b[39m\u001b[38;5;132;01m{\u001b[39;00mcompany\u001b[38;5;132;01m}\u001b[39;00m\u001b[38;5;124m</h1>\u001b[39m\u001b[38;5;124m\"\u001b[39m\n\u001b[0;32m---> 15\u001b[0m     results \u001b[38;5;241m=\u001b[39m [\u001b[43mprocess_url\u001b[49m\u001b[43m(\u001b[49m\u001b[43murl\u001b[49m\u001b[43m)\u001b[49m \u001b[38;5;28;01mfor\u001b[39;00m url \u001b[38;5;129;01min\u001b[39;00m results]\n\u001b[1;32m     16\u001b[0m     html_result \u001b[38;5;241m+\u001b[39m\u001b[38;5;241m=\u001b[39m \u001b[38;5;124m\"\u001b[39m\u001b[38;5;130;01m\\n\u001b[39;00m\u001b[38;5;124m\"\u001b[39m\u001b[38;5;241m.\u001b[39mjoin(r\u001b[38;5;241m.\u001b[39mto_html() \u001b[38;5;28;01mfor\u001b[39;00m r \u001b[38;5;129;01min\u001b[39;00m results)\n\u001b[1;32m     18\u001b[0m \u001b[38;5;66;03m# Create the filename using the current timestamp\u001b[39;00m\n",
      "\u001b[0;31mTypeError\u001b[0m: process_url() missing 2 required positional arguments: 'product' and 'url'"
     ]
    }
   ],
   "source": [
    "from typing import List\n",
    "\n",
    "def long_evaluation(targets: List[CompanyProduct]):\n",
    "    thread_lists = [reddit_search(target, stop=10, pause=2)[:3] for target in targets]\n",
    "\n",
    "    test_id = hashlib.sha256((str(targets) + str(thread_lists)).encode()).hexdigest()[-4:]\n",
    "\n",
    "    folder = f\"evaluation/test_{test_id}\"\n",
    "    os.makedirs(folder, exist_ok=True)\n",
    "\n",
    "    html_result = summarize_prompt(prompt)\n",
    "\n",
    "    for target, results in zip(targets, thread_lists):\n",
    "        html_result += f\"<h1>{target.company}: {target.product}</h1>\"\n",
    "        results = [process_url(target, url) for url in results]\n",
    "        html_result += \"\\n\".join(r.to_html() for r in results)\n",
    "\n",
    "    # Create the filename using the current timestamp\n",
    "    timestamp = datetime.now().strftime(\"%Y%m%d_%H%M%S\")\n",
    "    filename = f\"{folder}/{timestamp}.html\"\n",
    "\n",
    "    with open(filename, \"w\") as f:\n",
    "        f.write(html_result)\n",
    "\n",
    "    print(f\"Results saved to {filename}\")\n",
    "\n",
    "# TODO: Update this once we have company-product pairs instead\n",
    "long_evaluation([CompanyProduct.same(\"98point6\"), CompanyProduct.same(\"Rad AI\"), CompanyProduct(\"Singularity 6\", \"Palia\"), CompanyProduct.same(\"Instacart\")])"
   ]
  },
  {
   "cell_type": "code",
   "execution_count": 46,
   "metadata": {},
   "outputs": [
    {
     "data": {
      "text/plain": [
       "CompanyProduct(company='98point6', product='98point6')"
      ]
     },
     "execution_count": 46,
     "metadata": {},
     "output_type": "execute_result"
    }
   ],
   "source": []
  },
  {
   "cell_type": "code",
   "execution_count": null,
   "metadata": {},
   "outputs": [],
   "source": []
  }
 ],
 "metadata": {
  "kernelspec": {
   "display_name": "Python 3",
   "language": "python",
   "name": "python3"
  },
  "language_info": {
   "codemirror_mode": {
    "name": "ipython",
    "version": 3
   },
   "file_extension": ".py",
   "mimetype": "text/x-python",
   "name": "python",
   "nbconvert_exporter": "python",
   "pygments_lexer": "ipython3",
   "version": "3.10.12"
  }
 },
 "nbformat": 4,
 "nbformat_minor": 2
}
