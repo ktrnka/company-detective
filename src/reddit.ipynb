{
 "cells": [
  {
   "cell_type": "markdown",
   "metadata": {},
   "source": [
    "# Reddit"
   ]
  },
  {
   "cell_type": "code",
   "execution_count": 1,
   "metadata": {},
   "outputs": [],
   "source": [
    "import praw\n",
    "from dotenv import load_dotenv\n",
    "import os\n",
    "\n",
    "load_dotenv()\n",
    "\n",
    "reddit = praw.Reddit(\n",
    "    client_id=os.environ[\"REDDIT_CLIENT_ID\"],\n",
    "    client_secret=os.environ[\"REDDIT_CLIENT_SECRET\"],\n",
    "    user_agent=\"Comment Extraction (by u/trnka)\",\n",
    ")\n"
   ]
  },
  {
   "cell_type": "markdown",
   "metadata": {},
   "source": [
    "# Design notes\n",
    "\n",
    "1. Transform the product name into an appropriate query\n",
    "2. Google search reddit.com with the query (possibly multiple time windows - alltime, 1y, 1m?)\n",
    "3. Process each post:\n",
    "    - Pull the top post\n",
    "    - Pull any comments\n",
    "    - Identify whether the post is primarily about the product, jobs at the company, or bizdev\n",
    "4. Summarize the product-related posts:\n",
    "    - Timeline of posts with titles and one key excerpt, linking to the original. Also include the amount of activity on the post and the score"
   ]
  },
  {
   "cell_type": "code",
   "execution_count": 10,
   "metadata": {},
   "outputs": [],
   "source": [
    "# Helper to convert a Reddit thread to text\n",
    "from datetime import datetime\n",
    "from praw.models import MoreComments\n",
    "\n",
    "DATE_FORMAT = \"%Y-%m-%d\"\n",
    "def utc_to_date(utc: float):\n",
    "    return datetime.utcfromtimestamp(utc).strftime(DATE_FORMAT)\n",
    "\n",
    "def reddit_thread_to_text(submission):\n",
    "    submission.comments.replace_more(limit=10)\n",
    "\n",
    "    text = f\"\"\"\n",
    "{submission.title} by {submission.author} on {utc_to_date(submission.created_utc)} [{submission.score:+d} votes]:\n",
    "{submission.selftext}\n",
    "\"\"\"\n",
    "    for top_level_comment in submission.comments:\n",
    "        if isinstance(top_level_comment, MoreComments):\n",
    "            continue\n",
    "\n",
    "        text += f\"\"\"\n",
    "Comment by {top_level_comment.author} on {utc_to_date(top_level_comment.created_utc)} [{top_level_comment.score:+d} votes]:\n",
    "{top_level_comment.body}\n",
    "\"\"\"\n",
    "    return text\n",
    "\n",
    "# print(reddit_thread_to_text(submission))"
   ]
  },
  {
   "cell_type": "markdown",
   "metadata": {},
   "source": [
    "# Summarize with LangChain"
   ]
  },
  {
   "cell_type": "code",
   "execution_count": 4,
   "metadata": {},
   "outputs": [],
   "source": [
    "from langchain_openai import ChatOpenAI\n",
    "from langchain_core.prompts import ChatPromptTemplate\n",
    "\n",
    "# See also\n",
    "# https://www.reddit.com/r/ChatGPT/comments/11twe7z/prompt_to_summarize/\n",
    "# https://www.reddit.com/r/ChatGPT/comments/13na8yp/highly_effective_prompt_for_summarizing_gpt4/\n",
    "\n",
    "prompt = ChatPromptTemplate.from_messages(\n",
    "    [\n",
    "        (\n",
    "            \"system\",\n",
    "            \"\"\"\n",
    "            You're an expert at reading and summarizing public online discussions.\n",
    "\n",
    "            Please read and summarize the following Reddit thread.\n",
    "            The summary should cover all the key points and main ideas presented in the original text, while also condensing the information into a concise and easy-to-understand format. \n",
    "            Please ensure that the summary includes relevant details and examples that support the main ideas, while avoiding any unnecessary information or repetition. \n",
    "            The length of the summary should be appropriate for the length and complexity of the original text, providing a clear and accurate overview without omitting any important information.\n",
    "            \"\"\",\n",
    "        ),\n",
    "        (\n",
    "            \"human\", \n",
    "            \"\"\"\n",
    "            Reddit thread: \n",
    "            {text}\n",
    "            \"\"\"\n",
    "            ),\n",
    "    ]\n",
    ")\n",
    "\n",
    "llm = ChatOpenAI(model=\"gpt-3.5-turbo-0125\", temperature=0)\n",
    "runnable = prompt | llm"
   ]
  },
  {
   "cell_type": "markdown",
   "metadata": {},
   "source": [
    "# Google Search on Reddit for sources"
   ]
  },
  {
   "cell_type": "code",
   "execution_count": 5,
   "metadata": {},
   "outputs": [
    {
     "name": "stdout",
     "output_type": "stream",
     "text": [
      "https://www.reddit.com/r/povertyfinance/comments/bg7ip2/internet_medicine_is_awesome_98point6_was_so_so/\n",
      "https://www.reddit.com/r/Chipotle/comments/l5bbt9/has_anyone_used_the_98point6_primary_care/\n",
      "https://www.reddit.com/r/AmazonFC/comments/rgxxbw/has_anyone_used_amazon_care_app_or_98point6_app/\n",
      "https://www.reddit.com/r/AmazonFC/comments/nqrtaw/98point6/\n",
      "https://www.reddit.com/r/depressionregimens/comments/bko5k9/psa_98point6_is_an_amazing_app_for_medication/\n",
      "https://www.reddit.com/r/CostcoEmployee/comments/11wu6zh/anyone_use_98point6_are_they_helpful_better_than/\n",
      "https://www.reddit.com/r/WalgreensStores/comments/14n48uy/virtual_doctor/\n",
      "https://www.reddit.com/r/TTC_PCOS/comments/ipmklh/98point6_pcos_appointment_experience/\n",
      "https://www.reddit.com/r/QuikTrip/comments/u2j0ut/my_apologies_for_any_bad_links_qt_is_fully/\n",
      "https://www.reddit.com/r/tretinoin/comments/lx0zjb/didnt_have_to_walk_into_a_dermatologist_or_even_a/\n",
      "https://www.reddit.com/r/AmazonFC/comments/nqxfli/besides_using_98point6any_other_recommend_apps/\n",
      "https://www.reddit.com/r/WalgreensRx/comments/1c4taut/finally_took_the_plunge/\n",
      "https://www.reddit.com/r/AmazonFC/comments/pp1x0w/currently_sick_and_called_erc_to_get_the_5_days/\n",
      "https://www.reddit.com/r/PortlandOregon/comments/199tcbx/98point6_acquires_assets_from_portland_telehealth/\n",
      "https://www.reddit.com/r/AmazonFC/comments/18t2txn/amazon_fake_dr_note/\n",
      "https://www.reddit.com/r/povertyfinance/comments/elryxp/ive_compiled_all_the_lowcost_medical_resources/\n",
      "https://www.reddit.com/r/adhdmeme/comments/y7elk6/they_dont_like_telehealth_providers_apparently/\n",
      "https://www.reddit.com/r/SeattleWA/comments/ixlce3/sams_club_partners_with_seattle_startup_98point6/\n",
      "https://www.reddit.com/r/FASCAmazon/comments/13qxbh6/fired/\n",
      "https://www.reddit.com/r/remoteworks/comments/1bmws8q/98point6_is_hiring_software_development_engineer/\n"
     ]
    }
   ],
   "source": [
    "\n",
    "from googlesearch import search\n",
    "from functools import lru_cache\n",
    "from typing import Iterable\n",
    "\n",
    "@lru_cache(1000)\n",
    "def reddit_search(query: str, num=10, stop=10, pause=2) -> Iterable[str]:\n",
    "    query = f'site:reddit.com \"{query}\"\"'\n",
    " \n",
    "    return list(search(query, num=num, stop=stop, pause=pause))\n",
    "\n",
    "def test_search():\n",
    "    for url in reddit_search(\"98point6\", stop=20, pause=2):\n",
    "        print(url)\n",
    "\n",
    "test_search()"
   ]
  },
  {
   "cell_type": "code",
   "execution_count": 6,
   "metadata": {},
   "outputs": [],
   "source": [
    "from typing import NamedTuple\n",
    "from langchain_core.messages.ai import AIMessage\n",
    "\n",
    "def wrap_html(content: str):\n",
    "    return f\"\"\"\n",
    "<html>\n",
    "<body>\n",
    "    {content}\n",
    "</body>\n",
    "</html>\n",
    "\"\"\"\n",
    "\n",
    "class ThreadResult(NamedTuple):\n",
    "    submission: praw.models.Submission\n",
    "    text: str\n",
    "    summary_result: AIMessage\n",
    "\n",
    "    def to_html(self):\n",
    "        text = self.text.replace(\"\\n\", \"<br>\")\n",
    "        return f\"\"\"\n",
    "    <h1>{self.submission.title} by {self.submission.author} on {utc_to_date(self.submission.created_utc)}</h1>\n",
    "    <a href=\"{self.submission.url}\">{self.submission.url}</a>\n",
    "    <h2>Summary</h2>\n",
    "    <p>{self.summary_result.content}</p>\n",
    "\n",
    "    <h2>Original Thread</h2>\n",
    "    <p>{text}</p>\n",
    "\"\"\"\n",
    "\n",
    "def process_url(url: str) -> ThreadResult:\n",
    "    submission = reddit.submission(url=url)\n",
    "    text = reddit_thread_to_text(submission)\n",
    "    summary_result = runnable.invoke({\"text\": text})\n",
    "    return ThreadResult(submission=submission, text=text, summary_result=summary_result)\n"
   ]
  },
  {
   "cell_type": "code",
   "execution_count": 7,
   "metadata": {},
   "outputs": [
    {
     "data": {
      "text/html": [
       "\n",
       "    <h1>Has anyone used the 98point6 primary care? by pinkmoonbliss on 2021-01-26</h1>\n",
       "    <a href=\"https://www.reddit.com/r/Chipotle/comments/l5bbt9/has_anyone_used_the_98point6_primary_care/\">https://www.reddit.com/r/Chipotle/comments/l5bbt9/has_anyone_used_the_98point6_primary_care/</a>\n",
       "    <h2>Summary</h2>\n",
       "    <p>The Reddit thread discusses experiences with the 98point6 primary care service, particularly in relation to depression treatment. \n",
       "\n",
       "- The original poster is considering using 98point6 for depression treatment, highlighting the 24/7 doctor program aspect.\n",
       "- A supportive comment encourages seeking help for depression and emphasizes the importance of a positive mindset and support from trusted individuals.\n",
       "- Another user appreciates the accessibility of 98point6 for physical health issues but questions its capability for mental health care, suggesting Employee Assistance Programs (EAP) as an alternative for mental health resources.\n",
       "- A critical comment labels 98point6 as \"total garbage,\" mentioning a reluctance to prescribe medications online and suggesting personal preference for ordering medications from Canada or Mexico.\n",
       "\n",
       "Overall, the thread showcases a mix of opinions on the effectiveness and scope of services provided by 98point6, with some users finding it beneficial for physical health but questioning its suitability for mental health issues, while others express dissatisfaction with the prescription practices.</p>\n",
       "\n",
       "    <h2>Original Thread</h2>\n",
       "    <p><br>Has anyone used the 98point6 primary care? by pinkmoonbliss on 2021-01-26 [+13 votes]:<br>It’s the 24/7 doctor program and been thinking about using it for depression treatment<br><br>Comment by None on 2021-01-26 [+9 votes]:<br>I haven’t but good for you for getting your life on track. Depression is a hard thing to get through but with the right mindset and helpful support from those you trust around you, I believe you will do amazing things! Keep riding the grind train💪🏼💪🏼💪🏼<br><br>Comment by Somethingtacos on 2021-01-27 [+2 votes]:<br>I really appreciate the accessibility of it. I have only used it for physical health issues. I don't know if 98point6 actually can provide mental healthcsre tbh.<br><br>If it can't, ask your manager about EAP. It can help connect you to some resources, if not a (temporary) counselor.<br><br>Comment by AntRed666 on 2023-06-17 [+1 votes]:<br>Total garbage, they rarely prescribe any meds online and tell you to go to a clinic. I just choose to order my meds online from Canada or Mexico.<br></p>\n"
      ],
      "text/plain": [
       "<IPython.core.display.HTML object>"
      ]
     },
     "metadata": {},
     "output_type": "display_data"
    }
   ],
   "source": [
    "from IPython.display import HTML\n",
    "\n",
    "thread_urls = reddit_search(\"98point6\", stop=20, pause=2)\n",
    "random_url = thread_urls[1]\n",
    "random_thread_result = process_url(random_url)\n",
    "display(HTML(random_thread_result.to_html()))"
   ]
  },
  {
   "cell_type": "code",
   "execution_count": 8,
   "metadata": {},
   "outputs": [
    {
     "data": {
      "text/html": [
       "\n",
       "<h1>Prompt</h1>\n",
       "\n",
       "<h2>System prompt</h2>\n",
       "<pre>\n",
       "\n",
       "            You're an expert at reading and summarizing public online discussions.\n",
       "\n",
       "            Please read and summarize the following Reddit thread.\n",
       "            The summary should cover all the key points and main ideas presented in the original text, while also condensing the information into a concise and easy-to-understand format. \n",
       "            Please ensure that the summary includes relevant details and examples that support the main ideas, while avoiding any unnecessary information or repetition. \n",
       "            The length of the summary should be appropriate for the length and complexity of the original text, providing a clear and accurate overview without omitting any important information.\n",
       "            \n",
       "</pre>\n",
       "\n",
       "<h2>Prompt</h2>\n",
       "<pre>\n",
       "\n",
       "            Reddit thread: \n",
       "            {text}\n",
       "            \n",
       "</pre>\n",
       "    "
      ],
      "text/plain": [
       "<IPython.core.display.HTML object>"
      ]
     },
     "metadata": {},
     "output_type": "display_data"
    }
   ],
   "source": [
    "def summarize_prompt(prompt):\n",
    "    return f\"\"\"\n",
    "<h1>Prompt</h1>\n",
    "\n",
    "<h2>System prompt</h2>\n",
    "<pre>\n",
    "{prompt.messages[0].prompt.template}\n",
    "</pre>\n",
    "\n",
    "<h2>Prompt</h2>\n",
    "<pre>\n",
    "{prompt.messages[1].prompt.template}\n",
    "</pre>\n",
    "    \"\"\"\n",
    "\n",
    "display(HTML(summarize_prompt(prompt)))"
   ]
  },
  {
   "cell_type": "code",
   "execution_count": 11,
   "metadata": {},
   "outputs": [],
   "source": [
    "import hashlib\n",
    "import os\n",
    "\n",
    "def short_evaluation(company_name: str):\n",
    "    # This is cached so it should be quick\n",
    "    thread_urls = reddit_search(company_name, stop=10, pause=2)[:2]\n",
    "\n",
    "    # The ID of the test is the last 4 chars of the sha of the url list\n",
    "    test_id = hashlib.sha256(\"\".join(thread_urls).encode()).hexdigest()[-4:]\n",
    "    \n",
    "    folder = f\"evaluation/test_{test_id}\"\n",
    "    os.makedirs(folder, exist_ok=True)\n",
    "\n",
    "    results = [process_url(url) for url in thread_urls]\n",
    "    html_result = wrap_html(summarize_prompt(prompt) + \"\\n\".join(r.to_html() for r in results))\n",
    "\n",
    "    # Create the filename using the current timestamp\n",
    "    timestamp = datetime.now().strftime(\"%Y%m%d_%H%M%S\")\n",
    "    filename = f\"{folder}/{timestamp}.html\"\n",
    "\n",
    "    with open(filename, \"w\") as f:\n",
    "        f.write(html_result)\n",
    "\n",
    "short_evaluation(\"98point6\")\n"
   ]
  },
  {
   "cell_type": "code",
   "execution_count": 14,
   "metadata": {},
   "outputs": [],
   "source": [
    "from typing import List\n",
    "\n",
    "def long_evaluation(companies: List[str]):\n",
    "    thread_lists = [reddit_search(company, stop=10, pause=2)[:3] for company in companies]\n",
    "\n",
    "    test_id = hashlib.sha256((str(companies) + str(thread_lists)).encode()).hexdigest()[-4:]\n",
    "\n",
    "    folder = f\"evaluation/test_{test_id}\"\n",
    "    os.makedirs(folder, exist_ok=True)\n",
    "\n",
    "    html_result = summarize_prompt(prompt)\n",
    "\n",
    "    for company, results in zip(companies, thread_lists):\n",
    "        html_result += f\"<h1>{company}</h1>\"\n",
    "        results = [process_url(url) for url in results]\n",
    "        html_result += \"\\n\".join(r.to_html() for r in results)\n",
    "\n",
    "    # Create the filename using the current timestamp\n",
    "    timestamp = datetime.now().strftime(\"%Y%m%d_%H%M%S\")\n",
    "    filename = f\"{folder}/{timestamp}.html\"\n",
    "\n",
    "    with open(filename, \"w\") as f:\n",
    "        f.write(html_result)\n",
    "\n",
    "long_evaluation([\"98point6\", \"Rad AI\"])"
   ]
  },
  {
   "cell_type": "code",
   "execution_count": null,
   "metadata": {},
   "outputs": [],
   "source": []
  }
 ],
 "metadata": {
  "kernelspec": {
   "display_name": "Python 3",
   "language": "python",
   "name": "python3"
  },
  "language_info": {
   "codemirror_mode": {
    "name": "ipython",
    "version": 3
   },
   "file_extension": ".py",
   "mimetype": "text/x-python",
   "name": "python",
   "nbconvert_exporter": "python",
   "pygments_lexer": "ipython3",
   "version": "3.10.12"
  }
 },
 "nbformat": 4,
 "nbformat_minor": 2
}
