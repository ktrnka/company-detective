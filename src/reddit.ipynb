{
 "cells": [
  {
   "cell_type": "markdown",
   "metadata": {},
   "source": [
    "# Reddit"
   ]
  },
  {
   "cell_type": "code",
   "execution_count": 2,
   "metadata": {},
   "outputs": [],
   "source": [
    "import praw\n",
    "from dotenv import load_dotenv\n",
    "import os\n",
    "\n",
    "load_dotenv()\n",
    "\n",
    "reddit = praw.Reddit(\n",
    "    client_id=os.environ[\"REDDIT_CLIENT_ID\"],\n",
    "    client_secret=os.environ[\"REDDIT_CLIENT_SECRET\"],\n",
    "    user_agent=\"Comment Extraction (by u/trnka)\",\n",
    ")\n"
   ]
  },
  {
   "cell_type": "code",
   "execution_count": 6,
   "metadata": {},
   "outputs": [
    {
     "name": "stdout",
     "output_type": "stream",
     "text": [
      "\n",
      "[9] Comment by None:\n",
      "That sounds like a great resource! Especially for my two most common ailments, pink eye (I work with kids, they’re gross) and strep. Thanks for sharing\n",
      "\n",
      "\n",
      "\n",
      "\n",
      "[1] Comment by rassmann:\n",
      "General mod note:  See users disclaimer at the top, YMMV!\n",
      "\n",
      "\n",
      "\n",
      "\n",
      "[3] Comment by AnotherDay_RS:\n",
      "Sounds like a great service but what i don't understand is, If they cannot prescribe you the medication due to ie; controlled substance etc. Why is she giving you price to purchase it under GoodRX?\n",
      "\n",
      "Sorry that part wasn't clear to me, I thought you needed a doctor approval to prescribe controlled substances.\n",
      "\n",
      "\n",
      "\n",
      "\n",
      "[3] Comment by MarketWorldly9908:\n",
      "My husband and I have used 98.6 three times. All three times they did not prescribe the needed antibiotic to get better. I had an ear infection, my husband had an ear infection, then I had a sinus infection. We had to wait and get into our family doctor, so we paid 98.6 and our family doctor. I would not recommend them!\n",
      "\n",
      "\n",
      "\n",
      "\n",
      "[2] Comment by NightSkyButterfly:\n",
      "I'm not sure where your old prescription on file is, but I know at the big box pharmacy I used to work at we could send an electronic request to the doctor to write a new script without a visit. Doesn't always work, but worth a try for a med you need!\n",
      "\n",
      "\n",
      "\n",
      "\n",
      "[1] Comment by Sweetcynic36:\n",
      "Helped me get paxlovid for covid more quickly than I otherwise would have been able to. Win win.\n",
      "\n",
      "\n",
      "\n",
      "\n",
      "[1] Comment by prettyclouds88:\n",
      "Thank you for this.\n",
      "\n",
      "\n",
      "\n"
     ]
    }
   ],
   "source": [
    "submission = reddit.submission(url=\"https://www.reddit.com/r/povertyfinance/comments/bg7ip2/internet_medicine_is_awesome_98point6_was_so_so/\")\n",
    "\n",
    "from praw.models import MoreComments\n",
    "\n",
    "submission.comments.replace_more(limit=10)\n",
    "for top_level_comment in submission.comments:\n",
    "    if isinstance(top_level_comment, MoreComments):\n",
    "        continue\n",
    "\n",
    "    print(f\"\"\"\n",
    "[{top_level_comment.score}] Comment by {top_level_comment.author}:\n",
    "{top_level_comment.body.strip()}\n",
    "\n",
    "\n",
    "\"\"\")\n"
   ]
  },
  {
   "cell_type": "code",
   "execution_count": 8,
   "metadata": {},
   "outputs": [
    {
     "data": {
      "text/plain": [
       "('Internet medicine is awesome, 98point6 was so so helpful for me',\n",
       " '**TL;DR- $20 got me an awesome appointment with a nice doctor and a prescription for a medication I could afford that solved my issue.**\\n\\n*Disclaimer: This particular thing worked well for me so I\\'m going to tell you about it. Everyone is different, so it might not work as well (or at all) for you.  Take what you find useful from this post and ignore the rest.  I\\'m not compensated or connected to the website I\\'m discussing.*\\n\\nSo like a lot of people on here I\\'m usually either uninsured or underinsured.  Right now it\\'s underinsured with a high deductible, so when I messed my back up badly enough that I could barely move I freaked.  I\\'ve got scoliosis, a fucked up spine, bad knees, and muscles that love to spasm uncontrollably for days on end.  I\\'d run out of my prescription muscle relaxants last fall and hadn\\'t been able to afford another appointment.  Advil helps a little but it wears off in 4 hours so I kept waking up in pain, and for some reason Aleve has never worked for me.  Just doesn\\'t, it\\'s weird.\\n\\nSo I was fucked.  Can\\'t sleep, hurts like crazy, still gotta work.  Fuck.  Can\\'t afford the $100+ for a doctor\\'s appointment, plus taking the day off to get into the next town over where there\\'s a walk in clinic that can take me on short notice.  Fuck fuck.  Bad.\\n\\nSo I drank several glasses of wine and started googling \"how to get a prescription online.\"  There are some pretty sketchy (and expensive) options that I am pretty sure are hella illegal, and then I see a result for [98point6.com](https://98point6.com).  It\\'s $20 for a one year membership with unlimited online appointments ($120 for the second year unless I cancel before then).  Fuck it, I\\'m drunk enough to sleep tonight, if I\\'m still in bad shape tomorrow morning it\\'s worth a try.  I was still in bad shape the next morning, so I did it.\\n\\nGuys, it was amazing.  It\\'s not perfect, obviously- you need an internet connection and either a phone or  computer with webcam.  I chatted with some weird robot for 10 minutes or so and answered questions about what my problem was, then I got connected to this nice doctor lady and we talked over the webcam for... 10 minutes maybe?   about what was going on, what I\\'d already tried, what I knew from my own medical history likely wouldn\\'t help.  She was so kind, and didn\\'t make me feel dumb or worthless for not being able to afford a full price doctor\\'s appointment in my town.  She said that even people who do have a local PCP use their service because it\\'s faster and cheaper and easier than an office visit.  (One limitation of internet medicine is that they can\\'t prescribe controlled substances, or medications with high potential for abuse which apparently includes the muscle relaxant I usually took.)   She recommended a prescription anti-inflammatory that lasts for 12 hours, since the muscle relaxant I\\'d taken in the past wasn\\'t an option to have prescribed over the internet. And then I said the thing I hate saying- \"This sounds like a good option, but cost is a big issue for me.  What\\'s the usual price of this med out of pocket?\"\\n\\nUsually when I ask that the doctor says something shitty like \"well it\\'s what I normally prescribe for someone in your situation, the cost you\\'ll pay varies based on the pharmacy and your insurance. Unfortunately I can\\'t estimate your cost.\"  This lady did not.\\n\\nThis amazing awesome doctor picked up her iPhone and said \"I have an app for a website called GoodRx, if you give me your zip code I\\'ll let you know what this will cost at the pharmacies in your area using their discount program. If this medication is out of your price range there are a few other things that would work just as well and might be more affordable.\"  She didn\\'t shame me for being poor, she was actively prepared to address the needs of people who have limited funds, and she was willing to spend her time to find a medication I could afford.  Happily, the med she prescribed was under $15 for a 1 month supply through GoodRx, hooray!  (I know that\\'s a lot for some people, but it was doable for me.)\\n\\nI would 100% use 98point6 again, especially since my $20 gets me unlimited visits for a year.  It\\'s not the right place to go for a broken arm, but for prescription anti-inflammatories or antibiotics for your 3rd UTI of the year or something pretty basic it\\'s a good low cost option.   And not having to leave the house to talk to a doctor was really really great.\\n\\nIf anyone else has recommendations or critiques or thoughts on internet medicine stuff I\\'d love to hear it.')"
      ]
     },
     "execution_count": 8,
     "metadata": {},
     "output_type": "execute_result"
    }
   ],
   "source": [
    "submission.title, submission.selftext"
   ]
  },
  {
   "cell_type": "markdown",
   "metadata": {},
   "source": [
    "# Design notes\n",
    "\n",
    "1. Transform the product name into an appropriate query\n",
    "2. Google search reddit.com with the query (possibly multiple time windows - alltime, 1y, 1m?)\n",
    "3. Process each post:\n",
    "    - Pull the top post\n",
    "    - Pull any comments\n",
    "    - Identify whether the post is primarily about the product, jobs at the company, or bizdev\n",
    "4. Summarize the product-related posts:\n",
    "    - Timeline of posts with titles and one key excerpt, linking to the original. Also include the amount of activity on the post and the score"
   ]
  },
  {
   "cell_type": "markdown",
   "metadata": {},
   "source": []
  },
  {
   "cell_type": "markdown",
   "metadata": {},
   "source": []
  },
  {
   "cell_type": "code",
   "execution_count": 11,
   "metadata": {},
   "outputs": [
    {
     "name": "stdout",
     "output_type": "stream",
     "text": [
      "\n",
      "Internet medicine is awesome, 98point6 was so so helpful for me by FrugalChef13 on 2019-04-22 [+58 votes]:\n",
      "**TL;DR- $20 got me an awesome appointment with a nice doctor and a prescription for a medication I could afford that solved my issue.**\n",
      "\n",
      "*Disclaimer: This particular thing worked well for me so I'm going to tell you about it. Everyone is different, so it might not work as well (or at all) for you.  Take what you find useful from this post and ignore the rest.  I'm not compensated or connected to the website I'm discussing.*\n",
      "\n",
      "So like a lot of people on here I'm usually either uninsured or underinsured.  Right now it's underinsured with a high deductible, so when I messed my back up badly enough that I could barely move I freaked.  I've got scoliosis, a fucked up spine, bad knees, and muscles that love to spasm uncontrollably for days on end.  I'd run out of my prescription muscle relaxants last fall and hadn't been able to afford another appointment.  Advil helps a little but it wears off in 4 hours so I kept waking up in pain, and for some reason Aleve has never worked for me.  Just doesn't, it's weird.\n",
      "\n",
      "So I was fucked.  Can't sleep, hurts like crazy, still gotta work.  Fuck.  Can't afford the $100+ for a doctor's appointment, plus taking the day off to get into the next town over where there's a walk in clinic that can take me on short notice.  Fuck fuck.  Bad.\n",
      "\n",
      "So I drank several glasses of wine and started googling \"how to get a prescription online.\"  There are some pretty sketchy (and expensive) options that I am pretty sure are hella illegal, and then I see a result for [98point6.com](https://98point6.com).  It's $20 for a one year membership with unlimited online appointments ($120 for the second year unless I cancel before then).  Fuck it, I'm drunk enough to sleep tonight, if I'm still in bad shape tomorrow morning it's worth a try.  I was still in bad shape the next morning, so I did it.\n",
      "\n",
      "Guys, it was amazing.  It's not perfect, obviously- you need an internet connection and either a phone or  computer with webcam.  I chatted with some weird robot for 10 minutes or so and answered questions about what my problem was, then I got connected to this nice doctor lady and we talked over the webcam for... 10 minutes maybe?   about what was going on, what I'd already tried, what I knew from my own medical history likely wouldn't help.  She was so kind, and didn't make me feel dumb or worthless for not being able to afford a full price doctor's appointment in my town.  She said that even people who do have a local PCP use their service because it's faster and cheaper and easier than an office visit.  (One limitation of internet medicine is that they can't prescribe controlled substances, or medications with high potential for abuse which apparently includes the muscle relaxant I usually took.)   She recommended a prescription anti-inflammatory that lasts for 12 hours, since the muscle relaxant I'd taken in the past wasn't an option to have prescribed over the internet. And then I said the thing I hate saying- \"This sounds like a good option, but cost is a big issue for me.  What's the usual price of this med out of pocket?\"\n",
      "\n",
      "Usually when I ask that the doctor says something shitty like \"well it's what I normally prescribe for someone in your situation, the cost you'll pay varies based on the pharmacy and your insurance. Unfortunately I can't estimate your cost.\"  This lady did not.\n",
      "\n",
      "This amazing awesome doctor picked up her iPhone and said \"I have an app for a website called GoodRx, if you give me your zip code I'll let you know what this will cost at the pharmacies in your area using their discount program. If this medication is out of your price range there are a few other things that would work just as well and might be more affordable.\"  She didn't shame me for being poor, she was actively prepared to address the needs of people who have limited funds, and she was willing to spend her time to find a medication I could afford.  Happily, the med she prescribed was under $15 for a 1 month supply through GoodRx, hooray!  (I know that's a lot for some people, but it was doable for me.)\n",
      "\n",
      "I would 100% use 98point6 again, especially since my $20 gets me unlimited visits for a year.  It's not the right place to go for a broken arm, but for prescription anti-inflammatories or antibiotics for your 3rd UTI of the year or something pretty basic it's a good low cost option.   And not having to leave the house to talk to a doctor was really really great.\n",
      "\n",
      "If anyone else has recommendations or critiques or thoughts on internet medicine stuff I'd love to hear it.\n",
      "\n",
      "Comment by None on 2019-04-22 [+9 votes]:\n",
      "That sounds like a great resource! Especially for my two most common ailments, pink eye (I work with kids, they’re gross) and strep. Thanks for sharing\n",
      "\n",
      "Comment by rassmann on 2019-04-22 [+1 votes]:\n",
      "General mod note:  See users disclaimer at the top, YMMV!\n",
      "\n",
      "Comment by AnotherDay_RS on 2019-04-23 [+3 votes]:\n",
      "Sounds like a great service but what i don't understand is, If they cannot prescribe you the medication due to ie; controlled substance etc. Why is she giving you price to purchase it under GoodRX?\n",
      "\n",
      "Sorry that part wasn't clear to me, I thought you needed a doctor approval to prescribe controlled substances.\n",
      "\n",
      "Comment by MarketWorldly9908 on 2022-01-07 [+3 votes]:\n",
      "My husband and I have used 98.6 three times. All three times they did not prescribe the needed antibiotic to get better. I had an ear infection, my husband had an ear infection, then I had a sinus infection. We had to wait and get into our family doctor, so we paid 98.6 and our family doctor. I would not recommend them!\n",
      "\n",
      "Comment by NightSkyButterfly on 2019-04-23 [+2 votes]:\n",
      "I'm not sure where your old prescription on file is, but I know at the big box pharmacy I used to work at we could send an electronic request to the doctor to write a new script without a visit. Doesn't always work, but worth a try for a med you need!\n",
      "\n",
      "Comment by Sweetcynic36 on 2022-06-24 [+1 votes]:\n",
      "Helped me get paxlovid for covid more quickly than I otherwise would have been able to. Win win.\n",
      "\n",
      "Comment by prettyclouds88 on 2023-10-12 [+1 votes]:\n",
      "Thank you for this.\n",
      "\n"
     ]
    }
   ],
   "source": [
    "# Helper to convert a Reddit thread to text\n",
    "from datetime import datetime\n",
    "\n",
    "DATE_FORMAT = \"%Y-%m-%d\"\n",
    "def utc_to_date(utc: float):\n",
    "    return datetime.utcfromtimestamp(utc).strftime(DATE_FORMAT)\n",
    "\n",
    "def reddit_thread_to_text(submission):\n",
    "    submission.comments.replace_more(limit=10)\n",
    "\n",
    "    text = f\"\"\"\n",
    "{submission.title} by {submission.author} on {utc_to_date(submission.created_utc)} [{submission.score:+d} votes]:\n",
    "{submission.selftext}\n",
    "\"\"\"\n",
    "    for top_level_comment in submission.comments:\n",
    "        if isinstance(top_level_comment, MoreComments):\n",
    "            continue\n",
    "\n",
    "        text += f\"\"\"\n",
    "Comment by {top_level_comment.author} on {utc_to_date(top_level_comment.created_utc)} [{top_level_comment.score:+d} votes]:\n",
    "{top_level_comment.body}\n",
    "\"\"\"\n",
    "    return text\n",
    "\n",
    "print(reddit_thread_to_text(submission))"
   ]
  },
  {
   "cell_type": "code",
   "execution_count": 12,
   "metadata": {},
   "outputs": [
    {
     "data": {
      "text/plain": [
       "6214"
      ]
     },
     "execution_count": 12,
     "metadata": {},
     "output_type": "execute_result"
    }
   ],
   "source": [
    "len(reddit_thread_to_text(submission))"
   ]
  },
  {
   "cell_type": "markdown",
   "metadata": {},
   "source": [
    "# Summarize with LangChain"
   ]
  },
  {
   "cell_type": "code",
   "execution_count": 14,
   "metadata": {},
   "outputs": [],
   "source": [
    "from langchain_openai import ChatOpenAI\n",
    "from langchain_core.prompts import ChatPromptTemplate\n",
    "\n",
    "# See also\n",
    "# https://www.reddit.com/r/ChatGPT/comments/11twe7z/prompt_to_summarize/\n",
    "# https://www.reddit.com/r/ChatGPT/comments/13na8yp/highly_effective_prompt_for_summarizing_gpt4/\n",
    "\n",
    "prompt = ChatPromptTemplate.from_messages(\n",
    "    [\n",
    "        (\n",
    "            \"system\",\n",
    "            \"\"\"\n",
    "            You're an expert at reading and summarizing public online. discussions.\n",
    "\n",
    "            Please read and summarize the following Reddit thread.\n",
    "            The summary should cover all the key points and main ideas presented in the original text, while also condensing the information into a concise and easy-to-understand format. \n",
    "            Please ensure that the summary includes relevant details and examples that support the main ideas, while avoiding any unnecessary information or repetition. \n",
    "            The length of the summary should be appropriate for the length and complexity of the original text, providing a clear and accurate overview without omitting any important information.\n",
    "            \"\"\",\n",
    "        ),\n",
    "        (\n",
    "            \"human\", \n",
    "            \"\"\"\n",
    "            Reddit thread: \n",
    "            {text}\n",
    "            \"\"\"\n",
    "            ),\n",
    "    ]\n",
    ")\n",
    "\n",
    "llm = ChatOpenAI(model=\"gpt-3.5-turbo-0125\", temperature=0)\n",
    "runnable = prompt | llm"
   ]
  },
  {
   "cell_type": "code",
   "execution_count": 15,
   "metadata": {},
   "outputs": [
    {
     "name": "stdout",
     "output_type": "stream",
     "text": [
      "AIMessage(content=\"The Reddit thread discusses a user's positive experience with the online medical service 98point6. The user, who was underinsured and in need of a prescription for their back pain, found the service helpful and affordable. They highlighted the ease of use, the low cost of $20 for a one-year membership with unlimited online appointments, and the compassionate and helpful doctor they interacted with. The doctor recommended a suitable medication and even checked the price using GoodRx to ensure affordability for the user. Other users in the thread shared their experiences and opinions on internet medicine, with some praising the service for quick access to medications and others expressing concerns about not receiving the needed antibiotics. Overall, the thread showcases the convenience and cost-effectiveness of online medical services like 98point6 for basic healthcare needs.\", response_metadata={'token_usage': {'completion_tokens': 160, 'prompt_tokens': 1608, 'total_tokens': 1768}, 'model_name': 'gpt-3.5-turbo-0125', 'system_fingerprint': None, 'finish_reason': 'stop', 'logprobs': None}, id='run-74bb1160-9dd1-4c5b-999a-23d482db4822-0', usage_metadata={'input_tokens': 1608, 'output_tokens': 160, 'total_tokens': 1768})\n"
     ]
    }
   ],
   "source": [
    "from pprint import pprint\n",
    "\n",
    "retval = runnable.invoke({\"text\": reddit_thread_to_text(submission)})\n",
    "pprint(retval)"
   ]
  },
  {
   "cell_type": "code",
   "execution_count": 18,
   "metadata": {},
   "outputs": [
    {
     "name": "stdout",
     "output_type": "stream",
     "text": [
      "(\"The Reddit thread discusses a user's positive experience with the online \"\n",
      " 'medical service 98point6. The user, who was underinsured and in need of a '\n",
      " 'prescription for their back pain, found the service helpful and affordable. '\n",
      " 'They highlighted the ease of use, the low cost of $20 for a one-year '\n",
      " 'membership with unlimited online appointments, and the compassionate and '\n",
      " 'helpful doctor they interacted with. The doctor recommended a suitable '\n",
      " 'medication and even checked the price using GoodRx to ensure affordability '\n",
      " 'for the user. Other users in the thread shared their experiences and '\n",
      " 'opinions on internet medicine, with some praising the service for quick '\n",
      " 'access to medications and others expressing concerns about not receiving the '\n",
      " 'needed antibiotics. Overall, the thread showcases the convenience and '\n",
      " 'cost-effectiveness of online medical services like 98point6 for basic '\n",
      " 'healthcare needs.')\n"
     ]
    }
   ],
   "source": [
    "pprint(retval.content)"
   ]
  },
  {
   "cell_type": "markdown",
   "metadata": {},
   "source": [
    "# Google Search on Reddit for sources"
   ]
  },
  {
   "cell_type": "code",
   "execution_count": null,
   "metadata": {},
   "outputs": [],
   "source": []
  },
  {
   "cell_type": "code",
   "execution_count": 23,
   "metadata": {},
   "outputs": [
    {
     "name": "stdout",
     "output_type": "stream",
     "text": [
      "https://www.reddit.com/r/povertyfinance/comments/bg7ip2/internet_medicine_is_awesome_98point6_was_so_so/\n",
      "https://www.reddit.com/r/Chipotle/comments/l5bbt9/has_anyone_used_the_98point6_primary_care/\n",
      "https://www.reddit.com/r/AmazonFC/comments/rgxxbw/has_anyone_used_amazon_care_app_or_98point6_app/\n",
      "https://www.reddit.com/r/AmazonFC/comments/nqrtaw/98point6/\n",
      "https://www.reddit.com/r/depressionregimens/comments/bko5k9/psa_98point6_is_an_amazing_app_for_medication/\n",
      "https://www.reddit.com/r/CostcoEmployee/comments/11wu6zh/anyone_use_98point6_are_they_helpful_better_than/\n",
      "https://www.reddit.com/r/TTC_PCOS/comments/ipmklh/98point6_pcos_appointment_experience/\n",
      "https://www.reddit.com/r/WalgreensStores/comments/14n48uy/virtual_doctor/\n",
      "https://www.reddit.com/r/QuikTrip/comments/u2j0ut/my_apologies_for_any_bad_links_qt_is_fully/\n",
      "https://www.reddit.com/r/tretinoin/comments/lx0zjb/didnt_have_to_walk_into_a_dermatologist_or_even_a/\n",
      "https://www.reddit.com/r/AmazonFC/comments/nqxfli/besides_using_98point6any_other_recommend_apps/\n",
      "https://www.reddit.com/r/WalgreensRx/comments/1c4taut/finally_took_the_plunge/\n",
      "https://www.reddit.com/r/AmazonFC/comments/pp1x0w/currently_sick_and_called_erc_to_get_the_5_days/\n",
      "https://www.reddit.com/r/PortlandOregon/comments/199tcbx/98point6_acquires_assets_from_portland_telehealth/\n",
      "https://www.reddit.com/r/AmazonFC/comments/18t2txn/amazon_fake_dr_note/\n",
      "https://www.reddit.com/r/povertyfinance/comments/elryxp/ive_compiled_all_the_lowcost_medical_resources/\n",
      "https://www.reddit.com/r/adhdmeme/comments/y7elk6/they_dont_like_telehealth_providers_apparently/\n",
      "https://www.reddit.com/r/SeattleWA/comments/ixlce3/sams_club_partners_with_seattle_startup_98point6/\n",
      "https://www.reddit.com/r/FASCAmazon/comments/13qxbh6/fired/\n",
      "https://www.reddit.com/r/remoteworks/comments/1bmws8q/98point6_is_hiring_software_development_engineer/\n"
     ]
    }
   ],
   "source": [
    "\n",
    "from googlesearch import search\n",
    "from functools import lru_cache\n",
    "from typing import Iterable\n",
    "\n",
    "@lru_cache(1000)\n",
    "def reddit_search(query: str, num=10, stop=10, pause=2) -> Iterable[str]:\n",
    "    query = f'site:reddit.com \"{query}\"\"'\n",
    " \n",
    "    return list(search(query, num=num, stop=stop, pause=pause))\n",
    "\n",
    "def test_search():\n",
    "    for url in reddit_search(\"98point6\", stop=20, pause=2):\n",
    "        print(url)\n",
    "\n",
    "test_search()"
   ]
  },
  {
   "cell_type": "code",
   "execution_count": 25,
   "metadata": {},
   "outputs": [],
   "source": [
    "thread_urls = reddit_search(\"98point6\", stop=20, pause=2)"
   ]
  },
  {
   "cell_type": "code",
   "execution_count": 27,
   "metadata": {},
   "outputs": [
    {
     "name": "stdout",
     "output_type": "stream",
     "text": [
      "('\\n'\n",
      " 'Currently sick and called ERC to get the 5 days excused absences for COVID '\n",
      " 'testing. Regardless of the test result, whether it’s covid or not, I '\n",
      " 'definitely can’t work. Should I wait to get my test done so that way I can '\n",
      " 'use these days to get better? by thegeissberger on 2021-09-15 [+3 votes]:\\n'\n",
      " '\\n'\n",
      " '\\n'\n",
      " 'Comment by None on 2021-09-16 [+8 votes]:\\n'\n",
      " 'Download 98point6 its a telehealth app where you can text doctors and get '\n",
      " 'doctors notes and prescriptions and stuff. Tell them you’ve come into '\n",
      " 'contact with someone that has COVID and you’re experiencing symptoms. Tell '\n",
      " 'them you need a doctors note for work and they will email you one. Enjoy '\n",
      " 'your paid 2 week vacation.\\n'\n",
      " '\\n'\n",
      " 'Comment by ReverseGenjutsu on 2021-09-16 [+3 votes]:\\n'\n",
      " \"If you think you have covid get tested. If its positive you'll get paid \"\n",
      " 'leave. If you wait too long it could be negative even if you had covid.\\n'\n",
      " '\\n'\n",
      " 'Comment by Intellectualthinkr on 2021-09-16 [+1 votes]:\\n'\n",
      " 'that’s up to you.. you’re grown\\n'\n",
      " '\\n'\n",
      " 'Comment by JustinBurritoLover on 2021-09-16 [+1 votes]:\\n'\n",
      " \"I'd assume you could test immediately and wait a day or two. They don't \"\n",
      " 'necessarily know how long it took to get the results back. \\n'\n",
      " '\\n'\n",
      " 'Most people run into the problem of not getting back on the schedule in time '\n",
      " \"for the next work week. The system doesn't work that fast so for example, if \"\n",
      " 'you submit your test results Friday and are scheduled to work Saturday,  '\n",
      " \"they're probably not going to update your info that fast to allow you back \"\n",
      " 'to work.\\n'\n",
      " '\\n'\n",
      " 'Comment by DaiTenko on 2021-09-16 [+1 votes]:\\n'\n",
      " 'If you time it right, you can get 10 days. Just hold onto your results.\\n'\n",
      " '\\n'\n",
      " 'Comment by Adventurous_Main3845 on 2021-09-16 [+1 votes]:\\n'\n",
      " 'i always get tested at CVS because they don’t date their results. so, you '\n",
      " 'could get it done & then submit it 5 days later since “you just got it.” if '\n",
      " 'you’re trying to get paid, definitely go with the 98point6 comment & getting '\n",
      " 'a doctor’s note. good luck !\\n')\n",
      "('The Reddit thread discusses a person who is sick and considering when to get '\n",
      " 'a COVID test to maximize their time off work. One user suggests using the '\n",
      " \"98point6 telehealth app to get a doctor's note for paid leave by claiming \"\n",
      " 'COVID symptoms. Another user advises getting tested promptly to ensure a '\n",
      " 'positive result for paid leave, as delaying could lead to a negative result. '\n",
      " 'Timing the test result submission strategically could potentially extend the '\n",
      " 'time off. Additionally, using CVS for testing is recommended due to undated '\n",
      " 'results, allowing for flexibility in submission timing. Overall, the thread '\n",
      " 'provides tips on navigating sick leave and COVID testing to optimize time '\n",
      " 'off work.')\n"
     ]
    }
   ],
   "source": [
    "import random\n",
    "\n",
    "# Select a random thread URL from the list\n",
    "random_url = random.choice(thread_urls)\n",
    "\n",
    "# Get the submission from the random URL\n",
    "random_submission = reddit.submission(url=random_url)\n",
    "\n",
    "# Generate a textual representation of the submission\n",
    "text_representation = reddit_thread_to_text(random_submission)\n",
    "pprint(text_representation)\n",
    "\n",
    "# Summarize the text representation using LangChain\n",
    "summary_result = runnable.invoke({\"text\": text_representation})\n",
    "\n",
    "pprint(summary_result.content)"
   ]
  },
  {
   "cell_type": "code",
   "execution_count": 30,
   "metadata": {},
   "outputs": [
    {
     "data": {
      "text/html": [
       "\n",
       "<html>\n",
       "<head>\n",
       "    <title>Reddit Thread Summary</title>\n",
       "</head>\n",
       "<body>\n",
       "    <h2>Summary</h2>\n",
       "    <p>The Reddit thread discusses a person who is sick and considering when to get a COVID test to maximize their time off work. One user suggests using the 98point6 telehealth app to get a doctor's note for paid leave by claiming COVID symptoms. Another user advises getting tested promptly to ensure a positive result for paid leave, as delaying could lead to a negative result. Timing the test result submission strategically could potentially extend the time off. Additionally, using CVS for testing is recommended due to undated results, allowing for flexibility in submission timing. Overall, the thread provides tips on navigating sick leave and COVID testing to optimize time off work.</p>\n",
       "\n",
       "    <h2>Original Thread</h2>\n",
       "    <p><br>Currently sick and called ERC to get the 5 days excused absences for COVID testing. Regardless of the test result, whether it’s covid or not, I definitely can’t work. Should I wait to get my test done so that way I can use these days to get better? by thegeissberger on 2021-09-15 [+3 votes]:<br><br><br>Comment by None on 2021-09-16 [+8 votes]:<br>Download 98point6 its a telehealth app where you can text doctors and get doctors notes and prescriptions and stuff. Tell them you’ve come into contact with someone that has COVID and you’re experiencing symptoms. Tell them you need a doctors note for work and they will email you one. Enjoy your paid 2 week vacation.<br><br>Comment by ReverseGenjutsu on 2021-09-16 [+3 votes]:<br>If you think you have covid get tested. If its positive you'll get paid leave. If you wait too long it could be negative even if you had covid.<br><br>Comment by Intellectualthinkr on 2021-09-16 [+1 votes]:<br>that’s up to you.. you’re grown<br><br>Comment by JustinBurritoLover on 2021-09-16 [+1 votes]:<br>I'd assume you could test immediately and wait a day or two. They don't necessarily know how long it took to get the results back. <br><br>Most people run into the problem of not getting back on the schedule in time for the next work week. The system doesn't work that fast so for example, if you submit your test results Friday and are scheduled to work Saturday,  they're probably not going to update your info that fast to allow you back to work.<br><br>Comment by DaiTenko on 2021-09-16 [+1 votes]:<br>If you time it right, you can get 10 days. Just hold onto your results.<br><br>Comment by Adventurous_Main3845 on 2021-09-16 [+1 votes]:<br>i always get tested at CVS because they don’t date their results. so, you could get it done & then submit it 5 days later since “you just got it.” if you’re trying to get paid, definitely go with the 98point6 comment & getting a doctor’s note. good luck !<br></p>\n",
       "</body>\n",
       "</html>\n"
      ],
      "text/plain": [
       "<IPython.core.display.HTML object>"
      ]
     },
     "metadata": {},
     "output_type": "display_data"
    }
   ],
   "source": [
    "html_template = \"\"\"\n",
    "<html>\n",
    "<head>\n",
    "    <title>Reddit Thread Summary</title>\n",
    "</head>\n",
    "<body>\n",
    "    <h2>Summary</h2>\n",
    "    <p>{summary_text}</p>\n",
    "\n",
    "    <h2>Original Thread</h2>\n",
    "    <p>{original_text}</p>\n",
    "</body>\n",
    "</html>\n",
    "\"\"\"\n",
    "\n",
    "def render_summary(original_text, summary_text):\n",
    "    return html_template.format(original_text=original_text.replace(\"\\n\", \"<br>\"), summary_text=summary_text.replace(\"\\n\", \"<br>\"))\n",
    "\n",
    "html = render_summary(text_representation, summary_result.content)\n",
    "\n",
    "from IPython.display import HTML\n",
    "display(HTML(html))"
   ]
  },
  {
   "cell_type": "code",
   "execution_count": 33,
   "metadata": {},
   "outputs": [
    {
     "data": {
      "text/plain": [
       "langchain_core.messages.ai.AIMessage"
      ]
     },
     "execution_count": 33,
     "metadata": {},
     "output_type": "execute_result"
    }
   ],
   "source": [
    "type(summary_result)"
   ]
  },
  {
   "cell_type": "code",
   "execution_count": 50,
   "metadata": {},
   "outputs": [],
   "source": [
    "from typing import NamedTuple\n",
    "from langchain_core.messages.ai import AIMessage\n",
    "\n",
    "class ThreadResult(NamedTuple):\n",
    "    submission: praw.models.Submission\n",
    "    text: str\n",
    "    summary_result: AIMessage\n",
    "\n",
    "    def to_html(self):\n",
    "        text = self.text.replace(\"\\n\", \"<br>\")\n",
    "        return f\"\"\"\n",
    "<html>\n",
    "<body>\n",
    "    <h1>{self.submission.title} by {self.submission.author} on {utc_to_date(self.submission.created_utc)}</h1>\n",
    "    <a href=\"{self.submission.url}\">{self.submission.url}</a>\n",
    "    <h2>Summary</h2>\n",
    "    <p>{self.summary_result.content}</p>\n",
    "\n",
    "    <h2>Original Thread</h2>\n",
    "    <p>{text}</p>\n",
    "</body>\n",
    "</html>\n",
    "\"\"\"\n",
    "\n",
    "def process_url(url: str) -> ThreadResult:\n",
    "    submission = reddit.submission(url=url)\n",
    "    text = reddit_thread_to_text(submission)\n",
    "    summary_result = runnable.invoke({\"text\": text})\n",
    "    return ThreadResult(submission=submission, text=text, summary_result=summary_result)\n"
   ]
  },
  {
   "cell_type": "code",
   "execution_count": 51,
   "metadata": {},
   "outputs": [
    {
     "data": {
      "text/html": [
       "\n",
       "<html>\n",
       "<body>\n",
       "    <h1>I’ve compiled all the low-cost medical resources everyone shared in the comments of my last post. Hope it’s useful. by annetteisshort on 2020-01-08</h1>\n",
       "    <a href=\"https://www.reddit.com/r/povertyfinance/comments/elryxp/ive_compiled_all_the_lowcost_medical_resources/\">https://www.reddit.com/r/povertyfinance/comments/elryxp/ive_compiled_all_the_lowcost_medical_resources/</a>\n",
       "    <h2>Summary</h2>\n",
       "    <p>The Reddit thread compiled low-cost medical resources shared by users, offering a variety of digital doctor services, in-person medical help, medication discounts, and prescription skin care options. Key points include services like K Health, HeyDoctor, Teladoc, Doctor on Demand, Cove, Planned Parenthood, GoodRX, Blink Health, and more. Users expressed gratitude for the comprehensive list, sharing personal experiences and additional resources like Open Path Collective for therapy, Meijer's free medications, and CVS minute clinics for vaccinations. The thread also highlighted the availability of low-cost mental health services, dental care discounts, and assistance programs for medications. Overall, the post received positive feedback for its valuable information and potential to help individuals access affordable healthcare options.</p>\n",
       "\n",
       "    <h2>Original Thread</h2>\n",
       "    <p><br>I’ve compiled all the low-cost medical resources everyone shared in the comments of my last post. Hope it’s useful. by annetteisshort on 2020-01-08 [+3281 votes]:<br>You guys left so many awesome resources throughout the comments of the last post, so I thought I’d consolidate the info into an easier to read list for whoever might need it. I went ahead and looked up each service to verify they are legit, and listed the basic details of each one. <br><br>As always, shop around. Depending on what you need, some services may be cheaper than others.<br><br><br>**—** Digital Doctor Services **—**<br><br>**K Health**<br><br>*        $14 for one appointment with 2 weeks open for questions and follow-up.<br>*        $39 per year for unlimited appointments. <br>*        Subscription not required for the $14 appointments. <br>*        You can get labs and prescriptions.<br>*        Can use with or without insurance.<br>*        Monthly subscription service for anxiety/depression with benefits of normal yearly subscription + mental health specific consultations, treatment plans, referrals, and monthly medication delivery. Must consult app to sign up and get approved for this particular service.<br><br><br>**HeyDoctor**<br>       <br>*        $20 for most appointments, though costs can vary depending on what you need an appointment for. Most typical appointments are $20, but check the website for all prices.<br>*        You can get labs and prescriptions <br>*        Can use with or without insurance.<br> <br><br>*The prices of the next two digital doctor services are extremely comparable to typical cash prices for seeing a regular doctor. Not all that budget friendly in my opinion, but I’ll list them and their prices since they were in the comment section of the previous post.*<br><br><br>**Teladoc**  <br><br>*        $49 or less for typical doctor consultations.<br>*        $75 or less for Dermatology consultations<br>*        $80 per visit for licensed Therapist.<br>*        $95-$200 per visit with licensed Psychiatrist.<br>*        Can provide prescriptions.<br><br><br>**Doctor on Demand**<br><br>*        $75 for 15 minute consultation with doctor.<br>*        $129-$179 for 25-50 minute consultation with psychologist. <br>*        $299 for 45 minute consultation with Psychiatrist.<br>*        $129 for 15 minute follow-up with psychiatrist.<br>*        Consultations can be extended for additional fees.<br>*        Prices above are cash prices, but this service also accepts insurance.<br>*        Can provide prescriptions.<br><br><br>*In addition to the services listed above, you should also consult your insurance, if you have any, to see what telehealth services they might offer. You may already be paying for this type of service in your insurance package.*<br><br><br>**—** Migraine Only **—**<br><br>**Cove**<br><br>*        $4 monthly subscription fee.<br>*        Migraine-specific help.<br>*        Not for other medical issues.<br>*        Can get prescriptions.<br><br><br>**—** In-Person Medical Help **—**<br><br>**Planned Parenthood**<br><br>*        Discounted and free services for sexual health, birth control, routine testing, pregnancy, and more. <br><br>**FQHC Clinics**<br><br>*        I couldn’t find too much about this, other than that it is considered a low-cost health service. It’s worth a try to look it up and what might be available where you live.<br><br>**Cash Discounts**<br><br>*        Some doctors accept a discounted cash payment for treatment, so shop around where you live to see what options might be available to you.<br><br>**Local Health Districts**<br><br>*        You can get low cost or free vaccinations at local health districts. <br>*        Also ask them about other preventative vaccines, like HPV and Flu Shots. It doesn’t hurt to check if your town/city offers free or discounted preventative vaccines.<br><br><br>**—** Medication Discounts **—**<br><br>**GoodRX**<br><br>*        Medication discount up to 80%.<br>*        Lists the after-discount cost of all local pharmacies, as some are cheaper than others.<br>*        Use discount coupons when you pick up your prescriptions from your pharmacy.<br>*        Will call your pharmacy for you if they initially refuse to accept it, or don’t understand what it is.<br>*        Free service. No subscription needed.<br><br>**Blink Health**<br><br>*        Buy online and pick up medications at your pharmacy, or have them delivered.<br>*        Free delivery.<br>*        Can get consult with doctor if you don’t currently have a prescription.<br>*        Free service, no subscription needed.<br>*        See their website for a list of participating pharmacies.<br>*        Can request refills, transfer prescriptions, and consult a licensed pharmacist with any questions.<br><br>**Manufacturer’s Website**<br><br>*        Every medication manufacturer may offer huge discounts on their medications on their own websites.<br><br>**Grocery store discount programs**<br><br>*        Your local grocery stores, including Walmart, likely have prescription discount plans, so make sure to ask your pharmacy about theirs!<br>*        Typically it’s a yearly fee to sign up for these services. For instance, at Kroger it is $36/year. <br><br>**Honeybee Health**<br><br>*        Online discount pharmacy.<br>*        No insurance accepted.<br>*        Free Delivery.<br>*        Offers medications at wholesale prices.<br><br>**Pharmacychecker**<br><br>*        Price comparison service for online pharmacies.<br>*        Free to use.<br>*        Does not provide medications, just helps you compare prices.<br><br>**The Pill Club**<br><br>*        Birth Control Only.<br>*        $0 medication with most insurance.<br>*        $15 consultation fee + cost of medication with no insurance, or if out of market insurance.<br>*        Free medication delivery with a few feminine goodies.<br><br>**Nurx**<br><br>*        Sexual Health only.<br>*        $15 consultation fees for each various service. The $15 consultation fees cannot be billed to insurance.<br>*        $0 typically for birth control through insurance.<br>*        As low as $15 per month for birth control without insurance.<br>*        Testing prices vary depending on the test and if you do or do not have insurance. Consult their FAQ page for detailed test prices.<br>*        Medications can be billed to insurance.<br>*        Provides sexual health medications, including birth control and Plan B.<br>*        Provides home testing kits for sexual-related illness such as STI testing and HPV screening.<br>*        Can also order lab testing if preferred over home testing.<br><br>**Simple Health**<br><br>*        Birth Control Only.<br>*        $0 prescription with most insurance.<br>*        $20 annual fee for the care package, includes initial consultation with doctor.<br>*        As low as $15 per month prescription cost with no insurance.<br>*        Free shipping.<br>*        Automatic Refills.<br><br><br>**—** Prescription Skin Care **—**<br><br>**Curology**<br><br>*        $19.95 per month, plus shipping.<br>*        Includes ability to talk to provider<br>*        Includes customized skin care formula.<br>*        Includes cleanser and moisturizer.<br>*        Includes 2 minute skincare routine to follow with the above products.<br><br><br>With any prescription that is more than you’re able to afford, you should also ask your pharmacist about alternative options, as they likely know something cheaper, or they can point out an over-the-counter medication or supplement that can help in the meantime if you can’t afford a doctor. I’ve personally had my pharmacist show me what over the counter medications would help with anxiety medication withdrawal that happens with certain anxiety and depression medications when you stop taking it. They helped me pick a vitamin that would help keep the anxiety at bay a bit so I didn’t have a complete breakdown while waiting for more meds. Pharmacists are a fantastic resource, and they’re happy to help.<br><br>Also, try applying for free healthcare. It is available for people in hardship, and there is no shame in getting help from the government when you need it. It doesn’t hurt to just see if you qualify. I’ve used it before, and it can help relieve a little of the stress from poverty to at least know you’re covered if something happens. <br><br>Thanks everyone for all your input on the previous post. If you know of other free and low-cost medical services, please comment below and tell us about them!<br><br>Edit: formatting<br><br>Edit2: Another user has had success using GoodRX at Publix. If a Publix refuses it, call customer support for GoodRX so they can talk to the pharmacy for you.<br><br>Comment by walker21619 on 2020-01-08 [+273 votes]:<br>Damn this is possibly one of the best sets of data I’ve seen on reddit. Thank you so much for putting it together. Would give you gold if I weren’t a peasant<br><br>Comment by JacqiPro13 on 2020-01-08 [+192 votes]:<br>I don't say this lightly. You have truly helped me more than you could know by posting this. I've been worrying and fretting over seeing a mental health professional for over a year because every place I've called and looked into is a minimum $150-$200 just for a consult/diagnosis, and I simply do not have that kind of money to spend after monthly bills and what have you, even with my insurance I have to meet a deductible before I get any coverage for the services I need. I've been battling with worsening anxiety and symptoms of adult ADHD, and have felt nothing short of hopeless about it. But now I've just signed up for K Health and am currently waiting to speak to a doctor now, all at an *affordable* price.<br><br>OP, you're a rockstar. Thank you *thank you.* And thank you to everyone who contributed to this amazing list!<br><br>&#x200B;<br><br>Edit/update: after filling in my info, waited \\~25 mins for a doctor to speak to me. Did a 2 minute meet via video call, then went back to chat where he diagnosed me officially and is now sending medication to try right to my door. I can reach out any time for help or with questions, and he will follow up in a couple weeks. I'm in awe how easy this was, and the relief of not having to worry how I'll afford this is overwhelming. Give this a try if needed, folks! Good luck to you all!<br><br>Edit 2: Sorry, I should clarify I’m being sent anti-anxiety medication, not something for ADHD. The doctor could not prescribe me a controlled substance through the app but could diagnose and refer me to somebody in person who could. I hope this helps!<br><br>Comment by roses124 on 2020-01-08 [+76 votes]:<br>Chewsi is a free app that partners with dentists and gives discounted prices for different services. It is usually MUCH cheaper than what they will charge you if you go in without the app. A filling without the app at my dentist was over $300. With the app it's $182. I strongly recommend it for people without dental insurance.<br><br>Comment by acppghr on 2020-01-08 [+43 votes]:<br>Was going to post on the other one but saw that it was locked. Have a sinus infection, just used K Health after your comment and now going to pharmacy.<br><br>Comment by theochocolate on 2020-01-08 [+42 votes]:<br>I'm late to the party, but after reading through  comments just wanted to suggest an addition for mental health help. <br><br>https://openpathcollective.org/<br><br>Open Path Collective connects you to low-cost  mental health therapists across the US. You pay a one time $59 fee to join, and then they subsidize the costs of your therapy appointments (if you see one of the providers listed on the website). Therapy appointments are $30-60 a session depending on the provider and your financial need. This is 1/3-1/2 of what you'd pay a therapist out of pocket without mental health insurance.<br><br>This is specifically for therapy, not psychiatry. A regular doctor can write a RX for psychiatric meds, you don't have to see an expensive psychiatrist for this.  So if you're wanting medication and therapy, go to a regular doctor for the meds, and use a low-cost therapy resource.<br><br>If you are on Medicaid or Medicare, community mental health agencies will give you free mental health therapy and usually free psychiatric medication also.<br><br>Comment by Vlad_Yemerashev on 2020-01-08 [+80 votes]:<br>Thank you for sharing this OP. As always, we want to encourage everyone here to share any neat tips or tricks pertaining to healthcare here. Please stay on topic and refrain from illegal / harmful suggestions and politics though.<br><br>Comment by kachowlmq on 2020-01-08 [+27 votes]:<br>USA:<br>May have been mentioned but if you can’t immediately afford to get your eye prescription updated and need contacts, you can order them from the UK to buy yourself a bit of time.  They do not require a prescription at all to purchase.<br><br><br>https://www.visiondirect.co.uk<br><br><br>The prices aren’t necessarily better but you can buy a box or two to keep you going and the shipping is nominal. Even with customs I get them in 5 business days.  $40 bought me another 3 months to get the $200+ dollars I needed for the full exam.<br><br>Comment by None on 2020-01-08 [+23 votes]:<br>I do not even have words for how much this post is going to help me.<br>I have been uninsured for over a year. I had to cold turkey my depression medications because I had no insurance and could not afford a doctors visit. And I work at a restaurant and am a single parent so I don’t have the time or resources to utilize the free clinics (going during open hours, taking a 5 year old with me).<br>Today for 29 dollars I chatted with a doctor who is sending meds to my house for my depression...so I don’t have to just try and fight the darkness by myself anymore. <br>The weight lifted off my shoulders is...Unbelievable. I cried twice while using the K health app just because it exists. <br>Thank you for this post and for literally making my world better.<br><br>Comment by None on 2020-01-08 [+22 votes]:<br>*Edit: As of Jan 14th, they've shortened the list.*<br><br>Meijer's discount card doesn't cost you anything to sign up for.<br><br>Their completely free medications include:<br><br>~~Metformin Immediate release~~ <br><br>~~Atorvastatin Calcium~~ <br><br>Prenatal Vitamins  <br><br>Amoxicillin <br><br>Cephalexin <br><br>SMZ-TMP <br><br>Ciprofloxacin in 250, 500 and 750mgs <br><br>Ampicillin  <br><br>Penicillin VK <br><br>I can't speak for all stores, but we have Canine patients as well with those free antibiotics.<br><br>Comment by adamthegre on 2020-01-08 [+21 votes]:<br>This is a great list, thank you for taking the time to do this! I used to manage the private practice for a psychiatrist. I dealt with insurance every day for 3 years. Still have a hard time navigating healthcare related stuff. And I didn’t know many of these resources. <br><br>Also, can confirm that going through the manufactures website is super helpful. You can find specific coupons and resources not available on GoodRx or through your pharmacy. I take Vyvanse for ADHD, which does not have a generic yet. With a coupon (without insurance) it costs almost $300 for a month supply. I found a program called Shire Cares (through the manufacture) that gives you a coupon to get Vyvanse (and some of their other meds) at no cost if you make less than around $80,000. It took around 3 months for it all to go through (they make it difficult for a reason), but I did end up getting it! As a grad student, this was a lifesaver. Definitely worth the wait and pain in the ass the whole process was.<br><br>Comment by zeitgeist2002 on 2020-01-08 [+19 votes]:<br>Also just to add Healthcare co-operative's are great if you don't have insurance , you pay an enrollment fee and an annual fee the ones I have direct knowledge of it's 59.00 to enroll which includes your first visit then 300.00 a year  which gives you access to no cost physical/ sick visits 10 a year and 20.00 co pay prescriptions. YMMV depending on location and. Co-op structure.<br><br>Community Health Centers (not Health Department) are sliding scale fee for all medical visits, they also provide psych services (counseling, group sessions, medication management , prescription's) they generally have on site pharmacy as well. If your unable to pay some will bill you .<br><br>Edited to add : Forgot to mention larger hospital networks sometimes have their own \"insurance\" plans . Here in Atlanta , Grady and Emory both offer low cost medical and medication plans in house for non insured . Wellstar also offers in house medical services to uninsured.<br><br>Comment by annetteisshort on 2020-01-08 [+17 votes]:<br>Hey everyone! It’s making me super happy to see such a positive response, and especially to see that people are already benefiting from this info. You’re all amazing. ❤️<br><br>I’ll be updating the post with additions from the comment section later today. If you know more helpful services that haven’t been mentioned yet, leave a comment so I can see it and add it in later. <br><br>I need to try and nap though (graveyard shifts. Yay!), but I’ll keep reading all of the comments when I get up. I promise I’m reading every single one. Keep them coming.<br><br>Comment by dancingpugger on 2020-01-08 [+16 votes]:<br>For prescriptions, if you have a Costco membership,  it can be cheaper than GoodRx.  I saved so much going to Costco for my rx.<br><br>Comment by goopave on 2020-01-08 [+15 votes]:<br>This is an amazing list, thank you for compiling this.<br><br>Comment by napswithdogs on 2020-01-08 [+14 votes]:<br>If you’ve got a stupidly expensive specialty medication that has a copay so high you can’t afford it even with insurance, call the drug company. When the recession hit the drug companies realized they’d go out of business if they didn’t provide copay assistance. They may be covering your $400 copay but they’re still squeezing $4500 a month out of your insurance company, so it’s still a gain for them. It’s twisted but that’s how it works.<br><br>Comment by catkeepsclimbing on 2020-01-08 [+14 votes]:<br>Wanted to add, as I recently used this service, Planned Parenthood has an app (PPDirect) that women can use for birth control and UTI antibiotic prescriptions that don’t necessarily require an in person visit (in 24 states and DC).<br><br>Since I’ve had UTIs before I knew the symptoms right way and just had to answer a few questions and was prescribed antibiotics within 2 hours. If your request is approved without needing a visit, it cost $25 for the consultation and for me it was $14.70 for the antibiotics (it was less than my insurance price of $15). <br><br>This was much cheaper than what my Obamacare insurance would have cost me ($30 visit + $149 for lab testing + $14.70 for antibiotics) as my primary care requires lab testing for UTI treatments. <br><br>This is a great service that I think more women should know about!<br><br>Comment by PeachyKeenest on 2020-01-08 [+11 votes]:<br>This should be sticked or put in a sidebar or something. Thank you so much this is pretty awesome! You should be proud and all the folks helping with suggestions to make the list happen. Thank you as well! *wipes tear from eye<br><br>Comment by retrogradeorbiter on 2020-01-08 [+10 votes]:<br>www.needymeds.org can direct you to Patient Assistance Programs where you can get meds direct from the pharma company for free or greatly reduced cost.<br><br>A lot of people don’t realize that many of these programs cover people who make up to 400% of federal poverty level, so they think they make too much.<br><br>I spent the better part of a year working at a free community clinic getting people signed up, and while there are some hoops to jump through, I’ve never had a consistently better phone experience as I had with the helplines at the different companies.<br><br>These days, they’ll even ship most drugs to your home, instead of a doctor’s office.<br><br>Comment by ohmygodthebees on 2020-01-08 [+10 votes]:<br>Yay I’m so glad you made this post! Also, I’ve updated one of my responses on the other post but Publix DOES accept GoodRX. If a pharmacy location rejects your discount card or coupon, it’s because the pharmacy manager or district manager is forcing everyone’s hand into not mentioning other discount programs or accepting said discounts, which is NOT okay. If this happens to you, immediately transfer your prescription(s) to a different pharmacy. If this is a regular occurrence at multiple pharmacies in a certain area, go to a different chain or if another city is close enough try one there. I’ve had this happen many times to me when I worked in that field and I feel like it’s totally unfair.<br><br>Another thing to note would be that if they reject your discount one time, it may not be the same another time. If they tell you their price for a prescription is cheaper than your GoodRX price, this is for a SCRIPT BY SCRIPT BASIS. If they tell you this and their price is cheaper it does NOT mean you can’t use GoodRX there for your other scripts that are cheaper via GoodRx or another site.<br><br>Also, a coupon is different from a discount/savings program. A coupon is something you can ONLY get from a manufacturer website (not all discounts from these sites are coupons though) or through your provider if said manufacturer has given them coupons, or sometimes through other programs. It is MANDATORY that these are accepted. An example of a coupon vs savings/discount would be that a coupon would state you can get x quantity for free, but a discount would just lower the cost. Coupons almost always make your prescription cheaper than savings/discount sites and must always be accepted.<br><br>Comment by ThePersnicketyBitch on 2020-01-08 [+9 votes]:<br>Just a suggested edit - Publix absolutely *does* take GoodRX! I just got my nebulizer treatments and steroids there, used my GoodRX card to bring the price down to $14.<br><br>Comment by -Acta-Non-Verba- on 2020-01-08 [+10 votes]:<br>Thank you, OP.  We are beyond this in our lives now, but it would have been nice to have then.  I'm sure it will be very helpful.  The fear that we might need this again somehow doesn't go away.  MODS:  THIS SHOULD BE ON THE SIDEBAR!!!<br><br>Comment by JustAnotherVoiceEcho on 2020-01-08 [+9 votes]:<br>So this is my first year without health insurance as I got priced out of the market this year for some reason (possibly because I got married). So my question is, I found a doctor that will inject my depo shot for cheap but on this list it says that Publix doesn't honor the goodrx coupons for birth control, so should I use something else? Has anyone had experience getting the depo shot from any of the sites mentioned, I checked out the pill club but it doesn't have depo shot as an option which makes sense, but I didn't know if anyone else had any ideas? Also, has anyone had any experience with getting a yearly gynecology appointment without insurance? I don't have Planned Parenthood in my area sadly so I can't use them.<br><br>Comment by xeushal on 2020-01-08 [+9 votes]:<br>In case of vasectomy what should be the cheapest or more affordable?!<br><br>Comment by None on 2020-01-08 [+8 votes]:<br>[deleted]<br><br>Comment by None on 2020-01-08 [+8 votes]:<br>If you already have a contact lens prescription and just need a script renewed, you can do an online exam through expressexam.1800contacts.com and as an added bonus it’s free. You don’t have to order contacts through 1800 contacts and you can also print the script off to get your contacts somewhere else.<br><br>Comment by anniemdi on 2020-01-08 [+7 votes]:<br>u/Iron-Fist posted this in the last few days:<br><br>https://findahealthcenter.hrsa.gov/<br><br>You visit, plug in your Zip-code and a radius to search (5-50 miles) and it will show you Health Centers that serve people regardless of their ability to pay.  My local one even has dentlal care. <br><br>More information here https://bphc.hrsa.gov/about/index.html<br><br>(I believe this is the FQHC you couldn't find information about.)<br><br>Comment by CDHass on 2020-01-08 [+8 votes]:<br>I have used progressiverx.com for inhalers. I get 6 for the price of one. They are great.<br><br>Comment by rabidstoat on 2020-01-08 [+7 votes]:<br>Someone with Wiki privileges (do only mods have that? I dunno how wikis work) should migrate this information over to the wiki.<br><br>Comment by thinktenuis on 2020-01-08 [+8 votes]:<br>Seriously, thank you so much for this. I have terrible anxiety over going to the doctor, and reading your original post may have literally changed my life. May have finally figured out my lifelong exhaustion, so thank you. <3<br><br>Comment by Electrototty on 2020-01-09 [+8 votes]:<br>Thank God for the NHS 🇬🇧<br><br>Comment by inailedyoursister on 2020-01-09 [+7 votes]:<br>Walk In Lab<br><br>Cheap lab work and you don't need insurance.<br><br>There are more companies that do this but this is the one I've used before.<br><br>Comment by rougewitch on 2020-01-09 [+8 votes]:<br>CVS minute clinics are great for preventative annual vaccinations like the flu shots.<br><br>Meijer stores (if you live in michigan) provide free antibiotics if you have a prescription. <br><br>There is a free clinic in southwest detroit on Jefferson called [CHASS clinic](https://chasscenter.org/about) - they provide care for everyone, prenatal through geriatric. Get there early for best results if you don’t have an appointment. When i was down on my luck and pregnant with my first and then second child i went here and they were EXCEPTIONAL! I am now a RN and i still look back fondly on this clinic. <br><br>[This clinic](https://www.hudaclinic.org) provides free medical,  Primary Care, Dental, Mental Health Services, Podiatry, and Ophthalmology for those who are uninsured and underinsured if you live in the detroit area.<br><br>Comment by makemeahamsandwich on 2020-01-08 [+6 votes]:<br>Thank you so much. Honeybee is a great way to save on rx’s, too.<br><br>Comment by hologram_girl on 2020-01-08 [+7 votes]:<br>This might sound dumb, but how does K Health work? I just had to go off of my anti-depressants because I couldn't afford multiple doctor appointments, but can I get them re-prescribed through the app?<br><br>Comment by fluffykerfuffle1 on 2020-01-08 [+5 votes]:<br>great affordable medical services list!   thank you!!<br><br>Comment by None on 2020-01-08 [+12 votes]:<br>If anyone is on Medicare and/or a PA resident, here's a document I made for a friend who had issues with Medicare. <br><br>https://docs.google.com/document/d/1KNzkFHDeDUmq5WrPD3XycWBkM372L-EEVVQox7lyuds/edit?usp=drivesdk<br><br>Comment by hhhnnnnnggggggg on 2020-01-08 [+4 votes]:<br>I'm hoping to cross post to one of my subreddits<br><br>Comment by Primatebuddy on 2020-01-09 [+5 votes]:<br>Publix has their own program for certain drugs that is comparable to GoodRx, and they happen to be all the drug my family and I need. However we have used GoodRx there before.<br><br>Comment by lurkingyear3 on 2020-01-09 [+4 votes]:<br>I’d like to add rxoutreach.org to your list. Great med prices, great customer service. They require a bit more work for the set up of your prescriptions (have to have them faxed in from your doc), then they call you for payment info but they saved us several hundred dollars a month on my son’s meds. No proof of financial need for help either. They are constantly adding new meds to their list too.<br><br>Comment by miss_mojo428 on 2020-01-09 [+4 votes]:<br>Any chance someone has something similar compiled for Dentists?<br><br>Amazing list! Thanks for organizing this!<br><br>Comment by rizenphoenix13 on 2020-01-08 [+7 votes]:<br>This is a great resource. Does anyone know if there's something like any of these services for pets? Like being able to see a vet and get a prescription online?<br><br>Comment by Snappybrowneyes on 2020-01-08 [+5 votes]:<br>You are the bomb OP!!!! Thanks for taking the time to put this info together! Much appreciated!<br><br>Comment by rufusocracy on 2020-01-08 [+4 votes]:<br>I love this! Going to spread it around to my friends!!!<br><br>Comment by Cassie0peia on 2020-01-08 [+4 votes]:<br>Thank you for doing that! It was kind of you to take the time to do that!!<br><br>Comment by HallelujahOnRepeat on 2020-01-08 [+4 votes]:<br>Thank you!<br><br>Comment by None on 2020-01-09 [+4 votes]:<br>This is awesome, OP. I saved it. Doctor on Demand has really gone up a lot since it's inception. I used it years ago and it was $40 for the consult. I did it in my office at work. It was awesome and really put my mind at ease.<br><br>Comment by tigersuittt on 2020-01-09 [+4 votes]:<br>Holy shit you’re amazing! Thank you for this ❤️<br><br>Comment by hungryasabear on 2020-01-08 [+3 votes]:<br>This is so helpful, thanks<br><br>Comment by Snappybrowneyes on 2020-01-08 [+3 votes]:<br>I will! Thanks so much!<br><br>Comment by iiprongs on 2020-01-08 [+3 votes]:<br>Holy shit saving this. Thanks so much.<br><br>Comment by mylifenow1 on 2020-01-09 [+3 votes]:<br>You are so amazing and kind, thank you!!<br><br>Comment by Brandon_partain on 2020-01-09 [+3 votes]:<br>Thank you so very much!! I have to say even with Medicaid, Goodrx saves me money as far ones not covered. These look it would be very helpful for me in the near future!<br><br>Comment by dyingmilk on 2020-01-09 [+3 votes]:<br>since this is one of the most useful comments here don't forget to follow other related subreddits to better yourselves!<br><br>Comment by None on 2020-01-10 [+3 votes]:<br>you should add that a lot of urgent cares have pyschiatric services for much cheaper than the prices you mentioned meaning 80-100 bucks per  visit. Some urgent care facilities also have a la carte Ct scans  available for a few  hundred dollars which  can save significant amounts of money in none emergency situations.<br><br>Comment by starryNight68 on 2020-01-18 [+3 votes]:<br>I know this post is a bit old but I was hoping for some resources. My baby is almost 2 months behind on her vaccinations, I hadn’t been able to get her on insurance yet due to paperwork issues. I’ve called my local health clinic but there booked till March. I call everyday to see if there’s cancellations. Any other ideas? I live in PA<br><br>Comment by None on 2020-01-22 [+3 votes]:<br>For Australians:<br><br>I'm in Australia and we have public healthcare so we don't have to worry about health insurance, but there are some gaps. For example your doctor might refer you for imaging like an ultrasound. You call the radiology place and they say the ultrasound will be something like $250 or $100+ with the Medicare rebate. If you're not very low income and don't have a healthcare card, they'll just say that's what it costs. But if you call a different imaging centre like Capital, they're usually bulk billing for anyone, not just healthcare card holders or pensioners. If that helps anyone. You can use the request form even if the header is a different radiology place.<br><br>Comment by RotaryEnginePhone on 2020-01-25 [+1 votes]:<br>Thank you OP and everyone else who helped with this post. The information here is now available on the r/povertyfinance wiki at [this page](https://www.reddit.com/r/povertyfinance/about/wiki/healthcare).<br><br>Comment by No_Pomegranate_3709 on 2023-02-17 [+3 votes]:<br>What online doctors help prescribe medication for mental health like Xanax ? Need help<br><br>Comment by russellgarrard on 2020-01-08 [+6 votes]:<br>Just a heads up. Cost price to make medication can be as low as 10-20c a tablet. It's mostly in R&D, marketing etc.<br><br>Like anything in life there is plenty of mark up.<br><br>If I was desperate (I'm an Aussie so...) is it legal to import meds from outside of the US if you have a prescription?<br><br>I buy my CPAP machines from the USA and ship it here because it costs 20% of retail<br><br>Comment by TotesMessenger on 2020-01-08 [+2 votes]:<br>I'm a bot, *bleep*, *bloop*. Someone has linked to this thread from another place on reddit:<br><br>- [/r/interstitialcystitis] [I’ve compiled all the low-cost medical resources everyone shared in the comments of my last post. Hope it’s useful. : povertyfinance (For those who often get UTIs, they can order labs too)](https://www.reddit.com/r/Interstitialcystitis/comments/elv5rb/ive_compiled_all_the_lowcost_medical_resources/)<br><br>&nbsp;*^(If you follow any of the above links, please respect the rules of reddit and don't vote in the other threads.) ^\\([Info](/r/TotesMessenger) ^/ ^[Contact](/message/compose?to=/r/TotesMessenger))*<br><br>Comment by dinnerDuo on 2020-01-08 [+2 votes]:<br>Thank you!!<br><br>Comment by GarlicSpurner on 2020-01-09 [+2 votes]:<br>You. Are. Awesome.<br><br>Comment by AmberAshes on 2020-01-09 [+2 votes]:<br>My boyfriend has an eye disease and needs special contacts that are very expensive. He doesn't have health insurance, anyone have a suggestion for the best option? Ideally he needs one visit to look at his eye and the actual contacts which are like $400/pair. We live in Washington.<br><br>Comment by brandnewdayinfinity on 2020-01-09 [+2 votes]:<br>The bomb. Thank you.<br><br>Comment by OriginalWillingness on 2020-01-09 [+2 votes]:<br>This will help a lot of Americans. You're a good egg OP<br><br>Comment by annetteisshort on 2020-01-09 [+2 votes]:<br>Thank you to the mods for pinning this post so more people can see it. You’re the best!<br><br>Comment by Lahmacuns on 2020-01-09 [+2 votes]:<br>Thanks SO much for this information! I am sweating at the moment because I'm moving to a new state and may not qualify for Medicaid there. Even if I do, it may take three months to get a response. <br><br>My current Medicaid rules say I can only have 30 days of medication at a time, and I have to cancel my coverage the day I move. <br><br>I'd planned on going to Mexico to get my medication, but with these resources, I probably won't have to. Thanks so much!<br><br>Comment by Lazy_Fuck_ on 2020-01-09 [+2 votes]:<br>OP is awesome<br><br>Comment by yampai1137 on 2020-01-09 [+2 votes]:<br>Thank you!!!<br><br>Comment by None on 2020-01-10 [+2 votes]:<br>Thank you so much for this list!<br><br>Comment by trophywifey123 on 2020-01-10 [+2 votes]:<br>Thank you for this OP! This might be the most helpful thing I've encountered on reddit thus far ❤️<br><br>Comment by KoRnyGx on 2020-01-10 [+2 votes]:<br>Holy shit this post makes me appreciate the NHS so much more.<br><br>Comment by Warrior__Maiden on 2020-01-15 [+2 votes]:<br>I may add Walmart and Cvs have $10 prescription lists. Also paying for good rx gold you can add multiple family members and there’s some deeper discounts depending on the medications.<br><br>Comment by INeedHelp12345667890 on 2020-01-16 [+2 votes]:<br>Another good affordable birth control for those without medical insurance, is project ruby. They only charge 60 dollars for a 3 month supply and you get your prescription with a doctor for free over the phone.<br><br>Comment by MagnusBrickson on 2020-01-19 [+2 votes]:<br>For prescriptions, here's something i posted on LPT a awhile back <br><br>**Full Disclosure**: I don't represent any of these drug companies or NeedyMeds. I'm just a Certified Pharmacy Technician who has been working for 8 years in pharmacy and I want to help people. Most of these will *NOT* work with a government funded plans (VA, Medicaid, Medicare, etc.).  <br><br>[NeedyMeds](https://www.needymeds.org/) compiles numerous savings cards for brand name medications. Some of these cards, I see every day.  <br><br>Examples of common ones I see frequently.  There's also patient assistance programs that, if you meet income requirements, you can get **FREE** medication directly from the manufacturer. I've seen patients get 3-4 month supplies of insulin without spending a dime.<br><br>[Novolog insulin](https://www.needymeds.org/coupons.taf?_function=name_list&gname=insulin%20aspart%20rDNA%20origin)<br><br>[Eliquis blood thinner](https://www.needymeds.org/coupons.taf?_function=name_list&gname=apixaban)  <br><br>A lot of these kind of discounts will work with your commercial insurance, or if you have no insurance at all. These can be useful especially this time of year when your deductible has reset and you may need to spend $2,000 or more out of pocket. <br><br>Always check with your pharmacist if you're preferred pharmacy accepts discount cards. The pharmacy I work at accepts manufacture discounts, but not blanket savings like GoodRX.<br><br>Comment by Waytoooldtobehere on 2020-01-19 [+2 votes]:<br>I signed up for Khealth for my antidepressants, ive been off meds for months and i am so glad you posted this.  My new prescription will be delivered next week.<br><br>Comment by Xalell on 2020-01-20 [+2 votes]:<br>Thanks for posting!<br><br>Comment by fireXmeetXgasoline on 2020-01-31 [+2 votes]:<br>I wish I could give you gold for this, friend.<br><br>I literally just got done scouring Facebook because I thought this post was on there. Then I vaguely remembered the format and went *Shit, I think it was from Reddit.* <br><br>I aggressively searched dozens of communities for this post. I just found out the tax penalty for not having health insurance was dropped in 2019, and my partner and I have to have a realistic discussion about this. I remembered this post, and I wanted to come with accurate and intelligent information so we can make an informed decision.<br><br>Thank you so much for all your help ❤️<br><br>Comment by ernicho13 on 2022-01-27 [+2 votes]:<br>omg this is so remarkably thorough and helpful... kinda tearing up a bit... thank you!<br><br>Comment by Kimmioio82 on 2023-05-18 [+2 votes]:<br>You just blessed me and this literally helped me get through a really hard time because I found care that I otherwise would not have if I didn’t come across this.<br><br>Comment by StevoTheGreat on 2020-01-08 [+7 votes]:<br>So basically, if you need mental help, forget about it lol. Nice list though.<br><br>Comment by Waytoooldtobehere on 2020-01-16 [+1 votes]:<br>Thank you!  This year i can't afford health insurance so this is amazings<br><br>Comment by amtummi on 2020-01-17 [+1 votes]:<br>This is such a great list of resources. As someone who is battling issues with mental health (dx'ed bipolar), and currently has pretty good insurance that I might be losing soon due to my job ending, I may need to use these resources. Thank you.<br><br>Comment by locogriffyn on 2020-03-15 [+1 votes]:<br>Should be useful!<br><br>Comment by rufusocracy on 2020-03-19 [+1 votes]:<br>This is great!<br><br>Comment by Caserole on 2020-07-05 [+1 votes]:<br>I've used Wisp for my chronic UTIs! Response-time and action was so fast, I thought it was a joke. It's a little more costly at $65 for the virtual visit but after struggling with a few virtual health providers to get antibiotics for a condition I've had since 16 was amazing.<br><br>&#x200B;<br><br>Currently waiting on a response from K Health. Just signed up thanks to this. My depression has hit almost rock-bottom again. Quite cold turky due to insurance/cost. You may have saved me. Thank you, OP <3 You deserve all the gold.<br><br>Comment by Galaxxyrose_ on 2024-03-17 [+1 votes]:<br>Omg this is EXACTLY what I've been looking for thank you!!<br><br>Comment by Organic_Ad_2520 on 2024-03-26 [+1 votes]:<br>So thoughtful to post for everyone! Great job compiling the sites! Thank you so much!<br><br>Comment by Fluffy-Fennel8845 on 2024-05-19 [+1 votes]:<br>This list is awesome! Thanks so much for all the info!!<br><br>Comment by orangyfungy on 2024-06-03 [+1 votes]:<br>Thank you for this<br><br>Comment by Operation_Unusual on 2024-07-09 [+1 votes]:<br>This is great but 4 years old.<br>Any updates?<br><br>Comment by None on 2020-01-08 [+0 votes]:<br>[removed]<br><br>Comment by TheLorax503 on 2020-01-15 [+0 votes]:<br>Oregon State Cu, a quality credit union.<br><br>Comment by None on 2020-01-09 [-8 votes]:<br>[removed]<br><br>Comment by Yiawwbecm on 2020-01-08 [-2 votes]:<br>Bump<br><br>Comment by AxelSc007 on 2022-04-03 [+1 votes]:<br>I'd throw in the website Radiology Assist. A $40 referral and ultrasound, Ct, xray, etc at low cost. Ct scan was $220 for me and ultrasound less than $100.<br><br>Comment by DurinsBane1 on 2022-08-22 [+1 votes]:<br>K health has gone way up in price just fyi<br><br>Comment by grizramen on 2022-10-18 [+1 votes]:<br>You’re amazing. Thank you so much!!!<br><br>Comment by j1231996 on 2023-01-26 [+1 votes]:<br>Just saved me a few hundred bucks and a chance to join the army. Thank you<br><br>Comment by None on 2023-04-10 [+1 votes]:<br>damn i guess K health changed. Its like $50 a month<br><br>Comment by bioweaponblue on 2023-04-27 [+1 votes]:<br>.<br><br>Comment by sally_gally on 2023-11-05 [+1 votes]:<br>Wow thank you so much OP!! You’re an angel 🙌🏼 thank you for taking the time to research and share this with everyone 🤍<br></p>\n",
       "</body>\n",
       "</html>\n"
      ],
      "text/plain": [
       "<IPython.core.display.HTML object>"
      ]
     },
     "metadata": {},
     "output_type": "display_data"
    }
   ],
   "source": [
    "random_url = random.choice(thread_urls)\n",
    "random_thread_result = process_url(random_url)\n",
    "display(HTML(random_thread_result.to_html()))"
   ]
  },
  {
   "cell_type": "code",
   "execution_count": 49,
   "metadata": {},
   "outputs": [
    {
     "data": {
      "text/plain": [
       "'https://www.reddit.com/r/povertyfinance/comments/bg7ip2/internet_medicine_is_awesome_98point6_was_so_so/'"
      ]
     },
     "execution_count": 49,
     "metadata": {},
     "output_type": "execute_result"
    }
   ],
   "source": [
    "random_url"
   ]
  },
  {
   "cell_type": "code",
   "execution_count": null,
   "metadata": {},
   "outputs": [],
   "source": []
  }
 ],
 "metadata": {
  "kernelspec": {
   "display_name": "Python 3",
   "language": "python",
   "name": "python3"
  },
  "language_info": {
   "codemirror_mode": {
    "name": "ipython",
    "version": 3
   },
   "file_extension": ".py",
   "mimetype": "text/x-python",
   "name": "python",
   "nbconvert_exporter": "python",
   "pygments_lexer": "ipython3",
   "version": "3.10.12"
  }
 },
 "nbformat": 4,
 "nbformat_minor": 2
}
