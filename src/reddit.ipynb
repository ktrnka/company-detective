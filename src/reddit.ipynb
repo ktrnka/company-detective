{
 "cells": [
  {
   "cell_type": "markdown",
   "metadata": {},
   "source": [
    "# Reddit"
   ]
  },
  {
   "cell_type": "code",
   "execution_count": 1,
   "metadata": {},
   "outputs": [],
   "source": [
    "import praw\n",
    "from dotenv import load_dotenv\n",
    "import os\n",
    "\n",
    "load_dotenv()\n",
    "\n",
    "reddit = praw.Reddit(\n",
    "    client_id=os.environ[\"REDDIT_CLIENT_ID\"],\n",
    "    client_secret=os.environ[\"REDDIT_CLIENT_SECRET\"],\n",
    "    user_agent=\"Comment Extraction (by u/trnka)\",\n",
    ")\n"
   ]
  },
  {
   "cell_type": "markdown",
   "metadata": {},
   "source": [
    "# Design notes\n",
    "\n",
    "1. Transform the product name into an appropriate query\n",
    "2. Google search reddit.com with the query (possibly multiple time windows - alltime, 1y, 1m?)\n",
    "3. Process each post:\n",
    "    - Pull the top post\n",
    "    - Pull any comments\n",
    "    - Identify whether the post is primarily about the product, jobs at the company, or bizdev\n",
    "4. Summarize the product-related posts:\n",
    "    - Timeline of posts with titles and one key excerpt, linking to the original. Also include the amount of activity on the post and the score"
   ]
  },
  {
   "cell_type": "code",
   "execution_count": 10,
   "metadata": {},
   "outputs": [],
   "source": [
    "# Helper to convert a Reddit thread to text\n",
    "from datetime import datetime\n",
    "from praw.models import MoreComments\n",
    "\n",
    "DATE_FORMAT = \"%Y-%m-%d\"\n",
    "def utc_to_date(utc: float):\n",
    "    return datetime.utcfromtimestamp(utc).strftime(DATE_FORMAT)\n",
    "\n",
    "def reddit_thread_to_text(submission):\n",
    "    submission.comments.replace_more(limit=10)\n",
    "\n",
    "    text = f\"\"\"\n",
    "{submission.title} by {submission.author} on {utc_to_date(submission.created_utc)} [{submission.score:+d} votes]:\n",
    "{submission.selftext}\n",
    "\"\"\"\n",
    "    for top_level_comment in submission.comments:\n",
    "        if isinstance(top_level_comment, MoreComments):\n",
    "            continue\n",
    "\n",
    "        text += f\"\"\"\n",
    "Comment by {top_level_comment.author} on {utc_to_date(top_level_comment.created_utc)} [{top_level_comment.score:+d} votes]:\n",
    "{top_level_comment.body}\n",
    "\"\"\"\n",
    "    return text\n",
    "\n",
    "# print(reddit_thread_to_text(submission))"
   ]
  },
  {
   "cell_type": "markdown",
   "metadata": {},
   "source": [
    "# Summarize with LangChain"
   ]
  },
  {
   "cell_type": "code",
   "execution_count": 4,
   "metadata": {},
   "outputs": [],
   "source": [
    "from langchain_openai import ChatOpenAI\n",
    "from langchain_core.prompts import ChatPromptTemplate\n",
    "\n",
    "# See also\n",
    "# https://www.reddit.com/r/ChatGPT/comments/11twe7z/prompt_to_summarize/\n",
    "# https://www.reddit.com/r/ChatGPT/comments/13na8yp/highly_effective_prompt_for_summarizing_gpt4/\n",
    "\n",
    "prompt = ChatPromptTemplate.from_messages(\n",
    "    [\n",
    "        (\n",
    "            \"system\",\n",
    "            \"\"\"\n",
    "            You're an expert at reading and summarizing public online discussions.\n",
    "\n",
    "            Please read and summarize the following Reddit thread.\n",
    "            The summary should cover all the key points and main ideas presented in the original text, while also condensing the information into a concise and easy-to-understand format. \n",
    "            Please ensure that the summary includes relevant details and examples that support the main ideas, while avoiding any unnecessary information or repetition. \n",
    "            The length of the summary should be appropriate for the length and complexity of the original text, providing a clear and accurate overview without omitting any important information.\n",
    "            \"\"\",\n",
    "        ),\n",
    "        (\n",
    "            \"human\", \n",
    "            \"\"\"\n",
    "            Reddit thread: \n",
    "            {text}\n",
    "            \"\"\"\n",
    "            ),\n",
    "    ]\n",
    ")\n",
    "\n",
    "llm = ChatOpenAI(model=\"gpt-3.5-turbo-0125\", temperature=0)\n",
    "runnable = prompt | llm"
   ]
  },
  {
   "cell_type": "markdown",
   "metadata": {},
   "source": [
    "# Google Search on Reddit for sources"
   ]
  },
  {
   "cell_type": "code",
   "execution_count": 17,
   "metadata": {},
   "outputs": [
    {
     "name": "stdout",
     "output_type": "stream",
     "text": [
      "https://www.reddit.com/r/Palia/comments/1bqv5ha/ive_played_300_hours_of_palia_so_let_me_tell_you/\n",
      "https://www.reddit.com/r/Palia/comments/1cyca98/palia_is_not_going_to_die/\n",
      "https://www.reddit.com/r/Palia/comments/18uz63b/is_palia_down/\n",
      "https://www.reddit.com/r/CozyGamers/comments/1bqq6c8/palia_dev_update_well_keep_our_players_updated/\n",
      "https://www.reddit.com/r/Palia/comments/1aw5ykc/my_thoughts_on_palia_after_playing_for_3_months/\n",
      "https://www.reddit.com/r/Palia/comments/1ecu4ja/palia_and_sailor_moon/\n",
      "https://www.reddit.com/r/CozyGamers/comments/1bnsqgu/palia_steam_release_reviews_are_tanking_on_the/\n",
      "https://www.reddit.com/r/Palia/comments/18kz1op/will_palia_keep_your_attention_long_term_whywhy/\n",
      "https://www.reddit.com/r/MMORPG/comments/1bz2e0z/palia_developers_singularity_6_axes_35_of_staff/\n",
      "https://www.reddit.com/r/Palia/comments/1d35urf/whats_with_palia_news/\n",
      "https://www.reddit.com/r/Palia/comments/1e6fwlj/help_me_understand_palia/\n",
      "https://www.reddit.com/r/Palia/comments/1ec7m6r/some_of_my_thoughts_on_the_current_state_of_palia/\n",
      "https://www.reddit.com/r/Palia/comments/18zcvv7/anyone_know_whats_next_for_palia/\n",
      "https://www.reddit.com/r/Palia/comments/1cb6bdv/update_info/\n",
      "https://www.reddit.com/r/Palia/comments/1bplnyy/psa_palia_is_now_playable_on_geforcenow/\n",
      "https://www.reddit.com/r/Palia/comments/1cherkx/can_you_play_palia_on_a_chromebook/\n",
      "https://www.reddit.com/r/Palia/comments/1bo5j5w/how_coop_oriented_is_this_game/\n"
     ]
    }
   ],
   "source": [
    "\n",
    "from googlesearch import search\n",
    "from functools import lru_cache\n",
    "from typing import Iterable\n",
    "import re\n",
    "\n",
    "url_pattern = re.compile(r\".*/comments/.+\")\n",
    "\n",
    "@lru_cache(1000)\n",
    "def reddit_search(query: str, num=10, stop=10, pause=2) -> Iterable[str]:\n",
    "    query = f'site:reddit.com \"{query}\"\"'\n",
    " \n",
    "    return list(url for url in search(query, num=num, stop=stop, pause=pause) if url_pattern.match(url))\n",
    "\n",
    "def test_search():\n",
    "    for url in reddit_search(\"Palia\", stop=20, pause=2):\n",
    "        print(url)\n",
    "\n",
    "test_search()"
   ]
  },
  {
   "cell_type": "code",
   "execution_count": 24,
   "metadata": {},
   "outputs": [],
   "source": [
    "from typing import NamedTuple\n",
    "from langchain_core.messages.ai import AIMessage\n",
    "\n",
    "def wrap_html(content: str):\n",
    "    return f\"\"\"\n",
    "<html>\n",
    "<body>\n",
    "    {content}\n",
    "</body>\n",
    "</html>\n",
    "\"\"\"\n",
    "\n",
    "class ThreadResult(NamedTuple):\n",
    "    submission: praw.models.Submission\n",
    "    text: str\n",
    "    summary_result: AIMessage\n",
    "\n",
    "    def to_html(self):\n",
    "        text = self.text.replace(\"\\n\", \"<br>\")\n",
    "        return f\"\"\"\n",
    "    <h1>{self.submission.title} by {self.submission.author} on {utc_to_date(self.submission.created_utc)}</h1>\n",
    "    <a href=\"{self.submission.url}\">{self.submission.url}</a>\n",
    "    <h2>Summary</h2>\n",
    "    <p>{self.summary_result.content}</p>\n",
    "\n",
    "    <h2>Original Thread</h2>\n",
    "    <p>{text}</p>\n",
    "\"\"\"\n",
    "\n",
    "def process_url(url: str, text_max_chars=30000) -> ThreadResult:\n",
    "    submission = reddit.submission(url=url)\n",
    "    text = reddit_thread_to_text(submission)\n",
    "\n",
    "    if len(text) > text_max_chars:\n",
    "        print(f\"Text too long: {len(text)} > {text_max_chars}. Truncating.\")\n",
    "        text = text[:text_max_chars]\n",
    "    \n",
    "    summary_result = runnable.invoke({\"text\": text})\n",
    "    return ThreadResult(submission=submission, text=text, summary_result=summary_result)\n"
   ]
  },
  {
   "cell_type": "code",
   "execution_count": 26,
   "metadata": {},
   "outputs": [
    {
     "data": {
      "text/html": [
       "\n",
       "    <h1>Palia is not going to \"die\" by AdOk6246 on 2024-05-22</h1>\n",
       "    <a href=\"https://www.reddit.com/r/Palia/comments/1cyca98/palia_is_not_going_to_die/\">https://www.reddit.com/r/Palia/comments/1cyca98/palia_is_not_going_to_die/</a>\n",
       "    <h2>Summary</h2>\n",
       "    <p>The Reddit thread discusses concerns about the future of the game Palia amidst layoffs and changes within the development team. Some users express optimism that the game will not \"die\" but acknowledge challenges such as layoffs affecting future content updates and player retention. Others highlight issues with the game's current state, including shallow gameplay mechanics, lack of proper story development, and concerns about the financial sustainability of the game. Suggestions are made for potential improvements such as introducing a subscription model, offering individual cosmetic items for purchase, and addressing bugs to enhance player experience. Overall, there is a mix of hope, skepticism, and suggestions for the game's future direction and success.</p>\n",
       "\n",
       "    <h2>Original Thread</h2>\n",
       "    <p><br>Palia is not going to \"die\" by AdOk6246 on 2024-05-22 [+221 votes]:<br>I see a lot of people worrying, and I just going to say, in my opinion, it will not \"die\". Despite layoffs the game will not be pulled off of steam/completely shut down. At least some of the OG team will be enough to keep it going as is I think.<br><br>But I do still believe they have enough to continue with large updates. It is normal for studios to layoff people as the game comes together. The main story and art directors may simply not be needed anymore. Their work may be done, just working on implementing it.<br><br>I do also realise they are absolutely not making enough money to keep a larger team, but that doesn't mean layoffs=game over. The direction of the game may change, the ideas may need to be condensed or made simpler, but ultimately it is not over.<br><br>I just hope this gives some hope to some of those fearful it will forever disappear into the ether. It would be incredibly unlikely for Palia to completely fall off at this point.<br><br>  <br>edit: reworded some stuff since everyone thought i meant i am 100% sure. this is just my opinion. i have some knowledge of game development and such but im sure theres others with far more than me here. its just an opinion. ultimately no one can know.<br><br>Comment by RelikaNox on 2024-05-22 [+283 votes]:<br>I just want everyone to remember that this isn't a case of doing layoffs because a game is done/almost done.<br><br>Palia styles itself as an MMO. This means live service. This means that S6 will still need to have a solid team churning out new content (quests, art, level design, models, etcetc). Laying off most of the company, including several senior members and department heads, means that future content is crippled.<br><br>You need future content to keep players.<br><br>And btw, most of the OG team has been laid off by now.<br><br>Comment by artristirious on 2024-05-23 [+27 votes]:<br>RemindMe! -1 year<br><br>Comment by Disig on 2024-05-22 [+50 votes]:<br>People are also trying to explain nuance and are getting yelled at. Because yeah, the signs are there, the company isn't in great shape. That's why they're releasing heavily requested things. To keep players and attract new.<br><br>We're not saying that's a bad thing! It's a good thing! The sign is bad but their actions are good. They're doing what they should be doing! What many games do! There's a difference! We're not doom posting!<br><br>Comment by trianuddah on 2024-05-23 [+21 votes]:<br>Considering the state of the games industry currently, it's perfectly reasonable for people to be worried.<br><br>Comment by SanguineElora on 2024-05-23 [+9 votes]:<br>Well it would certainly be nice to hear this from S6 themselves instead of hearing it from other players who are just theorizing. I like optimism but I think S6 owes their customers and players some sort of explanation regarding the layoffs.<br><br>Comment by lkeels on 2024-05-22 [+35 votes]:<br>The \"OG\" team isn't there anymore.<br><br>Comment by -Bears-Eat-Beets- on 2024-05-22 [+55 votes]:<br>Layoffs aside, the latest patch notes for the next update are not going to help with longevity of the game. Making the game easier than it already is in terms of economy and crafting costs, is not going to lead to players staying players. Which is never good for a games long term viability. <br><br>Players will be completing things even faster than already possible, running out of things to do. And finding a new game to play. Not a good move especially considering less devs to create new content. Bad recipe they are cooking up. Seen it a few times in the game industry.<br><br>Comment by joestradamus_one on 2024-05-22 [+31 votes]:<br>Despite not playing in months, I like the game but I think it's crippled if they don't figure out financing sooner than later to then hire back people and churn out more/better content. I just saw someone else's comment saying that they are making the game easier than it already is, that's not a good long term strategy IMO. Oh well, we'll see. My opinion: crippled.<br><br>Comment by futurecrazycatlady on 2024-05-23 [+6 votes]:<br>It might die, it might not. <br><br>However I did get curious about what's in store and looked for datamines and now I'm convinced I can keep entertaining myself for quite some time still.<br><br>Comment by elisettttt on 2024-05-23 [+16 votes]:<br>Except the game is far from coming together. It's in beta still and that's obvious. The game still needs work before it can leave the beta stage. Laying off most of the team right now doesn't make sense to me. Plus, in their discord announcement acknowledging the layoffs are real and not a rumour, they mentioned something along the lines of \"tough economic times\". That does not sound good to me. <br><br>They don't even have a community team anymore, every single CM is gone now. And you'd think that the more the game grows, the community also grows and therefore you need a larger community team, no? It is incredibly important to remain in touch with your community, make them feel like they're heard and keep them updated on what's going on with the game. And that's what CMs are for. The fact we don't have any anymore worries me. <br><br>Do I think the game will shut down next month? No. But I honestly can't see it lasting for years the way it is now. The ONLY way they're making money is through the premium shop. And honestly, most of the cosmetics look either mediocre or out of place to me. Not to mention they're ridiculously expensive, so less people are likely to buy them. I feel like if they really want the game to be around for the long term, they're gonna need to look into other ways of making money. There's enough people that care about Palia and want to see it grow and flourish so that's not the problem.<br><br>Comment by 11_roo on 2024-05-22 [+51 votes]:<br>the idea you can say that with any amount of certainty is so silly imo<br><br>Comment by danpru on 2024-05-23 [+13 votes]:<br>80% of Palia is just an RNG simulator. Whether it's mining for starstones, hunting for plushies, fishing for rare fish etc. I see this RNG pattern everywhere and it is a primary tactic to keep you hooked. But this makes for gameplay with no real substance. It's empty and shallow without a proper story and perhaps some kind of recurring activity that doesn't involve RNG grind.<br><br>Comment by Significant-Buy9424 on 2024-05-22 [+13 votes]:<br>It'll keep going as is, playerbase will drop overtime and eventually updates will stop and maintenance mode begins. Servers will run for a while, then it'll be shutdown.<br><br>Im having fun though and I'm enjoying my time and will continue to play as long as I do<br><br>Comment by None on 2024-05-23 [+4 votes]:<br>I hope everything works out for this game. It’s very enjoyable. I’m looking forward to them opening up new areas. Bahari and Kalema are starting to get a little boring when you’ve run around at 1000 times give us some new place to go please maybe new bugs new fish new creatures, new people<br><br>Comment by Lady0905 on 2024-05-23 [+2 votes]:<br>I’ll chime in as well. There was a post on Discord a few days ago regarding the layoffs and the new update. Those who read it and those who have been working in the corporate world long enough, can read between the lines there and draw their own conclusions. My personal impression after reading the statement is that the game is not going anywhere, but it IS going to change direction (hence the new update) on a few foundational things. While reading the post to me it seemed pretty clear that they were not happy with the way the game was designed (and I don’t mean art, I mean basic mechanics of a MMO game) and that they are going ahead with some pretty major changes to the foundation of the game - starting with economy. I mean, when a game is nearly ready to go official, it might lack some story parts but it should at least have the basics like in-game economy in order. <br>My guess is that their next major change will be in regard to coop in the game, to create more options for cooperation between players. <br>And for the rest, I agree that moving forward they will only need to hire developers and art directors on temporary basis. It could also be that they are outsourcing resources which is what a lot of IT companies do nowadays. <br>What they most probably will need more of in the near future are infrastructure architects and security architects. As the game will be gaining more players and hopefully expanding story-wise, they’ll need more people to manage the scaling in the background.<br><br>Comment by spanishsahara-x on 2024-05-23 [+3 votes]:<br>I saw a post earlier and all I saw was the game being shut down and panicked! <br>I’ve only just started really playing palia, and I’m really enjoying it and I’d love to continue it, these post make me nervous though 🤣 <br><br>I will admit I have 0 idea about gaming and what making a game entails so maybe you’re correct and it’s normal. Why don’t they charge for the game though? Don’t get me wrong I’m very happy it’s free as it saves me money but i would be more than happy paying for it, with all its content etc, I’ve paid £20 for games less than what Palia offers! Would that not help them? <br><br>I’d be really sad to see this game not be updated or taken down for whatever reason so I really hope they don’t. <br><br>Can anyone fill a girl with some confidence lmao 🤣🤣🤣<br><br>Comment by Patmayo42 on 2024-05-23 [+3 votes]:<br>I have to agree. My husband works in a similar industry and it is very common for studios to lay off employees as their projects progress and certain roles are no longer needed. The folks who work in video game production know going into it that this is something that can happen.<br><br>Comment by Tiny_Blacksmith6399 on 2024-05-23 [+3 votes]:<br>Thank you for this outlook!!! I’ve been upset that this game was going away after I just found this game!!<br><br>Comment by bratcakes on 2024-05-22 [+5 votes]:<br>3 layoffs is t typical tho.. personally I think they are in talks with another company but that’s just my thought<br><br>Comment by light8686 on 2024-05-23 [+5 votes]:<br>I am sure the game will not suddenly \"die\" in the near future but it does not give me a lot of confidence either. <br><br>I started the Palia at the start of the Open Beta during August 2023. I thought version 1.0 will be released during the Switch release but it does not. Then I thought maybe it would finally be out of Beta during the Steam release but it does not. <br><br>Just when I was thinking about the official 1.0 release, the layoffs happened. It will definitely slow down the progress of the game development.<br><br>Comment by Happy-Boysenberry-77 on 2024-05-23 [+2 votes]:<br>I’m a new player on a switch and I love it. I think them making it available to us was smart we don’t have a good mmo. Animal crossing and fae farm got very boring for me Palia was everything I was asking for in those two games.!<br><br>Comment by wandering_light_12 on 2024-05-23 [+2 votes]:<br>Having read the new patch notes,  I am not sure. The new stuff being rolled out now has been in the works for months. The incentive to play is still there, but there is a shift... not sure what it is yet but its there. I read the patch notes and am still trying to work out the logistics given the language involved. I felt like filler and ai fluff to read.   <br>At this point in time if they announced a subscription for the game Id be happier, introducing a pal fox (or whatever its called) is a lost leader. What happens when everyone who wants one has it? Its a stop gap financial boost is all. Again same with the wardrobe clothing bundles... if you want one chances are you already have it. They are going to have to find a revenue stream that brings in funding consistently if they want to continue to develop and move the game forward. The only way (that I can see of ...) is a monthly subscription (even if its only $5 or 10 a month or tiered for more incentive with special ed stuff just for subscribers ) and as long as they keep up with updates and content, I cant see they would loose their core player base. Feel free to call me out and say I am wrong though :-) debate is good and all debate like this will help with crowd funding ideas for S6 to use ;-)<br><br>Comment by UnidentifiedDisaster on 2024-05-23 [+2 votes]:<br>I had no idea there were layoffs<br><br>Comment by NaztyC on 2024-05-23 [+2 votes]:<br>I just wish they would make an xbox and ps version of the game. Get more eyes on it. The switch version runs like ass too.<br><br>Comment by Slaidn on 2024-05-22 [+5 votes]:<br>You don't really have anything to back up what you're saying and what you have said it straight up hopium/copium. The games is already a completely mindless grind. The skills are extremely shallow and are an absolute chore to grind. The only thing the game has going for it is a pretty robust player owned housing system that basically makes you grind to do what you could do in the SIMS. This coming from someone who participated in the prerelease testing and feedback.<br><br>Comment by GoatLord8 on 2024-05-23 [+3 votes]:<br>I remember when people were still hard coping refusing to admit the game will die, apparently now the cope is just saying it ”won’t die, I think”, which is a sad development to witness.<br><br>What you all need to understand is that it does not matter if the game dies or not, if the game can’t become sustainable the servers will be shut down and then it won’t matter how many people want to play, you simply won’t be able to. <br><br>I’m too tired to go into detail on why this game has been lost for a long time now, I have before, it’s too much effort to bring up the timeline again. What I will say though is that if you actually look into the timeline of Palias development and more importantly, the way the devs have handled their funding (very badly fyi) and how they have treated the community (with their ”my way or the highway” mentality, you will find that the game was destined to fail from the very beginning.<br><br>This is not an opinion, this is the reality of how the devs have mismanaged this project. If you still want to believe I’m ”just a hater”, or whatever, then you also need to come to terms with the fact that you are literally denying real events just to tell yourself that ”everything will be fine” and extend your cope a little further... <br><br>People need to stop coping, if people had done that at the very start, then maybe Palia would be in a better place now, since the devs would have been forced to improve.. Instead people like myself and many others who brought up issues early on were shut down and told that we ”have to support the devs no matter what” in order to see Palia succeed. This lead to the devs being able to ruin the game in whatever way they wanted and the community would just applaud them anyway. Well look where that has gotten us…<br><br>Comment by Phoxphire02531 on 2024-05-23 [+2 votes]:<br>We hear \"Layoffs\" and think the worst. I have a friend that works in theater and they get laid off every summer because of off season.<br><br>Comment by None on 2024-05-23 [+2 votes]:<br>It’s not going to “die” from layoffs it’s just that the game won’t be as popular as they thought. It’s not really a true mmo as promised. The game play is very slow, and not explained well. It’s not just not as “cozy” as they think. <br><br>I can see them turning this game into a single player game to save money, and to raise the price of the game and repackage it and make sales that way. <br><br>Comment by lomogeek on 2024-05-23 [+1 votes]:<br>I love the game and I know they listen to the community but it feels like they don't test out their patches before releasing updates. I think the amount of bugs could bring the game down and cause some of us not to play. I've had a quest bug for months that won't allow me to complete any other quests with Subira (I know others are also in the same situation). It's frustrating.<br><br>Financially, I know this has been suggested before but I'd love it if they also offered individual pieces from the cosmetic sets and I think they'd make even more money from us. They could also offer name/gender/facial change services for $5 and I'm sure some would gladly pay that.<br><br>Comment by mike4763 on 2024-05-24 [+1 votes]:<br>![gif](giphy|TdwziQPhbNAzK)<br><br>Comment by minthour on 2024-05-26 [+1 votes]:<br>copium<br><br>Comment by hawkloss on 2024-05-23 [+1 votes]:<br>If they didn't have a good monetization model with a full team, well, I hope you all enjoy the content you have now because it's gonna be slim for a while. <br><br>I quit this game after about 6 hrs (on Switch lol) and realizing I couldn't earn new cosmetics or even spend in-game earned currency on them. Their free-to-play model was flawed out the gate.<br><br>Comment by vyrael44 on 2024-05-23 [+1 votes]:<br>The problem is the ideas and updates have been condensed already and pretty tiny and spaced far apart as it was. I think that is the bigger issue for me and many others<br><br>Comment by surrrah on 2024-05-23 [-2 votes]:<br>Yeah tbh all those saying “well all these things mean it’s bad”… like unless they are in the industry, it doesn’t matter what they say lol. Like it’s just speculation and no one really knows. <br><br>They are still working on the game. If they planned to stop, they would not wait and waste money lol<br><br>Comment by Rydralain on 2024-05-22 [-7 votes]:<br>![gif](giphy|AyAHZ3Q0MgpeU)<br><br>I'm gonna sing the doom song now!<br><br>Comment by totofogo on 2024-05-22 [-5 votes]:<br>It’s an MMO<br></p>\n"
      ],
      "text/plain": [
       "<IPython.core.display.HTML object>"
      ]
     },
     "metadata": {},
     "output_type": "display_data"
    }
   ],
   "source": [
    "from IPython.display import HTML\n",
    "\n",
    "thread_urls = reddit_search(\"Palia\", stop=10, pause=2)\n",
    "random_url = thread_urls[1]\n",
    "random_thread_result = process_url(random_url)\n",
    "display(HTML(random_thread_result.to_html()))"
   ]
  },
  {
   "cell_type": "code",
   "execution_count": 8,
   "metadata": {},
   "outputs": [
    {
     "data": {
      "text/html": [
       "\n",
       "<h1>Prompt</h1>\n",
       "\n",
       "<h2>System prompt</h2>\n",
       "<pre>\n",
       "\n",
       "            You're an expert at reading and summarizing public online discussions.\n",
       "\n",
       "            Please read and summarize the following Reddit thread.\n",
       "            The summary should cover all the key points and main ideas presented in the original text, while also condensing the information into a concise and easy-to-understand format. \n",
       "            Please ensure that the summary includes relevant details and examples that support the main ideas, while avoiding any unnecessary information or repetition. \n",
       "            The length of the summary should be appropriate for the length and complexity of the original text, providing a clear and accurate overview without omitting any important information.\n",
       "            \n",
       "</pre>\n",
       "\n",
       "<h2>Prompt</h2>\n",
       "<pre>\n",
       "\n",
       "            Reddit thread: \n",
       "            {text}\n",
       "            \n",
       "</pre>\n",
       "    "
      ],
      "text/plain": [
       "<IPython.core.display.HTML object>"
      ]
     },
     "metadata": {},
     "output_type": "display_data"
    }
   ],
   "source": [
    "def summarize_prompt(prompt):\n",
    "    return f\"\"\"\n",
    "<h1>Prompt</h1>\n",
    "\n",
    "<h2>System prompt</h2>\n",
    "<pre>\n",
    "{prompt.messages[0].prompt.template}\n",
    "</pre>\n",
    "\n",
    "<h2>Prompt</h2>\n",
    "<pre>\n",
    "{prompt.messages[1].prompt.template}\n",
    "</pre>\n",
    "    \"\"\"\n",
    "\n",
    "display(HTML(summarize_prompt(prompt)))"
   ]
  },
  {
   "cell_type": "code",
   "execution_count": 11,
   "metadata": {},
   "outputs": [],
   "source": [
    "import hashlib\n",
    "import os\n",
    "\n",
    "def short_evaluation(company_name: str):\n",
    "    # This is cached so it should be quick\n",
    "    thread_urls = reddit_search(company_name, stop=10, pause=2)[:2]\n",
    "\n",
    "    # The ID of the test is the last 4 chars of the sha of the url list\n",
    "    test_id = hashlib.sha256(\"\".join(thread_urls).encode()).hexdigest()[-4:]\n",
    "    \n",
    "    folder = f\"evaluation/test_{test_id}\"\n",
    "    os.makedirs(folder, exist_ok=True)\n",
    "\n",
    "    results = [process_url(url) for url in thread_urls]\n",
    "    html_result = wrap_html(summarize_prompt(prompt) + \"\\n\".join(r.to_html() for r in results))\n",
    "\n",
    "    # Create the filename using the current timestamp\n",
    "    timestamp = datetime.now().strftime(\"%Y%m%d_%H%M%S\")\n",
    "    filename = f\"{folder}/{timestamp}.html\"\n",
    "\n",
    "    with open(filename, \"w\") as f:\n",
    "        f.write(html_result)\n",
    "\n",
    "    print(f\"Results saved to {filename}\")\n",
    "\n",
    "short_evaluation(\"98point6\")\n"
   ]
  },
  {
   "cell_type": "code",
   "execution_count": 27,
   "metadata": {},
   "outputs": [
    {
     "name": "stdout",
     "output_type": "stream",
     "text": [
      "Text too long: 49301 > 30000. Truncating.\n",
      "Text too long: 180400 > 30000. Truncating.\n",
      "Results saved to evaluation/test_3195/20240726_143108.html\n"
     ]
    }
   ],
   "source": [
    "from typing import List\n",
    "\n",
    "def long_evaluation(companies: List[str]):\n",
    "    thread_lists = [reddit_search(company, stop=10, pause=2)[:3] for company in companies]\n",
    "\n",
    "    test_id = hashlib.sha256((str(companies) + str(thread_lists)).encode()).hexdigest()[-4:]\n",
    "\n",
    "    folder = f\"evaluation/test_{test_id}\"\n",
    "    os.makedirs(folder, exist_ok=True)\n",
    "\n",
    "    html_result = summarize_prompt(prompt)\n",
    "\n",
    "    for company, results in zip(companies, thread_lists):\n",
    "        html_result += f\"<h1>{company}</h1>\"\n",
    "        results = [process_url(url) for url in results]\n",
    "        html_result += \"\\n\".join(r.to_html() for r in results)\n",
    "\n",
    "    # Create the filename using the current timestamp\n",
    "    timestamp = datetime.now().strftime(\"%Y%m%d_%H%M%S\")\n",
    "    filename = f\"{folder}/{timestamp}.html\"\n",
    "\n",
    "    with open(filename, \"w\") as f:\n",
    "        f.write(html_result)\n",
    "\n",
    "    print(f\"Results saved to {filename}\")\n",
    "\n",
    "# TODO: Update this once we have company-product pairs instead\n",
    "long_evaluation([\"98point6\", \"Rad AI\", \"Palia\", \"Instacart\"])"
   ]
  },
  {
   "cell_type": "code",
   "execution_count": null,
   "metadata": {},
   "outputs": [],
   "source": []
  }
 ],
 "metadata": {
  "kernelspec": {
   "display_name": "Python 3",
   "language": "python",
   "name": "python3"
  },
  "language_info": {
   "codemirror_mode": {
    "name": "ipython",
    "version": 3
   },
   "file_extension": ".py",
   "mimetype": "text/x-python",
   "name": "python",
   "nbconvert_exporter": "python",
   "pygments_lexer": "ipython3",
   "version": "3.10.12"
  }
 },
 "nbformat": 4,
 "nbformat_minor": 2
}
