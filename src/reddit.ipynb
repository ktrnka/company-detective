{
 "cells": [
  {
   "cell_type": "code",
   "execution_count": 1,
   "metadata": {},
   "outputs": [
    {
     "name": "stdout",
     "output_type": "stream",
     "text": [
      "# Summary: Internet medicine is awesome, 98point6 was so so helpful for me (thread id: bg7ip2)\n",
      "\n",
      "The Reddit thread discusses user experiences with 98point6, an online medical service that provides affordable consultations and prescriptions. Users share positive experiences regarding accessibility and affordability, while some express concerns about limitations in prescribing certain medications.\n",
      "\n",
      "## User Experience\n",
      "\n",
      "### Strengths\n",
      "\n",
      "- \"It was amazing. ... I would 100% use 98point6 again, especially since my $20 gets me unlimited visits for a year.\" (source: bg7ip2)\n",
      "- \"This amazing awesome doctor ... was actively prepared to address the needs of people who have limited funds.\" (source: bg7ip2)\n",
      "- \"Helped me get paxlovid for covid more quickly than I otherwise would have been able to.\" (source: idl52u3)\n",
      "\n",
      "\n",
      "### Weaknesses\n",
      "\n",
      "- \"My husband and I have used 98.6 three times. All three times they did not prescribe the needed antibiotic to get better.\" (source: hrmpl3t)\n",
      "- \"It's not the right place to go for a broken arm, but for prescription anti-inflammatories or antibiotics for your 3rd UTI of the year or something pretty basic it's a good low cost option.\" (source: bg7ip2)\n",
      "\n",
      "\n",
      "## Employee Experience\n",
      "\n",
      "### Strengths\n",
      "\n",
      "\n",
      "\n",
      "### Weaknesses\n",
      "\n",
      "\n",
      "\n",
      "## Investor Perspective\n",
      "\n",
      "\n",
      "\n",
      "\n"
     ]
    }
   ],
   "source": [
    "import reddit\n",
    "from reddit_summarizer import summarize_submission\n",
    "from core import CompanyProduct\n",
    "\n",
    "def test_single_summary(target: CompanyProduct):\n",
    "    reddit_client = reddit.init()\n",
    "\n",
    "    # Search for URLs\n",
    "    post_url = reddit.find_submission_urls(target, num_results=10)[0]\n",
    "\n",
    "    # Fetch the Submissions from Reddit\n",
    "    post_submission = reddit_client.submission(url=post_url)\n",
    "\n",
    "    # Summarize each\n",
    "    return summarize_submission(target, post_submission)\n",
    "\n",
    "summary = test_single_summary(CompanyProduct.same(\"98point6\"))\n",
    "\n",
    "print(summary.to_markdown())"
   ]
  },
  {
   "cell_type": "code",
   "execution_count": 1,
   "metadata": {},
   "outputs": [
    {
     "name": "stdout",
     "output_type": "stream",
     "text": [
      "# 98point6 / 98point6\n",
      "\n",
      "The Reddit threads discuss user experiences with 98point6, an online medical service that provides affordable consultations and prescriptions. Users generally appreciate the accessibility and cost-effectiveness of the service, but some express concerns about limitations in prescribing certain medications and the appropriateness of the service for more serious medical issues. There is no information available regarding employee experiences or investor perspectives.\n",
      "\n",
      "## User Experience\n",
      "\n",
      "### Strengths\n",
      "\n",
      "\n",
      "- \"It was amazing. I chatted with some weird robot for 10 minutes or so and answered questions about what my problem was, then I got connected to this nice doctor lady.\" (source: bg7ip2)\n",
      "- \"This amazing awesome doctor... was actively prepared to address the needs of people who have limited funds.\" (source: bg7ip2)\n",
      "- \"I would 100% use 98point6 again, especially since my $20 gets me unlimited visits for a year.\" (source: bg7ip2)\n",
      "- \"I really appreciate the accessibility of it.\" (source: gkwtoqb)\n",
      "\n",
      "\n",
      "\n",
      "### Weaknesses\n",
      "\n",
      "\n",
      "- \"My husband and I have used 98.6 three times. All three times they did not prescribe the needed antibiotic to get better.\" (source: hrmpl3t)\n",
      "- \"It's not the right place to go for a broken arm, but for prescription anti-inflammatories or antibiotics for your 3rd UTI of the year or something pretty basic it's a good low cost option.\" (source: bg7ip2)\n",
      "- \"Total garbage, they rarely prescribe any meds online and tell you to go to a clinic.\" (source: joi8dqm)\n",
      "\n",
      "\n",
      "\n",
      "## Employee Experience\n",
      "\n",
      "### Strengths\n",
      "\n",
      "\n",
      "\n",
      "### Weaknesses\n",
      "\n",
      "\n",
      "\n",
      "## Investor Perspective\n",
      "\n",
      "\n"
     ]
    }
   ],
   "source": [
    "import reddit\n",
    "from reddit_summarizer import summarize_submission, summarize_summaries\n",
    "from core import CompanyProduct\n",
    "\n",
    "def short_test(target: CompanyProduct, num_posts: int = 10):\n",
    "    reddit_client = reddit.init()\n",
    "\n",
    "    # Search for URLs\n",
    "    post_urls = reddit.find_submission_urls(target, num_results=num_posts)[:2]\n",
    "\n",
    "    # Fetch the Submissions from Reddit\n",
    "    post_submissions = [reddit_client.submission(url=url) for url in post_urls]\n",
    "\n",
    "    # Summarize each\n",
    "    post_summaries = [summarize_submission(target, submission) for submission in post_submissions]\n",
    "\n",
    "    # Aggregate the summaries\n",
    "    aggregate_summary = summarize_summaries(target, post_summaries)\n",
    "\n",
    "    return aggregate_summary\n",
    "\n",
    "aggregate_summary = short_test(CompanyProduct.same(\"98point6\"))\n",
    "\n",
    "print(aggregate_summary.to_markdown())"
   ]
  },
  {
   "cell_type": "code",
   "execution_count": 5,
   "metadata": {},
   "outputs": [
    {
     "name": "stdout",
     "output_type": "stream",
     "text": [
      "AggregatedSummaryResult(target=CompanyProduct(company='98point6', product='98point6'), summaries=[ThreadSummaryResult(submission=Submission(id='bg7ip2'), text='\\n# Post bg7ip2:  Internet medicine is awesome, 98point6 was so so helpful for me by FrugalChef13 on 2019-04-22 [+55 votes]\\n**TL;DR- $20 got me an awesome appointment with a nice doctor and a prescription for a medication I could afford that solved my issue.**\\n\\n*Disclaimer: This particular thing worked well for me so I\\'m going to tell you about it. Everyone is different, so it might not work as well (or at all) for you.  Take what you find useful from this post and ignore the rest.  I\\'m not compensated or connected to the website I\\'m discussing.*\\n\\nSo like a lot of people on here I\\'m usually either uninsured or underinsured.  Right now it\\'s underinsured with a high deductible, so when I messed my back up badly enough that I could barely move I freaked.  I\\'ve got scoliosis, a fucked up spine, bad knees, and muscles that love to spasm uncontrollably for days on end.  I\\'d run out of my prescription muscle relaxants last fall and hadn\\'t been able to afford another appointment.  Advil helps a little but it wears off in 4 hours so I kept waking up in pain, and for some reason Aleve has never worked for me.  Just doesn\\'t, it\\'s weird.\\n\\nSo I was fucked.  Can\\'t sleep, hurts like crazy, still gotta work.  Fuck.  Can\\'t afford the $100+ for a doctor\\'s appointment, plus taking the day off to get into the next town over where there\\'s a walk in clinic that can take me on short notice.  Fuck fuck.  Bad.\\n\\nSo I drank several glasses of wine and started googling \"how to get a prescription online.\"  There are some pretty sketchy (and expensive) options that I am pretty sure are hella illegal, and then I see a result for [98point6.com](https://98point6.com).  It\\'s $20 for a one year membership with unlimited online appointments ($120 for the second year unless I cancel before then).  Fuck it, I\\'m drunk enough to sleep tonight, if I\\'m still in bad shape tomorrow morning it\\'s worth a try.  I was still in bad shape the next morning, so I did it.\\n\\nGuys, it was amazing.  It\\'s not perfect, obviously- you need an internet connection and either a phone or  computer with webcam.  I chatted with some weird robot for 10 minutes or so and answered questions about what my problem was, then I got connected to this nice doctor lady and we talked over the webcam for... 10 minutes maybe?   about what was going on, what I\\'d already tried, what I knew from my own medical history likely wouldn\\'t help.  She was so kind, and didn\\'t make me feel dumb or worthless for not being able to afford a full price doctor\\'s appointment in my town.  She said that even people who do have a local PCP use their service because it\\'s faster and cheaper and easier than an office visit.  (One limitation of internet medicine is that they can\\'t prescribe controlled substances, or medications with high potential for abuse which apparently includes the muscle relaxant I usually took.)   She recommended a prescription anti-inflammatory that lasts for 12 hours, since the muscle relaxant I\\'d taken in the past wasn\\'t an option to have prescribed over the internet. And then I said the thing I hate saying- \"This sounds like a good option, but cost is a big issue for me.  What\\'s the usual price of this med out of pocket?\"\\n\\nUsually when I ask that the doctor says something shitty like \"well it\\'s what I normally prescribe for someone in your situation, the cost you\\'ll pay varies based on the pharmacy and your insurance. Unfortunately I can\\'t estimate your cost.\"  This lady did not.\\n\\nThis amazing awesome doctor picked up her iPhone and said \"I have an app for a website called GoodRx, if you give me your zip code I\\'ll let you know what this will cost at the pharmacies in your area using their discount program. If this medication is out of your price range there are a few other things that would work just as well and might be more affordable.\"  She didn\\'t shame me for being poor, she was actively prepared to address the needs of people who have limited funds, and she was willing to spend her time to find a medication I could afford.  Happily, the med she prescribed was under $15 for a 1 month supply through GoodRx, hooray!  (I know that\\'s a lot for some people, but it was doable for me.)\\n\\nI would 100% use 98point6 again, especially since my $20 gets me unlimited visits for a year.  It\\'s not the right place to go for a broken arm, but for prescription anti-inflammatories or antibiotics for your 3rd UTI of the year or something pretty basic it\\'s a good low cost option.   And not having to leave the house to talk to a doctor was really really great.\\n\\nIf anyone else has recommendations or critiques or thoughts on internet medicine stuff I\\'d love to hear it.\\n\\n## Comment elj1h0o by None on 2019-04-22 [+8 votes] (in reply to bg7ip2):\\nThat sounds like a great resource! Especially for my two most common ailments, pink eye (I work with kids, they’re gross) and strep. Thanks for sharing\\n\\n### Comment eljexpb by FrugalChef13 on 2019-04-23 [+3 votes] (in reply to elj1h0o):\\nYeah, it\\'s not a \"this solves all your problems\" thing, but it might be a \"this solves some of your problems this week\" thing.\\n\\nI love children and are they are horrible little germ spreaders.  Wonderful munchkins, terrible pink eye.\\n\\n\\n\\n\\n\\n## Comment eljwrv8 by AnotherDay_RS on 2019-04-23 [+3 votes] (in reply to bg7ip2):\\nSounds like a great service but what i don\\'t understand is, If they cannot prescribe you the medication due to ie; controlled substance etc. Why is she giving you price to purchase it under GoodRX?\\n\\nSorry that part wasn\\'t clear to me, I thought you needed a doctor approval to prescribe controlled substances.\\n\\n### Comment eljx9uw by FrugalChef13 on 2019-04-23 [+3 votes] (in reply to eljwrv8):\\nSo there are prescriptions, and there are controlled substances which are like super duper extra prescriptions.  Controlled substances are usually stuff with a high chance of being abused, or that is sold as street drug.\\n\\nA prescription is for stuff like \"the pill\" or prescription anti-inflammatories or antibiotics.\\n\\nControlled substances are prescription drugs with extra levels of protection and oversight.  The biggies are opiates (Percocet, Oxycontin, etc), stimulants (Ritalin, Adderall), and benzodiazepines (Valium, Klonopin).  Even IRL doctors have to do extra stuff to prescribe controlled substances, and you have to sign and do extra stuff to fill the prescriptions and pick them up at the pharmacy.\\n\\nSo the 98point6 doctor could prescribe me the long-acting prescription anti-inflammatory meloxicam, but not the controlled substance Vicodin or the muscle relaxant Flexiril.  Neither medication can be purchased without a prescription from a doctor, but Vicodin is super extra hard to get prescribed.\\n\\nDoes that make sense?\\n\\nEDIT: I tried to clarify the original post to make it more obvious that although she couldn\\'t prescribe the thing I\\'d taken in the past, she did prescribe a thing that helped a lot.  It actually helped even more than the thing I\\'d taken in the past and without making me drowsy, which is AWESOME!\\n\\n#### Comment eljy54o by AnotherDay_RS on 2019-04-23 [+2 votes] (in reply to eljx9uw):\\nThat\\'s great!! I will have to keep that service in mind, Thanks for clarifying.\\n\\n\\n\\n#### Comment elkh6df by Mr_Fuzzo on 2019-04-23 [+2 votes] (in reply to eljx9uw):\\nControlled substances, for the un-initiated are medications like opiates, barbiturates, methamphetamines, benzodiazepines, etc.\\n\\nSo, meds like Xanax, OxyContin, Ritalin, etc.\\n\\n\\n\\n#### Comment jl3md0l by booalijules on 2023-05-22 [+1 votes] (in reply to eljx9uw):\\nWhat about something like dexamethasone or prednisone?\\n\\n\\n\\n## Comment hrmpl3t by MarketWorldly9908 on 2022-01-07 [+3 votes] (in reply to bg7ip2):\\nMy husband and I have used 98.6 three times. All three times they did not prescribe the needed antibiotic to get better. I had an ear infection, my husband had an ear infection, then I had a sinus infection. We had to wait and get into our family doctor, so we paid 98.6 and our family doctor. I would not recommend them!\\n\\n\\n\\n## Comment elkkysu by NightSkyButterfly on 2019-04-23 [+2 votes] (in reply to bg7ip2):\\nI\\'m not sure where your old prescription on file is, but I know at the big box pharmacy I used to work at we could send an electronic request to the doctor to write a new script without a visit. Doesn\\'t always work, but worth a try for a med you need!\\n\\n\\n\\n## Comment idl52u3 by Sweetcynic36 on 2022-06-24 [+1 votes] (in reply to bg7ip2):\\nHelped me get paxlovid for covid more quickly than I otherwise would have been able to. Win win.\\n\\n\\n\\n## Comment k4j76lw by prettyclouds88 on 2023-10-12 [+1 votes] (in reply to bg7ip2):\\nThank you for this.\\n\\n', summary_result=ThreadSummary(thread_summary=\"The Reddit thread discusses user experiences with 98point6, an online medical service that provides affordable consultations and prescriptions. Users share both positive and negative experiences, highlighting the service's accessibility and limitations.\", user_experience_strengths=[Claim(quote='It was amazing. I chatted with some weird robot for 10 minutes or so and answered questions about what my problem was, then I got connected to this nice doctor lady.', comment_id='bg7ip2'), Claim(quote='This amazing awesome doctor... was actively prepared to address the needs of people who have limited funds.', comment_id='bg7ip2'), Claim(quote='I would 100% use 98point6 again, especially since my $20 gets me unlimited visits for a year.', comment_id='bg7ip2')], user_experience_weaknesses=[Claim(quote='My husband and I have used 98.6 three times. All three times they did not prescribe the needed antibiotic to get better.', comment_id='hrmpl3t'), Claim(quote=\"It's not the right place to go for a broken arm, but for prescription anti-inflammatories or antibiotics for your 3rd UTI of the year or something pretty basic it's a good low cost option.\", comment_id='bg7ip2')], employee_experience_strengths=[], employee_experience_weaknesses=[], investor_perspective=[])), ThreadSummaryResult(submission=Submission(id='l5bbt9'), text=\"\\n# Post l5bbt9:  Has anyone used the 98point6 primary care? by pinkmoonbliss on 2021-01-26 [+12 votes]\\nIt’s the 24/7 doctor program and been thinking about using it for depression treatment\\n\\n## Comment gkugtqg by None on 2021-01-26 [+8 votes] (in reply to l5bbt9):\\nI haven’t but good for you for getting your life on track. Depression is a hard thing to get through but with the right mindset and helpful support from those you trust around you, I believe you will do amazing things! Keep riding the grind train💪🏼💪🏼💪🏼\\n\\n\\n\\n## Comment gkwtoqb by Somethingtacos on 2021-01-27 [+2 votes] (in reply to l5bbt9):\\nI really appreciate the accessibility of it. I have only used it for physical health issues. I don't know if 98point6 actually can provide mental healthcsre tbh.\\n\\nIf it can't, ask your manager about EAP. It can help connect you to some resources, if not a (temporary) counselor.\\n\\n\\n\\n## Comment joi8dqm by AntRed666 on 2023-06-17 [+1 votes] (in reply to l5bbt9):\\nTotal garbage, they rarely prescribe any meds online and tell you to go to a clinic. I just choose to order my meds online from Canada or Mexico.\\n\\n\", summary_result=ThreadSummary(thread_summary='The Reddit thread discusses user experiences with the 98point6 primary care service, particularly in relation to its accessibility and effectiveness for mental health treatment.', user_experience_strengths=[Claim(quote='I really appreciate the accessibility of it.', comment_id='gkwtoqb')], user_experience_weaknesses=[Claim(quote='Total garbage, they rarely prescribe any meds online and tell you to go to a clinic.', comment_id='joi8dqm')], employee_experience_strengths=[], employee_experience_weaknesses=[], investor_perspective=[])), ThreadSummaryResult(submission=Submission(id='rgxxbw'), text=\"\\n# Post rgxxbw:  Has anyone used Amazon care app or 98point6 app to get a doctors note to be excused? FOr like food poisoning, really bad stomach aches, cold/fever, etc. by les0ul on 2021-12-15 [+5 votes]\\n\\n\\n## Comment homxlbp by TrailNana on 2021-12-15 [+1 votes] (in reply to rgxxbw):\\nMy site doesn't accept doctor's notes either. You have to be ill enough to warrant a medical LOA. They don't excuse common minor illnesses.\\n\\n### Comment hpmua1a by Originally_Hendrix on 2021-12-23 [+1 votes] (in reply to homxlbp):\\nThe note has to be very specific and mention 3 things exactly. If it doesn't then they won't accept it\\n\\n\", summary_result=ThreadSummary(thread_summary=\"The Reddit thread discusses the use of the 98point6 app for obtaining doctor's notes for various illnesses, with users sharing their experiences and requirements for such notes.\", user_experience_strengths=[], user_experience_weaknesses=[], employee_experience_strengths=[], employee_experience_weaknesses=[], investor_perspective=[]))], aggregation_prompt_context='\\n# Summary: Internet medicine is awesome, 98point6 was so so helpful for me (thread id: bg7ip2)\\n\\nThe Reddit thread discusses user experiences with 98point6, an online medical service that provides affordable consultations and prescriptions. Users share both positive and negative experiences, highlighting the service\\'s accessibility and limitations.\\n\\n## User Experience\\n\\n### Strengths\\n\\n- \"It was amazing. I chatted with some weird robot for 10 minutes or so and answered questions about what my problem was, then I got connected to this nice doctor lady.\" (source: bg7ip2)\\n- \"This amazing awesome doctor... was actively prepared to address the needs of people who have limited funds.\" (source: bg7ip2)\\n- \"I would 100% use 98point6 again, especially since my $20 gets me unlimited visits for a year.\" (source: bg7ip2)\\n\\n### Weaknesses\\n\\n- \"My husband and I have used 98.6 three times. All three times they did not prescribe the needed antibiotic to get better.\" (source: hrmpl3t)\\n- \"It\\'s not the right place to go for a broken arm, but for prescription anti-inflammatories or antibiotics for your 3rd UTI of the year or something pretty basic it\\'s a good low cost option.\" (source: bg7ip2)\\n\\n## Employee Experience\\n\\n### Strengths\\n\\nNot applicable\\n\\n### Weaknesses\\n\\nNot applicable\\n\\n## Investor Perspective\\n\\nNot applicable\\n    \\n\\n\\n# Summary: Has anyone used the 98point6 primary care? (thread id: l5bbt9)\\n\\nThe Reddit thread discusses user experiences with the 98point6 primary care service, particularly in relation to its accessibility and effectiveness for mental health treatment.\\n\\n## User Experience\\n\\n### Strengths\\n\\n- \"I really appreciate the accessibility of it.\" (source: gkwtoqb)\\n\\n### Weaknesses\\n\\n- \"Total garbage, they rarely prescribe any meds online and tell you to go to a clinic.\" (source: joi8dqm)\\n\\n## Employee Experience\\n\\n### Strengths\\n\\nNot applicable\\n\\n### Weaknesses\\n\\nNot applicable\\n\\n## Investor Perspective\\n\\nNot applicable\\n    \\n\\n\\n# Summary: Has anyone used Amazon care app or 98point6 app to get a doctors note to be excused? FOr like food poisoning, really bad stomach aches, cold/fever, etc. (thread id: rgxxbw)\\n\\nThe Reddit thread discusses the use of the 98point6 app for obtaining doctor\\'s notes for various illnesses, with users sharing their experiences and requirements for such notes.\\n\\n## User Experience\\n\\n### Strengths\\n\\nNot applicable\\n\\n### Weaknesses\\n\\nNot applicable\\n\\n## Employee Experience\\n\\n### Strengths\\n\\nNot applicable\\n\\n### Weaknesses\\n\\nNot applicable\\n\\n## Investor Perspective\\n\\nNot applicable\\n    ', summary_result=ThreadSummary(thread_summary='The Reddit threads discuss user experiences with 98point6, an online medical service that offers affordable consultations and prescriptions. Users highlight both the strengths and weaknesses of the service, particularly its accessibility and limitations in prescribing medications. There is no significant information regarding employee experiences or investor perspectives in the threads.', user_experience_strengths=[Claim(quote='It was amazing. I chatted with some weird robot for 10 minutes or so and answered questions about what my problem was, then I got connected to this nice doctor lady.', comment_id='bg7ip2'), Claim(quote='This amazing awesome doctor... was actively prepared to address the needs of people who have limited funds.', comment_id='bg7ip2'), Claim(quote='I would 100% use 98point6 again, especially since my $20 gets me unlimited visits for a year.', comment_id='bg7ip2'), Claim(quote='I really appreciate the accessibility of it.', comment_id='gkwtoqb')], user_experience_weaknesses=[Claim(quote='My husband and I have used 98.6 three times. All three times they did not prescribe the needed antibiotic to get better.', comment_id='hrmpl3t'), Claim(quote=\"It's not the right place to go for a broken arm, but for prescription anti-inflammatories or antibiotics for your 3rd UTI of the year or something pretty basic it's a good low cost option.\", comment_id='bg7ip2'), Claim(quote='Total garbage, they rarely prescribe any meds online and tell you to go to a clinic.', comment_id='joi8dqm')], employee_experience_strengths=None, employee_experience_weaknesses=None, investor_perspective=None))\n"
     ]
    }
   ],
   "source": [
    "from pprint import pprint\n",
    "pprint(aggregate_summary)"
   ]
  },
  {
   "cell_type": "code",
   "execution_count": 15,
   "metadata": {},
   "outputs": [
    {
     "name": "stdout",
     "output_type": "stream",
     "text": [
      "\n",
      "# Summary: Palia developers, Singularity 6, axes 35% of staff just after Steam launch (thread id: 1bz2e0z)\n",
      "\n",
      "The Reddit thread discusses the recent layoffs at Singularity 6, the developers of Palia, following a lukewarm reception after the game's Steam launch. Users express mixed feelings about the game, highlighting both its strengths and weaknesses, while also commenting on the company's situation and future prospects.\n",
      "\n",
      "## User Experience\n",
      "\n",
      "### Strengths\n",
      "\n",
      "- \"I enjoy the characters and setting.\" (source: kyppu7o)\n",
      "- \"The story and characters are great, if you like those kind of stories.\" (source: SvenWollinger)\n",
      "- \"The foundations are 100% amazing. The mining, the hunting, the way you can place furniture and items, even the character designs are great.\" (source: payne6)\n",
      "\n",
      "### Weaknesses\n",
      "\n",
      "- \"Palia felt restrictive... you had to have had more freedom for players to build solo.\" (source: kyn4d7g)\n",
      "- \"The gameplay loop was so insanely boring, only two zones and max. 24 other Players with you on one map.\" (source: Labskaus77)\n",
      "- \"The game is lacking that cozy game grind and locked to a central server for absolutely no reason.\" (source: payne6)\n",
      "- \"The cash shop is pretty toxic, I'm not sure palia even has nice intentions.\" (source: Significant-Summer32)\n",
      "\n",
      "## Employee Experience\n",
      "\n",
      "### Strengths\n",
      "\n",
      "Not applicable\n",
      "\n",
      "### Weaknesses\n",
      "\n",
      "- \"Congrats on launching the game! Oh also, here's your termination date and offboarding form.\" (source: kyp9y5t)\n",
      "- \"I was really jazzed to play this with my sister but I went in solo for a bit and it was just kinda boring.\" (source: Foostini)\n",
      "\n",
      "## Investor Perspective\n",
      "\n",
      "- \"This game feels like some big money laundering scheme or something.\" (source: starry101)\n",
      "- \"They received more than enough money to finish the game but likely squandered it somehow.\" (source: kyqoaxk)\n",
      "- \"The game should have been $20, single player, with a focus on the story since that's exactly how it plays.\" (source: MyStationIsAbandoned)\n",
      "    \n"
     ]
    }
   ],
   "source": [
    "from core import CompanyProduct\n",
    "import reddit\n",
    "from reddit_summarizer import thread_summary_prompt, json_instructions, ThreadSummary, summary_to_markdown, llm\n",
    "\n",
    "reddit_client = reddit.init()\n",
    "\n",
    "def summarize_thread(target: CompanyProduct, url: str, text_max_chars=40000) -> ThreadSummary:\n",
    "    submission = reddit_client.submission(url=url)\n",
    "    text = reddit.submission_to_markdown(submission)\n",
    "\n",
    "    if len(text) > text_max_chars:\n",
    "        print(f\"Text too long: {len(text)} > {text_max_chars}. Truncating.\")\n",
    "        text = text[:text_max_chars]\n",
    "    \n",
    "    runnable = thread_summary_prompt | llm.with_structured_output(schema=ThreadSummary, method=\"json_mode\")\n",
    "    summary_result = runnable.invoke({\"text\": text, \"company\": target.company, \"product\": target.product, \"json_instructions\": json_instructions})\n",
    "    return ThreadSummary(submission=submission, text=text, summary_result=summary_result)\n",
    "\n",
    "\n",
    "summary = summarize_thread(CompanyProduct(\"Singularity 6\", \"Palia\"), \"https://www.reddit.com/r/MMORPG/comments/1bz2e0z/palia_developers_singularity_6_axes_35_of_staff/\")\n",
    "\n",
    "print(summary_to_markdown(summary))\n"
   ]
  },
  {
   "cell_type": "code",
   "execution_count": 23,
   "metadata": {},
   "outputs": [],
   "source": [
    "import jinja2\n",
    "\n",
    "# templates = jinja2.FileSystemLoader(\"templates\")\n",
    "env = jinja2.Environment(\n",
    "    loader=jinja2.FileSystemLoader(\"templates\"),\n",
    "    # autoescape=select_autoescape()\n",
    ")\n",
    "template = env.get_template(\"thread_summary.md\")"
   ]
  },
  {
   "cell_type": "code",
   "execution_count": 25,
   "metadata": {},
   "outputs": [
    {
     "name": "stdout",
     "output_type": "stream",
     "text": [
      "# Summary: Palia developers, Singularity 6, axes 35% of staff just after Steam launch (thread id: 1bz2e0z)\n",
      "\n",
      "The Reddit thread discusses the recent layoffs at Singularity 6, the developers of Palia, following a lukewarm reception after the game's Steam launch. Users express mixed feelings about the game, highlighting both its strengths and weaknesses, while also commenting on the company's situation and future prospects.\n",
      "\n",
      "## User Experience\n",
      "\n",
      "### Strengths\n",
      "\n",
      "- \"I enjoy the characters and setting.\" (source: kyppu7o)\n",
      "- \"The story and characters are great, if you like those kind of stories.\" (source: SvenWollinger)\n",
      "- \"The foundations are 100% amazing. The mining, the hunting, the way you can place furniture and items, even the character designs are great.\" (source: payne6)\n",
      "\n",
      "\n",
      "### Weaknesses\n",
      "\n",
      "- \"Palia felt restrictive... you had to have had more freedom for players to build solo.\" (source: kyn4d7g)\n",
      "- \"The gameplay loop was so insanely boring, only two zones and max. 24 other Players with you on one map.\" (source: Labskaus77)\n",
      "- \"The game is lacking that cozy game grind and locked to a central server for absolutely no reason.\" (source: payne6)\n",
      "- \"The cash shop is pretty toxic, I'm not sure palia even has nice intentions.\" (source: Significant-Summer32)\n",
      "\n",
      "\n",
      "## Employee Experience\n",
      "\n",
      "### Strengths\n",
      "\n",
      "\n",
      "\n",
      "### Weaknesses\n",
      "\n",
      "- \"Congrats on launching the game! Oh also, here's your termination date and offboarding form.\" (source: kyp9y5t)\n",
      "- \"I was really jazzed to play this with my sister but I went in solo for a bit and it was just kinda boring.\" (source: Foostini)\n",
      "\n",
      "\n",
      "## Investor Perspective\n",
      "\n",
      "- \"This game feels like some big money laundering scheme or something.\" (source: starry101)\n",
      "- \"They received more than enough money to finish the game but likely squandered it somehow.\" (source: kyqoaxk)\n",
      "- \"The game should have been $20, single player, with a focus on the story since that's exactly how it plays.\" (source: MyStationIsAbandoned)\n",
      "\n",
      "\n",
      "\n"
     ]
    }
   ],
   "source": [
    "print(template.render(submission=summary.submission, summary_result=summary.summary_result))"
   ]
  },
  {
   "cell_type": "code",
   "execution_count": 99,
   "metadata": {},
   "outputs": [
    {
     "name": "stdout",
     "output_type": "stream",
     "text": [
      "Results for CompanyProduct(company='98point6', product='98point6') saved to evaluation/test_9a15/20240728_203856.html\n"
     ]
    }
   ],
   "source": [
    "import hashlib\n",
    "import os\n",
    "\n",
    "\n",
    "# TODO: Fix this broken evaluation function\n",
    "def short_evaluation(target: CompanyProduct, num_threads=2):\n",
    "    # This is cached so it should be quick\n",
    "    thread_urls = reddit.find_submission_urls(target, num_results=10)[:num_threads]\n",
    "\n",
    "    # The ID of the test is the last 4 chars of the sha of the url list\n",
    "    test_id = hashlib.sha256(\"\".join(thread_urls).encode()).hexdigest()[-4:]\n",
    "    \n",
    "    folder = f\"evaluation/{target.company}_{target.product}/{test_id}\"\n",
    "    os.makedirs(folder, exist_ok=True)\n",
    "\n",
    "    # individual thread results\n",
    "    results = [summarize_thread(target, url) for url in thread_urls]\n",
    "\n",
    "    # aggregation result\n",
    "    aggregation_result = summarize_summaries(target, results)\n",
    "\n",
    "    # make a unified page\n",
    "    # TODO: Migrate all of this to Jinja2\n",
    "    result_htmls = \"\\n\".join(r.to_html() for r in results)\n",
    "    html_result = wrap_html(f\"\"\"\n",
    "{aggregation_result.to_html()}\n",
    "\n",
    "<hr/>\n",
    "\n",
    "<h1>Debugging the aggregation</h1>\n",
    "\n",
    "<h2>Hallucination evaluation</h2>\n",
    "Note: This only evaluates the evaluation stage, not the mapping stage.\n",
    "{aggregation_result.evaluate()}\n",
    "\n",
    "<h2>Aggregation prompt</h2>\n",
    "{summarize_prompt(aggregation_prompt)}\n",
    "\n",
    "<h2>Aggregation input (converted markdown to HTML)</h2>\n",
    "{markdown.markdown(aggregation_result.aggregation_prompt_context)}\n",
    "\n",
    "<hr/>\n",
    "\n",
    "<h1>Debugging the mapping</h1>\n",
    "\n",
    "<h2>Mapping prompt</h2>\n",
    "\n",
    "{summarize_prompt(thread_summary_prompt)}\n",
    "\n",
    "\n",
    "<h2>Individual summaries</h2>\n",
    "{result_htmls}\n",
    "\"\"\")\n",
    "\n",
    "    # Create the filename using the current timestamp\n",
    "    timestamp = datetime.now().strftime(\"%Y%m%d_%H%M%S\")\n",
    "    filename = f\"{folder}/{timestamp}.html\"\n",
    "\n",
    "    with open(filename, \"w\") as f:\n",
    "        f.write(html_result)\n",
    "\n",
    "    print(f\"Results for {target} saved to {filename}\")\n",
    "\n",
    "short_evaluation(CompanyProduct.same(\"98point6\"), 5)\n"
   ]
  },
  {
   "cell_type": "code",
   "execution_count": 42,
   "metadata": {},
   "outputs": [
    {
     "name": "stdout",
     "output_type": "stream",
     "text": [
      "Results for CompanyProduct(company='98point6', product='98point6') saved to evaluation/test_a64d/20240728_173337.html\n"
     ]
    },
    {
     "ename": "ValidationError",
     "evalue": "1 validation error for ThreadSummary\ninvestor_perspective -> 0\n  value is not a valid dict (type=type_error.dict)",
     "output_type": "error",
     "traceback": [
      "\u001b[0;31m---------------------------------------------------------------------------\u001b[0m",
      "\u001b[0;31mValidationError\u001b[0m                           Traceback (most recent call last)",
      "Cell \u001b[0;32mIn[42], line 8\u001b[0m\n\u001b[1;32m      5\u001b[0m         short_evaluation(target, \u001b[38;5;241m4\u001b[39m)\n\u001b[1;32m      7\u001b[0m \u001b[38;5;66;03m# TODO: Update this once we have company-product pairs instead\u001b[39;00m\n\u001b[0;32m----> 8\u001b[0m \u001b[43mlong_evaluation\u001b[49m\u001b[43m(\u001b[49m\u001b[43m[\u001b[49m\u001b[43mCompanyProduct\u001b[49m\u001b[38;5;241;43m.\u001b[39;49m\u001b[43msame\u001b[49m\u001b[43m(\u001b[49m\u001b[38;5;124;43m\"\u001b[39;49m\u001b[38;5;124;43m98point6\u001b[39;49m\u001b[38;5;124;43m\"\u001b[39;49m\u001b[43m)\u001b[49m\u001b[43m,\u001b[49m\u001b[43m \u001b[49m\u001b[43mCompanyProduct\u001b[49m\u001b[38;5;241;43m.\u001b[39;49m\u001b[43msame\u001b[49m\u001b[43m(\u001b[49m\u001b[38;5;124;43m\"\u001b[39;49m\u001b[38;5;124;43mRad AI\u001b[39;49m\u001b[38;5;124;43m\"\u001b[39;49m\u001b[43m)\u001b[49m\u001b[43m,\u001b[49m\u001b[43m \u001b[49m\u001b[43mCompanyProduct\u001b[49m\u001b[43m(\u001b[49m\u001b[38;5;124;43m\"\u001b[39;49m\u001b[38;5;124;43mSingularity 6\u001b[39;49m\u001b[38;5;124;43m\"\u001b[39;49m\u001b[43m,\u001b[49m\u001b[43m \u001b[49m\u001b[38;5;124;43m\"\u001b[39;49m\u001b[38;5;124;43mPalia\u001b[39;49m\u001b[38;5;124;43m\"\u001b[39;49m\u001b[43m)\u001b[49m\u001b[43m,\u001b[49m\u001b[43m \u001b[49m\u001b[43mCompanyProduct\u001b[49m\u001b[38;5;241;43m.\u001b[39;49m\u001b[43msame\u001b[49m\u001b[43m(\u001b[49m\u001b[38;5;124;43m\"\u001b[39;49m\u001b[38;5;124;43mInstacart\u001b[39;49m\u001b[38;5;124;43m\"\u001b[39;49m\u001b[43m)\u001b[49m\u001b[43m]\u001b[49m\u001b[43m)\u001b[49m\n",
      "Cell \u001b[0;32mIn[42], line 5\u001b[0m, in \u001b[0;36mlong_evaluation\u001b[0;34m(targets)\u001b[0m\n\u001b[1;32m      3\u001b[0m \u001b[38;5;28;01mdef\u001b[39;00m \u001b[38;5;21mlong_evaluation\u001b[39m(targets: List[CompanyProduct]):\n\u001b[1;32m      4\u001b[0m     \u001b[38;5;28;01mfor\u001b[39;00m target \u001b[38;5;129;01min\u001b[39;00m targets:\n\u001b[0;32m----> 5\u001b[0m         \u001b[43mshort_evaluation\u001b[49m\u001b[43m(\u001b[49m\u001b[43mtarget\u001b[49m\u001b[43m,\u001b[49m\u001b[43m \u001b[49m\u001b[38;5;241;43m4\u001b[39;49m\u001b[43m)\u001b[49m\n",
      "Cell \u001b[0;32mIn[41], line 15\u001b[0m, in \u001b[0;36mshort_evaluation\u001b[0;34m(target, num_threads)\u001b[0m\n\u001b[1;32m     12\u001b[0m os\u001b[38;5;241m.\u001b[39mmakedirs(folder, exist_ok\u001b[38;5;241m=\u001b[39m\u001b[38;5;28;01mTrue\u001b[39;00m)\n\u001b[1;32m     14\u001b[0m \u001b[38;5;66;03m# individual thread results\u001b[39;00m\n\u001b[0;32m---> 15\u001b[0m results \u001b[38;5;241m=\u001b[39m [summarize_thread(target, url) \u001b[38;5;28;01mfor\u001b[39;00m url \u001b[38;5;129;01min\u001b[39;00m thread_urls]\n\u001b[1;32m     17\u001b[0m \u001b[38;5;66;03m# aggregation result\u001b[39;00m\n\u001b[1;32m     18\u001b[0m aggregation_result \u001b[38;5;241m=\u001b[39m summarize_summaries(target, results)\n",
      "Cell \u001b[0;32mIn[41], line 15\u001b[0m, in \u001b[0;36m<listcomp>\u001b[0;34m(.0)\u001b[0m\n\u001b[1;32m     12\u001b[0m os\u001b[38;5;241m.\u001b[39mmakedirs(folder, exist_ok\u001b[38;5;241m=\u001b[39m\u001b[38;5;28;01mTrue\u001b[39;00m)\n\u001b[1;32m     14\u001b[0m \u001b[38;5;66;03m# individual thread results\u001b[39;00m\n\u001b[0;32m---> 15\u001b[0m results \u001b[38;5;241m=\u001b[39m [\u001b[43msummarize_thread\u001b[49m\u001b[43m(\u001b[49m\u001b[43mtarget\u001b[49m\u001b[43m,\u001b[49m\u001b[43m \u001b[49m\u001b[43murl\u001b[49m\u001b[43m)\u001b[49m \u001b[38;5;28;01mfor\u001b[39;00m url \u001b[38;5;129;01min\u001b[39;00m thread_urls]\n\u001b[1;32m     17\u001b[0m \u001b[38;5;66;03m# aggregation result\u001b[39;00m\n\u001b[1;32m     18\u001b[0m aggregation_result \u001b[38;5;241m=\u001b[39m summarize_summaries(target, results)\n",
      "Cell \u001b[0;32mIn[38], line 10\u001b[0m, in \u001b[0;36msummarize_thread\u001b[0;34m(target, url, text_max_chars)\u001b[0m\n\u001b[1;32m      7\u001b[0m     text \u001b[38;5;241m=\u001b[39m text[:text_max_chars]\n\u001b[1;32m      9\u001b[0m runnable \u001b[38;5;241m=\u001b[39m thread_summary_prompt \u001b[38;5;241m|\u001b[39m llm\u001b[38;5;241m.\u001b[39mwith_structured_output(schema\u001b[38;5;241m=\u001b[39mThreadSummary)\n\u001b[0;32m---> 10\u001b[0m summary_result \u001b[38;5;241m=\u001b[39m \u001b[43mrunnable\u001b[49m\u001b[38;5;241;43m.\u001b[39;49m\u001b[43minvoke\u001b[49m\u001b[43m(\u001b[49m\u001b[43m{\u001b[49m\u001b[38;5;124;43m\"\u001b[39;49m\u001b[38;5;124;43mtext\u001b[39;49m\u001b[38;5;124;43m\"\u001b[39;49m\u001b[43m:\u001b[49m\u001b[43m \u001b[49m\u001b[43mtext\u001b[49m\u001b[43m,\u001b[49m\u001b[43m \u001b[49m\u001b[38;5;124;43m\"\u001b[39;49m\u001b[38;5;124;43mcompany\u001b[39;49m\u001b[38;5;124;43m\"\u001b[39;49m\u001b[43m:\u001b[49m\u001b[43m \u001b[49m\u001b[43mtarget\u001b[49m\u001b[38;5;241;43m.\u001b[39;49m\u001b[43mcompany\u001b[49m\u001b[43m,\u001b[49m\u001b[43m \u001b[49m\u001b[38;5;124;43m\"\u001b[39;49m\u001b[38;5;124;43mproduct\u001b[39;49m\u001b[38;5;124;43m\"\u001b[39;49m\u001b[43m:\u001b[49m\u001b[43m \u001b[49m\u001b[43mtarget\u001b[49m\u001b[38;5;241;43m.\u001b[39;49m\u001b[43mproduct\u001b[49m\u001b[43m}\u001b[49m\u001b[43m)\u001b[49m\n\u001b[1;32m     11\u001b[0m \u001b[38;5;28;01mreturn\u001b[39;00m ThreadResult(submission\u001b[38;5;241m=\u001b[39msubmission, text\u001b[38;5;241m=\u001b[39mtext, summary_result\u001b[38;5;241m=\u001b[39msummary_result)\n",
      "File \u001b[0;32m~/company-detective/.venv/lib/python3.10/site-packages/langchain_core/runnables/base.py:2875\u001b[0m, in \u001b[0;36mRunnableSequence.invoke\u001b[0;34m(self, input, config, **kwargs)\u001b[0m\n\u001b[1;32m   2873\u001b[0m             \u001b[38;5;28minput\u001b[39m \u001b[38;5;241m=\u001b[39m step\u001b[38;5;241m.\u001b[39minvoke(\u001b[38;5;28minput\u001b[39m, config, \u001b[38;5;241m*\u001b[39m\u001b[38;5;241m*\u001b[39mkwargs)\n\u001b[1;32m   2874\u001b[0m         \u001b[38;5;28;01melse\u001b[39;00m:\n\u001b[0;32m-> 2875\u001b[0m             \u001b[38;5;28minput\u001b[39m \u001b[38;5;241m=\u001b[39m \u001b[43mstep\u001b[49m\u001b[38;5;241;43m.\u001b[39;49m\u001b[43minvoke\u001b[49m\u001b[43m(\u001b[49m\u001b[38;5;28;43minput\u001b[39;49m\u001b[43m,\u001b[49m\u001b[43m \u001b[49m\u001b[43mconfig\u001b[49m\u001b[43m)\u001b[49m\n\u001b[1;32m   2876\u001b[0m \u001b[38;5;66;03m# finish the root run\u001b[39;00m\n\u001b[1;32m   2877\u001b[0m \u001b[38;5;28;01mexcept\u001b[39;00m \u001b[38;5;167;01mBaseException\u001b[39;00m \u001b[38;5;28;01mas\u001b[39;00m e:\n",
      "File \u001b[0;32m~/company-detective/.venv/lib/python3.10/site-packages/langchain_core/output_parsers/base.py:183\u001b[0m, in \u001b[0;36mBaseOutputParser.invoke\u001b[0;34m(self, input, config)\u001b[0m\n\u001b[1;32m    179\u001b[0m \u001b[38;5;28;01mdef\u001b[39;00m \u001b[38;5;21minvoke\u001b[39m(\n\u001b[1;32m    180\u001b[0m     \u001b[38;5;28mself\u001b[39m, \u001b[38;5;28minput\u001b[39m: Union[\u001b[38;5;28mstr\u001b[39m, BaseMessage], config: Optional[RunnableConfig] \u001b[38;5;241m=\u001b[39m \u001b[38;5;28;01mNone\u001b[39;00m\n\u001b[1;32m    181\u001b[0m ) \u001b[38;5;241m-\u001b[39m\u001b[38;5;241m>\u001b[39m T:\n\u001b[1;32m    182\u001b[0m     \u001b[38;5;28;01mif\u001b[39;00m \u001b[38;5;28misinstance\u001b[39m(\u001b[38;5;28minput\u001b[39m, BaseMessage):\n\u001b[0;32m--> 183\u001b[0m         \u001b[38;5;28;01mreturn\u001b[39;00m \u001b[38;5;28;43mself\u001b[39;49m\u001b[38;5;241;43m.\u001b[39;49m\u001b[43m_call_with_config\u001b[49m\u001b[43m(\u001b[49m\n\u001b[1;32m    184\u001b[0m \u001b[43m            \u001b[49m\u001b[38;5;28;43;01mlambda\u001b[39;49;00m\u001b[43m \u001b[49m\u001b[43minner_input\u001b[49m\u001b[43m:\u001b[49m\u001b[43m \u001b[49m\u001b[38;5;28;43mself\u001b[39;49m\u001b[38;5;241;43m.\u001b[39;49m\u001b[43mparse_result\u001b[49m\u001b[43m(\u001b[49m\n\u001b[1;32m    185\u001b[0m \u001b[43m                \u001b[49m\u001b[43m[\u001b[49m\u001b[43mChatGeneration\u001b[49m\u001b[43m(\u001b[49m\u001b[43mmessage\u001b[49m\u001b[38;5;241;43m=\u001b[39;49m\u001b[43minner_input\u001b[49m\u001b[43m)\u001b[49m\u001b[43m]\u001b[49m\n\u001b[1;32m    186\u001b[0m \u001b[43m            \u001b[49m\u001b[43m)\u001b[49m\u001b[43m,\u001b[49m\n\u001b[1;32m    187\u001b[0m \u001b[43m            \u001b[49m\u001b[38;5;28;43minput\u001b[39;49m\u001b[43m,\u001b[49m\n\u001b[1;32m    188\u001b[0m \u001b[43m            \u001b[49m\u001b[43mconfig\u001b[49m\u001b[43m,\u001b[49m\n\u001b[1;32m    189\u001b[0m \u001b[43m            \u001b[49m\u001b[43mrun_type\u001b[49m\u001b[38;5;241;43m=\u001b[39;49m\u001b[38;5;124;43m\"\u001b[39;49m\u001b[38;5;124;43mparser\u001b[39;49m\u001b[38;5;124;43m\"\u001b[39;49m\u001b[43m,\u001b[49m\n\u001b[1;32m    190\u001b[0m \u001b[43m        \u001b[49m\u001b[43m)\u001b[49m\n\u001b[1;32m    191\u001b[0m     \u001b[38;5;28;01melse\u001b[39;00m:\n\u001b[1;32m    192\u001b[0m         \u001b[38;5;28;01mreturn\u001b[39;00m \u001b[38;5;28mself\u001b[39m\u001b[38;5;241m.\u001b[39m_call_with_config(\n\u001b[1;32m    193\u001b[0m             \u001b[38;5;28;01mlambda\u001b[39;00m inner_input: \u001b[38;5;28mself\u001b[39m\u001b[38;5;241m.\u001b[39mparse_result([Generation(text\u001b[38;5;241m=\u001b[39minner_input)]),\n\u001b[1;32m    194\u001b[0m             \u001b[38;5;28minput\u001b[39m,\n\u001b[1;32m    195\u001b[0m             config,\n\u001b[1;32m    196\u001b[0m             run_type\u001b[38;5;241m=\u001b[39m\u001b[38;5;124m\"\u001b[39m\u001b[38;5;124mparser\u001b[39m\u001b[38;5;124m\"\u001b[39m,\n\u001b[1;32m    197\u001b[0m         )\n",
      "File \u001b[0;32m~/company-detective/.venv/lib/python3.10/site-packages/langchain_core/runnables/base.py:1784\u001b[0m, in \u001b[0;36mRunnable._call_with_config\u001b[0;34m(self, func, input, config, run_type, **kwargs)\u001b[0m\n\u001b[1;32m   1780\u001b[0m     context \u001b[38;5;241m=\u001b[39m copy_context()\n\u001b[1;32m   1781\u001b[0m     context\u001b[38;5;241m.\u001b[39mrun(_set_config_context, child_config)\n\u001b[1;32m   1782\u001b[0m     output \u001b[38;5;241m=\u001b[39m cast(\n\u001b[1;32m   1783\u001b[0m         Output,\n\u001b[0;32m-> 1784\u001b[0m         \u001b[43mcontext\u001b[49m\u001b[38;5;241;43m.\u001b[39;49m\u001b[43mrun\u001b[49m\u001b[43m(\u001b[49m\n\u001b[1;32m   1785\u001b[0m \u001b[43m            \u001b[49m\u001b[43mcall_func_with_variable_args\u001b[49m\u001b[43m,\u001b[49m\u001b[43m  \u001b[49m\u001b[38;5;66;43;03m# type: ignore[arg-type]\u001b[39;49;00m\n\u001b[1;32m   1786\u001b[0m \u001b[43m            \u001b[49m\u001b[43mfunc\u001b[49m\u001b[43m,\u001b[49m\u001b[43m  \u001b[49m\u001b[38;5;66;43;03m# type: ignore[arg-type]\u001b[39;49;00m\n\u001b[1;32m   1787\u001b[0m \u001b[43m            \u001b[49m\u001b[38;5;28;43minput\u001b[39;49m\u001b[43m,\u001b[49m\u001b[43m  \u001b[49m\u001b[38;5;66;43;03m# type: ignore[arg-type]\u001b[39;49;00m\n\u001b[1;32m   1788\u001b[0m \u001b[43m            \u001b[49m\u001b[43mconfig\u001b[49m\u001b[43m,\u001b[49m\n\u001b[1;32m   1789\u001b[0m \u001b[43m            \u001b[49m\u001b[43mrun_manager\u001b[49m\u001b[43m,\u001b[49m\n\u001b[1;32m   1790\u001b[0m \u001b[43m            \u001b[49m\u001b[38;5;241;43m*\u001b[39;49m\u001b[38;5;241;43m*\u001b[39;49m\u001b[43mkwargs\u001b[49m\u001b[43m,\u001b[49m\n\u001b[1;32m   1791\u001b[0m \u001b[43m        \u001b[49m\u001b[43m)\u001b[49m,\n\u001b[1;32m   1792\u001b[0m     )\n\u001b[1;32m   1793\u001b[0m \u001b[38;5;28;01mexcept\u001b[39;00m \u001b[38;5;167;01mBaseException\u001b[39;00m \u001b[38;5;28;01mas\u001b[39;00m e:\n\u001b[1;32m   1794\u001b[0m     run_manager\u001b[38;5;241m.\u001b[39mon_chain_error(e)\n",
      "File \u001b[0;32m~/company-detective/.venv/lib/python3.10/site-packages/langchain_core/runnables/config.py:404\u001b[0m, in \u001b[0;36mcall_func_with_variable_args\u001b[0;34m(func, input, config, run_manager, **kwargs)\u001b[0m\n\u001b[1;32m    402\u001b[0m \u001b[38;5;28;01mif\u001b[39;00m run_manager \u001b[38;5;129;01mis\u001b[39;00m \u001b[38;5;129;01mnot\u001b[39;00m \u001b[38;5;28;01mNone\u001b[39;00m \u001b[38;5;129;01mand\u001b[39;00m accepts_run_manager(func):\n\u001b[1;32m    403\u001b[0m     kwargs[\u001b[38;5;124m\"\u001b[39m\u001b[38;5;124mrun_manager\u001b[39m\u001b[38;5;124m\"\u001b[39m] \u001b[38;5;241m=\u001b[39m run_manager\n\u001b[0;32m--> 404\u001b[0m \u001b[38;5;28;01mreturn\u001b[39;00m \u001b[43mfunc\u001b[49m\u001b[43m(\u001b[49m\u001b[38;5;28;43minput\u001b[39;49m\u001b[43m,\u001b[49m\u001b[43m \u001b[49m\u001b[38;5;241;43m*\u001b[39;49m\u001b[38;5;241;43m*\u001b[39;49m\u001b[43mkwargs\u001b[49m\u001b[43m)\u001b[49m\n",
      "File \u001b[0;32m~/company-detective/.venv/lib/python3.10/site-packages/langchain_core/output_parsers/base.py:184\u001b[0m, in \u001b[0;36mBaseOutputParser.invoke.<locals>.<lambda>\u001b[0;34m(inner_input)\u001b[0m\n\u001b[1;32m    179\u001b[0m \u001b[38;5;28;01mdef\u001b[39;00m \u001b[38;5;21minvoke\u001b[39m(\n\u001b[1;32m    180\u001b[0m     \u001b[38;5;28mself\u001b[39m, \u001b[38;5;28minput\u001b[39m: Union[\u001b[38;5;28mstr\u001b[39m, BaseMessage], config: Optional[RunnableConfig] \u001b[38;5;241m=\u001b[39m \u001b[38;5;28;01mNone\u001b[39;00m\n\u001b[1;32m    181\u001b[0m ) \u001b[38;5;241m-\u001b[39m\u001b[38;5;241m>\u001b[39m T:\n\u001b[1;32m    182\u001b[0m     \u001b[38;5;28;01mif\u001b[39;00m \u001b[38;5;28misinstance\u001b[39m(\u001b[38;5;28minput\u001b[39m, BaseMessage):\n\u001b[1;32m    183\u001b[0m         \u001b[38;5;28;01mreturn\u001b[39;00m \u001b[38;5;28mself\u001b[39m\u001b[38;5;241m.\u001b[39m_call_with_config(\n\u001b[0;32m--> 184\u001b[0m             \u001b[38;5;28;01mlambda\u001b[39;00m inner_input: \u001b[38;5;28;43mself\u001b[39;49m\u001b[38;5;241;43m.\u001b[39;49m\u001b[43mparse_result\u001b[49m\u001b[43m(\u001b[49m\n\u001b[1;32m    185\u001b[0m \u001b[43m                \u001b[49m\u001b[43m[\u001b[49m\u001b[43mChatGeneration\u001b[49m\u001b[43m(\u001b[49m\u001b[43mmessage\u001b[49m\u001b[38;5;241;43m=\u001b[39;49m\u001b[43minner_input\u001b[49m\u001b[43m)\u001b[49m\u001b[43m]\u001b[49m\n\u001b[1;32m    186\u001b[0m \u001b[43m            \u001b[49m\u001b[43m)\u001b[49m,\n\u001b[1;32m    187\u001b[0m             \u001b[38;5;28minput\u001b[39m,\n\u001b[1;32m    188\u001b[0m             config,\n\u001b[1;32m    189\u001b[0m             run_type\u001b[38;5;241m=\u001b[39m\u001b[38;5;124m\"\u001b[39m\u001b[38;5;124mparser\u001b[39m\u001b[38;5;124m\"\u001b[39m,\n\u001b[1;32m    190\u001b[0m         )\n\u001b[1;32m    191\u001b[0m     \u001b[38;5;28;01melse\u001b[39;00m:\n\u001b[1;32m    192\u001b[0m         \u001b[38;5;28;01mreturn\u001b[39;00m \u001b[38;5;28mself\u001b[39m\u001b[38;5;241m.\u001b[39m_call_with_config(\n\u001b[1;32m    193\u001b[0m             \u001b[38;5;28;01mlambda\u001b[39;00m inner_input: \u001b[38;5;28mself\u001b[39m\u001b[38;5;241m.\u001b[39mparse_result([Generation(text\u001b[38;5;241m=\u001b[39minner_input)]),\n\u001b[1;32m    194\u001b[0m             \u001b[38;5;28minput\u001b[39m,\n\u001b[1;32m    195\u001b[0m             config,\n\u001b[1;32m    196\u001b[0m             run_type\u001b[38;5;241m=\u001b[39m\u001b[38;5;124m\"\u001b[39m\u001b[38;5;124mparser\u001b[39m\u001b[38;5;124m\"\u001b[39m,\n\u001b[1;32m    197\u001b[0m         )\n",
      "File \u001b[0;32m~/company-detective/.venv/lib/python3.10/site-packages/langchain_core/output_parsers/openai_tools.py:300\u001b[0m, in \u001b[0;36mPydanticToolsParser.parse_result\u001b[0;34m(self, result, partial)\u001b[0m\n\u001b[1;32m    298\u001b[0m             \u001b[38;5;28;01mcontinue\u001b[39;00m\n\u001b[1;32m    299\u001b[0m         \u001b[38;5;28;01melse\u001b[39;00m:\n\u001b[0;32m--> 300\u001b[0m             \u001b[38;5;28;01mraise\u001b[39;00m e\n\u001b[1;32m    301\u001b[0m \u001b[38;5;28;01mif\u001b[39;00m \u001b[38;5;28mself\u001b[39m\u001b[38;5;241m.\u001b[39mfirst_tool_only:\n\u001b[1;32m    302\u001b[0m     \u001b[38;5;28;01mreturn\u001b[39;00m pydantic_objects[\u001b[38;5;241m0\u001b[39m] \u001b[38;5;28;01mif\u001b[39;00m pydantic_objects \u001b[38;5;28;01melse\u001b[39;00m \u001b[38;5;28;01mNone\u001b[39;00m\n",
      "File \u001b[0;32m~/company-detective/.venv/lib/python3.10/site-packages/langchain_core/output_parsers/openai_tools.py:295\u001b[0m, in \u001b[0;36mPydanticToolsParser.parse_result\u001b[0;34m(self, result, partial)\u001b[0m\n\u001b[1;32m    290\u001b[0m     \u001b[38;5;28;01mif\u001b[39;00m \u001b[38;5;129;01mnot\u001b[39;00m \u001b[38;5;28misinstance\u001b[39m(res[\u001b[38;5;124m\"\u001b[39m\u001b[38;5;124margs\u001b[39m\u001b[38;5;124m\"\u001b[39m], \u001b[38;5;28mdict\u001b[39m):\n\u001b[1;32m    291\u001b[0m         \u001b[38;5;28;01mraise\u001b[39;00m \u001b[38;5;167;01mValueError\u001b[39;00m(\n\u001b[1;32m    292\u001b[0m             \u001b[38;5;124mf\u001b[39m\u001b[38;5;124m\"\u001b[39m\u001b[38;5;124mTool arguments must be specified as a dict, received: \u001b[39m\u001b[38;5;124m\"\u001b[39m\n\u001b[1;32m    293\u001b[0m             \u001b[38;5;124mf\u001b[39m\u001b[38;5;124m\"\u001b[39m\u001b[38;5;132;01m{\u001b[39;00mres[\u001b[38;5;124m'\u001b[39m\u001b[38;5;124margs\u001b[39m\u001b[38;5;124m'\u001b[39m]\u001b[38;5;132;01m}\u001b[39;00m\u001b[38;5;124m\"\u001b[39m\n\u001b[1;32m    294\u001b[0m         )\n\u001b[0;32m--> 295\u001b[0m     pydantic_objects\u001b[38;5;241m.\u001b[39mappend(\u001b[43mname_dict\u001b[49m\u001b[43m[\u001b[49m\u001b[43mres\u001b[49m\u001b[43m[\u001b[49m\u001b[38;5;124;43m\"\u001b[39;49m\u001b[38;5;124;43mtype\u001b[39;49m\u001b[38;5;124;43m\"\u001b[39;49m\u001b[43m]\u001b[49m\u001b[43m]\u001b[49m\u001b[43m(\u001b[49m\u001b[38;5;241;43m*\u001b[39;49m\u001b[38;5;241;43m*\u001b[39;49m\u001b[43mres\u001b[49m\u001b[43m[\u001b[49m\u001b[38;5;124;43m\"\u001b[39;49m\u001b[38;5;124;43margs\u001b[39;49m\u001b[38;5;124;43m\"\u001b[39;49m\u001b[43m]\u001b[49m\u001b[43m)\u001b[49m)\n\u001b[1;32m    296\u001b[0m \u001b[38;5;28;01mexcept\u001b[39;00m (ValidationError, \u001b[38;5;167;01mValueError\u001b[39;00m) \u001b[38;5;28;01mas\u001b[39;00m e:\n\u001b[1;32m    297\u001b[0m     \u001b[38;5;28;01mif\u001b[39;00m partial:\n",
      "File \u001b[0;32m~/company-detective/.venv/lib/python3.10/site-packages/pydantic/v1/main.py:341\u001b[0m, in \u001b[0;36mBaseModel.__init__\u001b[0;34m(__pydantic_self__, **data)\u001b[0m\n\u001b[1;32m    339\u001b[0m values, fields_set, validation_error \u001b[38;5;241m=\u001b[39m validate_model(__pydantic_self__\u001b[38;5;241m.\u001b[39m\u001b[38;5;18m__class__\u001b[39m, data)\n\u001b[1;32m    340\u001b[0m \u001b[38;5;28;01mif\u001b[39;00m validation_error:\n\u001b[0;32m--> 341\u001b[0m     \u001b[38;5;28;01mraise\u001b[39;00m validation_error\n\u001b[1;32m    342\u001b[0m \u001b[38;5;28;01mtry\u001b[39;00m:\n\u001b[1;32m    343\u001b[0m     object_setattr(__pydantic_self__, \u001b[38;5;124m'\u001b[39m\u001b[38;5;124m__dict__\u001b[39m\u001b[38;5;124m'\u001b[39m, values)\n",
      "\u001b[0;31mValidationError\u001b[0m: 1 validation error for ThreadSummary\ninvestor_perspective -> 0\n  value is not a valid dict (type=type_error.dict)"
     ]
    }
   ],
   "source": [
    "short_evaluation(CompanyProduct(\"Rad AI\", \"Omni\"), 5)\n",
    "short_evaluation(CompanyProduct(\"Singularity 6\", \"Palia\"), 5)\n",
    "short_evaluation(CompanyProduct.same(\"Instacart\"), 5)\n"
   ]
  }
 ],
 "metadata": {
  "kernelspec": {
   "display_name": "Python 3",
   "language": "python",
   "name": "python3"
  },
  "language_info": {
   "codemirror_mode": {
    "name": "ipython",
    "version": 3
   },
   "file_extension": ".py",
   "mimetype": "text/x-python",
   "name": "python",
   "nbconvert_exporter": "python",
   "pygments_lexer": "ipython3",
   "version": "3.10.12"
  }
 },
 "nbformat": 4,
 "nbformat_minor": 2
}
