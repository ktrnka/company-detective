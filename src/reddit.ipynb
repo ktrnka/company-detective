{
 "cells": [
  {
   "cell_type": "markdown",
   "metadata": {},
   "source": [
    "# Reddit"
   ]
  },
  {
   "cell_type": "code",
   "execution_count": 1,
   "metadata": {},
   "outputs": [],
   "source": [
    "from core import CompanyProduct"
   ]
  },
  {
   "cell_type": "code",
   "execution_count": 26,
   "metadata": {},
   "outputs": [
    {
     "name": "stdout",
     "output_type": "stream",
     "text": [
      "\n",
      "# Post 11twe7z:  Prompt to summarize by AlarmedJury7058 on 2023-03-17 [+25 votes]\n",
      "Hey, what’s the best prompt to ask Chatgpt to summarize a text with details ?\n",
      "\n",
      "\n",
      "\n",
      "## Comment jcm7h9z by SpiritualCopy4288 on 2023-03-17 [+31 votes] (in reply to 11twe7z):\n",
      "Here’s a few\n",
      "\n",
      "“Could you please provide a concise and comprehensive summary of the given text? The summary should capture the main points and key details of the text while conveying the author's intended meaning accurately. Please ensure that the summary is well-organized and easy to read, with clear headings and subheadings to guide the reader through each section. The length of the summary should be appropriate to capture the main points and key details of the text, without including unnecessary information or becoming overly long.”\n",
      "\n",
      "“Can you provide a comprehensive summary of the given text? The summary should cover all the key points and main ideas presented in the original text, while also condensing the information into a concise and easy-to-understand format. Please ensure that the summary includes relevant details and examples that support the main ideas, while avoiding any unnecessary information or repetition. The length of the summary should be appropriate for the length and complexity of the original text, providing a clear and accurate overview without omitting any important information.”\n",
      "\n",
      "“Could you please provide a summary of the given text, including all key points and supporting details? The summary should be comprehensive and accurately reflect the main message and arguments presented in the original text, while also being concise and easy to understand. To ensure accuracy, please read the text carefully and pay attention to any nuances or complexities in the language. Additionally, the summary should avoid any personal biases or interpretations and remain objective and factual throughout.\n",
      "\n",
      "### Comment jf2x8tv by theavideverything on 2023-04-05 [+4 votes] (in reply to jcm7h9z):\n",
      "Hey thank you so much! I *really* like the 2nd prompt will use it daily now. Could you please share how you came up with these prompts?\n",
      "\n",
      "#### Comment jf3qdny by SpiritualCopy4288 on 2023-04-05 [+21 votes] (in reply to jf2x8tv):\n",
      "I got them by using this prompt I made:\n",
      "\n",
      "“Dear ChatGPT,\n",
      "\n",
      "I would like to request your assistance in creating an AI-powered prompt rewriter, which can help me rewrite and refine prompts that I intend to use with you, ChatGPT, for the purpose of obtaining improved responses. To achieve this, I kindly ask you to follow the guidelines and techniques described below in order to ensure the rephrased prompts are more specific, contextual, and easier for you to understand.\n",
      "\n",
      "Identify the main subject and objective: Examine the original prompt and identify its primary subject and intended goal. Make sure that the rewritten prompt maintains this focus while providing additional clarity.\n",
      "\n",
      "Add context: Enhance the original prompt with relevant background information, historical context, or specific examples, making it easier for you to comprehend the subject matter and provide more accurate responses.\n",
      "\n",
      "Ensure specificity: Rewrite the prompt in a way that narrows down the topic or question, so it becomes more precise and targeted. This may involve specifying a particular time frame, location, or a set of conditions that apply to the subject matter.\n",
      "\n",
      "Use clear and concise language: Make sure that the rewritten prompt uses simple, unambiguous language to convey the message, avoiding jargon or overly complex vocabulary. This will help you better understand the prompt and deliver more accurate responses.\n",
      "\n",
      "Incorporate open-ended questions: If the original prompt contains a yes/no question or a query that may lead to a limited response, consider rephrasing it into an open-ended question that encourages a more comprehensive and informative answer.\n",
      "\n",
      "Avoid leading questions: Ensure that the rewritten prompt does not contain any biases or assumptions that may influence your response. Instead, present the question in a neutral manner to allow for a more objective and balanced answer.\n",
      "\n",
      "Provide instructions when necessary: If the desired output requires a specific format, style, or structure, include clear and concise instructions within the rewritten prompt to guide you in generating the response accordingly.\n",
      "\n",
      "Ensure the prompt length is appropriate: While rewriting, make sure the prompt is neither too short nor too long. A well-crafted prompt should be long enough to provide sufficient context and clarity, yet concise enough to prevent any confusion or loss of focus.\n",
      "\n",
      "With these guidelines in mind, I would like you to transform yourself into a prompt rewriter, capable of refining and enhancing any given prompts to ensure they elicit the most accurate, relevant, and comprehensive responses when used with ChatGPT. Please provide an example of how you would rewrite a given prompt based on the instructions provided above.\n",
      "\n",
      "Rewrite this prompt: “please generate a detailed summary of the given text”\n",
      "\n",
      "\n",
      "\n",
      "\n",
      "\n",
      "\n",
      "\n",
      "\n",
      "\n",
      "### Comment kwo1bpp by map-guy on 2024-03-26 [+2 votes] (in reply to jcm7h9z):\n",
      "Just found this. Exactly what I was looking for. Thanks!\n",
      "\n",
      "\n",
      "\n",
      "## Comment l16umyv by Sudden_One_4514 on 2024-04-25 [+1 votes] (in reply to 11twe7z):\n",
      "Are you looking for code or just a prompt? If it's a document then I would suggest trying chatpdf!\n",
      "\n",
      "\n"
     ]
    }
   ],
   "source": [
    "import reddit\n",
    "\n",
    "reddit.test_submission()"
   ]
  },
  {
   "cell_type": "markdown",
   "metadata": {},
   "source": [
    "# Summarize with LangChain"
   ]
  },
  {
   "cell_type": "markdown",
   "metadata": {},
   "source": [
    "# Google Search on Reddit for sources"
   ]
  },
  {
   "cell_type": "code",
   "execution_count": 1,
   "metadata": {},
   "outputs": [
    {
     "name": "stdout",
     "output_type": "stream",
     "text": [
      "https://www.reddit.com/r/MMORPG/comments/1bz2e0z/palia_developers_singularity_6_axes_35_of_staff/\n",
      "https://www.reddit.com/r/MMORPG/comments/1dtp97n/daybreak_acquires_singularity_6_palia_developer/\n",
      "https://www.reddit.com/r/pcgaming/comments/1bwiuin/cozy_mmo_palia_developer_singularity_6_has/\n",
      "https://www.reddit.com/r/CozyGamers/comments/1dt80wx/daybreak_acquires_singularity_6_developer_of_palia/\n",
      "https://www.reddit.com/r/Palia/comments/15ss9gg/singularity_6_is_not_an_indie_company/\n",
      "https://www.reddit.com/r/Palia/comments/1dt8dbs/palia_studio_singularity_6_acquired_by_daybreak/\n",
      "https://www.reddit.com/r/Palia/comments/19bqfoy/cant_even_give_singularity_6_my_money/\n",
      "https://www.reddit.com/r/MMORPG/comments/obkdoi/singularity_6_raises_30m_to_fund_debut_mmo_game/\n",
      "https://www.reddit.com/r/Palia/comments/1dt7ujt/daybreak_game_company/\n",
      "https://www.reddit.com/r/Games/comments/1cu1f7i/palia_studio_singularity_6_confirms_36_workers/\n",
      "https://www.reddit.com/r/Palia/comments/18zqxpx/please_singularity_6/\n",
      "https://www.reddit.com/r/Palia/comments/1ctgcw1/more_layoffs_at_s6_teams_down_to_a_few_dozen/\n",
      "https://www.reddit.com/r/Palia/comments/1650bkg/we_are_singularity_6_developers_and_publishers_of/\n",
      "https://www.reddit.com/r/PaliaMMO/comments/qn2pqo/singularity_6_is_hiring_like_crazy_for_palia/\n",
      "https://www.reddit.com/r/Games/comments/nribi0/singularity_6s_palia_is_a_relaxing_mmo/\n",
      "https://www.reddit.com/r/Palia/comments/1659f6w/list_of_answers_from_singularity_6/\n",
      "https://www.reddit.com/r/Palia/comments/15sufww/repost_open_up_your_eyes/\n",
      "https://www.reddit.com/r/gamingnews/comments/1cu56tf/palia_studio_singularity_6_has_laid_off_36/\n",
      "https://www.reddit.com/r/Palia/comments/15j7jvc/shout_out_to_singularity_6_team_for_making_a_game/\n"
     ]
    }
   ],
   "source": [
    "from reddit import test_search\n",
    "\n",
    "test_search()"
   ]
  },
  {
   "cell_type": "code",
   "execution_count": 11,
   "metadata": {},
   "outputs": [
    {
     "data": {
      "text/plain": [
       "{'title': 'ThreadSummary',\n",
       " 'description': 'A structured summary of a Reddit thread or threads about a company or product',\n",
       " 'type': 'object',\n",
       " 'properties': {'thread_summary': {'title': 'Thread Summary',\n",
       "   'description': 'An overview of the content',\n",
       "   'type': 'string'},\n",
       "  'user_experience_strengths': {'title': 'User Experience Strengths',\n",
       "   'description': 'Key positive themes in user feedback about the product',\n",
       "   'type': 'array',\n",
       "   'items': {'$ref': '#/definitions/Claim'}},\n",
       "  'user_experience_weaknesses': {'title': 'User Experience Weaknesses',\n",
       "   'description': 'Key negative themes in user feedback about the product',\n",
       "   'type': 'array',\n",
       "   'items': {'$ref': '#/definitions/Claim'}},\n",
       "  'employee_experience_strengths': {'title': 'Employee Experience Strengths',\n",
       "   'description': 'The key strengths of the company from the employee perspective',\n",
       "   'type': 'array',\n",
       "   'items': {'$ref': '#/definitions/Claim'}},\n",
       "  'employee_experience_weaknesses': {'title': 'Employee Experience Weaknesses',\n",
       "   'description': 'The key weaknesses of the company from the employee perspective',\n",
       "   'type': 'array',\n",
       "   'items': {'$ref': '#/definitions/Claim'}},\n",
       "  'investor_perspective': {'title': 'Investor Perspective',\n",
       "   'description': 'Key information about the company from the perspective of a prospective investor',\n",
       "   'type': 'array',\n",
       "   'items': {'$ref': '#/definitions/Claim'}}},\n",
       " 'required': ['thread_summary'],\n",
       " 'definitions': {'Claim': {'title': 'Claim',\n",
       "   'description': 'A claim made in a Reddit thread',\n",
       "   'type': 'object',\n",
       "   'properties': {'quote': {'title': 'Quote',\n",
       "     'description': 'A short quote from the source representing the key claim',\n",
       "     'type': 'string'},\n",
       "    'comment_id': {'title': 'Comment Id',\n",
       "     'description': 'The comment ID of the quote',\n",
       "     'type': 'string'}},\n",
       "   'required': ['quote', 'comment_id']}}}"
      ]
     },
     "execution_count": 11,
     "metadata": {},
     "output_type": "execute_result"
    }
   ],
   "source": [
    "from reddit_summarizer import ThreadSummary\n",
    "\n",
    "ThreadSummary.schema()"
   ]
  },
  {
   "cell_type": "code",
   "execution_count": 1,
   "metadata": {},
   "outputs": [
    {
     "name": "stdout",
     "output_type": "stream",
     "text": [
      "\n",
      "# Summary: Internet medicine is awesome, 98point6 was so so helpful for me (thread id: bg7ip2)\n",
      "\n",
      "The Reddit thread discusses user experiences with 98point6, an online medical service that provides affordable consultations and prescriptions. Users share positive experiences regarding accessibility and cost-effectiveness, while some express concerns about limitations in prescribing certain medications.\n",
      "\n",
      "## User Experience\n",
      "\n",
      "### Strengths\n",
      "\n",
      "- \"It was amazing. ... I would 100% use 98point6 again, especially since my $20 gets me unlimited visits for a year.\" (source: bg7ip2)\n",
      "- \"This amazing awesome doctor ... was actively prepared to address the needs of people who have limited funds.\" (source: bg7ip2)\n",
      "- \"Helped me get paxlovid for covid more quickly than I otherwise would have been able to.\" (source: idl52u3)\n",
      "\n",
      "### Weaknesses\n",
      "\n",
      "- \"My husband and I have used 98.6 three times. ... I would not recommend them!\" (source: hrmpl3t)\n",
      "- \"It's not a 'this solves all your problems' thing, but it might be a 'this solves some of your problems this week' thing.\" (source: eljexpb)\n",
      "\n",
      "## Employee Experience\n",
      "\n",
      "### Strengths\n",
      "\n",
      "Not applicable\n",
      "\n",
      "### Weaknesses\n",
      "\n",
      "Not applicable\n",
      "\n",
      "## Investor Perspective\n",
      "\n",
      "Not applicable\n",
      "    \n"
     ]
    }
   ],
   "source": [
    "import reddit\n",
    "from reddit_summarizer import summarize_submission, summary_to_markdown\n",
    "from core import CompanyProduct\n",
    "\n",
    "def tiny_test(target: CompanyProduct):\n",
    "    reddit_client = reddit.init()\n",
    "\n",
    "    # Search for URLs\n",
    "    post_url = reddit.find_submission_urls(target, num_results=10)[0]\n",
    "\n",
    "    # Fetch the Submissions from Reddit\n",
    "    post_submission = reddit_client.submission(url=post_url)\n",
    "\n",
    "    # Summarize each\n",
    "    return summarize_submission(target, post_submission)\n",
    "\n",
    "summary = tiny_test(CompanyProduct.same(\"98point6\"))\n",
    "\n",
    "print(summary_to_markdown(summary))"
   ]
  },
  {
   "cell_type": "code",
   "execution_count": null,
   "metadata": {},
   "outputs": [],
   "source": [
    "# The refactored version\n",
    "\n",
    "def short_test(target: CompanyProduct, num_posts: int = 10):\n",
    "    reddit_client = reddit.init()\n",
    "\n",
    "    # Search for URLs\n",
    "    post_urls = reddit.find_submission_urls(reddit_client, target, num_results=num_posts)\n",
    "\n",
    "    # Fetch the Submissions from Reddit\n",
    "    post_submissions = [reddit_client.submission(url=url) for url in post_urls]\n",
    "\n",
    "    # Summarize each\n",
    "    post_summaries = [summarize_submission(submission) for submission in post_submissions]\n",
    "\n",
    "    # Aggregate the summaries\n",
    "    aggregate_summary = summarize_summaries(post_summaries)"
   ]
  },
  {
   "cell_type": "code",
   "execution_count": 15,
   "metadata": {},
   "outputs": [
    {
     "name": "stdout",
     "output_type": "stream",
     "text": [
      "\n",
      "# Summary: Palia developers, Singularity 6, axes 35% of staff just after Steam launch (thread id: 1bz2e0z)\n",
      "\n",
      "The Reddit thread discusses the recent layoffs at Singularity 6, the developers of Palia, following a lukewarm reception after the game's Steam launch. Users express mixed feelings about the game, highlighting both its strengths and weaknesses, while also commenting on the company's situation and future prospects.\n",
      "\n",
      "## User Experience\n",
      "\n",
      "### Strengths\n",
      "\n",
      "- \"I enjoy the characters and setting.\" (source: kyppu7o)\n",
      "- \"The story and characters are great, if you like those kind of stories.\" (source: SvenWollinger)\n",
      "- \"The foundations are 100% amazing. The mining, the hunting, the way you can place furniture and items, even the character designs are great.\" (source: payne6)\n",
      "\n",
      "### Weaknesses\n",
      "\n",
      "- \"Palia felt restrictive... you had to have had more freedom for players to build solo.\" (source: kyn4d7g)\n",
      "- \"The gameplay loop was so insanely boring, only two zones and max. 24 other Players with you on one map.\" (source: Labskaus77)\n",
      "- \"The game is lacking that cozy game grind and locked to a central server for absolutely no reason.\" (source: payne6)\n",
      "- \"The cash shop is pretty toxic, I'm not sure palia even has nice intentions.\" (source: Significant-Summer32)\n",
      "\n",
      "## Employee Experience\n",
      "\n",
      "### Strengths\n",
      "\n",
      "Not applicable\n",
      "\n",
      "### Weaknesses\n",
      "\n",
      "- \"Congrats on launching the game! Oh also, here's your termination date and offboarding form.\" (source: kyp9y5t)\n",
      "- \"I was really jazzed to play this with my sister but I went in solo for a bit and it was just kinda boring.\" (source: Foostini)\n",
      "\n",
      "## Investor Perspective\n",
      "\n",
      "- \"This game feels like some big money laundering scheme or something.\" (source: starry101)\n",
      "- \"They received more than enough money to finish the game but likely squandered it somehow.\" (source: kyqoaxk)\n",
      "- \"The game should have been $20, single player, with a focus on the story since that's exactly how it plays.\" (source: MyStationIsAbandoned)\n",
      "    \n"
     ]
    }
   ],
   "source": [
    "from core import CompanyProduct\n",
    "import reddit\n",
    "from reddit_summarizer import thread_summary_prompt, json_instructions, ThreadSummary, summary_to_markdown, llm\n",
    "\n",
    "reddit_client = reddit.init()\n",
    "\n",
    "def summarize_thread(target: CompanyProduct, url: str, text_max_chars=40000) -> ThreadSummary:\n",
    "    submission = reddit_client.submission(url=url)\n",
    "    text = reddit.submission_to_markdown(submission)\n",
    "\n",
    "    if len(text) > text_max_chars:\n",
    "        print(f\"Text too long: {len(text)} > {text_max_chars}. Truncating.\")\n",
    "        text = text[:text_max_chars]\n",
    "    \n",
    "    runnable = thread_summary_prompt | llm.with_structured_output(schema=ThreadSummary, method=\"json_mode\")\n",
    "    summary_result = runnable.invoke({\"text\": text, \"company\": target.company, \"product\": target.product, \"json_instructions\": json_instructions})\n",
    "    return ThreadSummary(submission=submission, text=text, summary_result=summary_result)\n",
    "\n",
    "\n",
    "summary = summarize_thread(CompanyProduct(\"Singularity 6\", \"Palia\"), \"https://www.reddit.com/r/MMORPG/comments/1bz2e0z/palia_developers_singularity_6_axes_35_of_staff/\")\n",
    "\n",
    "print(summary_to_markdown(summary))\n"
   ]
  },
  {
   "cell_type": "code",
   "execution_count": 23,
   "metadata": {},
   "outputs": [],
   "source": [
    "import jinja2\n",
    "\n",
    "# templates = jinja2.FileSystemLoader(\"templates\")\n",
    "env = jinja2.Environment(\n",
    "    loader=jinja2.FileSystemLoader(\"templates\"),\n",
    "    # autoescape=select_autoescape()\n",
    ")\n",
    "template = env.get_template(\"thread_summary.md\")"
   ]
  },
  {
   "cell_type": "code",
   "execution_count": 25,
   "metadata": {},
   "outputs": [
    {
     "name": "stdout",
     "output_type": "stream",
     "text": [
      "# Summary: Palia developers, Singularity 6, axes 35% of staff just after Steam launch (thread id: 1bz2e0z)\n",
      "\n",
      "The Reddit thread discusses the recent layoffs at Singularity 6, the developers of Palia, following a lukewarm reception after the game's Steam launch. Users express mixed feelings about the game, highlighting both its strengths and weaknesses, while also commenting on the company's situation and future prospects.\n",
      "\n",
      "## User Experience\n",
      "\n",
      "### Strengths\n",
      "\n",
      "- \"I enjoy the characters and setting.\" (source: kyppu7o)\n",
      "- \"The story and characters are great, if you like those kind of stories.\" (source: SvenWollinger)\n",
      "- \"The foundations are 100% amazing. The mining, the hunting, the way you can place furniture and items, even the character designs are great.\" (source: payne6)\n",
      "\n",
      "\n",
      "### Weaknesses\n",
      "\n",
      "- \"Palia felt restrictive... you had to have had more freedom for players to build solo.\" (source: kyn4d7g)\n",
      "- \"The gameplay loop was so insanely boring, only two zones and max. 24 other Players with you on one map.\" (source: Labskaus77)\n",
      "- \"The game is lacking that cozy game grind and locked to a central server for absolutely no reason.\" (source: payne6)\n",
      "- \"The cash shop is pretty toxic, I'm not sure palia even has nice intentions.\" (source: Significant-Summer32)\n",
      "\n",
      "\n",
      "## Employee Experience\n",
      "\n",
      "### Strengths\n",
      "\n",
      "\n",
      "\n",
      "### Weaknesses\n",
      "\n",
      "- \"Congrats on launching the game! Oh also, here's your termination date and offboarding form.\" (source: kyp9y5t)\n",
      "- \"I was really jazzed to play this with my sister but I went in solo for a bit and it was just kinda boring.\" (source: Foostini)\n",
      "\n",
      "\n",
      "## Investor Perspective\n",
      "\n",
      "- \"This game feels like some big money laundering scheme or something.\" (source: starry101)\n",
      "- \"They received more than enough money to finish the game but likely squandered it somehow.\" (source: kyqoaxk)\n",
      "- \"The game should have been $20, single player, with a focus on the story since that's exactly how it plays.\" (source: MyStationIsAbandoned)\n",
      "\n",
      "\n",
      "\n"
     ]
    }
   ],
   "source": [
    "print(template.render(submission=summary.submission, summary_result=summary.summary_result))"
   ]
  },
  {
   "cell_type": "code",
   "execution_count": 99,
   "metadata": {},
   "outputs": [
    {
     "name": "stdout",
     "output_type": "stream",
     "text": [
      "Results for CompanyProduct(company='98point6', product='98point6') saved to evaluation/test_9a15/20240728_203856.html\n"
     ]
    }
   ],
   "source": [
    "import hashlib\n",
    "import os\n",
    "\n",
    "\n",
    "# TODO: Fix this broken evaluation function\n",
    "def short_evaluation(target: CompanyProduct, num_threads=2):\n",
    "    # This is cached so it should be quick\n",
    "    thread_urls = reddit.find_submission_urls(target, num_results=10)[:num_threads]\n",
    "\n",
    "    # The ID of the test is the last 4 chars of the sha of the url list\n",
    "    test_id = hashlib.sha256(\"\".join(thread_urls).encode()).hexdigest()[-4:]\n",
    "    \n",
    "    folder = f\"evaluation/{target.company}_{target.product}/{test_id}\"\n",
    "    os.makedirs(folder, exist_ok=True)\n",
    "\n",
    "    # individual thread results\n",
    "    results = [summarize_thread(target, url) for url in thread_urls]\n",
    "\n",
    "    # aggregation result\n",
    "    aggregation_result = summarize_summaries(target, results)\n",
    "\n",
    "    # make a unified page\n",
    "    # TODO: Migrate all of this to Jinja2\n",
    "    result_htmls = \"\\n\".join(r.to_html() for r in results)\n",
    "    html_result = wrap_html(f\"\"\"\n",
    "{aggregation_result.to_html()}\n",
    "\n",
    "<hr/>\n",
    "\n",
    "<h1>Debugging the aggregation</h1>\n",
    "\n",
    "<h2>Hallucination evaluation</h2>\n",
    "Note: This only evaluates the evaluation stage, not the mapping stage.\n",
    "{aggregation_result.evaluate()}\n",
    "\n",
    "<h2>Aggregation prompt</h2>\n",
    "{summarize_prompt(aggregation_prompt)}\n",
    "\n",
    "<h2>Aggregation input (converted markdown to HTML)</h2>\n",
    "{markdown.markdown(aggregation_result.aggregation_prompt_context)}\n",
    "\n",
    "<hr/>\n",
    "\n",
    "<h1>Debugging the mapping</h1>\n",
    "\n",
    "<h2>Mapping prompt</h2>\n",
    "\n",
    "{summarize_prompt(thread_summary_prompt)}\n",
    "\n",
    "\n",
    "<h2>Individual summaries</h2>\n",
    "{result_htmls}\n",
    "\"\"\")\n",
    "\n",
    "    # Create the filename using the current timestamp\n",
    "    timestamp = datetime.now().strftime(\"%Y%m%d_%H%M%S\")\n",
    "    filename = f\"{folder}/{timestamp}.html\"\n",
    "\n",
    "    with open(filename, \"w\") as f:\n",
    "        f.write(html_result)\n",
    "\n",
    "    print(f\"Results for {target} saved to {filename}\")\n",
    "\n",
    "short_evaluation(CompanyProduct.same(\"98point6\"), 5)\n"
   ]
  },
  {
   "cell_type": "code",
   "execution_count": 42,
   "metadata": {},
   "outputs": [
    {
     "name": "stdout",
     "output_type": "stream",
     "text": [
      "Results for CompanyProduct(company='98point6', product='98point6') saved to evaluation/test_a64d/20240728_173337.html\n"
     ]
    },
    {
     "ename": "ValidationError",
     "evalue": "1 validation error for ThreadSummary\ninvestor_perspective -> 0\n  value is not a valid dict (type=type_error.dict)",
     "output_type": "error",
     "traceback": [
      "\u001b[0;31m---------------------------------------------------------------------------\u001b[0m",
      "\u001b[0;31mValidationError\u001b[0m                           Traceback (most recent call last)",
      "Cell \u001b[0;32mIn[42], line 8\u001b[0m\n\u001b[1;32m      5\u001b[0m         short_evaluation(target, \u001b[38;5;241m4\u001b[39m)\n\u001b[1;32m      7\u001b[0m \u001b[38;5;66;03m# TODO: Update this once we have company-product pairs instead\u001b[39;00m\n\u001b[0;32m----> 8\u001b[0m \u001b[43mlong_evaluation\u001b[49m\u001b[43m(\u001b[49m\u001b[43m[\u001b[49m\u001b[43mCompanyProduct\u001b[49m\u001b[38;5;241;43m.\u001b[39;49m\u001b[43msame\u001b[49m\u001b[43m(\u001b[49m\u001b[38;5;124;43m\"\u001b[39;49m\u001b[38;5;124;43m98point6\u001b[39;49m\u001b[38;5;124;43m\"\u001b[39;49m\u001b[43m)\u001b[49m\u001b[43m,\u001b[49m\u001b[43m \u001b[49m\u001b[43mCompanyProduct\u001b[49m\u001b[38;5;241;43m.\u001b[39;49m\u001b[43msame\u001b[49m\u001b[43m(\u001b[49m\u001b[38;5;124;43m\"\u001b[39;49m\u001b[38;5;124;43mRad AI\u001b[39;49m\u001b[38;5;124;43m\"\u001b[39;49m\u001b[43m)\u001b[49m\u001b[43m,\u001b[49m\u001b[43m \u001b[49m\u001b[43mCompanyProduct\u001b[49m\u001b[43m(\u001b[49m\u001b[38;5;124;43m\"\u001b[39;49m\u001b[38;5;124;43mSingularity 6\u001b[39;49m\u001b[38;5;124;43m\"\u001b[39;49m\u001b[43m,\u001b[49m\u001b[43m \u001b[49m\u001b[38;5;124;43m\"\u001b[39;49m\u001b[38;5;124;43mPalia\u001b[39;49m\u001b[38;5;124;43m\"\u001b[39;49m\u001b[43m)\u001b[49m\u001b[43m,\u001b[49m\u001b[43m \u001b[49m\u001b[43mCompanyProduct\u001b[49m\u001b[38;5;241;43m.\u001b[39;49m\u001b[43msame\u001b[49m\u001b[43m(\u001b[49m\u001b[38;5;124;43m\"\u001b[39;49m\u001b[38;5;124;43mInstacart\u001b[39;49m\u001b[38;5;124;43m\"\u001b[39;49m\u001b[43m)\u001b[49m\u001b[43m]\u001b[49m\u001b[43m)\u001b[49m\n",
      "Cell \u001b[0;32mIn[42], line 5\u001b[0m, in \u001b[0;36mlong_evaluation\u001b[0;34m(targets)\u001b[0m\n\u001b[1;32m      3\u001b[0m \u001b[38;5;28;01mdef\u001b[39;00m \u001b[38;5;21mlong_evaluation\u001b[39m(targets: List[CompanyProduct]):\n\u001b[1;32m      4\u001b[0m     \u001b[38;5;28;01mfor\u001b[39;00m target \u001b[38;5;129;01min\u001b[39;00m targets:\n\u001b[0;32m----> 5\u001b[0m         \u001b[43mshort_evaluation\u001b[49m\u001b[43m(\u001b[49m\u001b[43mtarget\u001b[49m\u001b[43m,\u001b[49m\u001b[43m \u001b[49m\u001b[38;5;241;43m4\u001b[39;49m\u001b[43m)\u001b[49m\n",
      "Cell \u001b[0;32mIn[41], line 15\u001b[0m, in \u001b[0;36mshort_evaluation\u001b[0;34m(target, num_threads)\u001b[0m\n\u001b[1;32m     12\u001b[0m os\u001b[38;5;241m.\u001b[39mmakedirs(folder, exist_ok\u001b[38;5;241m=\u001b[39m\u001b[38;5;28;01mTrue\u001b[39;00m)\n\u001b[1;32m     14\u001b[0m \u001b[38;5;66;03m# individual thread results\u001b[39;00m\n\u001b[0;32m---> 15\u001b[0m results \u001b[38;5;241m=\u001b[39m [summarize_thread(target, url) \u001b[38;5;28;01mfor\u001b[39;00m url \u001b[38;5;129;01min\u001b[39;00m thread_urls]\n\u001b[1;32m     17\u001b[0m \u001b[38;5;66;03m# aggregation result\u001b[39;00m\n\u001b[1;32m     18\u001b[0m aggregation_result \u001b[38;5;241m=\u001b[39m summarize_summaries(target, results)\n",
      "Cell \u001b[0;32mIn[41], line 15\u001b[0m, in \u001b[0;36m<listcomp>\u001b[0;34m(.0)\u001b[0m\n\u001b[1;32m     12\u001b[0m os\u001b[38;5;241m.\u001b[39mmakedirs(folder, exist_ok\u001b[38;5;241m=\u001b[39m\u001b[38;5;28;01mTrue\u001b[39;00m)\n\u001b[1;32m     14\u001b[0m \u001b[38;5;66;03m# individual thread results\u001b[39;00m\n\u001b[0;32m---> 15\u001b[0m results \u001b[38;5;241m=\u001b[39m [\u001b[43msummarize_thread\u001b[49m\u001b[43m(\u001b[49m\u001b[43mtarget\u001b[49m\u001b[43m,\u001b[49m\u001b[43m \u001b[49m\u001b[43murl\u001b[49m\u001b[43m)\u001b[49m \u001b[38;5;28;01mfor\u001b[39;00m url \u001b[38;5;129;01min\u001b[39;00m thread_urls]\n\u001b[1;32m     17\u001b[0m \u001b[38;5;66;03m# aggregation result\u001b[39;00m\n\u001b[1;32m     18\u001b[0m aggregation_result \u001b[38;5;241m=\u001b[39m summarize_summaries(target, results)\n",
      "Cell \u001b[0;32mIn[38], line 10\u001b[0m, in \u001b[0;36msummarize_thread\u001b[0;34m(target, url, text_max_chars)\u001b[0m\n\u001b[1;32m      7\u001b[0m     text \u001b[38;5;241m=\u001b[39m text[:text_max_chars]\n\u001b[1;32m      9\u001b[0m runnable \u001b[38;5;241m=\u001b[39m thread_summary_prompt \u001b[38;5;241m|\u001b[39m llm\u001b[38;5;241m.\u001b[39mwith_structured_output(schema\u001b[38;5;241m=\u001b[39mThreadSummary)\n\u001b[0;32m---> 10\u001b[0m summary_result \u001b[38;5;241m=\u001b[39m \u001b[43mrunnable\u001b[49m\u001b[38;5;241;43m.\u001b[39;49m\u001b[43minvoke\u001b[49m\u001b[43m(\u001b[49m\u001b[43m{\u001b[49m\u001b[38;5;124;43m\"\u001b[39;49m\u001b[38;5;124;43mtext\u001b[39;49m\u001b[38;5;124;43m\"\u001b[39;49m\u001b[43m:\u001b[49m\u001b[43m \u001b[49m\u001b[43mtext\u001b[49m\u001b[43m,\u001b[49m\u001b[43m \u001b[49m\u001b[38;5;124;43m\"\u001b[39;49m\u001b[38;5;124;43mcompany\u001b[39;49m\u001b[38;5;124;43m\"\u001b[39;49m\u001b[43m:\u001b[49m\u001b[43m \u001b[49m\u001b[43mtarget\u001b[49m\u001b[38;5;241;43m.\u001b[39;49m\u001b[43mcompany\u001b[49m\u001b[43m,\u001b[49m\u001b[43m \u001b[49m\u001b[38;5;124;43m\"\u001b[39;49m\u001b[38;5;124;43mproduct\u001b[39;49m\u001b[38;5;124;43m\"\u001b[39;49m\u001b[43m:\u001b[49m\u001b[43m \u001b[49m\u001b[43mtarget\u001b[49m\u001b[38;5;241;43m.\u001b[39;49m\u001b[43mproduct\u001b[49m\u001b[43m}\u001b[49m\u001b[43m)\u001b[49m\n\u001b[1;32m     11\u001b[0m \u001b[38;5;28;01mreturn\u001b[39;00m ThreadResult(submission\u001b[38;5;241m=\u001b[39msubmission, text\u001b[38;5;241m=\u001b[39mtext, summary_result\u001b[38;5;241m=\u001b[39msummary_result)\n",
      "File \u001b[0;32m~/company-detective/.venv/lib/python3.10/site-packages/langchain_core/runnables/base.py:2875\u001b[0m, in \u001b[0;36mRunnableSequence.invoke\u001b[0;34m(self, input, config, **kwargs)\u001b[0m\n\u001b[1;32m   2873\u001b[0m             \u001b[38;5;28minput\u001b[39m \u001b[38;5;241m=\u001b[39m step\u001b[38;5;241m.\u001b[39minvoke(\u001b[38;5;28minput\u001b[39m, config, \u001b[38;5;241m*\u001b[39m\u001b[38;5;241m*\u001b[39mkwargs)\n\u001b[1;32m   2874\u001b[0m         \u001b[38;5;28;01melse\u001b[39;00m:\n\u001b[0;32m-> 2875\u001b[0m             \u001b[38;5;28minput\u001b[39m \u001b[38;5;241m=\u001b[39m \u001b[43mstep\u001b[49m\u001b[38;5;241;43m.\u001b[39;49m\u001b[43minvoke\u001b[49m\u001b[43m(\u001b[49m\u001b[38;5;28;43minput\u001b[39;49m\u001b[43m,\u001b[49m\u001b[43m \u001b[49m\u001b[43mconfig\u001b[49m\u001b[43m)\u001b[49m\n\u001b[1;32m   2876\u001b[0m \u001b[38;5;66;03m# finish the root run\u001b[39;00m\n\u001b[1;32m   2877\u001b[0m \u001b[38;5;28;01mexcept\u001b[39;00m \u001b[38;5;167;01mBaseException\u001b[39;00m \u001b[38;5;28;01mas\u001b[39;00m e:\n",
      "File \u001b[0;32m~/company-detective/.venv/lib/python3.10/site-packages/langchain_core/output_parsers/base.py:183\u001b[0m, in \u001b[0;36mBaseOutputParser.invoke\u001b[0;34m(self, input, config)\u001b[0m\n\u001b[1;32m    179\u001b[0m \u001b[38;5;28;01mdef\u001b[39;00m \u001b[38;5;21minvoke\u001b[39m(\n\u001b[1;32m    180\u001b[0m     \u001b[38;5;28mself\u001b[39m, \u001b[38;5;28minput\u001b[39m: Union[\u001b[38;5;28mstr\u001b[39m, BaseMessage], config: Optional[RunnableConfig] \u001b[38;5;241m=\u001b[39m \u001b[38;5;28;01mNone\u001b[39;00m\n\u001b[1;32m    181\u001b[0m ) \u001b[38;5;241m-\u001b[39m\u001b[38;5;241m>\u001b[39m T:\n\u001b[1;32m    182\u001b[0m     \u001b[38;5;28;01mif\u001b[39;00m \u001b[38;5;28misinstance\u001b[39m(\u001b[38;5;28minput\u001b[39m, BaseMessage):\n\u001b[0;32m--> 183\u001b[0m         \u001b[38;5;28;01mreturn\u001b[39;00m \u001b[38;5;28;43mself\u001b[39;49m\u001b[38;5;241;43m.\u001b[39;49m\u001b[43m_call_with_config\u001b[49m\u001b[43m(\u001b[49m\n\u001b[1;32m    184\u001b[0m \u001b[43m            \u001b[49m\u001b[38;5;28;43;01mlambda\u001b[39;49;00m\u001b[43m \u001b[49m\u001b[43minner_input\u001b[49m\u001b[43m:\u001b[49m\u001b[43m \u001b[49m\u001b[38;5;28;43mself\u001b[39;49m\u001b[38;5;241;43m.\u001b[39;49m\u001b[43mparse_result\u001b[49m\u001b[43m(\u001b[49m\n\u001b[1;32m    185\u001b[0m \u001b[43m                \u001b[49m\u001b[43m[\u001b[49m\u001b[43mChatGeneration\u001b[49m\u001b[43m(\u001b[49m\u001b[43mmessage\u001b[49m\u001b[38;5;241;43m=\u001b[39;49m\u001b[43minner_input\u001b[49m\u001b[43m)\u001b[49m\u001b[43m]\u001b[49m\n\u001b[1;32m    186\u001b[0m \u001b[43m            \u001b[49m\u001b[43m)\u001b[49m\u001b[43m,\u001b[49m\n\u001b[1;32m    187\u001b[0m \u001b[43m            \u001b[49m\u001b[38;5;28;43minput\u001b[39;49m\u001b[43m,\u001b[49m\n\u001b[1;32m    188\u001b[0m \u001b[43m            \u001b[49m\u001b[43mconfig\u001b[49m\u001b[43m,\u001b[49m\n\u001b[1;32m    189\u001b[0m \u001b[43m            \u001b[49m\u001b[43mrun_type\u001b[49m\u001b[38;5;241;43m=\u001b[39;49m\u001b[38;5;124;43m\"\u001b[39;49m\u001b[38;5;124;43mparser\u001b[39;49m\u001b[38;5;124;43m\"\u001b[39;49m\u001b[43m,\u001b[49m\n\u001b[1;32m    190\u001b[0m \u001b[43m        \u001b[49m\u001b[43m)\u001b[49m\n\u001b[1;32m    191\u001b[0m     \u001b[38;5;28;01melse\u001b[39;00m:\n\u001b[1;32m    192\u001b[0m         \u001b[38;5;28;01mreturn\u001b[39;00m \u001b[38;5;28mself\u001b[39m\u001b[38;5;241m.\u001b[39m_call_with_config(\n\u001b[1;32m    193\u001b[0m             \u001b[38;5;28;01mlambda\u001b[39;00m inner_input: \u001b[38;5;28mself\u001b[39m\u001b[38;5;241m.\u001b[39mparse_result([Generation(text\u001b[38;5;241m=\u001b[39minner_input)]),\n\u001b[1;32m    194\u001b[0m             \u001b[38;5;28minput\u001b[39m,\n\u001b[1;32m    195\u001b[0m             config,\n\u001b[1;32m    196\u001b[0m             run_type\u001b[38;5;241m=\u001b[39m\u001b[38;5;124m\"\u001b[39m\u001b[38;5;124mparser\u001b[39m\u001b[38;5;124m\"\u001b[39m,\n\u001b[1;32m    197\u001b[0m         )\n",
      "File \u001b[0;32m~/company-detective/.venv/lib/python3.10/site-packages/langchain_core/runnables/base.py:1784\u001b[0m, in \u001b[0;36mRunnable._call_with_config\u001b[0;34m(self, func, input, config, run_type, **kwargs)\u001b[0m\n\u001b[1;32m   1780\u001b[0m     context \u001b[38;5;241m=\u001b[39m copy_context()\n\u001b[1;32m   1781\u001b[0m     context\u001b[38;5;241m.\u001b[39mrun(_set_config_context, child_config)\n\u001b[1;32m   1782\u001b[0m     output \u001b[38;5;241m=\u001b[39m cast(\n\u001b[1;32m   1783\u001b[0m         Output,\n\u001b[0;32m-> 1784\u001b[0m         \u001b[43mcontext\u001b[49m\u001b[38;5;241;43m.\u001b[39;49m\u001b[43mrun\u001b[49m\u001b[43m(\u001b[49m\n\u001b[1;32m   1785\u001b[0m \u001b[43m            \u001b[49m\u001b[43mcall_func_with_variable_args\u001b[49m\u001b[43m,\u001b[49m\u001b[43m  \u001b[49m\u001b[38;5;66;43;03m# type: ignore[arg-type]\u001b[39;49;00m\n\u001b[1;32m   1786\u001b[0m \u001b[43m            \u001b[49m\u001b[43mfunc\u001b[49m\u001b[43m,\u001b[49m\u001b[43m  \u001b[49m\u001b[38;5;66;43;03m# type: ignore[arg-type]\u001b[39;49;00m\n\u001b[1;32m   1787\u001b[0m \u001b[43m            \u001b[49m\u001b[38;5;28;43minput\u001b[39;49m\u001b[43m,\u001b[49m\u001b[43m  \u001b[49m\u001b[38;5;66;43;03m# type: ignore[arg-type]\u001b[39;49;00m\n\u001b[1;32m   1788\u001b[0m \u001b[43m            \u001b[49m\u001b[43mconfig\u001b[49m\u001b[43m,\u001b[49m\n\u001b[1;32m   1789\u001b[0m \u001b[43m            \u001b[49m\u001b[43mrun_manager\u001b[49m\u001b[43m,\u001b[49m\n\u001b[1;32m   1790\u001b[0m \u001b[43m            \u001b[49m\u001b[38;5;241;43m*\u001b[39;49m\u001b[38;5;241;43m*\u001b[39;49m\u001b[43mkwargs\u001b[49m\u001b[43m,\u001b[49m\n\u001b[1;32m   1791\u001b[0m \u001b[43m        \u001b[49m\u001b[43m)\u001b[49m,\n\u001b[1;32m   1792\u001b[0m     )\n\u001b[1;32m   1793\u001b[0m \u001b[38;5;28;01mexcept\u001b[39;00m \u001b[38;5;167;01mBaseException\u001b[39;00m \u001b[38;5;28;01mas\u001b[39;00m e:\n\u001b[1;32m   1794\u001b[0m     run_manager\u001b[38;5;241m.\u001b[39mon_chain_error(e)\n",
      "File \u001b[0;32m~/company-detective/.venv/lib/python3.10/site-packages/langchain_core/runnables/config.py:404\u001b[0m, in \u001b[0;36mcall_func_with_variable_args\u001b[0;34m(func, input, config, run_manager, **kwargs)\u001b[0m\n\u001b[1;32m    402\u001b[0m \u001b[38;5;28;01mif\u001b[39;00m run_manager \u001b[38;5;129;01mis\u001b[39;00m \u001b[38;5;129;01mnot\u001b[39;00m \u001b[38;5;28;01mNone\u001b[39;00m \u001b[38;5;129;01mand\u001b[39;00m accepts_run_manager(func):\n\u001b[1;32m    403\u001b[0m     kwargs[\u001b[38;5;124m\"\u001b[39m\u001b[38;5;124mrun_manager\u001b[39m\u001b[38;5;124m\"\u001b[39m] \u001b[38;5;241m=\u001b[39m run_manager\n\u001b[0;32m--> 404\u001b[0m \u001b[38;5;28;01mreturn\u001b[39;00m \u001b[43mfunc\u001b[49m\u001b[43m(\u001b[49m\u001b[38;5;28;43minput\u001b[39;49m\u001b[43m,\u001b[49m\u001b[43m \u001b[49m\u001b[38;5;241;43m*\u001b[39;49m\u001b[38;5;241;43m*\u001b[39;49m\u001b[43mkwargs\u001b[49m\u001b[43m)\u001b[49m\n",
      "File \u001b[0;32m~/company-detective/.venv/lib/python3.10/site-packages/langchain_core/output_parsers/base.py:184\u001b[0m, in \u001b[0;36mBaseOutputParser.invoke.<locals>.<lambda>\u001b[0;34m(inner_input)\u001b[0m\n\u001b[1;32m    179\u001b[0m \u001b[38;5;28;01mdef\u001b[39;00m \u001b[38;5;21minvoke\u001b[39m(\n\u001b[1;32m    180\u001b[0m     \u001b[38;5;28mself\u001b[39m, \u001b[38;5;28minput\u001b[39m: Union[\u001b[38;5;28mstr\u001b[39m, BaseMessage], config: Optional[RunnableConfig] \u001b[38;5;241m=\u001b[39m \u001b[38;5;28;01mNone\u001b[39;00m\n\u001b[1;32m    181\u001b[0m ) \u001b[38;5;241m-\u001b[39m\u001b[38;5;241m>\u001b[39m T:\n\u001b[1;32m    182\u001b[0m     \u001b[38;5;28;01mif\u001b[39;00m \u001b[38;5;28misinstance\u001b[39m(\u001b[38;5;28minput\u001b[39m, BaseMessage):\n\u001b[1;32m    183\u001b[0m         \u001b[38;5;28;01mreturn\u001b[39;00m \u001b[38;5;28mself\u001b[39m\u001b[38;5;241m.\u001b[39m_call_with_config(\n\u001b[0;32m--> 184\u001b[0m             \u001b[38;5;28;01mlambda\u001b[39;00m inner_input: \u001b[38;5;28;43mself\u001b[39;49m\u001b[38;5;241;43m.\u001b[39;49m\u001b[43mparse_result\u001b[49m\u001b[43m(\u001b[49m\n\u001b[1;32m    185\u001b[0m \u001b[43m                \u001b[49m\u001b[43m[\u001b[49m\u001b[43mChatGeneration\u001b[49m\u001b[43m(\u001b[49m\u001b[43mmessage\u001b[49m\u001b[38;5;241;43m=\u001b[39;49m\u001b[43minner_input\u001b[49m\u001b[43m)\u001b[49m\u001b[43m]\u001b[49m\n\u001b[1;32m    186\u001b[0m \u001b[43m            \u001b[49m\u001b[43m)\u001b[49m,\n\u001b[1;32m    187\u001b[0m             \u001b[38;5;28minput\u001b[39m,\n\u001b[1;32m    188\u001b[0m             config,\n\u001b[1;32m    189\u001b[0m             run_type\u001b[38;5;241m=\u001b[39m\u001b[38;5;124m\"\u001b[39m\u001b[38;5;124mparser\u001b[39m\u001b[38;5;124m\"\u001b[39m,\n\u001b[1;32m    190\u001b[0m         )\n\u001b[1;32m    191\u001b[0m     \u001b[38;5;28;01melse\u001b[39;00m:\n\u001b[1;32m    192\u001b[0m         \u001b[38;5;28;01mreturn\u001b[39;00m \u001b[38;5;28mself\u001b[39m\u001b[38;5;241m.\u001b[39m_call_with_config(\n\u001b[1;32m    193\u001b[0m             \u001b[38;5;28;01mlambda\u001b[39;00m inner_input: \u001b[38;5;28mself\u001b[39m\u001b[38;5;241m.\u001b[39mparse_result([Generation(text\u001b[38;5;241m=\u001b[39minner_input)]),\n\u001b[1;32m    194\u001b[0m             \u001b[38;5;28minput\u001b[39m,\n\u001b[1;32m    195\u001b[0m             config,\n\u001b[1;32m    196\u001b[0m             run_type\u001b[38;5;241m=\u001b[39m\u001b[38;5;124m\"\u001b[39m\u001b[38;5;124mparser\u001b[39m\u001b[38;5;124m\"\u001b[39m,\n\u001b[1;32m    197\u001b[0m         )\n",
      "File \u001b[0;32m~/company-detective/.venv/lib/python3.10/site-packages/langchain_core/output_parsers/openai_tools.py:300\u001b[0m, in \u001b[0;36mPydanticToolsParser.parse_result\u001b[0;34m(self, result, partial)\u001b[0m\n\u001b[1;32m    298\u001b[0m             \u001b[38;5;28;01mcontinue\u001b[39;00m\n\u001b[1;32m    299\u001b[0m         \u001b[38;5;28;01melse\u001b[39;00m:\n\u001b[0;32m--> 300\u001b[0m             \u001b[38;5;28;01mraise\u001b[39;00m e\n\u001b[1;32m    301\u001b[0m \u001b[38;5;28;01mif\u001b[39;00m \u001b[38;5;28mself\u001b[39m\u001b[38;5;241m.\u001b[39mfirst_tool_only:\n\u001b[1;32m    302\u001b[0m     \u001b[38;5;28;01mreturn\u001b[39;00m pydantic_objects[\u001b[38;5;241m0\u001b[39m] \u001b[38;5;28;01mif\u001b[39;00m pydantic_objects \u001b[38;5;28;01melse\u001b[39;00m \u001b[38;5;28;01mNone\u001b[39;00m\n",
      "File \u001b[0;32m~/company-detective/.venv/lib/python3.10/site-packages/langchain_core/output_parsers/openai_tools.py:295\u001b[0m, in \u001b[0;36mPydanticToolsParser.parse_result\u001b[0;34m(self, result, partial)\u001b[0m\n\u001b[1;32m    290\u001b[0m     \u001b[38;5;28;01mif\u001b[39;00m \u001b[38;5;129;01mnot\u001b[39;00m \u001b[38;5;28misinstance\u001b[39m(res[\u001b[38;5;124m\"\u001b[39m\u001b[38;5;124margs\u001b[39m\u001b[38;5;124m\"\u001b[39m], \u001b[38;5;28mdict\u001b[39m):\n\u001b[1;32m    291\u001b[0m         \u001b[38;5;28;01mraise\u001b[39;00m \u001b[38;5;167;01mValueError\u001b[39;00m(\n\u001b[1;32m    292\u001b[0m             \u001b[38;5;124mf\u001b[39m\u001b[38;5;124m\"\u001b[39m\u001b[38;5;124mTool arguments must be specified as a dict, received: \u001b[39m\u001b[38;5;124m\"\u001b[39m\n\u001b[1;32m    293\u001b[0m             \u001b[38;5;124mf\u001b[39m\u001b[38;5;124m\"\u001b[39m\u001b[38;5;132;01m{\u001b[39;00mres[\u001b[38;5;124m'\u001b[39m\u001b[38;5;124margs\u001b[39m\u001b[38;5;124m'\u001b[39m]\u001b[38;5;132;01m}\u001b[39;00m\u001b[38;5;124m\"\u001b[39m\n\u001b[1;32m    294\u001b[0m         )\n\u001b[0;32m--> 295\u001b[0m     pydantic_objects\u001b[38;5;241m.\u001b[39mappend(\u001b[43mname_dict\u001b[49m\u001b[43m[\u001b[49m\u001b[43mres\u001b[49m\u001b[43m[\u001b[49m\u001b[38;5;124;43m\"\u001b[39;49m\u001b[38;5;124;43mtype\u001b[39;49m\u001b[38;5;124;43m\"\u001b[39;49m\u001b[43m]\u001b[49m\u001b[43m]\u001b[49m\u001b[43m(\u001b[49m\u001b[38;5;241;43m*\u001b[39;49m\u001b[38;5;241;43m*\u001b[39;49m\u001b[43mres\u001b[49m\u001b[43m[\u001b[49m\u001b[38;5;124;43m\"\u001b[39;49m\u001b[38;5;124;43margs\u001b[39;49m\u001b[38;5;124;43m\"\u001b[39;49m\u001b[43m]\u001b[49m\u001b[43m)\u001b[49m)\n\u001b[1;32m    296\u001b[0m \u001b[38;5;28;01mexcept\u001b[39;00m (ValidationError, \u001b[38;5;167;01mValueError\u001b[39;00m) \u001b[38;5;28;01mas\u001b[39;00m e:\n\u001b[1;32m    297\u001b[0m     \u001b[38;5;28;01mif\u001b[39;00m partial:\n",
      "File \u001b[0;32m~/company-detective/.venv/lib/python3.10/site-packages/pydantic/v1/main.py:341\u001b[0m, in \u001b[0;36mBaseModel.__init__\u001b[0;34m(__pydantic_self__, **data)\u001b[0m\n\u001b[1;32m    339\u001b[0m values, fields_set, validation_error \u001b[38;5;241m=\u001b[39m validate_model(__pydantic_self__\u001b[38;5;241m.\u001b[39m\u001b[38;5;18m__class__\u001b[39m, data)\n\u001b[1;32m    340\u001b[0m \u001b[38;5;28;01mif\u001b[39;00m validation_error:\n\u001b[0;32m--> 341\u001b[0m     \u001b[38;5;28;01mraise\u001b[39;00m validation_error\n\u001b[1;32m    342\u001b[0m \u001b[38;5;28;01mtry\u001b[39;00m:\n\u001b[1;32m    343\u001b[0m     object_setattr(__pydantic_self__, \u001b[38;5;124m'\u001b[39m\u001b[38;5;124m__dict__\u001b[39m\u001b[38;5;124m'\u001b[39m, values)\n",
      "\u001b[0;31mValidationError\u001b[0m: 1 validation error for ThreadSummary\ninvestor_perspective -> 0\n  value is not a valid dict (type=type_error.dict)"
     ]
    }
   ],
   "source": [
    "short_evaluation(CompanyProduct(\"Rad AI\", \"Omni\"), 5)\n",
    "short_evaluation(CompanyProduct(\"Singularity 6\", \"Palia\"), 5)\n",
    "short_evaluation(CompanyProduct.same(\"Instacart\"), 5)\n"
   ]
  }
 ],
 "metadata": {
  "kernelspec": {
   "display_name": "Python 3",
   "language": "python",
   "name": "python3"
  },
  "language_info": {
   "codemirror_mode": {
    "name": "ipython",
    "version": 3
   },
   "file_extension": ".py",
   "mimetype": "text/x-python",
   "name": "python",
   "nbconvert_exporter": "python",
   "pygments_lexer": "ipython3",
   "version": "3.10.12"
  }
 },
 "nbformat": 4,
 "nbformat_minor": 2
}
