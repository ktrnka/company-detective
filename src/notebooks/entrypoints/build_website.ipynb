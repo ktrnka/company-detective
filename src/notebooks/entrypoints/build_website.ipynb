{
 "cells": [
  {
   "cell_type": "code",
   "execution_count": 36,
   "metadata": {},
   "outputs": [
    {
     "name": "stdout",
     "output_type": "stream",
     "text": [
      "/home/keith/company-detective/src\n"
     ]
    }
   ],
   "source": [
    "%%sh\n",
    "pwd"
   ]
  },
  {
   "cell_type": "code",
   "execution_count": 37,
   "metadata": {},
   "outputs": [],
   "source": [
    "# Inputs:\n",
    "data_folder = \"../output/data\"\n",
    "website_folder = \"../docs\""
   ]
  },
  {
   "cell_type": "code",
   "execution_count": 38,
   "metadata": {},
   "outputs": [
    {
     "name": "stdout",
     "output_type": "stream",
     "text": [
      "['../output/data/Center_CenterCard.json', '../output/data/Ontra.json', '../output/data/Snap_Inc_.json', '../output/data/Vulcan_Inc_.json', '../output/data/Optimize_Health.json', '../output/data/Akili_Interactive_EndeavorRx.json', '../output/data/DoubleDown_Interactive.json', '../output/data/2K_Games.json', '../output/data/ThousandEyes.json', '../output/data/Imagine_Pediatrics.json', '../output/data/98point6.json', '../output/data/Verkada_Inc.json', '../output/data/Chewy.json', '../output/data/Qualtrics.json', '../output/data/Anduril.json', '../output/data/Block_Square.json', '../output/data/Pave_dev_Cashflow.json', '../output/data/Dolly.json', '../output/data/Hotel_Engine.json', '../output/data/Indeed.json', '../output/data/Hiya.json', '../output/data/Veritone.json', '../output/data/Sudowrite.json', '../output/data/Built_In.json', '../output/data/Remitly.json', '../output/data/Adswerve.json', '../output/data/Rad_AI_Impressions.json', '../output/data/CrowdStrike.json', '../output/data/BitTitan.json', '../output/data/Atlassian_Jira.json', '../output/data/Hiya__Inc_.json', '../output/data/Synthesize_Bio.json', '../output/data/Chronosphere.json', '../output/data/RescueTime.json', '../output/data/Nordstrom.json', '../output/data/CoreStack.json', '../output/data/Osano.json', '../output/data/Disney.json', '../output/data/Monte_Carlo.json', '../output/data/vcita.json', '../output/data/Sprout_Social.json', '../output/data/Quartet_Health.json', '../output/data/Kevala.json', '../output/data/Rippling.json', '../output/data/Singularity_6_Palia.json', '../output/data/Magnite.json', '../output/data/Bamboo.json', '../output/data/SoFi.json', '../output/data/promptfoo.json', '../output/data/Carbon_Robotics_Laserweeder.json', '../output/data/A_Place_for_Mom.json', '../output/data/PEAK6.json', '../output/data/International_Community_Health_Services.json', '../output/data/Clobotics.json', '../output/data/TBD.json', '../output/data/Pomelo_Care.json', '../output/data/Classmates.json', '../output/data/Huntress.json']\n"
     ]
    }
   ],
   "source": [
    "import glob\n",
    "\n",
    "# List all JSON files in the data_folder\n",
    "json_files = glob.glob(f\"{data_folder}/*.json\")\n",
    "print(json_files)"
   ]
  },
  {
   "cell_type": "code",
   "execution_count": 39,
   "metadata": {},
   "outputs": [],
   "source": [
    "from unified import UnifiedResult\n",
    "import json\n",
    "from typing import Dict\n",
    "\n",
    "results: Dict[str, UnifiedResult] = {}\n",
    "\n",
    "for file_path in json_files:\n",
    "    with open(file_path, 'r') as file:\n",
    "        data = json.load(file)\n",
    "        results[file_path] = UnifiedResult(**data)\n",
    "\n",
    "# print(results)"
   ]
  },
  {
   "cell_type": "code",
   "execution_count": 40,
   "metadata": {},
   "outputs": [
    {
     "name": "stderr",
     "output_type": "stream",
     "text": [
      "\u001b[32m2024-10-10 09:09:19.450\u001b[0m | \u001b[1mINFO    \u001b[0m | \u001b[36munified\u001b[0m:\u001b[36mto_html_file\u001b[0m:\u001b[36m283\u001b[0m - \u001b[1mWritten to ../docs/companies/Center_CenterCard.html\u001b[0m\n",
      "\u001b[32m2024-10-10 09:09:19.458\u001b[0m | \u001b[1mINFO    \u001b[0m | \u001b[36munified\u001b[0m:\u001b[36mto_html_file\u001b[0m:\u001b[36m283\u001b[0m - \u001b[1mWritten to ../docs/companies/Ontra.html\u001b[0m\n",
      "\u001b[32m2024-10-10 09:09:19.474\u001b[0m | \u001b[1mINFO    \u001b[0m | \u001b[36munified\u001b[0m:\u001b[36mto_html_file\u001b[0m:\u001b[36m283\u001b[0m - \u001b[1mWritten to ../docs/companies/Snap_Inc_.html\u001b[0m\n",
      "\u001b[32m2024-10-10 09:09:19.483\u001b[0m | \u001b[1mINFO    \u001b[0m | \u001b[36munified\u001b[0m:\u001b[36mto_html_file\u001b[0m:\u001b[36m283\u001b[0m - \u001b[1mWritten to ../docs/companies/Vulcan_Inc_.html\u001b[0m\n",
      "\u001b[32m2024-10-10 09:09:19.492\u001b[0m | \u001b[1mINFO    \u001b[0m | \u001b[36munified\u001b[0m:\u001b[36mto_html_file\u001b[0m:\u001b[36m283\u001b[0m - \u001b[1mWritten to ../docs/companies/Optimize_Health.html\u001b[0m\n",
      "\u001b[32m2024-10-10 09:09:19.503\u001b[0m | \u001b[1mINFO    \u001b[0m | \u001b[36munified\u001b[0m:\u001b[36mto_html_file\u001b[0m:\u001b[36m283\u001b[0m - \u001b[1mWritten to ../docs/companies/Akili_Interactive_EndeavorRx.html\u001b[0m\n",
      "\u001b[32m2024-10-10 09:09:19.514\u001b[0m | \u001b[1mINFO    \u001b[0m | \u001b[36munified\u001b[0m:\u001b[36mto_html_file\u001b[0m:\u001b[36m283\u001b[0m - \u001b[1mWritten to ../docs/companies/DoubleDown_Interactive.html\u001b[0m\n",
      "\u001b[32m2024-10-10 09:09:19.523\u001b[0m | \u001b[1mINFO    \u001b[0m | \u001b[36munified\u001b[0m:\u001b[36mto_html_file\u001b[0m:\u001b[36m283\u001b[0m - \u001b[1mWritten to ../docs/companies/2K_Games.html\u001b[0m\n",
      "\u001b[32m2024-10-10 09:09:19.532\u001b[0m | \u001b[1mINFO    \u001b[0m | \u001b[36munified\u001b[0m:\u001b[36mto_html_file\u001b[0m:\u001b[36m283\u001b[0m - \u001b[1mWritten to ../docs/companies/ThousandEyes.html\u001b[0m\n",
      "\u001b[32m2024-10-10 09:09:19.539\u001b[0m | \u001b[1mINFO    \u001b[0m | \u001b[36munified\u001b[0m:\u001b[36mto_html_file\u001b[0m:\u001b[36m283\u001b[0m - \u001b[1mWritten to ../docs/companies/Imagine_Pediatrics.html\u001b[0m\n",
      "\u001b[32m2024-10-10 09:09:19.553\u001b[0m | \u001b[1mINFO    \u001b[0m | \u001b[36munified\u001b[0m:\u001b[36mto_html_file\u001b[0m:\u001b[36m283\u001b[0m - \u001b[1mWritten to ../docs/companies/98point6.html\u001b[0m\n",
      "\u001b[32m2024-10-10 09:09:19.561\u001b[0m | \u001b[1mINFO    \u001b[0m | \u001b[36munified\u001b[0m:\u001b[36mto_html_file\u001b[0m:\u001b[36m283\u001b[0m - \u001b[1mWritten to ../docs/companies/Verkada_Inc.html\u001b[0m\n",
      "\u001b[32m2024-10-10 09:09:19.575\u001b[0m | \u001b[1mINFO    \u001b[0m | \u001b[36munified\u001b[0m:\u001b[36mto_html_file\u001b[0m:\u001b[36m283\u001b[0m - \u001b[1mWritten to ../docs/companies/Chewy.html\u001b[0m\n",
      "\u001b[32m2024-10-10 09:09:19.583\u001b[0m | \u001b[1mINFO    \u001b[0m | \u001b[36munified\u001b[0m:\u001b[36mto_html_file\u001b[0m:\u001b[36m283\u001b[0m - \u001b[1mWritten to ../docs/companies/Qualtrics.html\u001b[0m\n",
      "\u001b[32m2024-10-10 09:09:19.594\u001b[0m | \u001b[1mINFO    \u001b[0m | \u001b[36munified\u001b[0m:\u001b[36mto_html_file\u001b[0m:\u001b[36m283\u001b[0m - \u001b[1mWritten to ../docs/companies/Anduril.html\u001b[0m\n",
      "\u001b[32m2024-10-10 09:09:19.603\u001b[0m | \u001b[1mINFO    \u001b[0m | \u001b[36munified\u001b[0m:\u001b[36mto_html_file\u001b[0m:\u001b[36m283\u001b[0m - \u001b[1mWritten to ../docs/companies/Block_Square.html\u001b[0m\n",
      "\u001b[32m2024-10-10 09:09:19.610\u001b[0m | \u001b[1mINFO    \u001b[0m | \u001b[36munified\u001b[0m:\u001b[36mto_html_file\u001b[0m:\u001b[36m283\u001b[0m - \u001b[1mWritten to ../docs/companies/Pave_dev_Cashflow.html\u001b[0m\n",
      "\u001b[32m2024-10-10 09:09:19.617\u001b[0m | \u001b[1mINFO    \u001b[0m | \u001b[36munified\u001b[0m:\u001b[36mto_html_file\u001b[0m:\u001b[36m283\u001b[0m - \u001b[1mWritten to ../docs/companies/Dolly.html\u001b[0m\n",
      "\u001b[32m2024-10-10 09:09:19.629\u001b[0m | \u001b[1mINFO    \u001b[0m | \u001b[36munified\u001b[0m:\u001b[36mto_html_file\u001b[0m:\u001b[36m283\u001b[0m - \u001b[1mWritten to ../docs/companies/Hotel_Engine.html\u001b[0m\n",
      "\u001b[32m2024-10-10 09:09:19.643\u001b[0m | \u001b[1mINFO    \u001b[0m | \u001b[36munified\u001b[0m:\u001b[36mto_html_file\u001b[0m:\u001b[36m283\u001b[0m - \u001b[1mWritten to ../docs/companies/Indeed.html\u001b[0m\n",
      "\u001b[32m2024-10-10 09:09:19.659\u001b[0m | \u001b[1mINFO    \u001b[0m | \u001b[36munified\u001b[0m:\u001b[36mto_html_file\u001b[0m:\u001b[36m283\u001b[0m - \u001b[1mWritten to ../docs/companies/Hiya.html\u001b[0m\n",
      "\u001b[32m2024-10-10 09:09:19.669\u001b[0m | \u001b[1mINFO    \u001b[0m | \u001b[36munified\u001b[0m:\u001b[36mto_html_file\u001b[0m:\u001b[36m283\u001b[0m - \u001b[1mWritten to ../docs/companies/Veritone.html\u001b[0m\n",
      "\u001b[32m2024-10-10 09:09:19.676\u001b[0m | \u001b[1mINFO    \u001b[0m | \u001b[36munified\u001b[0m:\u001b[36mto_html_file\u001b[0m:\u001b[36m283\u001b[0m - \u001b[1mWritten to ../docs/companies/Sudowrite.html\u001b[0m\n",
      "\u001b[32m2024-10-10 09:09:19.684\u001b[0m | \u001b[1mINFO    \u001b[0m | \u001b[36munified\u001b[0m:\u001b[36mto_html_file\u001b[0m:\u001b[36m283\u001b[0m - \u001b[1mWritten to ../docs/companies/Built_In.html\u001b[0m\n",
      "\u001b[32m2024-10-10 09:09:19.698\u001b[0m | \u001b[1mINFO    \u001b[0m | \u001b[36munified\u001b[0m:\u001b[36mto_html_file\u001b[0m:\u001b[36m283\u001b[0m - \u001b[1mWritten to ../docs/companies/Remitly.html\u001b[0m\n",
      "\u001b[32m2024-10-10 09:09:19.705\u001b[0m | \u001b[1mINFO    \u001b[0m | \u001b[36munified\u001b[0m:\u001b[36mto_html_file\u001b[0m:\u001b[36m283\u001b[0m - \u001b[1mWritten to ../docs/companies/Adswerve.html\u001b[0m\n",
      "\u001b[32m2024-10-10 09:09:19.712\u001b[0m | \u001b[1mINFO    \u001b[0m | \u001b[36munified\u001b[0m:\u001b[36mto_html_file\u001b[0m:\u001b[36m283\u001b[0m - \u001b[1mWritten to ../docs/companies/Rad_AI_Impressions.html\u001b[0m\n",
      "\u001b[32m2024-10-10 09:09:19.721\u001b[0m | \u001b[1mINFO    \u001b[0m | \u001b[36munified\u001b[0m:\u001b[36mto_html_file\u001b[0m:\u001b[36m283\u001b[0m - \u001b[1mWritten to ../docs/companies/CrowdStrike.html\u001b[0m\n",
      "\u001b[32m2024-10-10 09:09:19.731\u001b[0m | \u001b[1mINFO    \u001b[0m | \u001b[36munified\u001b[0m:\u001b[36mto_html_file\u001b[0m:\u001b[36m283\u001b[0m - \u001b[1mWritten to ../docs/companies/BitTitan.html\u001b[0m\n",
      "\u001b[32m2024-10-10 09:09:19.739\u001b[0m | \u001b[1mINFO    \u001b[0m | \u001b[36munified\u001b[0m:\u001b[36mto_html_file\u001b[0m:\u001b[36m283\u001b[0m - \u001b[1mWritten to ../docs/companies/Atlassian_Jira.html\u001b[0m\n",
      "\u001b[32m2024-10-10 09:09:19.749\u001b[0m | \u001b[1mINFO    \u001b[0m | \u001b[36munified\u001b[0m:\u001b[36mto_html_file\u001b[0m:\u001b[36m283\u001b[0m - \u001b[1mWritten to ../docs/companies/Hiya__Inc_.html\u001b[0m\n",
      "\u001b[32m2024-10-10 09:09:19.754\u001b[0m | \u001b[1mINFO    \u001b[0m | \u001b[36munified\u001b[0m:\u001b[36mto_html_file\u001b[0m:\u001b[36m283\u001b[0m - \u001b[1mWritten to ../docs/companies/Synthesize_Bio.html\u001b[0m\n",
      "\u001b[32m2024-10-10 09:09:19.761\u001b[0m | \u001b[1mINFO    \u001b[0m | \u001b[36munified\u001b[0m:\u001b[36mto_html_file\u001b[0m:\u001b[36m283\u001b[0m - \u001b[1mWritten to ../docs/companies/Chronosphere.html\u001b[0m\n",
      "\u001b[32m2024-10-10 09:09:19.772\u001b[0m | \u001b[1mINFO    \u001b[0m | \u001b[36munified\u001b[0m:\u001b[36mto_html_file\u001b[0m:\u001b[36m283\u001b[0m - \u001b[1mWritten to ../docs/companies/RescueTime.html\u001b[0m\n",
      "\u001b[32m2024-10-10 09:09:19.786\u001b[0m | \u001b[1mINFO    \u001b[0m | \u001b[36munified\u001b[0m:\u001b[36mto_html_file\u001b[0m:\u001b[36m283\u001b[0m - \u001b[1mWritten to ../docs/companies/Nordstrom.html\u001b[0m\n",
      "\u001b[32m2024-10-10 09:09:19.793\u001b[0m | \u001b[1mINFO    \u001b[0m | \u001b[36munified\u001b[0m:\u001b[36mto_html_file\u001b[0m:\u001b[36m283\u001b[0m - \u001b[1mWritten to ../docs/companies/CoreStack.html\u001b[0m\n",
      "\u001b[32m2024-10-10 09:09:19.800\u001b[0m | \u001b[1mINFO    \u001b[0m | \u001b[36munified\u001b[0m:\u001b[36mto_html_file\u001b[0m:\u001b[36m283\u001b[0m - \u001b[1mWritten to ../docs/companies/Osano.html\u001b[0m\n",
      "\u001b[32m2024-10-10 09:09:19.813\u001b[0m | \u001b[1mINFO    \u001b[0m | \u001b[36munified\u001b[0m:\u001b[36mto_html_file\u001b[0m:\u001b[36m283\u001b[0m - \u001b[1mWritten to ../docs/companies/Disney.html\u001b[0m\n",
      "\u001b[32m2024-10-10 09:09:19.821\u001b[0m | \u001b[1mINFO    \u001b[0m | \u001b[36munified\u001b[0m:\u001b[36mto_html_file\u001b[0m:\u001b[36m283\u001b[0m - \u001b[1mWritten to ../docs/companies/Monte_Carlo.html\u001b[0m\n",
      "\u001b[32m2024-10-10 09:09:19.832\u001b[0m | \u001b[1mINFO    \u001b[0m | \u001b[36munified\u001b[0m:\u001b[36mto_html_file\u001b[0m:\u001b[36m283\u001b[0m - \u001b[1mWritten to ../docs/companies/vcita.html\u001b[0m\n",
      "\u001b[32m2024-10-10 09:09:19.843\u001b[0m | \u001b[1mINFO    \u001b[0m | \u001b[36munified\u001b[0m:\u001b[36mto_html_file\u001b[0m:\u001b[36m283\u001b[0m - \u001b[1mWritten to ../docs/companies/Sprout_Social.html\u001b[0m\n",
      "\u001b[32m2024-10-10 09:09:19.851\u001b[0m | \u001b[1mINFO    \u001b[0m | \u001b[36munified\u001b[0m:\u001b[36mto_html_file\u001b[0m:\u001b[36m283\u001b[0m - \u001b[1mWritten to ../docs/companies/Quartet_Health.html\u001b[0m\n",
      "\u001b[32m2024-10-10 09:09:19.857\u001b[0m | \u001b[1mINFO    \u001b[0m | \u001b[36munified\u001b[0m:\u001b[36mto_html_file\u001b[0m:\u001b[36m283\u001b[0m - \u001b[1mWritten to ../docs/companies/Kevala.html\u001b[0m\n",
      "\u001b[32m2024-10-10 09:09:19.871\u001b[0m | \u001b[1mINFO    \u001b[0m | \u001b[36munified\u001b[0m:\u001b[36mto_html_file\u001b[0m:\u001b[36m283\u001b[0m - \u001b[1mWritten to ../docs/companies/Rippling.html\u001b[0m\n",
      "\u001b[32m2024-10-10 09:09:19.887\u001b[0m | \u001b[1mINFO    \u001b[0m | \u001b[36munified\u001b[0m:\u001b[36mto_html_file\u001b[0m:\u001b[36m283\u001b[0m - \u001b[1mWritten to ../docs/companies/Singularity_6_Palia.html\u001b[0m\n",
      "\u001b[32m2024-10-10 09:09:19.895\u001b[0m | \u001b[1mINFO    \u001b[0m | \u001b[36munified\u001b[0m:\u001b[36mto_html_file\u001b[0m:\u001b[36m283\u001b[0m - \u001b[1mWritten to ../docs/companies/Magnite.html\u001b[0m\n",
      "\u001b[32m2024-10-10 09:09:19.906\u001b[0m | \u001b[1mINFO    \u001b[0m | \u001b[36munified\u001b[0m:\u001b[36mto_html_file\u001b[0m:\u001b[36m283\u001b[0m - \u001b[1mWritten to ../docs/companies/Bamboo.html\u001b[0m\n",
      "\u001b[32m2024-10-10 09:09:19.918\u001b[0m | \u001b[1mINFO    \u001b[0m | \u001b[36munified\u001b[0m:\u001b[36mto_html_file\u001b[0m:\u001b[36m283\u001b[0m - \u001b[1mWritten to ../docs/companies/SoFi.html\u001b[0m\n",
      "\u001b[32m2024-10-10 09:09:19.926\u001b[0m | \u001b[1mINFO    \u001b[0m | \u001b[36munified\u001b[0m:\u001b[36mto_html_file\u001b[0m:\u001b[36m283\u001b[0m - \u001b[1mWritten to ../docs/companies/promptfoo.html\u001b[0m\n",
      "\u001b[32m2024-10-10 09:09:19.935\u001b[0m | \u001b[1mINFO    \u001b[0m | \u001b[36munified\u001b[0m:\u001b[36mto_html_file\u001b[0m:\u001b[36m283\u001b[0m - \u001b[1mWritten to ../docs/companies/Carbon_Robotics_Laserweeder.html\u001b[0m\n",
      "\u001b[32m2024-10-10 09:09:19.944\u001b[0m | \u001b[1mINFO    \u001b[0m | \u001b[36munified\u001b[0m:\u001b[36mto_html_file\u001b[0m:\u001b[36m283\u001b[0m - \u001b[1mWritten to ../docs/companies/A_Place_for_Mom.html\u001b[0m\n",
      "\u001b[32m2024-10-10 09:09:19.953\u001b[0m | \u001b[1mINFO    \u001b[0m | \u001b[36munified\u001b[0m:\u001b[36mto_html_file\u001b[0m:\u001b[36m283\u001b[0m - \u001b[1mWritten to ../docs/companies/PEAK6.html\u001b[0m\n",
      "\u001b[32m2024-10-10 09:09:19.961\u001b[0m | \u001b[1mINFO    \u001b[0m | \u001b[36munified\u001b[0m:\u001b[36mto_html_file\u001b[0m:\u001b[36m283\u001b[0m - \u001b[1mWritten to ../docs/companies/International_Community_Health_Services.html\u001b[0m\n",
      "\u001b[32m2024-10-10 09:09:19.969\u001b[0m | \u001b[1mINFO    \u001b[0m | \u001b[36munified\u001b[0m:\u001b[36mto_html_file\u001b[0m:\u001b[36m283\u001b[0m - \u001b[1mWritten to ../docs/companies/Clobotics.html\u001b[0m\n",
      "\u001b[32m2024-10-10 09:09:19.978\u001b[0m | \u001b[1mINFO    \u001b[0m | \u001b[36munified\u001b[0m:\u001b[36mto_html_file\u001b[0m:\u001b[36m283\u001b[0m - \u001b[1mWritten to ../docs/companies/TBD.html\u001b[0m\n",
      "\u001b[32m2024-10-10 09:09:19.985\u001b[0m | \u001b[1mINFO    \u001b[0m | \u001b[36munified\u001b[0m:\u001b[36mto_html_file\u001b[0m:\u001b[36m283\u001b[0m - \u001b[1mWritten to ../docs/companies/Pomelo_Care.html\u001b[0m\n",
      "\u001b[32m2024-10-10 09:09:19.992\u001b[0m | \u001b[1mINFO    \u001b[0m | \u001b[36munified\u001b[0m:\u001b[36mto_html_file\u001b[0m:\u001b[36m283\u001b[0m - \u001b[1mWritten to ../docs/companies/Classmates.html\u001b[0m\n",
      "\u001b[32m2024-10-10 09:09:20.001\u001b[0m | \u001b[1mINFO    \u001b[0m | \u001b[36munified\u001b[0m:\u001b[36mto_html_file\u001b[0m:\u001b[36m283\u001b[0m - \u001b[1mWritten to ../docs/companies/Huntress.html\u001b[0m\n"
     ]
    }
   ],
   "source": [
    "from core import Seed\n",
    "\n",
    "def get_output_path(company: Seed, output_folder: str) -> str:\n",
    "    return f\"{output_folder}/companies/{company.as_path_v2()}.html\"\n",
    "\n",
    "for json_path, result in results.items():\n",
    "    output_path = get_output_path(result.target, website_folder)\n",
    "    result.to_html_file(output_path)\n"
   ]
  },
  {
   "cell_type": "code",
   "execution_count": 41,
   "metadata": {},
   "outputs": [],
   "source": [
    "# Regenerate index.html\n",
    "import jinja2\n",
    "templates = jinja2.Environment(\n",
    "    loader=jinja2.FileSystemLoader(\"templates\"),\n",
    ")"
   ]
  },
  {
   "cell_type": "code",
   "execution_count": 42,
   "metadata": {},
   "outputs": [
    {
     "name": "stdout",
     "output_type": "stream",
     "text": [
      "Generated ../docs/index.html\n"
     ]
    }
   ],
   "source": [
    "names_to_relative_urls = {\n",
    "    result.target.company: f\"companies/{result.target.as_path_v2()}.html\"\n",
    "    for result in results.values()\n",
    "}\n",
    "\n",
    "with open(f\"{website_folder}/index.html\", 'w') as file:\n",
    "    file.write(templates.get_template(\"index.html\").render(\n",
    "        names_to_relative_urls=names_to_relative_urls,\n",
    "        title=\"Company Detective beta\",\n",
    "        ))\n",
    "    print(f\"Generated {website_folder}/index.html\")"
   ]
  },
  {
   "cell_type": "code",
   "execution_count": null,
   "metadata": {},
   "outputs": [],
   "source": []
  }
 ],
 "metadata": {
  "kernelspec": {
   "display_name": ".venv",
   "language": "python",
   "name": "python3"
  },
  "language_info": {
   "codemirror_mode": {
    "name": "ipython",
    "version": 3
   },
   "file_extension": ".py",
   "mimetype": "text/x-python",
   "name": "python",
   "nbconvert_exporter": "python",
   "pygments_lexer": "ipython3",
   "version": "3.10.12"
  }
 },
 "nbformat": 4,
 "nbformat_minor": 2
}
