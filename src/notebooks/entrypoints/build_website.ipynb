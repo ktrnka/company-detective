{
 "cells": [
  {
   "cell_type": "code",
   "execution_count": 3,
   "metadata": {},
   "outputs": [
    {
     "name": "stdout",
     "output_type": "stream",
     "text": [
      "/home/keith/company-detective/src\n"
     ]
    }
   ],
   "source": [
    "%%sh\n",
    "pwd"
   ]
  },
  {
   "cell_type": "code",
   "execution_count": 4,
   "metadata": {},
   "outputs": [],
   "source": [
    "# Inputs:\n",
    "data_folder = \"../output/data\"\n",
    "website_folder = \"../docs\""
   ]
  },
  {
   "cell_type": "code",
   "execution_count": 5,
   "metadata": {},
   "outputs": [
    {
     "name": "stdout",
     "output_type": "stream",
     "text": [
      "['../output/data/Center_CenterCard.json', '../output/data/Ontra.json', '../output/data/Snap_Inc_.json', '../output/data/Optimize_Health.json', '../output/data/Akili_Interactive_EndeavorRx.json', '../output/data/DoubleDown_Interactive.json', '../output/data/2K_Games.json', '../output/data/Imagine_Pediatrics.json', '../output/data/98point6.json', '../output/data/Chewy.json', '../output/data/Qualtrics.json', '../output/data/Block_Square.json', '../output/data/Dolly.json', '../output/data/Hiya.json', '../output/data/Built_In.json', '../output/data/Remitly.json', '../output/data/Adswerve.json', '../output/data/Rad_AI_Impressions.json', '../output/data/CrowdStrike.json', '../output/data/Atlassian_Jira.json', '../output/data/Hiya__Inc_.json', '../output/data/Synthesize_Bio.json', '../output/data/Osano.json', '../output/data/Monte_Carlo.json', '../output/data/vcita.json', '../output/data/Sprout_Social.json', '../output/data/Quartet_Health.json', '../output/data/Kevala.json', '../output/data/Rippling.json', '../output/data/Singularity_6_Palia.json', '../output/data/Magnite.json', '../output/data/SoFi.json', '../output/data/Carbon_Robotics_Laserweeder.json', '../output/data/A_Place_for_Mom.json', '../output/data/PEAK6.json', '../output/data/International_Community_Health_Services.json', '../output/data/TBD.json', '../output/data/Pomelo_Care.json', '../output/data/Huntress.json']\n"
     ]
    }
   ],
   "source": [
    "import glob\n",
    "\n",
    "# List all JSON files in the data_folder\n",
    "json_files = glob.glob(f\"{data_folder}/*.json\")\n",
    "print(json_files)"
   ]
  },
  {
   "cell_type": "code",
   "execution_count": 6,
   "metadata": {},
   "outputs": [],
   "source": [
    "from unified import UnifiedResult\n",
    "import json\n",
    "from typing import Dict\n",
    "\n",
    "results: Dict[str, UnifiedResult] = {}\n",
    "\n",
    "for file_path in json_files:\n",
    "    with open(file_path, 'r') as file:\n",
    "        data = json.load(file)\n",
    "        results[file_path] = UnifiedResult(**data)\n",
    "\n",
    "# print(results)"
   ]
  },
  {
   "cell_type": "code",
   "execution_count": 11,
   "metadata": {},
   "outputs": [
    {
     "name": "stderr",
     "output_type": "stream",
     "text": [
      "\u001b[32m2024-10-06 12:26:07.002\u001b[0m | \u001b[1mINFO    \u001b[0m | \u001b[36munified\u001b[0m:\u001b[36mto_html_file\u001b[0m:\u001b[36m282\u001b[0m - \u001b[1mWritten to ../docs/companies/Center_CenterCard.html\u001b[0m\n",
      "\u001b[32m2024-10-06 12:26:07.010\u001b[0m | \u001b[1mINFO    \u001b[0m | \u001b[36munified\u001b[0m:\u001b[36mto_html_file\u001b[0m:\u001b[36m282\u001b[0m - \u001b[1mWritten to ../docs/companies/Ontra.html\u001b[0m\n",
      "\u001b[32m2024-10-06 12:26:07.027\u001b[0m | \u001b[1mINFO    \u001b[0m | \u001b[36munified\u001b[0m:\u001b[36mto_html_file\u001b[0m:\u001b[36m282\u001b[0m - \u001b[1mWritten to ../docs/companies/Snap_Inc_.html\u001b[0m\n",
      "\u001b[32m2024-10-06 12:26:07.037\u001b[0m | \u001b[1mINFO    \u001b[0m | \u001b[36munified\u001b[0m:\u001b[36mto_html_file\u001b[0m:\u001b[36m282\u001b[0m - \u001b[1mWritten to ../docs/companies/Optimize_Health.html\u001b[0m\n",
      "\u001b[32m2024-10-06 12:26:07.048\u001b[0m | \u001b[1mINFO    \u001b[0m | \u001b[36munified\u001b[0m:\u001b[36mto_html_file\u001b[0m:\u001b[36m282\u001b[0m - \u001b[1mWritten to ../docs/companies/Akili_Interactive_EndeavorRx.html\u001b[0m\n",
      "\u001b[32m2024-10-06 12:26:07.060\u001b[0m | \u001b[1mINFO    \u001b[0m | \u001b[36munified\u001b[0m:\u001b[36mto_html_file\u001b[0m:\u001b[36m282\u001b[0m - \u001b[1mWritten to ../docs/companies/DoubleDown_Interactive.html\u001b[0m\n",
      "\u001b[32m2024-10-06 12:26:07.069\u001b[0m | \u001b[1mINFO    \u001b[0m | \u001b[36munified\u001b[0m:\u001b[36mto_html_file\u001b[0m:\u001b[36m282\u001b[0m - \u001b[1mWritten to ../docs/companies/2K_Games.html\u001b[0m\n",
      "\u001b[32m2024-10-06 12:26:07.078\u001b[0m | \u001b[1mINFO    \u001b[0m | \u001b[36munified\u001b[0m:\u001b[36mto_html_file\u001b[0m:\u001b[36m282\u001b[0m - \u001b[1mWritten to ../docs/companies/Imagine_Pediatrics.html\u001b[0m\n",
      "\u001b[32m2024-10-06 12:26:07.093\u001b[0m | \u001b[1mINFO    \u001b[0m | \u001b[36munified\u001b[0m:\u001b[36mto_html_file\u001b[0m:\u001b[36m282\u001b[0m - \u001b[1mWritten to ../docs/companies/98point6.html\u001b[0m\n",
      "\u001b[32m2024-10-06 12:26:07.107\u001b[0m | \u001b[1mINFO    \u001b[0m | \u001b[36munified\u001b[0m:\u001b[36mto_html_file\u001b[0m:\u001b[36m282\u001b[0m - \u001b[1mWritten to ../docs/companies/Chewy.html\u001b[0m\n",
      "\u001b[32m2024-10-06 12:26:07.117\u001b[0m | \u001b[1mINFO    \u001b[0m | \u001b[36munified\u001b[0m:\u001b[36mto_html_file\u001b[0m:\u001b[36m282\u001b[0m - \u001b[1mWritten to ../docs/companies/Qualtrics.html\u001b[0m\n",
      "\u001b[32m2024-10-06 12:26:07.127\u001b[0m | \u001b[1mINFO    \u001b[0m | \u001b[36munified\u001b[0m:\u001b[36mto_html_file\u001b[0m:\u001b[36m282\u001b[0m - \u001b[1mWritten to ../docs/companies/Block_Square.html\u001b[0m\n",
      "\u001b[32m2024-10-06 12:26:07.134\u001b[0m | \u001b[1mINFO    \u001b[0m | \u001b[36munified\u001b[0m:\u001b[36mto_html_file\u001b[0m:\u001b[36m282\u001b[0m - \u001b[1mWritten to ../docs/companies/Dolly.html\u001b[0m\n",
      "\u001b[32m2024-10-06 12:26:07.150\u001b[0m | \u001b[1mINFO    \u001b[0m | \u001b[36munified\u001b[0m:\u001b[36mto_html_file\u001b[0m:\u001b[36m282\u001b[0m - \u001b[1mWritten to ../docs/companies/Hiya.html\u001b[0m\n",
      "\u001b[32m2024-10-06 12:26:07.159\u001b[0m | \u001b[1mINFO    \u001b[0m | \u001b[36munified\u001b[0m:\u001b[36mto_html_file\u001b[0m:\u001b[36m282\u001b[0m - \u001b[1mWritten to ../docs/companies/Built_In.html\u001b[0m\n",
      "\u001b[32m2024-10-06 12:26:07.174\u001b[0m | \u001b[1mINFO    \u001b[0m | \u001b[36munified\u001b[0m:\u001b[36mto_html_file\u001b[0m:\u001b[36m282\u001b[0m - \u001b[1mWritten to ../docs/companies/Remitly.html\u001b[0m\n",
      "\u001b[32m2024-10-06 12:26:07.181\u001b[0m | \u001b[1mINFO    \u001b[0m | \u001b[36munified\u001b[0m:\u001b[36mto_html_file\u001b[0m:\u001b[36m282\u001b[0m - \u001b[1mWritten to ../docs/companies/Adswerve.html\u001b[0m\n",
      "\u001b[32m2024-10-06 12:26:07.189\u001b[0m | \u001b[1mINFO    \u001b[0m | \u001b[36munified\u001b[0m:\u001b[36mto_html_file\u001b[0m:\u001b[36m282\u001b[0m - \u001b[1mWritten to ../docs/companies/Rad_AI_Impressions.html\u001b[0m\n",
      "\u001b[32m2024-10-06 12:26:07.200\u001b[0m | \u001b[1mINFO    \u001b[0m | \u001b[36munified\u001b[0m:\u001b[36mto_html_file\u001b[0m:\u001b[36m282\u001b[0m - \u001b[1mWritten to ../docs/companies/CrowdStrike.html\u001b[0m\n",
      "\u001b[32m2024-10-06 12:26:07.208\u001b[0m | \u001b[1mINFO    \u001b[0m | \u001b[36munified\u001b[0m:\u001b[36mto_html_file\u001b[0m:\u001b[36m282\u001b[0m - \u001b[1mWritten to ../docs/companies/Atlassian_Jira.html\u001b[0m\n",
      "\u001b[32m2024-10-06 12:26:07.220\u001b[0m | \u001b[1mINFO    \u001b[0m | \u001b[36munified\u001b[0m:\u001b[36mto_html_file\u001b[0m:\u001b[36m282\u001b[0m - \u001b[1mWritten to ../docs/companies/Hiya__Inc_.html\u001b[0m\n",
      "\u001b[32m2024-10-06 12:26:07.225\u001b[0m | \u001b[1mINFO    \u001b[0m | \u001b[36munified\u001b[0m:\u001b[36mto_html_file\u001b[0m:\u001b[36m282\u001b[0m - \u001b[1mWritten to ../docs/companies/Synthesize_Bio.html\u001b[0m\n",
      "\u001b[32m2024-10-06 12:26:07.233\u001b[0m | \u001b[1mINFO    \u001b[0m | \u001b[36munified\u001b[0m:\u001b[36mto_html_file\u001b[0m:\u001b[36m282\u001b[0m - \u001b[1mWritten to ../docs/companies/Osano.html\u001b[0m\n",
      "\u001b[32m2024-10-06 12:26:07.242\u001b[0m | \u001b[1mINFO    \u001b[0m | \u001b[36munified\u001b[0m:\u001b[36mto_html_file\u001b[0m:\u001b[36m282\u001b[0m - \u001b[1mWritten to ../docs/companies/Monte_Carlo.html\u001b[0m\n",
      "\u001b[32m2024-10-06 12:26:07.253\u001b[0m | \u001b[1mINFO    \u001b[0m | \u001b[36munified\u001b[0m:\u001b[36mto_html_file\u001b[0m:\u001b[36m282\u001b[0m - \u001b[1mWritten to ../docs/companies/vcita.html\u001b[0m\n",
      "\u001b[32m2024-10-06 12:26:07.265\u001b[0m | \u001b[1mINFO    \u001b[0m | \u001b[36munified\u001b[0m:\u001b[36mto_html_file\u001b[0m:\u001b[36m282\u001b[0m - \u001b[1mWritten to ../docs/companies/Sprout_Social.html\u001b[0m\n",
      "\u001b[32m2024-10-06 12:26:07.273\u001b[0m | \u001b[1mINFO    \u001b[0m | \u001b[36munified\u001b[0m:\u001b[36mto_html_file\u001b[0m:\u001b[36m282\u001b[0m - \u001b[1mWritten to ../docs/companies/Quartet_Health.html\u001b[0m\n",
      "\u001b[32m2024-10-06 12:26:07.280\u001b[0m | \u001b[1mINFO    \u001b[0m | \u001b[36munified\u001b[0m:\u001b[36mto_html_file\u001b[0m:\u001b[36m282\u001b[0m - \u001b[1mWritten to ../docs/companies/Kevala.html\u001b[0m\n",
      "\u001b[32m2024-10-06 12:26:07.291\u001b[0m | \u001b[1mINFO    \u001b[0m | \u001b[36munified\u001b[0m:\u001b[36mto_html_file\u001b[0m:\u001b[36m282\u001b[0m - \u001b[1mWritten to ../docs/companies/Rippling.html\u001b[0m\n",
      "\u001b[32m2024-10-06 12:26:07.308\u001b[0m | \u001b[1mINFO    \u001b[0m | \u001b[36munified\u001b[0m:\u001b[36mto_html_file\u001b[0m:\u001b[36m282\u001b[0m - \u001b[1mWritten to ../docs/companies/Singularity_6_Palia.html\u001b[0m\n",
      "\u001b[32m2024-10-06 12:26:07.317\u001b[0m | \u001b[1mINFO    \u001b[0m | \u001b[36munified\u001b[0m:\u001b[36mto_html_file\u001b[0m:\u001b[36m282\u001b[0m - \u001b[1mWritten to ../docs/companies/Magnite.html\u001b[0m\n",
      "\u001b[32m2024-10-06 12:26:07.331\u001b[0m | \u001b[1mINFO    \u001b[0m | \u001b[36munified\u001b[0m:\u001b[36mto_html_file\u001b[0m:\u001b[36m282\u001b[0m - \u001b[1mWritten to ../docs/companies/SoFi.html\u001b[0m\n",
      "\u001b[32m2024-10-06 12:26:07.340\u001b[0m | \u001b[1mINFO    \u001b[0m | \u001b[36munified\u001b[0m:\u001b[36mto_html_file\u001b[0m:\u001b[36m282\u001b[0m - \u001b[1mWritten to ../docs/companies/Carbon_Robotics_Laserweeder.html\u001b[0m\n",
      "\u001b[32m2024-10-06 12:26:07.350\u001b[0m | \u001b[1mINFO    \u001b[0m | \u001b[36munified\u001b[0m:\u001b[36mto_html_file\u001b[0m:\u001b[36m282\u001b[0m - \u001b[1mWritten to ../docs/companies/A_Place_for_Mom.html\u001b[0m\n",
      "\u001b[32m2024-10-06 12:26:07.359\u001b[0m | \u001b[1mINFO    \u001b[0m | \u001b[36munified\u001b[0m:\u001b[36mto_html_file\u001b[0m:\u001b[36m282\u001b[0m - \u001b[1mWritten to ../docs/companies/PEAK6.html\u001b[0m\n",
      "\u001b[32m2024-10-06 12:26:07.368\u001b[0m | \u001b[1mINFO    \u001b[0m | \u001b[36munified\u001b[0m:\u001b[36mto_html_file\u001b[0m:\u001b[36m282\u001b[0m - \u001b[1mWritten to ../docs/companies/International_Community_Health_Services.html\u001b[0m\n",
      "\u001b[32m2024-10-06 12:26:07.377\u001b[0m | \u001b[1mINFO    \u001b[0m | \u001b[36munified\u001b[0m:\u001b[36mto_html_file\u001b[0m:\u001b[36m282\u001b[0m - \u001b[1mWritten to ../docs/companies/TBD.html\u001b[0m\n",
      "\u001b[32m2024-10-06 12:26:07.385\u001b[0m | \u001b[1mINFO    \u001b[0m | \u001b[36munified\u001b[0m:\u001b[36mto_html_file\u001b[0m:\u001b[36m282\u001b[0m - \u001b[1mWritten to ../docs/companies/Pomelo_Care.html\u001b[0m\n",
      "\u001b[32m2024-10-06 12:26:07.395\u001b[0m | \u001b[1mINFO    \u001b[0m | \u001b[36munified\u001b[0m:\u001b[36mto_html_file\u001b[0m:\u001b[36m282\u001b[0m - \u001b[1mWritten to ../docs/companies/Huntress.html\u001b[0m\n"
     ]
    }
   ],
   "source": [
    "from core import Seed\n",
    "\n",
    "def get_output_path(company: Seed, output_folder: str) -> str:\n",
    "    return f\"{output_folder}/companies/{company.as_path_v2()}.html\"\n",
    "\n",
    "for json_path, result in results.items():\n",
    "    output_path = get_output_path(result.target, website_folder)\n",
    "    result.to_html_file(output_path)\n"
   ]
  },
  {
   "cell_type": "code",
   "execution_count": 8,
   "metadata": {},
   "outputs": [],
   "source": [
    "# Regenerate index.html\n",
    "import jinja2\n",
    "templates = jinja2.Environment(\n",
    "    loader=jinja2.FileSystemLoader(\"templates\"),\n",
    ")"
   ]
  },
  {
   "cell_type": "code",
   "execution_count": 10,
   "metadata": {},
   "outputs": [
    {
     "name": "stdout",
     "output_type": "stream",
     "text": [
      "Generated ../docs/index.html\n"
     ]
    }
   ],
   "source": [
    "names_to_relative_urls = {\n",
    "    result.target.company: f\"companies/{result.target.as_path_v2()}.html\"\n",
    "    for result in results.values()\n",
    "}\n",
    "\n",
    "with open(f\"{website_folder}/index.html\", 'w') as file:\n",
    "    file.write(templates.get_template(\"index.html\").render(\n",
    "        names_to_relative_urls=names_to_relative_urls,\n",
    "        title=\"Company Detective beta\",\n",
    "        ))\n",
    "    print(f\"Generated {website_folder}/index.html\")"
   ]
  },
  {
   "cell_type": "code",
   "execution_count": null,
   "metadata": {},
   "outputs": [],
   "source": []
  }
 ],
 "metadata": {
  "kernelspec": {
   "display_name": ".venv",
   "language": "python",
   "name": "python3"
  },
  "language_info": {
   "codemirror_mode": {
    "name": "ipython",
    "version": 3
   },
   "file_extension": ".py",
   "mimetype": "text/x-python",
   "name": "python",
   "nbconvert_exporter": "python",
   "pygments_lexer": "ipython3",
   "version": "3.10.12"
  }
 },
 "nbformat": 4,
 "nbformat_minor": 2
}
