{
 "cells": [
  {
   "cell_type": "markdown",
   "metadata": {},
   "source": [
    "# Query optimization by using pages that link to the main webpage\n",
    "\n",
    "Example:\n",
    "- Search for \"kevala.care\" -site:kevala.care (this is only relevant results)\n",
    "- Search for Kevala -\"kevala.care\" -site:kevala.care (this may have irrelevant stuff)\n",
    "- Fit a basic classifier to discriminate, rip out some of the strongest negative keywords\n",
    "\n",
    "\n",
    "Notes:\n",
    "- This might work for companies which have a near-match (Kevala, Akasa) but would not work for companies that don't have confounders (Singularity 6)"
   ]
  },
  {
   "cell_type": "code",
   "execution_count": 1,
   "metadata": {},
   "outputs": [],
   "source": [
    "from core import Seed, init\n",
    "\n",
    "init()"
   ]
  },
  {
   "cell_type": "code",
   "execution_count": 2,
   "metadata": {},
   "outputs": [],
   "source": [
    "seed = Seed.init(\"Kevala\", domain=\"kevala.care\")\n",
    "\n"
   ]
  },
  {
   "cell_type": "code",
   "execution_count": null,
   "metadata": {},
   "outputs": [],
   "source": [
    "from utils.google_search import search\n",
    "\n",
    "num_results = 80\n",
    "\n",
    "positive_results = list(search(f'\"{seed.domain}\" -site:{seed.domain}', num=num_results))\n",
    "negative_results = list(search(f'{seed.company} -\"{seed.domain}\" -site:{seed.domain}', num=num_results))\n",
    "\n",
    "positive_results, negative_results"
   ]
  },
  {
   "cell_type": "code",
   "execution_count": null,
   "metadata": {},
   "outputs": [],
   "source": [
    "# create a dataset from this\n",
    "import pandas as pd\n",
    "\n",
    "data = []\n",
    "for result in positive_results:\n",
    "    data.append({\"text\": f\"{result.title} {result.snippet}\", \"label\": \"relevant\"})\n",
    "for result in negative_results:\n",
    "    data.append({\"text\": f\"{result.title} {result.snippet}\", \"label\": \"irrelevant\"})\n",
    "\n",
    "df = pd.DataFrame(data)\n",
    "df"
   ]
  },
  {
   "cell_type": "code",
   "execution_count": null,
   "metadata": {},
   "outputs": [],
   "source": [
    "from sklearn.pipeline import make_pipeline\n",
    "from sklearn.feature_extraction.text import TfidfVectorizer\n",
    "from sklearn.linear_model import LogisticRegressionCV\n",
    "\n",
    "model = make_pipeline(TfidfVectorizer(min_df=2, max_df=0.3, ngram_range=(1, 1), stop_words=\"english\"), LogisticRegressionCV())\n",
    "model.fit(df.text, df.label)"
   ]
  },
  {
   "cell_type": "code",
   "execution_count": null,
   "metadata": {},
   "outputs": [],
   "source": [
    "model.classes_"
   ]
  },
  {
   "cell_type": "code",
   "execution_count": null,
   "metadata": {},
   "outputs": [],
   "source": [
    "word_weights = pd.Series(model.steps[1][1].coef_[0], index=model.steps[0][1].get_feature_names_out())\n",
    "\n",
    "word_weights.sort_values().head(20)"
   ]
  },
  {
   "cell_type": "code",
   "execution_count": null,
   "metadata": {},
   "outputs": [],
   "source": [
    "word_weights.sort_values().tail(20)"
   ]
  },
  {
   "cell_type": "code",
   "execution_count": null,
   "metadata": {},
   "outputs": [],
   "source": [
    "# Try doing the news search with the related: operator\n",
    "\n",
    "related_results = list(search(f\"{seed.company} related:{seed.domain}\", num=num_results))\n",
    "related_results"
   ]
  },
  {
   "cell_type": "code",
   "execution_count": null,
   "metadata": {},
   "outputs": [],
   "source": [
    "distractor_terms = word_weights.sort_values().head(5).index\n",
    "query_refinement = \" \".join(f\"-intitle:{term}\" for term in distractor_terms)\n",
    "\n",
    "results = list(search(f'\"Kevala\" \"{seed.domain}\" news -site:{seed.domain}', num=20))\n",
    "results"
   ]
  },
  {
   "cell_type": "markdown",
   "metadata": {},
   "source": [
    "# Notes\n",
    "\n",
    "- Generating minus operators didn't help much and it's fiddly\n",
    "    - Using title plus snippet seemed best\n",
    "    - Removing a small number of distractors seemed best\n",
    "- For Kevala, the best option was to search {seed.company} \"{seed.domain}\". That will filter out some news websites though"
   ]
  },
  {
   "cell_type": "code",
   "execution_count": null,
   "metadata": {},
   "outputs": [],
   "source": []
  }
 ],
 "metadata": {
  "kernelspec": {
   "display_name": ".venv",
   "language": "python",
   "name": "python3"
  },
  "language_info": {
   "codemirror_mode": {
    "name": "ipython",
    "version": 3
   },
   "file_extension": ".py",
   "mimetype": "text/x-python",
   "name": "python",
   "nbconvert_exporter": "python",
   "pygments_lexer": "ipython3",
   "version": "3.10.12"
  }
 },
 "nbformat": 4,
 "nbformat_minor": 2
}
