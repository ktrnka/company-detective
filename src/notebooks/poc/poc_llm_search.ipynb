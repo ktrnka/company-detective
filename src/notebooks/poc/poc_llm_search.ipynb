{
 "cells": [
  {
   "cell_type": "markdown",
   "metadata": {},
   "source": [
    "# LLM as the entrypoint\n",
    "\n",
    "- Inspired from https://blog.apiad.net/p/building-a-perplexity-ai-clone and others to build Perplexity.ai clones"
   ]
  },
  {
   "cell_type": "code",
   "execution_count": 14,
   "metadata": {},
   "outputs": [],
   "source": [
    "from core import init, Seed\n",
    "\n",
    "init()"
   ]
  },
  {
   "cell_type": "code",
   "execution_count": 26,
   "metadata": {},
   "outputs": [],
   "source": [
    "# The base query/etc\n",
    "context = \"\"\"\n",
    "Current, formerly known as GE Current, a Daintree Company, is a prominent player in the lighting industry, specializing in LED technology and intelligent lighting controls. The company was founded on January 1, 2015, following the merger of GE Current and Hubbell's commercial and industrial lighting business (Crunchbase, 2024). Current focuses on sustainability and energy efficiency, offering a wide range of lighting solutions for various sectors, including healthcare, hospitality, education, and industrial markets.\n",
    "\n",
    "Current's product offerings include:\n",
    "\n",
    "Tetra® LED Light Systems: High-performance signage lighting systems.\n",
    "Architectural Area Lighting: Contemporary luminaires for diverse applications.\n",
    "Lighting Controls Systems: Wireless, stand-alone, outdoor, and wired controls.\n",
    "Healthcare Lighting: Products like Remedi and MODx™ for medical environments.\n",
    "Hospitality Lighting: Solutions for hotels and restaurants.\n",
    "Industrial Lighting: High-efficiency luminaires for manufacturing.\n",
    "Outdoor Lighting: EXO brand quick-ship solutions for contractors.\n",
    "\n",
    "Website: https://www.currentlighting.com/\n",
    "\"\"\"\n",
    "\n",
    "query = \"What do Current's customers say about them or their products?\"\n",
    "\n",
    "search_tips = \"\"\"\n",
    "Tips for Google queries:\n",
    "- It's good to start with a fairly general search, then refine it iteratively based on the results. In other words, start with a higher recall search and then refine it to increase precision\n",
    "- If the company's website is known, you can add related:domain.com to improve precision\n",
    "- If Reddit reviews are promising, we can add site:reddit.com to the query\n",
    "- If results from a source are generally irrelevant, you can exclude that source with -site:source.com\n",
    "- If the company name has multiple words, you can put the name in quotes to increase precision at the cost of recall\n",
    "- Sometimes the informal name of the company may be more useful than the formal name for search queries, for example \"Pomelo\" instead of \"Pomelo Care\" will increase recall but may decrease precision. Likewise \"S6\" instead of \"Singularity 6\" may increase recall but decrease precision\n",
    "\"\"\""
   ]
  },
  {
   "cell_type": "code",
   "execution_count": 27,
   "metadata": {},
   "outputs": [
    {
     "data": {
      "text/plain": [
       "QueryExpansion(interpretation=\"The user is looking for customer reviews and feedback about Current's products and services, particularly in the lighting industry. They may be interested in insights from various sectors such as healthcare, hospitality, and industrial markets, as well as general customer satisfaction.\", queries=[Query(query='Current lighting customer reviews', time_period='1y'), Query(query='Current GE lighting reviews site:reddit.com', time_period='1y')])"
      ]
     },
     "execution_count": 27,
     "metadata": {},
     "output_type": "execute_result"
    }
   ],
   "source": [
    "from langchain_openai import ChatOpenAI\n",
    "from langchain_core.prompts import ChatPromptTemplate\n",
    "\n",
    "from pydantic import BaseModel, Field\n",
    "from typing import List\n",
    "\n",
    "class Query(BaseModel):\n",
    "    query: str = Field(description=\"Google search query\")\n",
    "    time_period: str = Field(description=\"The time period for the search (all, 5y, 1y, 1m, 1w, 1d, etc.)\")\n",
    "\n",
    "class QueryExpansion(BaseModel):\n",
    "    interpretation: str = Field(description=\"interpretation of the user's information need(s)\")\n",
    "    queries: List[Query] = Field(description=\"list of relevant Google searches\")\n",
    "\n",
    "_prompt = ChatPromptTemplate.from_messages(\n",
    "    [\n",
    "        (\n",
    "            \"system\",\n",
    "            \"\"\"\n",
    "Given the following question, provide a set of {num_queries} relevant Google searches that would answer the question. \n",
    "First think about the user's question and provide your own interpretation of the information need(s).\n",
    "Then generate the relevant queries including the time period for the search.\n",
    "            \"\"\" + search_tips,\n",
    "        ),\n",
    "        (\n",
    "            \"human\",\n",
    "            \"\"\"\n",
    "User query: {query}\n",
    "\n",
    "Additional context:\n",
    "{context}\n",
    "\n",
    "Now, please provide your interpretation, and suggest a set of relevant Google searches that would answer the user's question.\n",
    "            \"\"\",\n",
    "        ),\n",
    "    ]\n",
    ")\n",
    "\n",
    "\n",
    "\n",
    "llm = ChatOpenAI(model=\"gpt-4o-mini\", temperature=0)\n",
    "runnable = _prompt | llm.with_structured_output(QueryExpansion)\n",
    "result = runnable.invoke(\n",
    "    {\n",
    "        \"query\": query,\n",
    "        \"context\": context,\n",
    "        \"num_queries\": 2\n",
    "    }\n",
    ")\n",
    "\n",
    "result"
   ]
  },
  {
   "cell_type": "code",
   "execution_count": 28,
   "metadata": {},
   "outputs": [
    {
     "name": "stdout",
     "output_type": "stream",
     "text": [
      "query='Current lighting customer reviews' time_period='1y'\n",
      "query='Current GE lighting reviews site:reddit.com' time_period='1y'\n"
     ]
    }
   ],
   "source": [
    "for query in result.queries:\n",
    "    print(query)"
   ]
  },
  {
   "cell_type": "code",
   "execution_count": 29,
   "metadata": {},
   "outputs": [],
   "source": [
    "from utils.google_search import search\n",
    "\n",
    "query_results_pairs = []\n",
    "\n",
    "for query in result.queries[:2]:\n",
    "    query_results_pairs.append((query, list(search(query.query, num=10, dateRestrict=query.time_period))))\n"
   ]
  },
  {
   "cell_type": "code",
   "execution_count": 30,
   "metadata": {},
   "outputs": [
    {
     "name": "stdout",
     "output_type": "stream",
     "text": [
      "# Search query: query='Current lighting customer reviews' time_period='1y'\n",
      "1. Working at Current Lighting | Glassdoor - https://www.glassdoor.com/Overview/Working-at-Current-Lighting-EI_IE8575783.11,27.htm\n",
      "Customer Relations Jobs. Administrative Assistant Jobs ... All answers shown come directly from Current Lighting Reviews and are not edited or altered.\n",
      "2. [Geekerwan]Intel Lunar Lake in-depth review: Thin and light laptops ... - https://www.reddit.com/r/hardware/comments/1fuk76p/geekerwanintel_lunar_lake_indepth_review_thin_and/\n",
      "Oct 2, 2024 ... I would also argue that the current generation of Snapdragon is ... client mobile. Upvote 2. Downvote Reply reply. Award\n",
      "3. Customer reviews: CURRENT USA Orbit R24 Reef ... - Amazon.com - https://www.amazon.com/Current-USA-Aquarium-Wireless-Controller/product-reviews/B09423ZLWS\n",
      "Find helpful customer reviews and review ratings for CURRENT USA Orbit R24 Reef LED Aquarium Light with Flex Arm Tank Mount | Wireless Light and Pump ...\n",
      "4. Working at Current Lighting Solutions: Employee Reviews | Indeed ... - https://www.indeed.com/cmp/Current-Lighting-Solutions/reviews\n",
      "Reviews from Current Lighting Solutions employees about Current Lighting Solutions culture, salaries, benefits, work-life balance, management, job security, ...\n",
      "5. LED Face Mask | Red Light Therapy Masks | CurrentBody Skin UK - https://www.currentbody.com/products/currentbody-skin-led-light-therapy-mask\n",
      "After purchase we invite all customers to write a review, to share their honest feedback with us and fellow CurrentBody customers. Our reviews are aimed to help ...\n",
      "6. LED Face Mask | Red Light Therapy Mask | CurrentBody USA - https://us.currentbody.com/products/currentbody-skin-led-light-therapy-mask\n",
      "After purchase we invite all customers to write a review, to share their honest feedback with us and fellow CurrentBody customers. Our reviews are aimed to ...\n",
      "7. LED Light Therapy Reviews | Was it Worth It? | RealSelf - https://www.realself.com/reviews/led-light-therapy\n",
      "Based on 22 recent ratings. Last updated: October 22, 2024. 18. Worth It. 8. Not ... Consumer Health Data Privacy Policy · RealSelf, Inc BBB Business Review.\n",
      "8. My In-Depth, Honest Review of the Jones Road What The Foundation - https://www.thestyleshaker.com/product-reviews/jones-road-what-the-foundation-in-light\n",
      "Aug 20, 2024 ... ... Light), check out my honest review. I've been testing this ... MY CURRENT FAVORITES. Out of the hundreds of products I've tried ...\n",
      "9. The Smile - A Light for Attracting Attention - User Reviews - Album of ... - https://www.albumoftheyear.org/album/483541-the-smile-a-light-for-attracting-attention/user-reviews/\n",
      "User reviews & ratings for the album A Light for Attracting Attention by The Smile. See how this album was rated and reviewed by the users of AoTY.org.\n",
      "10. Dermalux Flex MD LED Light Therapy Device | CurrentBody - https://www.currentbody.com/products/dermalux-flex-md\n",
      "After purchase we invite all customers to write a review, to share their honest feedback with us and fellow CurrentBody customers. Our reviews are aimed to help ...\n",
      "\n",
      "# Search query: query='Current GE lighting reviews site:reddit.com' time_period='1y'\n",
      "1. Fix for many GE dishwasher problems with control board, UI board ... - https://www.reddit.com/r/appliancerepair/comments/vl4srf/fix_for_many_ge_dishwasher_problems_with_control/\n",
      "Jun 26, 2022 ... Dishwasher may stop and go dark in the middle of a cycle. Main board light would be flashing the CSM (current sense module) error pattern, but ...\n",
      "2. Is premium lighting worth it? : r/PlantedTank - https://www.reddit.com/r/PlantedTank/comments/13te24d/is_premium_lighting_worth_it/\n",
      "May 27, 2023 ... On Amazon there are planted aquarium led's for less than 20 dollars with a decent par rating and good reviews, but all the videos on lighting on YouTube ...\n",
      "3. Soltech Solutions Grow Light Reviews? : r/IndoorGarden - https://www.reddit.com/r/IndoorGarden/comments/f32rss/soltech_solutions_grow_light_reviews/\n",
      "Feb 13, 2020 ... Especially interested in how they compare to other growlights in the similar price range (or below). I currently run COB LEDs with light shades ...\n",
      "4. REVIEW: Paperwhite 2021 / 2018 vs. Kindle 2022 (+ comparisons to ... - https://www.reddit.com/r/kindle/comments/yh0wvz/review_paperwhite_2021_2018_vs_kindle_2022/\n",
      "Oct 30, 2022 ... ... -ink actually looks most natural and beautiful without that light present imo. That said, very happy with my pw11. Upvote 4. Downvote Award\n",
      "5. LED Christmas Lights : r/ChristmasLights - https://www.reddit.com/r/ChristmasLights/comments/qaddeu/led_christmas_lights/\n",
      "Oct 18, 2021 ... ... currently looking into replacing all of my current christmas lights for LED ones. As of now I am looking at these https://www.lowes.com/pd/GE ...\n",
      "6. Frustrated trying to find LED lighting for albo and other monsteras : r ... - https://www.reddit.com/r/Monstera/comments/13ow58y/frustrated_trying_to_find_led_lighting_for_albo/\n",
      "May 22, 2023 ... I have a few Monsteras and one Albo that I use GE led bulbs for. The 2nd picture is what I'm currently using and they're about a foot away from the plant.\n",
      "7. What's your honest opinions on light kits? : r/lego - https://www.reddit.com/r/lego/comments/1ag6e7o/whats_your_honest_opinions_on_light_kits/\n",
      "Feb 1, 2024 ... I'm currently looking to learn diy led stuffs myself (aiming to go with raspberry pi+arduino to automate it later). Last time I had anything to ...\n",
      "8. Current state of Bevy for professional game development : r/bevy - https://www.reddit.com/r/bevy/comments/1cuq7uu/current_state_of_bevy_for_professional_game/\n",
      "May 18, 2024 ... You need relatively light assets, a sophisticated asset streaming ... My very quick review (I try to stay relatively anonymous on here ...\n",
      "9. What's the two different power ratings on this timer for? : r/electrical - https://www.reddit.com/r/electrical/comments/14v4rlr/whats_the_two_different_power_ratings_on_this/\n",
      "Jul 9, 2023 ... Inrush current on tungsten lamps can be 20 times more than an incandescent lamp, so the wattage rating of the device using tungsten is lower.\n",
      "10. Cync by GE lights keep showing as not responding on my Google ... - https://www.reddit.com/r/smarthome/comments/s8jhm9/cync_by_ge_lights_keep_showing_as_not_responding/\n",
      "Jan 20, 2022 ... Now it's day 2 of having these lights and my office light is doing the same thing. I keep having to delete the current bulb from my Google home ...\n"
     ]
    }
   ],
   "source": [
    "\n",
    "def format_search(query, results):\n",
    "    result_str = \"\\n\".join(f\"{i+1}. {result.title} - {result.link}\\n{result.snippet}\" for i, result in enumerate(results))\n",
    "    return f\"# Search query: {query}\\n{result_str}\"\n",
    "\n",
    "def format_searches(query_results_pairs):\n",
    "    return \"\\n\\n\".join(format_search(query, results) for query, results in query_results_pairs)\n",
    "\n",
    "print(format_searches(query_results_pairs))"
   ]
  },
  {
   "cell_type": "code",
   "execution_count": 31,
   "metadata": {},
   "outputs": [
    {
     "data": {
      "text/plain": [
       "'The existing search results are limited as they include a mix of unrelated topics and reviews from various sources, not specifically focused on Current GE lighting. Additionally, some results are outdated or pertain to different products or brands, which may not provide the relevant insights the user is looking for.'"
      ]
     },
     "execution_count": 31,
     "metadata": {},
     "output_type": "execute_result"
    }
   ],
   "source": [
    "class QueryRevision(BaseModel):\n",
    "    interpretation: str = Field(description=\"interpretation of the user's information need(s)\")\n",
    "    critique: str = Field(description=\"brief critique of the existing search results\")\n",
    "    queries: List[Query] = Field(description=\"list of additional relevant Google searches\")\n",
    "\n",
    "_prompt = ChatPromptTemplate.from_messages(\n",
    "    [\n",
    "        (\n",
    "            \"system\",\n",
    "            \"\"\"\n",
    "Given the following question and a list of search results, provide a set of {num_queries} relevant Google searches that would make the search results more comprehensive.\n",
    "First think about the user's question and provide your own interpretation of the information need(s).\n",
    "Then think about the previous queries and search results and briefly explain how they are limited.\n",
    "Then generate the additional queries including the time period for the search.\n",
    "            \"\"\" + search_tips,\n",
    "        ),\n",
    "        (\n",
    "            \"human\",\n",
    "            \"\"\"\n",
    "User query: {query}\n",
    "\n",
    "Existing search results:\n",
    "{search_results}\n",
    "\n",
    "Additional context:\n",
    "{context}\n",
    "\n",
    "Now, please provide your interpretation, and suggest a set of Google searches that are better than the ones we've tried so far.\n",
    "\n",
    "            \"\"\",\n",
    "        ),\n",
    "    ]\n",
    ")\n",
    "\n",
    "\n",
    "llm = ChatOpenAI(model=\"gpt-4o-mini\", temperature=0)\n",
    "runnable = _prompt | llm.with_structured_output(QueryRevision)\n",
    "first_refinement_result = runnable.invoke(\n",
    "    {\n",
    "        \"query\": query,\n",
    "        \"context\": context,\n",
    "        \"num_queries\": 2,\n",
    "        \"search_results\": format_searches(query_results_pairs)\n",
    "    }\n",
    ")\n",
    "\n",
    "first_refinement_result.critique"
   ]
  },
  {
   "cell_type": "code",
   "execution_count": 32,
   "metadata": {},
   "outputs": [
    {
     "name": "stdout",
     "output_type": "stream",
     "text": [
      "query='Current GE lighting product reviews site:reddit.com' time_period='1y'\n",
      "query='Current GE lighting customer feedback site:reddit.com' time_period='1y'\n"
     ]
    }
   ],
   "source": [
    "for query in first_refinement_result.queries:\n",
    "    print(query)"
   ]
  },
  {
   "cell_type": "code",
   "execution_count": 33,
   "metadata": {},
   "outputs": [],
   "source": [
    "for query in first_refinement_result.queries[:2]:\n",
    "    query_results_pairs.append((query, list(search(query.query, num=10, dateRestrict=query.time_period))))\n"
   ]
  },
  {
   "cell_type": "code",
   "execution_count": 34,
   "metadata": {},
   "outputs": [
    {
     "name": "stdout",
     "output_type": "stream",
     "text": [
      "# Search query: query='Current lighting customer reviews' time_period='1y'\n",
      "1. Working at Current Lighting | Glassdoor - https://www.glassdoor.com/Overview/Working-at-Current-Lighting-EI_IE8575783.11,27.htm\n",
      "Customer Relations Jobs. Administrative Assistant Jobs ... All answers shown come directly from Current Lighting Reviews and are not edited or altered.\n",
      "2. [Geekerwan]Intel Lunar Lake in-depth review: Thin and light laptops ... - https://www.reddit.com/r/hardware/comments/1fuk76p/geekerwanintel_lunar_lake_indepth_review_thin_and/\n",
      "Oct 2, 2024 ... I would also argue that the current generation of Snapdragon is ... client mobile. Upvote 2. Downvote Reply reply. Award\n",
      "3. Customer reviews: CURRENT USA Orbit R24 Reef ... - Amazon.com - https://www.amazon.com/Current-USA-Aquarium-Wireless-Controller/product-reviews/B09423ZLWS\n",
      "Find helpful customer reviews and review ratings for CURRENT USA Orbit R24 Reef LED Aquarium Light with Flex Arm Tank Mount | Wireless Light and Pump ...\n",
      "4. Working at Current Lighting Solutions: Employee Reviews | Indeed ... - https://www.indeed.com/cmp/Current-Lighting-Solutions/reviews\n",
      "Reviews from Current Lighting Solutions employees about Current Lighting Solutions culture, salaries, benefits, work-life balance, management, job security, ...\n",
      "5. LED Face Mask | Red Light Therapy Masks | CurrentBody Skin UK - https://www.currentbody.com/products/currentbody-skin-led-light-therapy-mask\n",
      "After purchase we invite all customers to write a review, to share their honest feedback with us and fellow CurrentBody customers. Our reviews are aimed to help ...\n",
      "6. LED Face Mask | Red Light Therapy Mask | CurrentBody USA - https://us.currentbody.com/products/currentbody-skin-led-light-therapy-mask\n",
      "After purchase we invite all customers to write a review, to share their honest feedback with us and fellow CurrentBody customers. Our reviews are aimed to ...\n",
      "7. LED Light Therapy Reviews | Was it Worth It? | RealSelf - https://www.realself.com/reviews/led-light-therapy\n",
      "Based on 22 recent ratings. Last updated: October 22, 2024. 18. Worth It. 8. Not ... Consumer Health Data Privacy Policy · RealSelf, Inc BBB Business Review.\n",
      "8. My In-Depth, Honest Review of the Jones Road What The Foundation - https://www.thestyleshaker.com/product-reviews/jones-road-what-the-foundation-in-light\n",
      "Aug 20, 2024 ... ... Light), check out my honest review. I've been testing this ... MY CURRENT FAVORITES. Out of the hundreds of products I've tried ...\n",
      "9. The Smile - A Light for Attracting Attention - User Reviews - Album of ... - https://www.albumoftheyear.org/album/483541-the-smile-a-light-for-attracting-attention/user-reviews/\n",
      "User reviews & ratings for the album A Light for Attracting Attention by The Smile. See how this album was rated and reviewed by the users of AoTY.org.\n",
      "10. Dermalux Flex MD LED Light Therapy Device | CurrentBody - https://www.currentbody.com/products/dermalux-flex-md\n",
      "After purchase we invite all customers to write a review, to share their honest feedback with us and fellow CurrentBody customers. Our reviews are aimed to help ...\n",
      "\n",
      "# Search query: query='Current GE lighting reviews site:reddit.com' time_period='1y'\n",
      "1. Fix for many GE dishwasher problems with control board, UI board ... - https://www.reddit.com/r/appliancerepair/comments/vl4srf/fix_for_many_ge_dishwasher_problems_with_control/\n",
      "Jun 26, 2022 ... Dishwasher may stop and go dark in the middle of a cycle. Main board light would be flashing the CSM (current sense module) error pattern, but ...\n",
      "2. Is premium lighting worth it? : r/PlantedTank - https://www.reddit.com/r/PlantedTank/comments/13te24d/is_premium_lighting_worth_it/\n",
      "May 27, 2023 ... On Amazon there are planted aquarium led's for less than 20 dollars with a decent par rating and good reviews, but all the videos on lighting on YouTube ...\n",
      "3. Soltech Solutions Grow Light Reviews? : r/IndoorGarden - https://www.reddit.com/r/IndoorGarden/comments/f32rss/soltech_solutions_grow_light_reviews/\n",
      "Feb 13, 2020 ... Especially interested in how they compare to other growlights in the similar price range (or below). I currently run COB LEDs with light shades ...\n",
      "4. REVIEW: Paperwhite 2021 / 2018 vs. Kindle 2022 (+ comparisons to ... - https://www.reddit.com/r/kindle/comments/yh0wvz/review_paperwhite_2021_2018_vs_kindle_2022/\n",
      "Oct 30, 2022 ... ... -ink actually looks most natural and beautiful without that light present imo. That said, very happy with my pw11. Upvote 4. Downvote Award\n",
      "5. LED Christmas Lights : r/ChristmasLights - https://www.reddit.com/r/ChristmasLights/comments/qaddeu/led_christmas_lights/\n",
      "Oct 18, 2021 ... ... currently looking into replacing all of my current christmas lights for LED ones. As of now I am looking at these https://www.lowes.com/pd/GE ...\n",
      "6. Frustrated trying to find LED lighting for albo and other monsteras : r ... - https://www.reddit.com/r/Monstera/comments/13ow58y/frustrated_trying_to_find_led_lighting_for_albo/\n",
      "May 22, 2023 ... I have a few Monsteras and one Albo that I use GE led bulbs for. The 2nd picture is what I'm currently using and they're about a foot away from the plant.\n",
      "7. What's your honest opinions on light kits? : r/lego - https://www.reddit.com/r/lego/comments/1ag6e7o/whats_your_honest_opinions_on_light_kits/\n",
      "Feb 1, 2024 ... I'm currently looking to learn diy led stuffs myself (aiming to go with raspberry pi+arduino to automate it later). Last time I had anything to ...\n",
      "8. Current state of Bevy for professional game development : r/bevy - https://www.reddit.com/r/bevy/comments/1cuq7uu/current_state_of_bevy_for_professional_game/\n",
      "May 18, 2024 ... You need relatively light assets, a sophisticated asset streaming ... My very quick review (I try to stay relatively anonymous on here ...\n",
      "9. What's the two different power ratings on this timer for? : r/electrical - https://www.reddit.com/r/electrical/comments/14v4rlr/whats_the_two_different_power_ratings_on_this/\n",
      "Jul 9, 2023 ... Inrush current on tungsten lamps can be 20 times more than an incandescent lamp, so the wattage rating of the device using tungsten is lower.\n",
      "10. Cync by GE lights keep showing as not responding on my Google ... - https://www.reddit.com/r/smarthome/comments/s8jhm9/cync_by_ge_lights_keep_showing_as_not_responding/\n",
      "Jan 20, 2022 ... Now it's day 2 of having these lights and my office light is doing the same thing. I keep having to delete the current bulb from my Google home ...\n",
      "\n",
      "# Search query: query='Current GE lighting product reviews site:reddit.com' time_period='1y'\n",
      "1. Fix for many GE dishwasher problems with control board, UI board ... - https://www.reddit.com/r/appliancerepair/comments/vl4srf/fix_for_many_ge_dishwasher_problems_with_control/\n",
      "Jun 26, 2022 ... Dishwasher may stop and go dark in the middle of a cycle. Main board light would be flashing the CSM (current sense module) error pattern, but ...\n",
      "2. Phillips Hue vs. Govee lights : r/smarthome - https://www.reddit.com/r/smarthome/comments/oiyjeu/phillips_hue_vs_govee_lights/\n",
      "Jul 12, 2021 ... Here is the analysis for the Amazon product reviews: Name: Govee ... I started buying some Hue products like recessed lighting & their pendant ...\n",
      "3. Is premium lighting worth it? : r/PlantedTank - https://www.reddit.com/r/PlantedTank/comments/13te24d/is_premium_lighting_worth_it/\n",
      "May 27, 2023 ... On Amazon there are planted aquarium led's for less than 20 dollars with a decent par rating and good reviews, but all the videos on lighting on YouTube ...\n",
      "4. (Help) I'm super new to grow lights, can anyone more experienced ... - https://www.reddit.com/r/IndoorGarden/comments/tc082x/help_im_super_new_to_grow_lights_can_anyone_more/\n",
      "Mar 12, 2022 ... Here is the analysis for the Amazon product reviews: Name: GE Lighting 93101227 40-Watt LED Grow Light Fixture ... Currently in the bathroom ...\n",
      "5. Savant Systems, Inc. to Acquire GE Lighting : r/homeautomation - https://www.reddit.com/r/homeautomation/comments/grjnqa/savant_systems_inc_to_acquire_ge_lighting/\n",
      "May 27, 2020 ... GE separated their industrial and commercial products last year when the sold Current. Lamps included. What remains at GE Lighting was all ...\n",
      "6. I was told GE was bought out 5 years ago and now their products ... - https://www.reddit.com/r/Appliances/comments/18gx5y5/i_was_told_ge_was_bought_out_5_years_ago_and_now/\n",
      "Dec 13, 2023 ... ... lighting division to Savant Systems Inc. A software smart home ... reviews on Reddit, it doesn't look like there's honestly anything ...\n",
      "7. Soltech Solutions Grow Light Reviews? : r/IndoorGarden - https://www.reddit.com/r/IndoorGarden/comments/f32rss/soltech_solutions_grow_light_reviews/\n",
      "Feb 13, 2020 ... Especially interested in how they compare to other growlights in the similar price range (or below). I currently run COB LEDs with light shades ...\n",
      "8. Cync by GE lights keep showing as not responding on my Google ... - https://www.reddit.com/r/smarthome/comments/s8jhm9/cync_by_ge_lights_keep_showing_as_not_responding/\n",
      "Jan 20, 2022 ... Now it's day 2 of having these lights and my office light is doing the same thing. I keep having to delete the current bulb from my Google home ...\n",
      "9. What's your honest opinions on light kits? : r/lego - https://www.reddit.com/r/lego/comments/1ag6e7o/whats_your_honest_opinions_on_light_kits/\n",
      "Feb 1, 2024 ... ... product/light-88005. Upvote 1. Downvote Award Share ... Currently working on installing lights on the ucs venator. It is ...\n",
      "10. Monstera Light Placement? : r/Monstera - https://www.reddit.com/r/Monstera/comments/16a7d56/monstera_light_placement/\n",
      "Sep 5, 2023 ... I'm trying to find the right placement for my grow lights ( 32w GE Grow Light ), as my home receives very little natural light. I currently ...\n",
      "\n",
      "# Search query: query='Current GE lighting customer feedback site:reddit.com' time_period='1y'\n",
      "1. Savant Systems, Inc. to Acquire GE Lighting : r/homeautomation - https://www.reddit.com/r/homeautomation/comments/grjnqa/savant_systems_inc_to_acquire_ge_lighting/\n",
      "May 27, 2020 ... ... LED lamps (historically my company has almost always used their lamps). Holy shit is their customer service bad and they are about 6-10 ...\n",
      "2. Fix for many GE dishwasher problems with control board, UI board ... - https://www.reddit.com/r/appliancerepair/comments/vl4srf/fix_for_many_ge_dishwasher_problems_with_control/\n",
      "Jun 26, 2022 ... 29 votes, 100 comments. I have a GE dishwasher GDT695 stainless steel version, and about six months ago it began behaving strangely.\n",
      "3. Cync by GE lights keep showing as not responding on my Google ... - https://www.reddit.com/r/smarthome/comments/s8jhm9/cync_by_ge_lights_keep_showing_as_not_responding/\n",
      "Jan 20, 2022 ... ... votes, 32 comments. I recently bought 2 smart lights specific ... currently phasing out C by Ge and replacing it with Phillips Hue).\n",
      "4. FYI—GE Lighting (Cync smart bulbs) is shutting down the service for ... - https://www.reddit.com/r/HomeKit/comments/11f98lf/fyige_lighting_cync_smart_bulbs_is_shutting_down/\n",
      "Mar 1, 2023 ... GE Lighting (Cync smart bulbs) is shutting down the service for the C-Reach hub. New one they're sending out doesn't work with HomeKit currently.\n",
      "5. GE refrigerators are garbage, and so is their customer service : r ... - https://www.reddit.com/r/Appliances/comments/1czjoky/ge_refrigerators_are_garbage_and_so_is_their/\n",
      "May 25, 2024 ... ... led lights are going out. The washer dryer is ok but the washer ... current fridge goes, I'm going back to an old school top freezer. A ...\n",
      "6. Is premium lighting worth it? : r/PlantedTank - https://www.reddit.com/r/PlantedTank/comments/13te24d/is_premium_lighting_worth_it/\n",
      "May 27, 2023 ... On Amazon there are planted aquarium led's for less than 20 dollars with a decent par rating and good reviews, but all the videos on lighting on YouTube ...\n",
      "7. Recommendations for light bulbs that won't turn on when you ... - https://www.reddit.com/r/googlehome/comments/15o8n92/recommendations_for_light_bulbs_that_wont_turn_on/\n",
      "Aug 11, 2023 ... Recommendations for light bulbs that won't turn on when you change the temperature or brightness (unlike the Cync by GE); my current bulbs (Feit) ...\n",
      "8. House lights flicker when AC kicks on? : r/electrical - https://www.reddit.com/r/electrical/comments/13ocxqv/house_lights_flicker_when_ac_kicks_on/\n",
      "May 22, 2023 ... Why do Electrical Engineers want LED Lights installed if these lights cause more problems than the GE Lights? ... Customer called us for a service ...\n",
      "9. Entry Level Jobs in Lighting? : r/Lighting - https://www.reddit.com/r/Lighting/comments/1dj7880/entry_level_jobs_in_lighting/\n",
      "Jun 19, 2024 ... ... Customer. I would say ... GE General Electirc they sold off the lighting portion of their business. It's now called Current / or GE Current.\n",
      "10. Want to repurpose GE streetlight LED board : r/led - https://www.reddit.com/r/led/comments/1b3774k/want_to_repurpose_ge_streetlight_led_board/\n",
      "Feb 29, 2024 ... Probably a good idea to buy a slightly lower current driver with dimming option so it doesn't run so hot/bright.\n"
     ]
    }
   ],
   "source": [
    "print(format_searches(query_results_pairs))"
   ]
  },
  {
   "cell_type": "code",
   "execution_count": 35,
   "metadata": {},
   "outputs": [
    {
     "data": {
      "text/plain": [
       "'The existing search results are limited as they include a mix of unrelated topics and products, and many results do not directly address customer feedback on Current GE Lighting. Additionally, some results are outdated or pertain to other GE products rather than lighting specifically.'"
      ]
     },
     "execution_count": 35,
     "metadata": {},
     "output_type": "execute_result"
    }
   ],
   "source": [
    "second_refinement_result = runnable.invoke(\n",
    "    {\n",
    "        \"query\": query,\n",
    "        \"context\": context,\n",
    "        \"num_queries\": 2,\n",
    "        \"search_results\": format_searches(query_results_pairs)\n",
    "    }\n",
    ")\n",
    "\n",
    "second_refinement_result.critique"
   ]
  },
  {
   "cell_type": "code",
   "execution_count": 36,
   "metadata": {},
   "outputs": [
    {
     "data": {
      "text/plain": [
       "[Query(query='Current GE Lighting customer reviews site:reddit.com', time_period='1y'),\n",
       " Query(query='Current GE Lighting user experiences site:reddit.com', time_period='1y')]"
      ]
     },
     "execution_count": 36,
     "metadata": {},
     "output_type": "execute_result"
    }
   ],
   "source": [
    "second_refinement_result.queries"
   ]
  },
  {
   "cell_type": "code",
   "execution_count": null,
   "metadata": {},
   "outputs": [],
   "source": []
  }
 ],
 "metadata": {
  "kernelspec": {
   "display_name": ".venv",
   "language": "python",
   "name": "python3"
  },
  "language_info": {
   "codemirror_mode": {
    "name": "ipython",
    "version": 3
   },
   "file_extension": ".py",
   "mimetype": "text/x-python",
   "name": "python",
   "nbconvert_exporter": "python",
   "pygments_lexer": "ipython3",
   "version": "3.11.10"
  }
 },
 "nbformat": 4,
 "nbformat_minor": 2
}
