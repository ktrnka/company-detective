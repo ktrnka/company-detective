{
 "cells": [
  {
   "cell_type": "markdown",
   "metadata": {},
   "source": [
    "# Explorations of sitemaps\n",
    "\n",
    "## Status\n",
    "\n",
    "- The `usp` library gets a pretty exhaustive sitemap\n",
    "- Some sites just don't have sitemaps so I went with something more reliable (crawling from the top)"
   ]
  },
  {
   "cell_type": "code",
   "execution_count": 18,
   "metadata": {},
   "outputs": [
    {
     "name": "stderr",
     "output_type": "stream",
     "text": [
      "2024-12-30 15:27:57,261 INFO usp.fetch_parse [26754/MainThread]: Fetching level 0 sitemap from https://gable.ai/robots.txt...\n",
      "2024-12-30 15:27:57,262 INFO usp.helpers [26754/MainThread]: Fetching URL https://gable.ai/robots.txt...\n",
      "2024-12-30 15:27:57,934 WARNING usp.helpers [26754/MainThread]: Request for URL https://gable.ai/robots.txt failed: 404 Not Found\n",
      "2024-12-30 15:27:57,935 INFO usp.helpers [26754/MainThread]: Not retrying for URL https://gable.ai/robots.txt\n",
      "2024-12-30 15:27:57,936 INFO usp.fetch_parse [26754/MainThread]: Fetching level 0 sitemap from https://gable.ai/admin/config/search/xmlsitemap...\n",
      "2024-12-30 15:27:57,937 INFO usp.helpers [26754/MainThread]: Fetching URL https://gable.ai/admin/config/search/xmlsitemap...\n",
      "2024-12-30 15:27:58,717 WARNING usp.helpers [26754/MainThread]: Request for URL https://gable.ai/admin/config/search/xmlsitemap failed: 404 Not Found\n",
      "2024-12-30 15:27:58,718 INFO usp.helpers [26754/MainThread]: Not retrying for URL https://gable.ai/admin/config/search/xmlsitemap\n",
      "2024-12-30 15:27:58,719 INFO usp.fetch_parse [26754/MainThread]: Fetching level 0 sitemap from https://gable.ai/sitemap_index.xml.gz...\n",
      "2024-12-30 15:27:58,720 INFO usp.helpers [26754/MainThread]: Fetching URL https://gable.ai/sitemap_index.xml.gz...\n",
      "2024-12-30 15:27:59,390 WARNING usp.helpers [26754/MainThread]: Request for URL https://gable.ai/sitemap_index.xml.gz failed: 404 Not Found\n",
      "2024-12-30 15:27:59,392 INFO usp.helpers [26754/MainThread]: Not retrying for URL https://gable.ai/sitemap_index.xml.gz\n",
      "2024-12-30 15:27:59,393 INFO usp.fetch_parse [26754/MainThread]: Fetching level 0 sitemap from https://gable.ai/sitemap_index.xml...\n",
      "2024-12-30 15:27:59,394 INFO usp.helpers [26754/MainThread]: Fetching URL https://gable.ai/sitemap_index.xml...\n",
      "2024-12-30 15:28:00,118 WARNING usp.helpers [26754/MainThread]: Request for URL https://gable.ai/sitemap_index.xml failed: 404 Not Found\n",
      "2024-12-30 15:28:00,118 INFO usp.helpers [26754/MainThread]: Not retrying for URL https://gable.ai/sitemap_index.xml\n",
      "2024-12-30 15:28:00,120 INFO usp.fetch_parse [26754/MainThread]: Fetching level 0 sitemap from https://gable.ai/.sitemap.xml...\n",
      "2024-12-30 15:28:00,120 INFO usp.helpers [26754/MainThread]: Fetching URL https://gable.ai/.sitemap.xml...\n",
      "2024-12-30 15:28:00,578 WARNING usp.helpers [26754/MainThread]: Request for URL https://gable.ai/.sitemap.xml failed: 404 Not Found\n",
      "2024-12-30 15:28:00,579 INFO usp.helpers [26754/MainThread]: Not retrying for URL https://gable.ai/.sitemap.xml\n",
      "2024-12-30 15:28:00,580 INFO usp.fetch_parse [26754/MainThread]: Fetching level 0 sitemap from https://gable.ai/sitemap.xml...\n",
      "2024-12-30 15:28:00,581 INFO usp.helpers [26754/MainThread]: Fetching URL https://gable.ai/sitemap.xml...\n",
      "2024-12-30 15:28:00,985 INFO usp.fetch_parse [26754/MainThread]: Parsing sitemap from URL https://gable.ai/sitemap.xml...\n",
      "2024-12-30 15:28:00,988 INFO usp.fetch_parse [26754/MainThread]: Fetching level 0 sitemap from https://gable.ai/sitemap-index.xml...\n",
      "2024-12-30 15:28:00,989 INFO usp.helpers [26754/MainThread]: Fetching URL https://gable.ai/sitemap-index.xml...\n",
      "2024-12-30 15:28:01,416 WARNING usp.helpers [26754/MainThread]: Request for URL https://gable.ai/sitemap-index.xml failed: 404 Not Found\n",
      "2024-12-30 15:28:01,417 INFO usp.helpers [26754/MainThread]: Not retrying for URL https://gable.ai/sitemap-index.xml\n",
      "2024-12-30 15:28:01,418 INFO usp.fetch_parse [26754/MainThread]: Fetching level 0 sitemap from https://gable.ai/sitemap.xml.gz...\n",
      "2024-12-30 15:28:01,419 INFO usp.helpers [26754/MainThread]: Fetching URL https://gable.ai/sitemap.xml.gz...\n",
      "2024-12-30 15:28:01,794 WARNING usp.helpers [26754/MainThread]: Request for URL https://gable.ai/sitemap.xml.gz failed: 404 Not Found\n",
      "2024-12-30 15:28:01,796 INFO usp.helpers [26754/MainThread]: Not retrying for URL https://gable.ai/sitemap.xml.gz\n",
      "2024-12-30 15:28:01,797 INFO usp.fetch_parse [26754/MainThread]: Fetching level 0 sitemap from https://gable.ai/sitemap/sitemap-index.xml...\n",
      "2024-12-30 15:28:01,798 INFO usp.helpers [26754/MainThread]: Fetching URL https://gable.ai/sitemap/sitemap-index.xml...\n",
      "2024-12-30 15:28:02,200 WARNING usp.helpers [26754/MainThread]: Request for URL https://gable.ai/sitemap/sitemap-index.xml failed: 404 Not Found\n",
      "2024-12-30 15:28:02,200 INFO usp.helpers [26754/MainThread]: Not retrying for URL https://gable.ai/sitemap/sitemap-index.xml\n",
      "2024-12-30 15:28:02,201 INFO usp.fetch_parse [26754/MainThread]: Fetching level 0 sitemap from https://gable.ai/sitemap...\n",
      "2024-12-30 15:28:02,201 INFO usp.helpers [26754/MainThread]: Fetching URL https://gable.ai/sitemap...\n",
      "2024-12-30 15:28:02,635 WARNING usp.helpers [26754/MainThread]: Request for URL https://gable.ai/sitemap failed: 404 Not Found\n",
      "2024-12-30 15:28:02,636 INFO usp.helpers [26754/MainThread]: Not retrying for URL https://gable.ai/sitemap\n",
      "2024-12-30 15:28:02,637 INFO usp.fetch_parse [26754/MainThread]: Fetching level 0 sitemap from https://gable.ai/sitemap-index.xml.gz...\n",
      "2024-12-30 15:28:02,638 INFO usp.helpers [26754/MainThread]: Fetching URL https://gable.ai/sitemap-index.xml.gz...\n",
      "2024-12-30 15:28:03,043 WARNING usp.helpers [26754/MainThread]: Request for URL https://gable.ai/sitemap-index.xml.gz failed: 404 Not Found\n",
      "2024-12-30 15:28:03,044 INFO usp.helpers [26754/MainThread]: Not retrying for URL https://gable.ai/sitemap-index.xml.gz\n"
     ]
    },
    {
     "name": "stdout",
     "output_type": "stream",
     "text": [
      "IndexWebsiteSitemap(url=https://gable.ai/, sub_sitemaps=[InvalidSitemap(url=https://gable.ai/robots.txt, reason=Unable to fetch sitemap from https://gable.ai/robots.txt: 404 Not Found), PagesXMLSitemap(url=https://gable.ai/sitemap.xml, pages=[SitemapPage(url=https://www.gable.ai, priority=0.5, last_modified=None, change_frequency=None, news_story=None), SitemapPage(url=https://www.gable.ai/about-gable, priority=0.5, last_modified=None, change_frequency=None, news_story=None), SitemapPage(url=https://www.gable.ai/blog, priority=0.5, last_modified=None, change_frequency=None, news_story=None), SitemapPage(url=https://www.gable.ai/privacy-notice, priority=0.5, last_modified=None, change_frequency=None, news_story=None), SitemapPage(url=https://www.gable.ai/sign-up, priority=0.5, last_modified=None, change_frequency=None, news_story=None), SitemapPage(url=https://www.gable.ai/style-guide, priority=0.5, last_modified=None, change_frequency=None, news_story=None), SitemapPage(url=https://www.gable.ai/terms, priority=0.5, last_modified=None, change_frequency=None, news_story=None), SitemapPage(url=https://www.gable.ai/data-contracts-book, priority=0.5, last_modified=None, change_frequency=None, news_story=None), SitemapPage(url=https://www.gable.ai/blog-components, priority=0.5, last_modified=None, change_frequency=None, news_story=None), SitemapPage(url=https://www.gable.ai/career, priority=0.5, last_modified=None, change_frequency=None, news_story=None), SitemapPage(url=https://www.gable.ai/contact, priority=0.5, last_modified=None, change_frequency=None, news_story=None), SitemapPage(url=https://www.gable.ai/test/home-test, priority=0.5, last_modified=None, change_frequency=None, news_story=None), SitemapPage(url=https://www.gable.ai/thank-you, priority=0.5, last_modified=None, change_frequency=None, news_story=None)])])\n"
     ]
    }
   ],
   "source": [
    "from usp.tree import sitemap_tree_for_homepage\n",
    "\n",
    "tree = sitemap_tree_for_homepage('https://gable.ai/')\n",
    "print(tree)\n"
   ]
  },
  {
   "cell_type": "code",
   "execution_count": 19,
   "metadata": {},
   "outputs": [
    {
     "name": "stdout",
     "output_type": "stream",
     "text": [
      "SitemapPage(url=https://www.gable.ai, priority=0.5, last_modified=None, change_frequency=None, news_story=None)\n",
      "SitemapPage(url=https://www.gable.ai/about-gable, priority=0.5, last_modified=None, change_frequency=None, news_story=None)\n",
      "SitemapPage(url=https://www.gable.ai/blog, priority=0.5, last_modified=None, change_frequency=None, news_story=None)\n",
      "SitemapPage(url=https://www.gable.ai/privacy-notice, priority=0.5, last_modified=None, change_frequency=None, news_story=None)\n",
      "SitemapPage(url=https://www.gable.ai/sign-up, priority=0.5, last_modified=None, change_frequency=None, news_story=None)\n",
      "SitemapPage(url=https://www.gable.ai/style-guide, priority=0.5, last_modified=None, change_frequency=None, news_story=None)\n",
      "SitemapPage(url=https://www.gable.ai/terms, priority=0.5, last_modified=None, change_frequency=None, news_story=None)\n",
      "SitemapPage(url=https://www.gable.ai/data-contracts-book, priority=0.5, last_modified=None, change_frequency=None, news_story=None)\n",
      "SitemapPage(url=https://www.gable.ai/blog-components, priority=0.5, last_modified=None, change_frequency=None, news_story=None)\n",
      "SitemapPage(url=https://www.gable.ai/career, priority=0.5, last_modified=None, change_frequency=None, news_story=None)\n",
      "SitemapPage(url=https://www.gable.ai/contact, priority=0.5, last_modified=None, change_frequency=None, news_story=None)\n",
      "SitemapPage(url=https://www.gable.ai/test/home-test, priority=0.5, last_modified=None, change_frequency=None, news_story=None)\n",
      "SitemapPage(url=https://www.gable.ai/thank-you, priority=0.5, last_modified=None, change_frequency=None, news_story=None)\n"
     ]
    }
   ],
   "source": [
    "processed = set()\n",
    "# for page in sorted(tree.all_pages(), key=lambda p: p.last_modified, reverse=True):\n",
    "for page in tree.all_pages():\n",
    "    if page.url not in processed:\n",
    "        print(page)\n",
    "        processed.add(page.url)"
   ]
  },
  {
   "cell_type": "code",
   "execution_count": null,
   "metadata": {},
   "outputs": [],
   "source": [
    "# synthesize.bio: 8s to get sitemap!?\n",
    "# hyperparam.app: 3s, got nothing\n",
    "# 98point6.com: 3s, "
   ]
  }
 ],
 "metadata": {
  "kernelspec": {
   "display_name": ".venv",
   "language": "python",
   "name": "python3"
  },
  "language_info": {
   "codemirror_mode": {
    "name": "ipython",
    "version": 3
   },
   "file_extension": ".py",
   "mimetype": "text/x-python",
   "name": "python",
   "nbconvert_exporter": "python",
   "pygments_lexer": "ipython3",
   "version": "3.11.10"
  }
 },
 "nbformat": 4,
 "nbformat_minor": 2
}
