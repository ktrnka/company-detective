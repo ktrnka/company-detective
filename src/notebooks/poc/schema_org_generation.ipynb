{
 "cells": [
  {
   "cell_type": "markdown",
   "metadata": {},
   "source": [
    "# Schema.org generation\n",
    "\n",
    "- Input: Existing scrape data, possibly just the summarized markdown\n",
    "- Output:\n",
    "    - Ideally, figure out the right schema to use with chain of thought\n",
    "    - Maximally instantiate in Schema.org for the company"
   ]
  },
  {
   "cell_type": "code",
   "execution_count": 1,
   "metadata": {},
   "outputs": [],
   "source": [
    "import json\n",
    "from unified import UnifiedResult\n",
    "\n",
    "with open(\"../output/data/98point6.json\", \"r\") as f:\n",
    "    data = UnifiedResult(**json.load(f))\n"
   ]
  },
  {
   "cell_type": "code",
   "execution_count": 3,
   "metadata": {},
   "outputs": [
    {
     "data": {
      "text/plain": [
       "['__abstractmethods__',\n",
       " '__annotations__',\n",
       " '__class__',\n",
       " '__class_getitem__',\n",
       " '__class_vars__',\n",
       " '__copy__',\n",
       " '__deepcopy__',\n",
       " '__delattr__',\n",
       " '__dict__',\n",
       " '__dir__',\n",
       " '__doc__',\n",
       " '__eq__',\n",
       " '__fields__',\n",
       " '__fields_set__',\n",
       " '__format__',\n",
       " '__ge__',\n",
       " '__get_pydantic_core_schema__',\n",
       " '__get_pydantic_json_schema__',\n",
       " '__getattr__',\n",
       " '__getattribute__',\n",
       " '__getstate__',\n",
       " '__gt__',\n",
       " '__hash__',\n",
       " '__init__',\n",
       " '__init_subclass__',\n",
       " '__iter__',\n",
       " '__le__',\n",
       " '__lt__',\n",
       " '__module__',\n",
       " '__ne__',\n",
       " '__new__',\n",
       " '__pretty__',\n",
       " '__private_attributes__',\n",
       " '__pydantic_complete__',\n",
       " '__pydantic_core_schema__',\n",
       " '__pydantic_custom_init__',\n",
       " '__pydantic_decorators__',\n",
       " '__pydantic_extra__',\n",
       " '__pydantic_fields_set__',\n",
       " '__pydantic_generic_metadata__',\n",
       " '__pydantic_init_subclass__',\n",
       " '__pydantic_parent_namespace__',\n",
       " '__pydantic_post_init__',\n",
       " '__pydantic_private__',\n",
       " '__pydantic_root_model__',\n",
       " '__pydantic_serializer__',\n",
       " '__pydantic_validator__',\n",
       " '__reduce__',\n",
       " '__reduce_ex__',\n",
       " '__repr__',\n",
       " '__repr_args__',\n",
       " '__repr_name__',\n",
       " '__repr_str__',\n",
       " '__rich_repr__',\n",
       " '__setattr__',\n",
       " '__setstate__',\n",
       " '__signature__',\n",
       " '__sizeof__',\n",
       " '__slots__',\n",
       " '__str__',\n",
       " '__subclasshook__',\n",
       " '__weakref__',\n",
       " '_abc_impl',\n",
       " '_calculate_keys',\n",
       " '_check_frozen',\n",
       " '_copy_and_set_values',\n",
       " '_get_value',\n",
       " '_iter',\n",
       " 'construct',\n",
       " 'copy',\n",
       " 'crunchbase_markdown',\n",
       " 'customer_experience_markdown',\n",
       " 'customer_experience_result',\n",
       " 'dict',\n",
       " 'from_orm',\n",
       " 'general_search_markdown',\n",
       " 'glassdoor_markdown',\n",
       " 'glassdoor_result',\n",
       " 'json',\n",
       " 'lineage',\n",
       " 'model_computed_fields',\n",
       " 'model_config',\n",
       " 'model_construct',\n",
       " 'model_copy',\n",
       " 'model_dump',\n",
       " 'model_dump_json',\n",
       " 'model_extra',\n",
       " 'model_fields',\n",
       " 'model_fields_set',\n",
       " 'model_json_schema',\n",
       " 'model_parametrized_name',\n",
       " 'model_post_init',\n",
       " 'model_rebuild',\n",
       " 'model_validate',\n",
       " 'model_validate_json',\n",
       " 'model_validate_strings',\n",
       " 'news_result',\n",
       " 'parse_file',\n",
       " 'parse_obj',\n",
       " 'parse_raw',\n",
       " 'schema',\n",
       " 'schema_json',\n",
       " 'summary_markdown',\n",
       " 'target',\n",
       " 'to_html_file',\n",
       " 'update_forward_refs',\n",
       " 'validate',\n",
       " 'webpage_result']"
      ]
     },
     "execution_count": 3,
     "metadata": {},
     "output_type": "execute_result"
    }
   ],
   "source": [
    "dir(data)"
   ]
  },
  {
   "cell_type": "code",
   "execution_count": 4,
   "metadata": {},
   "outputs": [],
   "source": [
    "from core import init, Seed\n",
    "\n",
    "init()"
   ]
  },
  {
   "cell_type": "code",
   "execution_count": 34,
   "metadata": {},
   "outputs": [
    {
     "name": "stdout",
     "output_type": "stream",
     "text": [
      "Specification base set to https://www.schema.org\n",
      "Using Version 12.0\n",
      "Found https://www.schema.org/Organization\n",
      "Organization: found 76 properties\n"
     ]
    }
   ],
   "source": [
    "from schemaorg.main import Schema\n",
    "\n",
    "organization_schema = Schema(\"Organization\")\n",
    "organization_properties = organization_schema.type_spec[\"properties\"]\n",
    "# allowed_properties"
   ]
  },
  {
   "cell_type": "code",
   "execution_count": 37,
   "metadata": {},
   "outputs": [
    {
     "name": "stdout",
     "output_type": "stream",
     "text": [
      "```json\n",
      "{\n",
      "  \"@context\": \"https://schema.org\",\n",
      "  \"@type\": \"Organization\",\n",
      "  \"name\": \"98point6 Technologies\",\n",
      "  \"url\": \"http://www.98point6.com\",\n",
      "  \"logo\": \"https://www.98point6.com/logo.png\",  // Placeholder for logo URL\n",
      "  \"foundingDate\": \"2015-03-01\",\n",
      "  \"founders\": [\n",
      "    {\n",
      "      \"@type\": \"Person\",\n",
      "      \"name\": \"Jeff Greenstein\"\n",
      "    }\n",
      "  ],\n",
      "  \"numberOfEmployees\": 398,\n",
      "  \"description\": \"98point6 Technologies specializes in digital healthcare solutions, providing a cloud-based virtual care platform that integrates artificial intelligence with board-certified physicians to deliver primary care services.\",\n",
      "  \"address\": {\n",
      "    \"@type\": \"PostalAddress\",\n",
      "    \"addressLocality\": \"Seattle\",\n",
      "    \"addressRegion\": \"WA\",\n",
      "    \"addressCountry\": \"USA\"\n",
      "  },\n",
      "  \"areaServed\": \"USA\",\n",
      "  \"contactPoint\": {\n",
      "    \"@type\": \"ContactPoint\",\n",
      "    \"telephone\": \"+1-800-123-4567\",  // Placeholder for telephone number\n",
      "    \"contactType\": \"Customer Service\"\n",
      "  },\n",
      "  \"employee\": [\n",
      "    {\n",
      "      \"@type\": \"Person\",\n",
      "      \"name\": \"Jay Burrell\",\n",
      "      \"jobTitle\": \"CEO\"\n",
      "    },\n",
      "    {\n",
      "      \"@type\": \"Person\",\n",
      "      \"name\": \"Brad Younggren\",\n",
      "      \"jobTitle\": \"President & Chief Medical Officer - Care Innovation\"\n",
      "    },\n",
      "    {\n",
      "      \"@type\": \"Person\",\n",
      "      \"name\": \"Tori Lallemont\",\n",
      "      \"jobTitle\": \"General Counsel\"\n",
      "    },\n",
      "    {\n",
      "      \"@type\": \"Person\",\n",
      "      \"name\": \"Angelo Gray\",\n",
      "      \"jobTitle\": \"Chief Financial Officer\"\n",
      "    },\n",
      "    {\n",
      "      \"@type\": \"Person\",\n",
      "      \"name\": \"Samantha Bergin\",\n",
      "      \"jobTitle\": \"Chief Communications and Marketing Officer\"\n",
      "    },\n",
      "    {\n",
      "      \"@type\": \"Person\",\n",
      "      \"name\": \"Fukiko Ogisu\",\n",
      "      \"jobTitle\": \"Chief Operating Officer\"\n",
      "    }\n",
      "  ],\n",
      "  \"sameAs\": [\n",
      "    \"https://www.linkedin.com/company/98point6-inc/\",\n",
      "    \"https://twitter.com/98point6inc\"\n",
      "  ],\n",
      "  \"aggregateRating\": {\n",
      "    \"@type\": \"AggregateRating\",\n",
      "    \"ratingValue\": \"4.2\",\n",
      "    \"ratingCount\": \"150\"\n",
      "  },\n",
      "  \"award\": \"Best Digital Health Solution 2023\",\n",
      "  \"hasOfferCatalog\": {\n",
      "    \"@type\": \"OfferCatalog\",\n",
      "    \"name\": \"Virtual Care Solutions\",\n",
      "    \"itemListElement\": {\n",
      "      \"@type\": \"Offer\",\n",
      "      \"name\": \"AI-Powered Virtual Care Platform\",\n",
      "      \"description\": \"A cloud-based platform that integrates AI with board-certified physicians for primary care services.\"\n",
      "    }\n",
      "  }\n",
      "}\n",
      "```\n"
     ]
    }
   ],
   "source": [
    "from langchain_openai import ChatOpenAI\n",
    "from langchain_core.prompts import ChatPromptTemplate\n",
    "\n",
    "\n",
    "_prompt = ChatPromptTemplate.from_messages(\n",
    "    [\n",
    "        (\n",
    "            \"system\",\n",
    "f\"\"\"\n",
    "You'll read information about a company and generate a json-ld representation that uses schema.org vocabulary.\n",
    "\n",
    "These are the schema.org properties for an Organization:\n",
    "{organization_properties}\n",
    "\n",
    "When generating the json-ld representation, do not include any placeholder values; only include the properties that have values in the human input.\n",
    "\"\"\" \n",
    "        ),\n",
    "        (\n",
    "            \"human\",\n",
    "f\"\"\"\n",
    "Company Name: {data.target.company}\n",
    "Domain: {data.target.domain}\n",
    "\n",
    "Summary:\n",
    "{data.summary_markdown}\n",
    "\n",
    "Crunchbase:\n",
    "{data.crunchbase_markdown}\n",
    "\n",
    "General search results:\n",
    "{data.general_search_markdown}\n",
    "\n",
    "Glassdoor summary:\n",
    "{data.glassdoor_markdown}\n",
    "\n",
    "Customer experience summary:\n",
    "{data.customer_experience_markdown}\n",
    "\"\"\",\n",
    "        ),\n",
    "    ]\n",
    ")\n",
    "\n",
    "\n",
    "llm = ChatOpenAI(model=\"gpt-4o-mini\", temperature=0)\n",
    "runnable = _prompt | llm\n",
    "result = runnable.invoke({})\n",
    "\n",
    "print(result.content)"
   ]
  },
  {
   "cell_type": "code",
   "execution_count": null,
   "metadata": {},
   "outputs": [],
   "source": []
  },
  {
   "cell_type": "code",
   "execution_count": null,
   "metadata": {},
   "outputs": [
    {
     "name": "stdout",
     "output_type": "stream",
     "text": [
      "Specification base set to https://www.schema.org\n",
      "Using Version 12.0\n",
      "Found https://www.schema.org/Organization\n",
      "Organization: found 76 properties\n"
     ]
    },
    {
     "data": {
      "text/plain": [
       "'https://schema.org/actionableFeedbackPolicy, https://schema.org/additionalType, https://schema.org/address, https://schema.org/aggregateRating, https://schema.org/alternateName, https://schema.org/alumni, https://schema.org/areaServed, https://schema.org/award, https://schema.org/awards, https://schema.org/brand, https://schema.org/contactPoint, https://schema.org/contactPoints, https://schema.org/correctionsPolicy, https://schema.org/department, https://schema.org/description, https://schema.org/disambiguatingDescription, https://schema.org/dissolutionDate, https://schema.org/diversityPolicy, https://schema.org/diversityStaffingReport, https://schema.org/duns, https://schema.org/email, https://schema.org/employee, https://schema.org/employees, https://schema.org/ethicsPolicy, https://schema.org/event, https://schema.org/events, https://schema.org/faxNumber, https://schema.org/founder, https://schema.org/founders, https://schema.org/foundingDate, https://schema.org/foundingLocation, https://schema.org/funder, https://schema.org/globalLocationNumber, https://schema.org/hasCredential, https://schema.org/hasMerchantReturnPolicy, https://schema.org/hasOfferCatalog, https://schema.org/hasPOS, https://schema.org/hasProductReturnPolicy, https://schema.org/identifier, https://schema.org/image, https://schema.org/interactionStatistic, https://schema.org/isicV4, https://schema.org/knowsAbout, https://schema.org/knowsLanguage, https://schema.org/legalName, https://schema.org/leiCode, https://schema.org/location, https://schema.org/logo, https://schema.org/mainEntityOfPage, https://schema.org/makesOffer, https://schema.org/member, https://schema.org/memberOf, https://schema.org/members, https://schema.org/naics, https://schema.org/name, https://schema.org/nonprofitStatus, https://schema.org/numberOfEmployees, https://schema.org/ownershipFundingInfo, https://schema.org/owns, https://schema.org/parentOrganization, https://schema.org/potentialAction, https://schema.org/publishingPrinciples, https://schema.org/review, https://schema.org/reviews, https://schema.org/sameAs, https://schema.org/seeks, https://schema.org/serviceArea, https://schema.org/slogan, https://schema.org/sponsor, https://schema.org/subOrganization, https://schema.org/subjectOf, https://schema.org/taxID, https://schema.org/telephone, https://schema.org/unnamedSourcesPolicy, https://schema.org/url, https://schema.org/vatID'"
      ]
     },
     "execution_count": 31,
     "metadata": {},
     "output_type": "execute_result"
    }
   ],
   "source": []
  },
  {
   "cell_type": "code",
   "execution_count": null,
   "metadata": {},
   "outputs": [
    {
     "data": {
      "text/plain": [
       "'https://schema.org/actionableFeedbackPolicy, https://schema.org/additionalType, https://schema.org/address, https://schema.org/aggregateRating, https://schema.org/alternateName, https://schema.org/alumni, https://schema.org/areaServed, https://schema.org/award, https://schema.org/awards, https://schema.org/brand, https://schema.org/contactPoint, https://schema.org/contactPoints, https://schema.org/correctionsPolicy, https://schema.org/department, https://schema.org/description, https://schema.org/disambiguatingDescription, https://schema.org/dissolutionDate, https://schema.org/diversityPolicy, https://schema.org/diversityStaffingReport, https://schema.org/duns, https://schema.org/email, https://schema.org/employee, https://schema.org/employees, https://schema.org/ethicsPolicy, https://schema.org/event, https://schema.org/events, https://schema.org/faxNumber, https://schema.org/founder, https://schema.org/founders, https://schema.org/foundingDate, https://schema.org/foundingLocation, https://schema.org/funder, https://schema.org/globalLocationNumber, https://schema.org/hasCredential, https://schema.org/hasMerchantReturnPolicy, https://schema.org/hasOfferCatalog, https://schema.org/hasPOS, https://schema.org/hasProductReturnPolicy, https://schema.org/identifier, https://schema.org/image, https://schema.org/interactionStatistic, https://schema.org/isicV4, https://schema.org/knowsAbout, https://schema.org/knowsLanguage, https://schema.org/legalName, https://schema.org/leiCode, https://schema.org/location, https://schema.org/logo, https://schema.org/mainEntityOfPage, https://schema.org/makesOffer, https://schema.org/member, https://schema.org/memberOf, https://schema.org/members, https://schema.org/naics, https://schema.org/name, https://schema.org/nonprofitStatus, https://schema.org/numberOfEmployees, https://schema.org/ownershipFundingInfo, https://schema.org/owns, https://schema.org/parentOrganization, https://schema.org/potentialAction, https://schema.org/publishingPrinciples, https://schema.org/review, https://schema.org/reviews, https://schema.org/sameAs, https://schema.org/seeks, https://schema.org/serviceArea, https://schema.org/slogan, https://schema.org/sponsor, https://schema.org/subOrganization, https://schema.org/subjectOf, https://schema.org/taxID, https://schema.org/telephone, https://schema.org/unnamedSourcesPolicy, https://schema.org/url, https://schema.org/vatID'"
      ]
     },
     "execution_count": 28,
     "metadata": {},
     "output_type": "execute_result"
    }
   ],
   "source": []
  },
  {
   "cell_type": "code",
   "execution_count": null,
   "metadata": {},
   "outputs": [],
   "source": []
  }
 ],
 "metadata": {
  "kernelspec": {
   "display_name": "company-detective--CjhIlIZ",
   "language": "python",
   "name": "python3"
  },
  "language_info": {
   "codemirror_mode": {
    "name": "ipython",
    "version": 3
   },
   "file_extension": ".py",
   "mimetype": "text/x-python",
   "name": "python",
   "nbconvert_exporter": "python",
   "pygments_lexer": "ipython3",
   "version": "3.11.10"
  }
 },
 "nbformat": 4,
 "nbformat_minor": 2
}
