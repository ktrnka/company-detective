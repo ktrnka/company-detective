{
 "cells": [
  {
   "cell_type": "markdown",
   "metadata": {},
   "source": [
    "# LLM for query optimization\n",
    "\n",
    "The problem:\n",
    "- Singularity 6 / Palia: We should search Reddit for Palia\n",
    "- Akili Interactive / EndeavorRx: We should search Reddit for EndeavorRx\n",
    "- Rad.ai Omni: We should search Reddit for Rad.ai Omni\n",
    "\n"
   ]
  },
  {
   "cell_type": "code",
   "execution_count": 99,
   "metadata": {},
   "outputs": [],
   "source": [
    "from core import Seed, init\n",
    "\n",
    "init()"
   ]
  },
  {
   "cell_type": "code",
   "execution_count": 121,
   "metadata": {},
   "outputs": [
    {
     "data": {
      "text/plain": [
       "['site:reddit.com \"Rad.ai\" \"Omni\"', 'site:reddit.com \"Omni\"']"
      ]
     },
     "execution_count": 121,
     "metadata": {},
     "output_type": "execute_result"
    }
   ],
   "source": [
    "seed = Seed.init(\"Rad.ai\", \"Omni\")\n",
    "\n",
    "company_description = \"Rad AI is a rapidly growing AI start-up focused on revolutionizing radiology reporting by utilizing advanced machine learning to enhance efficiency, reduce burnout, and improve patient care in healthcare settings.\"\n",
    "product_description = \"Omni by Rad AI is an intelligent radiology reporting software that automatically generates customized report impressions based on radiologists' findings and preferences, significantly streamlining the reporting process and improving productivity.\"\n",
    "\n",
    "queries = [\n",
    "    f'site:reddit.com \"{seed.company}\" \"{seed.product}\"',\n",
    "    f'site:reddit.com \"{seed.product}\"',\n",
    "    # f'\"{seed.company}\"',\n",
    "    # f'\"{seed.company}\" news',\n",
    "]\n",
    "\n",
    "queries"
   ]
  },
  {
   "cell_type": "code",
   "execution_count": 122,
   "metadata": {},
   "outputs": [
    {
     "name": "stderr",
     "output_type": "stream",
     "text": [
      "\u001b[32m2024-09-19 09:00:12.904\u001b[0m | \u001b[34m\u001b[1mDEBUG   \u001b[0m | \u001b[36mgoogle_search\u001b[0m:\u001b[36msearch\u001b[0m:\u001b[36m58\u001b[0m - \u001b[34m\u001b[1mGoogle search results: {'kind': 'customsearch#search', 'url': {'type': 'application/json', 'template': 'https://www.googleapis.com/customsearch/v1?q={searchTerms}&num={count?}&start={startIndex?}&lr={language?}&safe={safe?}&cx={cx?}&sort={sort?}&filter={filter?}&gl={gl?}&cr={cr?}&googlehost={googleHost?}&c2coff={disableCnTwTranslation?}&hq={hq?}&hl={hl?}&siteSearch={siteSearch?}&siteSearchFilter={siteSearchFilter?}&exactTerms={exactTerms?}&excludeTerms={excludeTerms?}&linkSite={linkSite?}&orTerms={orTerms?}&dateRestrict={dateRestrict?}&lowRange={lowRange?}&highRange={highRange?}&searchType={searchType}&fileType={fileType?}&rights={rights?}&imgSize={imgSize?}&imgType={imgType?}&imgColorType={imgColorType?}&imgDominantColor={imgDominantColor?}&alt=json'}, 'queries': {'request': [{'title': 'Google Custom Search - site:reddit.com \"Rad.ai\" \"Omni\"', 'totalResults': '2', 'searchTerms': 'site:reddit.com \"Rad.ai\" \"Omni\"', 'count': 2, 'startIndex': 1, 'language': 'lang_en', 'inputEncoding': 'utf8', 'outputEncoding': 'utf8', 'safe': 'off', 'cx': 'd5705c8967e3c4d63', 'gl': 'us', 'hl': 'en'}]}, 'context': {'title': 'company_detective'}, 'searchInformation': {'searchTime': 0.105127, 'formattedSearchTime': '0.11', 'totalResults': '2', 'formattedTotalResults': '2'}, 'items': [{'kind': 'customsearch#result', 'title': 'Powerscribe One -- are you for real? : r/Radiology', 'htmlTitle': 'Powerscribe One -- are you for real? : r/Radiology', 'link': 'https://www.reddit.com/r/Radiology/comments/18bymqt/powerscribe_one_are_you_for_real/', 'displayLink': 'www.reddit.com', 'snippet': 'Dec 6, 2023 ... Rad AI is mostly known for automatically generating Impressions and this September launched Omni Reporting which was designed by\\xa0...', 'htmlSnippet': 'Dec 6, 2023 <b>...</b> <b>Rad AI</b> is mostly known for automatically generating Impressions and this September launched <b>Omni</b> Reporting which was designed by&nbsp;...', 'formattedUrl': 'https://www.reddit.com/r/Radiology/.../powerscribe_one_are_you_for_real/', 'htmlFormattedUrl': 'https://www.reddit.com/r/Radiology/.../powerscribe_one_are_you_for_real/', 'pagemap': {'metatags': [{'og:image': 'https://share.redd.it/preview/post/18bymqt', 'theme-color': '#000000', 'og:image:width': '1200', 'og:type': 'website', 'og:image:alt': 'An image containing a preview of the post', 'twitter:card': 'summary_large_image', 'twitter:title': 'r/Radiology on Reddit: Powerscribe One -- are you for real?', 'og:site_name': 'Reddit', 'og:title': 'r/Radiology on Reddit: Powerscribe One -- are you for real?', 'og:image:height': '630', 'msapplication-navbutton-color': '#000000', 'og:description': 'Posted by u/stumpovich - 10 votes and 26 comments', 'twitter:image': 'https://share.redd.it/preview/post/18bymqt', 'apple-mobile-web-app-status-bar-style': 'black', 'twitter:site': '@reddit', 'viewport': 'width=device-width, initial-scale=1, viewport-fit=cover', 'apple-mobile-web-app-capable': 'yes', 'og:ttl': '600', 'og:url': 'https://www.reddit.com/r/Radiology/comments/18bymqt/powerscribe_one_are_you_for_real/'}], 'cse_image': [{'src': 'https://share.redd.it/preview/post/18bymqt'}]}}, {'kind': 'customsearch#result', 'title': 'Is the Grey Matter DNA Asmuths? : r/Ben10', 'htmlTitle': 'Is the Grey Matter DNA Asmuths? : r/Ben10', 'link': 'https://www.reddit.com/r/Ben10/comments/18oytib/is_the_grey_matter_dna_asmuths/', 'displayLink': 'www.reddit.com', 'snippet': \"Dec 23, 2023 ... Graymatter/Ben understood what Rad's AI said immediately after transforming ... For all those people who say he'd beat omni man just by becoming a\\xa0...\", 'htmlSnippet': 'Dec 23, 2023 <b>...</b> Graymatter/Ben understood what <b>Rad&#39;s AI</b> said immediately after transforming ... For all those people who say he&#39;d beat <b>omni</b> man just by becoming a&nbsp;...', 'formattedUrl': 'https://www.reddit.com/r/Ben10/.../is_the_grey_matter_dna_asmuths/', 'htmlFormattedUrl': 'https://www.reddit.com/r/Ben10/.../is_the_grey_matter_dna_asmuths/', 'pagemap': {'cse_thumbnail': [{'src': 'https://encrypted-tbn0.gstatic.com/images?q=tbn:ANd9GcR3aUjb5W0GR8GfpfzrOD3Pwl5JQfbQdT1-Yobd4RNqIIvv7Zb2Q1hJ7ltu&s', 'width': '165', 'height': '306'}], 'metatags': [{'og:image': 'https://preview.redd.it/is-the-grey-matter-dna-asmuths-v0-j3w4f4y6fz7c1.jpg?width=269&format=pjpg&auto=webp&s=c78754303b06b1eb2d5c3068f35a6323750cb1b5', 'theme-color': '#000000', 'og:image:width': '269', 'og:type': 'website', 'twitter:card': 'summary_large_image', 'twitter:title': 'r/Ben10 on Reddit: Is the Grey Matter DNA Asmuths?', 'og:site_name': 'Reddit', 'og:title': 'r/Ben10 on Reddit: Is the Grey Matter DNA Asmuths?', 'og:image:height': '500', 'msapplication-navbutton-color': '#000000', 'og:description': 'Posted by u/PhoonThe - 993 votes and 128 comments', 'twitter:image': 'https://preview.redd.it/is-the-grey-matter-dna-asmuths-v0-j3w4f4y6fz7c1.jpg?width=269&format=pjpg&auto=webp&s=c78754303b06b1eb2d5c3068f35a6323750cb1b5', 'apple-mobile-web-app-status-bar-style': 'black', 'twitter:site': '@reddit', 'viewport': 'width=device-width, initial-scale=1, viewport-fit=cover', 'apple-mobile-web-app-capable': 'yes', 'og:ttl': '600', 'og:url': 'https://www.reddit.com/r/Ben10/comments/18oytib/is_the_grey_matter_dna_asmuths/'}], 'cse_image': [{'src': 'https://preview.redd.it/is-the-grey-matter-dna-asmuths-v0-j3w4f4y6fz7c1.jpg?width=269&format=pjpg&auto=webp&s=c78754303b06b1eb2d5c3068f35a6323750cb1b5'}]}}]}\u001b[0m\n",
      "\u001b[32m2024-09-19 09:00:13.397\u001b[0m | \u001b[34m\u001b[1mDEBUG   \u001b[0m | \u001b[36mgoogle_search\u001b[0m:\u001b[36msearch\u001b[0m:\u001b[36m58\u001b[0m - \u001b[34m\u001b[1mGoogle search results: {'kind': 'customsearch#search', 'url': {'type': 'application/json', 'template': 'https://www.googleapis.com/customsearch/v1?q={searchTerms}&num={count?}&start={startIndex?}&lr={language?}&safe={safe?}&cx={cx?}&sort={sort?}&filter={filter?}&gl={gl?}&cr={cr?}&googlehost={googleHost?}&c2coff={disableCnTwTranslation?}&hq={hq?}&hl={hl?}&siteSearch={siteSearch?}&siteSearchFilter={siteSearchFilter?}&exactTerms={exactTerms?}&excludeTerms={excludeTerms?}&linkSite={linkSite?}&orTerms={orTerms?}&dateRestrict={dateRestrict?}&lowRange={lowRange?}&highRange={highRange?}&searchType={searchType}&fileType={fileType?}&rights={rights?}&imgSize={imgSize?}&imgType={imgType?}&imgColorType={imgColorType?}&imgDominantColor={imgDominantColor?}&alt=json'}, 'queries': {'request': [{'title': 'Google Custom Search - site:reddit.com \"Omni\"', 'totalResults': '1530000', 'searchTerms': 'site:reddit.com \"Omni\"', 'count': 10, 'startIndex': 1, 'language': 'lang_en', 'inputEncoding': 'utf8', 'outputEncoding': 'utf8', 'safe': 'off', 'cx': 'd5705c8967e3c4d63', 'gl': 'us', 'hl': 'en'}], 'nextPage': [{'title': 'Google Custom Search - site:reddit.com \"Omni\"', 'totalResults': '1530000', 'searchTerms': 'site:reddit.com \"Omni\"', 'count': 10, 'startIndex': 11, 'language': 'lang_en', 'inputEncoding': 'utf8', 'outputEncoding': 'utf8', 'safe': 'off', 'cx': 'd5705c8967e3c4d63', 'gl': 'us', 'hl': 'en'}]}, 'context': {'title': 'company_detective'}, 'searchInformation': {'searchTime': 0.425974, 'formattedSearchTime': '0.43', 'totalResults': '1530000', 'formattedTotalResults': '1,530,000'}, 'items': [{'kind': 'customsearch#result', 'title': 'Omni source code now available : r/kubernetes', 'htmlTitle': '<b>Omni</b> source code now available : r/kubernetes', 'link': 'https://www.reddit.com/r/kubernetes/comments/1be30qa/omni_source_code_now_available/', 'displayLink': 'www.reddit.com', 'snippet': 'Mar 13, 2024 ... 29 votes, 19 comments. Omni is more or less an orchestration tool to be used with Talos to deploy and manage clusters.', 'htmlSnippet': 'Mar 13, 2024 <b>...</b> 29 votes, 19 comments. <b>Omni</b> is more or less an orchestration tool to be used with Talos to deploy and manage clusters.', 'formattedUrl': 'https://www.reddit.com/r/kubernetes/.../omni_source_code_now_available/', 'htmlFormattedUrl': 'https://www.reddit.com/r/kubernetes/.../<b>omni</b>_source_code_now_available/', 'pagemap': {'metatags': [{'og:image': 'https://share.redd.it/preview/post/1be30qa', 'theme-color': '#000000', 'og:image:width': '1200', 'og:type': 'website', 'og:image:alt': 'An image containing a preview of the post', 'twitter:card': 'summary_large_image', 'twitter:title': 'r/kubernetes on Reddit: Omni source code now available', 'og:site_name': 'Reddit', 'og:title': 'r/kubernetes on Reddit: Omni source code now available', 'og:image:height': '630', 'msapplication-navbutton-color': '#000000', 'og:description': 'Posted by u/topherfitz - 29 votes and 19 comments', 'twitter:image': 'https://share.redd.it/preview/post/1be30qa', 'apple-mobile-web-app-status-bar-style': 'black', 'twitter:site': '@reddit', 'viewport': 'width=device-width, initial-scale=1, viewport-fit=cover', 'apple-mobile-web-app-capable': 'yes', 'og:ttl': '600', 'og:url': 'https://www.reddit.com/r/kubernetes/comments/1be30qa/omni_source_code_now_available/'}]}}, {'kind': 'customsearch#result', 'title': 'Could Godzilla defeat Omni man? : r/GODZILLA', 'htmlTitle': 'Could Godzilla defeat <b>Omni</b> man? : r/GODZILLA', 'link': 'https://www.reddit.com/r/GODZILLA/comments/1b2piqe/could_godzilla_defeat_omni_man/', 'displayLink': 'www.reddit.com', 'snippet': \"Feb 29, 2024 ... 290 votes, 168 comments. Me and my friends got into a argument on who could defeat Omni man and I said it's godzilla since there a bunch of\\xa0...\", 'htmlSnippet': 'Feb 29, 2024 <b>...</b> 290 votes, 168 comments. Me and my friends got into a argument on who could defeat <b>Omni</b> man and I said it&#39;s godzilla since there a bunch of&nbsp;...', 'formattedUrl': 'https://www.reddit.com/r/GODZILLA/.../could_godzilla_defeat_omni_man...', 'htmlFormattedUrl': 'https://www.reddit.com/r/GODZILLA/.../could_godzilla_defeat_<b>omni</b>_man...', 'pagemap': {'cse_thumbnail': [{'src': 'https://encrypted-tbn0.gstatic.com/images?q=tbn:ANd9GcSWBOXMqQTRkyeVdUW2CGrnLAFS9g56dIonbSWRqgY5UoUJ_CfZrYGb6lTB&s', 'width': '259', 'height': '194'}], 'metatags': [{'og:image': 'https://preview.redd.it/could-godzilla-defeat-omni-man-v0-71nx4wdruflc1.jpeg?auto=webp&s=2844c522941811e9e1965b43380bfd9d9d806b3c', 'theme-color': '#000000', 'og:image:width': '640', 'og:type': 'website', 'twitter:card': 'summary_large_image', 'twitter:title': 'r/GODZILLA on Reddit: Could Godzilla defeat Omni man?', 'og:site_name': 'Reddit', 'og:title': 'r/GODZILLA on Reddit: Could Godzilla defeat Omni man?', 'og:image:height': '480', 'msapplication-navbutton-color': '#000000', 'og:description': 'Posted by u/Team_Sonic_Gaming - 290 votes and 168 comments', 'twitter:image': 'https://preview.redd.it/could-godzilla-defeat-omni-man-v0-71nx4wdruflc1.jpeg?auto=webp&s=2844c522941811e9e1965b43380bfd9d9d806b3c', 'apple-mobile-web-app-status-bar-style': 'black', 'twitter:site': '@reddit', 'viewport': 'width=device-width, initial-scale=1, viewport-fit=cover', 'apple-mobile-web-app-capable': 'yes', 'og:ttl': '600', 'og:url': 'https://www.reddit.com/r/GODZILLA/comments/1b2piqe/could_godzilla_defeat_omni_man/'}], 'cse_image': [{'src': 'https://preview.redd.it/could-godzilla-defeat-omni-man-v0-71nx4wdruflc1.jpeg?auto=webp&s=2844c522941811e9e1965b43380bfd9d9d806b3c'}]}}, {'kind': 'customsearch#result', 'title': 'VKB Omni Hosas first impressions : r/hotas', 'htmlTitle': 'VKB <b>Omni</b> Hosas first impressions : r/hotas', 'link': 'https://www.reddit.com/r/hotas/comments/sxxp9b/vkb_omni_hosas_first_impressions/', 'displayLink': 'www.reddit.com', 'snippet': 'Feb 21, 2022 ... I ordered the Gladiator NXT Omni throttle to go along with my NXT right stick. The grip came with the omni adapter already installed instead\\xa0...', 'htmlSnippet': 'Feb 21, 2022 <b>...</b> I ordered the Gladiator NXT <b>Omni</b> throttle to go along with my NXT right stick. The grip came with the <b>omni</b> adapter already installed instead&nbsp;...', 'formattedUrl': 'https://www.reddit.com/r/hotas/.../vkb_omni_hosas_first_impressions/', 'htmlFormattedUrl': 'https://www.reddit.com/r/hotas/.../vkb_<b>omni</b>_hosas_first_impressions/', 'pagemap': {'cse_thumbnail': [{'src': 'https://encrypted-tbn0.gstatic.com/images?q=tbn:ANd9GcRwjiSdMUFYRuMMCHxLNkLPB3_g3PkhA3CQagbEGVm9Yqee3Pi2J9ECumM&s', 'width': '259', 'height': '194'}], 'metatags': [{'og:image': 'https://preview.redd.it/vkb-omni-hosas-first-impressions-v0-1fufopa3r7j81.jpg?width=1080&crop=smart&auto=webp&s=fbf1fcc89b8ce0a06e2129f96883d0f1f6321ce4', 'theme-color': '#000000', 'og:image:width': '1080', 'og:type': 'website', 'twitter:card': 'summary_large_image', 'twitter:title': 'r/hotas on Reddit: VKB Omni Hosas first impressions', 'og:site_name': 'Reddit', 'og:title': 'r/hotas on Reddit: VKB Omni Hosas first impressions', 'og:image:height': '809', 'msapplication-navbutton-color': '#000000', 'og:description': 'Posted by u/synkndown - 149 votes and 42 comments', 'twitter:image': 'https://preview.redd.it/vkb-omni-hosas-first-impressions-v0-1fufopa3r7j81.jpg?width=1080&crop=smart&auto=webp&s=fbf1fcc89b8ce0a06e2129f96883d0f1f6321ce4', 'apple-mobile-web-app-status-bar-style': 'black', 'twitter:site': '@reddit', 'viewport': 'width=device-width, initial-scale=1, viewport-fit=cover', 'apple-mobile-web-app-capable': 'yes', 'og:ttl': '600', 'og:url': 'https://www.reddit.com/r/hotas/comments/sxxp9b/vkb_omni_hosas_first_impressions/'}], 'cse_image': [{'src': 'https://preview.redd.it/vkb-omni-hosas-first-impressions-v0-1fufopa3r7j81.jpg?width=1080&crop=smart&auto=webp&s=fbf1fcc89b8ce0a06e2129f96883d0f1f6321ce4'}]}}, {'kind': 'customsearch#result', 'title': 'Omni-Sterilizer + Transonic Cannon Mortal Wound Combo : r ...', 'htmlTitle': '<b>Omni</b>-Sterilizer + Transonic Cannon Mortal Wound Combo : r ...', 'link': 'https://www.reddit.com/r/AdeptusMechanicus/comments/14bmnhi/omnisterilizer_transonic_cannon_mortal_wound_combo/', 'displayLink': 'www.reddit.com', 'snippet': 'Jun 17, 2023 ... The Omni-Sterilizer enhancement grant Anti-Infantry 2+ and anti monster 4+ as well as +3 attacks for ranged weapons on any Adeptus Mechanicus Character.', 'htmlSnippet': 'Jun 17, 2023 <b>...</b> The <b>Omni</b>-Sterilizer enhancement grant Anti-Infantry 2+ and anti monster 4+ as well as +3 attacks for ranged weapons on any Adeptus Mechanicus Character.', 'formattedUrl': 'https://www.reddit.com/.../omnisterilizer_transonic_cannon_mortal_wound...', 'htmlFormattedUrl': 'https://www.reddit.com/.../<b>omni</b>sterilizer_transonic_cannon_mortal_wound...', 'pagemap': {'cse_thumbnail': [{'src': 'https://encrypted-tbn0.gstatic.com/images?q=tbn:ANd9GcQiaJxHBZvtOnRyIDJ7pwEaqb-7KpMQ9lkJnSqVdZSSNERfvHsRd9QuN1ig&s', 'width': '195', 'height': '258'}], 'metatags': [{'og:image': 'https://preview.redd.it/omni-sterilizer-transonic-cannon-mortal-wound-combo-v0-7athjbgpsj6b1.jpg?width=750&format=pjpg&auto=webp&s=c4fb2f98307083501fa6dab6130225c64e4d4817', 'theme-color': '#000000', 'og:image:width': '750', 'og:type': 'website', 'twitter:card': 'summary_large_image', 'twitter:title': 'r/AdeptusMechanicus on Reddit: Omni-Sterilizer + Transonic Cannon Mortal Wound Combo', 'og:site_name': 'Reddit', 'og:title': 'r/AdeptusMechanicus on Reddit: Omni-Sterilizer + Transonic Cannon Mortal Wound Combo', 'og:image:height': '990', 'msapplication-navbutton-color': '#000000', 'og:description': 'Posted by u/Coat-Collector48 - 62 votes and 26 comments', 'twitter:image': 'https://preview.redd.it/omni-sterilizer-transonic-cannon-mortal-wound-combo-v0-7athjbgpsj6b1.jpg?width=750&format=pjpg&auto=webp&s=c4fb2f98307083501fa6dab6130225c64e4d4817', 'apple-mobile-web-app-status-bar-style': 'black', 'twitter:site': '@reddit', 'viewport': 'width=device-width, initial-scale=1, viewport-fit=cover', 'apple-mobile-web-app-capable': 'yes', 'og:ttl': '600', 'og:url': 'https://www.reddit.com/r/AdeptusMechanicus/comments/14bmnhi/omnisterilizer_transonic_cannon_mortal_wound_combo/'}], 'cse_image': [{'src': 'https://preview.redd.it/omni-sterilizer-transonic-cannon-mortal-wound-combo-v0-7athjbgpsj6b1.jpg?width=750&format=pjpg&auto=webp&s=c4fb2f98307083501fa6dab6130225c64e4d4817'}]}}, {'kind': 'customsearch#result', 'title': 'Lack of options for second Plasma Omni. : r/sto', 'htmlTitle': 'Lack of options for second Plasma <b>Omni</b>. : r/sto', 'link': 'https://www.reddit.com/r/sto/comments/os074e/lack_of_options_for_second_plasma_omni/', 'displayLink': 'www.reddit.com', 'snippet': \"Jul 26, 2021 ... There are none available from Missions or Rep. The sole choice that remains is in Altamid Omni from the Lobi store. While that's not a bad Omni,\\xa0...\", 'htmlSnippet': 'Jul 26, 2021 <b>...</b> There are none available from Missions or Rep. The sole choice that remains is in Altamid <b>Omni</b> from the Lobi store. While that&#39;s not a bad <b>Omni</b>,&nbsp;...', 'formattedUrl': 'https://www.reddit.com/r/sto/.../lack_of_options_for_second_plasma_omni/', 'htmlFormattedUrl': 'https://www.reddit.com/r/sto/.../lack_of_options_for_second_plasma_<b>omni</b>/', 'pagemap': {'metatags': [{'og:image': 'https://share.redd.it/preview/post/os074e', 'theme-color': '#000000', 'og:image:width': '1200', 'og:type': 'website', 'og:image:alt': 'An image containing a preview of the post', 'twitter:card': 'summary_large_image', 'twitter:title': 'r/sto on Reddit: Lack of options for second Plasma Omni.', 'og:site_name': 'Reddit', 'og:title': 'r/sto on Reddit: Lack of options for second Plasma Omni.', 'og:image:height': '630', 'msapplication-navbutton-color': '#000000', 'og:description': 'Posted by u/Mmm_Cheez - 34 votes and 57 comments', 'twitter:image': 'https://share.redd.it/preview/post/os074e', 'apple-mobile-web-app-status-bar-style': 'black', 'twitter:site': '@reddit', 'viewport': 'width=device-width, initial-scale=1, viewport-fit=cover', 'apple-mobile-web-app-capable': 'yes', 'og:ttl': '600', 'og:url': 'https://www.reddit.com/r/sto/comments/os074e/lack_of_options_for_second_plasma_omni/'}], 'cse_image': [{'src': 'https://share.redd.it/preview/post/os074e'}]}}, {'kind': 'customsearch#result', 'title': 'Just installed omni-throttle adaptors on my GNXT Left and Right. The ...', 'htmlTitle': 'Just installed <b>omni</b>-throttle adaptors on my GNXT Left and Right. The ...', 'link': 'https://www.reddit.com/r/hotas/comments/t2c41c/just_installed_omnithrottle_adaptors_on_my_gnxt/', 'displayLink': 'www.reddit.com', 'snippet': 'Feb 27, 2022 ... The Omni-Throttle adapter for the Gladiator NXT is not just an angled extension, it replaces the entire twist module at the base of the grip.', 'htmlSnippet': 'Feb 27, 2022 <b>...</b> The <b>Omni</b>-Throttle adapter for the Gladiator NXT is not just an angled extension, it replaces the entire twist module at the base of the grip.', 'formattedUrl': 'https://www.reddit.com/.../just_installed_omnithrottle_adaptors_on_my_gn...', 'htmlFormattedUrl': 'https://www.reddit.com/.../just_installed_<b>omni</b>throttle_adaptors_on_my_gn...', 'pagemap': {'cse_thumbnail': [{'src': 'https://encrypted-tbn0.gstatic.com/images?q=tbn:ANd9GcT9LSZlPgy2hDrcJZt0Uhkg5TBZdzSUR3NWPdT3hBWvwIU_N0AVYfGQ81Q&s', 'width': '300', 'height': '168'}], 'metatags': [{'og:image': 'https://external-preview.redd.it/M0oXR-oor1tTSWZEh0h-ngd8Uie9PNipJXr9j8Xi12g.png?width=1080&crop=smart&format=pjpg&auto=webp&s=23c79d6ea08a03bdd0ef040929da3c56f8ca69ee', 'theme-color': '#000000', 'og:image:width': '1080', 'og:type': 'website', 'twitter:card': 'summary_large_image', 'twitter:title': 'r/hotas on Reddit: Just installed omni-throttle adaptors on my GNXT Left and Right. The right one does this now... How fix?', 'og:site_name': 'Reddit', 'og:title': 'r/hotas on Reddit: Just installed omni-throttle adaptors on my GNXT Left and Right. The right one does this now... How fix?', 'og:image:height': '607', 'msapplication-navbutton-color': '#000000', 'og:description': 'Posted by u/ButtsRLife - 71 votes and 24 comments', 'twitter:image': 'https://external-preview.redd.it/M0oXR-oor1tTSWZEh0h-ngd8Uie9PNipJXr9j8Xi12g.png?width=1080&crop=smart&format=pjpg&auto=webp&s=23c79d6ea08a03bdd0ef040929da3c56f8ca69ee', 'apple-mobile-web-app-status-bar-style': 'black', 'twitter:site': '@reddit', 'viewport': 'width=device-width, initial-scale=1, viewport-fit=cover', 'apple-mobile-web-app-capable': 'yes', 'og:ttl': '600', 'og:url': 'https://www.reddit.com/r/hotas/comments/t2c41c/just_installed_omnithrottle_adaptors_on_my_gnxt/'}], 'cse_image': [{'src': 'https://external-preview.redd.it/M0oXR-oor1tTSWZEh0h-ngd8Uie9PNipJXr9j8Xi12g.png?width=1080&crop=smart&format=pjpg&auto=webp&s=23c79d6ea08a03bdd0ef040929da3c56f8ca69ee'}]}}, {'kind': 'customsearch#result', 'title': 'Omni hotels system outage : r/hotels', 'htmlTitle': '<b>Omni</b> hotels system outage : r/hotels', 'link': 'https://www.reddit.com/r/hotels/comments/1brhte6/omni_hotels_system_outage/', 'displayLink': 'www.reddit.com', 'snippet': 'Mar 30, 2024 ... Everyone has to be escorted to their room by an employee and the phones and Wi-Fi are down. Anyone else staying at an Omni that can confirm this\\xa0...', 'htmlSnippet': 'Mar 30, 2024 <b>...</b> Everyone has to be escorted to their room by an employee and the phones and Wi-Fi are down. Anyone else staying at an <b>Omni</b> that can confirm this&nbsp;...', 'formattedUrl': 'https://www.reddit.com/r/hotels/comments/.../omni_hotels_system_outage/', 'htmlFormattedUrl': 'https://www.reddit.com/r/hotels/comments/.../<b>omni</b>_hotels_system_outage/', 'pagemap': {'metatags': [{'og:image': 'https://share.redd.it/preview/post/1brhte6', 'theme-color': '#000000', 'og:image:width': '1200', 'og:type': 'website', 'og:image:alt': 'An image containing a preview of the post', 'twitter:card': 'summary_large_image', 'twitter:title': 'r/hotels on Reddit: Omni hotels system outage', 'og:site_name': 'Reddit', 'og:title': 'r/hotels on Reddit: Omni hotels system outage', 'og:image:height': '630', 'msapplication-navbutton-color': '#000000', 'og:description': 'Posted by u/guff1988 - 44 votes and 166 comments', 'twitter:image': 'https://share.redd.it/preview/post/1brhte6', 'apple-mobile-web-app-status-bar-style': 'black', 'twitter:site': '@reddit', 'viewport': 'width=device-width, initial-scale=1, viewport-fit=cover', 'apple-mobile-web-app-capable': 'yes', 'og:ttl': '600', 'og:url': 'https://www.reddit.com/r/hotels/comments/1brhte6/omni_hotels_system_outage/'}], 'cse_image': [{'src': 'https://share.redd.it/preview/post/1brhte6'}]}}, {'kind': 'customsearch#result', 'title': 'Omni: A New SaaS for Talos Linux Kubernetes : r/kubernetes', 'htmlTitle': '<b>Omni</b>: A New SaaS for Talos Linux Kubernetes : r/kubernetes', 'link': 'https://www.reddit.com/r/kubernetes/comments/1197rp0/omni_a_new_saas_for_talos_linux_kubernetes/', 'displayLink': 'www.reddit.com', 'snippet': 'Feb 22, 2023 ... Omni is a management platform built explicitly for Talos Linux. It is capable of managing clusters practically anywhere you can run Talos Linux.', 'htmlSnippet': 'Feb 22, 2023 <b>...</b> <b>Omni</b> is a management platform built explicitly for Talos Linux. It is capable of managing clusters practically anywhere you can run Talos Linux.', 'formattedUrl': 'https://www.reddit.com/r/.../omni_a_new_saas_for_talos_linux_kubernetes/', 'htmlFormattedUrl': 'https://www.reddit.com/r/.../<b>omni</b>_a_new_saas_for_talos_linux_kubernetes/', 'pagemap': {'metatags': [{'og:image': 'https://share.redd.it/preview/post/1197rp0', 'theme-color': '#000000', 'og:image:width': '1200', 'og:type': 'website', 'og:image:alt': 'An image containing a preview of the post', 'twitter:card': 'summary_large_image', 'twitter:title': 'r/kubernetes on Reddit: Omni: A New SaaS for Talos Linux Kubernetes', 'og:site_name': 'Reddit', 'og:title': 'r/kubernetes on Reddit: Omni: A New SaaS for Talos Linux Kubernetes', 'og:image:height': '630', 'msapplication-navbutton-color': '#000000', 'og:description': 'Posted by u/andrewrynhard - 68 votes and 34 comments', 'twitter:image': 'https://share.redd.it/preview/post/1197rp0', 'apple-mobile-web-app-status-bar-style': 'black', 'twitter:site': '@reddit', 'viewport': 'width=device-width, initial-scale=1, viewport-fit=cover', 'apple-mobile-web-app-capable': 'yes', 'og:ttl': '600', 'og:url': 'https://www.reddit.com/r/kubernetes/comments/1197rp0/omni_a_new_saas_for_talos_linux_kubernetes/'}]}}, {'kind': 'customsearch#result', 'title': 'The Downgrade to Omni : r/ChatGPTPro', 'htmlTitle': 'The Downgrade to <b>Omni</b> : r/ChatGPTPro', 'link': 'https://www.reddit.com/r/ChatGPTPro/comments/1cxyxce/the_downgrade_to_omni/', 'displayLink': 'www.reddit.com', 'snippet': \"May 23, 2024 ... 100 votes, 100 comments. I've been remarkably disappointed by Omni since it's drop. While I appreciate the new features, and how fast it is,\\xa0...\", 'htmlSnippet': 'May 23, 2024 <b>...</b> 100 votes, 100 comments. I&#39;ve been remarkably disappointed by <b>Omni</b> since it&#39;s drop. While I appreciate the new features, and how fast it is,&nbsp;...', 'formattedUrl': 'https://www.reddit.com/r/ChatGPTPro/.../the_downgrade_to_omni/', 'htmlFormattedUrl': 'https://www.reddit.com/r/ChatGPTPro/.../the_downgrade_to_<b>omni</b>/', 'pagemap': {'metatags': [{'og:image': 'https://share.redd.it/preview/post/1cxyxce', 'theme-color': '#000000', 'og:image:width': '1200', 'og:type': 'website', 'og:image:alt': 'An image containing a preview of the post', 'twitter:card': 'summary_large_image', 'twitter:title': 'r/ChatGPTPro on Reddit: The Downgrade to Omni', 'og:site_name': 'Reddit', 'og:title': 'r/ChatGPTPro on Reddit: The Downgrade to Omni', 'og:image:height': '630', 'msapplication-navbutton-color': '#000000', 'og:description': 'Posted by u/National-Ad-6982 - 100 votes and 100 comments', 'twitter:image': 'https://share.redd.it/preview/post/1cxyxce', 'apple-mobile-web-app-status-bar-style': 'black', 'twitter:site': '@reddit', 'viewport': 'width=device-width, initial-scale=1, viewport-fit=cover', 'apple-mobile-web-app-capable': 'yes', 'og:ttl': '600', 'og:url': 'https://www.reddit.com/r/ChatGPTPro/comments/1cxyxce/the_downgrade_to_omni/'}], 'cse_image': [{'src': 'https://share.redd.it/preview/post/1cxyxce'}]}}, {'kind': 'customsearch#result', 'title': 'Getting my first HOTAS. omni vs normal, dual sticks vs thruster? : r ...', 'htmlTitle': 'Getting my first HOTAS. <b>omni</b> vs normal, dual sticks vs thruster? : r ...', 'link': 'https://www.reddit.com/r/hotas/comments/slp54v/getting_my_first_hotas_omni_vs_normal_dual_sticks/', 'displayLink': 'www.reddit.com', 'snippet': 'Feb 6, 2022 ... omni vs normal, dual sticks vs thruster? Been interested in getting my first set of HOTAS, have done some research and basically everyone\\xa0...', 'htmlSnippet': 'Feb 6, 2022 <b>...</b> <b>omni</b> vs normal, dual sticks vs thruster? Been interested in getting my first set of HOTAS, have done some research and basically everyone&nbsp;...', 'formattedUrl': 'https://www.reddit.com/.../getting_my_first_hotas_omni_vs_normal_dual_s...', 'htmlFormattedUrl': 'https://www.reddit.com/.../getting_my_first_hotas_<b>omni</b>_vs_normal_dual_s...', 'pagemap': {'metatags': [{'og:image': 'https://share.redd.it/preview/post/slp54v', 'theme-color': '#000000', 'og:image:width': '1200', 'og:type': 'website', 'og:image:alt': 'An image containing a preview of the post', 'twitter:card': 'summary_large_image', 'twitter:title': 'r/hotas on Reddit: Getting my first HOTAS. omni vs normal, dual sticks vs thruster?', 'og:site_name': 'Reddit', 'og:title': 'r/hotas on Reddit: Getting my first HOTAS. omni vs normal, dual sticks vs thruster?', 'og:image:height': '630', 'msapplication-navbutton-color': '#000000', 'og:description': 'Posted by u/KxPbmjLI - 5 votes and 31 comments', 'twitter:image': 'https://share.redd.it/preview/post/slp54v', 'apple-mobile-web-app-status-bar-style': 'black', 'twitter:site': '@reddit', 'viewport': 'width=device-width, initial-scale=1, viewport-fit=cover', 'apple-mobile-web-app-capable': 'yes', 'og:ttl': '600', 'og:url': 'https://www.reddit.com/r/hotas/comments/slp54v/getting_my_first_hotas_omni_vs_normal_dual_sticks/'}], 'cse_image': [{'src': 'https://share.redd.it/preview/post/slp54v'}]}}]}\u001b[0m\n"
     ]
    },
    {
     "data": {
      "text/plain": [
       "[[SearchResult(title='Powerscribe One -- are you for real? : r/Radiology', link='https://www.reddit.com/r/Radiology/comments/18bymqt/powerscribe_one_are_you_for_real/', snippet='Dec 6, 2023 ... Rad AI is mostly known for automatically generating Impressions and this September launched Omni Reporting which was designed by\\xa0...', formattedUrl='https://www.reddit.com/r/Radiology/.../powerscribe_one_are_you_for_real/'),\n",
       "  SearchResult(title='Is the Grey Matter DNA Asmuths? : r/Ben10', link='https://www.reddit.com/r/Ben10/comments/18oytib/is_the_grey_matter_dna_asmuths/', snippet=\"Dec 23, 2023 ... Graymatter/Ben understood what Rad's AI said immediately after transforming ... For all those people who say he'd beat omni man just by becoming a\\xa0...\", formattedUrl='https://www.reddit.com/r/Ben10/.../is_the_grey_matter_dna_asmuths/')],\n",
       " [SearchResult(title='Omni source code now available : r/kubernetes', link='https://www.reddit.com/r/kubernetes/comments/1be30qa/omni_source_code_now_available/', snippet='Mar 13, 2024 ... 29 votes, 19 comments. Omni is more or less an orchestration tool to be used with Talos to deploy and manage clusters.', formattedUrl='https://www.reddit.com/r/kubernetes/.../omni_source_code_now_available/'),\n",
       "  SearchResult(title='Could Godzilla defeat Omni man? : r/GODZILLA', link='https://www.reddit.com/r/GODZILLA/comments/1b2piqe/could_godzilla_defeat_omni_man/', snippet=\"Feb 29, 2024 ... 290 votes, 168 comments. Me and my friends got into a argument on who could defeat Omni man and I said it's godzilla since there a bunch of\\xa0...\", formattedUrl='https://www.reddit.com/r/GODZILLA/.../could_godzilla_defeat_omni_man...'),\n",
       "  SearchResult(title='VKB Omni Hosas first impressions : r/hotas', link='https://www.reddit.com/r/hotas/comments/sxxp9b/vkb_omni_hosas_first_impressions/', snippet='Feb 21, 2022 ... I ordered the Gladiator NXT Omni throttle to go along with my NXT right stick. The grip came with the omni adapter already installed instead\\xa0...', formattedUrl='https://www.reddit.com/r/hotas/.../vkb_omni_hosas_first_impressions/'),\n",
       "  SearchResult(title='Omni-Sterilizer + Transonic Cannon Mortal Wound Combo : r ...', link='https://www.reddit.com/r/AdeptusMechanicus/comments/14bmnhi/omnisterilizer_transonic_cannon_mortal_wound_combo/', snippet='Jun 17, 2023 ... The Omni-Sterilizer enhancement grant Anti-Infantry 2+ and anti monster 4+ as well as +3 attacks for ranged weapons on any Adeptus Mechanicus Character.', formattedUrl='https://www.reddit.com/.../omnisterilizer_transonic_cannon_mortal_wound...'),\n",
       "  SearchResult(title='Lack of options for second Plasma Omni. : r/sto', link='https://www.reddit.com/r/sto/comments/os074e/lack_of_options_for_second_plasma_omni/', snippet=\"Jul 26, 2021 ... There are none available from Missions or Rep. The sole choice that remains is in Altamid Omni from the Lobi store. While that's not a bad Omni,\\xa0...\", formattedUrl='https://www.reddit.com/r/sto/.../lack_of_options_for_second_plasma_omni/'),\n",
       "  SearchResult(title='Just installed omni-throttle adaptors on my GNXT Left and Right. The ...', link='https://www.reddit.com/r/hotas/comments/t2c41c/just_installed_omnithrottle_adaptors_on_my_gnxt/', snippet='Feb 27, 2022 ... The Omni-Throttle adapter for the Gladiator NXT is not just an angled extension, it replaces the entire twist module at the base of the grip.', formattedUrl='https://www.reddit.com/.../just_installed_omnithrottle_adaptors_on_my_gn...'),\n",
       "  SearchResult(title='Omni hotels system outage : r/hotels', link='https://www.reddit.com/r/hotels/comments/1brhte6/omni_hotels_system_outage/', snippet='Mar 30, 2024 ... Everyone has to be escorted to their room by an employee and the phones and Wi-Fi are down. Anyone else staying at an Omni that can confirm this\\xa0...', formattedUrl='https://www.reddit.com/r/hotels/comments/.../omni_hotels_system_outage/'),\n",
       "  SearchResult(title='Omni: A New SaaS for Talos Linux Kubernetes : r/kubernetes', link='https://www.reddit.com/r/kubernetes/comments/1197rp0/omni_a_new_saas_for_talos_linux_kubernetes/', snippet='Feb 22, 2023 ... Omni is a management platform built explicitly for Talos Linux. It is capable of managing clusters practically anywhere you can run Talos Linux.', formattedUrl='https://www.reddit.com/r/.../omni_a_new_saas_for_talos_linux_kubernetes/'),\n",
       "  SearchResult(title='The Downgrade to Omni : r/ChatGPTPro', link='https://www.reddit.com/r/ChatGPTPro/comments/1cxyxce/the_downgrade_to_omni/', snippet=\"May 23, 2024 ... 100 votes, 100 comments. I've been remarkably disappointed by Omni since it's drop. While I appreciate the new features, and how fast it is,\\xa0...\", formattedUrl='https://www.reddit.com/r/ChatGPTPro/.../the_downgrade_to_omni/'),\n",
       "  SearchResult(title='Getting my first HOTAS. omni vs normal, dual sticks vs thruster? : r ...', link='https://www.reddit.com/r/hotas/comments/slp54v/getting_my_first_hotas_omni_vs_normal_dual_sticks/', snippet='Feb 6, 2022 ... omni vs normal, dual sticks vs thruster? Been interested in getting my first set of HOTAS, have done some research and basically everyone\\xa0...', formattedUrl='https://www.reddit.com/.../getting_my_first_hotas_omni_vs_normal_dual_s...')]]"
      ]
     },
     "execution_count": 122,
     "metadata": {},
     "output_type": "execute_result"
    }
   ],
   "source": [
    "from google_search import search\n",
    "\n",
    "queries_results = [list(search(query, num=10)) for query in queries]\n",
    "queries_results"
   ]
  },
  {
   "cell_type": "code",
   "execution_count": 123,
   "metadata": {},
   "outputs": [
    {
     "name": "stdout",
     "output_type": "stream",
     "text": [
      "1. Powerscribe One -- are you for real? : r/Radiology (from www.reddit.com)\n",
      "Dec 6, 2023 ... Rad AI is mostly known for automatically generating Impressions and this September launched Omni Reporting which was designed by ...\n",
      "\n",
      "2. Is the Grey Matter DNA Asmuths? : r/Ben10 (from www.reddit.com)\n",
      "Dec 23, 2023 ... Graymatter/Ben understood what Rad's AI said immediately after transforming ... For all those people who say he'd beat omni man just by becoming a ...\n",
      "\n",
      "\n"
     ]
    }
   ],
   "source": [
    "from typing import Dict, List\n",
    "from google_search import SearchResult\n",
    "\n",
    "def index_search_results(search_results: List[SearchResult]) -> Dict[int, SearchResult]:\n",
    "    indexed_results = {}\n",
    "\n",
    "    # TODO: Deduplicate search results\n",
    "\n",
    "    for i, search_result in enumerate(search_results):\n",
    "        indexed_results[i+1] = search_result\n",
    "\n",
    "    return indexed_results\n",
    "\n",
    "def format_search_results(indexed_search_results: Dict[int, SearchResult]) -> str:\n",
    "    result = \"\"\n",
    "\n",
    "    for i, search_result in sorted(indexed_search_results.items()):\n",
    "        domain = search_result.link.split('/')[2]\n",
    "        result += f\"{i}. {search_result.title} (from {domain})\\n\"\n",
    "        result += f\"{search_result.snippet}\\n\\n\"\n",
    "\n",
    "    return result\n",
    "\n",
    "print(format_search_results(index_search_results(queries_results[0][:5])))"
   ]
  },
  {
   "cell_type": "code",
   "execution_count": 128,
   "metadata": {},
   "outputs": [
    {
     "data": {
      "text/plain": [
       "RatedResults(rated_queries=[RatedResult(result_number=1, customer_relevance=4, company_relevance=5), RatedResult(result_number=2, customer_relevance=1, company_relevance=1), RatedResult(result_number=3, customer_relevance=1, company_relevance=1), RatedResult(result_number=4, customer_relevance=1, company_relevance=1), RatedResult(result_number=5, customer_relevance=1, company_relevance=1), RatedResult(result_number=6, customer_relevance=1, company_relevance=1), RatedResult(result_number=7, customer_relevance=1, company_relevance=1), RatedResult(result_number=8, customer_relevance=1, company_relevance=1), RatedResult(result_number=9, customer_relevance=2, company_relevance=1), RatedResult(result_number=10, customer_relevance=1, company_relevance=1), RatedResult(result_number=11, customer_relevance=5, company_relevance=4), RatedResult(result_number=12, customer_relevance=1, company_relevance=1)])"
      ]
     },
     "execution_count": 128,
     "metadata": {},
     "output_type": "execute_result"
    }
   ],
   "source": [
    "from langchain_openai import ChatOpenAI\n",
    "from langchain_core.prompts import ChatPromptTemplate\n",
    "\n",
    "from pydantic import BaseModel, Field\n",
    "from typing import List\n",
    "\n",
    "indexed_search_results = index_search_results(queries_results[0] + queries_results[1])\n",
    "formatted_search_results = format_search_results(indexed_search_results)\n",
    "\n",
    "class RatedResult(BaseModel):\n",
    "    result_number: int = Field(description=\"Number of the search result\", ge=min(indexed_search_results.keys()), le=max(indexed_search_results.keys()))\n",
    "\n",
    "    customer_relevance: int = Field(description=\"Relevance of the search result for customers, such as product feedback and critique (1 is least relevant, 5 is most relevant)\", ge=1, le=5)\n",
    "    company_relevance: int = Field(description=\"Relevance of the search result to the company critique (1 is least relevant, 5 is most relevant)\", ge=1, le=5)\n",
    "\n",
    "class RatedResults(BaseModel):\n",
    "    rated_queries: List[RatedResult] = Field(description=\"List of relevance-rated search results\")\n",
    "\n",
    "_prompt = ChatPromptTemplate.from_messages(\n",
    "    [\n",
    "        (\n",
    "            \"system\",\n",
    "            \"\"\"\n",
    "Review a list of search results and rate their relevance (1-5 scale) to A) the company {company} and B) the customer experience with {product} by {company} on a 1-5 scale.\n",
    "\n",
    "Additional information:\n",
    "{company}: {company_description}\n",
    "{product}: {product_description}\n",
    "            \"\"\",\n",
    "        ),\n",
    "        (\n",
    "            \"human\",\n",
    "            \"\"\"\n",
    "Search results:\n",
    "{search_results}\n",
    "            \"\"\",\n",
    "        ),\n",
    "    ]\n",
    ")\n",
    "\n",
    "\n",
    "llm = ChatOpenAI(model=\"gpt-4o-mini\", temperature=0)\n",
    "runnable = _prompt | llm.with_structured_output(RatedResults)\n",
    "llm_result = runnable.with_config({\"run_name\": \"POC: Rerank search results\"}).invoke(\n",
    "    {\n",
    "        \"company\": seed.company,\n",
    "        \"company_description\": company_description,\n",
    "        \"product\": seed.product,\n",
    "        \"product_description\": product_description,\n",
    "        \"search_results\": formatted_search_results,\n",
    "    }\n",
    ")\n",
    "\n",
    "llm_result"
   ]
  },
  {
   "cell_type": "code",
   "execution_count": 129,
   "metadata": {},
   "outputs": [
    {
     "name": "stdout",
     "output_type": "stream",
     "text": [
      "\n",
      "Number of search results: 12\n",
      "Average customer_relevance relevance: 1.7\n",
      "Average company relevance: 1.6\n",
      "\n"
     ]
    }
   ],
   "source": [
    "import numpy as np\n",
    "\n",
    "print(f\"\"\"\n",
    "Number of search results: {len(llm_result.rated_queries)}\n",
    "Average customer_relevance relevance: {np.mean([rated_result.customer_relevance for rated_result in llm_result.rated_queries]):.1f}\n",
    "Average company relevance: {np.mean([rated_result.company_relevance for rated_result in llm_result.rated_queries]):.1f}\n",
    "\"\"\")"
   ]
  },
  {
   "cell_type": "code",
   "execution_count": 130,
   "metadata": {},
   "outputs": [
    {
     "data": {
      "text/plain": [
       "12"
      ]
     },
     "execution_count": 130,
     "metadata": {},
     "output_type": "execute_result"
    }
   ],
   "source": [
    "link2query = {}\n",
    "\n",
    "for query, query_results in zip(queries, queries_results):\n",
    "    for query_result in query_results:\n",
    "        link2query[query_result.link] = query\n",
    "\n",
    "len(link2query)"
   ]
  },
  {
   "cell_type": "code",
   "execution_count": 131,
   "metadata": {},
   "outputs": [
    {
     "name": "stdout",
     "output_type": "stream",
     "text": [
      "# Customer-relevant search results\n",
      "\n",
      "\n",
      "\n",
      "## [The Downgrade to Omni : r/ChatGPTPro](https://www.reddit.com/r/ChatGPTPro/comments/1cxyxce/the_downgrade_to_omni/)\n",
      "May 23, 2024 ... 100 votes, 100 comments. I've been remarkably disappointed by Omni since it's drop. While I appreciate the new features, and how fast it is, ...\n",
      "\n",
      "Customer relevance: 5\n",
      "Company relevance: 4\n",
      "\n",
      "\n",
      "\n",
      "## [Powerscribe One -- are you for real? : r/Radiology](https://www.reddit.com/r/Radiology/comments/18bymqt/powerscribe_one_are_you_for_real/)\n",
      "Dec 6, 2023 ... Rad AI is mostly known for automatically generating Impressions and this September launched Omni Reporting which was designed by ...\n",
      "\n",
      "Customer relevance: 4\n",
      "Company relevance: 5\n",
      "\n",
      "\n",
      "\n",
      "## [Omni hotels system outage : r/hotels](https://www.reddit.com/r/hotels/comments/1brhte6/omni_hotels_system_outage/)\n",
      "Mar 30, 2024 ... Everyone has to be escorted to their room by an employee and the phones and Wi-Fi are down. Anyone else staying at an Omni that can confirm this ...\n",
      "\n",
      "Customer relevance: 2\n",
      "Company relevance: 1\n",
      "\n",
      "\n",
      "\n",
      "## [Is the Grey Matter DNA Asmuths? : r/Ben10](https://www.reddit.com/r/Ben10/comments/18oytib/is_the_grey_matter_dna_asmuths/)\n",
      "Dec 23, 2023 ... Graymatter/Ben understood what Rad's AI said immediately after transforming ... For all those people who say he'd beat omni man just by becoming a ...\n",
      "\n",
      "Customer relevance: 1\n",
      "Company relevance: 1\n",
      "\n",
      "\n",
      "\n",
      "## [Omni source code now available : r/kubernetes](https://www.reddit.com/r/kubernetes/comments/1be30qa/omni_source_code_now_available/)\n",
      "Mar 13, 2024 ... 29 votes, 19 comments. Omni is more or less an orchestration tool to be used with Talos to deploy and manage clusters.\n",
      "\n",
      "Customer relevance: 1\n",
      "Company relevance: 1\n",
      "\n",
      "\n",
      "\n",
      "## [Could Godzilla defeat Omni man? : r/GODZILLA](https://www.reddit.com/r/GODZILLA/comments/1b2piqe/could_godzilla_defeat_omni_man/)\n",
      "Feb 29, 2024 ... 290 votes, 168 comments. Me and my friends got into a argument on who could defeat Omni man and I said it's godzilla since there a bunch of ...\n",
      "\n",
      "Customer relevance: 1\n",
      "Company relevance: 1\n",
      "\n",
      "\n",
      "\n",
      "## [VKB Omni Hosas first impressions : r/hotas](https://www.reddit.com/r/hotas/comments/sxxp9b/vkb_omni_hosas_first_impressions/)\n",
      "Feb 21, 2022 ... I ordered the Gladiator NXT Omni throttle to go along with my NXT right stick. The grip came with the omni adapter already installed instead ...\n",
      "\n",
      "Customer relevance: 1\n",
      "Company relevance: 1\n",
      "\n",
      "\n",
      "\n",
      "## [Omni-Sterilizer + Transonic Cannon Mortal Wound Combo : r ...](https://www.reddit.com/r/AdeptusMechanicus/comments/14bmnhi/omnisterilizer_transonic_cannon_mortal_wound_combo/)\n",
      "Jun 17, 2023 ... The Omni-Sterilizer enhancement grant Anti-Infantry 2+ and anti monster 4+ as well as +3 attacks for ranged weapons on any Adeptus Mechanicus Character.\n",
      "\n",
      "Customer relevance: 1\n",
      "Company relevance: 1\n",
      "\n",
      "\n",
      "\n",
      "## [Lack of options for second Plasma Omni. : r/sto](https://www.reddit.com/r/sto/comments/os074e/lack_of_options_for_second_plasma_omni/)\n",
      "Jul 26, 2021 ... There are none available from Missions or Rep. The sole choice that remains is in Altamid Omni from the Lobi store. While that's not a bad Omni, ...\n",
      "\n",
      "Customer relevance: 1\n",
      "Company relevance: 1\n",
      "\n",
      "\n",
      "\n",
      "## [Just installed omni-throttle adaptors on my GNXT Left and Right. The ...](https://www.reddit.com/r/hotas/comments/t2c41c/just_installed_omnithrottle_adaptors_on_my_gnxt/)\n",
      "Feb 27, 2022 ... The Omni-Throttle adapter for the Gladiator NXT is not just an angled extension, it replaces the entire twist module at the base of the grip.\n",
      "\n",
      "Customer relevance: 1\n",
      "Company relevance: 1\n",
      "\n",
      "\n",
      "# Company-relevant search results\n",
      "\n",
      "\n",
      "\n",
      "## [Powerscribe One -- are you for real? : r/Radiology](https://www.reddit.com/r/Radiology/comments/18bymqt/powerscribe_one_are_you_for_real/)\n",
      "Dec 6, 2023 ... Rad AI is mostly known for automatically generating Impressions and this September launched Omni Reporting which was designed by ...\n",
      "\n",
      "Customer relevance: 4\n",
      "Company relevance: 5\n",
      "\n",
      "\n",
      "\n",
      "## [The Downgrade to Omni : r/ChatGPTPro](https://www.reddit.com/r/ChatGPTPro/comments/1cxyxce/the_downgrade_to_omni/)\n",
      "May 23, 2024 ... 100 votes, 100 comments. I've been remarkably disappointed by Omni since it's drop. While I appreciate the new features, and how fast it is, ...\n",
      "\n",
      "Customer relevance: 5\n",
      "Company relevance: 4\n",
      "\n",
      "\n",
      "\n",
      "## [Is the Grey Matter DNA Asmuths? : r/Ben10](https://www.reddit.com/r/Ben10/comments/18oytib/is_the_grey_matter_dna_asmuths/)\n",
      "Dec 23, 2023 ... Graymatter/Ben understood what Rad's AI said immediately after transforming ... For all those people who say he'd beat omni man just by becoming a ...\n",
      "\n",
      "Customer relevance: 1\n",
      "Company relevance: 1\n",
      "\n",
      "\n",
      "\n",
      "## [Omni source code now available : r/kubernetes](https://www.reddit.com/r/kubernetes/comments/1be30qa/omni_source_code_now_available/)\n",
      "Mar 13, 2024 ... 29 votes, 19 comments. Omni is more or less an orchestration tool to be used with Talos to deploy and manage clusters.\n",
      "\n",
      "Customer relevance: 1\n",
      "Company relevance: 1\n",
      "\n",
      "\n",
      "\n",
      "## [Could Godzilla defeat Omni man? : r/GODZILLA](https://www.reddit.com/r/GODZILLA/comments/1b2piqe/could_godzilla_defeat_omni_man/)\n",
      "Feb 29, 2024 ... 290 votes, 168 comments. Me and my friends got into a argument on who could defeat Omni man and I said it's godzilla since there a bunch of ...\n",
      "\n",
      "Customer relevance: 1\n",
      "Company relevance: 1\n",
      "\n",
      "\n",
      "\n",
      "## [VKB Omni Hosas first impressions : r/hotas](https://www.reddit.com/r/hotas/comments/sxxp9b/vkb_omni_hosas_first_impressions/)\n",
      "Feb 21, 2022 ... I ordered the Gladiator NXT Omni throttle to go along with my NXT right stick. The grip came with the omni adapter already installed instead ...\n",
      "\n",
      "Customer relevance: 1\n",
      "Company relevance: 1\n",
      "\n",
      "\n",
      "\n",
      "## [Omni-Sterilizer + Transonic Cannon Mortal Wound Combo : r ...](https://www.reddit.com/r/AdeptusMechanicus/comments/14bmnhi/omnisterilizer_transonic_cannon_mortal_wound_combo/)\n",
      "Jun 17, 2023 ... The Omni-Sterilizer enhancement grant Anti-Infantry 2+ and anti monster 4+ as well as +3 attacks for ranged weapons on any Adeptus Mechanicus Character.\n",
      "\n",
      "Customer relevance: 1\n",
      "Company relevance: 1\n",
      "\n",
      "\n",
      "\n",
      "## [Lack of options for second Plasma Omni. : r/sto](https://www.reddit.com/r/sto/comments/os074e/lack_of_options_for_second_plasma_omni/)\n",
      "Jul 26, 2021 ... There are none available from Missions or Rep. The sole choice that remains is in Altamid Omni from the Lobi store. While that's not a bad Omni, ...\n",
      "\n",
      "Customer relevance: 1\n",
      "Company relevance: 1\n",
      "\n",
      "\n",
      "\n",
      "## [Just installed omni-throttle adaptors on my GNXT Left and Right. The ...](https://www.reddit.com/r/hotas/comments/t2c41c/just_installed_omnithrottle_adaptors_on_my_gnxt/)\n",
      "Feb 27, 2022 ... The Omni-Throttle adapter for the Gladiator NXT is not just an angled extension, it replaces the entire twist module at the base of the grip.\n",
      "\n",
      "Customer relevance: 1\n",
      "Company relevance: 1\n",
      "\n",
      "\n",
      "\n",
      "## [Omni hotels system outage : r/hotels](https://www.reddit.com/r/hotels/comments/1brhte6/omni_hotels_system_outage/)\n",
      "Mar 30, 2024 ... Everyone has to be escorted to their room by an employee and the phones and Wi-Fi are down. Anyone else staying at an Omni that can confirm this ...\n",
      "\n",
      "Customer relevance: 2\n",
      "Company relevance: 1\n",
      "\n",
      "\n"
     ]
    }
   ],
   "source": [
    "print(\"\"\"# Customer-relevant search results\\n\\n\"\"\")\n",
    "\n",
    "for rated_result in sorted(llm_result.rated_queries, key=lambda x: x.customer_relevance, reverse=True)[:10]:\n",
    "    search_result = indexed_search_results[rated_result.result_number]\n",
    "    print(f\"\"\"\n",
    "## [{search_result.title}]({search_result.link})\n",
    "{search_result.snippet}\n",
    "\n",
    "Customer relevance: {rated_result.customer_relevance}\n",
    "Company relevance: {rated_result.company_relevance}\n",
    "\n",
    "\"\"\")\n",
    "\n",
    "print(\"\"\"# Company-relevant search results\\n\\n\"\"\")\n",
    "for rated_result in sorted(llm_result.rated_queries, key=lambda x: x.company_relevance, reverse=True)[:10]:\n",
    "    search_result = indexed_search_results[rated_result.result_number]\n",
    "    print(f\"\"\"\n",
    "## [{search_result.title}]({search_result.link})\n",
    "{search_result.snippet}\n",
    "\n",
    "Customer relevance: {rated_result.customer_relevance}\n",
    "Company relevance: {rated_result.company_relevance}\n",
    "\n",
    "\"\"\")\n"
   ]
  },
  {
   "cell_type": "code",
   "execution_count": null,
   "metadata": {},
   "outputs": [],
   "source": []
  },
  {
   "cell_type": "code",
   "execution_count": null,
   "metadata": {},
   "outputs": [],
   "source": []
  }
 ],
 "metadata": {
  "kernelspec": {
   "display_name": ".venv",
   "language": "python",
   "name": "python3"
  },
  "language_info": {
   "codemirror_mode": {
    "name": "ipython",
    "version": 3
   },
   "file_extension": ".py",
   "mimetype": "text/x-python",
   "name": "python",
   "nbconvert_exporter": "python",
   "pygments_lexer": "ipython3",
   "version": "3.10.12"
  }
 },
 "nbformat": 4,
 "nbformat_minor": 2
}
