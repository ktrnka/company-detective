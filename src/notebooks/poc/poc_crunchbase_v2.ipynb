{
 "cells": [
  {
   "cell_type": "markdown",
   "metadata": {},
   "source": [
    "# Crunchbase\n",
    "\n",
    "Attempting to use Crunchbase again now that Scrapfly has updated code for it"
   ]
  },
  {
   "cell_type": "code",
   "execution_count": 1,
   "metadata": {},
   "outputs": [],
   "source": [
    "# Let's get the same thing via our system\n",
    "from core import Seed, init\n",
    "\n",
    "init()\n",
    "target = Seed.init(\"Tesla\", domain=\"tesla.com\")"
   ]
  },
  {
   "cell_type": "code",
   "execution_count": 2,
   "metadata": {},
   "outputs": [
    {
     "name": "stdout",
     "output_type": "stream",
     "text": [
      "# Tesla, Inc., founded 2003-01-01 [(Crunchbase, 2024)](https://www.crunchbase.com/organization/tesla-motors)\n",
      "Tesla Motors specializes in developing a full range of electric vehicles. Tesla Motors was started by a group of Silicon Valley entrepreneurs and strives to create a revolution and accelerate the world’s transition to electric mobility with a full range of increasingly affordable electric cars. \n",
      "\n",
      "Tesla vehicles are EVs (electric vehicles), which are transforming the way people drive and move. Tesla has gone public as of June 29, 2010, and has a market cap of $34.32 billion. Tesla Motors’ goal is to increase the number and variety of EVs through three strategies. The first is to sell its own branded vehicle through its showrooms. The second is to sell premium, high-quality, patented electric components to other automakers. Lastly, it serves as a “catalyst and positive example to other automakers.” There has already been a movement in the EV market with the push of the GM Volt, rumored to have been inspired by the Tesla Roadster.\n",
      "\n",
      "- [Website](https://www.tesla.com)\n",
      "- [LinkedIn](http://www.linkedin.com/company/tesla-motors)\n",
      "- [Twitter](https://www.twitter.com/Tesla)\n",
      "\n",
      "\n",
      "## Funding (19374M USD total)\n",
      "\n",
      "- 159M USD on 2023-09-13\n",
      "- 0M USD on 2023-08-15\n",
      "- 20M USD on 2022-06-30\n",
      "- 5M USD on 2020-09-04\n",
      "- 565M USD on 2020-05-09\n",
      "- 1400M USD on 2019-12-23\n",
      "- 700M USD on 2019-10-06\n",
      "- 860M USD on 2019-05-14\n",
      "- 1840M USD on 2019-05-14\n",
      "- 520M USD on 2019-03-08\n",
      "\n",
      "\n",
      "\n",
      "## News\n",
      "\n",
      "- Tesla Superchargers Increase On The Road To SpaceX's Starbase Despite Global Slowdown In Deployment ([Anan Ashraf, 2024-10-14](https://www.benzinga.com/news/24/10/41308588/tesla-superchargers-increase-on-the-road-to-spacexs-starbase-despite-global-slowdown-in-deployment))\n",
      "- Tesla's Cybercab Reveal Gets Cool Reception ([MarketScreener, 2024-10-14](https://www.marketscreener.com/quote/stock/TESLA-INC-6344549/news/Tesla-s-Cybercab-Reveal-Gets-Cool-Reception-48067510/))\n",
      "- Tesla sparks excitement with announcement of new hands-free feature: 'I can't wait for this' ([Lindy Whitehouse, 2024-10-13](https://www.thecooldown.com/green-business/hands-free-frunk-opening-tesla-software-update/))\n",
      "- Bits & Bytes: Tesla unveils robotaxi, pledges it ‘before 2027’ ([Economic Times, 2024-10-13](https://economictimes.indiatimes.com/tech/technology/bits-bytes-tesla-unveils-robotaxi-pledges-it-before-2027/articleshow/114176868.cms))\n",
      "- Tesla's 'We, Robot' event disappoints expectations, says Morgan Stanley ([thefly.com, 2024-10-13](https://thefly.com/permalinks/entry.php/id3997353/TSLA-Teslas-We-Robot-event-disappoints-expectations-says-Morgan-Stanley))\n",
      "- Behind the Wheel: Ford F-150 Lightning vs. Tesla Cybertruck ([ASSOCIATED PRESS, 2024-10-12](https://www.toledoblade.com/business/automotive/2024/10/12/behind-wheel-ford-f-150-lightning-vs-tesla-cybertruck/stories/20241012008))\n",
      "- Apple officially cancels autonomous driving permit as Tesla unveils Cybercab ([Michael Burkhardt, 2024-10-12](https://9to5mac.com/2024/10/12/apple-car-autonomous-vehicle-permit-robotaxi/))\n",
      "- Tesla powers on $65 million Megapack project in Alaska ([Zachary Visconti, 2024-10-12](https://www.teslarati.com/tesla-65-million-megapack-alaska/))\n",
      "- A Tesla fan experiences the Cybercab for the first time — it's a smooth ride but he wouldn't necessarily buy one ([Tom Carter, 2024-10-12](https://www.businessinsider.com/tesla-elon-musk-fan-robotaxi-event-experiences-cybercab-2024-10))\n",
      "- Tesla hints at in-house LFP batteries with new job listing ([Zachary Visconti, 2024-10-12](https://www.teslarati.com/tesla-in-house-lfp-batteries-job/))\n",
      "\n"
     ]
    }
   ],
   "source": [
    "from data_sources.crunchbase import run\n",
    "\n",
    "tesla_md = await run(target)\n",
    "print(tesla_md)"
   ]
  },
  {
   "cell_type": "code",
   "execution_count": null,
   "metadata": {},
   "outputs": [],
   "source": []
  }
 ],
 "metadata": {
  "kernelspec": {
   "display_name": ".venv",
   "language": "python",
   "name": "python3"
  },
  "language_info": {
   "codemirror_mode": {
    "name": "ipython",
    "version": 3
   },
   "file_extension": ".py",
   "mimetype": "text/x-python",
   "name": "python",
   "nbconvert_exporter": "python",
   "pygments_lexer": "ipython3",
   "version": "3.10.12"
  }
 },
 "nbformat": 4,
 "nbformat_minor": 2
}
