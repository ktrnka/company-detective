{
 "cells": [
  {
   "cell_type": "markdown",
   "metadata": {},
   "source": [
    "# Web scraping tests\n",
    "\n",
    "A lot of overall program time is taken in sequential web scraping. If I could parallelize it, that would help tremendously. Similarly, a fair amount of time is spent in content extraction.\n",
    "\n",
    "To test:\n",
    "- Compare the content extractor I'm currently using vs Scrapfly's content extractor on some webpages\n",
    "- Compare the rough time it'd take to parallel scrape \"manually\" vs scrapfly at max concurrency\n",
    "- Estimate costs with scrapfly"
   ]
  },
  {
   "cell_type": "code",
   "execution_count": 4,
   "metadata": {},
   "outputs": [],
   "source": [
    "from core import Seed, init\n",
    "\n",
    "init()"
   ]
  },
  {
   "cell_type": "code",
   "execution_count": 5,
   "metadata": {},
   "outputs": [
    {
     "data": {
      "text/plain": [
       "[SearchResult(title='98point6 Technologies Announces the Acquisition of Bright.md to ...', link='https://www.prnewswire.com/news-releases/98point6-technologies-announces-the-acquisition-of-brightmd-to-accelerate-the-launch-of-its-asynchronous-care-module-302034295.html', snippet='Jan 16, 2024 ... PRNewswire/ -- 98point6 Technologies, a leader in licensed on-demand virtual care software, announced the addition of a new asynchronous module to its...', formattedUrl='https://www.prnewswire.com/news.../98point6-technologies-announces-the-...'),\n",
       " SearchResult(title='98point6 hit by new layoffs in latest change at health tech startup ...', link='https://www.geekwire.com/2024/98point6-hit-by-new-layoffs-in-latest-change-at-health-tech-startup/', snippet='Apr 23, 2024 ... (98point6 Photo) Seattle-based digital healthcare startup 98point6 has conducted a new round of layoffs, the company confirmed Tuesday. 98point6 did not.', formattedUrl='https://www.geekwire.com/.../98point6-hit-by-new-layoffs-in-latest-change...'),\n",
       " SearchResult(title=\"98point6 buys asynchronous telehealth company Bright.md's ...\", link='https://www.healthcaredive.com/news/98point6-buys-bright-md-assets/704661/', snippet=\"Jan 17, 2024 ... 98point6 Technologies purchased the remainder of asynchronous telehealth provider Bright.md's assets for an undisclosed sum, the virtual care software firm said\\xa0...\", formattedUrl='https://www.healthcaredive.com/news/98point6-buys-bright-md.../704661/'),\n",
       " SearchResult(title='News roundup: Transcarent raises $126M; 98point6 lays off; Oscar ...', link='https://telecareaware.com/news-roundup-transcarent-raises-126m-98point6-lays-off-oscar-notches-first-profit-steward-healths-ch-11-amazon-clinic-gm-leaves-amwells-down-but-hopeful-q1-hims-founder-gets-political/', snippet=\"May 8, 2024 ... News roundup: Transcarent raises $126M; 98point6 lays off; Oscar notches first profit; Steward Health's Ch. 11; Amazon Clinic GM leaves; Amwell's down but\\xa0...\", formattedUrl='https://telecareaware.com/news-roundup-transcarent-raises-126m-98point6-...'),\n",
       " SearchResult(title='Care enabler 98point6 acquires Bright.md assets', link='https://www.axios.com/pro/health-tech-deals/2024/01/16/98point6-acquires-brightmd-assets-telehealth-care-enablement', snippet=\"Jan 16, 2024 ... ... 98point6 bought telehealth company Bright.md's customers, CEO Jay Burrell tells Axios exclusively. Why it matters: The deal will let 98point6's provider\\xa0...\", formattedUrl='https://www.axios.com/.../98point6-acquires-brightmd-assets-telehealth-care...'),\n",
       " SearchResult(title='98point6 - Overview, News & Similar companies | ZoomInfo.com', link='https://www.zoominfo.com/c/98point6-inc/410028689', snippet=\"Feb 29, 2024 ... Founded in 2015, 98point6 is an on-demand, text-based, virtual primary care clinic. 98point6 is headquartered in Seattle, Washington. 98point6's Social Media.\", formattedUrl='https://www.zoominfo.com/c/98point6-inc/410028689'),\n",
       " SearchResult(title='Inside Telehealth - The Official SteadyMD Blog | SteadyMD', link='http://www.steadymd.com/blog/', snippet='May 6, 2024 ... October 9, 2023. SteadyMD News · 98point6 Technologies Collaborates with SteadyMD to Offer Comprehensive Virtual Care Solution to Healthcare Organizations.', formattedUrl='http://www.steadymd.com/blog/'),\n",
       " SearchResult(title='98point6 Company Profile 2024: Valuation, Investors, Acquisition ...', link='https://pitchbook.com/profiles/company/163535-95', snippet='Jan 16, 2024 ... Information on acquisition, funding, cap tables, investors, and executives for 98point6. Use the PitchBook Platform to explore the full profile.', formattedUrl='https://pitchbook.com/profiles/company/163535-95'),\n",
       " SearchResult(title='Healthcare IT News and Opinion - Part 59 - HIStalk', link='https://histalk2.com/page/59/?S=cerner%20', snippet='Sep 6, 2024 ... Morning Headlines 3/7/23. March 6, 2023. Transcarent To Acquire Part Of AI-Powered 98point6 In $100 Million … I like thisUnlike\\xa0...', formattedUrl='https://histalk2.com/page/59/?S=cerner%20'),\n",
       " SearchResult(title='Gaurai Uddanwadiker', link='https://hspop.uw.edu/about/faculty/member/?faculty_id=Uddanwadiker_Gaurai', snippet='Mar 24, 2024 ... Her next role was at the Seattle based virtual primary care company, 98point6, where she scaled their local clinic to a nationwide, 24/7 presence as well as\\xa0...', formattedUrl='https://hspop.uw.edu/about/faculty/member/?faculty_id=Uddanwadiker...')]"
      ]
     },
     "execution_count": 5,
     "metadata": {},
     "output_type": "execute_result"
    }
   ],
   "source": [
    "target = Seed.init(\"98point6\")\n",
    "\n",
    "from data_sources.news.search import find_news_articles\n",
    "search_results = find_news_articles(target, num_results=10)\n",
    "search_results"
   ]
  },
  {
   "cell_type": "code",
   "execution_count": 6,
   "metadata": {},
   "outputs": [
    {
     "data": {
      "text/plain": [
       "SearchResult(title='Gaurai Uddanwadiker', link='https://hspop.uw.edu/about/faculty/member/?faculty_id=Uddanwadiker_Gaurai', snippet='Mar 24, 2024 ... Her next role was at the Seattle based virtual primary care company, 98point6, where she scaled their local clinic to a nationwide, 24/7 presence as well as\\xa0...', formattedUrl='https://hspop.uw.edu/about/faculty/member/?faculty_id=Uddanwadiker...')"
      ]
     },
     "execution_count": 6,
     "metadata": {},
     "output_type": "execute_result"
    }
   ],
   "source": [
    "result = search_results[9]\n",
    "result"
   ]
  },
  {
   "cell_type": "code",
   "execution_count": 4,
   "metadata": {},
   "outputs": [
    {
     "name": "stdout",
     "output_type": "stream",
     "text": [
      "# [Health Systems and Population Health on 2023-06-17](https://hspop.uw.edu/about/faculty/member/?faculty_id=Uddanwadiker_Gaurai)\n",
      "Research Interests\n",
      "\n",
      "Healthcare Operations and Strategy, Leadership Development\n",
      "\n",
      "Bio\n",
      "\n",
      "Gaurai has 20+ years of experience in the healthcare industry and excels at the intersection of technology, healthcare operations, care delivery and clinical quality. She believes in developing leaders and firing herself from the job.\n",
      "\n",
      "Gaurai started off a therapist at an academic medical center in Bangalore, India but soon decided to pursue an entrepreneurial path and founded Counseling India, in 2002. She was instrumental in scaling it to multiple locations and adding on the telehealth care delivery service model. Her entrepreneurial journey reached a successful culmination in 2016 when she made a strategic exit after selling her company.\n",
      "\n",
      "Her next role was at the Seattle based virtual primary care company, 98point6, where she scaled their local clinic to a nationwide, 24/7 presence as well as expanded their behavioral health offering across all US states. She established and grew multiple verticals to support the company’s sustainable growth- Capacity Operations, Provider and Health plan Operations, Clinical and Customer Support and Care Coordination services; while leading a team of 250+ physicians and BH clinicians.\n",
      "\n",
      "In her recent role at Cerebral, she grew the clinical and operational systems to support 2800+ BH clinicians. She led multiple strategic initiatives in the service of improving unit economics that led to significant reduction of operational spend while reducing regrettable clinician churn and improving clinician NPS.\n",
      "\n",
      "Gaurai combines her passions around healthcare strategy, operations and leadership development by teaching at the University of Washington MHA program.\n",
      "\n",
      "Education\n",
      "\n",
      "Executive MHA Health Care Administration, University of Washington, 2017\n",
      "\n",
      "Master’s Psychology, University of Madras (India), 2008\n",
      "\n",
      "Certificate Health Counseling, Harvard Medical School, 2007\n",
      "\n",
      "Postgraduate Diploma Promotive & Preventive Healthcare, Apollo Hospitals Educational and Research Foundation, 2006\n",
      "\n",
      "Postgraduate Diploma Occupational Therapy, All-India Institute of Physical Medicine and Rehabilitation, 1999\n",
      "\n",
      "Bachelor Degree Occupational Therapy, Government Medical College, 1997\n",
      "\n",
      "Academic Programs and Affiliations\n"
     ]
    }
   ],
   "source": [
    "# The existing pipeline: Get one article, extract, and markdown\n",
    "from utils.scrape import request_article, response_to_article, article_to_markdown\n",
    "\n",
    "# Fetch everything\n",
    "response = request_article(result.link)\n",
    "response.raise_for_status()\n",
    "\n",
    "# Parse into Article objects\n",
    "article = response_to_article(response)\n",
    "\n",
    "# Convert into Markdown\n",
    "markdown = article_to_markdown(article)\n",
    "\n",
    "print(markdown)\n"
   ]
  },
  {
   "cell_type": "code",
   "execution_count": null,
   "metadata": {},
   "outputs": [],
   "source": [
    "len(markdown)"
   ]
  },
  {
   "cell_type": "code",
   "execution_count": 22,
   "metadata": {},
   "outputs": [],
   "source": [
    "from scrapfly import ScrapeApiResponse, ScrapeConfig, ScrapflyClient, ScrapflyScrapeError, ScrapflyError\n",
    "from scrapfly.scrape_config import Format, FormatOption\n",
    "import os\n",
    "\n",
    "SCRAPFLY = ScrapflyClient(key=os.environ[\"SCRAPFLY_KEY\"])\n",
    "config = {\n",
    "    # \"asp\": True,\n",
    "    \"country\": \"us\",\n",
    "    # \"proxy_pool\": \"public_residential_pool\",\n",
    "    \"retry\": False,\n",
    "    \"cache\": True,\n",
    "    \"format\": Format.MARKDOWN,\n",
    "    \"format_options\": [FormatOption.NO_IMAGES, FormatOption.NO_LINKS],\n",
    "    # TO CONSIDER\n",
    "    # session = value (this will reuse the same machine for subsequent requests due to sticky_proxy, but disables caching)\n",
    "    # render_js = True (this will render the page with a headless browser and might help sometimes)\n",
    "}\n",
    "scrapfly_result = await SCRAPFLY.async_scrape(ScrapeConfig(url=result.link, **config))"
   ]
  },
  {
   "cell_type": "code",
   "execution_count": null,
   "metadata": {},
   "outputs": [],
   "source": [
    "print(scrapfly_result.content)"
   ]
  },
  {
   "cell_type": "code",
   "execution_count": null,
   "metadata": {},
   "outputs": [],
   "source": [
    "len(scrapfly_result.content)"
   ]
  },
  {
   "cell_type": "markdown",
   "metadata": {},
   "source": [
    "# Concurrent scraping"
   ]
  },
  {
   "cell_type": "code",
   "execution_count": 4,
   "metadata": {},
   "outputs": [
    {
     "data": {
      "text/plain": [
       "[<scrapfly.api_response.ScrapeApiResponse at 0x7fbe3f40de40>,\n",
       " <scrapfly.api_response.ScrapeApiResponse at 0x7fbe3f43f7f0>,\n",
       " <scrapfly.api_response.ScrapeApiResponse at 0x7fbe3f40f580>,\n",
       " <scrapfly.api_response.ScrapeApiResponse at 0x7fbe3f459330>,\n",
       " <scrapfly.api_response.ScrapeApiResponse at 0x7fbe3f43f8b0>,\n",
       " <scrapfly.api_response.ScrapeApiResponse at 0x7fbe3f43fe50>,\n",
       " <scrapfly.api_response.ScrapeApiResponse at 0x7fbe3f40e8c0>,\n",
       " <scrapfly.api_response.ScrapeApiResponse at 0x7fbe3f43f730>,\n",
       " <scrapfly.api_response.ScrapeApiResponse at 0x7fbe3f40f1f0>,\n",
       " <scrapfly.api_response.ScrapeApiResponse at 0x7fbe3f45a7a0>]"
      ]
     },
     "execution_count": 4,
     "metadata": {},
     "output_type": "execute_result"
    }
   ],
   "source": [
    "# With Scrapfly: Concurrently scrape all 10\n",
    "from scrapfly import ScrapeApiResponse, ScrapeConfig, ScrapflyClient, ScrapflyScrapeError, ScrapflyError\n",
    "from scrapfly.scrape_config import Format, FormatOption\n",
    "import os\n",
    "\n",
    "SCRAPFLY = ScrapflyClient(key=os.environ[\"SCRAPFLY_KEY\"], max_concurrency=5)\n",
    "config = {\n",
    "    \"country\": \"us\",\n",
    "    \"retry\": False,\n",
    "    \"cache\": True,\n",
    "    \"format\": Format.MARKDOWN,\n",
    "    \"format_options\": [FormatOption.NO_IMAGES, FormatOption.NO_LINKS],\n",
    "}\n",
    "\n",
    "pages = [\n",
    "    ScrapeConfig(url=search_result.link, **config)\n",
    "    for search_result in search_results\n",
    "]\n",
    "\n",
    "# Collect results from the async generator\n",
    "scrapfly_results = [result async for result in SCRAPFLY.concurrent_scrape(pages)]\n",
    "\n",
    "scrapfly_results\n",
    "\n",
    "# The Kernel crashed while executing code in the current cell or a previous cell. \n",
    "# Please review the code in the cell(s) to identify a possible cause of the failure. \n",
    "# Click here for more info. \n",
    "# View Jupyter log for further details."
   ]
  },
  {
   "cell_type": "code",
   "execution_count": 7,
   "metadata": {},
   "outputs": [
    {
     "data": {
      "text/plain": [
       "\"# 98point6\\n\\nHealthcare Software · Washington, United States · 120 Employees \\n\\nView Company Info for Free \\n\\n## About\\n\\n### Headquarters\\n\\n701 5th Ave Ste 2300, Seattle, Washington, 9810... \\n\\n### Phone Number\\n\\n(866) 657-7991 \\n\\n### Website\\n\\nwww.98point6.com \\n\\n### Revenue\\n\\n$25.2 Million \\n\\n### Industry\\n\\nHealthcare Software  Software Development & Design  Software \\n\\n## Most Recent Scoops\\n\\nMar 1 2024 \\n\\nLeft Company \\n\\nSep 11 2023 \\n\\nEvent \\n\\nwill be attending the HLTC 2023 conference as an exhibitor. The event will occur from October 8 to October 11, 2023. \\n\\nSee all scoops \\n\\n## Highlights\\n\\n$293M \\n\\nTotal Funding Amount \\n\\n$30.7M \\n\\nMost Recent Funding Amount \\n\\n8 \\n\\nNumber of Funding Rounds \\n\\nView details \\n\\n## Who is 98point6\\n\\nFounded in 2015, 98point6 is an on-demand, text-based, virtual primary care clinic. 98point6 is headquartered in Seattle, Washington. \\n\\n98point6's Social Media \\n\\nIs this data correct?  View contact profiles from 98point6 \\n\\nPopular Searches  98Point6 Inc  98point6 Physicians PC  98point6  98point6 New Jersey Physicians PC  98point6 California Physicians PC  SIC Code 73,737  NAICS Code 51,518  Show more \\n\\n## 98point6 Org Chart\\n\\nPhone  Email \\n\\nAngelo Gray \\n\\nChief Financial Officer \\n\\nPhone  Email \\n\\nJud Heugel \\n\\nChief Medical Officer \\n\\nPhone  Email \\n\\nPhone  Email \\n\\nSee Full Org Chart \\n\\n## Is 98point6 your ideal customer?\\n\\nLet us give you the heads up on whether it's a good time to reach out \\n\\nLast 7 days \\n\\nProduct Launch: Get notified when  98point6  launches new products \\n\\nClick to see if  98point6  had a recent Job posting/layoffs \\n\\nWebsite visits: Recent activity has been detected on your website \\n\\nCompetitive Alert! Recent activity has been detected by your competitor  Masked Content \\n\\n98point6  , which may be a good buyer, showed buying intent in  Masked Content  Topic \\n\\nFunding: Get notified immidiatlly once  98point6  has new funding data \\n\\nCheck out if  98point6  is spiking on competitors! \\n\\nCongratulate  Masked Content  for being promoted to  Masked Content  at  98point6 \\n\\nEarning: See what the market has to say on  98point6  recently announced quarterly report \\n\\nCheck if  98point6  has recently received funding, and reach out quickly before it becomes old news! \\n\\nRecommended Actions \\n\\nIntroduce yourself to  Masked Content  , who has shown a strong intent to purchase lately \\n\\nSend Email \\n\\nFind 3 more new buyers \\n\\nFind Buyers \\n\\n## Similar Companies to 98point6\\n\\nAnalyze insights from companies similar to 98point6 and make strategic comparisons based on performance, financial data, growth and unique benchmarks. \\n\\n1. Rhinogram  37  $7.8M \\n2. HealthEC  343  $23M \\n3. Entelmed <25 <$5M \\n4. Innovaccer  1,200  $252.1M \\n5. Curago Health <25 <$5M \\n6. OhMD  49  $18.2M \\n7. HealthTap  154  $65M \\n8. Heudia <25 <$5M \\n9. More similar companies \\n\\n\\nSee more companies \\n\\nView Email Formats for 98point6 \\n\\n## 98point6 financials insights\\n\\nGather financial insights about 98point6, including details on funding rounds, investors, total funding, and acquisitions, to gain a comprehensive understanding of their financial strategy. \\n\\nSee All Financials Insights \\n\\n## 98point6 Employee Growth Rate\\n\\nView  98point6’s  full employee growth data \\n\\nGet Full Access \\n\\nPercentage of growth \\n\\n1st year  Mask \\n\\n2nd year  Mask \\n\\n## 98point6 Tech Stack\\n\\nA closer look at the technologies used by 98point6 \\n\\nFacebook Web Custom Audiences \\n\\nBy \\n\\nFacebook \\n\\nFacebook Pixel \\n\\nBy \\n\\nFacebook \\n\\nWordPress.org \\n\\nBy \\n\\nAutomattic \\n\\nPHP \\n\\nBy \\n\\nPHP \\n\\nSee more technologies \\n\\n## Most Recent Scoops\\n\\nMar 1 2024 \\n\\nLeft Company \\n\\nSee Scoop \\n\\nJan 16 2024 \\n\\nMergers & Acquisitions (M&A) \\n\\nSee Scoop \\n\\nSep 11 2023 \\n\\nEvent \\n\\nwill be attending the HLTC 2023 conference as an exhibitor. The event will occur from October 8 to October 11, 2023. \\n\\nEvents \\n\\nApr 18 2023 \\n\\nFunding \\n\\n, a primary care service and telemedicine platform provider, has secured $30.7 million in additional funding. The round was co-led by investors L Catterton and Activant Capital, with participation from Transcarent. \\n\\nMar 6 2023 \\n\\nMergers & Acquisitions (M&A) \\n\\n98point6 has entered into an agreement to be acquired by Transcarent. \\n\\nSee more scoops \\n\\n## 98point6 News&Media\\n\\n* ### Digital health startup 98point6 raises more cash to fuel new era as a software licensor Healthcare company 98point6 landed additional investment to support its transition to a licensor of virtual care solutions, following a move to offload parts of its business. The fresh funding comes after the Seattle startup announced plans in March to sell its virtual care platform and primary care business to San Francisco-based startup Transcarent for $100 million in cash and equity. A SEC filing related to the funding shows $30.7 million raised through a blend of debt and options.  Apr 18, 2023  www.geekwire.com \\n* ### Seattle healthcare startup 98point6 selling part of its business for $100M to Transcarent Healthcare company 98point6 is selling a portion of its business to San Francisco-based startup Transcarent for $100 million in cash and equity. The deal will include the virtual care platform and primary care business of Seattle-based 98point6, which provides care in all 50 states. The transaction is expected to close March 31. 98point6 connects users in real-time to its doctors alongside an AI-powered chatbot, texts, and digital images. Its customers include corporations such as Boeing,  Mar 6, 2023  www.geekwire.com \\n* ### Transcarent to Acquire 98point6 AI-Powered Virtual Care Platform and Care Business PALO ALTO, Calif.--(BUSINESS WIRE)--Transcarent, a health and care experience company that makes it easy for people to access high-quality, affordable care announced plans to acquire the leading AI-powered virtual care platform and care business of on-demand primary care company, 98point6. The acquisition gives Transcarent access to the leading AI-powered virtual care technology and an affiliated medical group of providers skilled at delivering high-quality, on-demand care. Since 2015, 98point6  Mar 6, 2023  www.businesswire.com \\n* ### 98point6 Lands $118M to Expand Text-Based Primary Care Platform On-demand text-based primary care platform 98point6 raises $118M in Series E funding to further invest in research and development.  Oct 15, 2020  hitconsultant.net \\n* ### Virtual primary care startup 98point6 raises $118M as pandemic sparks demand for digital health tech Demand is through the roof for Seattle telemedicine startup 98point6. The company, which helps facilitate virtual primary care appointments, has seen its membership base skyrocket 274% this year as people look for medical advice without going to a physical doctor’s office during the pandemic. Now the startup is fueling up its tank to support that growth, raising a $118 million Series E round led by private equity giant L Catterton and late-stage investment firm Activant  Oct 15, 2020  www.geekwire.com \\n\\n\\nRead more news \\n\\n## Top Companies in United States\\n\\n### Top 10 companies in United States by revenue\\n\\n1 \\n\\nWalmart \\n\\n2 \\n\\nRCS Logistics \\n\\nView Full List \\n\\n### Top 10 companies in United States by number of employees\\n\\n1 \\n\\nWalmart \\n\\n2 \\n\\nAmazon \\n\\nView Full List \\n\\n### Top 10 companies in United States by total funding amount\\n\\n1 \\n\\nAmerican Airlines \\n\\n2 \\n\\nT-Mobile \\n\\nView Full List \\n\\nSee top companies \\n\\n## Frequently Asked Questions Regarding 98point6\\n\\nWhere is 98point6 located? \\n\\n98point6's headquarters are located at 701 5th Ave Ste 2300, Seattle, Washington, 98104, United States  What is 98point6's phone number? \\n\\n98point6's phone number is (866) 657-7991  What is 98point6's official website? \\n\\n98point6's official website is www.98point6.com  What is 98point6's Revenue? \\n\\n98point6's revenue is $25.2 Million  What is 98point6's SIC code? \\n\\n98point6's SIC: 73,737  What is 98point6's NAICS code? \\n\\n98point6's NAICS: 51,518  How many employees does 98point6 have? \\n\\n98point6 has 120 employees  What industry does 98point6 belong to? \\n\\n98point6 is in the industry of:  Healthcare Software  ,  Software Development & Design  ,  Software  What is 98point6 competition? \\n\\n98point6 top competitors include:  Rhinogram  ,  HealthEC  ,  Entelmed  ,  Innovaccer  What companies has 98point6 acquired? \\n\\n98point6 has acquired the companies: 98point6, Bright.md  What technology does 98point6 use? \\n\\nSome of the popular technologies that 98point6 uses are: Facebook Web Custom Audiences, Facebook Pixel, WordPress.org, PHP  Who is the CFO of 98point6? \\n\\n98point6's CFO is  Angelo Gray  How do I contact 98point6? \\n\\n98point6 contact info: Phone number: (866) 657-7991 Website: www.98point6.com  What does 98point6 do? \\n\\nFounded in 2015, 98point6 is an on-demand, text-based, virtual primary care clinic. 98point6 is headquartered in Seattle, Washington....  Read More \\n\\nWhat are 98point6 social media links? \\n\\n98point6  Linkedin  page 98point6  Twitter  page 98point6  Facebook  page  How much funding has 98point6 raised to date? \\n\\n98point6 has raised $293 Million in 8 funding rounds  When was the last funding round for 98point6? \\n\\n98point6 closed its last funding round on Apr 18, 2023 with the amount of $30.7 Million  Who invested in 98point6? \\n\\n98point6 has 13 investors including L Catterton Management Limited, Activant Capital Group LLC, Goldman , Sachs & Co. and Goldman Sachs Group.  Is 98point6 a public company? \\n\\n98point6 is private company therefore does not currently have an official ticker symbol \\n\\nSee more information about 98point6 \\n\\n## Get Started with ZoomInfo\\n\\n### Sign Up for Free\\n\\nGet started for free! No credit card needed. Enjoy up to 25 free contacts each month at no cost. \\n\\n### Supercharge Your Prospecting\\n\\nSearch ZoomInfo's database of 106M+ companies and 140M+ professionals to find your next lead. \\n\\n### Grow Your Business\\n\\nReveal both personal and business contact details, including emails and phone numbers, and close your most valuable buyers. \\n\\nSign Up for Free \\n\\n## Test Drive ZoomInfo's Directories\\n\\nBrowse Directories \\n\\nPEOPLE SEARCH \\n\\nBoston  New York City  Houston  Chicago  Los Angeles  Atlanta \\n\\nCOMPANY SEARCH \\n\\nBoston  New York City  Houston  Chicago  Los Angeles  Atlanta \\n\\n\""
      ]
     },
     "execution_count": 7,
     "metadata": {},
     "output_type": "execute_result"
    }
   ],
   "source": [
    "scrapfly_results[5].content"
   ]
  },
  {
   "cell_type": "code",
   "execution_count": 7,
   "metadata": {},
   "outputs": [
    {
     "data": {
      "text/plain": [
       "defaultdict(list,\n",
       "            {'www.prnewswire.com': ['https://www.prnewswire.com/news-releases/98point6-technologies-announces-the-acquisition-of-brightmd-to-accelerate-the-launch-of-its-asynchronous-care-module-302034295.html'],\n",
       "             'www.geekwire.com': ['https://www.geekwire.com/2024/98point6-hit-by-new-layoffs-in-latest-change-at-health-tech-startup/'],\n",
       "             'www.healthcaredive.com': ['https://www.healthcaredive.com/news/98point6-buys-bright-md-assets/704661/'],\n",
       "             'telecareaware.com': ['https://telecareaware.com/news-roundup-transcarent-raises-126m-98point6-lays-off-oscar-notches-first-profit-steward-healths-ch-11-amazon-clinic-gm-leaves-amwells-down-but-hopeful-q1-hims-founder-gets-political/'],\n",
       "             'www.axios.com': ['https://www.axios.com/pro/health-tech-deals/2024/01/16/98point6-acquires-brightmd-assets-telehealth-care-enablement'],\n",
       "             'www.zoominfo.com': ['https://www.zoominfo.com/c/98point6-inc/410028689'],\n",
       "             'www.steadymd.com': ['http://www.steadymd.com/blog/'],\n",
       "             'pitchbook.com': ['https://pitchbook.com/profiles/company/163535-95'],\n",
       "             'histalk2.com': ['https://histalk2.com/page/59/?S=cerner%20'],\n",
       "             'hspop.uw.edu': ['https://hspop.uw.edu/about/faculty/member/?faculty_id=Uddanwadiker_Gaurai']})"
      ]
     },
     "execution_count": 7,
     "metadata": {},
     "output_type": "execute_result"
    }
   ],
   "source": [
    "from typing import List, Dict\n",
    "from collections import defaultdict\n",
    "from urllib.parse import urlparse\n",
    "\n",
    "def group_urls_by_domain(urls: List[str]) -> Dict[str, List[str]]:\n",
    "    grouped_urls = defaultdict(list)\n",
    "    for url in urls:\n",
    "        domain = urlparse(url).netloc\n",
    "        grouped_urls[domain].append(url)\n",
    "    return grouped_urls\n",
    "\n",
    "group_urls_by_domain([sr.link for sr in search_results])"
   ]
  },
  {
   "cell_type": "code",
   "execution_count": 12,
   "metadata": {},
   "outputs": [
    {
     "data": {
      "text/plain": [
       "'# [98point6 Technologies Announces the Acquisition of Bright.md to Accelerate the Launch of its Asynchronous Care Module on 2024-01-16](https://www.prnewswire.com/news-releases/98point6-technologies-announces-the-acquisition-of-brightmd-to-accelerate-the-launch-of-its-asynchronous-care-module-302034295.html)\\nNew Module to Offer More Robust Integrated Virtual Care Delivery Options\\n\\nSEATTLE, Jan. 16, 2024 /PRNewswire/ -- 98point6 Technologies, a leader in licensed on-demand virtual care software, announced the addition of a new asynchronous module to its flagship technology, allowing providers the option of delivering both live and asynchronous care capabilities. By enabling healthcare organizations to license this additional model of care delivery, 98point6 once again sets the bar with an integrated, purpose-built clinician solution that future-proofs virtual clinic operations. In related news, the company announced it has doubled-down on its growth strategy, acquiring the remaining assets of Bright.md following the sale of its technology to Evernorth, and continuing to service long-time customers Baptist Health, UAB Medicine and 14 others.\\n\\nThe Balancing Act: Addressing Clinician Burnout and Patient Preferences\\n\\nClinician burnout is rampant, with over 45% of healthcare workers feeling burnout often or very often. Meanwhile, patients are embracing digital solutions: 64% want to receive some, most, or all of their health care virtually or online in the future. By giving providers the flexibility to support multiple modes of digitally communicating with patients based on their lifestyle and care preferences, 98point6\\'s asynchronous virtual care module helps mitigate clinician burnout while enhancing the patient experience.\\n\\n\"In more than two years on the platform, Bright.md exceeded our high expectations for an asynchronous digital health partner,\" said Brett Oliver, MD, Chief Medical Information Officer at Baptist Health. \"As our patient and clinician needs evolve, we look forward to establishing a new partnership with 98point6 Technologies to extend our patient offerings, drive operational efficiencies and further advance our mission of providing innovative, quality care to the people of Kentucky and southern Indiana.\"\\n\\nAsynchronous care delivery represents the next service offering for 98point6 and a commitment to growth since launching as a licensed software provider last year. The async software offering enables providers to respond when their schedule allows, backed by a solution that takes clinical decision support to the next level. The robust technology deploys machine learning models to establish an intelligent engine that supports providers with intake, diagnosis, and care documentation. Developed by a team with a proven track record of building and managing a successful nationwide virtual clinic serving millions of patients, the module paves the way for further innovations.\\n\\n\"Our mission at 98point6 is to build market leading technology that empowers healthcare providers with the tools they need to broaden access, enhance patient engagement, and achieve cost savings through greater provider efficiency,\" said Jay Burrell, CEO of 98point6 Technologies. \"With the Bright.md acquisition we are dramatically accelerating our efforts to offer a robust, multi-functional virtual care software platform and it\\'s a tremendous opportunity to engage with these 16 innovative health systems.\"\\n\\nFor more information on the new asynchronous offering, visit 98point6.com.\\n\\nAbout 98point6 Technologies\\n\\n98point6 Technologies builds and licenses software to power exceptional virtual care experiences for providers and patients based on years of clinical use across millions of patients. Its flagship 98point6 Technology Platform consists of turnkey, cloud-based software that harnesses the power of artificial intelligence bundled with time-tested, automated practice standards and electronic health record (EHR) integration. Their solutions include a physician-facing Clinician Console, white-labled patient-facing app and professional support services. Available as licensed software, the 98point6 Technology Platform empowers health systems to create and grow premium virtual care offerings in a rapidly evolving and competitive healthcare marketplace. To learn more about 98point6 Technologies, visit www.98point6.com.\\n\\nMedia contact:\\n\\n[email protected]\\n\\nSOURCE 98point6 Technologies'"
      ]
     },
     "execution_count": 12,
     "metadata": {},
     "output_type": "execute_result"
    }
   ],
   "source": [
    "from itertools import chain\n",
    "import asyncio\n",
    "from typing import List, Dict\n",
    "import aiohttp\n",
    "import newspaper\n",
    "from utils.scrape import remove_img_tags, article_to_markdown\n",
    "\n",
    "async def response_to_article(\n",
    "    response,\n",
    ") -> newspaper.Article:\n",
    "    \"\"\"Parse the response from a URL into a newspaper Article\"\"\"\n",
    "    article = newspaper.article(\n",
    "        response.url.absolute,\n",
    "        language=\"en\",\n",
    "        # Remove images to prevent downloading them (the downloads sometimes crash, and they slow things down)\n",
    "        input_html=remove_img_tags(await response.text()),\n",
    "        fetch_images=False,\n",
    "    )\n",
    "    article.parse()\n",
    "    return article\n",
    "\n",
    "async def fetch_articles(urls: List[str], headers: Dict[str, str]) -> List[str]:\n",
    "    articles = []\n",
    "    async with aiohttp.ClientSession(headers=headers) as session:\n",
    "        for url in urls:\n",
    "            async with session.get(url) as response:\n",
    "                if response.ok:\n",
    "                    article = newspaper.article(\n",
    "                        url,\n",
    "                        language=\"en\",\n",
    "                        # Remove images to prevent downloading them (the downloads sometimes crash, and they slow things down)\n",
    "                        input_html=remove_img_tags(await response.text()),\n",
    "                        fetch_images=False,\n",
    "                    )\n",
    "                    article.parse()\n",
    "                                    # article = await response_to_article(response)\n",
    "                    markdown = article_to_markdown(article)\n",
    "                    articles.append(markdown)\n",
    "\n",
    "    return articles\n",
    "\n",
    "async def main(search_results: List, headers: Dict[str, str]) -> List[str]:\n",
    "    # Group URLs by domain\n",
    "    grouped_urls = group_urls_by_domain([sr.link for sr in search_results])\n",
    "    \n",
    "    # Create tasks for each domain\n",
    "    tasks = [fetch_articles(urls, headers) for urls in grouped_urls.values()]\n",
    "    \n",
    "    # Run tasks concurrently\n",
    "    results = await asyncio.gather(*tasks)\n",
    "    \n",
    "    # Flatten the results\n",
    "    flattened_results = list(chain.from_iterable(results))\n",
    "    return flattened_results\n",
    "\n",
    "# Example headers\n",
    "headers = {\n",
    "    \"User-Agent\": \"Mozilla/5.0 (Windows NT 10.0; Win64; x64) AppleWebKit/537.36 (KHTML, like Gecko) Chrome/58.0.3029.110 Safari/537.3\"\n",
    "}\n",
    "\n",
    "# Run the async main function\n",
    "articles = await main(search_results, headers)\n",
    "articles[0]\n",
    "# Convert to Markdown\n",
    "# markdowns = [article_to_markdown(article) for article in articles]\n",
    "\n",
    "# markdowns[0]"
   ]
  },
  {
   "cell_type": "code",
   "execution_count": 17,
   "metadata": {},
   "outputs": [
    {
     "name": "stdout",
     "output_type": "stream",
     "text": [
      "# [98point6 Technologies Announces the Acquisition of Bright.md to Accelerate the Launch of its Asynchronous Care Module on 2024-01-16](https://www.prnewswire.com/news-releases/98point6-technologies-announces-the-acquisition-of-brightmd-to-accelerate-the-launch-of-its-asynchronous-care-module-302034295.html)\n",
      "New Module to Offer More Robust Integrated Virtual Care Delivery Options\n",
      "\n",
      "SEATTLE, Jan. 16, 2024 /PRNewswire/ -- 98point6 Technologies, a leader in licensed on-demand virtual care software, announced the addition of a new asynchronous module to its flagship technology, allowing providers the option of delivering both live and asynchronous care capabilities. By enabling healthcare organizations to license this additional model of care delivery, 98point6 once again sets the bar with an integrated, purpose-built clinician solution that future-proofs virtual clinic operations. In related news, the company announced it has doubled-down on its growth strategy, acquiring the remaining assets of Bright.md following the sale of its technology to Evernorth, and continuing to service long-time customers Baptist Health, UAB Medicine and 14 others.\n",
      "\n",
      "The Balancing Act: Addressing Clinician Burnout and Patient Preferences\n",
      "\n",
      "Clinician burnout is rampant, with over 45% of healthcare workers feeling burnout often or very often. Meanwhile, patients are embracing digital solutions: 64% want to receive some, most, or all of their health care virtually or online in the future. By giving providers the flexibility to support multiple modes of digitally communicating with patients based on their lifestyle and care preferences, 98point6's asynchronous virtual care module helps mitigate clinician burnout while enhancing the patient experience.\n",
      "\n",
      "\"In more than two years on the platform, Bright.md exceeded our high expectations for an asynchronous digital health partner,\" said Brett Oliver, MD, Chief Medical Information Officer at Baptist Health. \"As our patient and clinician needs evolve, we look forward to establishing a new partnership with 98point6 Technologies to extend our patient offerings, drive operational efficiencies and further advance our mission of providing innovative, quality care to the people of Kentucky and southern Indiana.\"\n",
      "\n",
      "Asynchronous care delivery represents the next service offering for 98point6 and a commitment to growth since launching as a licensed software provider last year. The async software offering enables providers to respond when their schedule allows, backed by a solution that takes clinical decision support to the next level. The robust technology deploys machine learning models to establish an intelligent engine that supports providers with intake, diagnosis, and care documentation. Developed by a team with a proven track record of building and managing a successful nationwide virtual clinic serving millions of patients, the module paves the way for further innovations.\n",
      "\n",
      "\"Our mission at 98point6 is to build market leading technology that empowers healthcare providers with the tools they need to broaden access, enhance patient engagement, and achieve cost savings through greater provider efficiency,\" said Jay Burrell, CEO of 98point6 Technologies. \"With the Bright.md acquisition we are dramatically accelerating our efforts to offer a robust, multi-functional virtual care software platform and it's a tremendous opportunity to engage with these 16 innovative health systems.\"\n",
      "\n",
      "For more information on the new asynchronous offering, visit 98point6.com.\n",
      "\n",
      "About 98point6 Technologies\n",
      "\n",
      "98point6 Technologies builds and licenses software to power exceptional virtual care experiences for providers and patients based on years of clinical use across millions of patients. Its flagship 98point6 Technology Platform consists of turnkey, cloud-based software that harnesses the power of artificial intelligence bundled with time-tested, automated practice standards and electronic health record (EHR) integration. Their solutions include a physician-facing Clinician Console, white-labled patient-facing app and professional support services. Available as licensed software, the 98point6 Technology Platform empowers health systems to create and grow premium virtual care offerings in a rapidly evolving and competitive healthcare marketplace. To learn more about 98point6 Technologies, visit www.98point6.com.\n",
      "\n",
      "Media contact:\n",
      "\n",
      "[email protected]\n",
      "\n",
      "SOURCE 98point6 Technologies\n"
     ]
    }
   ],
   "source": [
    "print(articles[0])"
   ]
  },
  {
   "cell_type": "code",
   "execution_count": 13,
   "metadata": {},
   "outputs": [],
   "source": [
    "import asyncio\n",
    "import aiohttp\n"
   ]
  },
  {
   "cell_type": "code",
   "execution_count": null,
   "metadata": {},
   "outputs": [],
   "source": []
  }
 ],
 "metadata": {
  "kernelspec": {
   "display_name": ".venv",
   "language": "python",
   "name": "python3"
  },
  "language_info": {
   "codemirror_mode": {
    "name": "ipython",
    "version": 3
   },
   "file_extension": ".py",
   "mimetype": "text/x-python",
   "name": "python",
   "nbconvert_exporter": "python",
   "pygments_lexer": "ipython3",
   "version": "3.10.12"
  }
 },
 "nbformat": 4,
 "nbformat_minor": 2
}
