{
 "cells": [
  {
   "cell_type": "code",
   "execution_count": 1,
   "metadata": {},
   "outputs": [],
   "source": [
    "from core import Seed, init\n",
    "\n",
    "init()"
   ]
  },
  {
   "cell_type": "code",
   "execution_count": 2,
   "metadata": {},
   "outputs": [],
   "source": [
    "import airtable\n",
    "\n",
    "companies = airtable.load_into_pandas()"
   ]
  },
  {
   "cell_type": "code",
   "execution_count": 3,
   "metadata": {},
   "outputs": [
    {
     "data": {
      "text/plain": [
       "23    (Kevala, Kevala, kevala.care, (staffing, healt...\n",
       "dtype: object"
      ]
     },
     "execution_count": 3,
     "metadata": {},
     "output_type": "execute_result"
    }
   ],
   "source": [
    "filtered_df = companies[companies[\"fields.Name\"].str.contains(\"Kevala\")]\n",
    "seeds = airtable.pandas_to_seeds(filtered_df)\n",
    "target = seeds.iloc[0]\n",
    "\n",
    "seeds"
   ]
  },
  {
   "cell_type": "code",
   "execution_count": 4,
   "metadata": {},
   "outputs": [
    {
     "data": {
      "text/plain": [
       "'(healthcare OR staffing)'"
      ]
     },
     "execution_count": 4,
     "metadata": {},
     "output_type": "execute_result"
    }
   ],
   "source": [
    "manual_keywords = {\n",
    "    # 1/10 -> 4/10\n",
    "    \"Dolly\": \"moving delivery\",\n",
    "    # 1/10 -> 9/10\n",
    "    \"Magnite\": \"advertising\",\n",
    "    # 2/10 -> 2/4\n",
    "    \"Kevala\": \"healthcare staffing\",\n",
    "    # 5/10 -> 9/9\n",
    "    \"Huntress\": \"security\",\n",
    "    # 0/10 -> 8/10. Originally I tried \"hiring recruiting jobs\" but \"jobs\" matched too many programming threads that were irrelevant\n",
    "    \"Built In\": \"hiring recruiting\",\n",
    "    # With Adswerve, the biggest problem is that I'm searching for \"Adswerve, Inc.\" in double-quotes. If I remove the double-quotes that helps a bit but then as I add more keywords it's diluting the \"Adswerve\" keyword. \n",
    "    # This company in particular needs the company name to be \"Adswerve\" and that would solve the problem\n",
    "    \"Adswerve, Inc.\": \"marketing\",\n",
    "}\n",
    "\n",
    "if target.company in manual_keywords:\n",
    "    keywords = manual_keywords[target.company].split()\n",
    "\n",
    "    if len(keywords) > 1:\n",
    "        additional_keywords_operator = \"({})\".format(\" OR \".join(keywords))\n",
    "    else:\n",
    "        additional_keywords_operator = keywords[0]\n",
    "else:\n",
    "    additional_keywords_operator = \"\"\n",
    "\n",
    "\n",
    "additional_keywords_operator"
   ]
  },
  {
   "cell_type": "code",
   "execution_count": 5,
   "metadata": {},
   "outputs": [
    {
     "name": "stdout",
     "output_type": "stream",
     "text": [
      "# Employee Scheduling Software for Medical Staffing : r/smallbusiness [https://www.reddit.com/r/smallbusiness/comments/15308zx/employee_scheduling_software_for_medical_staffing/]\n",
      "Jul 18, 2023 ... I'm on the recruiting side of the medical staffing, check out Kevala. ... Related discussions. Best Scheduling Software · Best Employee ...\n",
      "\n",
      "# hospital bonuses : r/cna [https://www.reddit.com/r/cna/comments/x9fe00/hospital_bonuses/]\n",
      "Sep 8, 2022 ... And as for what type of hospital I guess acute care? Haha I'm ... Last year I worked for kevala, a staffing agency where you can pick ...\n",
      "\n",
      "# Lunch breaks : r/nursing [https://www.reddit.com/r/nursing/comments/18vrwml/lunch_breaks/]\n",
      "Jan 1, 2024 ... The people I care for (and my coworkers) are what really matters in healthcare. I'm not compromising of safe, compassionate, and quality pt care ...\n",
      "\n",
      "# Are \"healthy oil\" like Olive oil and Avocado Oil really healthy or just ... [https://www.reddit.com/r/nutrition/comments/wrowlp/are_healthy_oil_like_olive_oil_and_avocado_oil/]\n",
      "Aug 18, 2022 ... I don't really care about saturated fat, little evidence its a major ... Related discussions. Best Olive Oil For Health · Best Alternative ...\n",
      "\n",
      "# What are some local businesses you boycott and why? : r ... [https://www.reddit.com/r/AskLosAngeles/comments/12yjsh9/what_are_some_local_businesses_you_boycott_and_why/]\n",
      "Apr 25, 2023 ... They also made racist jokes in front of the staff about Black people and Asians. They have comments on their Yelp with similar accusations ...\n",
      "\n",
      "# Does the Kerala model work? : r/CapitalismVSocialism [https://www.reddit.com/r/CapitalismVSocialism/comments/eyrn7s/does_the_kerala_model_work/]\n",
      "Feb 4, 2020 ... ... health-care-intl/index.html. For more on economic troubles: https ... The high unemployment (and associated social problems known to be related ...\n",
      "\n",
      "# Luna the Hardcore and Awesome (u/LunaAnew) - Reddit [https://www.reddit.com/user/LunaAnew/submitted/]\n",
      "I am a student and am working for two different staffing companies (express and kevala) with occassional shifts through clipboard. I mainly book shifts ...\n",
      "\n",
      "# Has anyone's personality changed dramatically after opening their ... [https://www.reddit.com/r/yoga/comments/1aqcn4y/has_anyones_personality_changed_dramatically/]\n",
      "Feb 14, 2024 ... The tird eye opens during a process called the Wedding of Shiva and Shakti leading to a temporary state called Kevala Nirvikalpa Samadhi, what ...\n",
      "\n"
     ]
    }
   ],
   "source": [
    "# debug the search\n",
    "from utils.google_search import search\n",
    "\n",
    "# query = f'site:reddit.com {target.company}'\n",
    "# query = f'site:reddit.com \"{target.company}\" related:{target.domain}'\n",
    "query = f'site:reddit.com {target.company} related:{target.domain} {additional_keywords_operator}'\n",
    "if target.product != target.company:\n",
    "    query += f' \"{target.product}\"'\n",
    "\n",
    "results = list(search(query, num=10))\n",
    "\n",
    "for result in results:\n",
    "    print(f\"# {result.title} [{result.link}]\\n{result.snippet}\\n\")"
   ]
  },
  {
   "cell_type": "code",
   "execution_count": null,
   "metadata": {},
   "outputs": [],
   "source": []
  }
 ],
 "metadata": {
  "kernelspec": {
   "display_name": ".venv",
   "language": "python",
   "name": "python3"
  },
  "language_info": {
   "codemirror_mode": {
    "name": "ipython",
    "version": 3
   },
   "file_extension": ".py",
   "mimetype": "text/x-python",
   "name": "python",
   "nbconvert_exporter": "python",
   "pygments_lexer": "ipython3",
   "version": "3.10.12"
  }
 },
 "nbformat": 4,
 "nbformat_minor": 2
}
