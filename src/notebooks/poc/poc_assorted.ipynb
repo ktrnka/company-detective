{
 "cells": [
  {
   "cell_type": "code",
   "execution_count": 2,
   "metadata": {},
   "outputs": [],
   "source": [
    "search_queries = [\n",
    "    \"{company_name} review site:reddit.com\",\n",
    "    \"{company_name} customer feedback site:reddit.com\",\n",
    "    \"{company_name} virtual care experience site:reddit.com\",\n",
    "    \"{company_name} pros and cons site:reddit.com\",\n",
    "    \"Is {company_name} worth it site:reddit.com\"\n",
    "]\n",
    "\n",
    "def generate_search_queries(company_name, product_name=None, region=None):\n",
    "    if product_name:\n",
    "        company_identifier = f\"{product_name} {company_name}\"\n",
    "    else:\n",
    "        company_identifier = company_name\n",
    "    \n",
    "    if region:\n",
    "        company_identifier += f\" {region}\"\n",
    "    \n",
    "    return [\n",
    "        f\"{company_identifier} review site:reddit.com\",\n",
    "        f\"{company_identifier} customer feedback site:reddit.com\",\n",
    "        f\"{company_identifier} experience site:reddit.com\",\n",
    "        f\"{company_identifier} pros and cons site:reddit.com\",\n",
    "        f\"Is {company_identifier} worth it site:reddit.com\"\n",
    "    ]\n",
    "\n",
    "# Example usage\n",
    "queries = generate_search_queries(\"Rad.ai\", \"Omni Impressions\")\n"
   ]
  },
  {
   "cell_type": "code",
   "execution_count": 3,
   "metadata": {},
   "outputs": [
    {
     "data": {
      "text/plain": [
       "['doctor 98point6 employee review site:reddit.com',\n",
       " 'doctor 98point6 work experience site:reddit.com',\n",
       " 'doctor 98point6 work culture site:reddit.com',\n",
       " 'doctor 98point6 pros and cons working site:reddit.com',\n",
       " 'What is it like to work at doctor 98point6 site:reddit.com']"
      ]
     },
     "execution_count": 3,
     "metadata": {},
     "output_type": "execute_result"
    }
   ],
   "source": [
    "def generate_employee_feedback_queries(company_name, job_role=None):\n",
    "    if job_role:\n",
    "        job_identifier = f\"{job_role} {company_name}\"\n",
    "    else:\n",
    "        job_identifier = company_name\n",
    "\n",
    "    return [\n",
    "        f\"{job_identifier} employee review site:reddit.com\",\n",
    "        f\"{job_identifier} work experience site:reddit.com\",\n",
    "        f\"{job_identifier} work culture site:reddit.com\",\n",
    "        f\"{job_identifier} pros and cons working site:reddit.com\",\n",
    "        f\"What is it like to work at {job_identifier} site:reddit.com\"\n",
    "    ]\n",
    "\n",
    "# Example usage for specific roles\n",
    "generate_employee_feedback_queries(\"98point6\", \"doctor\")"
   ]
  },
  {
   "cell_type": "code",
   "execution_count": 10,
   "metadata": {},
   "outputs": [
    {
     "data": {
      "text/plain": [
       "['98point6 detailed review -site:reddit.com -site:steamcommunity.com -site:youtube.com -site:steampowered.com -site:trustpilot.com -site:quora.com -site:linkedin.com',\n",
       " '98point6 in-depth analysis -site:reddit.com -site:steamcommunity.com -site:youtube.com -site:steampowered.com -site:trustpilot.com -site:quora.com -site:linkedin.com']"
      ]
     },
     "execution_count": 10,
     "metadata": {},
     "output_type": "execute_result"
    }
   ],
   "source": [
    "def generate_formal_review_queries(company_name, product_name=None):\n",
    "    if product_name:\n",
    "        product_identifier = f\"{product_name} {company_name}\"\n",
    "    else:\n",
    "        product_identifier = company_name\n",
    "\n",
    "    exclusions = \"-site:reddit.com -site:steamcommunity.com -site:youtube.com -site:steampowered.com -site:trustpilot.com -site:quora.com -site:linkedin.com\"\n",
    "\n",
    "    return [\n",
    "        f\"{product_identifier} detailed review {exclusions}\",\n",
    "        f\"{product_identifier} in-depth analysis {exclusions}\",\n",
    "    ]\n",
    "\n",
    "# Example usage\n",
    "generate_formal_review_queries(\"98point6\")\n"
   ]
  },
  {
   "cell_type": "code",
   "execution_count": null,
   "metadata": {},
   "outputs": [],
   "source": []
  }
 ],
 "metadata": {
  "kernelspec": {
   "display_name": ".venv",
   "language": "python",
   "name": "python3"
  },
  "language_info": {
   "codemirror_mode": {
    "name": "ipython",
    "version": 3
   },
   "file_extension": ".py",
   "mimetype": "text/x-python",
   "name": "python",
   "nbconvert_exporter": "python",
   "pygments_lexer": "ipython3",
   "version": "3.10.12"
  }
 },
 "nbformat": 4,
 "nbformat_minor": 2
}
