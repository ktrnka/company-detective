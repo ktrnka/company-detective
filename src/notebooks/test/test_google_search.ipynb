{
 "cells": [
  {
   "cell_type": "code",
   "execution_count": 1,
   "metadata": {},
   "outputs": [],
   "source": [
    "from core import init\n",
    "\n",
    "init()"
   ]
  },
  {
   "cell_type": "code",
   "execution_count": 2,
   "metadata": {},
   "outputs": [
    {
     "data": {
      "text/plain": [
       "6    (DoubleDown Interactive, DoubleDown Interactiv...\n",
       "dtype: object"
      ]
     },
     "execution_count": 2,
     "metadata": {},
     "output_type": "execute_result"
    }
   ],
   "source": [
    "import airtable\n",
    "\n",
    "companies = airtable.load_into_pandas()\n",
    "\n",
    "filtered_df = companies[companies[\"fields.Name\"].str.contains(\"Double\")]\n",
    "seeds = airtable.pandas_to_seeds(filtered_df)\n",
    "seeds\n",
    "\n"
   ]
  },
  {
   "cell_type": "code",
   "execution_count": 3,
   "metadata": {},
   "outputs": [],
   "source": [
    "target = seeds.iloc[0]"
   ]
  },
  {
   "cell_type": "code",
   "execution_count": 5,
   "metadata": {},
   "outputs": [
    {
     "name": "stdout",
     "output_type": "stream",
     "text": [
      "\n",
      "# 0 [Investor Relations | DoubleDown Interactive Co., Ltd.](https://ir.doubledowninteractive.com/)\n",
      "The Investor Relations website contains information about DoubleDown Interactive Co., Ltd.'s business for stockholders, potential investors, and financial ...\n",
      "\n",
      "\n",
      "# 1 [DoubleDown Interactive - Make Your Jackpot Happen](https://www.doubledowninteractive.com/)\n",
      "Double Down Interactive, LLC is the leading provider of fun to play casino games on the Internet.\n",
      "\n",
      "\n",
      "# 2 [Divine Match - DoubleDown Interactive](https://doubledowninteractive.com/divinematch.html)\n",
      "Become a match-3 god in Divine Match! It'll take skilled use of moves and boosts to play through match puzzles full of unique obstacles.\n",
      "\n",
      "\n",
      "# 3 [DoubleDown Interactive Make Your Jackpot Happen](https://www.doubledowninteractive.com/press.html)\n",
      "DoubleDown Interactive, Co. Ltd. is a leading developer and publisher of digital games on mobile and web-based platforms.\n",
      "\n",
      "\n",
      "# 4 [DoubleDown Interactive Make Your Jackpot Happen](https://www.doubledowninteractive.com/seattle.html)\n",
      "Double Down Interactive, LLC is the leading provider of fun to play casino games on the Internet.\n",
      "\n",
      "\n",
      "# 5 [DoubleDown Casino - DoubleDown Interactive](https://www.doubledowninteractive.com/doubledowncasino.html)\n",
      "Double Down Interactive, LLC is the leading provider of fun to play casino games on the Internet.\n",
      "\n",
      "\n",
      "# 6 [Double Down Classic Slots - DoubleDown Interactive](https://www.doubledowninteractive.com/doubledownclassicslots.html)\n",
      "Double Down Interactive, LLC is the leading provider of fun to play casino games on the Internet.\n",
      "\n",
      "\n",
      "# 7 [Double Down Fortknox - DoubleDown Interactive](https://www.doubledowninteractive.com/doubledownfortknox.html)\n",
      "Double Down Interactive, LLC is the leading provider of fun to play casino games on the Internet.\n",
      "\n",
      "\n",
      "# 8 [DoubleDown Interactive Make Your Jackpot Happen](https://www.doubledowninteractive.com/about.html)\n",
      "Double Down Interactive, LLC is the leading provider of fun to play casino games on the Internet.\n",
      "\n",
      "\n",
      "# 9 [Cash Me Out Games - DoubleDown Interactive](https://www.doubledowninteractive.com/cashmeoutgames.html)\n",
      "A thrilling, fast-paced experience with many ways to earn free in-game currency, including a variety of fun mini-games.\n",
      "\n",
      "\n",
      "# 10 [DoubleDown interactive Careers](https://www.doubledowninteractive.com/career.html)\n",
      "Double Down Interactive, LLC is the leading provider of fun to play casino games on the Internet.\n",
      "\n",
      "\n",
      "# 11 [Welcome to DoubleDown Interactive](https://www.doubledowninteractive.com/privacy/index.html)\n",
      "Aug 1, 2024 ... This website and the services provided herein do not offer real money gambling or an opportunity to win real money or prizes based on the outcome of play.\n",
      "\n",
      "\n",
      "# 12 [Welcome to DoubleDown Interactive](https://www.doubledowninteractive.com/terms/index.html)\n",
      "DoubleDown reserves the right, but has no obligation, to monitor and/or manage disputes between you and other users of the Services.\n",
      "\n",
      "\n",
      "# 13 [Welcome to DoubleDown Interactive](https://www.doubledowninteractive.com/responsible-play/index.html)\n",
      "We offer social casino-style games, these games are not gambling, and do not offer the opportunity to win real money or prizes.\n",
      "\n",
      "\n",
      "# 14 [DoubleDown Interactive Make Your Jackpot Happen](https://www.doubledowninteractive.com/seoul.html)\n",
      "Ready to make a wager that we're the perfect next step in your career? Check out our open positions, then check out our benefits!\n",
      "\n",
      "\n",
      "# 15 [FAQs | DoubleDown Interactive Co., Ltd.](https://ir.doubledowninteractive.com/ir-services/faqs/)\n",
      "FAQs · Korea Securities Depository · Address: BIFC, 40, Munhyeongeumyung-ro Nam-gu, Busan 48400, Korea · Telephone: +82-51-519-1840 · Email: contact@ksd.or.kr.\n",
      "\n",
      "\n",
      "# 16 [DoubleDown Interactive Make Your Jackpot Happen](https://www.doubledowninteractive.com/seattle-jobs.html)\n",
      "Be part of the movement of bringing high-quality gaming experiences to everyone! No job postings currently open. Check back later! OUR APPS.\n",
      "\n",
      "\n",
      "# 17 [Quarterly Results | DoubleDown Interactive Co., Ltd.](https://ir.doubledowninteractive.com/financials-filings/quarterly-results/)\n",
      "DoubleDown Interactive Earnings Conference Call, DoubleDown Interactive Reports Fourth Quarter and Full Year 2023 Financial Results Q3 2023\n",
      "\n",
      "\n",
      "# 18 [Events & Presentations | DoubleDown Interactive Co., Ltd.](https://ir.doubledowninteractive.com/news-events/events-presentations/)\n",
      "Past Events, Q2 2024 DoubleDown Interactive Earnings Conference, Call Aug 12, 2024 at 5:00 PM EDT, Click here for webcast.\n",
      "\n",
      "\n",
      "# 19 [SEC Filings | DoubleDown Interactive Co., Ltd.](https://ir.doubledowninteractive.com/financials-filings/sec-filings/)\n",
      "Oct 10, 2024, 6-K · Report of foreign issuer rules 13a-16 and 15d-16 of the Securities Exchange Act ; Oct 08, 2024, 144. Filed by \"insiders\" ...\n",
      "\n",
      "\n",
      "# 20 [News Releases | DoubleDown Interactive Co., Ltd.](https://ir.doubledowninteractive.com/news-events/news-releases/)\n",
      "DoubleDown Interactive to Report 2024 First Quarter Results on May 8 and Host Conference Call and Webcast\n",
      "\n",
      "\n",
      "# 21 [Investment Calculator | DoubleDown Interactive Co., Ltd.](https://ir.doubledowninteractive.com/stock-information/investment-calculator/)\n",
      "Investment Calculator ... Return calculations do not include reinvested cash dividends. Minimum 15 minutes delayed. Source:.\n",
      "\n",
      "\n",
      "# 22 [Management Team | DoubleDown Interactive Co., Ltd.](https://ir.doubledowninteractive.com/corporate-governance/management-team/)\n",
      "While at DoubleU Games, Mr. Kim led the execution and acquisition of DoubleDown Interactive, LLC and investment in our Company. His prior experience includes ...\n",
      "\n",
      "\n",
      "# 23 [Email Alerts | DoubleDown Interactive Co., Ltd.](https://ir.doubledowninteractive.com/ir-services/email-alerts/)\n",
      "Email Alerts ... Required fields denoted by an asterisk (). Hide lower priority columns. Alert type ...\n",
      "\n",
      "\n",
      "# 24 [Contact IR | DoubleDown Interactive Co., Ltd.](https://ir.doubledowninteractive.com/ir-services/contact-ir/)\n",
      "Investor Relations Company Contact: IR@doubledown.com Investor Relations Contact: Joseph Jaffoni or Richard Land JCIR +1 (212) 835-8500 DDI@jcir.com\n",
      "\n",
      "\n",
      "# 25 [Board of Directors | DoubleDown Interactive Co., Ltd.](https://ir.doubledowninteractive.com/corporate-governance/board-of-directors/)\n",
      "While at DoubleU Games, Mr. Kim led the execution and acquisition of DoubleDown Interactive, LLC and investment in our Company. His prior experience includes ...\n",
      "\n",
      "\n",
      "# 26 [Stock Quote & Chart | DoubleDown Interactive Co., Ltd.](https://ir.doubledowninteractive.com/stock-information/stock-quote-chart/)\n",
      "Today's High; $14.42: Today's Low; $13.56: 52 Week High; $16.75: 52 Week Low; $6.95. Stock Chart. Minimum 15 minutes delayed. Source: OUR APPS.\n",
      "\n",
      "\n",
      "# 27 [Form 6-K for Doubledown Interactive Co LTD filed 08/28/2022](https://ir.doubledowninteractive.com/static-files/9f510641-fc2a-492b-93d3-0a7cee18653c)\n",
      "Aug 28, 2022 ... Note: Regulation S-T Rule 101(b)(7) only permits the submission in paper of a Form 6-K if submitted to furnish a report or other document ...\n",
      "\n",
      "\n",
      "# 28 [Form 6-K for Doubledown Interactive Co LTD filed 08/12/2024](https://ir.doubledowninteractive.com/static-files/101c379d-8967-4d62-b7c0-b9acc33d3652)\n",
      "Aug 12, 2024 ... Second Quarter 2024 vs. Second Quarter 2023 Summary: •. Revenue increased to $88.2 million in the second quarter of 2024 from $75.2 million ...\n",
      "\n",
      "\n",
      "# 29 [DOUBLEDOWN INTERACTIVE CO., LTD. B. RILEY FINANCIAL, INC.](https://ir.doubledowninteractive.com/static-files/1c67601a-1b39-4315-897a-cc06343a9fb4)\n",
      "This filing relates solely to preliminary communications made before the commencement of a tender offer (the “Offer”) to purchase up to 2,000,000.\n",
      "\n"
     ]
    }
   ],
   "source": [
    "from utils.google_search import search\n",
    "\n",
    "for i, result in enumerate(search(f\"site:{target.domain}\", num=30)):\n",
    "    print(f\"\"\"\n",
    "# {i} [{result.title}]({result.link})\n",
    "{result.snippet}\n",
    "\"\"\")"
   ]
  },
  {
   "cell_type": "code",
   "execution_count": null,
   "metadata": {},
   "outputs": [],
   "source": []
  }
 ],
 "metadata": {
  "kernelspec": {
   "display_name": ".venv",
   "language": "python",
   "name": "python3"
  },
  "language_info": {
   "codemirror_mode": {
    "name": "ipython",
    "version": 3
   },
   "file_extension": ".py",
   "mimetype": "text/x-python",
   "name": "python",
   "nbconvert_exporter": "python",
   "pygments_lexer": "ipython3",
   "version": "3.11.10"
  }
 },
 "nbformat": 4,
 "nbformat_minor": 2
}
