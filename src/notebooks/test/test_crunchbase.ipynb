{
 "cells": [
  {
   "cell_type": "markdown",
   "metadata": {},
   "source": [
    "# Crunchbase\n",
    "\n",
    "Attempting to use Crunchbase again now that Scrapfly has updated code for it"
   ]
  },
  {
   "cell_type": "code",
   "execution_count": 16,
   "metadata": {},
   "outputs": [],
   "source": [
    "# Let's get the same thing via our system\n",
    "from core import Seed, init\n",
    "\n",
    "init()\n",
    "target = Seed.init(\"Synthesize Bio\", domain=\"synthesize.bio\")"
   ]
  },
  {
   "cell_type": "code",
   "execution_count": 17,
   "metadata": {},
   "outputs": [
    {
     "name": "stdout",
     "output_type": "stream",
     "text": [
      "# Synthesize Bio, founded UNKNOWN_DATE [(Crunchbase, 2024)](https://www.crunchbase.com/organization/synthesize-bio)\n",
      "Deep biomedical data is the key to unlocking discoveries and creating therapies. Synthesize Bio uses AI to reduce data collection and analysis from months to minutes for a fraction of the cost in time, personnel, and materials.\n",
      "\n",
      "- [Website](https://www.synthesize.bio/)\n",
      "\n",
      "\n",
      "\n",
      "\n"
     ]
    }
   ],
   "source": [
    "from data_sources.crunchbase import run\n",
    "\n",
    "markdown = await run(target)\n",
    "print(markdown)"
   ]
  },
  {
   "cell_type": "code",
   "execution_count": null,
   "metadata": {},
   "outputs": [],
   "source": []
  }
 ],
 "metadata": {
  "kernelspec": {
   "display_name": ".venv",
   "language": "python",
   "name": "python3"
  },
  "language_info": {
   "codemirror_mode": {
    "name": "ipython",
    "version": 3
   },
   "file_extension": ".py",
   "mimetype": "text/x-python",
   "name": "python",
   "nbconvert_exporter": "python",
   "pygments_lexer": "ipython3",
   "version": "3.11.10"
  }
 },
 "nbformat": 4,
 "nbformat_minor": 2
}
