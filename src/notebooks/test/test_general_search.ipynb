{
 "cells": [
  {
   "cell_type": "markdown",
   "metadata": {},
   "source": [
    "# General search results\n",
    "\n",
    "The idea with this module is to Google search 100+ results, then use an LLM to organize and re-rank the results.\n",
    "\n",
    "## Ideas to consider\n",
    "\n",
    "- Multiple searches: The company, company + product, search for product reviews, search all time vs just recent\n",
    "- Provide a markdown template to fill out with an \"other\" category, and refine the \"other\" listings"
   ]
  },
  {
   "cell_type": "code",
   "execution_count": 1,
   "metadata": {},
   "outputs": [],
   "source": [
    "from core import Seed, init\n",
    "\n",
    "init()"
   ]
  },
  {
   "cell_type": "code",
   "execution_count": 2,
   "metadata": {},
   "outputs": [],
   "source": [
    "target = Seed.init(\"Singularity 6\", \"Palia\")"
   ]
  },
  {
   "cell_type": "code",
   "execution_count": 3,
   "metadata": {},
   "outputs": [],
   "source": [
    "from core import make_experiment_dir\n",
    "\n",
    "experiment_dir = make_experiment_dir(target)"
   ]
  },
  {
   "cell_type": "code",
   "execution_count": 4,
   "metadata": {},
   "outputs": [
    {
     "name": "stderr",
     "output_type": "stream",
     "text": [
      "\u001b[32m2024-10-06 11:59:49.519\u001b[0m | \u001b[1mINFO    \u001b[0m | \u001b[36mcore\u001b[0m:\u001b[36mshorten_markdown\u001b[0m:\u001b[36m236\u001b[0m - \u001b[1m41,855 -> 34,080 chars (81% of original)\u001b[0m\n",
      "\u001b[32m2024-10-06 12:00:01.194\u001b[0m | \u001b[1mINFO    \u001b[0m | \u001b[36mcore\u001b[0m:\u001b[36munshorten_markdown\u001b[0m:\u001b[36m255\u001b[0m - \u001b[1m2,417 -> 3,471 chars (144% of original)\u001b[0m\n",
      "\u001b[32m2024-10-06 12:00:01.195\u001b[0m | \u001b[1mINFO    \u001b[0m | \u001b[36mdata_sources.general_search\u001b[0m:\u001b[36msummarize\u001b[0m:\u001b[36m126\u001b[0m - \u001b[1m41,855 -> 3,471 chars (8%) \u001b[0m\n",
      "\u001b[32m2024-10-06 12:00:01.199\u001b[0m | \u001b[1mINFO    \u001b[0m | \u001b[36mdata_sources.general_search\u001b[0m:\u001b[36msummarize\u001b[0m:\u001b[36m126\u001b[0m - \u001b[1mExtractive fraction: 76% \u001b[0m\n",
      "\u001b[32m2024-10-06 12:00:01.200\u001b[0m | \u001b[1mINFO    \u001b[0m | \u001b[36mdata_sources.general_search\u001b[0m:\u001b[36msummarize\u001b[0m:\u001b[36m126\u001b[0m - \u001b[1mPercent of URLs in sources: 100% ✅\u001b[0m\n",
      "\u001b[32m2024-10-06 12:00:01.200\u001b[0m | \u001b[1mINFO    \u001b[0m | \u001b[36mdata_sources.general_search\u001b[0m:\u001b[36msummarize\u001b[0m:\u001b[36m126\u001b[0m - \u001b[1mCitation density: 49.4% (percent of output used by URLs/link syntax) \u001b[0m\n",
      "\u001b[32m2024-10-06 12:00:01.201\u001b[0m | \u001b[1mINFO    \u001b[0m | \u001b[36mdata_sources.general_search\u001b[0m:\u001b[36msummarize\u001b[0m:\u001b[36m126\u001b[0m - \u001b[1mDistinct URLs (summary / input): 26 / 112\u001b[0m\n",
      "\u001b[32m2024-10-06 12:00:01.202\u001b[0m | \u001b[1mINFO    \u001b[0m | \u001b[36mdata_sources.general_search\u001b[0m:\u001b[36msummarize\u001b[0m:\u001b[36m126\u001b[0m - \u001b[1mSuspicious URLs: set()\u001b[0m\n",
      "\u001b[32m2024-10-06 12:00:01.202\u001b[0m | \u001b[1mINFO    \u001b[0m | \u001b[36mdata_sources.general_search\u001b[0m:\u001b[36msummarize\u001b[0m:\u001b[36m126\u001b[0m - \u001b[1mCache mentions: 0 ✅\u001b[0m\n"
     ]
    },
    {
     "name": "stdout",
     "output_type": "stream",
     "text": [
      "content=\"# Official social media\\n- [Singularity 6 on LinkedIn](https://www.linkedin.com/company/singularity6)\\n- [Singularity 6 (@Singularity6) on X](https://twitter.com/singularity6?lang=en)\\n\\n# Job boards\\n- [Careers - Singularity 6](https://www.singularity6.com/careers)\\n- [Senior Level Designer - Singularity 6](https://singularity6.com/careers/senior-level-designer?gh_jid=5339098004)\\n- [Jobs at Singularity 6 | Andreessen Horowitz](https://jobs.a16z.com/jobs/singularity-6)\\n- [Jobs at Singularity 6 | Built In Los Angeles](https://www.builtinla.com/company/singularity-6)\\n\\n# App stores\\n- [Palia on Steam](https://store.steampowered.com/app/2707930/Palia/)\\n- [Palia for Nintendo Switch - Nintendo Official Site](https://www.nintendo.com/us/store/products/palia-switch/)\\n- [Palia | Download and Play for Free - Epic Games Store](https://store.epicgames.com/en-US/p/palia-0d428e)\\n\\n# Product reviews\\n- [Early access life sim Palia has become my Stardew-style game of ...](https://www.polygon.com/2024/7/17/24199912/palia-favorite-cozy-game-mmo) (Jul 17, 2024)\\n- [Palia Preview – My MMO Dreams Come True](https://www.cgmagonline.com/articles/previews/palia-preview-cozy-mmo/) (Aug 2, 2023)\\n\\n# News articles (most recent first, grouped by event)\\n### Layoffs and Company Changes\\n- [Palia developers, Singularity 6, axes 35% of staff just after Steam ...](https://www.reddit.com/r/MMORPG/comments/1bz2e0z/palia_developers_singularity_6_axes_35_of_staff/) (Apr 9, 2024)\\n- [Singularity 6 laying off 36 staff | GamesIndustry.biz](https://www.gamesindustry.biz/singularity-6-laying-off-36-staff) (May 17, 2024)\\n- [Singularity 6 Lays Off 35% of Staff After Palia Launch - mxdwn Games](https://games.mxdwn.com/news/singularity-6-lays-off-35-of-staff-after-palia-launch/) (Apr 8, 2024)\\n- [Palia studio Singularity 6 has been hit by layoffs – 35% of the team ...](https://massivelyop.com/2024/04/05/palia-studio-singularity-6-has-apparently-been-hit-by-layoffs/) (Apr 5, 2024)\\n\\n### Acquisition by Daybreak Games\\n- [Daybreak Acquires Singularity 6 Announcement | Daybreak Game ...](https://www.daybreakgames.com/news/dbg-s6-acquisition-announcement) (Jul 1, 2024)\\n- [Daybreak acquires struggling Palia developer Singularity 6](https://www.gamedeveloper.com/business/daybreak-acquires-struggling-palia-developer-singularity-6) (Jul 2, 2024)\\n- [Daybreak Games acquired Singularity 6 - Dev of Palia :: Palia ...](https://steamcommunity.com/app/2707930/discussions/0/4410795103737919720/) (Jul 1, 2024)\\n- [Daybreak Games Has Acquired Palia Developer Singularity 6 ...](https://www.mmorpg.com/news/daybreak-games-has-acquired-palia-developer-singularity-6-2000132085) (Jul 1, 2024)\\n\\n### Funding and Development\\n- [Singularity 6 raises $30M to fund upcoming fantasy 'community ...](https://techcrunch.com/2021/07/01/singularity-6-raises-30m-to-fund-upcoming-fantasy-community-simulation-mmo/) (Jul 1, 2021)\\n- [Singularity 6 Closes $30M Series B for Highly Anticipated MMO “Palia”](https://londonvp.com/news/singularity-6-closes-30m-series-b-for-highly-anticipated-mmo-palia/) (Jul 1, 2021)\\n\\n# Key employees (grouped by employee)\\n- [Anthony Leung - Singularity 6 | LinkedIn](https://www.linkedin.com/in/anthonyaleung)\\n\\n# Other pages on the company website\\n- [Palia – Welcome Home](https://palia.com/)\\n- [Palia Accounts](https://accounts.palia.com/)\\n\\n# Other\\n- [Palia - Wikipedia](https://en.wikipedia.org/wiki/Palia)\\n- [Singularity 6 | Palia Wiki | Fandom](https://palia.fandom.com/wiki/Singularity_6)\" additional_kwargs={'refusal': None} response_metadata={'token_usage': {'completion_tokens': 758, 'prompt_tokens': 9621, 'total_tokens': 10379, 'completion_tokens_details': {'audio_tokens': None, 'reasoning_tokens': 0}, 'prompt_tokens_details': {'audio_tokens': None, 'cached_tokens': 0}}, 'model_name': 'gpt-4o-mini-2024-07-18', 'system_fingerprint': 'fp_f85bea6784', 'finish_reason': 'stop', 'logprobs': None} id='run-adff0c5a-52e9-4dc1-a53b-bf8005e4b9a3-0' usage_metadata={'input_tokens': 9621, 'output_tokens': 758, 'total_tokens': 10379}\n"
     ]
    }
   ],
   "source": [
    "from data_sources.general_search import search_web, summarize, result_to_markdown\n",
    "\n",
    "pages = search_web(target)\n",
    "summary = summarize(target, pages)\n",
    "\n",
    "print(summary)\n",
    "\n",
    "\n",
    "with open(f\"{experiment_dir}/search.md\", \"w\") as f:\n",
    "    f.write(summary.content)\n",
    "\n",
    "    f.write(\"\\n# Sources\\n\")\n",
    "    for result in pages:\n",
    "        f.write(result_to_markdown(result) + \"\\n\\n\")"
   ]
  },
  {
   "cell_type": "markdown",
   "metadata": {},
   "source": []
  }
 ],
 "metadata": {
  "kernelspec": {
   "display_name": ".venv",
   "language": "python",
   "name": "python3"
  },
  "language_info": {
   "codemirror_mode": {
    "name": "ipython",
    "version": 3
   },
   "file_extension": ".py",
   "mimetype": "text/x-python",
   "name": "python",
   "nbconvert_exporter": "python",
   "pygments_lexer": "ipython3",
   "version": "3.10.12"
  }
 },
 "nbformat": 4,
 "nbformat_minor": 2
}
