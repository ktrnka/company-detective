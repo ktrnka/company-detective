{
 "cells": [
  {
   "cell_type": "markdown",
   "metadata": {},
   "source": [
    "# Company webpage\n",
    "\n",
    "Extract some key information from the company webpage"
   ]
  },
  {
   "cell_type": "code",
   "execution_count": 1,
   "metadata": {},
   "outputs": [],
   "source": [
    "from core import Seed, init\n",
    "\n",
    "init()"
   ]
  },
  {
   "cell_type": "code",
   "execution_count": 2,
   "metadata": {},
   "outputs": [],
   "source": [
    "target = Seed.init(\"Pomelo Care\")"
   ]
  },
  {
   "cell_type": "code",
   "execution_count": 4,
   "metadata": {},
   "outputs": [
    {
     "name": "stdout",
     "output_type": "stream",
     "text": [
      "Pomelo Care | Virtual Maternity Care Program https://www.pomelocare.com/\n",
      "Pomelo is a virtual maternity care program that supplements traditional pregnancy care with unlimited, customized support. Ask a dietitian about prenatal ...\n",
      "\n",
      "\n",
      "Pomelo Care scores $46M for virtual maternity care platform and ... https://www.mobihealthnews.com/news/pomelo-care-scores-46m-virtual-maternity-care-platform-and-more-digital-health-funding\n",
      "Jun 20, 2024 ... Pomelo Care scores $46M for virtual maternity care platform and more digital health funding. Marigold Health secures $11 million for AI-enabled ...\n",
      "\n",
      "\n",
      "Careers https://www.pomelocare.com/careers\n",
      "Pomelo Care. Current Job Openings. Department. All Departments, Business ... Pomelo Care, Inc. does not provide any medical, nursing, or other healthcare ...\n",
      "\n",
      "\n",
      "Pomelo Care | LinkedIn https://www.linkedin.com/company/pomelo-care\n",
      "Jul 20, 2024 ... Pomelo Care | 17474 followers on LinkedIn. Transforming outcomes for moms and babies through personalized, accessible, evidence-based ...\n",
      "\n",
      "\n",
      "We exist to help families have healthy babies https://www.pomelocare.com/about-us\n",
      "At Pomelo Care, our team is driven by shared values and a common purpose. ... Pomelo Care, Inc. does not provide any medical, nursing, or other healthcare ...\n",
      "\n",
      "\n",
      "Pomelo Care, a virtual value-based pregnancy care provider ... https://www.fiercehealthcare.com/digital-health/pomelo-care-value-based-pregnancy-care-provider-launches-stealth\n",
      "Jun 8, 2023 ... Pomelo Care, a virtual, value-based provider focused on maternity care, has emerged from stealth fueled by $33 million in seed and series A ...\n",
      "\n",
      "\n",
      "Maternity care provider Pomelo Care lands $46m Series B funding https://finance.yahoo.com/news/maternity-care-provider-pomelo-care-145553954.html\n",
      "Jun 21, 2024 ... Maternity care provider Pomelo Care lands $46m Series B funding ... US-based virtual maternity care provider Pomelo Care has secured $46m in a ...\n",
      "\n",
      "\n",
      "Pomelo Care acquires the Doula Network to offer hybrid maternity ... https://www.fiercehealthcare.com/digital-health/pomelo-care-acquires-doula-network-expand-hybrid-maternity-care-model\n",
      "Sep 24, 2024 ... Pomelo offers virtual pregnancy, postpartum and infant care to patients to help reduce their risks and improve outcomes. The startup also ...\n",
      "\n",
      "\n",
      "Pomelo Care Secures $46M To Increase Access to Maternal Health ... https://medcitynews.com/2024/06/maternal-health-pomelo-funding/\n",
      "Jun 25, 2024 ... New York City-based Pomelo Care “fills in the gaps” between patients' existing OBGYN visits, according to Marta Bralic Kerns, founder and CEO of ...\n",
      "\n",
      "\n",
      "Job Application for Bilingual Outreach & Engagement Specialist at ... https://boards.greenhouse.io/pomelocare/jobs/5060962004\n",
      "About us. Pomelo Care is a multi-disciplinary team of clinicians, engineers and problem solvers who are passionate about improving care for moms and babies.\n",
      "\n",
      "\n"
     ]
    }
   ],
   "source": [
    "from utils.google_search import search\n",
    "\n",
    "# Tiny helper to find the main webpage\n",
    "for page in search(target.company, num=10):\n",
    "    print(f\"{page.title} {page.link}\\n{page.snippet}\\n\\n\")\n"
   ]
  },
  {
   "cell_type": "code",
   "execution_count": 5,
   "metadata": {},
   "outputs": [],
   "source": [
    "from core import make_experiment_dir\n",
    "\n",
    "experiment_dir = make_experiment_dir(target)"
   ]
  },
  {
   "cell_type": "code",
   "execution_count": 6,
   "metadata": {},
   "outputs": [
    {
     "name": "stderr",
     "output_type": "stream",
     "text": [
      "\u001b[32m2024-10-06 11:57:33.793\u001b[0m | \u001b[1mINFO    \u001b[0m | \u001b[36mdata_sources.company_webpage\u001b[0m:\u001b[36mrun\u001b[0m:\u001b[36m66\u001b[0m - \u001b[1m61,861 -> 3,720 chars (6%) \u001b[0m\n",
      "\u001b[32m2024-10-06 11:57:33.797\u001b[0m | \u001b[1mINFO    \u001b[0m | \u001b[36mdata_sources.company_webpage\u001b[0m:\u001b[36mrun\u001b[0m:\u001b[36m66\u001b[0m - \u001b[1mExtractive fraction: 16% \u001b[0m\n",
      "\u001b[32m2024-10-06 11:57:33.798\u001b[0m | \u001b[1mINFO    \u001b[0m | \u001b[36mdata_sources.company_webpage\u001b[0m:\u001b[36mrun\u001b[0m:\u001b[36m66\u001b[0m - \u001b[1mPercent of URLs in sources: 100% ✅\u001b[0m\n",
      "\u001b[32m2024-10-06 11:57:33.798\u001b[0m | \u001b[1mINFO    \u001b[0m | \u001b[36mdata_sources.company_webpage\u001b[0m:\u001b[36mrun\u001b[0m:\u001b[36m66\u001b[0m - \u001b[1mCitation density: 7.9% (percent of output used by URLs/link syntax) \u001b[0m\n",
      "\u001b[32m2024-10-06 11:57:33.799\u001b[0m | \u001b[1mINFO    \u001b[0m | \u001b[36mdata_sources.company_webpage\u001b[0m:\u001b[36mrun\u001b[0m:\u001b[36m66\u001b[0m - \u001b[1mDistinct URLs (summary / input): 7 / 25\u001b[0m\n",
      "\u001b[32m2024-10-06 11:57:33.799\u001b[0m | \u001b[1mINFO    \u001b[0m | \u001b[36mdata_sources.company_webpage\u001b[0m:\u001b[36mrun\u001b[0m:\u001b[36m66\u001b[0m - \u001b[1mSuspicious URLs: set()\u001b[0m\n",
      "\u001b[32m2024-10-06 11:57:33.800\u001b[0m | \u001b[1mINFO    \u001b[0m | \u001b[36mdata_sources.company_webpage\u001b[0m:\u001b[36mrun\u001b[0m:\u001b[36m66\u001b[0m - \u001b[1mCache mentions: 0 ✅\u001b[0m\n"
     ]
    },
    {
     "name": "stdout",
     "output_type": "stream",
     "text": [
      "# Pomelo Care Summary\n",
      "\n",
      "## Overview\n",
      "Pomelo Care is a virtual medical practice focused on improving maternal and newborn health outcomes through a value-based care model. The service provides 24/7 access to a dedicated care team, including doctors, midwives, nurses, dietitians, therapists, and lactation consultants, to support patients from preconception through the first year of their baby's life.\n",
      "\n",
      "## Key Features\n",
      "- **24/7 Personalized Care**: Patients can access their care team anytime via text, phone, or video. Pomelo does not replace in-person OB-GYNs or midwives but supplements their care.\n",
      "- **Customized Care Plans**: Each patient receives a personalized care plan tailored to their specific needs, including managing pregnancy-related issues like nausea and hypertension.\n",
      "- **Collaboration with In-Person Providers**: Pomelo works alongside existing healthcare providers to ensure comprehensive care and communication.\n",
      "- **Eligibility and Cost**: Pomelo services are available at no cost to members of participating health plans or employers. Patients can check their eligibility through a quick questionnaire.\n",
      "\n",
      "## Target Audiences\n",
      "- **Patients**: Expecting and postpartum parents seeking additional support.\n",
      "- **Employers**: Companies looking to offer Pomelo as a benefit to their employees.\n",
      "- **Healthcare Providers**: In-person providers interested in collaborating with Pomelo.\n",
      "- **Health Plans**: Insurance companies aiming to improve maternal health outcomes for their members.\n",
      "\n",
      "## Company Values\n",
      "Pomelo Care emphasizes a culture of humility, initiative, data-driven decision-making, collaboration, accountability, and tenacity. The company aims to listen to patient needs and continuously improve its services.\n",
      "\n",
      "## Recent Developments\n",
      "- **Funding**: Pomelo raised $46 million in Series B funding to expand its services and reach more patients. This brings total funding to $79 million.\n",
      "- **Impact Data**: Recent studies presented at the ACOG Clinical & Scientific Meeting showed significant improvements in maternal health outcomes, including a 2.4x increase in aspirin prophylaxis for preeclampsia and a 7x increase in mental health screening rates among Medicaid patients.\n",
      "- **Growth**: Pomelo has expanded its coverage from 2 million to over 3 million lives across 46 states, demonstrating its commitment to addressing the maternal health crisis in the U.S.\n",
      "\n",
      "## Patient Stories\n",
      "Pomelo shares success stories from patients who have benefited from their services, highlighting the positive impact of personalized care and support.\n",
      "\n",
      "## Conclusion\n",
      "Pomelo Care is dedicated to transforming maternal healthcare by providing accessible, evidence-based, and personalized support to expecting and new parents. The company aims to address systemic gaps in care and improve health outcomes for mothers and infants across the country.\n",
      "\n",
      "## Bibliography\n",
      "- Pomelo Care. (n.d.). Virtual Maternity Care Program. Retrieved from [Pomelo Care](https://www.pomelocare.com/)\n",
      "- Pomelo Care. (n.d.). Careers. Retrieved from [Pomelo Care Careers](https://www.pomelocare.com/careers)\n",
      "- Pomelo Care. (n.d.). For Patients. Retrieved from [Pomelo Care for Patients](https://www.pomelocare.com/patients)\n",
      "- Pomelo Care. (n.d.). For Employers. Retrieved from [Pomelo Care for Employers](https://www.pomelocare.com/employers)\n",
      "- Pomelo Care. (n.d.). About Us. Retrieved from [Pomelo Care About Us](https://www.pomelocare.com/about-us)\n",
      "- Pomelo Care. (2024). Press Release: Pomelo Care raises $46 million. Retrieved from [Pomelo Care News](https://www.pomelocare.com/news)\n",
      "- Pomelo Care. (2024). Scaling maternal care that works. Retrieved from [Pomelo Care Blog](https://www.pomelocare.com/articles/scaling-maternal-care-that-works)\n"
     ]
    }
   ],
   "source": [
    "import data_sources.company_webpage\n",
    "\n",
    "result = data_sources.company_webpage.run(\"pomelocare.com\")\n",
    "print(result.summary_markdown)"
   ]
  },
  {
   "cell_type": "code",
   "execution_count": 7,
   "metadata": {},
   "outputs": [],
   "source": [
    "import os\n",
    "\n",
    "with open(os.path.join(experiment_dir, \"summary.md\"), \"w\") as file:\n",
    "    file.write(result.summary_markdown)\n",
    "\n",
    "with open(os.path.join(experiment_dir, \"sources.md\"), \"w\") as file:\n",
    "    file.write(\"\\n\\n\".join(result.page_markdowns))\n"
   ]
  },
  {
   "cell_type": "code",
   "execution_count": null,
   "metadata": {},
   "outputs": [],
   "source": []
  }
 ],
 "metadata": {
  "kernelspec": {
   "display_name": ".venv",
   "language": "python",
   "name": "python3"
  },
  "language_info": {
   "codemirror_mode": {
    "name": "ipython",
    "version": 3
   },
   "file_extension": ".py",
   "mimetype": "text/x-python",
   "name": "python",
   "nbconvert_exporter": "python",
   "pygments_lexer": "ipython3",
   "version": "3.11.10"
  }
 },
 "nbformat": 4,
 "nbformat_minor": 2
}
