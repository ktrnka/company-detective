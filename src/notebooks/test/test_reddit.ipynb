{
 "cells": [
  {
   "cell_type": "code",
   "execution_count": 1,
   "metadata": {},
   "outputs": [],
   "source": [
    "from core import Seed, init\n",
    "\n",
    "init()\n",
    "\n"
   ]
  },
  {
   "cell_type": "code",
   "execution_count": 2,
   "metadata": {},
   "outputs": [
    {
     "name": "stderr",
     "output_type": "stream",
     "text": [
      "\u001b[32m2024-08-27 08:41:24.998\u001b[0m | \u001b[34m\u001b[1mDEBUG   \u001b[0m | \u001b[36mgoogle_search\u001b[0m:\u001b[36msearch\u001b[0m:\u001b[36m58\u001b[0m - \u001b[34m\u001b[1mGoogle search results: {'kind': 'customsearch#search', 'url': {'type': 'application/json', 'template': 'https://www.googleapis.com/customsearch/v1?q={searchTerms}&num={count?}&start={startIndex?}&lr={language?}&safe={safe?}&cx={cx?}&sort={sort?}&filter={filter?}&gl={gl?}&cr={cr?}&googlehost={googleHost?}&c2coff={disableCnTwTranslation?}&hq={hq?}&hl={hl?}&siteSearch={siteSearch?}&siteSearchFilter={siteSearchFilter?}&exactTerms={exactTerms?}&excludeTerms={excludeTerms?}&linkSite={linkSite?}&orTerms={orTerms?}&dateRestrict={dateRestrict?}&lowRange={lowRange?}&highRange={highRange?}&searchType={searchType}&fileType={fileType?}&rights={rights?}&imgSize={imgSize?}&imgType={imgType?}&imgColorType={imgColorType?}&imgDominantColor={imgDominantColor?}&alt=json'}, 'queries': {'request': [{'title': 'Google Custom Search - site:reddit.com \"Singularity 6\"\" \"Palia\"', 'totalResults': '834', 'searchTerms': 'site:reddit.com \"Singularity 6\"\" \"Palia\"', 'count': 10, 'startIndex': 1, 'language': 'lang_en', 'inputEncoding': 'utf8', 'outputEncoding': 'utf8', 'safe': 'off', 'cx': 'd5705c8967e3c4d63', 'gl': 'us', 'hl': 'en'}], 'nextPage': [{'title': 'Google Custom Search - site:reddit.com \"Singularity 6\"\" \"Palia\"', 'totalResults': '834', 'searchTerms': 'site:reddit.com \"Singularity 6\"\" \"Palia\"', 'count': 10, 'startIndex': 11, 'language': 'lang_en', 'inputEncoding': 'utf8', 'outputEncoding': 'utf8', 'safe': 'off', 'cx': 'd5705c8967e3c4d63', 'gl': 'us', 'hl': 'en'}]}, 'context': {'title': 'company_detective'}, 'searchInformation': {'searchTime': 0.170269, 'formattedSearchTime': '0.17', 'totalResults': '834', 'formattedTotalResults': '834'}, 'items': [{'kind': 'customsearch#result', 'title': 'Palia developers, Singularity 6, axes 35% of staff just after Steam ...', 'htmlTitle': '<b>Palia</b> developers, <b>Singularity 6</b>, axes 35% of staff just after Steam ...', 'link': 'https://www.reddit.com/r/MMORPG/comments/1bz2e0z/palia_developers_singularity_6_axes_35_of_staff/', 'displayLink': 'www.reddit.com', 'snippet': 'Apr 9, 2024 ... Palia developers, Singularity 6, axes 35% of staff just after Steam launch ... Palia isn\\'t quite an \"MMO\" but it\\'s still news. The developers have\\xa0...', 'htmlSnippet': 'Apr 9, 2024 <b>...</b> <b>Palia</b> developers, <b>Singularity 6</b>, axes 35% of staff just after Steam launch ... <b>Palia</b> isn&#39;t quite an &quot;MMO&quot; but it&#39;s still news. The developers have&nbsp;...', 'formattedUrl': 'https://www.reddit.com/.../palia_developers_singularity_6_axes_35_of_staf...', 'htmlFormattedUrl': 'https://www.reddit.com/.../<b>palia</b>_developers_<b>singularity_6</b>_axes_35_of_staf...', 'pagemap': {'cse_thumbnail': [{'src': 'https://encrypted-tbn0.gstatic.com/images?q=tbn:ANd9GcT6Dn6lCbhmplcefbvBLhUtZDfH1AzbWAi3yAXFGEpqX7D5tpyOYxUOGZzi&s', 'width': '300', 'height': '168'}], 'metatags': [{'og:image': 'https://external-preview.redd.it/palia-developers-singularity-6-axes-35-of-staff-just-after-v0-GIWhxWXcWWG3qaFqpledKI3bm93eRTQ-AcluTLNBDDo.jpg?width=1080&crop=smart&auto=webp&s=7b7d738b1aaf1510c7155a016b9f9283933498fe', 'theme-color': '#000000', 'og:image:width': '1080', 'og:type': 'website', 'twitter:card': 'summary_large_image', 'twitter:title': 'r/MMORPG on Reddit: Palia developers, Singularity 6, axes 35% of staff just after Steam launch', 'og:site_name': 'Reddit', 'og:title': 'r/MMORPG on Reddit: Palia developers, Singularity 6, axes 35% of staff just after Steam launch', 'og:image:height': '607', 'msapplication-navbutton-color': '#000000', 'og:description': 'Posted by u/Hexdro - 219 votes and 148 comments', 'twitter:image': 'https://external-preview.redd.it/palia-developers-singularity-6-axes-35-of-staff-just-after-v0-GIWhxWXcWWG3qaFqpledKI3bm93eRTQ-AcluTLNBDDo.jpg?width=1080&crop=smart&auto=webp&s=7b7d738b1aaf1510c7155a016b9f9283933498fe', 'apple-mobile-web-app-status-bar-style': 'black', 'twitter:site': '@reddit', 'viewport': 'width=device-width, initial-scale=1, viewport-fit=cover', 'apple-mobile-web-app-capable': 'yes', 'og:ttl': '600', 'og:url': 'https://www.reddit.com/r/MMORPG/comments/1bz2e0z/palia_developers_singularity_6_axes_35_of_staff/'}], 'cse_image': [{'src': 'https://external-preview.redd.it/palia-developers-singularity-6-axes-35-of-staff-just-after-v0-GIWhxWXcWWG3qaFqpledKI3bm93eRTQ-AcluTLNBDDo.jpg?width=1080&crop=smart&auto=webp&s=7b7d738b1aaf1510c7155a016b9f9283933498fe'}]}}, {'kind': 'customsearch#result', 'title': 'Cozy MMO Palia Developer Singularity 6 Has Suffered Layoffs : r ...', 'htmlTitle': 'Cozy MMO <b>Palia</b> Developer <b>Singularity 6</b> Has Suffered Layoffs : r ...', 'link': 'https://www.reddit.com/r/pcgaming/comments/1bwiuin/cozy_mmo_palia_developer_singularity_6_has/', 'displayLink': 'www.reddit.com', 'snippet': 'Apr 5, 2024 ... Cozy MMO Palia Developer Singularity 6 Has Suffered Layoffs ... The game is just not very good. For a life Sim it lacks basic features, the\\xa0...', 'htmlSnippet': 'Apr 5, 2024 <b>...</b> Cozy MMO <b>Palia</b> Developer <b>Singularity 6</b> Has Suffered Layoffs ... The game is just not very good. For a life Sim it lacks basic features, the&nbsp;...', 'formattedUrl': 'https://www.reddit.com/r/.../cozy_mmo_palia_developer_singularity_6_has...', 'htmlFormattedUrl': 'https://www.reddit.com/r/.../cozy_mmo_<b>palia</b>_developer_<b>singularity_6</b>_has...', 'pagemap': {'cse_thumbnail': [{'src': 'https://encrypted-tbn0.gstatic.com/images?q=tbn:ANd9GcTxvAjWjvShFqEJ43f5pGrq3vhUXXkw78vfN62laVfqHDaaoDKMd8DoSLU&s', 'width': '297', 'height': '170'}], 'metatags': [{'og:image': 'https://external-preview.redd.it/cozy-mmo-palia-developer-singularity-6-has-suffered-layoffs-v0-l6kmIef3L5FWUiv5yotKrjWuYuaS9oe8eGrpXivVfcI.jpg?auto=webp&s=b68c0c1f9f2a8abdbc794198143f0ac2c6e43c83', 'theme-color': '#000000', 'og:image:width': '700', 'og:type': 'website', 'twitter:card': 'summary_large_image', 'twitter:title': 'r/pcgaming on Reddit: Cozy MMO Palia Developer Singularity 6 Has Suffered Layoffs', 'og:site_name': 'Reddit', 'og:title': 'r/pcgaming on Reddit: Cozy MMO Palia Developer Singularity 6 Has Suffered Layoffs', 'og:image:height': '400', 'msapplication-navbutton-color': '#000000', 'og:description': 'Posted by u/quinn50 - 220 votes and 107 comments', 'twitter:image': 'https://external-preview.redd.it/cozy-mmo-palia-developer-singularity-6-has-suffered-layoffs-v0-l6kmIef3L5FWUiv5yotKrjWuYuaS9oe8eGrpXivVfcI.jpg?auto=webp&s=b68c0c1f9f2a8abdbc794198143f0ac2c6e43c83', 'apple-mobile-web-app-status-bar-style': 'black', 'twitter:site': '@reddit', 'viewport': 'width=device-width, initial-scale=1, viewport-fit=cover', 'apple-mobile-web-app-capable': 'yes', 'og:ttl': '600', 'og:url': 'https://www.reddit.com/r/pcgaming/comments/1bwiuin/cozy_mmo_palia_developer_singularity_6_has/'}], 'cse_image': [{'src': 'https://external-preview.redd.it/cozy-mmo-palia-developer-singularity-6-has-suffered-layoffs-v0-l6kmIef3L5FWUiv5yotKrjWuYuaS9oe8eGrpXivVfcI.jpg?auto=webp&s=b68c0c1f9f2a8abdbc794198143f0ac2c6e43c83'}]}}, {'kind': 'customsearch#result', 'title': 'Daybreak acquires Singularity 6 (Palia developer) : r/MMORPG', 'htmlTitle': 'Daybreak acquires <b>Singularity 6</b> (<b>Palia</b> developer) : r/MMORPG', 'link': 'https://www.reddit.com/r/MMORPG/comments/1dtp97n/daybreak_acquires_singularity_6_palia_developer/', 'displayLink': 'www.reddit.com', 'snippet': 'Jul 2, 2024 ... Daybreak acquires Singularity 6 (Palia developer) ... Can somebody finally buy Wildstar from NCsoft and re-launch my favorite mmorpg of all times?', 'htmlSnippet': 'Jul 2, 2024 <b>...</b> Daybreak acquires <b>Singularity 6</b> (<b>Palia</b> developer) ... Can somebody finally buy Wildstar from NCsoft and re-launch my favorite mmorpg of all times?', 'formattedUrl': 'https://www.reddit.com/.../daybreak_acquires_singularity_6_palia_develop...', 'htmlFormattedUrl': 'https://www.reddit.com/.../daybreak_acquires_<b>singularity_6</b>_<b>palia</b>_develop...', 'pagemap': {'cse_thumbnail': [{'src': 'https://encrypted-tbn0.gstatic.com/images?q=tbn:ANd9GcR-Ku0il2ORwE_ZvafGawxoAdFT0q7xTaAxUSDwfYAfknUsva-HC6QI11sQ&s', 'width': '310', 'height': '163'}], 'metatags': [{'og:image': 'https://external-preview.redd.it/daybreak-acquires-singularity-6-palia-developer-v0-P_xVgsCQEOCZlbf862zHmhBmIN0FHdThTHSWNXhxeyk.jpg?width=1080&crop=smart&auto=webp&s=dca3713aa8256861e17dcadf70f1396e7d6977af', 'theme-color': '#000000', 'og:image:width': '1080', 'og:type': 'website', 'twitter:card': 'summary_large_image', 'twitter:title': 'r/MMORPG on Reddit: Daybreak acquires Singularity 6 (Palia developer)', 'og:site_name': 'Reddit', 'og:title': 'r/MMORPG on Reddit: Daybreak acquires Singularity 6 (Palia developer)', 'og:image:height': '567', 'msapplication-navbutton-color': '#000000', 'og:description': 'Posted by u/Kaladinar - 130 votes and 189 comments', 'twitter:image': 'https://external-preview.redd.it/daybreak-acquires-singularity-6-palia-developer-v0-P_xVgsCQEOCZlbf862zHmhBmIN0FHdThTHSWNXhxeyk.jpg?width=1080&crop=smart&auto=webp&s=dca3713aa8256861e17dcadf70f1396e7d6977af', 'apple-mobile-web-app-status-bar-style': 'black', 'twitter:site': '@reddit', 'viewport': 'width=device-width, initial-scale=1, viewport-fit=cover', 'apple-mobile-web-app-capable': 'yes', 'og:ttl': '600', 'og:url': 'https://www.reddit.com/r/MMORPG/comments/1dtp97n/daybreak_acquires_singularity_6_palia_developer/'}], 'cse_image': [{'src': 'https://external-preview.redd.it/daybreak-acquires-singularity-6-palia-developer-v0-P_xVgsCQEOCZlbf862zHmhBmIN0FHdThTHSWNXhxeyk.jpg?width=1080&crop=smart&auto=webp&s=dca3713aa8256861e17dcadf70f1396e7d6977af'}]}}, {'kind': 'customsearch#result', 'title': 'Singularity 6 is not an indie company : r/Palia', 'htmlTitle': '<b>Singularity 6</b> is not an indie company : r/<b>Palia</b>', 'link': 'https://www.reddit.com/r/Palia/comments/15ss9gg/singularity_6_is_not_an_indie_company/', 'displayLink': 'www.reddit.com', 'snippet': 'Aug 16, 2023 ... Skip to main content Singularity 6 is not an indie company : r/Palia. Open menu.', 'htmlSnippet': 'Aug 16, 2023 <b>...</b> Skip to main content <b>Singularity 6</b> is not an indie company : r/<b>Palia</b>. Open menu.', 'formattedUrl': 'https://www.reddit.com/r/Palia/.../singularity_6_is_not_an_indie_company/', 'htmlFormattedUrl': 'https://www.reddit.com/r/<b>Palia</b>/.../<b>singularity_6</b>_is_not_an_indie_company/', 'pagemap': {'metatags': [{'og:image': 'https://share.redd.it/preview/post/15ss9gg', 'theme-color': '#000000', 'og:image:width': '1200', 'og:type': 'website', 'og:image:alt': 'An image containing a preview of the post', 'twitter:card': 'summary_large_image', 'twitter:title': 'r/Palia on Reddit: Singularity 6 is not an indie company', 'og:site_name': 'Reddit', 'og:title': 'r/Palia on Reddit: Singularity 6 is not an indie company', 'og:image:height': '630', 'msapplication-navbutton-color': '#000000', 'og:description': 'Posted by u/PsyTripper - 180 votes and 81 comments', 'twitter:image': 'https://share.redd.it/preview/post/15ss9gg', 'apple-mobile-web-app-status-bar-style': 'black', 'twitter:site': '@reddit', 'viewport': 'width=device-width, initial-scale=1, viewport-fit=cover', 'apple-mobile-web-app-capable': 'yes', 'og:ttl': '600', 'og:url': 'https://www.reddit.com/r/Palia/comments/15ss9gg/singularity_6_is_not_an_indie_company/'}], 'cse_image': [{'src': 'https://share.redd.it/preview/post/15ss9gg'}]}}, {'kind': 'customsearch#result', 'title': 'More layoffs at S6, teams down to a few dozen people now. : r/Palia', 'htmlTitle': 'More layoffs at S6, teams down to a few dozen people now. : r/<b>Palia</b>', 'link': 'https://www.reddit.com/r/Palia/comments/1ctgcw1/more_layoffs_at_s6_teams_down_to_a_few_dozen/', 'displayLink': 'www.reddit.com', 'snippet': 'May 16, 2024 ... A small company like Singularity 6 that offers a FREE game can\\'t keep paying extra people. So what they do is \"have a free vacation, see you\\xa0...', 'htmlSnippet': 'May 16, 2024 <b>...</b> A small company like <b>Singularity 6</b> that offers a FREE game can&#39;t keep paying extra people. So what they do is &quot;have a free vacation, see you&nbsp;...', 'formattedUrl': 'https://www.reddit.com/.../Palia/.../more_layoffs_at_s6_teams_down_to_a_...', 'htmlFormattedUrl': 'https://www.reddit.com/.../<b>Palia</b>/.../more_layoffs_at_s6_teams_down_to_a_...', 'pagemap': {'cse_thumbnail': [{'src': 'https://encrypted-tbn0.gstatic.com/images?q=tbn:ANd9GcSe6xybivpT0eVujMiXuwSqGwlSEqIAKd0bD9iAabnPDW1X8rE5gjpBkIw&s', 'width': '188', 'height': '268'}], 'metatags': [{'og:image': 'https://preview.redd.it/more-layoffs-at-s6-teams-down-to-a-few-dozen-people-now-v0-uyr68dz1at0d1.jpeg?width=1080&crop=smart&auto=webp&s=53e898ce8ebedc30668394ff21c3e3b3c1b4b1f6', 'theme-color': '#000000', 'og:image:width': '1080', 'og:type': 'website', 'twitter:card': 'summary_large_image', 'twitter:title': 'r/Palia on Reddit: More layoffs at S6, teams down to a few dozen people now.', 'og:site_name': 'Reddit', 'og:title': 'r/Palia on Reddit: More layoffs at S6, teams down to a few dozen people now.', 'og:image:height': '1539', 'msapplication-navbutton-color': '#000000', 'og:description': 'Posted by u/ImmaNotCrazy - 535 votes and 276 comments', 'twitter:image': 'https://preview.redd.it/more-layoffs-at-s6-teams-down-to-a-few-dozen-people-now-v0-uyr68dz1at0d1.jpeg?width=1080&crop=smart&auto=webp&s=53e898ce8ebedc30668394ff21c3e3b3c1b4b1f6', 'apple-mobile-web-app-status-bar-style': 'black', 'twitter:site': '@reddit', 'viewport': 'width=device-width, initial-scale=1, viewport-fit=cover', 'apple-mobile-web-app-capable': 'yes', 'og:ttl': '600', 'og:url': 'https://www.reddit.com/r/Palia/comments/1ctgcw1/more_layoffs_at_s6_teams_down_to_a_few_dozen/'}], 'cse_image': [{'src': 'https://preview.redd.it/more-layoffs-at-s6-teams-down-to-a-few-dozen-people-now-v0-uyr68dz1at0d1.jpeg?width=1080&crop=smart&auto=webp&s=53e898ce8ebedc30668394ff21c3e3b3c1b4b1f6'}]}}, {'kind': 'customsearch#result', 'title': 'Daybreak acquires Singularity 6, developer of Palia : r/CozyGamers', 'htmlTitle': 'Daybreak acquires <b>Singularity 6</b>, developer of <b>Palia</b> : r/CozyGamers', 'link': 'https://www.reddit.com/r/CozyGamers/comments/1dt80wx/daybreak_acquires_singularity_6_developer_of_palia/', 'displayLink': 'www.reddit.com', 'snippet': 'Jul 1, 2024 ... Daybreak acquires Singularity 6, developer of Palia ... Not a good news for Palia. Daybreak track record is not very good as they cancel alot of\\xa0...', 'htmlSnippet': 'Jul 1, 2024 <b>...</b> Daybreak acquires <b>Singularity 6</b>, developer of <b>Palia</b> ... Not a good news for <b>Palia</b>. Daybreak track record is not very good as they cancel alot of&nbsp;...', 'formattedUrl': 'https://www.reddit.com/.../daybreak_acquires_singularity_6_developer_of_...', 'htmlFormattedUrl': 'https://www.reddit.com/.../daybreak_acquires_<b>singularity_6</b>_developer_of_...', 'pagemap': {'cse_thumbnail': [{'src': 'https://encrypted-tbn0.gstatic.com/images?q=tbn:ANd9GcSKHpKUa36O-wGcgp7fqdSPre--Ick18e_tTFWIkQ-6vcWqyw4TIqxp0jA&s', 'width': '199', 'height': '253'}], 'metatags': [{'og:image': 'https://preview.redd.it/daybreak-acquires-singularity-6-developer-of-palia-v0-0zp7hqn7xz9d1.jpeg?width=1080&crop=smart&auto=webp&s=c74f1e324de579bc67b471c84d09cb8442de9449', 'theme-color': '#000000', 'og:image:width': '1080', 'og:type': 'website', 'twitter:card': 'summary_large_image', 'twitter:title': 'r/CozyGamers on Reddit: Daybreak acquires Singularity 6, developer of Palia', 'og:site_name': 'Reddit', 'og:title': 'r/CozyGamers on Reddit: Daybreak acquires Singularity 6, developer of Palia', 'og:image:height': '1374', 'msapplication-navbutton-color': '#000000', 'og:description': 'Posted by u/Consistent-Hat-8008 - 18 votes and 15 comments', 'twitter:image': 'https://preview.redd.it/daybreak-acquires-singularity-6-developer-of-palia-v0-0zp7hqn7xz9d1.jpeg?width=1080&crop=smart&auto=webp&s=c74f1e324de579bc67b471c84d09cb8442de9449', 'apple-mobile-web-app-status-bar-style': 'black', 'twitter:site': '@reddit', 'viewport': 'width=device-width, initial-scale=1, viewport-fit=cover', 'apple-mobile-web-app-capable': 'yes', 'og:ttl': '600', 'og:url': 'https://www.reddit.com/r/CozyGamers/comments/1dt80wx/daybreak_acquires_singularity_6_developer_of_palia/'}], 'cse_image': [{'src': 'https://preview.redd.it/daybreak-acquires-singularity-6-developer-of-palia-v0-0zp7hqn7xz9d1.jpeg?width=1080&crop=smart&auto=webp&s=c74f1e324de579bc67b471c84d09cb8442de9449'}]}}, {'kind': 'customsearch#result', 'title': 'Singularity 6 raises $30m to fund debut MMO game Palia : r/MMORPG', 'htmlTitle': '<b>Singularity 6</b> raises $30m to fund debut MMO game <b>Palia</b> : r/MMORPG', 'link': 'https://www.reddit.com/r/MMORPG/comments/obkdoi/singularity_6_raises_30m_to_fund_debut_mmo_game/', 'displayLink': 'www.reddit.com', 'snippet': 'Jul 1, 2021 ... Singularity 6 raises $30m to fund debut MMO game Palia ... Good. This game is going to be absolutely massive. First day it was announced the\\xa0...', 'htmlSnippet': 'Jul 1, 2021 <b>...</b> <b>Singularity 6</b> raises $30m to fund debut MMO game <b>Palia</b> ... Good. This game is going to be absolutely massive. First day it was announced the&nbsp;...', 'formattedUrl': 'https://www.reddit.com/.../singularity_6_raises_30m_to_fund_debut_mmo...', 'htmlFormattedUrl': 'https://www.reddit.com/.../<b>singularity_6</b>_raises_30m_to_fund_debut_mmo...', 'pagemap': {'cse_thumbnail': [{'src': 'https://encrypted-tbn0.gstatic.com/images?q=tbn:ANd9GcRFK9U-X6-6TLIuGcJ5Vfwgt31SvBBMtOi8hqoF2edNvCdxYSRNCkBYxg&s', 'width': '310', 'height': '163'}], 'metatags': [{'og:image': 'https://external-preview.redd.it/FCD5eNKGylCRWn1Izr9s7EB10KNEkoBLdG590R5n918.jpg?width=1080&crop=smart&auto=webp&s=47cfa2a32ffb97dabb2744fe425f37103186f945', 'theme-color': '#000000', 'og:image:width': '1080', 'og:type': 'website', 'twitter:card': 'summary_large_image', 'twitter:title': 'r/MMORPG on Reddit: Singularity 6 raises $30m to fund debut MMO game Palia', 'og:site_name': 'Reddit', 'og:title': 'r/MMORPG on Reddit: Singularity 6 raises $30m to fund debut MMO game Palia', 'og:image:height': '567', 'msapplication-navbutton-color': '#000000', 'og:description': 'Posted by u/Kaladinar - 271 votes and 147 comments', 'twitter:image': 'https://external-preview.redd.it/FCD5eNKGylCRWn1Izr9s7EB10KNEkoBLdG590R5n918.jpg?width=1080&crop=smart&auto=webp&s=47cfa2a32ffb97dabb2744fe425f37103186f945', 'apple-mobile-web-app-status-bar-style': 'black', 'twitter:site': '@reddit', 'viewport': 'width=device-width, initial-scale=1, viewport-fit=cover', 'apple-mobile-web-app-capable': 'yes', 'og:ttl': '600', 'og:url': 'https://www.reddit.com/r/MMORPG/comments/obkdoi/singularity_6_raises_30m_to_fund_debut_mmo_game/'}], 'cse_image': [{'src': 'https://external-preview.redd.it/FCD5eNKGylCRWn1Izr9s7EB10KNEkoBLdG590R5n918.jpg?width=1080&crop=smart&auto=webp&s=47cfa2a32ffb97dabb2744fe425f37103186f945'}]}}, {'kind': 'customsearch#result', 'title': '[REPOST] OPEN UP YOUR EYES : r/Palia', 'htmlTitle': '[REPOST] OPEN UP YOUR EYES : r/<b>Palia</b>', 'link': 'https://www.reddit.com/r/Palia/comments/15sufww/repost_open_up_your_eyes/', 'displayLink': 'www.reddit.com', 'snippet': 'Aug 16, 2023 ... Singularity 6, the developer of the the MMO Palia that has echoes of Animal Crossing and Breath of the Wild, has raised $30 million in\\xa0...', 'htmlSnippet': 'Aug 16, 2023 <b>...</b> <b>Singularity 6</b>, the developer of the the MMO <b>Palia</b> that has echoes of Animal Crossing and Breath of the Wild, has raised $30 million in&nbsp;...', 'formattedUrl': 'https://www.reddit.com/r/Palia/comments/.../repost_open_up_your_eyes/', 'htmlFormattedUrl': 'https://www.reddit.com/r/<b>Palia</b>/comments/.../repost_open_up_your_eyes/', 'pagemap': {'cse_thumbnail': [{'src': 'https://encrypted-tbn0.gstatic.com/images?q=tbn:ANd9GcQMnwfGyl3RIrQqrXaUMptBH1zNIoAklpjDR5R1_rXtj28EyxgGCtDGcYv3&s', 'width': '301', 'height': '167'}], 'metatags': [{'og:image': 'https://share.redd.it/preview/post/15sufww', 'theme-color': '#000000', 'og:image:width': '1200', 'og:type': 'website', 'og:image:alt': 'An image containing a preview of the post', 'twitter:card': 'summary_large_image', 'twitter:title': 'r/Palia on Reddit: [REPOST] OPEN UP YOUR EYES', 'og:site_name': 'Reddit', 'og:title': 'r/Palia on Reddit: [REPOST] OPEN UP YOUR EYES', 'og:image:height': '630', 'msapplication-navbutton-color': '#000000', 'og:description': 'Posted by u/ArrynMythey - 265 votes and 127 comments', 'twitter:image': 'https://share.redd.it/preview/post/15sufww', 'apple-mobile-web-app-status-bar-style': 'black', 'twitter:site': '@reddit', 'viewport': 'width=device-width, initial-scale=1, viewport-fit=cover', 'apple-mobile-web-app-capable': 'yes', 'og:ttl': '600', 'og:url': 'https://www.reddit.com/r/Palia/comments/15sufww/repost_open_up_your_eyes/'}], 'cse_image': [{'src': 'https://preview.redd.it/repost-open-up-your-eyes-v0-f7bfju0qbjib1.png?width=1132&format=png&auto=webp&s=caed5c8b2d344ccf34934cedf44d709111894ddd'}]}}, {'kind': 'customsearch#result', 'title': \"Can't even give Singularity 6 my money : r/Palia\", 'htmlTitle': 'Can&#39;t even give <b>Singularity 6</b> my money : r/<b>Palia</b>', 'link': 'https://www.reddit.com/r/Palia/comments/19bqfoy/cant_even_give_singularity_6_my_money/', 'displayLink': 'www.reddit.com', 'snippet': \"Jan 21, 2024 ... Skip to main content Can't even give Singularity 6 my money : r/Palia. Open menu.\", 'htmlSnippet': 'Jan 21, 2024 <b>...</b> Skip to main content Can&#39;t even give <b>Singularity 6</b> my money : r/<b>Palia</b>. Open menu.', 'formattedUrl': 'https://www.reddit.com/r/Palia/.../cant_even_give_singularity_6_my_mone...', 'htmlFormattedUrl': 'https://www.reddit.com/r/<b>Palia</b>/.../cant_even_give_<b>singularity_6</b>_my_mone...', 'pagemap': {'metatags': [{'og:image': 'https://share.redd.it/preview/post/19bqfoy', 'theme-color': '#000000', 'og:image:width': '1200', 'og:type': 'website', 'og:image:alt': 'An image containing a preview of the post', 'twitter:card': 'summary_large_image', 'twitter:title': \"r/Palia on Reddit: Can't even give Singularity 6 my money\", 'og:site_name': 'Reddit', 'og:title': \"r/Palia on Reddit: Can't even give Singularity 6 my money\", 'og:image:height': '630', 'msapplication-navbutton-color': '#000000', 'og:description': 'Posted by u/Levness - 5 votes and 9 comments', 'twitter:image': 'https://share.redd.it/preview/post/19bqfoy', 'apple-mobile-web-app-status-bar-style': 'black', 'twitter:site': '@reddit', 'viewport': 'width=device-width, initial-scale=1, viewport-fit=cover', 'apple-mobile-web-app-capable': 'yes', 'og:ttl': '600', 'og:url': 'https://www.reddit.com/r/Palia/comments/19bqfoy/cant_even_give_singularity_6_my_money/'}], 'cse_image': [{'src': 'https://share.redd.it/preview/post/19bqfoy'}]}}, {'kind': 'customsearch#result', 'title': 'Daybreak Game Company : r/Palia', 'htmlTitle': 'Daybreak Game Company : r/<b>Palia</b>', 'link': 'https://www.reddit.com/r/Palia/comments/1dt7ujt/daybreak_game_company/', 'displayLink': 'www.reddit.com', 'snippet': 'Jul 1, 2024 ... ... , so he said it sounds like Daybreak will hopefully be a good fit for Singularity 6 and Palia. Upvote 5. Downvote Reply reply. Award', 'htmlSnippet': 'Jul 1, 2024 <b>...</b> ... , so he said it sounds like Daybreak will hopefully be a good fit for <b>Singularity 6</b> and <b>Palia</b>. Upvote 5. Downvote Reply reply. Award', 'formattedUrl': 'https://www.reddit.com/r/Palia/comments/.../daybreak_game_company/', 'htmlFormattedUrl': 'https://www.reddit.com/r/<b>Palia</b>/comments/.../daybreak_game_company/', 'pagemap': {'cse_thumbnail': [{'src': 'https://encrypted-tbn0.gstatic.com/images?q=tbn:ANd9GcTjDxZH3KsLWHxib1QKnfd7ZFH7wMSrf2AE8rvU0xkBFs-hWfM5RgAGl0aa&s', 'width': '199', 'height': '253'}], 'metatags': [{'og:image': 'https://preview.redd.it/daybreak-game-company-v0-ej3cejzxvz9d1.jpeg?width=1080&crop=smart&auto=webp&s=34a1319de9551ceaae7c06d02370cbecdbc483a2', 'theme-color': '#000000', 'og:image:width': '1080', 'og:type': 'website', 'twitter:card': 'summary_large_image', 'twitter:title': 'r/Palia on Reddit: Daybreak Game Company', 'og:site_name': 'Reddit', 'og:title': 'r/Palia on Reddit: Daybreak Game Company', 'og:image:height': '1374', 'msapplication-navbutton-color': '#000000', 'og:description': 'Posted by u/AmElzewhere - 513 votes and 313 comments', 'twitter:image': 'https://preview.redd.it/daybreak-game-company-v0-ej3cejzxvz9d1.jpeg?width=1080&crop=smart&auto=webp&s=34a1319de9551ceaae7c06d02370cbecdbc483a2', 'apple-mobile-web-app-status-bar-style': 'black', 'twitter:site': '@reddit', 'viewport': 'width=device-width, initial-scale=1, viewport-fit=cover', 'apple-mobile-web-app-capable': 'yes', 'og:ttl': '600', 'og:url': 'https://www.reddit.com/r/Palia/comments/1dt7ujt/daybreak_game_company/'}], 'cse_image': [{'src': 'https://preview.redd.it/daybreak-game-company-v0-ej3cejzxvz9d1.jpeg?width=1080&crop=smart&auto=webp&s=34a1319de9551ceaae7c06d02370cbecdbc483a2'}]}}]}\u001b[0m\n",
      "\u001b[32m2024-08-27 08:41:26.112\u001b[0m | \u001b[1mINFO    \u001b[0m | \u001b[36mcore\u001b[0m:\u001b[36mshorten_markdown\u001b[0m:\u001b[36m222\u001b[0m - \u001b[1m36,034 -> 29,185 chars (81% of original)\u001b[0m\n",
      "\u001b[32m2024-08-27 08:41:26.113\u001b[0m | \u001b[1mINFO    \u001b[0m | \u001b[36mcore\u001b[0m:\u001b[36mshorten_markdown\u001b[0m:\u001b[36m222\u001b[0m - \u001b[1m26,675 -> 20,198 chars (76% of original)\u001b[0m\n",
      "\u001b[32m2024-08-27 08:41:26.114\u001b[0m | \u001b[1mINFO    \u001b[0m | \u001b[36mcore\u001b[0m:\u001b[36mshorten_markdown\u001b[0m:\u001b[36m222\u001b[0m - \u001b[1m43,769 -> 33,689 chars (77% of original)\u001b[0m\n",
      "\u001b[32m2024-08-27 08:41:26.115\u001b[0m | \u001b[1mINFO    \u001b[0m | \u001b[36mcore\u001b[0m:\u001b[36mshorten_markdown\u001b[0m:\u001b[36m222\u001b[0m - \u001b[1m23,478 -> 19,762 chars (84% of original)\u001b[0m\n",
      "\u001b[32m2024-08-27 08:41:26.117\u001b[0m | \u001b[1mINFO    \u001b[0m | \u001b[36mcore\u001b[0m:\u001b[36mshorten_markdown\u001b[0m:\u001b[36m222\u001b[0m - \u001b[1m89,810 -> 74,514 chars (83% of original)\u001b[0m\n",
      "\u001b[32m2024-08-27 08:41:26.119\u001b[0m | \u001b[1mINFO    \u001b[0m | \u001b[36mcore\u001b[0m:\u001b[36mshorten_markdown\u001b[0m:\u001b[36m222\u001b[0m - \u001b[1m3,228 -> 2,119 chars (66% of original)\u001b[0m\n",
      "\u001b[32m2024-08-27 08:41:26.120\u001b[0m | \u001b[1mINFO    \u001b[0m | \u001b[36mcore\u001b[0m:\u001b[36mshorten_markdown\u001b[0m:\u001b[36m222\u001b[0m - \u001b[1m27,337 -> 20,855 chars (76% of original)\u001b[0m\n",
      "\u001b[32m2024-08-27 08:41:26.122\u001b[0m | \u001b[1mINFO    \u001b[0m | \u001b[36mcore\u001b[0m:\u001b[36mshorten_markdown\u001b[0m:\u001b[36m222\u001b[0m - \u001b[1m53,902 -> 48,411 chars (90% of original)\u001b[0m\n",
      "\u001b[32m2024-08-27 08:41:26.123\u001b[0m | \u001b[1mINFO    \u001b[0m | \u001b[36mcore\u001b[0m:\u001b[36mshorten_markdown\u001b[0m:\u001b[36m222\u001b[0m - \u001b[1m3,535 -> 2,859 chars (81% of original)\u001b[0m\n",
      "\u001b[32m2024-08-27 08:41:26.124\u001b[0m | \u001b[1mINFO    \u001b[0m | \u001b[36mcore\u001b[0m:\u001b[36mshorten_markdown\u001b[0m:\u001b[36m222\u001b[0m - \u001b[1m83,811 -> 71,318 chars (85% of original)\u001b[0m\n",
      "\u001b[32m2024-08-27 08:41:26.249\u001b[0m | \u001b[1mINFO    \u001b[0m | \u001b[36mcore\u001b[0m:\u001b[36munshorten_markdown\u001b[0m:\u001b[36m241\u001b[0m - \u001b[1m7,154 -> 10,403 chars (145% of original)\u001b[0m\n",
      "\u001b[32m2024-08-27 08:41:26.249\u001b[0m | \u001b[1mINFO    \u001b[0m | \u001b[36mreddit.summarizer\u001b[0m:\u001b[36msummarize\u001b[0m:\u001b[36m141\u001b[0m - \u001b[1mReddit: Extract stage 391,579 chars -> 19,039 chars (5%)\u001b[0m\n",
      "\u001b[32m2024-08-27 08:41:26.250\u001b[0m | \u001b[1mINFO    \u001b[0m | \u001b[36mreddit.summarizer\u001b[0m:\u001b[36msummarize\u001b[0m:\u001b[36m147\u001b[0m - \u001b[1mReddit: Combine stage 19,039 chars -> 10,403 chars (55%)\u001b[0m\n",
      "\u001b[32m2024-08-27 08:41:26.251\u001b[0m | \u001b[1mINFO    \u001b[0m | \u001b[36mreddit.summarizer\u001b[0m:\u001b[36msummarize\u001b[0m:\u001b[36m156\u001b[0m - \u001b[1m391,597 -> 10,403 chars (3%) \u001b[0m\n",
      "\u001b[32m2024-08-27 08:41:26.279\u001b[0m | \u001b[1mINFO    \u001b[0m | \u001b[36mreddit.summarizer\u001b[0m:\u001b[36msummarize\u001b[0m:\u001b[36m156\u001b[0m - \u001b[1mExtractive fraction: 67% \u001b[0m\n",
      "\u001b[32m2024-08-27 08:41:26.280\u001b[0m | \u001b[1mINFO    \u001b[0m | \u001b[36mreddit.summarizer\u001b[0m:\u001b[36msummarize\u001b[0m:\u001b[36m156\u001b[0m - \u001b[1mPercent of URLs in sources: 100% ✅\u001b[0m\n",
      "\u001b[32m2024-08-27 08:41:26.281\u001b[0m | \u001b[1mINFO    \u001b[0m | \u001b[36mreddit.summarizer\u001b[0m:\u001b[36msummarize\u001b[0m:\u001b[36m156\u001b[0m - \u001b[1mCitation density: 35.0% (percent of output used by URLs/link syntax) \u001b[0m\n",
      "\u001b[32m2024-08-27 08:41:26.282\u001b[0m | \u001b[1mINFO    \u001b[0m | \u001b[36mreddit.summarizer\u001b[0m:\u001b[36msummarize\u001b[0m:\u001b[36m156\u001b[0m - \u001b[1mDistinct URLs (summary / input): 30 / 897\u001b[0m\n",
      "\u001b[32m2024-08-27 08:41:26.283\u001b[0m | \u001b[1mINFO    \u001b[0m | \u001b[36mreddit.summarizer\u001b[0m:\u001b[36msummarize\u001b[0m:\u001b[36m156\u001b[0m - \u001b[1mSuspicious URLs: set()\u001b[0m\n",
      "\u001b[32m2024-08-27 08:41:26.284\u001b[0m | \u001b[1mINFO    \u001b[0m | \u001b[36mreddit.summarizer\u001b[0m:\u001b[36msummarize\u001b[0m:\u001b[36m156\u001b[0m - \u001b[1mCache mentions: 0 ✅\u001b[0m\n"
     ]
    }
   ],
   "source": [
    "import reddit\n",
    "\n",
    "# search, filter, and summarize!\n",
    "target = Seed(\"Singularity 6\", \"Palia\")\n",
    "reddit_result = reddit.run(target, num_threads=10)"
   ]
  },
  {
   "cell_type": "code",
   "execution_count": 3,
   "metadata": {},
   "outputs": [
    {
     "name": "stdout",
     "output_type": "stream",
     "text": [
      "# Sentiment on Palia\n",
      "\n",
      "## Negative Sentiment\n",
      "- \"Palia felt restrictive. If the goal was to move away entirely from pvp and combat more generally... you had to have had more freedom for players to build solo, build together to make a village, a town, a city.\" [generalmasandra, Reddit, 2024-04-08](https://www.reddit.com/r/MMORPG/comments/1bz2e0z/palia_developers_singularity_6_axes_35_of_staff/kyn4d7g/)\n",
      "- \"The gameplay loop was so insanely boring, only two zones and max. 24 other Players with you on one map.\" [Labskaus77, Reddit, 2024-04-08](https://www.reddit.com/r/MMORPG/comments/1bz2e0z/palia_developers_singularity_6_axes_35_of_staff/kyn2w40/)\n",
      "- \"The studio doesn't seem to know what it's doing or they're just trying to go after whales.\" [MyStationIsAbandoned, Reddit, 2024-04-08](https://www.reddit.com/r/MMORPG/comments/1bz2e0z/palia_developers_singularity_6_axes_35_of_staff/kyn75n0/)\n",
      "- \"The game should have been $20, single player, with a focus on the story since that's exactly how it plays.\" [MyStationIsAbandoned, Reddit, 2024-04-08](https://www.reddit.com/r/MMORPG/comments/1bz2e0z/palia_developers_singularity_6_axes_35_of_staff/kyn75n0/)\n",
      "- \"The cash shop is pretty toxic, I'm not sure Palia even has nice intentions.\" [Significant-Summer32, Reddit, 2024-04-09](https://www.reddit.com/r/MMORPG/comments/1bz2e0z/palia_developers_singularity_6_axes_35_of_staff/kyqw5r3/)\n",
      "- \"This game feels like some big money laundering scheme or something.\" [starry101, Reddit, 2024-04-09](https://www.reddit.com/r/MMORPG/comments/1bz2e0z/palia_developers_singularity_6_axes_35_of_staff/kypxgdb/)\n",
      "- \"The game is just not very good. For a life Sim it lacks basic features, the decorating is nice but you can hardly interact with anything.\" [Cavissi, Reddit, 2024-04-05](https://www.reddit.com/r/pcgaming/comments/1bwiuin/cozy_mmo_palia_developer_singularity_6_has/ky6tkrn/)\n",
      "- \"The core problem is that what was available in Alpha was *exactly* what was delivered in Beta 2 years later. No progress whatsoever in the development.\" [SyleSpawn, Reddit, 2024-04-06](https://www.reddit.com/r/pcgaming/comments/1bwiuin/cozy_mmo_palia_developer_singularity_6_has/kyauig7/)\n",
      "- \"Game is just bad. Ain't even an MMO but an instances game pretending to be an mmo.\" [Lights9, Reddit, 2024-04-05](https://www.reddit.com/r/pcgaming/comments/1bwiuin/cozy_mmo_palia_developer_singularity_6_has/ky6nw78/)\n",
      "- \"Palia is incredibly boring. They’ve spent more on adding outfits to the premium shop than actual content.\" [riddlemore, Reddit, 2024-04-05](https://www.reddit.com/r/pcgaming/comments/1bwiuin/cozy_mmo_palia_developer_singularity_6_has/ky8511k/)\n",
      "- \"Palia was a big miss for me, and I'm basically the intended audience. I love cozy and crafting games, and love mmos. But it had none of the charm that most good cozy games have, and pretty awful monetization.\" [Cavissi, Reddit, 2024-07-02](https://www.reddit.com/r/MMORPG/comments/1dtp97n/daybreak_acquires_singularity_6_palia_developer/lbbellw/)\n",
      "- \"I gave that game 2 months. They spent 8 years making that game. Two tiny maps. Barely any content. A shit tone of boring cashshop stuff with no way to unlock new clothing in game.\" [MyStationIsAbandoned, Reddit, 2024-07-02](https://www.reddit.com/r/MMORPG/comments/1dtp97n/daybreak_acquires_singularity_6_palia_developer/lbcd04q/)\n",
      "- \"Palia failed as a game and failed their objectives. This is the confirmation.\" [Ic3b3rgS, Reddit, 2024-07-03](https://www.reddit.com/r/MMORPG/comments/1dtp97n/daybreak_acquires_singularity_6_palia_developer/lbd8iv3/)\n",
      "- \"Palia was dying pretty steadily, all the devs getting fired, etc. so I can't imagine they paid more than a few million for the whole thing.\" [tsukaimeLoL, Reddit, 2024-07-03](https://www.reddit.com/r/MMORPG/comments/1dtp97n/daybreak_acquires_singularity_6_palia_developer/lbeipg7/)\n",
      "\n",
      "## Mixed Sentiment\n",
      "- \"The story and characters are great, if you like those kind of stories.\" [SvenWollinger, Reddit, 2024-04-09](https://www.reddit.com/r/MMORPG/comments/1bz2e0z/palia_developers_singularity_6_axes_35_of_staff/kypy0pe/)\n",
      "- \"I honestly love this game and have been playing it every day since the release on steam.\" [Rolex_Flex, Reddit, 2024-04-05](https://www.reddit.com/r/pcgaming/comments/1bwiuin/cozy_mmo_palia_developer_singularity_6_has/ky7ocli/)\n",
      "- \"I’m really enjoying the game so far but there are a lot of things wrong & predatory about their model.\" [Overall-Reindeer3248, Reddit, 2023-08-17](https://www.reddit.com/r/Palia/comments/15ss9gg/singularity_6_is_not_an_indie_company/jwjsqa0/)\n",
      "- \"I love Palia, and I love what the studio has tried to do with their monetization model.\" [lbb2of8, Reddit, 2024-07-02](https://www.reddit.com/r/Palia/comments/1dt7ujt/daybreak_game_company/lbb2of8/)\n",
      "\n",
      "## Positive Sentiment\n",
      "- \"Palia is a beautiful game. I really really hope it has a better chance.\" [screegeegoo, Reddit, 2024-07-02](https://www.reddit.com/r/Palia/comments/1dt7ujt/daybreak_game_company/lb7qft9/)\n",
      "- \"I’m excited it’s coming to Xbox finally.\" [Still-Weird-5689, Reddit, 2024-07-02](https://www.reddit.com/r/Palia/comments/1dt7ujt/daybreak_game_company/lb7nfas/)\n",
      "\n",
      "# Sentiment on Singularity 6\n",
      "\n",
      "## Company Overview\n",
      "- \"Singularity 6 is a multi million dollar studio with over 50 million dollar investments made.\" [PsyTripper, Reddit, 2023-08-16](https://www.reddit.com/r/Palia/comments/15ss9gg/singularity_6_is_not_an_indie_company/)\n",
      "- \"Singularity 6 has 169 Employees.\" [ArrynMythey, Reddit, 2023-08-16](https://www.reddit.com/r/Palia/comments/15sufww/repost_open_up_your_eyes/)\n",
      "- \"Singularity 6, the developer of the MMO Palia that has echoes of Animal Crossing and Breath of the Wild, has raised $30 million in Series B funding to help fuel the development of that title.\" [ArrynMythey, Reddit, 2023-08-16](https://www.reddit.com/r/Palia/comments/15sufww/repost_open_up_your_eyes/)\n",
      "\n",
      "## Company Criticism\n",
      "- \"The studio doesn't seem to know what it's doing or they're just trying to go after whales.\" [MyStationIsAbandoned, Reddit, 2024-04-08](https://www.reddit.com/r/MMORPG/comments/1bz2e0z/palia_developers_singularity_6_axes_35_of_staff/kyn75n0/)\n",
      "- \"The decisions they are making around their cash shop are their own.\" [rosemarygirl2456, Reddit, 2023-08-16](https://www.reddit.com/r/Palia/comments/15ss9gg/singularity_6_is_not_an_indie_company/jwh8vzd/]\n",
      "- \"The latest patch that added only few items to the game and more items and pets to the cash shop proved what this studio... really is.\" [ArrynMythey, Reddit, 2023-08-16](https://www.reddit.com/r/Palia/comments/15sufww/repost_open_up_your_eyes/)\n",
      "\n",
      "## Company Future\n",
      "- \"If nothing changes with the game's official release, this game will die a slow death.\" [ArrynMythey, Reddit, 2023-08-16](https://www.reddit.com/r/Palia/comments/15sufww/repost_open_up_your_eyes/)\n",
      "- \"I think they are starting to realize how little money this game is really going to make vs how much they are spending on development.\" [ImmaNotCrazy, Reddit, 2024-05-18](https://www.reddit.com/r/Palia/comments/1ctgcw1/more_layoffs_at_s6_teams_down_to_a_few_dozen/l4mgu6e/)\n",
      "\n",
      "# Palia's Gameplay and Features\n",
      "\n",
      "## Gameplay Experience\n",
      "- \"The gameplay loop is so simple, we've seen it back on Nintendo DS.\" [Jakobmiller, Reddit, 2024-04-08](https://www.reddit.com/r/MMORPG/comments/1bz2e0z/palia_developers_singularity_6_axes_35_of_staff/kyo6e9e/)\n",
      "- \"The game needed more progression in more ways and more interesting ways to life skill with some mini games or something.\" [Zymbobwye, Reddit, 2024-04-12](https://www.reddit.com/r/MMORPG/comments/1bz2e0z/palia_developers_singularity_6_axes_35_of_staff/kz78c0n/)\n",
      "- \"Even the cozy features were half baked. You couldn't interact with basic benches and chairs in town, the clothing store only had cash shop items and wasn't really much of a store.\" [Cavissi, Reddit, 2024-07-02](https://www.reddit.com/r/MMORPG/comments/1dtp97n/daybreak_acquires_singularity_6_palia_developer/lbc6t9u/)\n",
      "\n",
      "## Community Feedback\n",
      "- \"I've been following the game since alpha. The core problem with this studio is that instead of listening to *years* of player feedback, they try to control the narrative and stifle discussion everywhere they can.\" [Consistent-Hat-8008, Reddit, 2024-04-05](https://www.reddit.com/r/pcgaming/comments/1bwiuin/cozy_mmo_palia_developer_singularity_6_has/ky83aom/]\n",
      "- \"Are they still instantly banning anyone that offers constructive criticism?\" [LaurenMille, Reddit, 2024-04-06](https://www.reddit.com/r/pcgaming/comments/1bwiuin/cozy_mmo_palia_developer_singularity_6_has/ky9fot3/)\n",
      "\n",
      "# Monetization and Cash Shop\n",
      "\n",
      "## Criticism of Monetization\n",
      "- \"The cash shop is pretty toxic, I'm not sure Palia even has nice intentions.\" [Significant-Summer32, Reddit, 2024-04-09](https://www.reddit.com/r/MMORPG/comments/1bz2e0z/palia_developers_singularity_6_axes_35_of_staff/kyqw5r3/)\n",
      "- \"The game has shit monetization anyway with cosmetics being 99% locked behind the shop.\" [Puffelpuff, Reddit, 2024-07-03](https://www.reddit.com/r/MMORPG/comments/1dtp97n/daybreak_acquires_singularity_6_palia_developer/lbeo38c/)\n",
      "- \"Honestly, imo it sucks the monetization in this is so weak.\" [DrCashew, Reddit, 2024-05-17](https://www.reddit.com/r/Palia/comments/1ctgcw1/more_layoffs_at_s6_teams_down_to_a_few_dozen/l4hvari/]\n",
      "\n",
      "## Suggestions for Improvement\n",
      "- \"I think they should start considering other ways to monetize this game.\" [Repulsive_SeaGoose, Reddit, 2024-05-17](https://www.reddit.com/r/Palia/comments/1ctgcw1/more_layoffs_at_s6_teams_down_to_a_few_dozen/l4e89a0/)\n",
      "- \"I wish they'd just charge for the game.\" [Angry1980Christmas, Reddit, 2024-05-16](https://www.reddit.com/r/Palia/comments/1ctgcw1/more_layoffs_at_s6_teams_down_to_a_few_dozen/l4bumh9/)\n",
      "\n",
      "# Technical Issues\n",
      "\n",
      "## Bugs and Glitches\n",
      "- \"The Paypal option just constantly refreshes without letting me input anything, while the credit card option hangs on a blank page after hitting 'pay.'\" [Levness, Reddit, 2024-01-21](https://www.reddit.com/r/Palia/comments/19bqfoy/cant_even_give_singularity_6_my_money/)\n",
      "- \"Whatever in-game browser they're using seems buggy as hell.\" [Levness, Reddit, 2024-01-21](https://www.reddit.com/r/Palia/comments/19bqfoy/cant_even_give_singularity_6_my_money/]\n",
      "\n",
      "## User Experience\n",
      "- \"Imagine having to send a ticket or contact support so you could give them money, hilarious.\" [None, Reddit, 2024-01-21](https://www.reddit.com/r/Palia/comments/19bqfoy/cant_even_give_singularity_6_my_money/kiwbwwj/]\n"
     ]
    }
   ],
   "source": [
    "print(reddit_result.summary.output_text)"
   ]
  },
  {
   "cell_type": "code",
   "execution_count": 4,
   "metadata": {},
   "outputs": [],
   "source": [
    "# reddit_result.threads\n",
    "\n",
    "import reddit.fetch\n",
    "thread_markdowns = [reddit.fetch.submission_to_markdown(thread) for thread in reddit_result.threads]"
   ]
  },
  {
   "cell_type": "code",
   "execution_count": 5,
   "metadata": {},
   "outputs": [
    {
     "name": "stdout",
     "output_type": "stream",
     "text": [
      "# Post ID 1bz2e0z: Palia developers, Singularity 6, axes 35% of staff just after Steam launch with +218 score by [Hexdro on 2024-04-08](https://www.reddit.com/r/MMORPG/comments/1bz2e0z/palia_developers_singularity_6_axes_35_of_staff/)\n",
      "\n",
      "\n",
      "## Comment ID kyn4d7g with +35 score by [generalmasandra on 2024-04-08](https://www.reddit.com/r/MMORPG/comments/1bz2e0z/palia_developers_singularity_6_axes_35_of_staff/kyn4d7g/) (in reply to ID 1bz2e0z):\n",
      "I got hopeful when I read former Riot, a non pvp/combat-is\n"
     ]
    }
   ],
   "source": [
    "llm_context = \"\\n\\n\".join(thread_markdowns)\n",
    "print(llm_context[:500])"
   ]
  },
  {
   "cell_type": "code",
   "execution_count": 6,
   "metadata": {},
   "outputs": [
    {
     "name": "stdout",
     "output_type": "stream",
     "text": [
      "# Sentiment on Palia\n",
      "\n",
      "## Negative Sentiment\n",
      "- \"Palia felt restrictive. If the goal was to move away entirely from pvp and combat more generally... you had to have had more freedom for players to build solo, build together to make a village, a town, a city.\" [generalmasandra, Reddit, 2024-04-08](https://www.reddit.com/r/MMORPG/comments/1bz2e0z/palia_developers_singularity_6_axes_35_of_staff/kyn4d7g/)\n",
      "- \"The gameplay loop was so insanely boring, only two zones and max. 24 other Players with you on\n"
     ]
    }
   ],
   "source": [
    "llm_output = reddit_result.summary.output_text\n",
    "print(llm_output[:500])"
   ]
  },
  {
   "cell_type": "code",
   "execution_count": 7,
   "metadata": {},
   "outputs": [
    {
     "data": {
      "text/plain": [
       "[36034, 26675, 43769, 23478, 89810, 3228, 27337, 53902, 3535, 83811]"
      ]
     },
     "execution_count": 7,
     "metadata": {},
     "output_type": "execute_result"
    }
   ],
   "source": [
    "[len(doc) for doc in thread_markdowns]"
   ]
  },
  {
   "cell_type": "code",
   "execution_count": 9,
   "metadata": {},
   "outputs": [
    {
     "data": {
      "text/plain": [
       "[54014, 66281, 97673, 89810, 83811]"
      ]
     },
     "execution_count": 9,
     "metadata": {},
     "output_type": "execute_result"
    }
   ],
   "source": [
    "from llm_utils import pack_documents\n",
    "\n",
    "packed = pack_documents(thread_markdowns, 100000)\n",
    "[len(doc) for doc in packed]"
   ]
  },
  {
   "cell_type": "code",
   "execution_count": null,
   "metadata": {},
   "outputs": [],
   "source": []
  }
 ],
 "metadata": {
  "kernelspec": {
   "display_name": ".venv",
   "language": "python",
   "name": "python3"
  },
  "language_info": {
   "codemirror_mode": {
    "name": "ipython",
    "version": 3
   },
   "file_extension": ".py",
   "mimetype": "text/x-python",
   "name": "python",
   "nbconvert_exporter": "python",
   "pygments_lexer": "ipython3",
   "version": "3.10.12"
  }
 },
 "nbformat": 4,
 "nbformat_minor": 2
}
