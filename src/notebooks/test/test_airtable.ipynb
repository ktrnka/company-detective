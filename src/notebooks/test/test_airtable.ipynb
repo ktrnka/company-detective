{
 "cells": [
  {
   "cell_type": "code",
   "execution_count": 3,
   "metadata": {},
   "outputs": [
    {
     "data": {
      "text/plain": [
       "Seed(company='98point6', product='98point6', domain='98point6.com', keywords=None, primary_product=None, feature_flags=FeatureFlags(require_news_backlinks=False, require_reddit_backlinks=False))"
      ]
     },
     "execution_count": 3,
     "metadata": {},
     "output_type": "execute_result"
    }
   ],
   "source": [
    "from stored_config import Company\n",
    "from pyairtable.formulas import match\n",
    "\n",
    "s6 = Company.find_first(\"98point6\")\n",
    "s6.to_core_company()\n"
   ]
  },
  {
   "cell_type": "code",
   "execution_count": 4,
   "metadata": {},
   "outputs": [
    {
     "name": "stdout",
     "output_type": "stream",
     "text": [
      "Seed(company='2K Games', product='2K Games', domain='2k.com', keywords=None, primary_product=None, feature_flags=FeatureFlags(require_news_backlinks=False, require_reddit_backlinks=False))\n",
      "Seed(company='98point6', product='98point6', domain='98point6.com', keywords=None, primary_product=None, feature_flags=FeatureFlags(require_news_backlinks=False, require_reddit_backlinks=False))\n",
      "Seed(company='A Place for Mom', product='A Place for Mom', domain='aplaceformom.com', keywords=None, primary_product=None, feature_flags=FeatureFlags(require_news_backlinks=False, require_reddit_backlinks=False))\n",
      "Seed(company='Abridge', product='Abridge', domain='abridge.com', keywords=frozenset({'healthcare'}), primary_product=None, feature_flags=FeatureFlags(require_news_backlinks=False, require_reddit_backlinks=False))\n",
      "Seed(company='Adswerve', product='Adswerve', domain='adswerve.com', keywords=None, primary_product=None, feature_flags=FeatureFlags(require_news_backlinks=False, require_reddit_backlinks=False))\n",
      "Seed(company='Akili Interactive', product='EndeavorRx', domain='akiliinteractive.com', keywords=None, primary_product=Product(name='EndeavorRx', webpage_url='https://www.endeavorrx.com/', steam_url=None, google_play_url='https://play.google.com/store/apps/details?id=com.akiliinteractive.t01', apple_app_store_url='https://apps.apple.com/us/app/endeavorrx-adhd/id1458156758'), feature_flags=FeatureFlags(require_news_backlinks=False, require_reddit_backlinks=False))\n",
      "Seed(company='Anduril', product='Anduril', domain='anduril.com', keywords=None, primary_product=None, feature_flags=FeatureFlags(require_news_backlinks=False, require_reddit_backlinks=False))\n",
      "Seed(company='Arista Networks', product='Arista Networks', domain='arista.com', keywords=None, primary_product=None, feature_flags=FeatureFlags(require_news_backlinks=False, require_reddit_backlinks=False))\n",
      "Seed(company='Atlassian', product='Jira', domain='atlassian.com', keywords=None, primary_product=Product(name='Jira', webpage_url='https://www.atlassian.com/software/jira', steam_url=None, google_play_url=None, apple_app_store_url=None), feature_flags=FeatureFlags(require_news_backlinks=False, require_reddit_backlinks=False))\n",
      "Seed(company='Bamboo', product='Bamboo', domain='growwithbamboo.com', keywords=None, primary_product=None, feature_flags=FeatureFlags(require_news_backlinks=False, require_reddit_backlinks=False))\n",
      "Seed(company='BitTitan', product='BitTitan', domain='bittitan.com', keywords=None, primary_product=None, feature_flags=FeatureFlags(require_news_backlinks=False, require_reddit_backlinks=False))\n",
      "Seed(company='Block', product='Square', domain='block.xyz', keywords=None, primary_product=Product(name='Square', webpage_url='https://squareup.com/us/en', steam_url=None, google_play_url=None, apple_app_store_url=None), feature_flags=FeatureFlags(require_news_backlinks=False, require_reddit_backlinks=False))\n",
      "Seed(company='Built In', product='Built In', domain='builtin.com', keywords=frozenset({'recruiting', 'hiring'}), primary_product=None, feature_flags=FeatureFlags(require_news_backlinks=False, require_reddit_backlinks=False))\n",
      "Seed(company='Bungie', product='Bungie', domain='bungie.net', keywords=frozenset({'gaming'}), primary_product=None, feature_flags=FeatureFlags(require_news_backlinks=False, require_reddit_backlinks=False))\n",
      "Seed(company='Carbon Robotics', product='Laserweeder', domain='carbonrobotics.com', keywords=None, primary_product=Product(name='Laserweeder', webpage_url='https://carbonrobotics.com/laserweeder', steam_url=None, google_play_url=None, apple_app_store_url=None), feature_flags=FeatureFlags(require_news_backlinks=False, require_reddit_backlinks=False))\n",
      "Seed(company='Center', product='CenterCard', domain='getcenter.com', keywords=None, primary_product=Product(name='CenterCard', webpage_url='https://getcenter.com/centercard/', steam_url=None, google_play_url=None, apple_app_store_url=None), feature_flags=FeatureFlags(require_news_backlinks=False, require_reddit_backlinks=False))\n",
      "Seed(company='Chewy', product='Chewy', domain='chewy.com', keywords=None, primary_product=None, feature_flags=FeatureFlags(require_news_backlinks=False, require_reddit_backlinks=False))\n",
      "Seed(company='Chronosphere', product='Chronosphere', domain='chronosphere.io', keywords=None, primary_product=None, feature_flags=FeatureFlags(require_news_backlinks=False, require_reddit_backlinks=False))\n",
      "Seed(company='Clarity Pediatrics', product='Clarity Pediatrics', domain='claritypediatrics.com', keywords=None, primary_product=None, feature_flags=FeatureFlags(require_news_backlinks=False, require_reddit_backlinks=False))\n",
      "Seed(company='Classmates', product='Classmates', domain='classmates.com', keywords=None, primary_product=None, feature_flags=FeatureFlags(require_news_backlinks=False, require_reddit_backlinks=False))\n",
      "Seed(company='Clobotics', product='Clobotics', domain='clobotics.com', keywords=None, primary_product=None, feature_flags=FeatureFlags(require_news_backlinks=False, require_reddit_backlinks=False))\n",
      "Seed(company='CoreStack', product='CoreStack', domain='corestack.io', keywords=None, primary_product=None, feature_flags=FeatureFlags(require_news_backlinks=False, require_reddit_backlinks=False))\n",
      "Seed(company='CrowdStrike', product='CrowdStrike', domain='crowdstrike.com', keywords=None, primary_product=None, feature_flags=FeatureFlags(require_news_backlinks=False, require_reddit_backlinks=False))\n",
      "Seed(company='Current', product='Current', domain='currentlighting.com', keywords=frozenset({'lighting'}), primary_product=None, feature_flags=FeatureFlags(require_news_backlinks=False, require_reddit_backlinks=False))\n",
      "Seed(company='Disney', product='Disney', domain='jobs.disneycareers.com', keywords=None, primary_product=None, feature_flags=FeatureFlags(require_news_backlinks=False, require_reddit_backlinks=False))\n",
      "Seed(company='Dolly', product='Dolly', domain='dolly.com', keywords=frozenset({'moving', 'delivery'}), primary_product=None, feature_flags=FeatureFlags(require_news_backlinks=False, require_reddit_backlinks=False))\n",
      "Seed(company='DoubleDown Interactive', product='DoubleDown Interactive', domain='doubledowninteractive.com', keywords=None, primary_product=None, feature_flags=FeatureFlags(require_news_backlinks=False, require_reddit_backlinks=False))\n",
      "Seed(company='exa', product='exa', domain='exa.ai', keywords=None, primary_product=None, feature_flags=FeatureFlags(require_news_backlinks=False, require_reddit_backlinks=False))\n",
      "Seed(company='Gable', product='Gable', domain='gable.ai', keywords=frozenset({'data'}), primary_product=None, feature_flags=FeatureFlags(require_news_backlinks=False, require_reddit_backlinks=False))\n",
      "Seed(company='Hiya', product='Hiya', domain='hiya.com', keywords=None, primary_product=None, feature_flags=FeatureFlags(require_news_backlinks=False, require_reddit_backlinks=False))\n",
      "Seed(company='Hotel Engine', product='Hotel Engine', domain='hotelengine.com', keywords=None, primary_product=None, feature_flags=FeatureFlags(require_news_backlinks=False, require_reddit_backlinks=False))\n",
      "Seed(company='Huntress', product='Huntress', domain='huntress.com', keywords=frozenset({'security'}), primary_product=None, feature_flags=FeatureFlags(require_news_backlinks=False, require_reddit_backlinks=False))\n",
      "Seed(company='hyperparam', product='hyperparam', domain='hyperparam.app', keywords=frozenset({'dataset'}), primary_product=None, feature_flags=FeatureFlags(require_news_backlinks=True, require_reddit_backlinks=True))\n",
      "Seed(company='Imagine Pediatrics', product='Imagine Pediatrics', domain='imaginepediatrics.org', keywords=None, primary_product=None, feature_flags=FeatureFlags(require_news_backlinks=False, require_reddit_backlinks=False))\n",
      "Seed(company='Indeed', product='Indeed', domain='indeed.com', keywords=None, primary_product=None, feature_flags=FeatureFlags(require_news_backlinks=False, require_reddit_backlinks=False))\n",
      "Seed(company='International Community Health Services', product='International Community Health Services', domain='ichs.com', keywords=None, primary_product=None, feature_flags=FeatureFlags(require_news_backlinks=False, require_reddit_backlinks=False))\n",
      "Seed(company='Kevala', product='Kevala', domain='kevala.care', keywords=frozenset({'staffing', 'healthcare'}), primary_product=None, feature_flags=FeatureFlags(require_news_backlinks=False, require_reddit_backlinks=False))\n",
      "Seed(company='Labelbox', product='Labelbox', domain='labelbox.com', keywords=None, primary_product=None, feature_flags=FeatureFlags(require_news_backlinks=False, require_reddit_backlinks=False))\n",
      "Seed(company='Logic20/20', product='Logic20/20', domain='logic2020.com', keywords=None, primary_product=None, feature_flags=FeatureFlags(require_news_backlinks=False, require_reddit_backlinks=False))\n",
      "Seed(company='Magnite', product='Magnite', domain='magnite.com', keywords=frozenset({'advertising'}), primary_product=None, feature_flags=FeatureFlags(require_news_backlinks=False, require_reddit_backlinks=False))\n",
      "Seed(company='Monte Carlo', product='Monte Carlo', domain='montecarlodata.com', keywords=None, primary_product=None, feature_flags=FeatureFlags(require_news_backlinks=False, require_reddit_backlinks=False))\n",
      "Seed(company='Nabla', product='Nabla', domain='nabla.com', keywords=frozenset({'health'}), primary_product=None, feature_flags=FeatureFlags(require_news_backlinks=False, require_reddit_backlinks=False))\n",
      "Seed(company='Nordstrom', product='Nordstrom', domain='shop.nordstrom.com', keywords=None, primary_product=None, feature_flags=FeatureFlags(require_news_backlinks=False, require_reddit_backlinks=False))\n",
      "Seed(company='Ontra', product='Ontra', domain='ontra.ai', keywords=None, primary_product=None, feature_flags=FeatureFlags(require_news_backlinks=False, require_reddit_backlinks=False))\n",
      "Seed(company='Optimize Health', product='Optimize Health', domain='optimize.health', keywords=None, primary_product=None, feature_flags=FeatureFlags(require_news_backlinks=False, require_reddit_backlinks=False))\n",
      "Seed(company='Osano', product='Osano', domain='osano.com', keywords=None, primary_product=None, feature_flags=FeatureFlags(require_news_backlinks=False, require_reddit_backlinks=False))\n",
      "Seed(company='Pave', product='Cashflow', domain='pavefi.com', keywords=None, primary_product=Product(name='Cashflow', webpage_url=None, steam_url=None, google_play_url=None, apple_app_store_url=None), feature_flags=FeatureFlags(require_news_backlinks=False, require_reddit_backlinks=False))\n",
      "Seed(company='PEAK6', product='PEAK6', domain='peak6.com', keywords=None, primary_product=None, feature_flags=FeatureFlags(require_news_backlinks=False, require_reddit_backlinks=False))\n",
      "Seed(company='Pomelo Care', product='Pomelo Care', domain='pomelocare.com', keywords=None, primary_product=None, feature_flags=FeatureFlags(require_news_backlinks=False, require_reddit_backlinks=False))\n",
      "Seed(company='promptfoo', product='promptfoo', domain='promptfoo.dev', keywords=None, primary_product=None, feature_flags=FeatureFlags(require_news_backlinks=False, require_reddit_backlinks=False))\n",
      "Seed(company='Qualtrics', product='Qualtrics', domain='qualtrics.com', keywords=None, primary_product=None, feature_flags=FeatureFlags(require_news_backlinks=False, require_reddit_backlinks=False))\n",
      "Seed(company='Quartet Health', product='Quartet Health', domain='quartethealth.com', keywords=None, primary_product=None, feature_flags=FeatureFlags(require_news_backlinks=False, require_reddit_backlinks=False))\n",
      "Seed(company='Rad AI', product='Impressions', domain='radai.com', keywords=None, primary_product=Product(name='Impressions', webpage_url='https://www.radai.com/impressions', steam_url=None, google_play_url=None, apple_app_store_url=None), feature_flags=FeatureFlags(require_news_backlinks=False, require_reddit_backlinks=False))\n",
      "Seed(company='Remitly', product='Remitly', domain='remitly.com', keywords=None, primary_product=None, feature_flags=FeatureFlags(require_news_backlinks=False, require_reddit_backlinks=False))\n",
      "Seed(company='RescueTime', product='RescueTime', domain='rescuetime.com', keywords=None, primary_product=None, feature_flags=FeatureFlags(require_news_backlinks=False, require_reddit_backlinks=False))\n",
      "Seed(company='Rippling', product='Rippling', domain='rippling.com', keywords=None, primary_product=None, feature_flags=FeatureFlags(require_news_backlinks=False, require_reddit_backlinks=False))\n",
      "Seed(company='Roam', product='Roam', domain='roam.lol', keywords=frozenset({'games'}), primary_product=None, feature_flags=FeatureFlags(require_news_backlinks=False, require_reddit_backlinks=False))\n",
      "Seed(company='Singularity 6', product='Palia', domain='singularity6.com', keywords=None, primary_product=Product(name='Palia', webpage_url='https://palia.com/', steam_url='https://store.steampowered.com/app/2707930/Palia/', google_play_url=None, apple_app_store_url=None), feature_flags=FeatureFlags(require_news_backlinks=False, require_reddit_backlinks=False))\n",
      "Seed(company='Snap Inc.', product='Snap Inc.', domain='snap.com', keywords=None, primary_product=None, feature_flags=FeatureFlags(require_news_backlinks=False, require_reddit_backlinks=False))\n",
      "Seed(company='SoFi', product='SoFi', domain='sofi.com', keywords=None, primary_product=None, feature_flags=FeatureFlags(require_news_backlinks=False, require_reddit_backlinks=False))\n",
      "Seed(company='Sourcegraph', product='Sourcegraph', domain='sourcegraph.com', keywords=None, primary_product=None, feature_flags=FeatureFlags(require_news_backlinks=False, require_reddit_backlinks=False))\n",
      "Seed(company='Sprout Social', product='Sprout Social', domain='sproutsocial.com', keywords=None, primary_product=None, feature_flags=FeatureFlags(require_news_backlinks=False, require_reddit_backlinks=False))\n",
      "Seed(company='Strava', product='Strava', domain='strava.com', keywords=None, primary_product=None, feature_flags=FeatureFlags(require_news_backlinks=False, require_reddit_backlinks=False))\n",
      "Seed(company='Sudowrite', product='Sudowrite', domain='sudowrite.com', keywords=None, primary_product=None, feature_flags=FeatureFlags(require_news_backlinks=False, require_reddit_backlinks=False))\n",
      "Seed(company='Synthesize Bio', product='Synthesize Bio', domain='synthesize.bio', keywords=None, primary_product=None, feature_flags=FeatureFlags(require_news_backlinks=True, require_reddit_backlinks=False))\n",
      "Seed(company='Taskrabbit', product='Taskrabbit', domain='taskrabbit.com', keywords=None, primary_product=None, feature_flags=FeatureFlags(require_news_backlinks=False, require_reddit_backlinks=False))\n",
      "Seed(company='Tavily', product='Tavily', domain='tavily.com', keywords=None, primary_product=None, feature_flags=FeatureFlags(require_news_backlinks=False, require_reddit_backlinks=False))\n",
      "Seed(company='TBD', product='TBD', domain='tbd.website', keywords=None, primary_product=None, feature_flags=FeatureFlags(require_news_backlinks=False, require_reddit_backlinks=False))\n",
      "Seed(company='thatgamecompany', product='thatgamecompany', domain='thatgamecompany.com', keywords=None, primary_product=None, feature_flags=FeatureFlags(require_news_backlinks=False, require_reddit_backlinks=False))\n",
      "Seed(company='The Coalition', product='Gears of War', domain='thecoalitionstudio.com', keywords=None, primary_product=Product(name='Gears of War', webpage_url='https://www.gearsofwar.com/', steam_url=None, google_play_url=None, apple_app_store_url=None), feature_flags=FeatureFlags(require_news_backlinks=False, require_reddit_backlinks=False))\n",
      "Seed(company='ThousandEyes', product='ThousandEyes', domain='thousandeyes.com', keywords=None, primary_product=None, feature_flags=FeatureFlags(require_news_backlinks=False, require_reddit_backlinks=False))\n",
      "Seed(company='vcita', product='vcita', domain='vcita.com', keywords=None, primary_product=None, feature_flags=FeatureFlags(require_news_backlinks=False, require_reddit_backlinks=False))\n",
      "Seed(company='Veritone', product='Veritone', domain='veritone.com', keywords=None, primary_product=None, feature_flags=FeatureFlags(require_news_backlinks=False, require_reddit_backlinks=False))\n",
      "Seed(company='Verkada Inc', product='Verkada Inc', domain='verkada.com', keywords=None, primary_product=None, feature_flags=FeatureFlags(require_news_backlinks=False, require_reddit_backlinks=False))\n",
      "Seed(company='Vulcan Inc.', product='Vulcan Inc.', domain='vulcan.com', keywords=None, primary_product=None, feature_flags=FeatureFlags(require_news_backlinks=False, require_reddit_backlinks=False))\n",
      "Seed(company='Wokelo', product='Wokelo', domain='wokelo.ai', keywords=frozenset({'AI'}), primary_product=None, feature_flags=FeatureFlags(require_news_backlinks=False, require_reddit_backlinks=False))\n",
      "Seed(company='Yurts.ai', product='Yurts.ai', domain='yurts.ai', keywords=None, primary_product=None, feature_flags=FeatureFlags(require_news_backlinks=False, require_reddit_backlinks=False))\n"
     ]
    }
   ],
   "source": [
    "for company in Company.all_approved():\n",
    "    print(company.to_core_company())"
   ]
  },
  {
   "cell_type": "code",
   "execution_count": null,
   "metadata": {},
   "outputs": [],
   "source": []
  }
 ],
 "metadata": {
  "kernelspec": {
   "display_name": ".venv",
   "language": "python",
   "name": "python3"
  },
  "language_info": {
   "codemirror_mode": {
    "name": "ipython",
    "version": 3
   },
   "file_extension": ".py",
   "mimetype": "text/x-python",
   "name": "python",
   "nbconvert_exporter": "python",
   "pygments_lexer": "ipython3",
   "version": "3.11.10"
  }
 },
 "nbformat": 4,
 "nbformat_minor": 2
}
