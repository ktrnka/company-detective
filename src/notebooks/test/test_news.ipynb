{
 "cells": [
  {
   "cell_type": "code",
   "execution_count": 1,
   "metadata": {},
   "outputs": [],
   "source": [
    "from core import Seed, init\n",
    "\n",
    "init()\n",
    "\n"
   ]
  },
  {
   "cell_type": "code",
   "execution_count": 3,
   "metadata": {},
   "outputs": [],
   "source": [
    "target = Seed.init(\"98point6\", \"98point6.com\")\n",
    "\n",
    "from data_sources.news.search import find_news_articles\n",
    "search_results = find_news_articles(target, num_results=10)"
   ]
  },
  {
   "cell_type": "code",
   "execution_count": 3,
   "metadata": {},
   "outputs": [
    {
     "name": "stderr",
     "output_type": "stream",
     "text": [
      "\u001b[32m2024-10-06 12:08:32.248\u001b[0m | \u001b[1mINFO    \u001b[0m | \u001b[36mcore\u001b[0m:\u001b[36mshorten_markdown\u001b[0m:\u001b[36m236\u001b[0m - \u001b[1m22,025 -> 21,605 chars (98% of original)\u001b[0m\n",
      "\u001b[32m2024-10-06 12:08:43.596\u001b[0m | \u001b[1mINFO    \u001b[0m | \u001b[36mcore\u001b[0m:\u001b[36munshorten_markdown\u001b[0m:\u001b[36m255\u001b[0m - \u001b[1m4,755 -> 5,781 chars (122% of original)\u001b[0m\n",
      "\u001b[32m2024-10-06 12:08:43.598\u001b[0m | \u001b[1mINFO    \u001b[0m | \u001b[36mdata_sources.news.summarize\u001b[0m:\u001b[36msummarize\u001b[0m:\u001b[36m95\u001b[0m - \u001b[1m22,025 -> 5,781 chars (26%) \u001b[0m\n",
      "\u001b[32m2024-10-06 12:08:43.600\u001b[0m | \u001b[1mINFO    \u001b[0m | \u001b[36mdata_sources.news.summarize\u001b[0m:\u001b[36msummarize\u001b[0m:\u001b[36m95\u001b[0m - \u001b[1mExtractive fraction: 20% \u001b[0m\n",
      "\u001b[32m2024-10-06 12:08:43.601\u001b[0m | \u001b[1mINFO    \u001b[0m | \u001b[36mdata_sources.news.summarize\u001b[0m:\u001b[36msummarize\u001b[0m:\u001b[36m95\u001b[0m - \u001b[1mPercent of URLs in sources: 100% ✅\u001b[0m\n",
      "\u001b[32m2024-10-06 12:08:43.602\u001b[0m | \u001b[1mINFO    \u001b[0m | \u001b[36mdata_sources.news.summarize\u001b[0m:\u001b[36msummarize\u001b[0m:\u001b[36m95\u001b[0m - \u001b[1mCitation density: 21.6% (percent of output used by URLs/link syntax) \u001b[0m\n",
      "\u001b[32m2024-10-06 12:08:43.602\u001b[0m | \u001b[1mINFO    \u001b[0m | \u001b[36mdata_sources.news.summarize\u001b[0m:\u001b[36msummarize\u001b[0m:\u001b[36m95\u001b[0m - \u001b[1mDistinct URLs (summary / input): 3 / 6\u001b[0m\n",
      "\u001b[32m2024-10-06 12:08:43.603\u001b[0m | \u001b[1mINFO    \u001b[0m | \u001b[36mdata_sources.news.summarize\u001b[0m:\u001b[36msummarize\u001b[0m:\u001b[36m95\u001b[0m - \u001b[1mSuspicious URLs: set()\u001b[0m\n",
      "\u001b[32m2024-10-06 12:08:43.604\u001b[0m | \u001b[1mINFO    \u001b[0m | \u001b[36mdata_sources.news.summarize\u001b[0m:\u001b[36msummarize\u001b[0m:\u001b[36m95\u001b[0m - \u001b[1mCache mentions: 0 ✅\u001b[0m\n"
     ]
    },
    {
     "name": "stdout",
     "output_type": "stream",
     "text": [
      "# Comprehensive Analyst Report on 98point6 Technologies and its Product 98point6\n",
      "\n",
      "## Company Overview\n",
      "98point6 Technologies, based in Seattle, is a leader in licensed on-demand virtual care software. Founded in 2015, the company has pivoted from direct care delivery to focus on licensing its telehealth software to healthcare providers. The flagship product, the 98point6 Technology Platform, is a cloud-based solution that integrates artificial intelligence with automated clinical standards and electronic health record (EHR) systems, enabling healthcare organizations to enhance their virtual care offerings [(PR Newswire, 2024)](https://www.prnewswire.com/news-releases/98point6-technologies-announces-the-acquisition-of-brightmd-to-accelerate-the-launch-of-its-asynchronous-care-module-302034295.html).\n",
      "\n",
      "## Recent Acquisitions\n",
      "On January 16, 2024, 98point6 announced the acquisition of Bright.md's remaining assets, which includes 16 customer contracts and the sales and customer success teams. This acquisition, structured as 45% cash and 55% equity, aims to bolster 98point6's capabilities in asynchronous telehealth, allowing providers to communicate with patients at their convenience rather than relying solely on real-time visits [(Healthcare Dive, 2024)](https://www.healthcaredive.com/news/98point6-buys-bright-md-assets/704661/). Jay Burrell, CEO of 98point6, stated, \"With the Bright.md acquisition we are dramatically accelerating our efforts to offer a robust, multi-functional virtual care software platform\" [(PR Newswire, 2024)](https://www.prnewswire.com/news-releases/98point6-technologies-announces-the-acquisition-of-brightmd-to-accelerate-the-launch-of-its-asynchronous-care-module-302034295.html).\n",
      "\n",
      "## Partnerships\n",
      "In October 2023, 98point6 formed a strategic partnership with SteadyMD, a B2B telehealth infrastructure provider. This collaboration aims to provide an all-in-one virtual care solution that combines 98point6's technology with SteadyMD's network of clinicians. The partnership is designed to help healthcare organizations manage patient workloads, reduce clinician burnout, and lower operational costs amid a significant shortage of healthcare professionals [(SteadyMD, 2023)](https://www.steadymd.com/blog/98point6-technologies-collaborates-with-steadymd-to-offer-comprehensive-virtual-care-solution-to-healthcare-organizations/).\n",
      "\n",
      "## Product Development\n",
      "The 98point6 Technology Platform is designed to optimize virtual care delivery. It features a clinician console that supports efficient patient visits and integrates AI to assist with clinical decision-making. The platform can handle over 4,000 conditions and is built to streamline the intake process, thereby reducing the cognitive load on clinicians [(SteadyMD, 2023)](https://www.steadymd.com/blog/98point6-technologies-collaborates-with-steadymd-to-offer-comprehensive-virtual-care-solution-to-healthcare-organizations/). The recent addition of an asynchronous care module is a significant development, allowing healthcare providers to respond to patient inquiries at their convenience, which is particularly beneficial in addressing clinician burnout and enhancing patient satisfaction [(PR Newswire, 2024)](https://www.prnewswire.com/news-releases/98point6-technologies-announces-the-acquisition-of-brightmd-to-accelerate-the-launch-of-its-asynchronous-care-module-302034295.html).\n",
      "\n",
      "## Company Scale and Market Position\n",
      "While specific employee numbers were not disclosed in the recent articles, 98point6 has established itself as a significant player in the virtual care market, having served millions of patients through its technology. The company has also been involved in various strategic moves, including the sale of its self-insured employer business and a software license to Transcarent for up to $100 million, indicating a robust financial position and a focus on growth through technology licensing [(Healthcare Dive, 2024)](https://www.healthcaredive.com/news/98point6-buys-bright-md-assets/704661/).\n",
      "\n",
      "## Executive Insights\n",
      "Jay Burrell, the CEO of 98point6, emphasized the company's mission to empower healthcare providers with technology that broadens access and enhances patient engagement. He noted, \"Our mission at 98point6 is to build market leading technology that empowers healthcare providers with the tools they need to broaden access, enhance patient engagement, and achieve cost savings through greater provider efficiency\" [(PR Newswire, 2024)](https://www.prnewswire.com/news-releases/98point6-technologies-announces-the-acquisition-of-brightmd-to-accelerate-the-launch-of-its-asynchronous-care-module-302034295.html).\n",
      "\n",
      "## Industry Context\n",
      "The digital health funding landscape has seen a decline, with 2023 marking the lowest levels since 2019. This has led to increased merger and acquisition activity as companies seek to integrate their offerings and enhance their market positions. The acquisition of Bright.md and the partnership with SteadyMD are strategic moves that position 98point6 favorably in a competitive environment where integrated solutions are becoming increasingly important [(Healthcare Dive, 2024)](https://www.healthcaredive.com/news/98point6-buys-bright-md-assets/704661/).\n",
      "\n",
      "## Conclusion\n",
      "98point6 Technologies is actively expanding its capabilities and market presence through strategic acquisitions and partnerships. The recent developments in asynchronous care delivery and collaborations with other healthcare technology providers position the company well to address the evolving needs of healthcare organizations and patients alike. As the demand for virtual care continues to grow, 98point6's innovative solutions and strategic initiatives are likely to enhance its competitive edge in the healthcare technology landscape.\n"
     ]
    }
   ],
   "source": [
    "from utils.scrape import request_article, response_to_article, article_to_markdown\n",
    "from data_sources.news.summarize import summarize\n",
    "\n",
    "# Fetch everything\n",
    "new_article_responses = [request_article(result.link) for result in search_results]\n",
    "\n",
    "# Filter non 2xx\n",
    "new_article_responses = [response for response in new_article_responses if response.ok]\n",
    "\n",
    "# Parse into Article objects\n",
    "new_articles = [response_to_article(response) for response in new_article_responses]\n",
    "\n",
    "# Convert into Markdown\n",
    "new_article_markdowns = [article_to_markdown(article) for article in new_articles]\n",
    "\n",
    "llm_result = summarize(target, new_article_markdowns)\n",
    "print(llm_result.content)"
   ]
  },
  {
   "cell_type": "code",
   "execution_count": 4,
   "metadata": {},
   "outputs": [
    {
     "name": "stdout",
     "output_type": "stream",
     "text": [
      "Document lengths: [4438, 1882, 6962, 1989, 2363, 4381]\n",
      "Packed lengths: [22025]\n"
     ]
    }
   ],
   "source": [
    "from utils.llm_utils import pack_documents\n",
    "\n",
    "print(\"Document lengths:\", [len(doc) for doc in new_article_markdowns])\n",
    "\n",
    "packed = pack_documents(new_article_markdowns, 100000)\n",
    "print(\"Packed lengths:\", [len(doc) for doc in packed])"
   ]
  },
  {
   "cell_type": "code",
   "execution_count": 5,
   "metadata": {},
   "outputs": [],
   "source": [
    "for article in new_article_markdowns:\n",
    "    if len(article) < 1000:\n",
    "        print(article)\n",
    "        print(\"----\")"
   ]
  },
  {
   "cell_type": "code",
   "execution_count": null,
   "metadata": {},
   "outputs": [],
   "source": []
  }
 ],
 "metadata": {
  "kernelspec": {
   "display_name": ".venv",
   "language": "python",
   "name": "python3"
  },
  "language_info": {
   "codemirror_mode": {
    "name": "ipython",
    "version": 3
   },
   "file_extension": ".py",
   "mimetype": "text/x-python",
   "name": "python",
   "nbconvert_exporter": "python",
   "pygments_lexer": "ipython3",
   "version": "3.11.10"
  }
 },
 "nbformat": 4,
 "nbformat_minor": 2
}
