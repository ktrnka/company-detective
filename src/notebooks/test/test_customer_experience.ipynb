{
 "cells": [
  {
   "cell_type": "markdown",
   "metadata": {},
   "source": [
    "# Unified customer feedback\n",
    "\n",
    "The idea is to use a single map-reduce pattern for multiple different sources of customer feedback:\n",
    "\n",
    "- Reddit\n",
    "- App stores\n",
    "- (Maybe) formal reviews\n",
    "\n",
    "We'll use the extract-organize-abstract pattern with map-reduce to handle extract-organize.\n"
   ]
  },
  {
   "cell_type": "code",
   "execution_count": 1,
   "metadata": {},
   "outputs": [
    {
     "data": {
      "text/plain": [
       "Seed(company='98point6', deprecated_product='98point6', domain='98point6.com', keywords=None, deprecated_require_news_backlinks=False, deprecated_require_reddit_backlinks=False, primary_product=None, feature_flags=FeatureFlags(require_news_backlinks=False, require_reddit_backlinks=False))"
      ]
     },
     "execution_count": 1,
     "metadata": {},
     "output_type": "execute_result"
    }
   ],
   "source": [
    "from core import Seed, init\n",
    "\n",
    "init()\n",
    "\n",
    "from stored_config import Company\n",
    "\n",
    "target = Company.find_first(\"98point6\").to_core_company()\n",
    "target"
   ]
  },
  {
   "cell_type": "code",
   "execution_count": null,
   "metadata": {},
   "outputs": [],
   "source": [
    "# The unified version that's been drastically refactored\n",
    "import data_sources.customer_experience\n",
    "import data_sources.general_search\n",
    "import data_sources.reddit.search\n",
    "\n",
    "general_search_results = data_sources.general_search.search_web(target)\n",
    "\n",
    "app_store_urls = data_sources.customer_experience.extract_app_store_urls(general_search_results)\n",
    "reddit_urls = [\n",
    "    result.link\n",
    "    for result in data_sources.reddit.search.find_submissions(\n",
    "        target, num_results=10\n",
    "    )\n",
    "]\n",
    "customer_experience_result = data_sources.customer_experience.run(\n",
    "    target, reddit_urls=reddit_urls, **app_store_urls\n",
    ")\n",
    "\n",
    "print(customer_experience_result.output_text)"
   ]
  },
  {
   "cell_type": "code",
   "execution_count": 6,
   "metadata": {},
   "outputs": [],
   "source": [
    "from core import make_experiment_dir\n",
    "\n",
    "dir = make_experiment_dir(target)\n",
    "\n",
    "with open(f\"{dir}/customer_experience.md\", \"w\") as f:\n",
    "    f.write(customer_experience_result.output_text)"
   ]
  },
  {
   "cell_type": "code",
   "execution_count": null,
   "metadata": {},
   "outputs": [],
   "source": []
  }
 ],
 "metadata": {
  "kernelspec": {
   "display_name": ".venv",
   "language": "python",
   "name": "python3"
  },
  "language_info": {
   "codemirror_mode": {
    "name": "ipython",
    "version": 3
   },
   "file_extension": ".py",
   "mimetype": "text/x-python",
   "name": "python",
   "nbconvert_exporter": "python",
   "pygments_lexer": "ipython3",
   "version": "3.11.10"
  }
 },
 "nbformat": 4,
 "nbformat_minor": 2
}
