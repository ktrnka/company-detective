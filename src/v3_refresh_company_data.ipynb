{
 "cells": [
  {
   "cell_type": "code",
   "execution_count": 1,
   "metadata": {},
   "outputs": [],
   "source": [
    "from core import Seed, init\n",
    "\n",
    "init()"
   ]
  },
  {
   "cell_type": "code",
   "execution_count": 7,
   "metadata": {},
   "outputs": [
    {
     "name": "stdout",
     "output_type": "stream",
     "text": [
      "title='Imagine Pediatrics | Virtual Health Care for Children' link='https://www.imaginepediatrics.org/' snippet=\"How it works · 1. Call us at (833) 208-7770 to see if your child is eligible. · 2. Download our 24/7 app from any app store. During our call, we'll help you\\xa0...\" formattedUrl='https://www.imaginepediatrics.org/'\n",
      "title='Imagine Pediatrics | LinkedIn' link='https://www.linkedin.com/company/imagine-pediatrics' snippet='Imagine Pediatrics | 27415 followers on LinkedIn. Empowering families of children with medical complexity to get the care they deserve.' formattedUrl='https://www.linkedin.com/company/imagine-pediatrics'\n",
      "title='Careers & Open Positions | Imagine Pediatrics' link='https://www.imaginepediatrics.org/careers' snippet='Flexible scheduling options with remote and onsite opportunities in Nashville and Houston. Excellent health, dental, vision, and 401K benefits.' formattedUrl='https://www.imaginepediatrics.org/careers'\n",
      "title='Imagine Pediatrics PC: Bilingual Pediatrician' link='https://imaginepediatricsrome.com/' snippet='Imagine Pediatrics provides comprehensive, compassionate, and evidence based medical care for your children. Walk-ins welcome, Now Taking New Patients!' formattedUrl='https://imaginepediatricsrome.com/'\n",
      "title='Leadership | Imagine Pediatrics' link='https://www.imaginepediatrics.org/leadership' snippet='We are a team of experienced leaders, physician executives, innovators and parents who are committed to building new and better ways to care for children with\\xa0...' formattedUrl='https://www.imaginepediatrics.org/leadership'\n",
      "title='Imagine Pediatric Therapy - Chicago' link='https://www.imaginepeds.com/' snippet='A leading provider of pediatric therapy in Chicagoland. We provide individualized therapy services in a multi-disciplinary setting with a holistic intervention\\xa0...' formattedUrl='https://www.imaginepeds.com/'\n",
      "title='Imagine Pediatrics - NHCC - Nashville' link='https://healthcarecouncil.com/members/imagine-pediatrics/' snippet='Imagine Pediatrics ... At Imagine Pediatrics, we provide 24/7 virtual-first care in the home for children, including those with complex medical and behavioral\\xa0...' formattedUrl='https://healthcarecouncil.com/members/imagine-pediatrics/'\n",
      "title='Imagine Pediatrics Launches First-Of-Its-Kind Virtual Care Model for ...' link='https://www.businesswire.com/news/home/20231129385564/en/Imagine-Pediatrics-Launches-First-Of-Its-Kind-Virtual-Care-Model-for-Children-with-Medical-Complexity-and-Special-Health-Care-Needs' snippet='Nov 29, 2023 ... In partnership with health plans, Imagine Pediatrics uses a first-of-its-kind value-based, population health payment model to bring 24/7 medical\\xa0...' formattedUrl='https://www.businesswire.com/.../Imagine-Pediatrics-Launches-First-Of-Its-...'\n",
      "title='Q&A: Imagine Pediatrics CEO George Boghos | Healthcare Innovation' link='https://www.hcinnovationgroup.com/population-health-management/complex-care/article/53080968/qa-imagine-pediatrics-ceo-george-boghos' snippet=\"Dec 19, 2023 ... Startup company's value-based payment model brings 24/7 medical, behavioral, and social care into the homes of Medicaid-eligible children\\xa0...\" formattedUrl='https://www.hcinnovationgroup.com/.../qa-imagine-pediatrics-ceo-george-b...'\n",
      "title='Imagine Pediatrics (@imagine_pediatrics) • Instagram photos and ...' link='https://www.instagram.com/imagine_pediatrics/' snippet='Photo by Imagine Pediatrics on September 25, 2024. May be a graphic of poster. Imagine Pediatrics is here for you as the latest severe storm impacts Florida.' formattedUrl='https://www.instagram.com/imagine_pediatrics/'\n"
     ]
    }
   ],
   "source": [
    "# optionally, help find the URL for the seed\n",
    "from google_search import search\n",
    "\n",
    "for result in search(\"Imagine Pediatrics\"):\n",
    "    print(result)"
   ]
  },
  {
   "cell_type": "code",
   "execution_count": 8,
   "metadata": {},
   "outputs": [
    {
     "data": {
      "text/plain": [
       "True"
      ]
     },
     "execution_count": 8,
     "metadata": {},
     "output_type": "execute_result"
    }
   ],
   "source": [
    "from datetime import datetime, timedelta\n",
    "import os\n",
    "from typing import Optional\n",
    "\n",
    "target = Seed.init(\"Imagine Pediatrics\", domain=\"imaginepediatrics.org\")\n",
    "data_folder = \"../output/data\"\n",
    "\n",
    "output_json = f\"{data_folder}/{target.as_path_v2()}.json\"\n",
    "output_json\n",
    "\n",
    "def get_file_age(file_path: str) -> Optional[timedelta]:\n",
    "    if os.path.exists(file_path):\n",
    "        file_mod_time = datetime.fromtimestamp(os.path.getmtime(file_path))\n",
    "        return datetime.now() - file_mod_time\n",
    "    else:\n",
    "        return None\n",
    "    \n",
    "def should_rebuild(file_path: str, max_age: timedelta = timedelta(days=7)) -> bool:\n",
    "    age = get_file_age(file_path)\n",
    "    if age is None:\n",
    "        return True\n",
    "    return age > max_age\n",
    "\n",
    "should_rebuild(output_json)\n"
   ]
  },
  {
   "cell_type": "code",
   "execution_count": 9,
   "metadata": {},
   "outputs": [
    {
     "name": "stderr",
     "output_type": "stream",
     "text": [
      "\u001b[32m2024-09-30 11:44:56.263\u001b[0m | \u001b[1mINFO    \u001b[0m | \u001b[36mcompany_webpage\u001b[0m:\u001b[36mrun\u001b[0m:\u001b[36m66\u001b[0m - \u001b[1m66,774 -> 3,865 chars (6%) \u001b[0m\n",
      "\u001b[32m2024-09-30 11:44:56.271\u001b[0m | \u001b[1mINFO    \u001b[0m | \u001b[36mcompany_webpage\u001b[0m:\u001b[36mrun\u001b[0m:\u001b[36m66\u001b[0m - \u001b[1mExtractive fraction: 17% \u001b[0m\n",
      "\u001b[32m2024-09-30 11:44:56.272\u001b[0m | \u001b[1mINFO    \u001b[0m | \u001b[36mcompany_webpage\u001b[0m:\u001b[36mrun\u001b[0m:\u001b[36m66\u001b[0m - \u001b[1mPercent of URLs in sources: 94% ❌\u001b[0m\n",
      "\u001b[32m2024-09-30 11:44:56.272\u001b[0m | \u001b[1mINFO    \u001b[0m | \u001b[36mcompany_webpage\u001b[0m:\u001b[36mrun\u001b[0m:\u001b[36m66\u001b[0m - \u001b[1mCitation density: 19.8% (percent of output used by URLs/link syntax) \u001b[0m\n",
      "\u001b[32m2024-09-30 11:44:56.273\u001b[0m | \u001b[1mINFO    \u001b[0m | \u001b[36mcompany_webpage\u001b[0m:\u001b[36mrun\u001b[0m:\u001b[36m66\u001b[0m - \u001b[1mDistinct URLs (summary / input): 16 / 29\u001b[0m\n",
      "\u001b[32m2024-09-30 11:44:56.273\u001b[0m | \u001b[1mINFO    \u001b[0m | \u001b[36mcompany_webpage\u001b[0m:\u001b[36mrun\u001b[0m:\u001b[36m66\u001b[0m - \u001b[1mSuspicious URLs: {'https://www.imaginepediatrics.org/events/'}\u001b[0m\n",
      "\u001b[32m2024-09-30 11:44:56.274\u001b[0m | \u001b[1mINFO    \u001b[0m | \u001b[36mcompany_webpage\u001b[0m:\u001b[36mrun\u001b[0m:\u001b[36m66\u001b[0m - \u001b[1mCache mentions: 0 ✅\u001b[0m\n",
      "\u001b[32m2024-09-30 11:44:58.790\u001b[0m | \u001b[1mINFO    \u001b[0m | \u001b[36mcore\u001b[0m:\u001b[36mshorten_markdown\u001b[0m:\u001b[36m228\u001b[0m - \u001b[1m13,763 -> 11,458 chars (83% of original)\u001b[0m\n",
      "\u001b[32m2024-09-30 11:45:05.517\u001b[0m | \u001b[1mINFO    \u001b[0m | \u001b[36mcore\u001b[0m:\u001b[36munshorten_markdown\u001b[0m:\u001b[36m247\u001b[0m - \u001b[1m2,134 -> 3,307 chars (155% of original)\u001b[0m\n",
      "\u001b[32m2024-09-30 11:45:05.518\u001b[0m | \u001b[1mINFO    \u001b[0m | \u001b[36mgeneral_search\u001b[0m:\u001b[36msummarize\u001b[0m:\u001b[36m126\u001b[0m - \u001b[1m13,763 -> 3,307 chars (24%) \u001b[0m\n",
      "\u001b[32m2024-09-30 11:45:05.521\u001b[0m | \u001b[1mINFO    \u001b[0m | \u001b[36mgeneral_search\u001b[0m:\u001b[36msummarize\u001b[0m:\u001b[36m126\u001b[0m - \u001b[1mExtractive fraction: 70% \u001b[0m\n",
      "\u001b[32m2024-09-30 11:45:05.521\u001b[0m | \u001b[1mINFO    \u001b[0m | \u001b[36mgeneral_search\u001b[0m:\u001b[36msummarize\u001b[0m:\u001b[36m126\u001b[0m - \u001b[1mPercent of URLs in sources: 100% ✅\u001b[0m\n",
      "\u001b[32m2024-09-30 11:45:05.522\u001b[0m | \u001b[1mINFO    \u001b[0m | \u001b[36mgeneral_search\u001b[0m:\u001b[36msummarize\u001b[0m:\u001b[36m126\u001b[0m - \u001b[1mCitation density: 54.7% (percent of output used by URLs/link syntax) \u001b[0m\n",
      "\u001b[32m2024-09-30 11:45:05.523\u001b[0m | \u001b[1mINFO    \u001b[0m | \u001b[36mgeneral_search\u001b[0m:\u001b[36msummarize\u001b[0m:\u001b[36m126\u001b[0m - \u001b[1mDistinct URLs (summary / input): 21 / 50\u001b[0m\n",
      "\u001b[32m2024-09-30 11:45:05.524\u001b[0m | \u001b[1mINFO    \u001b[0m | \u001b[36mgeneral_search\u001b[0m:\u001b[36msummarize\u001b[0m:\u001b[36m126\u001b[0m - \u001b[1mSuspicious URLs: set()\u001b[0m\n",
      "\u001b[32m2024-09-30 11:45:05.525\u001b[0m | \u001b[1mINFO    \u001b[0m | \u001b[36mgeneral_search\u001b[0m:\u001b[36msummarize\u001b[0m:\u001b[36m126\u001b[0m - \u001b[1mCache mentions: 0 ✅\u001b[0m\n",
      "\u001b[32m2024-09-30 11:45:08.121\u001b[0m | \u001b[1mINFO    \u001b[0m | \u001b[36mcustomer_experience\u001b[0m:\u001b[36mrun\u001b[0m:\u001b[36m163\u001b[0m - \u001b[1mTotal reviews: 9\u001b[0m\n",
      "\u001b[32m2024-09-30 11:45:08.122\u001b[0m | \u001b[1mINFO    \u001b[0m | \u001b[36mcustomer_experience\u001b[0m:\u001b[36mrun\u001b[0m:\u001b[36m173\u001b[0m - \u001b[1mPacked reviews: 3\u001b[0m\n",
      "\u001b[32m2024-09-30 11:45:08.188\u001b[0m | \u001b[1mINFO    \u001b[0m | \u001b[36mcore\u001b[0m:\u001b[36mshorten_markdown\u001b[0m:\u001b[36m228\u001b[0m - \u001b[1m18,708 -> 16,545 chars (88% of original)\u001b[0m\n",
      "\u001b[32m2024-09-30 11:45:08.190\u001b[0m | \u001b[1mINFO    \u001b[0m | \u001b[36mcore\u001b[0m:\u001b[36mshorten_markdown\u001b[0m:\u001b[36m228\u001b[0m - \u001b[1m58,322 -> 49,559 chars (85% of original)\u001b[0m\n",
      "\u001b[32m2024-09-30 11:45:08.190\u001b[0m | \u001b[1mINFO    \u001b[0m | \u001b[36mcore\u001b[0m:\u001b[36mshorten_markdown\u001b[0m:\u001b[36m228\u001b[0m - \u001b[1m38,596 -> 34,258 chars (89% of original)\u001b[0m\n",
      "\u001b[32m2024-09-30 11:45:18.312\u001b[0m | \u001b[1mINFO    \u001b[0m | \u001b[36mcustomer_experience\u001b[0m:\u001b[36mrun\u001b[0m:\u001b[36m208\u001b[0m - \u001b[1mMap stage 100,362 chars -> 1,648 chars (2%)\u001b[0m\n",
      "\u001b[32m2024-09-30 11:45:18.313\u001b[0m | \u001b[1mINFO    \u001b[0m | \u001b[36mcustomer_experience\u001b[0m:\u001b[36mrun\u001b[0m:\u001b[36m208\u001b[0m - \u001b[1mReduce stage 1,648 chars -> 1,453 chars (88%)\u001b[0m\n",
      "\u001b[32m2024-09-30 11:45:18.314\u001b[0m | \u001b[1mINFO    \u001b[0m | \u001b[36mcore\u001b[0m:\u001b[36munshorten_markdown\u001b[0m:\u001b[36m247\u001b[0m - \u001b[1m1,453 -> 1,628 chars (112% of original)\u001b[0m\n",
      "\u001b[32m2024-09-30 11:45:18.315\u001b[0m | \u001b[1mINFO    \u001b[0m | \u001b[36mcustomer_experience\u001b[0m:\u001b[36mrun\u001b[0m:\u001b[36m211\u001b[0m - \u001b[1m115,628 -> 1,628 chars (1%) \u001b[0m\n",
      "\u001b[32m2024-09-30 11:45:18.322\u001b[0m | \u001b[1mINFO    \u001b[0m | \u001b[36mcustomer_experience\u001b[0m:\u001b[36mrun\u001b[0m:\u001b[36m211\u001b[0m - \u001b[1mExtractive fraction: 53% \u001b[0m\n",
      "\u001b[32m2024-09-30 11:45:18.323\u001b[0m | \u001b[1mINFO    \u001b[0m | \u001b[36mcustomer_experience\u001b[0m:\u001b[36mrun\u001b[0m:\u001b[36m211\u001b[0m - \u001b[1mPercent of URLs in sources: 83% ❌\u001b[0m\n",
      "\u001b[32m2024-09-30 11:45:18.324\u001b[0m | \u001b[1mINFO    \u001b[0m | \u001b[36mcustomer_experience\u001b[0m:\u001b[36mrun\u001b[0m:\u001b[36m211\u001b[0m - \u001b[1mCitation density: 23.8% (percent of output used by URLs/link syntax) \u001b[0m\n",
      "\u001b[32m2024-09-30 11:45:18.324\u001b[0m | \u001b[1mINFO    \u001b[0m | \u001b[36mcustomer_experience\u001b[0m:\u001b[36mrun\u001b[0m:\u001b[36m211\u001b[0m - \u001b[1mDistinct URLs (summary / input): 6 / 231\u001b[0m\n",
      "\u001b[32m2024-09-30 11:45:18.325\u001b[0m | \u001b[1mINFO    \u001b[0m | \u001b[36mcustomer_experience\u001b[0m:\u001b[36mrun\u001b[0m:\u001b[36m211\u001b[0m - \u001b[1mSuspicious URLs: {'cache://source/NUM'}\u001b[0m\n",
      "\u001b[32m2024-09-30 11:45:18.325\u001b[0m | \u001b[1mINFO    \u001b[0m | \u001b[36mcustomer_experience\u001b[0m:\u001b[36mrun\u001b[0m:\u001b[36m211\u001b[0m - \u001b[1mCache mentions: 4 ❌\u001b[0m\n",
      "\u001b[32m2024-09-30 11:45:18.541\u001b[0m | \u001b[1mINFO    \u001b[0m | \u001b[36mscrapfly_scrapers.glassdoor\u001b[0m:\u001b[36mscrape_reviews\u001b[0m:\u001b[36m105\u001b[0m - \u001b[1mscraping reviews from https://www.glassdoor.com/Reviews/Imagine-Pediatrics-Reviews-E9209223.htm\u001b[0m\n",
      "\u001b[32m2024-09-30 11:45:29.544\u001b[0m | \u001b[1mINFO    \u001b[0m | \u001b[36mscrapfly_scrapers.glassdoor\u001b[0m:\u001b[36mscrape_reviews\u001b[0m:\u001b[36m113\u001b[0m - \u001b[1mscraped first page of reviews of https://www.glassdoor.com/Reviews/Imagine-Pediatrics-Reviews-E9209223.htm, scraping remaining 1 pages\u001b[0m\n",
      "\u001b[32m2024-09-30 11:47:08.235\u001b[0m | \u001b[1mINFO    \u001b[0m | \u001b[36mscrapfly_scrapers.glassdoor\u001b[0m:\u001b[36mscrape_reviews\u001b[0m:\u001b[36m123\u001b[0m - \u001b[1mscraped 15 reviews from https://www.glassdoor.com/Reviews/Imagine-Pediatrics-Reviews-E9209223.htm in 2 pages\u001b[0m\n",
      "\u001b[32m2024-09-30 11:47:22.968\u001b[0m | \u001b[1mINFO    \u001b[0m | \u001b[36mglassdoor.summarizer\u001b[0m:\u001b[36msummarize\u001b[0m:\u001b[36m60\u001b[0m - \u001b[1m9,191 -> 3,808 chars (41%) \u001b[0m\n",
      "\u001b[32m2024-09-30 11:47:22.972\u001b[0m | \u001b[1mINFO    \u001b[0m | \u001b[36mglassdoor.summarizer\u001b[0m:\u001b[36msummarize\u001b[0m:\u001b[36m60\u001b[0m - \u001b[1mExtractive fraction: 48% \u001b[0m\n",
      "\u001b[32m2024-09-30 11:47:22.973\u001b[0m | \u001b[1mINFO    \u001b[0m | \u001b[36mglassdoor.summarizer\u001b[0m:\u001b[36msummarize\u001b[0m:\u001b[36m60\u001b[0m - \u001b[1mPercent of URLs in sources: 100% ✅\u001b[0m\n",
      "\u001b[32m2024-09-30 11:47:22.975\u001b[0m | \u001b[1mINFO    \u001b[0m | \u001b[36mglassdoor.summarizer\u001b[0m:\u001b[36msummarize\u001b[0m:\u001b[36m60\u001b[0m - \u001b[1mCitation density: 39.3% (percent of output used by URLs/link syntax) \u001b[0m\n",
      "\u001b[32m2024-09-30 11:47:22.975\u001b[0m | \u001b[1mINFO    \u001b[0m | \u001b[36mglassdoor.summarizer\u001b[0m:\u001b[36msummarize\u001b[0m:\u001b[36m60\u001b[0m - \u001b[1mDistinct URLs (summary / input): 12 / 15\u001b[0m\n",
      "\u001b[32m2024-09-30 11:47:22.976\u001b[0m | \u001b[1mINFO    \u001b[0m | \u001b[36mglassdoor.summarizer\u001b[0m:\u001b[36msummarize\u001b[0m:\u001b[36m60\u001b[0m - \u001b[1mSuspicious URLs: set()\u001b[0m\n",
      "\u001b[32m2024-09-30 11:47:22.977\u001b[0m | \u001b[1mINFO    \u001b[0m | \u001b[36mglassdoor.summarizer\u001b[0m:\u001b[36msummarize\u001b[0m:\u001b[36m60\u001b[0m - \u001b[1mCache mentions: 0 ✅\u001b[0m\n",
      "\u001b[32m2024-09-30 11:47:39.909\u001b[0m | \u001b[33m\u001b[1mWARNING \u001b[0m | \u001b[36mnews.scrape\u001b[0m:\u001b[36mrequest_article\u001b[0m:\u001b[36m33\u001b[0m - \u001b[33m\u001b[1mTimeout on https://careers.rubiconfounders.com/companies/imagine-pediatrics/jobs/37817716-medical-assistant-certified-medical-assistant\u001b[0m\n",
      "\u001b[32m2024-09-30 11:47:53.688\u001b[0m | \u001b[33m\u001b[1mWARNING \u001b[0m | \u001b[36mnews.scrape\u001b[0m:\u001b[36mrequest_article\u001b[0m:\u001b[36m33\u001b[0m - \u001b[33m\u001b[1mTimeout on https://www.fahp.net/sponsorship-prospectus\u001b[0m\n",
      "\u001b[32m2024-09-30 11:48:04.877\u001b[0m | \u001b[1mINFO    \u001b[0m | \u001b[36mcore\u001b[0m:\u001b[36mshorten_markdown\u001b[0m:\u001b[36m228\u001b[0m - \u001b[1m64,721 -> 63,953 chars (99% of original)\u001b[0m\n",
      "\u001b[32m2024-09-30 11:48:17.806\u001b[0m | \u001b[1mINFO    \u001b[0m | \u001b[36mcore\u001b[0m:\u001b[36munshorten_markdown\u001b[0m:\u001b[36m247\u001b[0m - \u001b[1m4,322 -> 5,186 chars (120% of original)\u001b[0m\n",
      "\u001b[32m2024-09-30 11:48:17.807\u001b[0m | \u001b[1mINFO    \u001b[0m | \u001b[36mnews.summarize\u001b[0m:\u001b[36msummarize\u001b[0m:\u001b[36m95\u001b[0m - \u001b[1m64,721 -> 5,186 chars (8%) \u001b[0m\n",
      "\u001b[32m2024-09-30 11:48:17.816\u001b[0m | \u001b[1mINFO    \u001b[0m | \u001b[36mnews.summarize\u001b[0m:\u001b[36msummarize\u001b[0m:\u001b[36m95\u001b[0m - \u001b[1mExtractive fraction: 19% \u001b[0m\n",
      "\u001b[32m2024-09-30 11:48:17.816\u001b[0m | \u001b[1mINFO    \u001b[0m | \u001b[36mnews.summarize\u001b[0m:\u001b[36msummarize\u001b[0m:\u001b[36m95\u001b[0m - \u001b[1mPercent of URLs in sources: 100% ✅\u001b[0m\n",
      "\u001b[32m2024-09-30 11:48:17.816\u001b[0m | \u001b[1mINFO    \u001b[0m | \u001b[36mnews.summarize\u001b[0m:\u001b[36msummarize\u001b[0m:\u001b[36m95\u001b[0m - \u001b[1mCitation density: 22.0% (percent of output used by URLs/link syntax) \u001b[0m\n",
      "\u001b[32m2024-09-30 11:48:17.817\u001b[0m | \u001b[1mINFO    \u001b[0m | \u001b[36mnews.summarize\u001b[0m:\u001b[36msummarize\u001b[0m:\u001b[36m95\u001b[0m - \u001b[1mDistinct URLs (summary / input): 3 / 15\u001b[0m\n",
      "\u001b[32m2024-09-30 11:48:17.817\u001b[0m | \u001b[1mINFO    \u001b[0m | \u001b[36mnews.summarize\u001b[0m:\u001b[36msummarize\u001b[0m:\u001b[36m95\u001b[0m - \u001b[1mSuspicious URLs: set()\u001b[0m\n",
      "\u001b[32m2024-09-30 11:48:17.817\u001b[0m | \u001b[1mINFO    \u001b[0m | \u001b[36mnews.summarize\u001b[0m:\u001b[36msummarize\u001b[0m:\u001b[36m95\u001b[0m - \u001b[1mCache mentions: 0 ✅\u001b[0m\n",
      "\u001b[32m2024-09-30 11:48:17.898\u001b[0m | \u001b[1mINFO    \u001b[0m | \u001b[36mcore\u001b[0m:\u001b[36mshorten_markdown\u001b[0m:\u001b[36m228\u001b[0m - \u001b[1m3,865 -> 3,603 chars (93% of original)\u001b[0m\n",
      "\u001b[32m2024-09-30 11:48:17.899\u001b[0m | \u001b[1mINFO    \u001b[0m | \u001b[36mcore\u001b[0m:\u001b[36mshorten_markdown\u001b[0m:\u001b[36m228\u001b[0m - \u001b[1m5,186 -> 4,330 chars (83% of original)\u001b[0m\n",
      "\u001b[32m2024-09-30 11:48:32.810\u001b[0m | \u001b[1mINFO    \u001b[0m | \u001b[36mcore\u001b[0m:\u001b[36munshorten_markdown\u001b[0m:\u001b[36m247\u001b[0m - \u001b[1m5,468 -> 6,560 chars (120% of original)\u001b[0m\n",
      "\u001b[32m2024-09-30 11:48:32.811\u001b[0m | \u001b[1mINFO    \u001b[0m | \u001b[36munified\u001b[0m:\u001b[36mrun\u001b[0m:\u001b[36m359\u001b[0m - \u001b[1m9,053 -> 6,560 chars (72%) \u001b[0m\n",
      "\u001b[32m2024-09-30 11:48:32.814\u001b[0m | \u001b[1mINFO    \u001b[0m | \u001b[36munified\u001b[0m:\u001b[36mrun\u001b[0m:\u001b[36m359\u001b[0m - \u001b[1mExtractive fraction: 74% \u001b[0m\n",
      "\u001b[32m2024-09-30 11:48:32.815\u001b[0m | \u001b[1mINFO    \u001b[0m | \u001b[36munified\u001b[0m:\u001b[36mrun\u001b[0m:\u001b[36m359\u001b[0m - \u001b[1mPercent of URLs in sources: 100% ✅\u001b[0m\n",
      "\u001b[32m2024-09-30 11:48:32.815\u001b[0m | \u001b[1mINFO    \u001b[0m | \u001b[36munified\u001b[0m:\u001b[36mrun\u001b[0m:\u001b[36m359\u001b[0m - \u001b[1mCitation density: 28.5% (percent of output used by URLs/link syntax) \u001b[0m\n",
      "\u001b[32m2024-09-30 11:48:32.816\u001b[0m | \u001b[1mINFO    \u001b[0m | \u001b[36munified\u001b[0m:\u001b[36mrun\u001b[0m:\u001b[36m359\u001b[0m - \u001b[1mDistinct URLs (summary / input): 19 / 19\u001b[0m\n",
      "\u001b[32m2024-09-30 11:48:32.817\u001b[0m | \u001b[1mINFO    \u001b[0m | \u001b[36munified\u001b[0m:\u001b[36mrun\u001b[0m:\u001b[36m359\u001b[0m - \u001b[1mSuspicious URLs: set()\u001b[0m\n",
      "\u001b[32m2024-09-30 11:48:32.818\u001b[0m | \u001b[1mINFO    \u001b[0m | \u001b[36munified\u001b[0m:\u001b[36mrun\u001b[0m:\u001b[36m359\u001b[0m - \u001b[1mCache mentions: 0 ✅\u001b[0m\n"
     ]
    }
   ],
   "source": [
    "# Set the log level\n",
    "import sys\n",
    "from loguru import logger\n",
    "logger.remove()\n",
    "logger.add(sys.stderr, level=\"INFO\")\n",
    "\n",
    "import unified\n",
    "\n",
    "if not should_rebuild(output_json):\n",
    "    print(f\"Skipping {output_json} as it is up to date.\")\n",
    "else:\n",
    "    unified_result = await unified.run(\n",
    "        target, \n",
    "        num_reddit_threads=10, \n",
    "        max_glassdoor_review_pages=5, \n",
    "        max_glassdoor_job_pages=0,\n",
    "        max_news_articles=20,\n",
    "        )\n",
    "    \n",
    "    with open(output_json, 'w') as json_file:\n",
    "        json_file.write(unified_result.model_dump_json(indent=2))\n",
    "\n"
   ]
  },
  {
   "cell_type": "code",
   "execution_count": null,
   "metadata": {},
   "outputs": [],
   "source": []
  }
 ],
 "metadata": {
  "kernelspec": {
   "display_name": ".venv",
   "language": "python",
   "name": "python3"
  },
  "language_info": {
   "codemirror_mode": {
    "name": "ipython",
    "version": 3
   },
   "file_extension": ".py",
   "mimetype": "text/x-python",
   "name": "python",
   "nbconvert_exporter": "python",
   "pygments_lexer": "ipython3",
   "version": "3.10.12"
  }
 },
 "nbformat": 4,
 "nbformat_minor": 2
}
