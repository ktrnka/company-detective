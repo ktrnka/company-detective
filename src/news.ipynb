{
 "cells": [
  {
   "cell_type": "code",
   "execution_count": 1,
   "metadata": {},
   "outputs": [],
   "source": [
    "from googlesearch import search"
   ]
  },
  {
   "cell_type": "code",
   "execution_count": null,
   "metadata": {},
   "outputs": [],
   "source": []
  },
  {
   "cell_type": "code",
   "execution_count": 4,
   "metadata": {},
   "outputs": [
    {
     "name": "stdout",
     "output_type": "stream",
     "text": [
      "https://www.singularity6.com/news/studio-acquisition\n",
      "https://www.daybreakgames.com/news/dbg-s6-acquisition-announcement\n",
      "https://www.reddit.com/r/Games/comments/1dt81s7/singularity_6_daybreak_game_company_cozy_up_in/\n",
      "https://pitchbook.com/profiles/company/232819-84\n",
      "https://twitter.com/Singularity6/status/1807919665609597333\n",
      "https://www.singularity6.com/careers/staff-backend-software-engineer-technical-lead?gh_jid=5233329004\n",
      "https://www.cbinsights.com/company/singularity-6\n",
      "https://www.drakestar.com/news/exclusive-financial-advisor-to-singularity-6\n",
      "https://www.gamespress.com/en-US/Singularity-6-MADRINAS-Party-Up-for-Community-Focused-Palia-Chapaaccin\n",
      "https://www.cbinsights.com/company/singularity-6/financials\n"
     ]
    }
   ],
   "source": [
    "def news_search(company_name, company_url, num=10, stop=10, pause=2):\n",
    "    query = f'\"{company_name}\" \"{company_url}\" -site:linkedin.com -site:twitter.com -site:facebook.com -site:instagram.com -site:youtube.com -site:glassdoor.com -site:angel.co -site:crunchbase.com -site:reddit.com'\n",
    "    yield from search(query, num=num, stop=stop, pause=pause, tbs='qdr:m')\n",
    "\n",
    "for result in news_search(\"Singularity 6\", \"singularity6.com\", num=10, stop=10, pause=2):\n",
    "    print(result)\n",
    "\n",
    "# Possibly-useful options\n",
    "# extra_params (dict) – A dictionary of extra HTTP GET parameters, which must be URL encoded. For example if you don’t want Google to filter similar results you can set the extra_params to {‘filter’: ‘0’} which will append ‘&filter=0’ to every query.\n",
    "# lang (str) – Language of the search results\n",
    "# tbs (str) – Time limits (i.e “qdr:h” => last hour, “qdr:d” => last 24 hours, “qdr:m” => last month).\n",
    "\n"
   ]
  },
  {
   "cell_type": "code",
   "execution_count": null,
   "metadata": {},
   "outputs": [],
   "source": []
  }
 ],
 "metadata": {
  "kernelspec": {
   "display_name": "Python 3",
   "language": "python",
   "name": "python3"
  },
  "language_info": {
   "codemirror_mode": {
    "name": "ipython",
    "version": 3
   },
   "file_extension": ".py",
   "mimetype": "text/x-python",
   "name": "python",
   "nbconvert_exporter": "python",
   "pygments_lexer": "ipython3",
   "version": "3.10.12"
  }
 },
 "nbformat": 4,
 "nbformat_minor": 2
}
