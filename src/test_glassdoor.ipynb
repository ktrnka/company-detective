{
 "cells": [
  {
   "cell_type": "code",
   "execution_count": 1,
   "metadata": {},
   "outputs": [],
   "source": [
    "from core import Seed, init\n",
    "\n",
    "init()"
   ]
  },
  {
   "cell_type": "code",
   "execution_count": 2,
   "metadata": {},
   "outputs": [],
   "source": [
    "target = Seed.init(\"98point6\", domain=\"98point6.com\")"
   ]
  },
  {
   "cell_type": "code",
   "execution_count": 3,
   "metadata": {},
   "outputs": [
    {
     "name": "stderr",
     "output_type": "stream",
     "text": [
      "\u001b[32m2024-10-02 11:33:36.546\u001b[0m | \u001b[34m\u001b[1mDEBUG   \u001b[0m | \u001b[36mgoogle_search\u001b[0m:\u001b[36msearch\u001b[0m:\u001b[36m58\u001b[0m - \u001b[34m\u001b[1mGoogle search results: {'kind': 'customsearch#search', 'url': {'type': 'application/json', 'template': 'https://www.googleapis.com/customsearch/v1?q={searchTerms}&num={count?}&start={startIndex?}&lr={language?}&safe={safe?}&cx={cx?}&sort={sort?}&filter={filter?}&gl={gl?}&cr={cr?}&googlehost={googleHost?}&c2coff={disableCnTwTranslation?}&hq={hq?}&hl={hl?}&siteSearch={siteSearch?}&siteSearchFilter={siteSearchFilter?}&exactTerms={exactTerms?}&excludeTerms={excludeTerms?}&linkSite={linkSite?}&orTerms={orTerms?}&dateRestrict={dateRestrict?}&lowRange={lowRange?}&highRange={highRange?}&searchType={searchType}&fileType={fileType?}&rights={rights?}&imgSize={imgSize?}&imgType={imgType?}&imgColorType={imgColorType?}&imgDominantColor={imgDominantColor?}&alt=json'}, 'queries': {'request': [{'title': 'Google Custom Search - site:www.glassdoor.com \"98point6\"', 'totalResults': '53', 'searchTerms': 'site:www.glassdoor.com \"98point6\"', 'count': 10, 'startIndex': 1, 'language': 'lang_en', 'inputEncoding': 'utf8', 'outputEncoding': 'utf8', 'safe': 'off', 'cx': 'd5705c8967e3c4d63', 'gl': 'us', 'hl': 'en'}], 'nextPage': [{'title': 'Google Custom Search - site:www.glassdoor.com \"98point6\"', 'totalResults': '53', 'searchTerms': 'site:www.glassdoor.com \"98point6\"', 'count': 10, 'startIndex': 11, 'language': 'lang_en', 'inputEncoding': 'utf8', 'outputEncoding': 'utf8', 'safe': 'off', 'cx': 'd5705c8967e3c4d63', 'gl': 'us', 'hl': 'en'}]}, 'context': {'title': 'company_detective'}, 'searchInformation': {'searchTime': 0.155613, 'formattedSearchTime': '0.16', 'totalResults': '53', 'formattedTotalResults': '53'}, 'items': [{'kind': 'customsearch#result', 'title': 'Working at 98point6 | Glassdoor', 'htmlTitle': 'Working at <b>98point6</b> | Glassdoor', 'link': 'https://www.glassdoor.com/Overview/Working-at-98point6-EI_IE1181484.11,19.htm', 'displayLink': 'www.glassdoor.com', 'snippet': \"See what employees say it's like to work at 98point6. Salaries, reviews, and more - all posted by employees working at 98point6.\", 'htmlSnippet': 'See what employees say it&#39;s like to work at <b>98point6</b>. Salaries, reviews, and more - all posted by employees working at <b>98point6</b>.', 'formattedUrl': 'https://www.glassdoor.com/.../Working-at-98point6-EI_IE1181484.11,19....', 'htmlFormattedUrl': 'https://www.glassdoor.com/.../Working-at-<b>98point6</b>-EI_IE1181484.11,19....', 'pagemap': {'metatags': [{'next-head-count': '32', 'referrer': 'origin', 'og:type': 'website', 'theme-color': '#0caa41', 'og:site_name': 'Glassdoor', 'apple-mobile-web-app-status-bar-style': '#0caa41', 'viewport': 'width=device-width', 'apple-mobile-web-app-capable': 'yes', 'og:title': 'Working at 98point6', 'bingbot': 'nocache', 'og:description': \"See what employees say it's like to work at 98point6. Salaries, reviews, and more - all posted by employees working at 98point6.\", 'msapplication-navbutton-color': '#0caa41'}]}}, {'kind': 'customsearch#result', 'title': '98point6 Reviews: What Is It Like to Work At 98point6? | Glassdoor', 'htmlTitle': '<b>98point6</b> Reviews: What Is It Like to Work At <b>98point6</b>? | Glassdoor', 'link': 'https://www.glassdoor.com/Reviews/98point6-Reviews-E1181484.htm', 'displayLink': 'www.glassdoor.com', 'snippet': '98point6 has an employee rating of 3.8 out of 5 stars, based on 168 company reviews on Glassdoor which indicates that most employees have a good working\\xa0...', 'htmlSnippet': '<b>98point6</b> has an employee rating of 3.8 out of 5 stars, based on 168 company reviews on Glassdoor which indicates that most employees have a good working&nbsp;...', 'formattedUrl': 'https://www.glassdoor.com/Reviews/98point6-Reviews-E1181484.htm', 'htmlFormattedUrl': 'https://www.glassdoor.com/Reviews/<b>98point6</b>-Reviews-E1181484.htm', 'pagemap': {'breadcrumb': [{'title': 'Reviews', 'url': 'Reviews>'}, {'title': '98point6', 'url': '98point6'}], 'metatags': [{'next-head-count': '35', 'referrer': 'origin', 'og:type': 'website', 'theme-color': '#0caa41', 'og:site_name': 'Glassdoor', 'apple-mobile-web-app-status-bar-style': '#0caa41', 'viewport': 'width=device-width', 'apple-mobile-web-app-capable': 'yes', 'og:title': '98point6 Reviews: What Is It Like to Work At 98point6?', 'bingbot': 'nocache', 'og:description': '168 98point6 reviews. A free inside look at company reviews and salaries posted anonymously by employees.', 'msapplication-navbutton-color': '#0caa41'}]}}, {'kind': 'customsearch#result', 'title': '98point6 Interview Questions | Glassdoor', 'htmlTitle': '<b>98point6</b> Interview Questions | Glassdoor', 'link': 'https://www.glassdoor.com/Interview/98point6-Interview-Questions-E1181484.htm', 'displayLink': 'www.glassdoor.com', 'snippet': 'Jul 31, 2024 ... First Round: This is a phone screen with a recruiter. They asked questions on your work experience and they explained the product at 98point6.', 'htmlSnippet': 'Jul 31, 2024 <b>...</b> First Round: This is a phone screen with a recruiter. They asked questions on your work experience and they explained the product at <b>98point6</b>.', 'formattedUrl': 'https://www.glassdoor.com/.../98point6-Interview-Questions-E1181484.ht...', 'htmlFormattedUrl': 'https://www.glassdoor.com/.../<b>98point6</b>-Interview-Questions-E1181484.ht...', 'pagemap': {'breadcrumb': [{'title': 'Interviews', 'url': 'Interviews>'}, {'title': '98point6', 'url': '98point6'}], 'metatags': [{'next-head-count': '35', 'referrer': 'origin', 'og:type': 'website', 'theme-color': '#0caa41', 'og:site_name': 'Glassdoor', 'apple-mobile-web-app-status-bar-style': '#0caa41', 'viewport': 'width=device-width', 'apple-mobile-web-app-capable': 'yes', 'og:title': '98point6 Interview Questions', 'bingbot': 'nocache', 'og:description': '98point6 interview details: 138 interview questions and 129 interview reviews posted anonymously by 98point6 interview candidates.', 'msapplication-navbutton-color': '#0caa41'}]}}, {'kind': 'customsearch#result', 'title': 'How Much Does 98point6 Pay in 2024? (327 Salaries) | Glassdoor', 'htmlTitle': 'How Much Does <b>98point6</b> Pay in 2024? (327 Salaries) | Glassdoor', 'link': 'https://www.glassdoor.com/Salary/98point6-Salaries-E1181484.htm', 'displayLink': 'www.glassdoor.com', 'snippet': 'A free inside look at 98point6 salary trends based on 327 salaries wages for 155 jobs at 98point6. Salaries posted anonymously by 98point6 employees.', 'htmlSnippet': 'A free inside look at <b>98point6</b> salary trends based on 327 salaries wages for 155 jobs at <b>98point6</b>. Salaries posted anonymously by <b>98point6</b> employees.', 'formattedUrl': 'https://www.glassdoor.com/Salary/98point6-Salaries-E1181484.htm', 'htmlFormattedUrl': 'https://www.glassdoor.com/Salary/<b>98point6</b>-Salaries-E1181484.htm', 'pagemap': {'breadcrumb': [{'title': 'Salaries', 'url': 'Salaries'}, {'title': '98point6', 'url': '98point6'}], 'metatags': [{'next-head-count': '35', 'referrer': 'origin', 'og:type': 'website', 'theme-color': '#0caa41', 'og:site_name': 'Glassdoor', 'apple-mobile-web-app-status-bar-style': '#0caa41', 'viewport': 'width=device-width', 'apple-mobile-web-app-capable': 'yes', 'og:title': 'How Much Does 98point6 Pay in 2024? (327 Salaries)', 'bingbot': 'nocache', 'og:description': 'A free inside look at 98point6 salary trends based on 327 salaries wages for 155 jobs at 98point6. Salaries posted anonymously by 98point6 employees.', 'msapplication-navbutton-color': '#0caa41'}]}}, {'kind': 'customsearch#result', 'title': '98point6 Interview Questions in Seattle | Glassdoor', 'htmlTitle': '<b>98point6</b> Interview Questions in Seattle | Glassdoor', 'link': 'https://www.glassdoor.com/Interview/98point6-Seattle-Interview-Questions-EI_IE1181484.0,8_IL.9,16_IM781.htm', 'displayLink': 'www.glassdoor.com', 'snippet': 'May 1, 2023 ... I really enjoyed the interview process at 98point6. 1 recruiter phone scree, 1 hiring manager interview, 2 technical interviews and 1\\xa0...', 'htmlSnippet': 'May 1, 2023 <b>...</b> I really enjoyed the interview process at <b>98point6</b>. 1 recruiter phone scree, 1 hiring manager interview, 2 technical interviews and 1&nbsp;...', 'formattedUrl': 'https://www.glassdoor.com/.../98point6-Seattle-Interview-Questions-EI_IE1...', 'htmlFormattedUrl': 'https://www.glassdoor.com/.../<b>98point6</b>-Seattle-Interview-Questions-EI_IE1...', 'pagemap': {'breadcrumb': [{'title': 'Interviews', 'url': 'Interviews>'}, {'title': 'Seattle', 'url': 'Seattle>'}, {'title': '98point6', 'url': '98point6'}], 'metatags': [{'next-head-count': '35', 'referrer': 'origin', 'og:type': 'website', 'theme-color': '#0caa41', 'og:site_name': 'Glassdoor', 'apple-mobile-web-app-status-bar-style': '#0caa41', 'viewport': 'width=device-width', 'apple-mobile-web-app-capable': 'yes', 'og:title': '98point6 Interview Questions in Seattle', 'bingbot': 'nocache', 'og:description': '98point6 interview details in Seattle: 68 interview questions and 59 interview reviews posted anonymously by 98point6 interview candidates.', 'msapplication-navbutton-color': '#0caa41'}]}}, {'kind': 'customsearch#result', 'title': 'Salary: Recruiting Coordinator in Seattle, WA 2024 | Glassdoor', 'htmlTitle': 'Salary: Recruiting Coordinator in Seattle, WA 2024 | Glassdoor', 'link': 'https://www.glassdoor.com/Salaries/seattle-wa-recruiting-coordinator-salary-SRCH_IL.0,10_IM781_KO11,33.htm', 'displayLink': 'www.glassdoor.com', 'snippet': '98point6. $67,622/yr. See pay for all companies for a Recruiting ... 98point6. 3.8. Recruiting Coordinator See 9 salaries from this location\\xa0...', 'htmlSnippet': '<b>98point6</b>. $67,622/yr. See pay for all companies for a Recruiting ... <b>98point6</b>. 3.8. Recruiting Coordinator See 9 salaries from this location&nbsp;...', 'formattedUrl': 'https://www.glassdoor.com/.../seattle-wa-recruiting-coordinator-salary-SRC...', 'htmlFormattedUrl': 'https://www.glassdoor.com/.../seattle-wa-recruiting-coordinator-salary-SRC...', 'pagemap': {'metatags': [{'referrer': 'origin', 'theme-color': '#0caa41', 'og:type': 'website', 'apple-mobile-web-app-status-bar-style': '#0caa41', 'og:site_name': 'Glassdoor', 'viewport': 'width=device-width, initial-scale=1.0', 'apple-mobile-web-app-capable': 'yes', 'og:title': 'Salary: Recruiting Coordinator in Seattle, WA 2024', 'bingbot': 'nocache', 'msapplication-navbutton-color': '#0caa41', 'og:description': 'The average salary for a Recruiting Coordinator is $60,838 per year in Seattle, WA. Click here to see the total pay, recent salaries shared and more!'}]}}, {'kind': 'customsearch#result', 'title': 'Salary: Engagement Marketing Manager in United States 2024 ...', 'htmlTitle': 'Salary: Engagement Marketing Manager in United States 2024 ...', 'link': 'https://www.glassdoor.com/Salaries/engagement-marketing-manager-salary-SRCH_KO0,28.htm', 'displayLink': 'www.glassdoor.com', 'snippet': '3K open jobs. 98point6-logo. 98point6. 3.8. $118K - $165K. /yr. Total Pay. $140K. Median. Engagement Marketing Manager. Create job alert. 1 · 2. Viewing 1 - 10\\xa0...', 'htmlSnippet': '3K open jobs. <b>98point6</b>-logo. <b>98point6</b>. 3.8. $118K - $165K. /yr. Total Pay. $140K. Median. Engagement Marketing Manager. Create job alert. 1 &middot; 2. Viewing 1 - 10&nbsp;...', 'formattedUrl': 'https://www.glassdoor.com/.../engagement-marketing-manager-salary-SRC...', 'htmlFormattedUrl': 'https://www.glassdoor.com/.../engagement-marketing-manager-salary-SRC...', 'pagemap': {'metatags': [{'next-head-count': '20', 'referrer': 'origin', 'og:type': 'website', 'theme-color': '#0caa41', 'og:site_name': 'Glassdoor', 'apple-mobile-web-app-status-bar-style': '#0caa41', 'viewport': 'width=device-width', 'apple-mobile-web-app-capable': 'yes', 'og:title': 'Salary: Engagement Marketing Manager in United States 2024', 'bingbot': 'nocache', 'og:description': 'The average salary for an Engagement Marketing Manager is $148,303 per year in United States. Click here to see the total pay, recent salaries shared and more!', 'msapplication-navbutton-color': '#0caa41'}]}}, {'kind': 'customsearch#result', 'title': 'Salary: Vice President Of Finance in Seattle, WA 2024 | Glassdoor', 'htmlTitle': 'Salary: Vice President Of Finance in Seattle, WA 2024 | Glassdoor', 'link': 'https://www.glassdoor.com/Salaries/seattle-vice-president-of-finance-salary-SRCH_IL.0,7_IM781_KO8,33.htm', 'displayLink': 'www.glassdoor.com', 'snippet': 'Sep 19, 2024 ... $349K. 98point6. 3.8. Vice President Finance See 2 salaries from this location. $228,189. / yr. $192K.', 'htmlSnippet': 'Sep 19, 2024 <b>...</b> $349K. <b>98point6</b>. 3.8. Vice President Finance See 2 salaries from this location. $228,189. / yr. $192K.', 'formattedUrl': 'https://www.glassdoor.com/.../seattle-vice-president-of-finance-salary-SRC...', 'htmlFormattedUrl': 'https://www.glassdoor.com/.../seattle-vice-president-of-finance-salary-SRC...', 'pagemap': {'metatags': [{'referrer': 'origin', 'theme-color': '#0caa41', 'og:type': 'website', 'apple-mobile-web-app-status-bar-style': '#0caa41', 'og:site_name': 'Glassdoor', 'viewport': 'width=device-width, initial-scale=1.0', 'apple-mobile-web-app-capable': 'yes', 'og:title': 'Salary: Vice President Of Finance in Seattle, WA 2024', 'bingbot': 'nocache', 'msapplication-navbutton-color': '#0caa41', 'og:description': 'The average salary for a Vice President Of Finance is $180,974 per year in Seattle, WA. Click here to see the total pay, recent salaries shared and more!'}]}}, {'kind': 'customsearch#result', 'title': 'Working at West Boca Medical Center | Glassdoor', 'htmlTitle': 'Working at West Boca Medical Center | Glassdoor', 'link': 'https://www.glassdoor.com/Overview/Working-at-West-Boca-Medical-Center-EI_IE385991.11,35.htm', 'displayLink': 'www.glassdoor.com', 'snippet': \"Competitors: Roane General Hospital, HCA Florida Trinity Hospital, 98point6Create comparison. Relevant posts in this industry. NHS. I've noticed that autumn\\xa0...\", 'htmlSnippet': 'Competitors: Roane General Hospital, HCA Florida Trinity Hospital, <b>98point6</b>Create comparison. Relevant posts in this industry. NHS. I&#39;ve noticed that autumn&nbsp;...', 'formattedUrl': 'https://www.glassdoor.com/.../Working-at-West-Boca-Medical-Center-EI_I...', 'htmlFormattedUrl': 'https://www.glassdoor.com/.../Working-at-West-Boca-Medical-Center-EI_I...', 'pagemap': {'metatags': [{'next-head-count': '32', 'referrer': 'origin', 'og:type': 'website', 'theme-color': '#0caa41', 'og:site_name': 'Glassdoor', 'apple-mobile-web-app-status-bar-style': '#0caa41', 'viewport': 'width=device-width', 'apple-mobile-web-app-capable': 'yes', 'og:title': 'Working at West Boca Medical Center', 'bingbot': 'nocache', 'og:description': \"See what employees say it's like to work at West Boca Medical Center. Salaries, reviews, and more - all posted by employees working at West Boca Medical Center.\", 'msapplication-navbutton-color': '#0caa41'}]}}, {'kind': 'customsearch#result', 'title': 'Salary: Sde Ii in United States 2024 | Glassdoor', 'htmlTitle': 'Salary: Sde Ii in United States 2024 | Glassdoor', 'link': 'https://www.glassdoor.com/Salaries/sde-ii-salary-SRCH_KO0,6.htm', 'displayLink': 'www.glassdoor.com', 'snippet': 'Jul 12, 2020 ... 98point6. 3.8. Software Development Engineer (SDE) II See 5 salaries from this location. $134,309. / yr. $118K. $153K.', 'htmlSnippet': 'Jul 12, 2020 <b>...</b> <b>98point6</b>. 3.8. Software Development Engineer (SDE) II See 5 salaries from this location. $134,309. / yr. $118K. $153K.', 'formattedUrl': 'https://www.glassdoor.com/Salaries/sde-ii-salary-SRCH_KO0,6.htm', 'htmlFormattedUrl': 'https://www.glassdoor.com/Salaries/sde-ii-salary-SRCH_KO0,6.htm', 'pagemap': {'metatags': [{'referrer': 'origin', 'theme-color': '#0caa41', 'og:type': 'website', 'apple-mobile-web-app-status-bar-style': '#0caa41', 'og:site_name': 'Glassdoor', 'viewport': 'width=device-width, initial-scale=1.0', 'apple-mobile-web-app-capable': 'yes', 'og:title': 'Salary: Sde Ii in United States 2024', 'bingbot': 'nocache', 'msapplication-navbutton-color': '#0caa41', 'og:description': 'The average salary for a Sde Ii is $116,591 per year in US. Click here to see the total pay, recent salaries shared and more!'}]}}]}\u001b[0m\n"
     ]
    },
    {
     "data": {
      "text/plain": [
       "[SearchResult(title='Working at 98point6 | Glassdoor', link='https://www.glassdoor.com/Overview/Working-at-98point6-EI_IE1181484.11,19.htm', snippet=\"See what employees say it's like to work at 98point6. Salaries, reviews, and more - all posted by employees working at 98point6.\", formattedUrl='https://www.glassdoor.com/.../Working-at-98point6-EI_IE1181484.11,19....'),\n",
       " SearchResult(title='98point6 Reviews: What Is It Like to Work At 98point6? | Glassdoor', link='https://www.glassdoor.com/Reviews/98point6-Reviews-E1181484.htm', snippet='98point6 has an employee rating of 3.8 out of 5 stars, based on 168 company reviews on Glassdoor which indicates that most employees have a good working\\xa0...', formattedUrl='https://www.glassdoor.com/Reviews/98point6-Reviews-E1181484.htm'),\n",
       " SearchResult(title='98point6 Interview Questions | Glassdoor', link='https://www.glassdoor.com/Interview/98point6-Interview-Questions-E1181484.htm', snippet='Jul 31, 2024 ... First Round: This is a phone screen with a recruiter. They asked questions on your work experience and they explained the product at 98point6.', formattedUrl='https://www.glassdoor.com/.../98point6-Interview-Questions-E1181484.ht...'),\n",
       " SearchResult(title='How Much Does 98point6 Pay in 2024? (327 Salaries) | Glassdoor', link='https://www.glassdoor.com/Salary/98point6-Salaries-E1181484.htm', snippet='A free inside look at 98point6 salary trends based on 327 salaries wages for 155 jobs at 98point6. Salaries posted anonymously by 98point6 employees.', formattedUrl='https://www.glassdoor.com/Salary/98point6-Salaries-E1181484.htm'),\n",
       " SearchResult(title='98point6 Interview Questions in Seattle | Glassdoor', link='https://www.glassdoor.com/Interview/98point6-Seattle-Interview-Questions-EI_IE1181484.0,8_IL.9,16_IM781.htm', snippet='May 1, 2023 ... I really enjoyed the interview process at 98point6. 1 recruiter phone scree, 1 hiring manager interview, 2 technical interviews and 1\\xa0...', formattedUrl='https://www.glassdoor.com/.../98point6-Seattle-Interview-Questions-EI_IE1...'),\n",
       " SearchResult(title='Salary: Recruiting Coordinator in Seattle, WA 2024 | Glassdoor', link='https://www.glassdoor.com/Salaries/seattle-wa-recruiting-coordinator-salary-SRCH_IL.0,10_IM781_KO11,33.htm', snippet='98point6. $67,622/yr. See pay for all companies for a Recruiting ... 98point6. 3.8. Recruiting Coordinator See 9 salaries from this location\\xa0...', formattedUrl='https://www.glassdoor.com/.../seattle-wa-recruiting-coordinator-salary-SRC...'),\n",
       " SearchResult(title='Salary: Engagement Marketing Manager in United States 2024 ...', link='https://www.glassdoor.com/Salaries/engagement-marketing-manager-salary-SRCH_KO0,28.htm', snippet='3K open jobs. 98point6-logo. 98point6. 3.8. $118K - $165K. /yr. Total Pay. $140K. Median. Engagement Marketing Manager. Create job alert. 1 · 2. Viewing 1 - 10\\xa0...', formattedUrl='https://www.glassdoor.com/.../engagement-marketing-manager-salary-SRC...'),\n",
       " SearchResult(title='Salary: Vice President Of Finance in Seattle, WA 2024 | Glassdoor', link='https://www.glassdoor.com/Salaries/seattle-vice-president-of-finance-salary-SRCH_IL.0,7_IM781_KO8,33.htm', snippet='Sep 19, 2024 ... $349K. 98point6. 3.8. Vice President Finance See 2 salaries from this location. $228,189. / yr. $192K.', formattedUrl='https://www.glassdoor.com/.../seattle-vice-president-of-finance-salary-SRC...'),\n",
       " SearchResult(title='Working at West Boca Medical Center | Glassdoor', link='https://www.glassdoor.com/Overview/Working-at-West-Boca-Medical-Center-EI_IE385991.11,35.htm', snippet=\"Competitors: Roane General Hospital, HCA Florida Trinity Hospital, 98point6Create comparison. Relevant posts in this industry. NHS. I've noticed that autumn\\xa0...\", formattedUrl='https://www.glassdoor.com/.../Working-at-West-Boca-Medical-Center-EI_I...'),\n",
       " SearchResult(title='Salary: Sde Ii in United States 2024 | Glassdoor', link='https://www.glassdoor.com/Salaries/sde-ii-salary-SRCH_KO0,6.htm', snippet='Jul 12, 2020 ... 98point6. 3.8. Software Development Engineer (SDE) II See 5 salaries from this location. $134,309. / yr. $118K. $153K.', formattedUrl='https://www.glassdoor.com/Salaries/sde-ii-salary-SRCH_KO0,6.htm')]"
      ]
     },
     "execution_count": 3,
     "metadata": {},
     "output_type": "execute_result"
    }
   ],
   "source": [
    "# debug the search\n",
    "from google_search import search\n",
    "\n",
    "query = f'site:www.glassdoor.com \"{target.company}\"'\n",
    "\n",
    "urls = list(search(query, num=10))\n",
    "\n",
    "urls\n"
   ]
  },
  {
   "cell_type": "code",
   "execution_count": 7,
   "metadata": {},
   "outputs": [
    {
     "data": {
      "text/plain": [
       "(EmployerKey(name='98point6', id='1181484'),\n",
       " 'https://www.glassdoor.com/Reviews/98point6-Reviews-E1181484.htm?')"
      ]
     },
     "execution_count": 7,
     "metadata": {},
     "output_type": "execute_result"
    }
   ],
   "source": [
    "from glassdoor.models import UrlBuilder\n",
    "\n",
    "employer = UrlBuilder.find_employer_key([result.link for result in urls])\n",
    "employer, UrlBuilder.reviews(*employer)"
   ]
  },
  {
   "cell_type": "code",
   "execution_count": 5,
   "metadata": {},
   "outputs": [],
   "source": [
    "# import glassdoor\n",
    "\n",
    "# result = await glassdoor.run(target, max_review_pages=3, max_job_pages=2)\n",
    "# result"
   ]
  },
  {
   "cell_type": "code",
   "execution_count": 6,
   "metadata": {},
   "outputs": [
    {
     "ename": "NameError",
     "evalue": "name 'glassdoor' is not defined",
     "output_type": "error",
     "traceback": [
      "\u001b[0;31m---------------------------------------------------------------------------\u001b[0m",
      "\u001b[0;31mNameError\u001b[0m                                 Traceback (most recent call last)",
      "Cell \u001b[0;32mIn[6], line 1\u001b[0m\n\u001b[0;32m----> 1\u001b[0m \u001b[38;5;28mprint\u001b[39m(\u001b[43mglassdoor\u001b[49m\u001b[38;5;241m.\u001b[39msummarize_sampling(result))\n",
      "\u001b[0;31mNameError\u001b[0m: name 'glassdoor' is not defined"
     ]
    }
   ],
   "source": [
    "print(glassdoor.summarize_sampling(result))"
   ]
  },
  {
   "cell_type": "code",
   "execution_count": null,
   "metadata": {},
   "outputs": [
    {
     "data": {
      "text/plain": [
       "[]"
      ]
     },
     "execution_count": 5,
     "metadata": {},
     "output_type": "execute_result"
    }
   ],
   "source": [
    "result.jobs"
   ]
  },
  {
   "cell_type": "code",
   "execution_count": null,
   "metadata": {},
   "outputs": [],
   "source": []
  }
 ],
 "metadata": {
  "kernelspec": {
   "display_name": ".venv",
   "language": "python",
   "name": "python3"
  },
  "language_info": {
   "codemirror_mode": {
    "name": "ipython",
    "version": 3
   },
   "file_extension": ".py",
   "mimetype": "text/x-python",
   "name": "python",
   "nbconvert_exporter": "python",
   "pygments_lexer": "ipython3",
   "version": "3.10.12"
  }
 },
 "nbformat": 4,
 "nbformat_minor": 2
}
