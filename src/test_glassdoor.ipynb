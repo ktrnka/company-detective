{
 "cells": [
  {
   "cell_type": "code",
   "execution_count": 1,
   "metadata": {},
   "outputs": [],
   "source": [
    "from core import Seed, init\n",
    "\n",
    "init()"
   ]
  },
  {
   "cell_type": "code",
   "execution_count": 7,
   "metadata": {},
   "outputs": [],
   "source": [
    "target = Seed.init(\"98point6\", domain=\"98point6.com\")"
   ]
  },
  {
   "cell_type": "code",
   "execution_count": null,
   "metadata": {},
   "outputs": [],
   "source": []
  },
  {
   "cell_type": "code",
   "execution_count": 30,
   "metadata": {},
   "outputs": [
    {
     "name": "stderr",
     "output_type": "stream",
     "text": [
      "\u001b[32m2024-10-02 11:26:29.594\u001b[0m | \u001b[34m\u001b[1mDEBUG   \u001b[0m | \u001b[36mgoogle_search\u001b[0m:\u001b[36msearch\u001b[0m:\u001b[36m58\u001b[0m - \u001b[34m\u001b[1mGoogle search results: {'kind': 'customsearch#search', 'url': {'type': 'application/json', 'template': 'https://www.googleapis.com/customsearch/v1?q={searchTerms}&num={count?}&start={startIndex?}&lr={language?}&safe={safe?}&cx={cx?}&sort={sort?}&filter={filter?}&gl={gl?}&cr={cr?}&googlehost={googleHost?}&c2coff={disableCnTwTranslation?}&hq={hq?}&hl={hl?}&siteSearch={siteSearch?}&siteSearchFilter={siteSearchFilter?}&exactTerms={exactTerms?}&excludeTerms={excludeTerms?}&linkSite={linkSite?}&orTerms={orTerms?}&dateRestrict={dateRestrict?}&lowRange={lowRange?}&highRange={highRange?}&searchType={searchType}&fileType={fileType?}&rights={rights?}&imgSize={imgSize?}&imgType={imgType?}&imgColorType={imgColorType?}&imgDominantColor={imgDominantColor?}&alt=json'}, 'queries': {'request': [{'title': 'Google Custom Search - site:www.glassdoor.com \"Pomelo Care\"', 'totalResults': '108', 'searchTerms': 'site:www.glassdoor.com \"Pomelo Care\"', 'count': 10, 'startIndex': 1, 'language': 'lang_en', 'inputEncoding': 'utf8', 'outputEncoding': 'utf8', 'safe': 'off', 'cx': 'd5705c8967e3c4d63', 'gl': 'us', 'hl': 'en'}], 'nextPage': [{'title': 'Google Custom Search - site:www.glassdoor.com \"Pomelo Care\"', 'totalResults': '108', 'searchTerms': 'site:www.glassdoor.com \"Pomelo Care\"', 'count': 10, 'startIndex': 11, 'language': 'lang_en', 'inputEncoding': 'utf8', 'outputEncoding': 'utf8', 'safe': 'off', 'cx': 'd5705c8967e3c4d63', 'gl': 'us', 'hl': 'en'}]}, 'context': {'title': 'company_detective'}, 'searchInformation': {'searchTime': 0.166902, 'formattedSearchTime': '0.17', 'totalResults': '108', 'formattedTotalResults': '108'}, 'items': [{'kind': 'customsearch#result', 'title': 'Pomelo Care Interview Questions (2024) | Glassdoor', 'htmlTitle': '<b>Pomelo Care</b> Interview Questions (2024) | Glassdoor', 'link': 'https://www.glassdoor.com/Interview/Pomelo-Care-Interview-Questions-E9429297.htm', 'displayLink': 'www.glassdoor.com', 'snippet': 'Pomelo Care interview details: 12 interview questions and 13 interview reviews posted anonymously by Pomelo Care interview candidates.', 'htmlSnippet': '<b>Pomelo Care</b> interview details: 12 interview questions and 13 interview reviews posted anonymously by <b>Pomelo Care</b> interview candidates.', 'formattedUrl': 'https://www.glassdoor.com/.../Pomelo-Care-Interview-Questions-E9429297...', 'htmlFormattedUrl': 'https://www.glassdoor.com/.../<b>Pomelo-Care</b>-Interview-Questions-E9429297...', 'pagemap': {'breadcrumb': [{'title': 'Interviews', 'url': 'Interviews>'}, {'title': 'Pomelo Care', 'url': 'Pomelo Care'}], 'metatags': [{'next-head-count': '35', 'referrer': 'origin', 'og:type': 'website', 'theme-color': '#0caa41', 'og:site_name': 'Glassdoor', 'apple-mobile-web-app-status-bar-style': '#0caa41', 'viewport': 'width=device-width', 'apple-mobile-web-app-capable': 'yes', 'og:title': 'Pomelo Care Interview Questions (2024)', 'bingbot': 'nocache', 'og:description': 'Pomelo Care interview details: 12 interview questions and 13 interview reviews posted anonymously by Pomelo Care interview candidates.', 'msapplication-navbutton-color': '#0caa41'}]}}, {'kind': 'customsearch#result', 'title': 'How Much Does Pomelo Care Pay in 2024? (28 Salaries) | Glassdoor', 'htmlTitle': 'How Much Does <b>Pomelo Care</b> Pay in 2024? (28 Salaries) | Glassdoor', 'link': 'https://www.glassdoor.com/Salary/Pomelo-Care-Salaries-E9429297.htm', 'displayLink': 'www.glassdoor.com', 'snippet': 'A free inside look at Pomelo Care salary trends based on 28 salaries wages for 23 jobs at Pomelo Care. Salaries posted anonymously by Pomelo Care employees.', 'htmlSnippet': 'A free inside look at <b>Pomelo Care</b> salary trends based on 28 salaries wages for 23 jobs at <b>Pomelo Care</b>. Salaries posted anonymously by <b>Pomelo Care</b> employees.', 'formattedUrl': 'https://www.glassdoor.com/Salary/Pomelo-Care-Salaries-E9429297.htm', 'htmlFormattedUrl': 'https://www.glassdoor.com/Salary/<b>Pomelo-Care</b>-Salaries-E9429297.htm', 'pagemap': {'breadcrumb': [{'title': 'Salaries', 'url': 'Salaries'}, {'title': 'Pomelo Care', 'url': 'Pomelo Care'}], 'metatags': [{'next-head-count': '36', 'referrer': 'origin', 'og:type': 'website', 'theme-color': '#0caa41', 'og:site_name': 'Glassdoor', 'apple-mobile-web-app-status-bar-style': '#0caa41', 'viewport': 'width=device-width', 'apple-mobile-web-app-capable': 'yes', 'og:title': 'How Much Does Pomelo Care Pay in 2024? (28 Salaries)', 'bingbot': 'nocache', 'og:description': 'A free inside look at Pomelo Care salary trends based on 28 salaries wages for 23 jobs at Pomelo Care. Salaries posted anonymously by Pomelo Care employees.', 'msapplication-navbutton-color': '#0caa41'}]}}, {'kind': 'customsearch#result', 'title': 'Working at Pomelo Care | Glassdoor', 'htmlTitle': 'Working at <b>Pomelo Care</b> | Glassdoor', 'link': 'https://www.glassdoor.com/Overview/Working-at-Pomelo-Care-EI_IE9429297.11,22.htm', 'displayLink': 'www.glassdoor.com', 'snippet': \"See what employees say it's like to work at Pomelo Care. Salaries, reviews, and more - all posted by employees working at Pomelo Care.\", 'htmlSnippet': 'See what employees say it&#39;s like to work at <b>Pomelo Care</b>. Salaries, reviews, and more - all posted by employees working at <b>Pomelo Care</b>.', 'formattedUrl': 'https://www.glassdoor.com/.../Working-at-Pomelo-Care-EI_IE9429297.11,...', 'htmlFormattedUrl': 'https://www.glassdoor.com/.../Working-at-<b>Pomelo-Care</b>-EI_IE9429297.11,...', 'pagemap': {'metatags': [{'next-head-count': '32', 'referrer': 'origin', 'og:type': 'website', 'theme-color': '#0caa41', 'og:site_name': 'Glassdoor', 'apple-mobile-web-app-status-bar-style': '#0caa41', 'viewport': 'width=device-width', 'apple-mobile-web-app-capable': 'yes', 'og:title': 'Working at Pomelo Care', 'bingbot': 'nocache', 'og:description': \"See what employees say it's like to work at Pomelo Care. Salaries, reviews, and more - all posted by employees working at Pomelo Care.\", 'msapplication-navbutton-color': '#0caa41'}]}}, {'kind': 'customsearch#result', 'title': 'Pomelo Care - Enter at your own risk | Glassdoor', 'htmlTitle': '<b>Pomelo Care</b> - Enter at your own risk | Glassdoor', 'link': 'https://www.glassdoor.com/Reviews/Employee-Review-Pomelo-Care-RVW87236225.htm', 'displayLink': 'www.glassdoor.com', 'snippet': 'Enter at your own risk - Director Pomelo Care Employee Review ... Work life balance: Management will never tell you the expectation is to be online 24/7, but it\\xa0...', 'htmlSnippet': 'Enter at your own risk - Director <b>Pomelo Care</b> Employee Review ... Work life balance: Management will never tell you the expectation is to be online 24/7, but it&nbsp;...', 'formattedUrl': 'https://www.glassdoor.com/.../Employee-Review-Pomelo-Care-RVW87236...', 'htmlFormattedUrl': 'https://www.glassdoor.com/.../Employee-Review-<b>Pomelo-Care</b>-RVW87236...', 'pagemap': {'metatags': [{'next-head-count': '16', 'referrer': 'origin', 'theme-color': '#0caa41', 'apple-mobile-web-app-status-bar-style': '#0caa41', 'viewport': 'width=device-width', 'apple-mobile-web-app-capable': 'yes', 'og:title': 'Pomelo Care - Enter at your own risk', 'bingbot': 'nocache', 'og:description': 'Incredible mission, focus on Medicaid makes you feel like you’re truly making a difference in healthcare and in patients’ lives', 'msapplication-navbutton-color': '#0caa41'}]}}, {'kind': 'customsearch#result', 'title': 'Pomelo Care Jobs & Careers - 24 Open Positions | Glassdoor', 'htmlTitle': '<b>Pomelo Care</b> Jobs &amp; Careers - 24 Open Positions | Glassdoor', 'link': 'https://www.glassdoor.com/Jobs/Pomelo-Care-Jobs-E9429297.htm', 'displayLink': 'www.glassdoor.com', 'snippet': 'Search job openings at Pomelo Care. 24 Pomelo Care jobs including salaries, ratings, and reviews, posted by Pomelo Care employees.', 'htmlSnippet': 'Search job openings at <b>Pomelo Care</b>. 24 <b>Pomelo Care</b> jobs including salaries, ratings, and reviews, posted by <b>Pomelo Care</b> employees.', 'formattedUrl': 'https://www.glassdoor.com/Jobs/Pomelo-Care-Jobs-E9429297.htm', 'htmlFormattedUrl': 'https://www.glassdoor.com/Jobs/<b>Pomelo-Care</b>-Jobs-E9429297.htm', 'pagemap': {'metatags': [{'og:type': 'website', 'theme-color': '#0caa41', 'og:site_name': 'Glassdoor', 'og:title': 'Pomelo Care Jobs & Careers - 24 Open Positions', 'bingbot': 'nocache', 'og:description': 'Search job openings at Pomelo Care. 24 Pomelo Care jobs including salaries, ratings, and reviews, posted by Pomelo Care employees.', 'msapplication-navbutton-color': '#0caa41', 'next-head-count': '34', 'referrer': 'origin', 'apple-mobile-web-app-status-bar-style': '#0caa41', 'viewport': 'width=device-width', 'apple-mobile-web-app-capable': 'yes', 'og:url': 'https://www.glassdoor.com/Jobs/Pomelo-Care-Jobs-E9429297.htm'}]}}, {'kind': 'customsearch#result', 'title': 'Pomelo Care Outreach and Engagement Specialist Salaries ...', 'htmlTitle': '<b>Pomelo Care</b> Outreach and Engagement Specialist Salaries ...', 'link': 'https://www.glassdoor.com/Salary/Pomelo-Care-Outreach-and-Engagement-Specialist-Salaries-E9429297_D_KO12,46.htm', 'displayLink': 'www.glassdoor.com', 'snippet': 'Average salaries for Pomelo Care Outreach and Engagement Specialist: $0. Pomelo Care salary trends based on salaries posted anonymously by Pomelo Care\\xa0...', 'htmlSnippet': 'Average salaries for <b>Pomelo Care</b> Outreach and Engagement Specialist: $0. <b>Pomelo Care</b> salary trends based on salaries posted anonymously by <b>Pomelo Care</b>&nbsp;...', 'formattedUrl': 'https://www.glassdoor.com/.../Pomelo-Care-Outreach-and-Engagement-Spe...', 'htmlFormattedUrl': 'https://www.glassdoor.com/.../<b>Pomelo-Care</b>-Outreach-and-Engagement-Spe...', 'pagemap': {'breadcrumb': [{'title': 'Salaries', 'url': 'Salaries'}, {'title': 'Outreach and Engagement Specialist', 'url': 'Outreach and Engagement Specialist'}, {'title': 'Pomelo Care', 'url': 'Pomelo Care'}], 'metatags': [{'next-head-count': '21', 'referrer': 'origin', 'og:type': 'website', 'theme-color': '#0caa41', 'og:site_name': 'Glassdoor', 'apple-mobile-web-app-status-bar-style': '#0caa41', 'viewport': 'width=device-width', 'apple-mobile-web-app-capable': 'yes', 'og:title': 'Pomelo Care Outreach and Engagement Specialist Salaries', 'bingbot': 'nocache', 'og:description': 'Average salaries for Pomelo Care Outreach and Engagement Specialist: $0. Pomelo Care salary trends based on salaries posted anonymously by Pomelo Care employees.', 'msapplication-navbutton-color': '#0caa41'}]}}, {'kind': 'customsearch#result', 'title': 'Pomelo Care Reviews in New York | Glassdoor', 'htmlTitle': '<b>Pomelo Care</b> Reviews in New York | Glassdoor', 'link': 'https://www.glassdoor.com/Reviews/Pomelo-Care-New-York-Reviews-EI_IE9429297.0,11_IL.12,20_IC1132348.htm', 'displayLink': 'www.glassdoor.com', 'snippet': 'Jun 25, 2024 ... 4 Pomelo Care reviews in New York. A free inside look at company reviews and salaries posted anonymously by employees.', 'htmlSnippet': 'Jun 25, 2024 <b>...</b> 4 <b>Pomelo Care</b> reviews in New York. A free inside look at company reviews and salaries posted anonymously by employees.', 'formattedUrl': 'https://www.glassdoor.com/.../Pomelo-Care-New-York-Reviews-EI_IE9429...', 'htmlFormattedUrl': 'https://www.glassdoor.com/.../<b>Pomelo-Care</b>-New-York-Reviews-EI_IE9429...', 'pagemap': {'breadcrumb': [{'title': 'Reviews', 'url': 'Reviews>'}, {'title': 'New York', 'url': 'New York>'}, {'title': 'Pomelo Care', 'url': 'Pomelo Care'}], 'metatags': [{'next-head-count': '34', 'referrer': 'origin', 'og:type': 'website', 'theme-color': '#0caa41', 'og:site_name': 'Glassdoor', 'apple-mobile-web-app-status-bar-style': '#0caa41', 'viewport': 'width=device-width', 'apple-mobile-web-app-capable': 'yes', 'og:title': 'Pomelo Care Reviews in New York', 'bingbot': 'nocache', 'og:description': '4 Pomelo Care reviews in New York. A free inside look at company reviews and salaries posted anonymously by employees.', 'msapplication-navbutton-color': '#0caa41'}]}}, {'kind': 'customsearch#result', 'title': 'Pomelo Care hiring Bilingual Outreach & Engagement Specialist ...', 'htmlTitle': '<b>Pomelo Care</b> hiring Bilingual Outreach &amp; Engagement Specialist ...', 'link': 'https://www.glassdoor.com/job-listing/bilingual-outreach-engagement-specialist-pomelo-care-JV_KO0,40_KE41,52.htm?jl=1009079567446', 'displayLink': 'www.glassdoor.com', 'snippet': 'Pomelo Care is a multi-disciplinary team of clinicians, engineers and problem solvers who are passionate about improving care for moms and babies.', 'htmlSnippet': '<b>Pomelo Care</b> is a multi-disciplinary team of clinicians, engineers and problem solvers who are passionate about improving care for moms and babies.', 'formattedUrl': 'https://www.glassdoor.com/.../bilingual-outreach-engagement-specialist-po...', 'htmlFormattedUrl': 'https://www.glassdoor.com/.../bilingual-outreach-engagement-specialist-<b>po</b>...', 'pagemap': {'cse_thumbnail': [{'src': 'https://encrypted-tbn0.gstatic.com/images?q=tbn:ANd9GcRBtOrshHnGqBrtfR5eHBK5XomzZ70rM9HXQmA5w_r3BfUgLHh8sSaVgA&s', 'width': '100', 'height': '100'}], 'metatags': [{'og:image': 'https://media.glassdoor.com/sql/9429297/pomelo-care-squareLogo-1717460955260.png', 'og:type': 'website', 'theme-color': '#0caa41', 'og:site_name': 'Glassdoor', 'og:title': 'Pomelo Care hiring Bilingual Outreach & Engagement Specialist Job in Remote | Glassdoor', 'bingbot': 'nocache', 'og:description': 'About us\\n\\nPomelo Care is a multi-disciplinary team of clinicians, engineers and problem solvers who are passionate about... See this and similar jobs on Glassdoor', 'msapplication-navbutton-color': '#0caa41', 'next-head-count': '5', 'referrer': 'origin', 'apple-mobile-web-app-status-bar-style': '#0caa41', 'viewport': 'width=device-width', 'apple-mobile-web-app-capable': 'yes', 'og:url': 'https://www.glassdoor.com/job-listing/bilingual-outreach-engagement-specialist-pomelo-care-JV_KO0,40_KE41,52.htm?jl=1009079567446'}], 'cse_image': [{'src': 'https://media.glassdoor.com/sql/9429297/pomelo-care-squareLogo-1717460955260.png'}]}}, {'kind': 'customsearch#result', 'title': 'Pomelo Care hiring Market Operations Lead Job in New York, NY ...', 'htmlTitle': '<b>Pomelo Care</b> hiring Market Operations Lead Job in New York, NY ...', 'link': 'https://www.glassdoor.com/job-listing/market-operations-lead-pomelo-care-JV_IC1132348_KO0,22_KE23,34.htm?jl=1008902770882', 'displayLink': 'www.glassdoor.com', 'snippet': 'Pomelo Care is a multi-disciplinary team of clinicians, engineers and problem solvers who are passionate about improving care for moms and babies.', 'htmlSnippet': '<b>Pomelo Care</b> is a multi-disciplinary team of clinicians, engineers and problem solvers who are passionate about improving care for moms and babies.', 'formattedUrl': 'https://www.glassdoor.com/.../market-operations-lead-pomelo-care-JV_IC1...', 'htmlFormattedUrl': 'https://www.glassdoor.com/.../market-operations-lead-<b>pomelo-care</b>-JV_IC1...', 'pagemap': {'cse_thumbnail': [{'src': 'https://encrypted-tbn0.gstatic.com/images?q=tbn:ANd9GcRBtOrshHnGqBrtfR5eHBK5XomzZ70rM9HXQmA5w_r3BfUgLHh8sSaVgA&s', 'width': '100', 'height': '100'}], 'metatags': [{'og:image': 'https://media.glassdoor.com/sql/9429297/pomelo-care-squareLogo-1717460955260.png', 'og:type': 'website', 'theme-color': '#0caa41', 'og:site_name': 'Glassdoor', 'og:title': 'Pomelo Care hiring Market Operations Lead Job in New York, NY | Glassdoor', 'bingbot': 'nocache', 'og:description': 'About us\\n\\nPomelo Care is a multi-disciplinary team of clinicians, engineers and problem solvers who are passionate about... See this and similar jobs on Glassdoor', 'msapplication-navbutton-color': '#0caa41', 'next-head-count': '5', 'referrer': 'origin', 'apple-mobile-web-app-status-bar-style': '#0caa41', 'viewport': 'width=device-width', 'apple-mobile-web-app-capable': 'yes', 'og:url': 'https://www.glassdoor.com/job-listing/market-operations-lead-pomelo-care-JV_IC1132348_KO0,22_KE23,34.htm?jl=1008902770882'}], 'cse_image': [{'src': 'https://media.glassdoor.com/sql/9429297/pomelo-care-squareLogo-1717460955260.png'}]}}, {'kind': 'customsearch#result', 'title': 'Pomelo Care: Employee Benefits and Perks | Glassdoor', 'htmlTitle': '<b>Pomelo Care</b>: Employee Benefits and Perks | Glassdoor', 'link': 'https://www.glassdoor.com/Benefits/Pomelo-Care-US-Benefits-EI_IE9429297.0,11_IL.12,14_IN1.htm', 'displayLink': 'www.glassdoor.com', 'snippet': 'Pomelo Care benefits and perks, including insurance benefits, retirement benefits, and vacation policy. Reported anonymously by Pomelo Care employees.', 'htmlSnippet': '<b>Pomelo Care</b> benefits and perks, including insurance benefits, retirement benefits, and vacation policy. Reported anonymously by <b>Pomelo Care</b> employees.', 'formattedUrl': 'https://www.glassdoor.com/.../Pomelo-Care-US-Benefits-EI_IE9429297.0,1...', 'htmlFormattedUrl': 'https://www.glassdoor.com/.../<b>Pomelo-Care</b>-US-Benefits-EI_IE9429297.0,1...', 'pagemap': {'metatags': [{'referrer': 'origin', 'theme-color': '#0caa41', 'apple-mobile-web-app-status-bar-style': '#0caa41', 'viewport': 'width=device-width, initial-scale=1.0', 'apple-mobile-web-app-capable': 'yes', 'og:title': 'Pomelo Care: Employee Benefits and Perks', 'bingbot': 'nocache', 'msapplication-navbutton-color': '#0caa41', 'og:description': 'Pomelo Care benefits and perks, including insurance benefits, retirement benefits, and vacation policy. Reported anonymously by Pomelo Care employees.'}]}}]}\u001b[0m\n"
     ]
    },
    {
     "data": {
      "text/plain": [
       "[SearchResult(title='Pomelo Care Interview Questions (2024) | Glassdoor', link='https://www.glassdoor.com/Interview/Pomelo-Care-Interview-Questions-E9429297.htm', snippet='Pomelo Care interview details: 12 interview questions and 13 interview reviews posted anonymously by Pomelo Care interview candidates.', formattedUrl='https://www.glassdoor.com/.../Pomelo-Care-Interview-Questions-E9429297...'),\n",
       " SearchResult(title='How Much Does Pomelo Care Pay in 2024? (28 Salaries) | Glassdoor', link='https://www.glassdoor.com/Salary/Pomelo-Care-Salaries-E9429297.htm', snippet='A free inside look at Pomelo Care salary trends based on 28 salaries wages for 23 jobs at Pomelo Care. Salaries posted anonymously by Pomelo Care employees.', formattedUrl='https://www.glassdoor.com/Salary/Pomelo-Care-Salaries-E9429297.htm'),\n",
       " SearchResult(title='Working at Pomelo Care | Glassdoor', link='https://www.glassdoor.com/Overview/Working-at-Pomelo-Care-EI_IE9429297.11,22.htm', snippet=\"See what employees say it's like to work at Pomelo Care. Salaries, reviews, and more - all posted by employees working at Pomelo Care.\", formattedUrl='https://www.glassdoor.com/.../Working-at-Pomelo-Care-EI_IE9429297.11,...'),\n",
       " SearchResult(title='Pomelo Care - Enter at your own risk | Glassdoor', link='https://www.glassdoor.com/Reviews/Employee-Review-Pomelo-Care-RVW87236225.htm', snippet='Enter at your own risk - Director Pomelo Care Employee Review ... Work life balance: Management will never tell you the expectation is to be online 24/7, but it\\xa0...', formattedUrl='https://www.glassdoor.com/.../Employee-Review-Pomelo-Care-RVW87236...'),\n",
       " SearchResult(title='Pomelo Care Jobs & Careers - 24 Open Positions | Glassdoor', link='https://www.glassdoor.com/Jobs/Pomelo-Care-Jobs-E9429297.htm', snippet='Search job openings at Pomelo Care. 24 Pomelo Care jobs including salaries, ratings, and reviews, posted by Pomelo Care employees.', formattedUrl='https://www.glassdoor.com/Jobs/Pomelo-Care-Jobs-E9429297.htm'),\n",
       " SearchResult(title='Pomelo Care Outreach and Engagement Specialist Salaries ...', link='https://www.glassdoor.com/Salary/Pomelo-Care-Outreach-and-Engagement-Specialist-Salaries-E9429297_D_KO12,46.htm', snippet='Average salaries for Pomelo Care Outreach and Engagement Specialist: $0. Pomelo Care salary trends based on salaries posted anonymously by Pomelo Care\\xa0...', formattedUrl='https://www.glassdoor.com/.../Pomelo-Care-Outreach-and-Engagement-Spe...'),\n",
       " SearchResult(title='Pomelo Care Reviews in New York | Glassdoor', link='https://www.glassdoor.com/Reviews/Pomelo-Care-New-York-Reviews-EI_IE9429297.0,11_IL.12,20_IC1132348.htm', snippet='Jun 25, 2024 ... 4 Pomelo Care reviews in New York. A free inside look at company reviews and salaries posted anonymously by employees.', formattedUrl='https://www.glassdoor.com/.../Pomelo-Care-New-York-Reviews-EI_IE9429...'),\n",
       " SearchResult(title='Pomelo Care hiring Bilingual Outreach & Engagement Specialist ...', link='https://www.glassdoor.com/job-listing/bilingual-outreach-engagement-specialist-pomelo-care-JV_KO0,40_KE41,52.htm?jl=1009079567446', snippet='Pomelo Care is a multi-disciplinary team of clinicians, engineers and problem solvers who are passionate about improving care for moms and babies.', formattedUrl='https://www.glassdoor.com/.../bilingual-outreach-engagement-specialist-po...'),\n",
       " SearchResult(title='Pomelo Care hiring Market Operations Lead Job in New York, NY ...', link='https://www.glassdoor.com/job-listing/market-operations-lead-pomelo-care-JV_IC1132348_KO0,22_KE23,34.htm?jl=1008902770882', snippet='Pomelo Care is a multi-disciplinary team of clinicians, engineers and problem solvers who are passionate about improving care for moms and babies.', formattedUrl='https://www.glassdoor.com/.../market-operations-lead-pomelo-care-JV_IC1...'),\n",
       " SearchResult(title='Pomelo Care: Employee Benefits and Perks | Glassdoor', link='https://www.glassdoor.com/Benefits/Pomelo-Care-US-Benefits-EI_IE9429297.0,11_IL.12,14_IN1.htm', snippet='Pomelo Care benefits and perks, including insurance benefits, retirement benefits, and vacation policy. Reported anonymously by Pomelo Care employees.', formattedUrl='https://www.glassdoor.com/.../Pomelo-Care-US-Benefits-EI_IE9429297.0,1...')]"
      ]
     },
     "execution_count": 30,
     "metadata": {},
     "output_type": "execute_result"
    }
   ],
   "source": [
    "# debug the search\n",
    "from google_search import search\n",
    "\n",
    "query = f'site:www.glassdoor.com \"Pomelo Care\"'\n",
    "\n",
    "urls = list(search(query, num=10))\n",
    "\n",
    "urls\n",
    "\n",
    "# The issue with Akili Interactive:\n",
    "# Google search returns zero results for f'site:www.glassdoor.com/Reviews/ \"{target.company}\"' though it does return results for f'site:www.glassdoor.com \"{target.company}\"'\n",
    "\n",
    "# # Filter\n",
    "# urls = [url for url in urls if re.match(r\".*/Reviews/(.*)-Reviews-E([0-9A-F]+).htm.*\", url.link)]\n",
    "\n",
    "# logger.debug(\"Filtered results {}\", urls)\n",
    "\n",
    "# if not urls:\n",
    "#     return None\n",
    "\n",
    "# return urls[0]"
   ]
  },
  {
   "cell_type": "code",
   "execution_count": 31,
   "metadata": {},
   "outputs": [
    {
     "data": {
      "text/plain": [
       "['https://www.glassdoor.com/Interview/Pomelo-Care-Interview-Questions-E9429297.htm',\n",
       " 'https://www.glassdoor.com/Salary/Pomelo-Care-Salaries-E9429297.htm',\n",
       " 'https://www.glassdoor.com/Overview/Working-at-Pomelo-Care-EI_IE9429297.11,22.htm',\n",
       " 'https://www.glassdoor.com/Reviews/Employee-Review-Pomelo-Care-RVW87236225.htm',\n",
       " 'https://www.glassdoor.com/Jobs/Pomelo-Care-Jobs-E9429297.htm',\n",
       " 'https://www.glassdoor.com/Salary/Pomelo-Care-Outreach-and-Engagement-Specialist-Salaries-E9429297_D_KO12,46.htm',\n",
       " 'https://www.glassdoor.com/Reviews/Pomelo-Care-New-York-Reviews-EI_IE9429297.0,11_IL.12,20_IC1132348.htm',\n",
       " 'https://www.glassdoor.com/job-listing/bilingual-outreach-engagement-specialist-pomelo-care-JV_KO0,40_KE41,52.htm?jl=1009079567446',\n",
       " 'https://www.glassdoor.com/job-listing/market-operations-lead-pomelo-care-JV_IC1132348_KO0,22_KE23,34.htm?jl=1008902770882',\n",
       " 'https://www.glassdoor.com/Benefits/Pomelo-Care-US-Benefits-EI_IE9429297.0,11_IL.12,14_IN1.htm']"
      ]
     },
     "execution_count": 31,
     "metadata": {},
     "output_type": "execute_result"
    }
   ],
   "source": [
    "[url.link for url in urls]"
   ]
  },
  {
   "cell_type": "code",
   "execution_count": 27,
   "metadata": {},
   "outputs": [
    {
     "name": "stdout",
     "output_type": "stream",
     "text": [
      "('Kevala-Care', '5145912')\n"
     ]
    }
   ],
   "source": [
    "for url in urls:\n",
    "    # try parsing it as a review page\n",
    "    try:\n",
    "        parsed = UrlBuilder.parse_review_url(url.link)\n",
    "        if parsed:\n",
    "            print(parsed)\n",
    "            break\n",
    "    except AttributeError:\n",
    "        pass\n",
    "\n",
    "    # try parsing it as a company page\n",
    "    parsed = parse_overview_url(url.link)\n",
    "    if parsed:\n",
    "        print(parsed)\n",
    "        break\n"
   ]
  },
  {
   "cell_type": "code",
   "execution_count": 18,
   "metadata": {},
   "outputs": [
    {
     "data": {
      "text/plain": [
       "('Akili-Interactive-Labs', '1796040')"
      ]
     },
     "execution_count": 18,
     "metadata": {},
     "output_type": "execute_result"
    }
   ],
   "source": [
    "parse_overview_url(urls[0].link)"
   ]
  },
  {
   "cell_type": "code",
   "execution_count": 16,
   "metadata": {},
   "outputs": [
    {
     "data": {
      "text/plain": [
       "'https://www.glassdoor.com/Overview/Working-at-(.+)-EI_IE([0-9]+).11,19.htm'"
      ]
     },
     "execution_count": 16,
     "metadata": {},
     "output_type": "execute_result"
    }
   ],
   "source": [
    "overview_pattern"
   ]
  },
  {
   "cell_type": "code",
   "execution_count": 17,
   "metadata": {},
   "outputs": [],
   "source": [
    "overview_url = \"https://www.glassdoor.com/Overview/Working-at-98point6-EI_IE1181484.11,19.htm\"\n",
    "reviews_url = \"https://www.glassdoor.com/Reviews/98point6-Reviews-E1181484.htm\"\n",
    "\n",
    "from glassdoor.models import UrlBuilder\n",
    "\n",
    "company_name, company_id = UrlBuilder.parse_review_url(reviews_url)\n",
    "company_name, company_id\n",
    "\n",
    "overview_pattern = overview_url.replace(company_name, \"(.+)\").replace(company_id, \"([0-9]+)\")\n",
    "overview_pattern\n",
    "\n",
    "import re\n",
    "\n",
    "def parse_overview_url(url):\n",
    "    match = re.match(r\"https://www.glassdoor.com/Overview/Working-at-(.+)-EI_IE([0-9]+).\\d+,\\d+.htm\", url)\n",
    "    if not match:\n",
    "        return None\n",
    "    return match.groups()\n",
    "\n",
    "assert parse_overview_url(overview_url) == (company_name, company_id)"
   ]
  },
  {
   "cell_type": "code",
   "execution_count": 13,
   "metadata": {},
   "outputs": [
    {
     "name": "stderr",
     "output_type": "stream",
     "text": [
      "\u001b[32m2024-08-29 14:56:46.960\u001b[0m | \u001b[34m\u001b[1mDEBUG   \u001b[0m | \u001b[36mgoogle_search\u001b[0m:\u001b[36msearch\u001b[0m:\u001b[36m58\u001b[0m - \u001b[34m\u001b[1mGoogle search results: {'kind': 'customsearch#search', 'url': {'type': 'application/json', 'template': 'https://www.googleapis.com/customsearch/v1?q={searchTerms}&num={count?}&start={startIndex?}&lr={language?}&safe={safe?}&cx={cx?}&sort={sort?}&filter={filter?}&gl={gl?}&cr={cr?}&googlehost={googleHost?}&c2coff={disableCnTwTranslation?}&hq={hq?}&hl={hl?}&siteSearch={siteSearch?}&siteSearchFilter={siteSearchFilter?}&exactTerms={exactTerms?}&excludeTerms={excludeTerms?}&linkSite={linkSite?}&orTerms={orTerms?}&dateRestrict={dateRestrict?}&lowRange={lowRange?}&highRange={highRange?}&searchType={searchType}&fileType={fileType?}&rights={rights?}&imgSize={imgSize?}&imgType={imgType?}&imgColorType={imgColorType?}&imgDominantColor={imgDominantColor?}&alt=json'}, 'queries': {'request': [{'title': 'Google Custom Search - site:www.glassdoor.com/Reviews/ \"Rippling\"', 'totalResults': '46', 'searchTerms': 'site:www.glassdoor.com/Reviews/ \"Rippling\"', 'count': 10, 'startIndex': 1, 'language': 'lang_en', 'inputEncoding': 'utf8', 'outputEncoding': 'utf8', 'safe': 'off', 'cx': 'd5705c8967e3c4d63', 'gl': 'us', 'hl': 'en'}], 'nextPage': [{'title': 'Google Custom Search - site:www.glassdoor.com/Reviews/ \"Rippling\"', 'totalResults': '46', 'searchTerms': 'site:www.glassdoor.com/Reviews/ \"Rippling\"', 'count': 10, 'startIndex': 11, 'language': 'lang_en', 'inputEncoding': 'utf8', 'outputEncoding': 'utf8', 'safe': 'off', 'cx': 'd5705c8967e3c4d63', 'gl': 'us', 'hl': 'en'}]}, 'context': {'title': 'company_detective'}, 'searchInformation': {'searchTime': 0.177823, 'formattedSearchTime': '0.18', 'totalResults': '46', 'formattedTotalResults': '46'}, 'items': [{'kind': 'customsearch#result', 'title': 'Rippling - THIS IS THE ONLY REVIEW YOU NEED TO READ ...', 'htmlTitle': '<b>Rippling</b> - THIS IS THE ONLY REVIEW YOU NEED TO READ ...', 'link': 'https://www.glassdoor.com/Reviews/Employee-Review-Rippling-RVW85467390.htm', 'displayLink': 'www.glassdoor.com', 'snippet': \"MONEY MONEY MONEY! You will make MONEY! The company is growing fast, pays above market, and Rippling is clear that a financial outcome is the reason we're\\xa0...\", 'htmlSnippet': 'MONEY MONEY MONEY! You will make MONEY! The company is growing fast, pays above market, and <b>Rippling</b> is clear that a financial outcome is the reason we&#39;re&nbsp;...', 'formattedUrl': 'https://www.glassdoor.com/.../Employee-Review-Rippling-RVW85467390....', 'htmlFormattedUrl': 'https://www.glassdoor.com/.../Employee-Review-<b>Rippling</b>-RVW85467390....', 'pagemap': {'metatags': [{'next-head-count': '16', 'referrer': 'origin', 'theme-color': '#0caa41', 'apple-mobile-web-app-status-bar-style': '#0caa41', 'viewport': 'width=device-width', 'apple-mobile-web-app-capable': 'yes', 'og:title': 'Rippling - THIS IS THE ONLY REVIEW YOU NEED TO READ', 'bingbot': 'nocache', 'og:description': \"MONEY MONEY MONEY! You will make MONEY! The company is growing fast, pays above market, and Rippling is clear that a financial outcome is the reason we're all here. Not to have fun, not to have a positive culture--you will not find a more toxic cu...\", 'msapplication-navbutton-color': '#0caa41'}]}}, {'kind': 'customsearch#result', 'title': 'Rippling \"culture\" Reviews | Glassdoor', 'htmlTitle': '<b>Rippling</b> &quot;culture&quot; Reviews | Glassdoor', 'link': 'https://www.glassdoor.com/Reviews/Rippling-culture-Reviews-EI_IE2521509.0,8_KH9,16.htm', 'displayLink': 'www.glassdoor.com', 'snippet': '156 Rippling reviews. A free inside look at company reviews and salaries posted anonymously by employees.', 'htmlSnippet': '156 <b>Rippling</b> reviews. A free inside look at company reviews and salaries posted anonymously by employees.', 'formattedUrl': 'https://www.glassdoor.com/.../Rippling-culture-Reviews-EI_IE2521509.0,8...', 'htmlFormattedUrl': 'https://www.glassdoor.com/.../<b>Rippling</b>-culture-Reviews-EI_IE2521509.0,8...', 'pagemap': {'breadcrumb': [{'title': 'Reviews', 'url': 'Reviews>'}, {'title': 'Rippling', 'url': 'Rippling'}], 'metatags': [{'next-head-count': '21', 'referrer': 'origin', 'og:type': 'website', 'theme-color': '#0caa41', 'og:site_name': 'Glassdoor', 'apple-mobile-web-app-status-bar-style': '#0caa41', 'viewport': 'width=device-width', 'apple-mobile-web-app-capable': 'yes', 'og:title': 'Rippling \"culture\" Reviews', 'bingbot': 'nocache', 'og:description': '156 Rippling reviews. A free inside look at company reviews and salaries posted anonymously by employees.', 'msapplication-navbutton-color': '#0caa41'}]}}, {'kind': 'customsearch#result', 'title': 'Rippling Account Executive Reviews | Glassdoor', 'htmlTitle': '<b>Rippling</b> Account Executive Reviews | Glassdoor', 'link': 'https://www.glassdoor.com/Reviews/Rippling-Account-Executive-Reviews-EI_IE2521509.0,8_KO9,26.htm', 'displayLink': 'www.glassdoor.com', 'snippet': '51 Rippling reviews. A free inside look at company reviews and salaries posted anonymously by employees.', 'htmlSnippet': '51 <b>Rippling</b> reviews. A free inside look at company reviews and salaries posted anonymously by employees.', 'formattedUrl': 'https://www.glassdoor.com/.../Rippling-Account-Executive-Reviews-EI_IE...', 'htmlFormattedUrl': 'https://www.glassdoor.com/.../<b>Rippling</b>-Account-Executive-Reviews-EI_IE...', 'pagemap': {'breadcrumb': [{'title': 'Reviews', 'url': 'Reviews>'}, {'title': 'Account Executive', 'url': 'Account Executive>'}, {'title': 'Rippling', 'url': 'Rippling'}], 'metatags': [{'next-head-count': '21', 'referrer': 'origin', 'og:type': 'website', 'theme-color': '#0caa41', 'og:site_name': 'Glassdoor', 'apple-mobile-web-app-status-bar-style': '#0caa41', 'viewport': 'width=device-width', 'apple-mobile-web-app-capable': 'yes', 'og:title': 'Rippling Account Executive Reviews', 'bingbot': 'nocache', 'og:description': '51 Rippling reviews. A free inside look at company reviews and salaries posted anonymously by employees.', 'msapplication-navbutton-color': '#0caa41'}]}}, {'kind': 'customsearch#result', 'title': 'Rippling Reviews: What Is It Like to Work At Rippling? | Glassdoor', 'htmlTitle': '<b>Rippling</b> Reviews: What Is It Like to Work At <b>Rippling</b>? | Glassdoor', 'link': 'https://www.glassdoor.com/Reviews/Rippling-Reviews-E2521509.htm', 'displayLink': 'www.glassdoor.com', 'snippet': '622 Rippling reviews. A free inside look at company reviews and salaries posted anonymously by employees.', 'htmlSnippet': '622 <b>Rippling</b> reviews. A free inside look at company reviews and salaries posted anonymously by employees.', 'formattedUrl': 'https://www.glassdoor.com/Reviews/Rippling-Reviews-E2521509.htm', 'htmlFormattedUrl': 'https://www.glassdoor.com/Reviews/<b>Rippling</b>-Reviews-E2521509.htm', 'pagemap': {'breadcrumb': [{'title': 'Reviews', 'url': 'Reviews>'}, {'title': 'Rippling', 'url': 'Rippling'}], 'metatags': [{'next-head-count': '35', 'referrer': 'origin', 'og:type': 'website', 'theme-color': '#0caa41', 'og:site_name': 'Glassdoor', 'apple-mobile-web-app-status-bar-style': '#0caa41', 'viewport': 'width=device-width', 'apple-mobile-web-app-capable': 'yes', 'og:title': 'Rippling Reviews: What Is It Like to Work At Rippling?', 'bingbot': 'nocache', 'og:description': '622 Rippling reviews. A free inside look at company reviews and salaries posted anonymously by employees.', 'msapplication-navbutton-color': '#0caa41'}]}}, {'kind': 'customsearch#result', 'title': 'Rippling Reviews in New York City | Glassdoor', 'htmlTitle': '<b>Rippling</b> Reviews in New York City | Glassdoor', 'link': 'https://www.glassdoor.com/Reviews/Rippling-New-York-City-Reviews-EI_IE2521509.0,8_IL.9,22_IM615.htm', 'displayLink': 'www.glassdoor.com', 'snippet': 'Employees in New York City have given Rippling a rating of 4.4 out of 5 stars, based on 27 company reviews on Glassdoor.', 'htmlSnippet': 'Employees in New York City have given <b>Rippling</b> a rating of 4.4 out of 5 stars, based on 27 company reviews on Glassdoor.', 'formattedUrl': 'https://www.glassdoor.com/.../Rippling-New-York-City-Reviews-EI_IE252...', 'htmlFormattedUrl': 'https://www.glassdoor.com/.../<b>Rippling</b>-New-York-City-Reviews-EI_IE252...', 'pagemap': {'breadcrumb': [{'title': 'Reviews', 'url': 'Reviews>'}, {'title': 'New York City', 'url': 'New York City>'}, {'title': 'Rippling', 'url': 'Rippling'}], 'metatags': [{'next-head-count': '35', 'referrer': 'origin', 'og:type': 'website', 'theme-color': '#0caa41', 'og:site_name': 'Glassdoor', 'apple-mobile-web-app-status-bar-style': '#0caa41', 'viewport': 'width=device-width', 'apple-mobile-web-app-capable': 'yes', 'og:title': 'Rippling Reviews in New York City', 'bingbot': 'nocache', 'og:description': '27 Rippling reviews in New York City. A free inside look at company reviews and salaries posted anonymously by employees.', 'msapplication-navbutton-color': '#0caa41'}]}}, {'kind': 'customsearch#result', 'title': 'Rippling \"rippling\" Reviews | Glassdoor', 'htmlTitle': '<b>Rippling</b> &quot;<b>rippling</b>&quot; Reviews | Glassdoor', 'link': 'https://www.glassdoor.com/Reviews/Rippling-rippling-Reviews-EI_IE2521509.0,8_KH9,17.htm', 'displayLink': 'www.glassdoor.com', 'snippet': '108 Rippling reviews. A free inside look at company reviews and salaries posted anonymously by employees.', 'htmlSnippet': '108 <b>Rippling</b> reviews. A free inside look at company reviews and salaries posted anonymously by employees.', 'formattedUrl': 'https://www.glassdoor.com/.../Rippling-rippling-Reviews-EI_IE2521509.0,...', 'htmlFormattedUrl': 'https://www.glassdoor.com/.../<b>Rippling</b>-<b>rippling</b>-Reviews-EI_IE2521509.0,...', 'pagemap': {'breadcrumb': [{'title': 'Reviews', 'url': 'Reviews>'}, {'title': 'Rippling', 'url': 'Rippling'}], 'metatags': [{'next-head-count': '21', 'referrer': 'origin', 'og:type': 'website', 'theme-color': '#0caa41', 'og:site_name': 'Glassdoor', 'apple-mobile-web-app-status-bar-style': '#0caa41', 'viewport': 'width=device-width', 'apple-mobile-web-app-capable': 'yes', 'og:title': 'Rippling \"rippling\" Reviews', 'bingbot': 'nocache', 'og:description': '108 Rippling reviews. A free inside look at company reviews and salaries posted anonymously by employees.', 'msapplication-navbutton-color': '#0caa41'}]}}, {'kind': 'customsearch#result', 'title': 'Rippling Software Engineer Reviews | Glassdoor', 'htmlTitle': '<b>Rippling</b> Software Engineer Reviews | Glassdoor', 'link': 'https://www.glassdoor.com/Reviews/Rippling-Software-Engineer-Reviews-EI_IE2521509.0,8_KO9,26.htm', 'displayLink': 'www.glassdoor.com', 'snippet': '145 Rippling reviews. A free inside look at company reviews and salaries posted anonymously by employees.', 'htmlSnippet': '145 <b>Rippling</b> reviews. A free inside look at company reviews and salaries posted anonymously by employees.', 'formattedUrl': 'https://www.glassdoor.com/.../Rippling-Software-Engineer-Reviews-EI_IE2...', 'htmlFormattedUrl': 'https://www.glassdoor.com/.../<b>Rippling</b>-Software-Engineer-Reviews-EI_IE2...', 'pagemap': {'breadcrumb': [{'title': 'Reviews', 'url': 'Reviews>'}, {'title': 'Software Engineer', 'url': 'Software Engineer>'}, {'title': 'Rippling', 'url': 'Rippling'}], 'metatags': [{'next-head-count': '21', 'referrer': 'origin', 'og:type': 'website', 'theme-color': '#0caa41', 'og:site_name': 'Glassdoor', 'apple-mobile-web-app-status-bar-style': '#0caa41', 'viewport': 'width=device-width', 'apple-mobile-web-app-capable': 'yes', 'og:title': 'Rippling Software Engineer Reviews', 'bingbot': 'nocache', 'og:description': '145 Rippling reviews. A free inside look at company reviews and salaries posted anonymously by employees.', 'msapplication-navbutton-color': '#0caa41'}]}}, {'kind': 'customsearch#result', 'title': 'Rippling Sales Reviews | Glassdoor', 'htmlTitle': '<b>Rippling</b> Sales Reviews | Glassdoor', 'link': 'https://www.glassdoor.com/Reviews/Rippling-Sales-Reviews-EI_IE2521509.0,8_KO9,14.htm', 'displayLink': 'www.glassdoor.com', 'snippet': '61 Rippling reviews. A free inside look at company reviews and salaries posted anonymously by employees.', 'htmlSnippet': '61 <b>Rippling</b> reviews. A free inside look at company reviews and salaries posted anonymously by employees.', 'formattedUrl': 'https://www.glassdoor.com/.../Rippling-Sales-Reviews-EI_IE2521509.0,8_...', 'htmlFormattedUrl': 'https://www.glassdoor.com/.../<b>Rippling</b>-Sales-Reviews-EI_IE2521509.0,8_...', 'pagemap': {'breadcrumb': [{'title': 'Reviews', 'url': 'Reviews>'}, {'title': 'Sales', 'url': 'Sales>'}, {'title': 'Rippling', 'url': 'Rippling'}], 'metatags': [{'next-head-count': '21', 'referrer': 'origin', 'og:type': 'website', 'theme-color': '#0caa41', 'og:site_name': 'Glassdoor', 'apple-mobile-web-app-status-bar-style': '#0caa41', 'viewport': 'width=device-width', 'apple-mobile-web-app-capable': 'yes', 'og:title': 'Rippling Sales Reviews', 'bingbot': 'nocache', 'og:description': '61 Rippling reviews. A free inside look at company reviews and salaries posted anonymously by employees.', 'msapplication-navbutton-color': '#0caa41'}]}}, {'kind': 'customsearch#result', 'title': 'Rippling Sales Development Representative Reviews | Glassdoor', 'htmlTitle': '<b>Rippling</b> Sales Development Representative Reviews | Glassdoor', 'link': 'https://www.glassdoor.com/Reviews/Rippling-Sales-Development-Representative-Reviews-EI_IE2521509.0,8_KO9,41.htm', 'displayLink': 'www.glassdoor.com', 'snippet': '34 Rippling reviews. A free inside look at company reviews and salaries posted anonymously by employees.', 'htmlSnippet': '34 <b>Rippling</b> reviews. A free inside look at company reviews and salaries posted anonymously by employees.', 'formattedUrl': 'https://www.glassdoor.com/.../Rippling-Sales-Development-Representative-...', 'htmlFormattedUrl': 'https://www.glassdoor.com/.../<b>Rippling</b>-Sales-Development-Representative-...', 'pagemap': {'breadcrumb': [{'title': 'Reviews', 'url': 'Reviews>'}, {'title': 'Sales Development Representative', 'url': 'Sales Development Representative>'}, {'title': 'Rippling', 'url': 'Rippling'}], 'metatags': [{'next-head-count': '21', 'referrer': 'origin', 'og:type': 'website', 'theme-color': '#0caa41', 'og:site_name': 'Glassdoor', 'apple-mobile-web-app-status-bar-style': '#0caa41', 'viewport': 'width=device-width', 'apple-mobile-web-app-capable': 'yes', 'og:title': 'Rippling Sales Development Representative Reviews', 'bingbot': 'nocache', 'og:description': '34 Rippling reviews. A free inside look at company reviews and salaries posted anonymously by employees.', 'msapplication-navbutton-color': '#0caa41'}]}}, {'kind': 'customsearch#result', 'title': 'Rippling - Avoid this company at all cost, you will regret working ...', 'htmlTitle': '<b>Rippling</b> - Avoid this company at all cost, you will regret working ...', 'link': 'https://www.glassdoor.com/Reviews/Employee-Review-Rippling-RVW83209217.htm', 'displayLink': 'www.glassdoor.com', 'snippet': '22Photos · 501Diversity. Avoid this company at all cost, you will regret working here - Anonymous employee Rippling Employee Review. See All Reviews (638). 1.0.', 'htmlSnippet': '22Photos &middot; 501Diversity. Avoid this company at all cost, you will regret working here - Anonymous employee <b>Rippling</b> Employee Review. See All Reviews (638). 1.0.', 'formattedUrl': 'https://www.glassdoor.com/.../Employee-Review-Rippling-RVW83209217....', 'htmlFormattedUrl': 'https://www.glassdoor.com/.../Employee-Review-<b>Rippling</b>-RVW83209217....', 'pagemap': {'metatags': [{'next-head-count': '16', 'referrer': 'origin', 'theme-color': '#0caa41', 'apple-mobile-web-app-status-bar-style': '#0caa41', 'viewport': 'width=device-width', 'apple-mobile-web-app-capable': 'yes', 'og:title': 'Rippling - Avoid this company at all cost, you will regret working here', 'bingbot': 'nocache', 'og:description': 'High pay if you are willing to sell your soul for it', 'msapplication-navbutton-color': '#0caa41'}]}}]}\u001b[0m\n",
      "\u001b[32m2024-08-29 14:56:46.963\u001b[0m | \u001b[34m\u001b[1mDEBUG   \u001b[0m | \u001b[36mglassdoor.search\u001b[0m:\u001b[36mfind_review\u001b[0m:\u001b[36m16\u001b[0m - \u001b[34m\u001b[1mSearch results [SearchResult(title='Rippling - THIS IS THE ONLY REVIEW YOU NEED TO READ ...', link='https://www.glassdoor.com/Reviews/Employee-Review-Rippling-RVW85467390.htm', snippet=\"MONEY MONEY MONEY! You will make MONEY! The company is growing fast, pays above market, and Rippling is clear that a financial outcome is the reason we're\\xa0...\", formattedUrl='https://www.glassdoor.com/.../Employee-Review-Rippling-RVW85467390....'), SearchResult(title='Rippling \"culture\" Reviews | Glassdoor', link='https://www.glassdoor.com/Reviews/Rippling-culture-Reviews-EI_IE2521509.0,8_KH9,16.htm', snippet='156 Rippling reviews. A free inside look at company reviews and salaries posted anonymously by employees.', formattedUrl='https://www.glassdoor.com/.../Rippling-culture-Reviews-EI_IE2521509.0,8...'), SearchResult(title='Rippling Account Executive Reviews | Glassdoor', link='https://www.glassdoor.com/Reviews/Rippling-Account-Executive-Reviews-EI_IE2521509.0,8_KO9,26.htm', snippet='51 Rippling reviews. A free inside look at company reviews and salaries posted anonymously by employees.', formattedUrl='https://www.glassdoor.com/.../Rippling-Account-Executive-Reviews-EI_IE...'), SearchResult(title='Rippling Reviews: What Is It Like to Work At Rippling? | Glassdoor', link='https://www.glassdoor.com/Reviews/Rippling-Reviews-E2521509.htm', snippet='622 Rippling reviews. A free inside look at company reviews and salaries posted anonymously by employees.', formattedUrl='https://www.glassdoor.com/Reviews/Rippling-Reviews-E2521509.htm'), SearchResult(title='Rippling Reviews in New York City | Glassdoor', link='https://www.glassdoor.com/Reviews/Rippling-New-York-City-Reviews-EI_IE2521509.0,8_IL.9,22_IM615.htm', snippet='Employees in New York City have given Rippling a rating of 4.4 out of 5 stars, based on 27 company reviews on Glassdoor.', formattedUrl='https://www.glassdoor.com/.../Rippling-New-York-City-Reviews-EI_IE252...'), SearchResult(title='Rippling \"rippling\" Reviews | Glassdoor', link='https://www.glassdoor.com/Reviews/Rippling-rippling-Reviews-EI_IE2521509.0,8_KH9,17.htm', snippet='108 Rippling reviews. A free inside look at company reviews and salaries posted anonymously by employees.', formattedUrl='https://www.glassdoor.com/.../Rippling-rippling-Reviews-EI_IE2521509.0,...'), SearchResult(title='Rippling Software Engineer Reviews | Glassdoor', link='https://www.glassdoor.com/Reviews/Rippling-Software-Engineer-Reviews-EI_IE2521509.0,8_KO9,26.htm', snippet='145 Rippling reviews. A free inside look at company reviews and salaries posted anonymously by employees.', formattedUrl='https://www.glassdoor.com/.../Rippling-Software-Engineer-Reviews-EI_IE2...'), SearchResult(title='Rippling Sales Reviews | Glassdoor', link='https://www.glassdoor.com/Reviews/Rippling-Sales-Reviews-EI_IE2521509.0,8_KO9,14.htm', snippet='61 Rippling reviews. A free inside look at company reviews and salaries posted anonymously by employees.', formattedUrl='https://www.glassdoor.com/.../Rippling-Sales-Reviews-EI_IE2521509.0,8_...'), SearchResult(title='Rippling Sales Development Representative Reviews | Glassdoor', link='https://www.glassdoor.com/Reviews/Rippling-Sales-Development-Representative-Reviews-EI_IE2521509.0,8_KO9,41.htm', snippet='34 Rippling reviews. A free inside look at company reviews and salaries posted anonymously by employees.', formattedUrl='https://www.glassdoor.com/.../Rippling-Sales-Development-Representative-...'), SearchResult(title='Rippling - Avoid this company at all cost, you will regret working ...', link='https://www.glassdoor.com/Reviews/Employee-Review-Rippling-RVW83209217.htm', snippet='22Photos · 501Diversity. Avoid this company at all cost, you will regret working here - Anonymous employee Rippling Employee Review. See All Reviews (638). 1.0.', formattedUrl='https://www.glassdoor.com/.../Employee-Review-Rippling-RVW83209217....')]\u001b[0m\n",
      "\u001b[32m2024-08-29 14:56:46.963\u001b[0m | \u001b[34m\u001b[1mDEBUG   \u001b[0m | \u001b[36mglassdoor.search\u001b[0m:\u001b[36mfind_review\u001b[0m:\u001b[36m21\u001b[0m - \u001b[34m\u001b[1mFiltered results [SearchResult(title='Rippling Reviews: What Is It Like to Work At Rippling? | Glassdoor', link='https://www.glassdoor.com/Reviews/Rippling-Reviews-E2521509.htm', snippet='622 Rippling reviews. A free inside look at company reviews and salaries posted anonymously by employees.', formattedUrl='https://www.glassdoor.com/Reviews/Rippling-Reviews-E2521509.htm')]\u001b[0m\n",
      "\u001b[32m2024-08-29 14:56:46.964\u001b[0m | \u001b[1mINFO    \u001b[0m | \u001b[36mscrapfly_scrapers.glassdoor\u001b[0m:\u001b[36mscrape_jobs\u001b[0m:\u001b[36m77\u001b[0m - \u001b[1mscraping job listings from https://www.glassdoor.com/Jobs/Rippling-Jobs-E2521509.htm?\u001b[0m\n"
     ]
    },
    {
     "ename": "UpstreamHttpClientError",
     "evalue": "Target website responded with 403 - Forbidden",
     "output_type": "error",
     "traceback": [
      "\u001b[0;31m---------------------------------------------------------------------------\u001b[0m",
      "\u001b[0;31mUpstreamHttpClientError\u001b[0m                   Traceback (most recent call last)",
      "Cell \u001b[0;32mIn[13], line 3\u001b[0m\n\u001b[1;32m      1\u001b[0m \u001b[38;5;28;01mimport\u001b[39;00m \u001b[38;5;21;01mglassdoor\u001b[39;00m\n\u001b[0;32m----> 3\u001b[0m result \u001b[38;5;241m=\u001b[39m \u001b[38;5;28;01mawait\u001b[39;00m glassdoor\u001b[38;5;241m.\u001b[39mrun(target, max_review_pages\u001b[38;5;241m=\u001b[39m\u001b[38;5;241m3\u001b[39m, max_job_pages\u001b[38;5;241m=\u001b[39m\u001b[38;5;241m2\u001b[39m)\n\u001b[1;32m      4\u001b[0m result\n",
      "File \u001b[0;32m~/company-detective/src/glassdoor/__init__.py:74\u001b[0m, in \u001b[0;36mrun\u001b[0;34m(target, max_review_pages, max_job_pages, url_override)\u001b[0m\n\u001b[1;32m     72\u001b[0m jobs \u001b[38;5;241m=\u001b[39m []\n\u001b[1;32m     73\u001b[0m \u001b[38;5;28;01mif\u001b[39;00m max_job_pages \u001b[38;5;241m>\u001b[39m \u001b[38;5;241m0\u001b[39m:\n\u001b[0;32m---> 74\u001b[0m     job_results \u001b[38;5;241m=\u001b[39m \u001b[38;5;28;01mawait\u001b[39;00m scrape_jobs(\n\u001b[1;32m     75\u001b[0m         UrlBuilder\u001b[38;5;241m.\u001b[39mjobs(company, company_id), max_pages\u001b[38;5;241m=\u001b[39mmax_job_pages\n\u001b[1;32m     76\u001b[0m     )\n\u001b[1;32m     77\u001b[0m     jobs \u001b[38;5;241m=\u001b[39m [GlassdoorJob(\u001b[38;5;241m*\u001b[39m\u001b[38;5;241m*\u001b[39mresult) \u001b[38;5;28;01mfor\u001b[39;00m result \u001b[38;5;129;01min\u001b[39;00m job_results]\n\u001b[1;32m     78\u001b[0m     jobs \u001b[38;5;241m=\u001b[39m \u001b[38;5;28msorted\u001b[39m(jobs, key\u001b[38;5;241m=\u001b[39m\u001b[38;5;28;01mlambda\u001b[39;00m job: job\u001b[38;5;241m.\u001b[39mjobTitleText)\n",
      "File \u001b[0;32m~/company-detective/src/scrapfly_scrapers/glassdoor.py:78\u001b[0m, in \u001b[0;36mscrape_jobs\u001b[0;34m(url, max_pages)\u001b[0m\n\u001b[1;32m     76\u001b[0m \u001b[38;5;250m\u001b[39m\u001b[38;5;124;03m\"\"\"Scrape Glassdoor job listing page for job listings (with pagination)\"\"\"\u001b[39;00m\n\u001b[1;32m     77\u001b[0m log\u001b[38;5;241m.\u001b[39minfo(\u001b[38;5;124m\"\u001b[39m\u001b[38;5;124mscraping job listings from \u001b[39m\u001b[38;5;132;01m{}\u001b[39;00m\u001b[38;5;124m\"\u001b[39m, url)\n\u001b[0;32m---> 78\u001b[0m first_page \u001b[38;5;241m=\u001b[39m \u001b[38;5;28;01mawait\u001b[39;00m SCRAPFLY\u001b[38;5;241m.\u001b[39masync_scrape(ScrapeConfig(url, \u001b[38;5;241m*\u001b[39m\u001b[38;5;241m*\u001b[39mBASE_CONFIG))\n\u001b[1;32m     80\u001b[0m jobs, other_page_urls \u001b[38;5;241m=\u001b[39m parse_jobs(first_page)\n\u001b[1;32m     81\u001b[0m _total_pages \u001b[38;5;241m=\u001b[39m \u001b[38;5;28mlen\u001b[39m(other_page_urls) \u001b[38;5;241m+\u001b[39m \u001b[38;5;241m1\u001b[39m\n",
      "File \u001b[0;32m~/company-detective/.venv/lib/python3.10/site-packages/scrapfly/client.py:326\u001b[0m, in \u001b[0;36mScrapflyClient.async_scrape\u001b[0;34m(self, scrape_config, loop)\u001b[0m\n\u001b[1;32m    323\u001b[0m \u001b[38;5;28;01mif\u001b[39;00m loop \u001b[38;5;129;01mis\u001b[39;00m \u001b[38;5;28;01mNone\u001b[39;00m:\n\u001b[1;32m    324\u001b[0m     loop \u001b[38;5;241m=\u001b[39m asyncio\u001b[38;5;241m.\u001b[39mget_running_loop()\n\u001b[0;32m--> 326\u001b[0m \u001b[38;5;28;01mreturn\u001b[39;00m \u001b[38;5;28;01mawait\u001b[39;00m loop\u001b[38;5;241m.\u001b[39mrun_in_executor(\u001b[38;5;28mself\u001b[39m\u001b[38;5;241m.\u001b[39masync_executor, \u001b[38;5;28mself\u001b[39m\u001b[38;5;241m.\u001b[39mscrape, scrape_config)\n",
      "File \u001b[0;32m/usr/lib/python3.10/concurrent/futures/thread.py:58\u001b[0m, in \u001b[0;36m_WorkItem.run\u001b[0;34m(self)\u001b[0m\n\u001b[1;32m     55\u001b[0m     \u001b[38;5;28;01mreturn\u001b[39;00m\n\u001b[1;32m     57\u001b[0m \u001b[38;5;28;01mtry\u001b[39;00m:\n\u001b[0;32m---> 58\u001b[0m     result \u001b[38;5;241m=\u001b[39m \u001b[38;5;28;43mself\u001b[39;49m\u001b[38;5;241;43m.\u001b[39;49m\u001b[43mfn\u001b[49m\u001b[43m(\u001b[49m\u001b[38;5;241;43m*\u001b[39;49m\u001b[38;5;28;43mself\u001b[39;49m\u001b[38;5;241;43m.\u001b[39;49m\u001b[43margs\u001b[49m\u001b[43m,\u001b[49m\u001b[43m \u001b[49m\u001b[38;5;241;43m*\u001b[39;49m\u001b[38;5;241;43m*\u001b[39;49m\u001b[38;5;28;43mself\u001b[39;49m\u001b[38;5;241;43m.\u001b[39;49m\u001b[43mkwargs\u001b[49m\u001b[43m)\u001b[49m\n\u001b[1;32m     59\u001b[0m \u001b[38;5;28;01mexcept\u001b[39;00m \u001b[38;5;167;01mBaseException\u001b[39;00m \u001b[38;5;28;01mas\u001b[39;00m exc:\n\u001b[1;32m     60\u001b[0m     \u001b[38;5;28mself\u001b[39m\u001b[38;5;241m.\u001b[39mfuture\u001b[38;5;241m.\u001b[39mset_exception(exc)\n",
      "File \u001b[0;32m~/company-detective/.venv/lib/python3.10/site-packages/backoff/_sync.py:105\u001b[0m, in \u001b[0;36mretry_exception.<locals>.retry\u001b[0;34m(*args, **kwargs)\u001b[0m\n\u001b[1;32m     96\u001b[0m details \u001b[38;5;241m=\u001b[39m {\n\u001b[1;32m     97\u001b[0m     \u001b[38;5;124m\"\u001b[39m\u001b[38;5;124mtarget\u001b[39m\u001b[38;5;124m\"\u001b[39m: target,\n\u001b[1;32m     98\u001b[0m     \u001b[38;5;124m\"\u001b[39m\u001b[38;5;124margs\u001b[39m\u001b[38;5;124m\"\u001b[39m: args,\n\u001b[0;32m   (...)\u001b[0m\n\u001b[1;32m    101\u001b[0m     \u001b[38;5;124m\"\u001b[39m\u001b[38;5;124melapsed\u001b[39m\u001b[38;5;124m\"\u001b[39m: elapsed,\n\u001b[1;32m    102\u001b[0m }\n\u001b[1;32m    104\u001b[0m \u001b[38;5;28;01mtry\u001b[39;00m:\n\u001b[0;32m--> 105\u001b[0m     ret \u001b[38;5;241m=\u001b[39m \u001b[43mtarget\u001b[49m\u001b[43m(\u001b[49m\u001b[38;5;241;43m*\u001b[39;49m\u001b[43margs\u001b[49m\u001b[43m,\u001b[49m\u001b[43m \u001b[49m\u001b[38;5;241;43m*\u001b[39;49m\u001b[38;5;241;43m*\u001b[39;49m\u001b[43mkwargs\u001b[49m\u001b[43m)\u001b[49m\n\u001b[1;32m    106\u001b[0m \u001b[38;5;28;01mexcept\u001b[39;00m exception \u001b[38;5;28;01mas\u001b[39;00m e:\n\u001b[1;32m    107\u001b[0m     max_tries_exceeded \u001b[38;5;241m=\u001b[39m (tries \u001b[38;5;241m==\u001b[39m max_tries_value)\n",
      "File \u001b[0;32m~/company-detective/.venv/lib/python3.10/site-packages/scrapfly/client.py:419\u001b[0m, in \u001b[0;36mScrapflyClient.scrape\u001b[0;34m(self, scrape_config, no_raise)\u001b[0m\n\u001b[1;32m    416\u001b[0m \u001b[38;5;28;01mif\u001b[39;00m no_raise \u001b[38;5;129;01mand\u001b[39;00m \u001b[38;5;28misinstance\u001b[39m(e, ScrapflyError) \u001b[38;5;129;01mand\u001b[39;00m e\u001b[38;5;241m.\u001b[39mapi_response \u001b[38;5;129;01mis\u001b[39;00m \u001b[38;5;129;01mnot\u001b[39;00m \u001b[38;5;28;01mNone\u001b[39;00m:\n\u001b[1;32m    417\u001b[0m     \u001b[38;5;28;01mreturn\u001b[39;00m e\u001b[38;5;241m.\u001b[39mapi_response\n\u001b[0;32m--> 419\u001b[0m \u001b[38;5;28;01mraise\u001b[39;00m e\n",
      "File \u001b[0;32m~/company-detective/.venv/lib/python3.10/site-packages/scrapfly/client.py:408\u001b[0m, in \u001b[0;36mScrapflyClient.scrape\u001b[0;34m(self, scrape_config, no_raise)\u001b[0m\n\u001b[1;32m    406\u001b[0m request_data \u001b[38;5;241m=\u001b[39m \u001b[38;5;28mself\u001b[39m\u001b[38;5;241m.\u001b[39m_scrape_request(scrape_config\u001b[38;5;241m=\u001b[39mscrape_config)\n\u001b[1;32m    407\u001b[0m response \u001b[38;5;241m=\u001b[39m \u001b[38;5;28mself\u001b[39m\u001b[38;5;241m.\u001b[39m_http_handler(\u001b[38;5;241m*\u001b[39m\u001b[38;5;241m*\u001b[39mrequest_data)\n\u001b[0;32m--> 408\u001b[0m scrape_api_response \u001b[38;5;241m=\u001b[39m \u001b[38;5;28;43mself\u001b[39;49m\u001b[38;5;241;43m.\u001b[39;49m\u001b[43m_handle_response\u001b[49m\u001b[43m(\u001b[49m\u001b[43mresponse\u001b[49m\u001b[38;5;241;43m=\u001b[39;49m\u001b[43mresponse\u001b[49m\u001b[43m,\u001b[49m\u001b[43m \u001b[49m\u001b[43mscrape_config\u001b[49m\u001b[38;5;241;43m=\u001b[39;49m\u001b[43mscrape_config\u001b[49m\u001b[43m)\u001b[49m\n\u001b[1;32m    410\u001b[0m \u001b[38;5;28mself\u001b[39m\u001b[38;5;241m.\u001b[39mreporter\u001b[38;5;241m.\u001b[39mreport(scrape_api_response\u001b[38;5;241m=\u001b[39mscrape_api_response)\n\u001b[1;32m    412\u001b[0m \u001b[38;5;28;01mreturn\u001b[39;00m scrape_api_response\n",
      "File \u001b[0;32m~/company-detective/.venv/lib/python3.10/site-packages/scrapfly/client.py:423\u001b[0m, in \u001b[0;36mScrapflyClient._handle_response\u001b[0;34m(self, response, scrape_config)\u001b[0m\n\u001b[1;32m    421\u001b[0m \u001b[38;5;28;01mdef\u001b[39;00m \u001b[38;5;21m_handle_response\u001b[39m(\u001b[38;5;28mself\u001b[39m, response:Response, scrape_config:ScrapeConfig) \u001b[38;5;241m-\u001b[39m\u001b[38;5;241m>\u001b[39m ScrapeApiResponse:\n\u001b[1;32m    422\u001b[0m     \u001b[38;5;28;01mtry\u001b[39;00m:\n\u001b[0;32m--> 423\u001b[0m         api_response \u001b[38;5;241m=\u001b[39m \u001b[38;5;28;43mself\u001b[39;49m\u001b[38;5;241;43m.\u001b[39;49m\u001b[43m_handle_api_response\u001b[49m\u001b[43m(\u001b[49m\n\u001b[1;32m    424\u001b[0m \u001b[43m            \u001b[49m\u001b[43mresponse\u001b[49m\u001b[38;5;241;43m=\u001b[39;49m\u001b[43mresponse\u001b[49m\u001b[43m,\u001b[49m\n\u001b[1;32m    425\u001b[0m \u001b[43m            \u001b[49m\u001b[43mscrape_config\u001b[49m\u001b[38;5;241;43m=\u001b[39;49m\u001b[43mscrape_config\u001b[49m\u001b[43m,\u001b[49m\n\u001b[1;32m    426\u001b[0m \u001b[43m            \u001b[49m\u001b[43mraise_on_upstream_error\u001b[49m\u001b[38;5;241;43m=\u001b[39;49m\u001b[43mscrape_config\u001b[49m\u001b[38;5;241;43m.\u001b[39;49m\u001b[43mraise_on_upstream_error\u001b[49m\n\u001b[1;32m    427\u001b[0m \u001b[43m        \u001b[49m\u001b[43m)\u001b[49m\n\u001b[1;32m    429\u001b[0m         \u001b[38;5;28;01mif\u001b[39;00m scrape_config\u001b[38;5;241m.\u001b[39mmethod \u001b[38;5;241m==\u001b[39m \u001b[38;5;124m'\u001b[39m\u001b[38;5;124mHEAD\u001b[39m\u001b[38;5;124m'\u001b[39m:\n\u001b[1;32m    430\u001b[0m             logger\u001b[38;5;241m.\u001b[39mdebug(\u001b[38;5;124m'\u001b[39m\u001b[38;5;124m<-- [\u001b[39m\u001b[38;5;132;01m%s\u001b[39;00m\u001b[38;5;124m \u001b[39m\u001b[38;5;132;01m%s\u001b[39;00m\u001b[38;5;124m] \u001b[39m\u001b[38;5;132;01m%s\u001b[39;00m\u001b[38;5;124m | \u001b[39m\u001b[38;5;132;01m%s\u001b[39;00m\u001b[38;5;124ms\u001b[39m\u001b[38;5;124m'\u001b[39m \u001b[38;5;241m%\u001b[39m (\n\u001b[1;32m    431\u001b[0m                 api_response\u001b[38;5;241m.\u001b[39mresponse\u001b[38;5;241m.\u001b[39mstatus_code,\n\u001b[1;32m    432\u001b[0m                 api_response\u001b[38;5;241m.\u001b[39mresponse\u001b[38;5;241m.\u001b[39mreason,\n\u001b[1;32m    433\u001b[0m                 api_response\u001b[38;5;241m.\u001b[39mresponse\u001b[38;5;241m.\u001b[39mrequest\u001b[38;5;241m.\u001b[39murl,\n\u001b[1;32m    434\u001b[0m                 \u001b[38;5;241m0\u001b[39m\n\u001b[1;32m    435\u001b[0m             ))\n",
      "File \u001b[0;32m~/company-detective/.venv/lib/python3.10/site-packages/scrapfly/client.py:605\u001b[0m, in \u001b[0;36mScrapflyClient._handle_api_response\u001b[0;34m(self, response, scrape_config, raise_on_upstream_error)\u001b[0m\n\u001b[1;32m    596\u001b[0m         body \u001b[38;5;241m=\u001b[39m response\u001b[38;5;241m.\u001b[39mcontent\u001b[38;5;241m.\u001b[39mdecode(\u001b[38;5;124m'\u001b[39m\u001b[38;5;124mutf-8\u001b[39m\u001b[38;5;124m'\u001b[39m)\n\u001b[1;32m    598\u001b[0m api_response:ScrapeApiResponse \u001b[38;5;241m=\u001b[39m ScrapeApiResponse(\n\u001b[1;32m    599\u001b[0m     response\u001b[38;5;241m=\u001b[39mresponse,\n\u001b[1;32m    600\u001b[0m     request\u001b[38;5;241m=\u001b[39mresponse\u001b[38;5;241m.\u001b[39mrequest,\n\u001b[1;32m    601\u001b[0m     api_result\u001b[38;5;241m=\u001b[39mbody,\n\u001b[1;32m    602\u001b[0m     scrape_config\u001b[38;5;241m=\u001b[39mscrape_config\n\u001b[1;32m    603\u001b[0m )\n\u001b[0;32m--> 605\u001b[0m \u001b[43mapi_response\u001b[49m\u001b[38;5;241;43m.\u001b[39;49m\u001b[43mraise_for_result\u001b[49m\u001b[43m(\u001b[49m\u001b[43mraise_on_upstream_error\u001b[49m\u001b[38;5;241;43m=\u001b[39;49m\u001b[43mraise_on_upstream_error\u001b[49m\u001b[43m)\u001b[49m\n\u001b[1;32m    607\u001b[0m \u001b[38;5;28;01mreturn\u001b[39;00m api_response\n",
      "File \u001b[0;32m~/company-detective/.venv/lib/python3.10/site-packages/scrapfly/api_response.py:433\u001b[0m, in \u001b[0;36mScrapeApiResponse.raise_for_result\u001b[0;34m(self, raise_on_upstream_error)\u001b[0m\n\u001b[1;32m    431\u001b[0m \u001b[38;5;28;01mif\u001b[39;00m \u001b[38;5;28misinstance\u001b[39m(error, UpstreamHttpError):\n\u001b[1;32m    432\u001b[0m     \u001b[38;5;28;01mif\u001b[39;00m raise_on_upstream_error \u001b[38;5;129;01mis\u001b[39;00m \u001b[38;5;28;01mTrue\u001b[39;00m:\n\u001b[0;32m--> 433\u001b[0m         \u001b[38;5;28;01mraise\u001b[39;00m error\n\u001b[1;32m    434\u001b[0m \u001b[38;5;28;01melse\u001b[39;00m:\n\u001b[1;32m    435\u001b[0m     \u001b[38;5;28;01mraise\u001b[39;00m error\n",
      "\u001b[0;31mUpstreamHttpClientError\u001b[0m: Target website responded with 403 - Forbidden"
     ]
    }
   ],
   "source": [
    "import glassdoor\n",
    "\n",
    "result = await glassdoor.run(target, max_review_pages=3, max_job_pages=2)\n",
    "result"
   ]
  },
  {
   "cell_type": "code",
   "execution_count": null,
   "metadata": {},
   "outputs": [
    {
     "name": "stdout",
     "output_type": "stream",
     "text": [
      "\n",
      "Overall stats\n",
      "Mean: 3.8\n",
      "Count: 168\n",
      "      \n",
      "Sample stats\n",
      "Mean: 3.3\n",
      "Count: 30\n",
      "Date range: 2022-01-11 to 2024-08-24\n",
      "\n",
      "Sample reliability\n",
      "T-statistic: -2.039\n",
      "P-value: 0.051\n",
      "Sample is not significantly different\n",
      "\n"
     ]
    }
   ],
   "source": [
    "print(glassdoor.summarize_sampling(result))"
   ]
  },
  {
   "cell_type": "code",
   "execution_count": null,
   "metadata": {},
   "outputs": [
    {
     "data": {
      "text/plain": [
       "[]"
      ]
     },
     "execution_count": 5,
     "metadata": {},
     "output_type": "execute_result"
    }
   ],
   "source": [
    "result.jobs"
   ]
  },
  {
   "cell_type": "code",
   "execution_count": null,
   "metadata": {},
   "outputs": [],
   "source": []
  }
 ],
 "metadata": {
  "kernelspec": {
   "display_name": ".venv",
   "language": "python",
   "name": "python3"
  },
  "language_info": {
   "codemirror_mode": {
    "name": "ipython",
    "version": 3
   },
   "file_extension": ".py",
   "mimetype": "text/x-python",
   "name": "python",
   "nbconvert_exporter": "python",
   "pygments_lexer": "ipython3",
   "version": "3.10.12"
  }
 },
 "nbformat": 4,
 "nbformat_minor": 2
}
