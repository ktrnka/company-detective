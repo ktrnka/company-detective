{
 "cells": [
  {
   "cell_type": "code",
   "execution_count": 1,
   "metadata": {},
   "outputs": [],
   "source": [
    "from core import Seed, init\n",
    "\n",
    "init()"
   ]
  },
  {
   "cell_type": "code",
   "execution_count": 2,
   "metadata": {},
   "outputs": [],
   "source": [
    "import airtable\n",
    "\n",
    "companies = airtable.load_into_pandas()"
   ]
  },
  {
   "cell_type": "code",
   "execution_count": 39,
   "metadata": {},
   "outputs": [
    {
     "data": {
      "text/plain": [
       "30    (Dolly, Dolly, dolly.com)\n",
       "dtype: object"
      ]
     },
     "execution_count": 39,
     "metadata": {},
     "output_type": "execute_result"
    }
   ],
   "source": [
    "filtered_df = companies[companies[\"fields.Name\"].str.contains(\"Dolly\")]\n",
    "seeds = airtable.pandas_to_seeds(filtered_df)\n",
    "seeds"
   ]
  },
  {
   "cell_type": "code",
   "execution_count": 40,
   "metadata": {},
   "outputs": [],
   "source": [
    "target = seeds.iloc[0]"
   ]
  },
  {
   "cell_type": "code",
   "execution_count": 41,
   "metadata": {},
   "outputs": [
    {
     "name": "stderr",
     "output_type": "stream",
     "text": [
      "\u001b[32m2024-10-03 16:57:46.833\u001b[0m | \u001b[34m\u001b[1mDEBUG   \u001b[0m | \u001b[36mgoogle_search\u001b[0m:\u001b[36msearch\u001b[0m:\u001b[36m58\u001b[0m - \u001b[34m\u001b[1mGoogle search results: {'kind': 'customsearch#search', 'url': {'type': 'application/json', 'template': 'https://www.googleapis.com/customsearch/v1?q={searchTerms}&num={count?}&start={startIndex?}&lr={language?}&safe={safe?}&cx={cx?}&sort={sort?}&filter={filter?}&gl={gl?}&cr={cr?}&googlehost={googleHost?}&c2coff={disableCnTwTranslation?}&hq={hq?}&hl={hl?}&siteSearch={siteSearch?}&siteSearchFilter={siteSearchFilter?}&exactTerms={exactTerms?}&excludeTerms={excludeTerms?}&linkSite={linkSite?}&orTerms={orTerms?}&dateRestrict={dateRestrict?}&lowRange={lowRange?}&highRange={highRange?}&searchType={searchType}&fileType={fileType?}&rights={rights?}&imgSize={imgSize?}&imgType={imgType?}&imgColorType={imgColorType?}&imgDominantColor={imgDominantColor?}&alt=json'}, 'queries': {'request': [{'title': 'Google Custom Search - site:www.glassdoor.com Dolly dolly.com', 'totalResults': '10300', 'searchTerms': 'site:www.glassdoor.com Dolly dolly.com', 'count': 10, 'startIndex': 1, 'language': 'lang_en', 'inputEncoding': 'utf8', 'outputEncoding': 'utf8', 'safe': 'off', 'cx': 'd5705c8967e3c4d63', 'gl': 'us', 'hl': 'en'}], 'nextPage': [{'title': 'Google Custom Search - site:www.glassdoor.com Dolly dolly.com', 'totalResults': '10300', 'searchTerms': 'site:www.glassdoor.com Dolly dolly.com', 'count': 10, 'startIndex': 11, 'language': 'lang_en', 'inputEncoding': 'utf8', 'outputEncoding': 'utf8', 'safe': 'off', 'cx': 'd5705c8967e3c4d63', 'gl': 'us', 'hl': 'en'}]}, 'context': {'title': 'company_detective'}, 'searchInformation': {'searchTime': 0.465444, 'formattedSearchTime': '0.47', 'totalResults': '10300', 'formattedTotalResults': '10,300'}, 'items': [{'kind': 'customsearch#result', 'title': 'Working at Dolly | Glassdoor', 'htmlTitle': 'Working at <b>Dolly</b> | Glassdoor', 'link': 'https://www.glassdoor.com/Overview/Working-at-Dolly-EI_IE1638764.11,16.htm', 'displayLink': 'www.glassdoor.com', 'snippet': \"Pros: You're always out and never stuck in a room. Cons: It is sometimes very difficult to complete a job.\", 'htmlSnippet': 'Pros: You&#39;re always out and never stuck in a room. Cons: It is sometimes very difficult to complete a job.', 'formattedUrl': 'https://www.glassdoor.com/.../Working-at-Dolly-EI_IE1638764.11,16.htm', 'htmlFormattedUrl': 'https://www.glassdoor.com/.../Working-at-<b>Dolly</b>-EI_IE1638764.11,16.htm', 'pagemap': {'metatags': [{'next-head-count': '32', 'referrer': 'origin', 'og:type': 'website', 'theme-color': '#0caa41', 'og:site_name': 'Glassdoor', 'apple-mobile-web-app-status-bar-style': '#0caa41', 'viewport': 'width=device-width', 'apple-mobile-web-app-capable': 'yes', 'og:title': 'Working at Dolly', 'bingbot': 'nocache', 'og:description': \"See what employees say it's like to work at Dolly. Salaries, reviews, and more - all posted by employees working at Dolly.\", 'msapplication-navbutton-color': '#0caa41'}]}}, {'kind': 'customsearch#result', 'title': 'Dolly Interview Questions (2024) | Glassdoor', 'htmlTitle': '<b>Dolly</b> Interview Questions (2024) | Glassdoor', 'link': 'https://www.glassdoor.com/Interview/Dolly-Interview-Questions-E1638764.htm', 'displayLink': 'www.glassdoor.com', 'snippet': 'Jul 30, 2024 ... Dolly interviews FAQs · Is it hard to get hired at Dolly? Glassdoor users rated their interview experience at Dolly as 33.3% positive with a\\xa0...', 'htmlSnippet': 'Jul 30, 2024 <b>...</b> <b>Dolly</b> interviews FAQs &middot; Is it hard to get hired at <b>Dolly</b>? Glassdoor users rated their interview experience at <b>Dolly</b> as 33.3% positive with a&nbsp;...', 'formattedUrl': 'https://www.glassdoor.com/.../Dolly-Interview-Questions-E1638764.htm', 'htmlFormattedUrl': 'https://www.glassdoor.com/.../<b>Dolly</b>-Interview-Questions-E1638764.htm', 'pagemap': {'breadcrumb': [{'title': 'Interviews', 'url': 'Interviews>'}, {'title': 'Dolly', 'url': 'Dolly'}], 'metatags': [{'next-head-count': '35', 'referrer': 'origin', 'og:type': 'website', 'theme-color': '#0caa41', 'og:site_name': 'Glassdoor', 'apple-mobile-web-app-status-bar-style': '#0caa41', 'viewport': 'width=device-width', 'apple-mobile-web-app-capable': 'yes', 'og:title': 'Dolly Interview Questions (2024)', 'bingbot': 'nocache', 'og:description': 'Dolly interview details: 19 interview questions and 18 interview reviews posted anonymously by Dolly interview candidates.', 'msapplication-navbutton-color': '#0caa41'}]}}, {'kind': 'customsearch#result', 'title': 'How Much Does Dolly Pay in 2024? (57 Salaries) | Glassdoor', 'htmlTitle': 'How Much Does <b>Dolly</b> Pay in 2024? (57 Salaries) | Glassdoor', 'link': 'https://www.glassdoor.com/Salary/Dolly-Salaries-E1638764.htm', 'displayLink': 'www.glassdoor.com', 'snippet': 'A free inside look at Dolly salary trends based on 57 salaries wages for 43 jobs at Dolly. Salaries posted anonymously by Dolly employees.', 'htmlSnippet': 'A free inside look at <b>Dolly</b> salary trends based on 57 salaries wages for 43 jobs at <b>Dolly</b>. Salaries posted anonymously by <b>Dolly</b> employees.', 'formattedUrl': 'https://www.glassdoor.com/Salary/Dolly-Salaries-E1638764.htm', 'htmlFormattedUrl': 'https://www.glassdoor.com/Salary/<b>Dolly</b>-Salaries-E1638764.htm', 'pagemap': {'breadcrumb': [{'title': 'Salaries', 'url': 'Salaries'}, {'title': 'Dolly', 'url': 'Dolly'}], 'metatags': [{'next-head-count': '35', 'referrer': 'origin', 'og:type': 'website', 'theme-color': '#0caa41', 'og:site_name': 'Glassdoor', 'apple-mobile-web-app-status-bar-style': '#0caa41', 'viewport': 'width=device-width', 'apple-mobile-web-app-capable': 'yes', 'og:title': 'How Much Does Dolly Pay in 2024? (57 Salaries)', 'bingbot': 'nocache', 'og:description': 'A free inside look at Dolly salary trends based on 57 salaries wages for 43 jobs at Dolly. Salaries posted anonymously by Dolly employees.', 'msapplication-navbutton-color': '#0caa41'}]}}, {'kind': 'customsearch#result', 'title': 'Working at Dolly Python | Glassdoor', 'htmlTitle': 'Working at <b>Dolly</b> Python | Glassdoor', 'link': 'https://www.glassdoor.com/Overview/Working-at-Dolly-Python-EI_IE9165827.11,23.htm', 'displayLink': 'www.glassdoor.com', 'snippet': \"See what employees say it's like to work at Dolly Python. Salaries, reviews, and more - all posted by employees working at Dolly Python.\", 'htmlSnippet': 'See what employees say it&#39;s like to work at <b>Dolly</b> Python. Salaries, reviews, and more - all posted by employees working at <b>Dolly</b> Python.', 'formattedUrl': 'https://www.glassdoor.com/.../Working-at-Dolly-Python-EI_IE9165827.11...', 'htmlFormattedUrl': 'https://www.glassdoor.com/.../Working-at-<b>Dolly</b>-Python-EI_IE9165827.11...', 'pagemap': {'metatags': [{'next-head-count': '32', 'referrer': 'origin', 'og:type': 'website', 'theme-color': '#0caa41', 'og:site_name': 'Glassdoor', 'apple-mobile-web-app-status-bar-style': '#0caa41', 'viewport': 'width=device-width', 'apple-mobile-web-app-capable': 'yes', 'og:title': 'Working at Dolly Python', 'bingbot': 'nocache', 'og:description': \"See what employees say it's like to work at Dolly Python. Salaries, reviews, and more - all posted by employees working at Dolly Python.\", 'msapplication-navbutton-color': '#0caa41'}]}}, {'kind': 'customsearch#result', 'title': \"Working at Dolly Parton's Stampede | Glassdoor\", 'htmlTitle': 'Working at <b>Dolly</b> Parton&#39;s Stampede | Glassdoor', 'link': 'https://www.glassdoor.com/Overview/Working-at-Dolly-Parton%E2%80%99s-Stampede-EI_IE822565.11,34.htm', 'displayLink': 'www.glassdoor.com', 'snippet': \"100% of job seekers rate their interview experience at Dolly Parton's Stampede as positive. Candidates give an average difficulty score of 2 out of 5 (where 5\\xa0...\", 'htmlSnippet': '100% of job seekers rate their interview experience at <b>Dolly</b> Parton&#39;s Stampede as positive. Candidates give an average difficulty score of 2 out of 5 (where 5&nbsp;...', 'formattedUrl': 'https://www.glassdoor.com/.../Working-at-Dolly-Parton’s-Stampede-EI_IE...', 'htmlFormattedUrl': 'https://www.glassdoor.com/.../Working-at-<b>Dolly</b>-Parton’s-Stampede-EI_IE...', 'pagemap': {'metatags': [{'next-head-count': '32', 'referrer': 'origin', 'og:type': 'website', 'theme-color': '#0caa41', 'og:site_name': 'Glassdoor', 'apple-mobile-web-app-status-bar-style': '#0caa41', 'viewport': 'width=device-width', 'apple-mobile-web-app-capable': 'yes', 'og:title': 'Working at Dolly Parton’s Stampede', 'bingbot': 'nocache', 'og:description': \"See what employees say it's like to work at Dolly Parton’s Stampede. Salaries, reviews, and more - all posted by employees working at Dolly Parton’s Stampede.\", 'msapplication-navbutton-color': '#0caa41'}]}}, {'kind': 'customsearch#result', 'title': 'Dolly: Employee Benefits and Perks | Glassdoor', 'htmlTitle': '<b>Dolly</b>: Employee Benefits and Perks | Glassdoor', 'link': 'https://www.glassdoor.com/Benefits/Dolly-US-Benefits-EI_IE1638764.0,5_IL.6,8_IN1.htm', 'displayLink': 'www.glassdoor.com', 'snippet': 'Full medical, dental, and vision insurance. Unlimited PTO and sick days. Ability to work from home dependent on your role. Free gym in the building.', 'htmlSnippet': 'Full medical, dental, and vision insurance. Unlimited PTO and sick days. Ability to work from home dependent on your role. Free gym in the building.', 'formattedUrl': 'https://www.glassdoor.com/.../Dolly-US-Benefits-EI_IE1638764.0,5_IL.6,...', 'htmlFormattedUrl': 'https://www.glassdoor.com/.../<b>Dolly</b>-US-Benefits-EI_IE1638764.0,5_IL.6,...', 'pagemap': {'metatags': [{'referrer': 'origin', 'theme-color': '#0caa41', 'apple-mobile-web-app-status-bar-style': '#0caa41', 'viewport': 'width=device-width, initial-scale=1.0', 'apple-mobile-web-app-capable': 'yes', 'og:title': 'Dolly: Employee Benefits and Perks', 'bingbot': 'nocache', 'msapplication-navbutton-color': '#0caa41', 'og:description': 'Dolly benefits and perks, including insurance benefits, retirement benefits, and vacation policy. Reported anonymously by Dolly employees.'}]}}, {'kind': 'customsearch#result', 'title': 'Working at Red Dolly Casino | Glassdoor', 'htmlTitle': 'Working at Red <b>Dolly</b> Casino | Glassdoor', 'link': 'https://www.glassdoor.com/Overview/Working-at-Red-Dolly-Casino-EI_IE1456265.11,27.htm', 'displayLink': 'www.glassdoor.com', 'snippet': \"Pros: Willing to train, Professional, Rewarding, Fair and patient manager (Danielle H. was probably the best manager I've ever had!), Welcoming, even if you're\\xa0...\", 'htmlSnippet': 'Pros: Willing to train, Professional, Rewarding, Fair and patient manager (Danielle H. was probably the best manager I&#39;ve ever had!), Welcoming, even if you&#39;re&nbsp;...', 'formattedUrl': 'https://www.glassdoor.com/.../Working-at-Red-Dolly-Casino-EI_IE145626...', 'htmlFormattedUrl': 'https://www.glassdoor.com/.../Working-at-Red-<b>Dolly</b>-Casino-EI_IE145626...', 'pagemap': {'metatags': [{'next-head-count': '32', 'referrer': 'origin', 'og:type': 'website', 'theme-color': '#0caa41', 'og:site_name': 'Glassdoor', 'apple-mobile-web-app-status-bar-style': '#0caa41', 'viewport': 'width=device-width', 'apple-mobile-web-app-capable': 'yes', 'og:title': 'Working at Red Dolly Casino', 'bingbot': 'nocache', 'og:description': \"See what employees say it's like to work at Red Dolly Casino. Salaries, reviews, and more - all posted by employees working at Red Dolly Casino.\", 'msapplication-navbutton-color': '#0caa41'}]}}, {'kind': 'customsearch#result', 'title': \"Dolly Parton's Stampede Reviews in Branson | Glassdoor\", 'htmlTitle': '<b>Dolly</b> Parton&#39;s Stampede Reviews in Branson | Glassdoor', 'link': 'https://www.glassdoor.com/Reviews/Dolly-Parton-s-Stampede-Branson-Reviews-EI_IE822565.0,23_IL.24,31_IM115.htm', 'displayLink': 'www.glassdoor.com', 'snippet': 'It is pretty laid back, we work hard but the job is satisfying . You are surrounded by horses and other animals at all times, definitely a job for the animal\\xa0...', 'htmlSnippet': 'It is pretty laid back, we work hard but the job is satisfying . You are surrounded by horses and other animals at all times, definitely a job for the animal&nbsp;...', 'formattedUrl': 'https://www.glassdoor.com/.../Dolly-Parton-s-Stampede-Branson-Reviews-...', 'htmlFormattedUrl': 'https://www.glassdoor.com/.../<b>Dolly</b>-Parton-s-Stampede-Branson-Reviews-...', 'pagemap': {'breadcrumb': [{'title': 'Reviews', 'url': 'Reviews>'}, {'title': 'Branson', 'url': 'Branson>'}, {'title': 'Dolly Parton’s Stampede', 'url': 'Dolly Parton’s Stampede'}], 'metatags': [{'next-head-count': '35', 'referrer': 'origin', 'og:type': 'website', 'theme-color': '#0caa41', 'og:site_name': 'Glassdoor', 'apple-mobile-web-app-status-bar-style': '#0caa41', 'viewport': 'width=device-width', 'apple-mobile-web-app-capable': 'yes', 'og:title': 'Dolly Parton’s Stampede Reviews in Branson', 'bingbot': 'nocache', 'og:description': '13 Dolly Parton’s Stampede reviews in Branson. A free inside look at company reviews and salaries posted anonymously by employees.', 'msapplication-navbutton-color': '#0caa41'}]}}, {'kind': 'customsearch#result', 'title': \"Dolly Parton's Stampede: Employee Benefits and Perks | Glassdoor\", 'htmlTitle': '<b>Dolly</b> Parton&#39;s Stampede: Employee Benefits and Perks | Glassdoor', 'link': 'https://www.glassdoor.com/Benefits/Dolly-Parton%E2%80%99s-Stampede-US-Benefits-EI_IE822565.0,23_IL.24,26_IN1.htm', 'displayLink': 'www.glassdoor.com', 'snippet': \"Dolly Parton's Stampede benefits and perks, including insurance benefits, retirement benefits, and vacation policy. Reported anonymously by Dolly Parton's\\xa0...\", 'htmlSnippet': '<b>Dolly</b> Parton&#39;s Stampede benefits and perks, including insurance benefits, retirement benefits, and vacation policy. Reported anonymously by <b>Dolly</b> Parton&#39;s&nbsp;...', 'formattedUrl': 'https://www.glassdoor.com/.../Dolly-Parton’s-Stampede-US-Benefits-EI_IE...', 'htmlFormattedUrl': 'https://www.glassdoor.com/.../<b>Dolly</b>-Parton’s-Stampede-US-Benefits-EI_IE...', 'pagemap': {'metatags': [{'referrer': 'origin', 'theme-color': '#0caa41', 'apple-mobile-web-app-status-bar-style': '#0caa41', 'viewport': 'width=device-width, initial-scale=1.0', 'apple-mobile-web-app-capable': 'yes', 'og:title': 'Dolly Parton’s Stampede: Employee Benefits and Perks', 'bingbot': 'nocache', 'msapplication-navbutton-color': '#0caa41', 'og:description': 'Dolly Parton’s Stampede benefits and perks, including insurance benefits, retirement benefits, and vacation policy. Reported anonymously by Dolly Parton’s Stampede employees.'}]}}, {'kind': 'customsearch#result', 'title': \"Dolly Parton's Stampede Server Hourly Pay | Glassdoor\", 'htmlTitle': '<b>Dolly</b> Parton&#39;s Stampede Server Hourly Pay | Glassdoor', 'link': 'https://www.glassdoor.com/Hourly-Pay/Dolly-Parton%E2%80%99s-Stampede-Server-Hourly-Pay-E822565_D_KO24,30.htm', 'displayLink': 'www.glassdoor.com', 'snippet': \"Average hourly pay for Dolly Parton's Stampede Server: $20. This salary trends is based on salaries posted anonymously by Dolly Parton's Stampede employees.\", 'htmlSnippet': 'Average hourly pay for <b>Dolly</b> Parton&#39;s Stampede Server: $20. This salary trends is based on salaries posted anonymously by <b>Dolly</b> Parton&#39;s Stampede employees.', 'formattedUrl': 'https://www.glassdoor.com/.../Dolly-Parton’s-Stampede-Server-Hourly-Pay...', 'htmlFormattedUrl': 'https://www.glassdoor.com/.../<b>Dolly</b>-Parton’s-Stampede-Server-Hourly-Pay...', 'pagemap': {'breadcrumb': [{'title': 'Salaries', 'url': 'Salaries'}, {'title': 'Server', 'url': 'Server'}, {'title': 'Dolly Parton’s Stampede', 'url': 'Dolly Parton’s Stampede'}], 'metatags': [{'next-head-count': '22', 'referrer': 'origin', 'og:type': 'website', 'theme-color': '#0caa41', 'og:site_name': 'Glassdoor', 'apple-mobile-web-app-status-bar-style': '#0caa41', 'viewport': 'width=device-width', 'apple-mobile-web-app-capable': 'yes', 'og:title': 'Dolly Parton’s Stampede Server Hourly Pay', 'bingbot': 'nocache', 'og:description': 'Average hourly pay for Dolly Parton’s Stampede Server: $20. This salary trends is based on salaries posted anonymously by Dolly Parton’s Stampede employees.', 'msapplication-navbutton-color': '#0caa41'}]}}]}\u001b[0m\n"
     ]
    },
    {
     "data": {
      "text/plain": [
       "[SearchResult(title='Working at Dolly | Glassdoor', link='https://www.glassdoor.com/Overview/Working-at-Dolly-EI_IE1638764.11,16.htm', snippet=\"Pros: You're always out and never stuck in a room. Cons: It is sometimes very difficult to complete a job.\", formattedUrl='https://www.glassdoor.com/.../Working-at-Dolly-EI_IE1638764.11,16.htm'),\n",
       " SearchResult(title='Dolly Interview Questions (2024) | Glassdoor', link='https://www.glassdoor.com/Interview/Dolly-Interview-Questions-E1638764.htm', snippet='Jul 30, 2024 ... Dolly interviews FAQs · Is it hard to get hired at Dolly? Glassdoor users rated their interview experience at Dolly as 33.3% positive with a\\xa0...', formattedUrl='https://www.glassdoor.com/.../Dolly-Interview-Questions-E1638764.htm'),\n",
       " SearchResult(title='How Much Does Dolly Pay in 2024? (57 Salaries) | Glassdoor', link='https://www.glassdoor.com/Salary/Dolly-Salaries-E1638764.htm', snippet='A free inside look at Dolly salary trends based on 57 salaries wages for 43 jobs at Dolly. Salaries posted anonymously by Dolly employees.', formattedUrl='https://www.glassdoor.com/Salary/Dolly-Salaries-E1638764.htm'),\n",
       " SearchResult(title='Working at Dolly Python | Glassdoor', link='https://www.glassdoor.com/Overview/Working-at-Dolly-Python-EI_IE9165827.11,23.htm', snippet=\"See what employees say it's like to work at Dolly Python. Salaries, reviews, and more - all posted by employees working at Dolly Python.\", formattedUrl='https://www.glassdoor.com/.../Working-at-Dolly-Python-EI_IE9165827.11...'),\n",
       " SearchResult(title=\"Working at Dolly Parton's Stampede | Glassdoor\", link='https://www.glassdoor.com/Overview/Working-at-Dolly-Parton%E2%80%99s-Stampede-EI_IE822565.11,34.htm', snippet=\"100% of job seekers rate their interview experience at Dolly Parton's Stampede as positive. Candidates give an average difficulty score of 2 out of 5 (where 5\\xa0...\", formattedUrl='https://www.glassdoor.com/.../Working-at-Dolly-Parton’s-Stampede-EI_IE...'),\n",
       " SearchResult(title='Dolly: Employee Benefits and Perks | Glassdoor', link='https://www.glassdoor.com/Benefits/Dolly-US-Benefits-EI_IE1638764.0,5_IL.6,8_IN1.htm', snippet='Full medical, dental, and vision insurance. Unlimited PTO and sick days. Ability to work from home dependent on your role. Free gym in the building.', formattedUrl='https://www.glassdoor.com/.../Dolly-US-Benefits-EI_IE1638764.0,5_IL.6,...'),\n",
       " SearchResult(title='Working at Red Dolly Casino | Glassdoor', link='https://www.glassdoor.com/Overview/Working-at-Red-Dolly-Casino-EI_IE1456265.11,27.htm', snippet=\"Pros: Willing to train, Professional, Rewarding, Fair and patient manager (Danielle H. was probably the best manager I've ever had!), Welcoming, even if you're\\xa0...\", formattedUrl='https://www.glassdoor.com/.../Working-at-Red-Dolly-Casino-EI_IE145626...'),\n",
       " SearchResult(title=\"Dolly Parton's Stampede Reviews in Branson | Glassdoor\", link='https://www.glassdoor.com/Reviews/Dolly-Parton-s-Stampede-Branson-Reviews-EI_IE822565.0,23_IL.24,31_IM115.htm', snippet='It is pretty laid back, we work hard but the job is satisfying . You are surrounded by horses and other animals at all times, definitely a job for the animal\\xa0...', formattedUrl='https://www.glassdoor.com/.../Dolly-Parton-s-Stampede-Branson-Reviews-...'),\n",
       " SearchResult(title=\"Dolly Parton's Stampede: Employee Benefits and Perks | Glassdoor\", link='https://www.glassdoor.com/Benefits/Dolly-Parton%E2%80%99s-Stampede-US-Benefits-EI_IE822565.0,23_IL.24,26_IN1.htm', snippet=\"Dolly Parton's Stampede benefits and perks, including insurance benefits, retirement benefits, and vacation policy. Reported anonymously by Dolly Parton's\\xa0...\", formattedUrl='https://www.glassdoor.com/.../Dolly-Parton’s-Stampede-US-Benefits-EI_IE...'),\n",
       " SearchResult(title=\"Dolly Parton's Stampede Server Hourly Pay | Glassdoor\", link='https://www.glassdoor.com/Hourly-Pay/Dolly-Parton%E2%80%99s-Stampede-Server-Hourly-Pay-E822565_D_KO24,30.htm', snippet=\"Average hourly pay for Dolly Parton's Stampede Server: $20. This salary trends is based on salaries posted anonymously by Dolly Parton's Stampede employees.\", formattedUrl='https://www.glassdoor.com/.../Dolly-Parton’s-Stampede-Server-Hourly-Pay...')]"
      ]
     },
     "execution_count": 41,
     "metadata": {},
     "output_type": "execute_result"
    }
   ],
   "source": [
    "# debug the search\n",
    "from google_search import search\n",
    "\n",
    "query = f'site:www.glassdoor.com {target.company} {target.domain}'\n",
    "\n",
    "urls = list(search(query, num=10))\n",
    "\n",
    "urls\n"
   ]
  },
  {
   "cell_type": "code",
   "execution_count": 7,
   "metadata": {},
   "outputs": [
    {
     "data": {
      "text/plain": [
       "(EmployerKey(name='98point6', id='1181484'),\n",
       " 'https://www.glassdoor.com/Reviews/98point6-Reviews-E1181484.htm?')"
      ]
     },
     "execution_count": 7,
     "metadata": {},
     "output_type": "execute_result"
    }
   ],
   "source": [
    "from glassdoor.models import UrlBuilder\n",
    "\n",
    "employer = UrlBuilder.find_employer_key([result.link for result in urls])\n",
    "employer, UrlBuilder.reviews(*employer)"
   ]
  },
  {
   "cell_type": "code",
   "execution_count": 5,
   "metadata": {},
   "outputs": [],
   "source": [
    "# import glassdoor\n",
    "\n",
    "# result = await glassdoor.run(target, max_review_pages=3, max_job_pages=2)\n",
    "# result"
   ]
  },
  {
   "cell_type": "code",
   "execution_count": 6,
   "metadata": {},
   "outputs": [
    {
     "ename": "NameError",
     "evalue": "name 'glassdoor' is not defined",
     "output_type": "error",
     "traceback": [
      "\u001b[0;31m---------------------------------------------------------------------------\u001b[0m",
      "\u001b[0;31mNameError\u001b[0m                                 Traceback (most recent call last)",
      "Cell \u001b[0;32mIn[6], line 1\u001b[0m\n\u001b[0;32m----> 1\u001b[0m \u001b[38;5;28mprint\u001b[39m(\u001b[43mglassdoor\u001b[49m\u001b[38;5;241m.\u001b[39msummarize_sampling(result))\n",
      "\u001b[0;31mNameError\u001b[0m: name 'glassdoor' is not defined"
     ]
    }
   ],
   "source": [
    "print(glassdoor.summarize_sampling(result))"
   ]
  },
  {
   "cell_type": "code",
   "execution_count": null,
   "metadata": {},
   "outputs": [
    {
     "data": {
      "text/plain": [
       "[]"
      ]
     },
     "execution_count": 5,
     "metadata": {},
     "output_type": "execute_result"
    }
   ],
   "source": [
    "result.jobs"
   ]
  },
  {
   "cell_type": "code",
   "execution_count": null,
   "metadata": {},
   "outputs": [],
   "source": []
  }
 ],
 "metadata": {
  "kernelspec": {
   "display_name": ".venv",
   "language": "python",
   "name": "python3"
  },
  "language_info": {
   "codemirror_mode": {
    "name": "ipython",
    "version": 3
   },
   "file_extension": ".py",
   "mimetype": "text/x-python",
   "name": "python",
   "nbconvert_exporter": "python",
   "pygments_lexer": "ipython3",
   "version": "3.10.12"
  }
 },
 "nbformat": 4,
 "nbformat_minor": 2
}
