{
 "cells": [
  {
   "cell_type": "code",
   "execution_count": 1,
   "metadata": {},
   "outputs": [],
   "source": [
    "example_file = \"/mnt/c/Users/keith/OneDrive/Documents/cd_98point6.har\""
   ]
  },
  {
   "cell_type": "code",
   "execution_count": 3,
   "metadata": {},
   "outputs": [
    {
     "name": "stdout",
     "output_type": "stream",
     "text": [
      "2024-10-03T21:19:20.312Z https://www.google.com/search?q=98point6&oq=98point6&gs_lcrp=EgZjaHJvbWUyBggAEEUYOTITCAEQLhivARjHARiRAhiABBiKBTIGCAIQIxgnMgYIAxAjGCcyDQgEEAAYkQIYgAQYigUyBwgFEAAYgAQyBwgGEAAYgAQyBwgHEAAYgAQyBwgIEAAYgAQyBwgJEAAYgATSAQkyNTgwajBqMTWoAgiwAgE&sourceid=chrome&ie=UTF-8\n",
      "2024-10-03T21:19:20.312Z https://accounts.google.com/RotateCookiesPage?og_pid=1&rot=3&origin=https%3A%2F%2Fwww.google.com&exp_id=0\n",
      "2024-10-03T21:19:23.980Z https://www.98point6.com/about-us/\n",
      "2024-10-03T21:19:48.417Z https://www.98point6.com/about-us/careers/\n",
      "2024-10-03T21:20:07.430Z https://www.geekwire.com/2024/98point6-hit-by-new-layoffs-in-latest-change-at-health-tech-startup/\n",
      "2024-10-03T21:20:31.546Z https://transcarent.com/\n",
      "2024-10-03T21:21:32.651Z https://www.geekwire.com/2021/inside-shakeup-98point6-board-member-explains-abrupt-ceo-change-well-funded-startup/\n",
      "2024-10-03T21:22:02.117Z https://newsroom.uw.edu/news-releases/uw-medicine-partners-98point6-virtual-care\n",
      "2024-10-03T21:22:17.483Z https://webapp.transcarent.ai/98point6-landing/generic/primary-care\n",
      "2024-10-03T21:22:38.553Z https://tularecounty.ca.gov/hrd/benefits-wellness/98point6/98point6-faqs/\n",
      "2024-10-03T21:22:50.687Z https://play.google.com/store/apps/details?id=com.ninety8point6.patientapp&hl=en_US\n",
      "2024-10-03T21:23:16.442Z https://www.google.com/search?q=98point6&sca_esv=a88d17ea90427281&sxsrf=ADLYWIJWLQSqdyyVQhBA701UvxkkAYaKoQ:1727990360304&ei=WAr_ZvjpEd-L0PEPz532iA0&start=10&sa=N&sstk=Aagrsuh3E_rRCTR-4bteoYwKEsRE9HomeGsfwnkjgR7H6tZlHq7joIpDhk7WRTXMlKVTne8TV7bV9cS0VpRCYrVkBdZ_Bz-zGWk5Ug&ved=2ahUKEwj49ebckfOIAxXfBTQIHc-OHdEQ8NMDegQICxAW&biw=1313&bih=1271&dpr=1\n",
      "2024-10-03T21:23:16.442Z https://accounts.google.com/RotateCookiesPage?og_pid=1&rot=3&origin=https%3A%2F%2Fwww.google.com&exp_id=0\n",
      "2024-10-03T21:23:22.062Z https://www.glassdoor.com/Reviews/98point6-Reviews-E1181484.htm\n",
      "2024-10-03T21:24:32.915Z https://www.crunchbase.com/organization/98point6\n",
      "2024-10-03T21:25:42.562Z https://www.google.com/search?q=98point6&sca_esv=a88d17ea90427281&sxsrf=ADLYWIJmZn984Z6BOdYgGEIPhXqKy7YVrQ:1727990596422&ei=RAv_Zou5GbLy0PEP3r2m4A0&start=20&sa=N&sstk=AagrsuipP-v-CzbRWeadiYDTMCH7xvWuJMzDGP8QP31OvF-RVeGFqSkSsNVrVGhp1s_u1GeRzqqYmXYsI-gLqeqhqPqg1MwTjwgUV2t6kvqILT1TFd-Lc6xIAufuvUDaKb2Z&ved=2ahUKEwiL67LNkvOIAxUyOTQIHd6eCdw4ChDw0wN6BAgWEBc&biw=1313&bih=1271&dpr=1\n"
     ]
    }
   ],
   "source": [
    "import json\n",
    "from haralyzer import HarParser, HarPage\n",
    "\n",
    "with open(example_file, 'r') as f:\n",
    "    har_parser = HarParser(json.loads(f.read()))\n",
    "\n"
   ]
  },
  {
   "cell_type": "code",
   "execution_count": 17,
   "metadata": {},
   "outputs": [
    {
     "name": "stdout",
     "output_type": "stream",
     "text": [
      "[+0s] https://www.google.com/search?q=98point6&oq=98point6&gs_lcrp=EgZjaHJvbWUyBggAEEUYOTITCAEQLhivARjHARiRAhiABBiKBTIGCAIQIxgnMgYIAxAjGCcyDQgEEAAYkQIYgAQYigUyBwgFEAAYgAQyBwgGEAAYgAQyBwgHEAAYgAQyBwgIEAAYgAQyBwgJEAAYgATSAQkyNTgwajBqMTWoAgiwAgE&sourceid=chrome&ie=UTF-8\n",
      "\tSearch for 98point6, page 1\n",
      "[+4s] https://www.98point6.com/about-us/\n",
      "[+24s] https://www.98point6.com/about-us/careers/\n",
      "[+19s] https://www.geekwire.com/2024/98point6-hit-by-new-layoffs-in-latest-change-at-health-tech-startup/\n",
      "[+24s] https://transcarent.com/\n",
      "[+61s] https://www.geekwire.com/2021/inside-shakeup-98point6-board-member-explains-abrupt-ceo-change-well-funded-startup/\n",
      "[+29s] https://newsroom.uw.edu/news-releases/uw-medicine-partners-98point6-virtual-care\n",
      "[+15s] https://webapp.transcarent.ai/98point6-landing/generic/primary-care\n",
      "[+21s] https://tularecounty.ca.gov/hrd/benefits-wellness/98point6/98point6-faqs/\n",
      "[+12s] https://play.google.com/store/apps/details?id=com.ninety8point6.patientapp&hl=en_US\n",
      "[+26s] https://www.google.com/search?q=98point6&sca_esv=a88d17ea90427281&sxsrf=ADLYWIJWLQSqdyyVQhBA701UvxkkAYaKoQ:1727990360304&ei=WAr_ZvjpEd-L0PEPz532iA0&start=10&sa=N&sstk=Aagrsuh3E_rRCTR-4bteoYwKEsRE9HomeGsfwnkjgR7H6tZlHq7joIpDhk7WRTXMlKVTne8TV7bV9cS0VpRCYrVkBdZ_Bz-zGWk5Ug&ved=2ahUKEwj49ebckfOIAxXfBTQIHc-OHdEQ8NMDegQICxAW&biw=1313&bih=1271&dpr=1\n",
      "\tSearch for 98point6, page 2\n",
      "[+6s] https://www.glassdoor.com/Reviews/98point6-Reviews-E1181484.htm\n",
      "[+71s] https://www.crunchbase.com/organization/98point6\n",
      "[+70s] https://www.google.com/search?q=98point6&sca_esv=a88d17ea90427281&sxsrf=ADLYWIJmZn984Z6BOdYgGEIPhXqKy7YVrQ:1727990596422&ei=RAv_Zou5GbLy0PEP3r2m4A0&start=20&sa=N&sstk=AagrsuipP-v-CzbRWeadiYDTMCH7xvWuJMzDGP8QP31OvF-RVeGFqSkSsNVrVGhp1s_u1GeRzqqYmXYsI-gLqeqhqPqg1MwTjwgUV2t6kvqILT1TFd-Lc6xIAufuvUDaKb2Z&ved=2ahUKEwiL67LNkvOIAxUyOTQIHd6eCdw4ChDw0wN6BAgWEBc&biw=1313&bih=1271&dpr=1\n",
      "\tSearch for 98point6, page 3\n"
     ]
    }
   ],
   "source": [
    "from urllib.parse import urlparse, parse_qs\n",
    "from datetime import timedelta, datetime\n",
    "\n",
    "previousDateTime = None\n",
    "for page in har_parser.pages:\n",
    "    if page.url.startswith(\"https://accounts.google.com/RotateCookiesPage\"):\n",
    "        continue\n",
    "\n",
    "    startedDateTime = datetime.fromisoformat(page.startedDateTime[:-1])\n",
    "    time_offset = startedDateTime - previousDateTime if previousDateTime else timedelta(0)\n",
    "    print(f\"[+{time_offset.total_seconds():.0f}s] {page.url}\")\n",
    "\n",
    "    url_parts = urlparse(page.url)\n",
    "\n",
    "    if url_parts.netloc == \"www.google.com\":\n",
    "        params = parse_qs(url_parts.query)\n",
    "        query = params.get(\"q\")[0]\n",
    "        start = int(params.get(\"start\", [0])[0])\n",
    "\n",
    "        print(f\"\\tSearch for {query}, page {start // 10 + 1}\")\n",
    "\n",
    "    previousDateTime = startedDateTime\n"
   ]
  },
  {
   "cell_type": "code",
   "execution_count": 14,
   "metadata": {},
   "outputs": [
    {
     "data": {
      "text/plain": [
       "datetime.datetime(2024, 10, 3, 21, 19, 20, 312000)"
      ]
     },
     "execution_count": 14,
     "metadata": {},
     "output_type": "execute_result"
    }
   ],
   "source": [
    "from datetime import datetime\n",
    "datetime.fromisoformat(page.startedDateTime[:-1])"
   ]
  },
  {
   "cell_type": "code",
   "execution_count": 13,
   "metadata": {},
   "outputs": [
    {
     "data": {
      "text/plain": [
       "'2024-10-03T14:37:59.986208'"
      ]
     },
     "execution_count": 13,
     "metadata": {},
     "output_type": "execute_result"
    }
   ],
   "source": [
    "datetime.now().isoformat()"
   ]
  },
  {
   "cell_type": "code",
   "execution_count": null,
   "metadata": {},
   "outputs": [],
   "source": []
  }
 ],
 "metadata": {
  "kernelspec": {
   "display_name": ".venv",
   "language": "python",
   "name": "python3"
  },
  "language_info": {
   "codemirror_mode": {
    "name": "ipython",
    "version": 3
   },
   "file_extension": ".py",
   "mimetype": "text/x-python",
   "name": "python",
   "nbconvert_exporter": "python",
   "pygments_lexer": "ipython3",
   "version": "3.10.12"
  }
 },
 "nbformat": 4,
 "nbformat_minor": 2
}
