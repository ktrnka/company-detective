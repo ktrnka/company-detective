{
 "cells": [
  {
   "cell_type": "code",
   "execution_count": 1,
   "metadata": {},
   "outputs": [
    {
     "data": {
      "text/plain": [
       "True"
      ]
     },
     "execution_count": 1,
     "metadata": {},
     "output_type": "execute_result"
    }
   ],
   "source": [
    "from dotenv import load_dotenv\n",
    "\n",
    "load_dotenv()"
   ]
  },
  {
   "cell_type": "code",
   "execution_count": 59,
   "metadata": {},
   "outputs": [],
   "source": [
    "from core import CompanyProduct\n",
    "\n",
    "target = CompanyProduct(\"Rad AI\", \"Omni\")"
   ]
  },
  {
   "cell_type": "code",
   "execution_count": 60,
   "metadata": {},
   "outputs": [
    {
     "data": {
      "text/plain": [
       "['https://www.glassdoor.com/Reviews/Rad-AI-Reviews-E3543079.htm',\n",
       " 'https://www.glassdoor.com/Reviews/Rad-AI-team-Reviews-EI_IE3543079.0,6_KH7,11.htm',\n",
       " 'https://www.glassdoor.com/Reviews/Rad-AI-Berkeley-Reviews-EI_IE3543079.0,6_IL.7,15_IC1147330.htm',\n",
       " 'https://www.glassdoor.com/Reviews/Rad-AI-Head-of-Research-Reviews-EI_IE3543079.0,6_KO7,23.htm']"
      ]
     },
     "execution_count": 60,
     "metadata": {},
     "output_type": "execute_result"
    }
   ],
   "source": [
    "# search for a company\n",
    "from googlesearch import search\n",
    "from core import CompanyProduct\n",
    "import re\n",
    "\n",
    "def find_review_urls(\n",
    "    target: CompanyProduct, pause_seconds=2\n",
    "):\n",
    "    query = f'site:www.glassdoor.com/Reviews/ \"{target.company}\"\"'\n",
    "\n",
    "    return list(\n",
    "        url\n",
    "        for url in search(\n",
    "            query, num=10, stop=10, pause=pause_seconds\n",
    "        )\n",
    "        if re.match(r\".*-Reviews-.*\", url)\n",
    "    )\n",
    "\n",
    "urls = find_review_urls(target)\n",
    "url = urls[0]\n",
    "\n",
    "urls"
   ]
  },
  {
   "cell_type": "code",
   "execution_count": 61,
   "metadata": {},
   "outputs": [
    {
     "name": "stderr",
     "output_type": "stream",
     "text": [
      "\u001b[32m2024-07-29 16:39:58.734\u001b[0m | \u001b[1mINFO    \u001b[0m | \u001b[36mglassdoor\u001b[0m:\u001b[36mscrape_reviews\u001b[0m:\u001b[36m107\u001b[0m - \u001b[1mscraping reviews from https://www.glassdoor.com/Reviews/Rad-AI-Reviews-E3543079.htm\u001b[0m\n",
      "\u001b[32m2024-07-29 16:39:59.905\u001b[0m | \u001b[1mINFO    \u001b[0m | \u001b[36mglassdoor\u001b[0m:\u001b[36mscrape_reviews\u001b[0m:\u001b[36m115\u001b[0m - \u001b[1mscraped first page of reviews of https://www.glassdoor.com/Reviews/Rad-AI-Reviews-E3543079.htm, scraping remaining 1 pages\u001b[0m\n",
      "\u001b[32m2024-07-29 16:40:02.423\u001b[0m | \u001b[1mINFO    \u001b[0m | \u001b[36mglassdoor\u001b[0m:\u001b[36mscrape_reviews\u001b[0m:\u001b[36m125\u001b[0m - \u001b[1mscraped 13 reviews from https://www.glassdoor.com/Reviews/Rad-AI-Reviews-E3543079.htm in 2 pages\u001b[0m\n"
     ]
    }
   ],
   "source": [
    "import glassdoor\n",
    "\n",
    "glassdoor.BASE_CONFIG[\"cache\"] = True\n",
    "\n",
    "async def fetch_reviews(url):\n",
    "    result_reviews = await glassdoor.scrape_reviews(url, max_pages=3)\n",
    "    return result_reviews\n",
    "\n",
    "glassdoor_results = await fetch_reviews(url)\n",
    "\n",
    "# from pprint import pprint\n",
    "# pprint(results)"
   ]
  },
  {
   "cell_type": "code",
   "execution_count": 62,
   "metadata": {},
   "outputs": [],
   "source": [
    "from datetime import datetime\n",
    "from typing import NamedTuple, Optional\n",
    "\n",
    "class GlassdoorReview(NamedTuple):\n",
    "    \"\"\"Wrapper around a Glassdoor review to make autocomplete easier\"\"\"\n",
    "    # raw fields\n",
    "    advice: Optional[str]\n",
    "    cons: Optional[str]\n",
    "    lengthOfEmployment: int\n",
    "    pros: Optional[str]\n",
    "    ratingOverall: int\n",
    "    reviewId: int\n",
    "    summary: str\n",
    "\n",
    "    # processed fields\n",
    "    jobTitle: Optional[str]\n",
    "    dateTime: datetime\n",
    "\n",
    "    \n",
    "    @classmethod\n",
    "    def from_dict(cls, advice, cons, lengthOfEmployment, pros, ratingOverall, reviewId, summary, jobTitle, reviewDateTime, **_kwargs):\n",
    "        job_title = jobTitle[\"text\"] if jobTitle else None\n",
    "        date_time = datetime.strptime(reviewDateTime, \"%Y-%m-%dT%H:%M:%S.%f\")\n",
    "\n",
    "        return cls(\n",
    "            advice, cons, lengthOfEmployment, pros, ratingOverall, reviewId, summary, job_title, date_time\n",
    "        )\n"
   ]
  },
  {
   "cell_type": "code",
   "execution_count": 63,
   "metadata": {},
   "outputs": [],
   "source": [
    "import jinja2\n",
    "\n",
    "templates = jinja2.Environment(\n",
    "    loader=jinja2.FileSystemLoader(\"templates\"),\n",
    ")\n",
    "\n",
    "parsed_reviews = [\n",
    "    GlassdoorReview.from_dict(**review)\n",
    "    for review in glassdoor_results[\"reviews\"]\n",
    "]\n",
    "parsed_reviews = sorted(parsed_reviews, key=lambda x: x.dateTime, reverse=False)\n",
    "\n",
    "# for review in parsed_reviews:\n",
    "#     print(templates.get_template(\"glassdoor_review.md\").render(review=review))\n"
   ]
  },
  {
   "cell_type": "code",
   "execution_count": 66,
   "metadata": {},
   "outputs": [
    {
     "name": "stdout",
     "output_type": "stream",
     "text": [
      "The prompt context has 12,927 characters in 13 reviews\n",
      "# Summary of Glassdoor Reviews for Rad AI\n",
      "\n",
      "## Key Aspects\n",
      "\n",
      "### Leadership\n",
      "**Pros:**\n",
      "- Some reviews highlight strong leadership from co-founders, particularly Jeff Chang, who is described as caring and visionary.\n",
      "- Open and supportive leadership is noted in several positive reviews.\n",
      "\n",
      "**Cons:**\n",
      "- Many reviews criticize the current leadership as egotistical, inexperienced, and incompetent, leading to a toxic work culture.\n",
      "- There are reports of animosity among co-founders and a lack of trust in employees, with meetings being recorded due to distrust.\n",
      "\n",
      "**Quotations:**\n",
      "- \"Egotistical, inexperienced, incompetent leadership\" (Senior Software Engineer on 2021-04-13)\n",
      "- \"Co-Founders are wonderful. Jeff Chang is one of a human's smartest, most humble gems.\" (Anonymous on 2023-02-17)\n",
      "\n",
      "### Compensation and Benefits\n",
      "**Pros:**\n",
      "- Good pay and decent benefits are mentioned positively in several reviews.\n",
      "- Equity is noted as likely to be valuable.\n",
      "\n",
      "**Cons:**\n",
      "- Some reviews indicate that compensation is not competitive with larger companies and that there are frequent payroll issues.\n",
      "\n",
      "**Quotations:**\n",
      "- \"Great pay. Decent benefits.\" (Senior Software Engineer on 2021-04-13)\n",
      "- \"The pay is not competitive for the industry.\" (Talent Acquisition on 2024-07-23)\n",
      "\n",
      "### Diversity, Equity, and Inclusion\n",
      "**Pros:**\n",
      "- Some reviews mention a caring environment and a focus on integrating diverse teams of clinicians and computer scientists.\n",
      "\n",
      "**Cons:**\n",
      "- Significant concerns about the lack of women in leadership and microaggressions against female employees are highlighted.\n",
      "- Reports of sexist and xenophobic comments being tolerated.\n",
      "\n",
      "**Quotations:**\n",
      "- \"Everything started great - until I realized the lack of women in leadership positions.\" (Anonymous on 2023-02-17)\n",
      "\n",
      "### Work-Life Balance\n",
      "**Pros:**\n",
      "- Generally good work-life balance is noted, with remote work options and unlimited PTO.\n",
      "\n",
      "**Cons:**\n",
      "- Some reviews mention that work-life balance can become strained, especially in a startup environment.\n",
      "\n",
      "**Quotations:**\n",
      "- \"Great working environment!\" (Senior Software Engineer on 2021-05-10)\n",
      "- \"Work-life balance goes haywire sometimes.\" (NLP Data Engineer on 2022-04-05)\n",
      "\n",
      "### Growth Opportunities\n",
      "**Pros:**\n",
      "- Many reviews highlight opportunities for personal and professional growth, with supportive leadership and a mission-driven environment.\n",
      "\n",
      "**Cons:**\n",
      "- The fast-paced startup culture may not suit everyone, and some employees may find the lack of structure challenging.\n",
      "\n",
      "**Quotations:**\n",
      "- \"Lots of room to define your role.\" (Medical Intern on 2021-05-04)\n",
      "- \"Things can change quickly.\" (Anonymous on 2024-03-28)\n",
      "\n",
      "### Company Culture\n",
      "**Pros:**\n",
      "- A strong sense of teamwork and mission-driven culture is praised, with many employees feeling valued.\n",
      "\n",
      "**Cons:**\n",
      "- Reports of a toxic culture due to poor leadership and interpersonal conflicts, particularly among certain team members.\n",
      "\n",
      "**Quotations:**\n",
      "- \"Amazing team driven towards making a positive impact.\" (Anonymous on 2022-04-01)\n",
      "- \"The overall morale is low, and there's a pervasive sense of disillusionment among employees.\" (Talent Acquisition on 2024-07-23)\n",
      "\n",
      "## Company Changes Over Time\n",
      "The reviews suggest a mixed evolution. Initially, the company was praised for its leadership and mission-driven culture, but as it grew, issues with leadership dynamics, particularly regarding trust and inclusivity, have surfaced. The presence of toxic behaviors and a lack of support for certain employee groups have become more pronounced.\n",
      "\n",
      "## Relationship Between Job Functions and Employee Satisfaction\n",
      "Employee satisfaction appears to vary significantly by job function. Technical roles, such as software engineering and data science, often report positive experiences, while roles in talent acquisition and operations express dissatisfaction with management and support. This suggests that satisfaction may be closely tied to the effectiveness of leadership and the nature of the work environment within specific teams.\n",
      "\n",
      "## Questions for Leadership\n",
      "1. What steps are being taken to address the concerns regarding leadership effectiveness and employee trust?\n",
      "2. How does the company plan to improve diversity and inclusion, particularly in leadership roles?\n",
      "3. What measures are in place to ensure competitive compensation and resolve payroll issues promptly?\n",
      "4. How does the company plan to foster a more positive and collaborative work environment?\n",
      "5. Can you elaborate on the company's strategy for growth and how it plans to maintain a healthy work-life balance for employees?\n",
      "6. What initiatives are in place to support employee feedback and ensure it leads to actionable changes?\n"
     ]
    }
   ],
   "source": [
    "concat_reviews = \"\\n\\n\".join(\n",
    "    templates.get_template(\"glassdoor_review.md\").render(review=review)\n",
    "    for review in parsed_reviews\n",
    ")\n",
    "\n",
    "print(f\"The prompt context has {len(concat_reviews):,} characters in {len(parsed_reviews)} reviews\")\n",
    "\n",
    "from langchain_openai import ChatOpenAI\n",
    "from langchain_core.prompts import ChatPromptTemplate\n",
    "\n",
    "review_summary_prompt = ChatPromptTemplate.from_messages(\n",
    "    [\n",
    "        (\n",
    "            \"system\",\n",
    "            \"\"\"\n",
    "            Please read the following Glassdoor reviews and write a summary of the key pros, cons, and quotations relating to the following aspects of the company:\n",
    "            - Leadership\n",
    "            - Compensation and benefits\n",
    "            - Diversity, equity, and inclusion\n",
    "            - Work-life balance\n",
    "            - Growth opportunities\n",
    "            - Company culture\n",
    "\n",
    "            Please also include a section summarizing how the company has changed over time, if applicable.\n",
    "\n",
    "            Please also summarize the relationship between job functions and employee satisfaction.\n",
    "\n",
    "            Finish the summary with a list of questions that you would ask the company's leadership both following up on the reviews and also asking about topics that were not mentioned in the reviews.\n",
    "\n",
    "            Provide a clear and concise summary of the key points, avoiding unnecessary details.\n",
    "            Format the response as Markdown.\n",
    "\n",
    "            In quotations please format like: \"quote\" (job title on date)\n",
    "            \"\"\",\n",
    "        ),\n",
    "        (\n",
    "            \"human\",\n",
    "            \"\"\"\n",
    "            Company: {company}\n",
    "            \n",
    "            Glassdoor reviews: \n",
    "            {text}\n",
    "            \"\"\",\n",
    "        ),\n",
    "    ]\n",
    ")\n",
    "\n",
    "llm = ChatOpenAI(model=\"gpt-4o-mini\", temperature=0)\n",
    "runnable = review_summary_prompt | llm\n",
    "summary_result = runnable.invoke(\n",
    "    {\n",
    "        \"text\": concat_reviews,\n",
    "        \"company\": target.company,\n",
    "    }\n",
    ")\n",
    "\n",
    "print(summary_result.content)"
   ]
  },
  {
   "cell_type": "code",
   "execution_count": null,
   "metadata": {},
   "outputs": [],
   "source": []
  }
 ],
 "metadata": {
  "kernelspec": {
   "display_name": ".venv",
   "language": "python",
   "name": "python3"
  },
  "language_info": {
   "codemirror_mode": {
    "name": "ipython",
    "version": 3
   },
   "file_extension": ".py",
   "mimetype": "text/x-python",
   "name": "python",
   "nbconvert_exporter": "python",
   "pygments_lexer": "ipython3",
   "version": "3.10.12"
  }
 },
 "nbformat": 4,
 "nbformat_minor": 2
}
