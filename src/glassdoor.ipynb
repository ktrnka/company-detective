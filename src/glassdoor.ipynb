{
 "cells": [
  {
   "cell_type": "code",
   "execution_count": 1,
   "metadata": {},
   "outputs": [
    {
     "data": {
      "text/plain": [
       "True"
      ]
     },
     "execution_count": 1,
     "metadata": {},
     "output_type": "execute_result"
    }
   ],
   "source": [
    "from dotenv import load_dotenv\n",
    "\n",
    "load_dotenv()"
   ]
  },
  {
   "cell_type": "code",
   "execution_count": 2,
   "metadata": {},
   "outputs": [],
   "source": [
    "from core import CompanyProduct\n",
    "\n",
    "target = CompanyProduct.same(\"98point6\")"
   ]
  },
  {
   "cell_type": "code",
   "execution_count": 3,
   "metadata": {},
   "outputs": [
    {
     "name": "stdout",
     "output_type": "stream",
     "text": [
      "[SearchResult(title='98point6 Reviews: What Is It Like to Work At 98point6? | Glassdoor', link='https://www.glassdoor.com/Reviews/98point6-Reviews-E1181484.htm', snippet='167 98point6 reviews. A free inside look at company reviews and salaries posted anonymously by employees.', formattedUrl='https://www.glassdoor.com/Reviews/98point6-Reviews-E1181484.htm'), SearchResult(title='98point6 Software Engineer(Internship) Reviews | Glassdoor', link='https://www.glassdoor.com/Reviews/98point6-Reviews-E1181484.htm?filter.jobTitleExact=Software+Engineer(Internship)', snippet='3 98point6 reviews. A free inside look at company reviews and salaries posted anonymously by employees.', formattedUrl='https://www.glassdoor.com/Reviews/98point6-Reviews-E1181484.htm?...')]\n"
     ]
    }
   ],
   "source": [
    "from glassdoor.search import find_review_url\n",
    "\n",
    "url = find_review_url(target, debug=True)"
   ]
  },
  {
   "cell_type": "code",
   "execution_count": 4,
   "metadata": {},
   "outputs": [
    {
     "name": "stderr",
     "output_type": "stream",
     "text": [
      "\u001b[32m2024-07-31 16:10:51.899\u001b[0m | \u001b[1mINFO    \u001b[0m | \u001b[36mglassdoor.scraper\u001b[0m:\u001b[36mscrape_reviews\u001b[0m:\u001b[36m110\u001b[0m - \u001b[1mscraping reviews from https://www.glassdoor.com/Reviews/98point6-Reviews-E1181484.htm\u001b[0m\n",
      "\u001b[32m2024-07-31 16:11:46.975\u001b[0m | \u001b[1mINFO    \u001b[0m | \u001b[36mglassdoor.scraper\u001b[0m:\u001b[36mscrape_reviews\u001b[0m:\u001b[36m118\u001b[0m - \u001b[1mscraped first page of reviews of https://www.glassdoor.com/Reviews/98point6-Reviews-E1181484.htm, scraping remaining 2 pages\u001b[0m\n",
      "\u001b[32m2024-07-31 16:12:08.032\u001b[0m | \u001b[1mINFO    \u001b[0m | \u001b[36mglassdoor.scraper\u001b[0m:\u001b[36mscrape_reviews\u001b[0m:\u001b[36m128\u001b[0m - \u001b[1mscraped 30 reviews from https://www.glassdoor.com/Reviews/98point6-Reviews-E1181484.htm in 3 pages\u001b[0m\n"
     ]
    }
   ],
   "source": [
    "from glassdoor.scraper import scrape_reviews, GlassdoorReview\n",
    "\n",
    "glassdoor_results = await scrape_reviews(url, max_pages=3)\n",
    "reviews = GlassdoorReview.parse_reviews(glassdoor_results)\n"
   ]
  },
  {
   "cell_type": "code",
   "execution_count": 5,
   "metadata": {},
   "outputs": [
    {
     "name": "stdout",
     "output_type": "stream",
     "text": [
      "The prompt context has 13,916 characters in 30 reviews\n",
      "# Summary of 98point6 Glassdoor Reviews\n",
      "\n",
      "## Key Aspects\n",
      "\n",
      "### Leadership\n",
      "**Pros:**\n",
      "- Some reviews highlight strong leadership that cares about employees and takes action on feedback (e.g., \"Strong leadership team that cares about employees\" (Anonymous on 2023-01-20)).\n",
      "  \n",
      "**Cons:**\n",
      "- Many reviews criticize leadership for being tone-deaf, inexperienced, and lacking emotional intelligence. There are mentions of a \"boys' club\" mentality and ineffective management (e.g., \"Ineffective clinical leadership with boys' club attitude\" (Physician on 2022-04-07)).\n",
      "- Frequent changes in leadership and strategy have led to instability and low morale (e.g., \"Exec team doesn't seem to have long term strategy\" (Software Engineer on 2024-01-17)).\n",
      "\n",
      "### Compensation and Benefits\n",
      "**Pros:**\n",
      "- Benefits, including PTO, are generally viewed positively (e.g., \"PTO and time-off are better than most companies\" (Anonymous on 2022-03-13)).\n",
      "  \n",
      "**Cons:**\n",
      "- Compensation is frequently described as low, especially for the workload expected (e.g., \"extremely weak pay\" (Anonymous on 2022-03-13)).\n",
      "\n",
      "### Diversity, Equity, and Inclusion\n",
      "**Pros:**\n",
      "- There is a stated desire for diversity within the company (e.g., \"A desire for diversity\" (Anonymous on 2022-01-11)).\n",
      "  \n",
      "**Cons:**\n",
      "- Reports of inequity in treatment based on gender and race, particularly in how titles are used (e.g., \"expect to be addressed by your first name\" (Physician on 2022-04-07)).\n",
      "\n",
      "### Work-Life Balance\n",
      "**Pros:**\n",
      "- Many employees appreciate the flexible work arrangements and remote work options (e.g., \"Flexible work schedule, motivating and impactful work!\" (Director on 2024-01-18)).\n",
      "  \n",
      "**Cons:**\n",
      "- High workloads and expectations can lead to stress, impacting work-life balance (e.g., \"People across all departments leave 98point6 for ridiculous compensation increases\" (Anonymous on 2022-03-13)).\n",
      "\n",
      "### Growth Opportunities\n",
      "**Pros:**\n",
      "- Some employees feel there are opportunities to grow and learn (e.g., \"Great place to work if you want to get deep on a set of problems\" (Anonymous on 2023-01-20)).\n",
      "  \n",
      "**Cons:**\n",
      "- Limited advancement options and a tendency for employees to become pigeonholed in their roles (e.g., \"Not many advancement options\" (Anonymous on 2023-01-20)).\n",
      "\n",
      "### Company Culture\n",
      "**Pros:**\n",
      "- The company culture is often described as friendly and mission-driven (e.g., \"the people, the mission, so organized and friendly\" (Anonymous on 2022-11-08)).\n",
      "  \n",
      "**Cons:**\n",
      "- Reports of a toxic environment, particularly after leadership changes, have surfaced (e.g., \"morale visibly dipped\" (Senior Security Engineer on 2023-05-10)).\n",
      "\n",
      "## Changes Over Time\n",
      "The company has experienced significant changes, particularly in leadership and structure. The departure of key executives and subsequent layoffs have led to a decline in morale and employee satisfaction. Many employees feel that the company is no longer the same as it was a year ago, with a shift towards a more toxic environment and a lack of clear direction.\n",
      "\n",
      "## Relationship Between Job Functions and Employee Satisfaction\n",
      "Employee satisfaction appears to vary significantly by job function. While some roles, particularly in clinical and technical areas, report high levels of stress and dissatisfaction due to management issues and workload, others, especially in supportive roles, express contentment with their work environment and the mission of the company.\n",
      "\n",
      "## Questions for Leadership\n",
      "1. What specific steps are being taken to improve leadership effectiveness and emotional intelligence within the management team?\n",
      "2. How does the company plan to address the compensation concerns raised by employees?\n",
      "3. What initiatives are in place to ensure diversity, equity, and inclusion are genuinely practiced within the company?\n",
      "4. Can you provide clarity on the company's long-term strategy and vision following recent leadership changes?\n",
      "5. How does the company plan to improve communication and transparency with employees?\n",
      "6. What measures are being implemented to enhance employee morale and reduce turnover?\n",
      "7. How does the company intend to balance the workload expectations with employee well-being?\n",
      "8. What opportunities for advancement and professional development are being considered for employees?\n"
     ]
    }
   ],
   "source": [
    "from glassdoor.summarizer import summarize\n",
    "\n",
    "summary = summarize(target, reviews)\n",
    "print(summary.content)"
   ]
  },
  {
   "cell_type": "code",
   "execution_count": null,
   "metadata": {},
   "outputs": [],
   "source": []
  }
 ],
 "metadata": {
  "kernelspec": {
   "display_name": ".venv",
   "language": "python",
   "name": "python3"
  },
  "language_info": {
   "codemirror_mode": {
    "name": "ipython",
    "version": 3
   },
   "file_extension": ".py",
   "mimetype": "text/x-python",
   "name": "python",
   "nbconvert_exporter": "python",
   "pygments_lexer": "ipython3",
   "version": "3.10.12"
  }
 },
 "nbformat": 4,
 "nbformat_minor": 2
}
