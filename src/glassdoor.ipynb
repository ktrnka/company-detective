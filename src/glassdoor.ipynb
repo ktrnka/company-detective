{
 "cells": [
  {
   "cell_type": "code",
   "execution_count": 1,
   "metadata": {},
   "outputs": [
    {
     "data": {
      "text/plain": [
       "True"
      ]
     },
     "execution_count": 1,
     "metadata": {},
     "output_type": "execute_result"
    }
   ],
   "source": [
    "from dotenv import load_dotenv\n",
    "\n",
    "load_dotenv()"
   ]
  },
  {
   "cell_type": "code",
   "execution_count": 2,
   "metadata": {},
   "outputs": [],
   "source": [
    "from core import CompanyProduct\n",
    "\n",
    "target = CompanyProduct(\"Rad AI\", \"Omni\")"
   ]
  },
  {
   "cell_type": "code",
   "execution_count": 3,
   "metadata": {},
   "outputs": [
    {
     "name": "stdout",
     "output_type": "stream",
     "text": [
      "['https://www.glassdoor.com/Reviews/Rad-AI-Reviews-E3543079.htm', 'https://www.glassdoor.com/Reviews/Rad-AI-team-Reviews-EI_IE3543079.0,6_KH7,11.htm', 'https://www.glassdoor.com/Reviews/Rad-AI-Berkeley-Reviews-EI_IE3543079.0,6_IL.7,15_IC1147330.htm', 'https://www.glassdoor.com/Reviews/Rad-AI-Head-of-Research-Reviews-EI_IE3543079.0,6_KO7,23.htm']\n"
     ]
    }
   ],
   "source": [
    "from glassdoor.search import find_review_url\n",
    "\n",
    "url = find_review_url(target, debug=True)"
   ]
  },
  {
   "cell_type": "code",
   "execution_count": 4,
   "metadata": {},
   "outputs": [
    {
     "name": "stderr",
     "output_type": "stream",
     "text": [
      "\u001b[32m2024-07-29 18:01:13.614\u001b[0m | \u001b[1mINFO    \u001b[0m | \u001b[36mglassdoor.scraper\u001b[0m:\u001b[36mscrape_reviews\u001b[0m:\u001b[36m110\u001b[0m - \u001b[1mscraping reviews from https://www.glassdoor.com/Reviews/Rad-AI-Reviews-E3543079.htm\u001b[0m\n",
      "\u001b[32m2024-07-29 18:01:13.959\u001b[0m | \u001b[1mINFO    \u001b[0m | \u001b[36mglassdoor.scraper\u001b[0m:\u001b[36mscrape_reviews\u001b[0m:\u001b[36m118\u001b[0m - \u001b[1mscraped first page of reviews of https://www.glassdoor.com/Reviews/Rad-AI-Reviews-E3543079.htm, scraping remaining 1 pages\u001b[0m\n",
      "\u001b[32m2024-07-29 18:01:15.469\u001b[0m | \u001b[1mINFO    \u001b[0m | \u001b[36mglassdoor.scraper\u001b[0m:\u001b[36mscrape_reviews\u001b[0m:\u001b[36m128\u001b[0m - \u001b[1mscraped 13 reviews from https://www.glassdoor.com/Reviews/Rad-AI-Reviews-E3543079.htm in 2 pages\u001b[0m\n"
     ]
    }
   ],
   "source": [
    "from glassdoor.scraper import scrape_reviews, GlassdoorReview\n",
    "\n",
    "glassdoor_results = await scrape_reviews(url, max_pages=3)\n",
    "reviews = GlassdoorReview.parse_reviews(glassdoor_results)\n"
   ]
  },
  {
   "cell_type": "code",
   "execution_count": 5,
   "metadata": {},
   "outputs": [
    {
     "name": "stdout",
     "output_type": "stream",
     "text": [
      "The prompt context has 12,927 characters in 13 reviews\n",
      "# Summary of Glassdoor Reviews for Rad AI\n",
      "\n",
      "## Key Aspects\n",
      "\n",
      "### Leadership\n",
      "**Pros:**\n",
      "- Some reviews highlight strong leadership from co-founders, particularly Jeff Chang, who is described as caring and visionary.\n",
      "- Open and supportive leadership is noted in several positive reviews.\n",
      "\n",
      "**Cons:**\n",
      "- Many reviews criticize the current leadership for being egotistical, inexperienced, and incompetent.\n",
      "- There are reports of a toxic culture stemming from dysfunctional leadership and a lack of trust in employees.\n",
      "\n",
      "**Quotations:**\n",
      "- \"Egotistical, inexperienced, incompetent leadership\" (Senior Software Engineer on 2021-04-13)\n",
      "- \"Co-Founders are wonderful... The next level of leadership is where the problem lies.\" (Anonymous on 2023-02-17)\n",
      "\n",
      "### Compensation and Benefits\n",
      "**Pros:**\n",
      "- Good pay and decent benefits are mentioned positively in several reviews.\n",
      "- Equity is noted as likely to be valuable.\n",
      "\n",
      "**Cons:**\n",
      "- Some reviews indicate that compensation is not competitive with larger companies.\n",
      "\n",
      "**Quotations:**\n",
      "- \"Great pay. Decent benefits.\" (Senior Software Engineer on 2021-04-13)\n",
      "- \"The pay is not competitive for the industry.\" (Talent Acquisition on 2024-07-23)\n",
      "\n",
      "### Diversity, Equity, and Inclusion\n",
      "**Pros:**\n",
      "- Some reviews mention a lack of overt harassment, indicating a positive environment in that regard.\n",
      "\n",
      "**Cons:**\n",
      "- Significant concerns about the lack of women in leadership and microaggressions against female employees are highlighted.\n",
      "- Reports of sexist comments and a culture that does not support diversity.\n",
      "\n",
      "**Quotations:**\n",
      "- \"I would caution you to provide feedback... a few began sharing their dissatisfaction; it was brought up in team meetings about 'negativity,' and they were let go shortly after.\" (Anonymous on 2023-02-17)\n",
      "\n",
      "### Work-Life Balance\n",
      "**Pros:**\n",
      "- Generally good work-life balance is noted, with remote work options and unlimited PTO.\n",
      "\n",
      "**Cons:**\n",
      "- Some reviews mention that work-life balance can become strained, especially in a startup environment.\n",
      "\n",
      "**Quotations:**\n",
      "- \"Great working environment!\" (Senior Software Engineer on 2021-05-10)\n",
      "- \"Work-life balance goes haywire sometimes.\" (NLP Data Engineer on 2022-04-05)\n",
      "\n",
      "### Growth Opportunities\n",
      "**Pros:**\n",
      "- Many reviews highlight opportunities for personal and professional growth, with supportive leadership and a mission-driven environment.\n",
      "\n",
      "**Cons:**\n",
      "- The fast-paced nature of a startup can be challenging for some employees.\n",
      "\n",
      "**Quotations:**\n",
      "- \"Lots of room to define your role.\" (Medical Intern on 2021-05-04)\n",
      "- \"Startup culture is dynamic & not for everyone.\" (Advisor on 2021-05-21)\n",
      "\n",
      "### Company Culture\n",
      "**Pros:**\n",
      "- A strong sense of teamwork and mission-driven culture is praised.\n",
      "- Many employees feel valued and supported.\n",
      "\n",
      "**Cons:**\n",
      "- Reports of a toxic culture due to poor leadership and internal politics.\n",
      "\n",
      "**Quotations:**\n",
      "- \"Amazing team driven towards making a positive impact.\" (Anonymous on 2022-04-01)\n",
      "- \"The overall morale is low, and there's a pervasive sense of disillusionment among employees.\" (Talent Acquisition on 2024-07-23)\n",
      "\n",
      "## Changes Over Time\n",
      "The reviews suggest a mixed evolution of the company. While some employees have experienced positive growth and a supportive environment, others have noted a decline in leadership quality and an increase in toxicity. The presence of strong co-founders contrasts with the criticisms of middle management, indicating a potential disconnect as the company has scaled.\n",
      "\n",
      "## Job Functions and Employee Satisfaction\n",
      "Employee satisfaction appears to vary significantly by job function. Technical roles, such as software engineering and data science, often report positive experiences, while roles in talent acquisition and operations express dissatisfaction with management and support. This suggests that the alignment of job function with company culture and leadership quality plays a crucial role in overall employee satisfaction.\n",
      "\n",
      "## Questions for Leadership\n",
      "1. What steps are being taken to address the concerns regarding leadership quality and employee trust?\n",
      "2. How does the company plan to improve diversity and inclusion, particularly in leadership roles?\n",
      "3. What measures are in place to ensure competitive compensation and resolve payroll issues promptly?\n",
      "4. How does the company intend to foster a more positive and collaborative work environment?\n",
      "5. Can you provide more clarity on the company's long-term vision and how it plans to achieve product-market fit?\n"
     ]
    }
   ],
   "source": [
    "from glassdoor.summarizer import summarize\n",
    "\n",
    "summary = summarize(target, reviews)\n",
    "print(summary.content)"
   ]
  },
  {
   "cell_type": "code",
   "execution_count": null,
   "metadata": {},
   "outputs": [],
   "source": []
  }
 ],
 "metadata": {
  "kernelspec": {
   "display_name": ".venv",
   "language": "python",
   "name": "python3"
  },
  "language_info": {
   "codemirror_mode": {
    "name": "ipython",
    "version": 3
   },
   "file_extension": ".py",
   "mimetype": "text/x-python",
   "name": "python",
   "nbconvert_exporter": "python",
   "pygments_lexer": "ipython3",
   "version": "3.10.12"
  }
 },
 "nbformat": 4,
 "nbformat_minor": 2
}
