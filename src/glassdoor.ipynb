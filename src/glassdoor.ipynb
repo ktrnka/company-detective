{
 "cells": [
  {
   "cell_type": "code",
   "execution_count": 1,
   "metadata": {},
   "outputs": [
    {
     "data": {
      "text/plain": [
       "True"
      ]
     },
     "execution_count": 1,
     "metadata": {},
     "output_type": "execute_result"
    }
   ],
   "source": [
    "from dotenv import load_dotenv\n",
    "\n",
    "load_dotenv()"
   ]
  },
  {
   "cell_type": "code",
   "execution_count": 2,
   "metadata": {},
   "outputs": [],
   "source": [
    "from core import CompanyProduct\n",
    "\n",
    "target = CompanyProduct.same(\"98point6\")"
   ]
  },
  {
   "cell_type": "code",
   "execution_count": 3,
   "metadata": {},
   "outputs": [
    {
     "name": "stdout",
     "output_type": "stream",
     "text": [
      "['https://www.glassdoor.com/Reviews/98point6-Reviews-E1181484.htm', 'https://www.glassdoor.com/Reviews/98point6-Seattle-Reviews-EI_IE1181484.0,8_IL.9,16_IM781.htm', 'https://www.glassdoor.com/Reviews/98point6-Reviews-E1181484.htm?filter.jobTitleExact=Software+Engineer(Internship)', 'https://www.glassdoor.com/Reviews/98point6-layoff-Reviews-EI_IE1181484.0,8_KH9,15.htm', 'https://www.glassdoor.com/Reviews/98point6-Physician-Reviews-EI_IE1181484.0,8_KO9,18.htm', 'https://www.glassdoor.com/Reviews/98point6-98point6-Reviews-EI_IE1181484.0,8_KH9,17.htm']\n"
     ]
    }
   ],
   "source": [
    "from glassdoor.search import find_review_url\n",
    "\n",
    "url = find_review_url(target, debug=True)"
   ]
  },
  {
   "cell_type": "code",
   "execution_count": 4,
   "metadata": {},
   "outputs": [
    {
     "name": "stderr",
     "output_type": "stream",
     "text": [
      "\u001b[32m2024-07-30 08:42:16.902\u001b[0m | \u001b[1mINFO    \u001b[0m | \u001b[36mglassdoor.scraper\u001b[0m:\u001b[36mscrape_reviews\u001b[0m:\u001b[36m110\u001b[0m - \u001b[1mscraping reviews from https://www.glassdoor.com/Reviews/98point6-Reviews-E1181484.htm\u001b[0m\n",
      "\u001b[32m2024-07-30 08:42:18.171\u001b[0m | \u001b[1mINFO    \u001b[0m | \u001b[36mglassdoor.scraper\u001b[0m:\u001b[36mscrape_reviews\u001b[0m:\u001b[36m118\u001b[0m - \u001b[1mscraped first page of reviews of https://www.glassdoor.com/Reviews/98point6-Reviews-E1181484.htm, scraping remaining 2 pages\u001b[0m\n",
      "INFO:backoff:Backing off scrape(...) for 0.4s (requests.exceptions.ReadTimeout: HTTPSConnectionPool(host='api.scrapfly.io', port=443): Read timed out. (read timeout=160))\n",
      "\u001b[32m2024-07-30 08:45:10.531\u001b[0m | \u001b[1mINFO    \u001b[0m | \u001b[36mglassdoor.scraper\u001b[0m:\u001b[36mscrape_reviews\u001b[0m:\u001b[36m128\u001b[0m - \u001b[1mscraped 30 reviews from https://www.glassdoor.com/Reviews/98point6-Reviews-E1181484.htm in 3 pages\u001b[0m\n"
     ]
    }
   ],
   "source": [
    "from glassdoor.scraper import scrape_reviews, GlassdoorReview\n",
    "\n",
    "glassdoor_results = await scrape_reviews(url, max_pages=3)\n",
    "reviews = GlassdoorReview.parse_reviews(glassdoor_results)\n"
   ]
  },
  {
   "cell_type": "code",
   "execution_count": 5,
   "metadata": {},
   "outputs": [
    {
     "name": "stdout",
     "output_type": "stream",
     "text": [
      "The prompt context has 13,916 characters in 30 reviews\n",
      "# Summary of 98point6 Glassdoor Reviews\n",
      "\n",
      "## Key Aspects\n",
      "\n",
      "### Leadership\n",
      "**Pros:** Some reviews highlight strong leadership at the team level, with managers who are responsive and supportive.  \n",
      "**Cons:** Many reviews criticize upper management for being disconnected, ineffective, and lacking emotional intelligence. There is a noted \"boys' club\" mentality and a failure to listen to employee feedback.  \n",
      "**Quotations:** \"The management isn’t great- their inexperience in such roles definitely show in really cruddy ways.\" (Licensed Mental Health Professional on 2023-01-31)\n",
      "\n",
      "### Compensation and Benefits\n",
      "**Pros:** Employees appreciate the generous PTO and flexible work arrangements.  \n",
      "**Cons:** Compensation is frequently described as low, especially for the workload expected. Many employees have left for better pay elsewhere.  \n",
      "**Quotations:** \"The biggest two factors are terrible managers and extremely weak pay.\" (Anonymous on 2022-03-13)\n",
      "\n",
      "### Diversity, Equity, and Inclusion\n",
      "**Pros:** There is a stated desire for diversity within the company.  \n",
      "**Cons:** Reviews indicate a lack of genuine inclusivity, particularly for women and minorities, with reports of inequitable treatment.  \n",
      "**Quotations:** \"If you're a female physician or a minority physician, expect to be addressed by your first name.\" (Physician on 2022-04-07)\n",
      "\n",
      "### Work-Life Balance\n",
      "**Pros:** Many employees appreciate the flexible work-from-home policies and the overall work-life balance.  \n",
      "**Cons:** High workloads and expectations can sometimes disrupt this balance.  \n",
      "**Quotations:** \"Flexible WFH policy, high performing teams.\" (Anonymous on 2024-05-01)\n",
      "\n",
      "### Growth Opportunities\n",
      "**Pros:** Some employees feel there are opportunities to grow and develop skills, particularly in the medical field.  \n",
      "**Cons:** Others note a lack of clear advancement options and a tendency for employees to become pigeonholed in their roles.  \n",
      "**Quotations:** \"Not many advancement options.\" (Anonymous on 2023-01-20)\n",
      "\n",
      "### Company Culture\n",
      "**Pros:** The company culture is often described as friendly, mission-driven, and supportive at the team level.  \n",
      "**Cons:** There are concerns about a toxic atmosphere stemming from leadership issues and internal politics.  \n",
      "**Quotations:** \"Great culture with genuine commitment to Core Values and the company mission.\" (Anonymous on 2023-01-20)\n",
      "\n",
      "## Changes Over Time\n",
      "The company has experienced significant changes, particularly following the departure of key leadership figures, including the CEO. This has led to a decline in morale, increased layoffs, and a perception that the company is no longer the same as it once was. Many employees express concern over the direction the company is taking and the lack of stability.\n",
      "\n",
      "## Relationship Between Job Functions and Employee Satisfaction\n",
      "Employee satisfaction appears to vary significantly by job function. While some roles, particularly in clinical and technical areas, report high levels of satisfaction due to the mission and work environment, others express frustration with management and compensation. The disconnect between leadership and employee experience is a recurring theme, suggesting that satisfaction is heavily influenced by direct management and departmental culture.\n",
      "\n",
      "## Questions for Leadership\n",
      "1. What specific steps are being taken to improve communication and transparency within the company?\n",
      "2. How does leadership plan to address the concerns regarding compensation and employee retention?\n",
      "3. What initiatives are in place to foster a more inclusive and equitable workplace?\n",
      "4. Can you elaborate on the company's long-term vision and strategy following recent leadership changes?\n",
      "5. How does the company plan to support employee growth and advancement in the future?\n",
      "6. What measures are being implemented to ensure that feedback from employees is heard and acted upon?\n",
      "7. How does the company intend to maintain its mission-driven culture amidst ongoing changes?\n"
     ]
    }
   ],
   "source": [
    "from glassdoor.summarizer import summarize\n",
    "\n",
    "summary = summarize(target, reviews)\n",
    "print(summary.content)"
   ]
  },
  {
   "cell_type": "code",
   "execution_count": null,
   "metadata": {},
   "outputs": [],
   "source": []
  }
 ],
 "metadata": {
  "kernelspec": {
   "display_name": ".venv",
   "language": "python",
   "name": "python3"
  },
  "language_info": {
   "codemirror_mode": {
    "name": "ipython",
    "version": 3
   },
   "file_extension": ".py",
   "mimetype": "text/x-python",
   "name": "python",
   "nbconvert_exporter": "python",
   "pygments_lexer": "ipython3",
   "version": "3.10.12"
  }
 },
 "nbformat": 4,
 "nbformat_minor": 2
}
