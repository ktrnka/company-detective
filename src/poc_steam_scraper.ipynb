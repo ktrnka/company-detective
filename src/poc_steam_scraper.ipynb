{
 "cells": [
  {
   "cell_type": "code",
   "execution_count": 1,
   "metadata": {},
   "outputs": [],
   "source": [
    "from core import init\n",
    "\n",
    "# init()"
   ]
  },
  {
   "cell_type": "code",
   "execution_count": 1,
   "metadata": {},
   "outputs": [],
   "source": [
    "import requests"
   ]
  },
  {
   "cell_type": "code",
   "execution_count": 2,
   "metadata": {},
   "outputs": [
    {
     "name": "stderr",
     "output_type": "stream",
     "text": [
      "\u001b[32m2024-08-20 10:18:43.504\u001b[0m | \u001b[34m\u001b[1mDEBUG   \u001b[0m | \u001b[36msearch\u001b[0m:\u001b[36msearch\u001b[0m:\u001b[36m65\u001b[0m - \u001b[34m\u001b[1mGoogle search results: {'kind': 'customsearch#search', 'url': {'type': 'application/json', 'template': 'https://www.googleapis.com/customsearch/v1?q={searchTerms}&num={count?}&start={startIndex?}&lr={language?}&safe={safe?}&cx={cx?}&sort={sort?}&filter={filter?}&gl={gl?}&cr={cr?}&googlehost={googleHost?}&c2coff={disableCnTwTranslation?}&hq={hq?}&hl={hl?}&siteSearch={siteSearch?}&siteSearchFilter={siteSearchFilter?}&exactTerms={exactTerms?}&excludeTerms={excludeTerms?}&linkSite={linkSite?}&orTerms={orTerms?}&dateRestrict={dateRestrict?}&lowRange={lowRange?}&highRange={highRange?}&searchType={searchType}&fileType={fileType?}&rights={rights?}&imgSize={imgSize?}&imgType={imgType?}&imgColorType={imgColorType?}&imgDominantColor={imgDominantColor?}&alt=json'}, 'queries': {'request': [{'title': 'Google Custom Search - Singularity 6 Palia Steam', 'totalResults': '20000', 'searchTerms': 'Singularity 6 Palia Steam', 'count': 1, 'startIndex': 1, 'language': 'lang_en', 'inputEncoding': 'utf8', 'outputEncoding': 'utf8', 'safe': 'off', 'cx': 'd5705c8967e3c4d63', 'gl': 'us', 'hl': 'en'}], 'nextPage': [{'title': 'Google Custom Search - Singularity 6 Palia Steam', 'totalResults': '20000', 'searchTerms': 'Singularity 6 Palia Steam', 'count': 1, 'startIndex': 2, 'language': 'lang_en', 'inputEncoding': 'utf8', 'outputEncoding': 'utf8', 'safe': 'off', 'cx': 'd5705c8967e3c4d63', 'gl': 'us', 'hl': 'en'}]}, 'context': {'title': 'company_detective'}, 'searchInformation': {'searchTime': 0.155646, 'formattedSearchTime': '0.16', 'totalResults': '20000', 'formattedTotalResults': '20,000'}, 'items': [{'kind': 'customsearch#result', 'title': 'Palia on Steam', 'htmlTitle': '<b>Palia</b> on <b>Steam</b>', 'link': 'https://store.steampowered.com/app/2707930/Palia/', 'displayLink': 'store.steampowered.com', 'snippet': 'Palia. Developer. Singularity 6 Corporation. Publisher. Singularity 6 Corporation. Released. Mar 25, 2024. Palia is a vibrant new world made just for you. Craft\\xa0...', 'htmlSnippet': '<b>Palia</b>. Developer. <b>Singularity 6</b> Corporation. Publisher. <b>Singularity 6</b> Corporation. Released. Mar 25, 2024. <b>Palia</b> is a vibrant new world made just for you. Craft&nbsp;...', 'formattedUrl': 'https://store.steampowered.com/app/2707930/Palia/', 'htmlFormattedUrl': 'https://store.<b>steam</b>powered.com/app/2707930/<b>Palia</b>/', 'pagemap': {'offer': [{'pricecurrency': 'USD', 'price': '0.00'}], 'cse_thumbnail': [{'src': 'https://encrypted-tbn0.gstatic.com/images?q=tbn:ANd9GcReFNtxFNYTcmQBr6jRXPDzJoSnXbtWLgnf23ddRA6AqDWMjfl8o2_Mp-s&s', 'width': '297', 'height': '170'}], 'product': [{'image': 'https://shared.akamai.steamstatic.com/store_item_assets/steam/apps/2707930/capsule_231x87.jpg?t=1720812574', 'name': 'Palia'}], 'aggregaterating': [{'reviewcount': '13522', 'ratingvalue': '9', 'worstrating': '1', 'description': 'Very Positive', 'bestrating': '10'}], 'metatags': [{'og:image': 'https://shared.akamai.steamstatic.com/store_item_assets/steam/apps/2707930/capsule_616x353.jpg?t=1720812574', 'theme-color': '#171a21', 'twitter:card': 'summary_large_image', 'twitter:title': 'Palia on Steam', 'og:type': 'website', 'og:title': 'Palia on Steam', 'og:description': 'Palia is a vibrant new world made just for you. Craft, cook, fish, and farm with friends as you live the life of your dreams and discover an enchanting adventure filled with colorful characters and a mystery to unravel.', 'twitter:image': 'https://shared.akamai.steamstatic.com/store_item_assets/steam/apps/2707930/capsule_616x353.jpg?t=1720812574', 'fb:app_id': '105386699540688', 'twitter:site': '@steam', 'viewport': 'width=device-width,initial-scale=1', 'twitter:description': 'Palia is a vibrant new world made just for you. Craft, cook, fish, and farm with friends as you live the life of your dreams and discover an enchanting adventure filled with colorful characters and a mystery to unravel.', 'og:site': 'Steam', 'og:url': 'https://store.steampowered.com/app/2707930/Palia/'}], 'cse_image': [{'src': 'https://shared.akamai.steamstatic.com/store_item_assets/steam/apps/2707930/capsule_616x353.jpg?t=1720812574'}], 'hproduct': [{'fn': 'Palia', 'photo': 'https://shared.akamai.steamstatic.com/store_item_assets/steam/apps/2707930/capsule_231x87.jpg?t=1720812574', 'currency': 'USD', 'currency_iso4217': '840'}]}}]}\u001b[0m\n"
     ]
    },
    {
     "data": {
      "text/plain": [
       "[SearchResult(title='Palia on Steam', link='https://store.steampowered.com/app/2707930/Palia/', snippet='Palia. Developer. Singularity 6 Corporation. Publisher. Singularity 6 Corporation. Released. Mar 25, 2024. Palia is a vibrant new world made just for you. Craft\\xa0...', formattedUrl='https://store.steampowered.com/app/2707930/Palia/')]"
      ]
     },
     "execution_count": 2,
     "metadata": {},
     "output_type": "execute_result"
    }
   ],
   "source": [
    "from search import search\n",
    "\n",
    "steam_results = list(search(\"Singularity 6 Palia Steam\", num=1))\n",
    "steam_results"
   ]
  },
  {
   "cell_type": "code",
   "execution_count": 3,
   "metadata": {},
   "outputs": [
    {
     "data": {
      "text/plain": [
       "2707930"
      ]
     },
     "execution_count": 3,
     "metadata": {},
     "output_type": "execute_result"
    }
   ],
   "source": [
    "# https://store.steampowered.com/app/2707930/Palia/\n",
    "\n",
    "import re\n",
    "\n",
    "STEAM_URL_PATTERN = re.compile(r\"https://store.steampowered.com/app/(\\d+)/(\\w+)/\")\n",
    "\n",
    "def extract_steam_id(url):\n",
    "    if STEAM_URL_PATTERN.match(url):\n",
    "        return int(STEAM_URL_PATTERN.match(url).group(1))\n",
    "    return None\n",
    "\n",
    "extract_steam_id(steam_results[0].link)"
   ]
  },
  {
   "cell_type": "code",
   "execution_count": 11,
   "metadata": {},
   "outputs": [
    {
     "name": "stdout",
     "output_type": "stream",
     "text": [
      "[Review(author=Author(last_played=1724172198, num_games_owned=2, num_reviews=1, playtime_at_review=1818, playtime_forever=2000, playtime_last_two_weeks=2000, steamid='76561199353237050'), comment_count=0, hidden_in_steam_china=True, language='english', received_for_free=False, recommendationid='172626263', review='very good game, fun game\\r\\n', steam_china_location='', steam_purchase=False, timestamp_created=1724161259, timestamp_updated=1724161259, voted_up=True, votes_funny=0, votes_up=1, weighted_vote_score='0.509803950786590576', written_during_early_access=False),\n",
      " Review(author=Author(last_played=1724122904, num_games_owned=0, num_reviews=2, playtime_at_review=2994, playtime_forever=2994, playtime_last_two_weeks=2994, steamid='76561198811551444'), comment_count=0, hidden_in_steam_china=True, language='english', received_for_free=False, recommendationid='172497287', review='LOVE LOVE LOVE\\n\\nIf You Enjoy- Minecraft, Sims, Stardew Valley, Questing in General\\n\\nThan this Game is for You. This is probably my first Steam Review and this Game has Earned it!!!', steam_china_location='', steam_purchase=False, timestamp_created=1724123197, timestamp_updated=1724123197, voted_up=True, votes_funny=0, votes_up=1, weighted_vote_score='0.525862038135528564', written_during_early_access=False),\n",
      " Review(author=Author(last_played=1723156237, num_games_owned=0, num_reviews=7, playtime_at_review=212, playtime_forever=212, playtime_last_two_weeks=11, steamid='76561199037913524'), comment_count=0, hidden_in_steam_china=True, language='english', received_for_free=False, recommendationid='172461326', review='i really like palia :3 \\ni think its a good game for winding down, and i really like how its not based on real time events or whatever. you can do everything at your own pace!! \\nthe character designs are really great, the world itself is super pretty, and i really love most of the mechanics for farming/cooking/etc\\nsuper chill and super cozy ^_^', steam_china_location='', steam_purchase=False, timestamp_created=1724079136, timestamp_updated=1724079136, voted_up=True, votes_funny=0, votes_up=1, weighted_vote_score='0.523809552192687988', written_during_early_access=False),\n",
      " Review(author=Author(last_played=1724156241, num_games_owned=0, num_reviews=1, playtime_at_review=4716, playtime_forever=4799, playtime_last_two_weeks=3820, steamid='76561199527873206'), comment_count=0, hidden_in_steam_china=True, language='english', received_for_free=False, recommendationid='172455178', review=\"Initially played with my husband, though he checked out in the first 2 hours due to slow story progression, which wasn't really an issue for me. Little did I know, 79 hours later I'm stuck with 3 uncompleted quests, 2 of which now say 'wait for the story to be continued', my storage is maxed out, villagers' stories are hard to follow because it takes forever to get to the next level with them and you don't have anything to do in the meantime + once you do get the quest you complete it in like 10 minutes and that's it\", steam_china_location='', steam_purchase=False, timestamp_created=1724072313, timestamp_updated=1724072313, voted_up=False, votes_funny=0, votes_up=1, weighted_vote_score='0.502074718475341797', written_during_early_access=False),\n",
      " Review(author=Author(last_played=1724067481, num_games_owned=150, num_reviews=1725, playtime_at_review=120, playtime_forever=157, playtime_last_two_weeks=157, steamid='76561198309887401'), comment_count=0, hidden_in_steam_china=True, language='english', received_for_free=False, recommendationid='172449706', review='Well, to be perfectly honest, and in my humble opinion, without intending to offend anyone who might hold a different perspective, while also considering this matter from various angles, and without condemning anyone’s views but rather aiming for objectivity, and taking into account every valid opinion, I honestly believe I have nothing to say.', steam_china_location='', steam_purchase=False, timestamp_created=1724065623, timestamp_updated=1724065623, voted_up=True, votes_funny=2, votes_up=15, weighted_vote_score='0.696202516555786133', written_during_early_access=False),\n",
      " Review(author=Author(last_played=1724150780, num_games_owned=0, num_reviews=1, playtime_at_review=275, playtime_forever=801, playtime_last_two_weeks=801, steamid='76561199266696615'), comment_count=0, hidden_in_steam_china=True, language='english', received_for_free=True, recommendationid='172430617', review=\"Palia is a fun cosy gaming, perfect for curling up and sinking hours into. I'd recommend to anyone wanting to play at their own pace, explore side quests, and build their own experience.\", steam_china_location='', steam_purchase=False, timestamp_created=1724034214, timestamp_updated=1724034214, voted_up=True, votes_funny=0, votes_up=1, weighted_vote_score='0.523809552192687988', written_during_early_access=False),\n",
      " Review(author=Author(last_played=1724015635, num_games_owned=0, num_reviews=1, playtime_at_review=53, playtime_forever=53, playtime_last_two_weeks=53, steamid='76561198388129057'), comment_count=0, hidden_in_steam_china=True, language='english', received_for_free=False, recommendationid='172417692', review='Can\\'t change character names or altogether delete characters and would need to make a new account. Your \"full name\" is what people see instead of your nickname. it\\'s a pain in the butt to sign up and link accounts. Already dealt with bugs at the beginning of the game, with weird solid walls and cut off speech with the NPCs. Not all of it looks/is bad, but its not worth the hassle.', steam_china_location='', steam_purchase=False, timestamp_created=1724015963, timestamp_updated=1724015963, voted_up=False, votes_funny=0, votes_up=1, weighted_vote_score='0.523809552192687988', written_during_early_access=False),\n",
      " Review(author=Author(last_played=1723998581, num_games_owned=0, num_reviews=7, playtime_at_review=63, playtime_forever=63, playtime_last_two_weeks=63, steamid='76561198097454604'), comment_count=0, hidden_in_steam_china=True, language='english', received_for_free=False, recommendationid='172408011', review=\"I'd love to play this game but I can't. The seizure warning is buried in the screens you get after making an account and after logging in, after the news/updates page. Only then is there a seizure warning and you can't even exit the game after seeing the warning. I had to dismiss the warning, thinking there would be an option to exit on the next screen. But it just goes directly into a bright pulsating light for the character creation menu. At least give me the option to bail at the warning! Be upfront about the warning!\", steam_china_location='', steam_purchase=False, timestamp_created=1724005903, timestamp_updated=1724005903, voted_up=False, votes_funny=0, votes_up=8, weighted_vote_score='0.611051559448242188', written_during_early_access=False),\n",
      " Review(author=Author(last_played=1724164882, num_games_owned=0, num_reviews=27, playtime_at_review=4257, playtime_forever=5830, playtime_last_two_weeks=5830, steamid='76561198929675721'), comment_count=0, hidden_in_steam_china=True, language='english', received_for_free=False, recommendationid='172355773', review='Firstly I have to mention that this game is still new and needs a bit of polishing. That being said, I\\'m still having a lot of fun with Palia, especially when playing with friends. It\\'s a chill life simulator and I hope they keep it that way.\\n\\nWhat I like:\\n- No hostile mobs.\\n- Fishing/hunting/cooking mechanics.\\n- Party buffs.\\n- Animations.\\n- Storage system. No need to run to 8 different chests to find something.\\n- How \\'alive\\' the world is (not talking about multiplayer). We can randomly pick up a quest item and that feels more organic.\\n- House editing. The top-down view is very convenient and I like how we can customise our house layout. Wish the fireplace didn\\'t take up an entire wall though. Also hope we are able to stack rooms in the future since we have a 2nd floor with that bigger Harvest house.\\n- Art style.\\n\\nWhat I hope improves:\\n- Farming is quite slow, hope we get some upgrades that let us automate it a bit.\\n- Storage needs more filters, especially for our furniture.\\n- More interactions with villagers!\\n- More Community function. Maybe a community chest that we can all use to share items.\\n\\nIssues: (some might just be a \"my laptop\" issue)\\n- Lighting glitches out sometimes when the time of day changes.\\n- Animals glitch out when multiple appear out of a tree at the same time.\\n- I crash almost 80% of the time when I first boot up the game. After that it runs smoothly.\\n- Bugs (insects) sometimes clip under the floor. (not talking about them despawning)\\n- Desync issues (animals/players) especially when in a party.\\n- Hair colour bug. (primary and secondary swap places and primary doesn\\'t show up)\\n- World not loading in randomly. (ground to the mines disappears. when I enter a room, all the furniture goes into the void)\\n- Chat box flickering randomly.\\n- Texture bugs. (I see large square sand textures on the floor instead of grass. Icons having a green/red square around it.)', steam_china_location='', steam_purchase=False, timestamp_created=1723942924, timestamp_updated=1723945422, voted_up=True, votes_funny=0, votes_up=1, weighted_vote_score='0.52173912525177002', written_during_early_access=False),\n",
      " Review(author=Author(last_played=1723983471, num_games_owned=3, num_reviews=1, playtime_at_review=9284, playtime_forever=9402, playtime_last_two_weeks=3701, steamid='76561199075917101'), comment_count=0, hidden_in_steam_china=True, language='english', received_for_free=False, recommendationid='172322725', review=\"---{Graphics}---\\n☐ You forget what reality is\\n☐ Beautiful\\n☐ Good\\n☑️ Decent\\n☐ Bad\\n☐ Don‘t look too long at it\\n☐ MS-DOS\\n\\n---{Gameplay}---\\n☐ Very good\\n☑️ Good\\n☐ It‘s just gameplay\\n☐ Mehh\\n☐ Watch paint dry instead\\n☐ Just don't\\n\\n---{Audio}---\\n☐ Eargasm\\n☐ Very good\\n☑️ Good\\n☐ Not too bad\\n☐ Bad\\n☐ I'm now deaf\\n\\n---{Audience}---\\n☐ Kids\\n☐ Teens\\n☐ Adults\\n☑️ All\\n\\n---{PC Requirements}---\\n☐ Check if you can run paint\\n☐ Potato\\n☑️ Decent\\n☐ Fast\\n☐ Rich boi\\n☐ Ask NASA if they have a spare computer\\n\\n---{Difficulity}---\\n☐ Just press 'W'\\n☑️ Easy\\n☑️ Significant brain usage\\n☐ Easy to learn / Hard to master\\n☐ Difficult\\n☐ Dark Souls\\n\\n---{Grind}---\\n☐ Nothing to grind\\n☐ Only if u care about leaderboards/ranks\\n☐ Isnt necessary to progress\\n☑️ Average grind level\\n☐ Too much grind\\n☐ You‘ll need a second life for grinding\\n\\n---{Story}---\\n☐ No Story\\n☐ Some lore\\n☐ Average\\n☑️ Good\\n☐ Lovely\\n☐ It‘ll replace your life\\n\\n---{Game Time}---\\n☐ Long enough for a cup of coffee\\n☐ Short\\n☐ Average\\n☐ Long\\n☑️ To infinity and beyond\\n\\n---{Price}---\\n☑️ It’s free!\\n☐ Worth the price\\n☐ If it's on sale\\n☐ If u have some spare money left\\n☐ Not recommended\\n☐ You could also just burn your money\\n\\n---{Bugs}---\\n☐ Never heard of\\n☑️ Minor bugs\\n☐ Can get annoying\\n☐ ARK: Survival Evolved\\n☐ Cyberpunk 2077\\n\\n---{?/10}---\\n☐1\\n☐2\\n☐3\\n☐4\\n☐5\\n☐6\\n☐7\\n☑️8\\n☐9\\n☐10\", steam_china_location='', steam_purchase=False, timestamp_created=1723906175, timestamp_updated=1723906175, voted_up=True, votes_funny=0, votes_up=1, weighted_vote_score='0.523809552192687988', written_during_early_access=False),\n",
      " Review(author=Author(last_played=1723905761, num_games_owned=468, num_reviews=3, playtime_at_review=6, playtime_forever=6, playtime_last_two_weeks=6, steamid='76561197993331430'), comment_count=0, hidden_in_steam_china=True, language='english', received_for_free=False, recommendationid='172322406', review=\"Runs like garbage.  I couldn't even use the menu with a M/K or controller.\", steam_china_location='', steam_purchase=False, timestamp_created=1723905830, timestamp_updated=1723905830, voted_up=False, votes_funny=0, votes_up=1, weighted_vote_score='0.5', written_during_early_access=False),\n",
      " Review(author=Author(last_played=1723671272, num_games_owned=0, num_reviews=4, playtime_at_review=281, playtime_forever=281, playtime_last_two_weeks=281, steamid='76561199445949470'), comment_count=0, hidden_in_steam_china=True, language='english', received_for_free=False, recommendationid='172297373', review=\"Practically a free Dreamlight Valley, dope map design, Customization could use a lil more options in clothing tops as well as the hairstyles and pants/bottoms but I am happy with what's there =) relaxing gameplay, fun multiplayer aspect. Because I did have a few gltiches such as trying to enter town from my farm and not being able to, and then the sky texture kinda blurred my screen once everytime I walked through a spot on my farm. ( The sky did resolve it's own issue somehow at one point lol) I enjoyed this a lot. 7/10\", steam_china_location='', steam_purchase=False, timestamp_created=1723874615, timestamp_updated=1723874615, voted_up=True, votes_funny=0, votes_up=1, weighted_vote_score='0.519230782985687256', written_during_early_access=False),\n",
      " Review(author=Author(last_played=1724171776, num_games_owned=0, num_reviews=1, playtime_at_review=21122, playtime_forever=23903, playtime_last_two_weeks=10008, steamid='76561199099563794'), comment_count=0, hidden_in_steam_china=True, language='english', received_for_free=False, recommendationid='172289040', review='A bit grindy.  A bit too structured, but sometimes confusing as to what to do next.  9/10', steam_china_location='', steam_purchase=False, timestamp_created=1723862041, timestamp_updated=1723862041, voted_up=True, votes_funny=0, votes_up=3, weighted_vote_score='0.568378031253814697', written_during_early_access=False),\n",
      " Review(author=Author(last_played=1724120976, num_games_owned=0, num_reviews=3, playtime_at_review=343, playtime_forever=2217, playtime_last_two_weeks=2217, steamid='76561199532069893'), comment_count=0, hidden_in_steam_china=True, language='english', received_for_free=False, recommendationid='172271157', review=\"This rocks! This is just like Stardew Valley and Sun Haven. You mine, fish, farm, cook, build your house and furniture, romance characters, do quests,  kill creatures, harvest plants and cut trees. You can be in a poly relationship. I'm not sure if you can marry anyone but they can be your lover. You can play with your friends like WoW. There isn't any fighting over resources when you play with your friends because even if you are working on the same tree, rock, quests, or plant, everyone receives the same resources. You can fast travel from anywhere in Palia to your home lot. You can have gliders to fly, pets, and outfits that are just for show. Fishing is a lot easier then in Stawdew Valley or Sun Haven. \\r\\n\\r\\nIt's just a really fun game. I spent 6 hours playing for the first time in one go. Great Job making it!\", steam_china_location='', steam_purchase=False, timestamp_created=1723839121, timestamp_updated=1723839121, voted_up=True, votes_funny=0, votes_up=1, weighted_vote_score='0.523809552192687988', written_during_early_access=False),\n",
      " Review(author=Author(last_played=1724171901, num_games_owned=0, num_reviews=1, playtime_at_review=10953, playtime_forever=13172, playtime_last_two_weeks=4912, steamid='76561198019162572'), comment_count=0, hidden_in_steam_china=True, language='english', received_for_free=False, recommendationid='172197981', review='I have ADHD and this game lets that run wild with a lot of things to gather and craft.  This is not a challenging game and I enjoy the stress free time.  I do think the pricing for outfits is too high for a game in Beta.  I hope there are some options for character outfits that we can unlock or earn as well.', steam_china_location='', steam_purchase=False, timestamp_created=1723752483, timestamp_updated=1723752483, voted_up=True, votes_funny=0, votes_up=1, weighted_vote_score='0.52173912525177002', written_during_early_access=False),\n",
      " Review(author=Author(last_played=1724168356, num_games_owned=22, num_reviews=4, playtime_at_review=1559, playtime_forever=3246, playtime_last_two_weeks=3246, steamid='76561198312442826'), comment_count=0, hidden_in_steam_china=True, language='english', received_for_free=True, recommendationid='172162139', review='SHE IS MINE!', steam_china_location='', steam_purchase=False, timestamp_created=1723714289, timestamp_updated=1723714406, voted_up=True, votes_funny=0, votes_up=1, weighted_vote_score='0.519999980926513672', written_during_early_access=False),\n",
      " Review(author=Author(last_played=1723709346, num_games_owned=221, num_reviews=6, playtime_at_review=720, playtime_forever=720, playtime_last_two_weeks=720, steamid='76561198010908296'), comment_count=0, hidden_in_steam_china=True, language='english', received_for_free=False, recommendationid='172159008', review=\"I would trade a couple of game systems for more charm. It's by no means soulless, but for a cozy game it falls short imo.\", steam_china_location='', steam_purchase=False, timestamp_created=1723709587, timestamp_updated=1723709587, voted_up=False, votes_funny=0, votes_up=1, weighted_vote_score='0.523809552192687988', written_during_early_access=False),\n",
      " Review(author=Author(last_played=1724104814, num_games_owned=0, num_reviews=3, playtime_at_review=5316, playtime_forever=5944, playtime_last_two_weeks=1488, steamid='76561198104575115'), comment_count=0, hidden_in_steam_china=True, language='english', received_for_free=False, recommendationid='172138929', review=\"A game that lets you live your wildest dreams, such as earning a living by catching butterflies, being gifted a real estate for free or having friendly neighbours. \\r\\nJokes aside I didn't expect to be so enthralled by a game that looks like it was advertised for kids. Turned out the house decorating system is great and I'm also dying to get to know the villagers' backstories (the emotional baggage will end me). The daily schedule of villagers gives the player the impression of a living village, with npcs having their duties and habits. There's also romance. <3 For those who get bored fast Palia has a bunch of minigames, including simple but fun temple puzzles, arcade, agility tests and a game of cards you play with other players. The community is friendly and very helpful. Overall 10/10 cozy game to relax after a long day of trying to earn for a house irl. \\r\\n\", steam_china_location='', steam_purchase=False, timestamp_created=1723676821, timestamp_updated=1723676821, voted_up=True, votes_funny=0, votes_up=1, weighted_vote_score='0.523809552192687988', written_during_early_access=False),\n",
      " Review(author=Author(last_played=1723899139, num_games_owned=4, num_reviews=2, playtime_at_review=22974, playtime_forever=24851, playtime_last_two_weeks=5832, steamid='76561199652985449'), comment_count=0, hidden_in_steam_china=True, language='english', received_for_free=False, recommendationid='172108147', review='I really loved this game at first and got hooked right off the bat because i love grind to improve type of games....\\n\\nThe problem with this game overall is theres not enough information given to players about whats going on and what there is to look forward to and etc. LACK OF COMMUNICATION AND NEWS ALERTS THAT INFORM PLAYERS OF WHATS TO COME AND TO STAY TUNED FOR WITH NO TIME IN ADVANCE TO CONSIDER WHICH LEAVES PLAYERS FEELING SCAMMED TO THE POINT THEY DO NOT EVEN WANT TO PLAY THE GAME ANYMORE LET ALONE SUPPORT IT WHEN THEY HAVE BEEN MADE TO FEEL REGRET AND LIKE A FOOL AFTER SAID PURCHASE TO HELP SUPPORT SAID GAME..\\n\\nFor example. I decided to get two outfits yesterday upon one i really liked being released and they put the outfit in game and set it at 1700 in game coins which is ... A lot for a person of below average income but i said oh well it will make me happy BECAUSE  the game makes me happy and so i bit the bullet... Only to feel like a complete  FOOL when not even a few hours later they cut the prices down on the two outfits i bought full price IN LITERAL HALF just after i bought them for double the price. without ZERO NOTICE or NEWS ALERT... Feeling literally scammed out of my money THAT i could have literally stretched and gotten more out of and quite frankly like i just got ripped off considering they gave ZERO news alerts about the outfits being reduced in price AND ETC... but hey i guess they were dirty like that and most likely did it on purpose... im sure theres more folks like me feeling absolutely blind-sighted by the price-drop they did shortly after releasing it at a high one....like its absolutely ridiculous.... Literally any player who would have known would have waited to get it for half the price the same day it was released OBVIOUSLY but noooo. They gave ZERO NOTICE nor NEWS ALERTS IN GAME about this pricedrop ...ONLY ABOUT IT BEING RELEASED.... money grabbed players upon its immediate release at 1700 ... oh and the other outfit i got they cut down from 1275 to 678 or something just for even more collateral damage to my feelings of the purchases i regret more then anything now. \\n\\nIt wouldnt have even bothered me if they atleast gave notice or immediatly released the outfits at the cutdown price. Its the principal of the matter and their antic  that literally TURNED ME STRAIGHT OFF from even wanting to play the game after feeling scammed like im sure others who did the same thing i did feel... the only thing that would make me feel better about it is if they corrected the wrong doing and made me feel whole which i have yet to hear back about after foling a ticket. Like that antic literally just costed them a consumer that was happy to support the game in the future with upcoming packs and etc.... Aint no way ill ever spend another penny on this game again just for the rug-pull of a move they did with the new outfit releast today. Nope. Thats hurtful to your customers. I dont get why they would even do that....\\n\\nsmh ... Disappointed is an understatement for what they did. I get its a free game but i cant believe this game doing this to the ones that DO support them ?\\n\\nThey literally ....\\n\\nReleased New out fit at double the price and then dropped it to half in not even a few hours.... YEAH I FEEL BAD FOR US PLAYERS WHO GOT PLAYED... good job????! like all u guys did was hurt the people who support you by doing that to not one but two of the outfits.... not nice.... Had it been made aware in game via the news alerts i wouldnt even be mad and take that L but yeah... LACK OF COMMUNICATION ON GAME STAFF BEHALF and just wanting to make people spend more to spend more and then doing that to them...  Imagine making your supporters feel STUPID? smh.....', steam_china_location='', steam_purchase=False, timestamp_created=1723642021, timestamp_updated=1723642021, voted_up=False, votes_funny=3, votes_up=1, weighted_vote_score='0.52173912525177002', written_during_early_access=False),\n",
      " Review(author=Author(last_played=1723593203, num_games_owned=0, num_reviews=3, playtime_at_review=1900, playtime_forever=1900, playtime_last_two_weeks=1, steamid='76561198010402440'), comment_count=0, hidden_in_steam_china=True, language='english', received_for_free=False, recommendationid='172075705', review=\"One of my favorite cozy/relaxing games. Highly recommend it if you're looking for something to wind down after a long day.\", steam_china_location='', steam_purchase=False, timestamp_created=1723593232, timestamp_updated=1723593232, voted_up=True, votes_funny=0, votes_up=1, weighted_vote_score='0.523809552192687988', written_during_early_access=False)]\n"
     ]
    }
   ],
   "source": [
    "palia_id = 2707930\n",
    "dota_id = 10\n",
    "\n",
    "from typing import List\n",
    "from pydantic import BaseModel\n",
    "\n",
    "class Author(BaseModel):\n",
    "    last_played: int\n",
    "    num_games_owned: int\n",
    "    num_reviews: int\n",
    "    playtime_at_review: int\n",
    "    playtime_forever: int\n",
    "    playtime_last_two_weeks: int\n",
    "    steamid: str\n",
    "\n",
    "class Review(BaseModel):\n",
    "    author: Author\n",
    "    comment_count: int\n",
    "    hidden_in_steam_china: bool\n",
    "    language: str\n",
    "    received_for_free: bool\n",
    "    recommendationid: str\n",
    "    review: str\n",
    "    steam_china_location: str\n",
    "    steam_purchase: bool\n",
    "    timestamp_created: int\n",
    "    timestamp_updated: int\n",
    "    voted_up: bool\n",
    "    votes_funny: int\n",
    "    votes_up: int\n",
    "    weighted_vote_score: str\n",
    "    written_during_early_access: bool\n",
    "\n",
    "class QuerySummary(BaseModel):\n",
    "    num_reviews: int\n",
    "    review_score: int\n",
    "    review_score_desc: str\n",
    "    total_positive: int\n",
    "    total_negative: int\n",
    "    total_reviews: int\n",
    "\n",
    "class SteamResponse(BaseModel):\n",
    "    cursor: str\n",
    "    query_summary: QuerySummary\n",
    "    reviews: List[Review]\n",
    "    success: int\n",
    "\n",
    "def get_reviews(steam_id: int, num_reviews=100) -> List[Review]:\n",
    "    # TODO: Language filter, pagination\n",
    "    response = requests.get(\n",
    "        f\"https://store.steampowered.com/appreviews/{steam_id}\", \n",
    "        params={\n",
    "            \"json\": 1, \n",
    "            \"language\": \"english\", \n",
    "            \"purchase_type\": \"all\", \n",
    "            # \"num_per_page\": 20, \n",
    "            # \"filter\": \"recent\", \n",
    "            # \"review_type\": \"all\", \n",
    "            # \"cursor\": \"*\", \n",
    "            # \"day_range\": 365, \n",
    "            # \"filter_offtopic_activity\": 0\n",
    "            })\n",
    "    response.raise_for_status()\n",
    "\n",
    "    response_data = SteamResponse(**response.json())\n",
    "\n",
    "    return response_data.reviews\n",
    "\n",
    "reviews = get_reviews(palia_id)\n",
    "\n",
    "from pprint import pprint\n",
    "pprint(reviews)"
   ]
  },
  {
   "cell_type": "code",
   "execution_count": 10,
   "metadata": {},
   "outputs": [
    {
     "name": "stdout",
     "output_type": "stream",
     "text": [
      "{'author': {'last_played': 1724172198,\n",
      "            'num_games_owned': 2,\n",
      "            'num_reviews': 1,\n",
      "            'playtime_at_review': 1818,\n",
      "            'playtime_forever': 2000,\n",
      "            'playtime_last_two_weeks': 2000,\n",
      "            'steamid': '76561199353237050'},\n",
      " 'comment_count': 0,\n",
      " 'hidden_in_steam_china': True,\n",
      " 'language': 'english',\n",
      " 'received_for_free': False,\n",
      " 'recommendationid': '172626263',\n",
      " 'review': 'very good game, fun game\\r\\n',\n",
      " 'steam_china_location': '',\n",
      " 'steam_purchase': False,\n",
      " 'timestamp_created': 1724161259,\n",
      " 'timestamp_updated': 1724161259,\n",
      " 'voted_up': True,\n",
      " 'votes_funny': 0,\n",
      " 'votes_up': 1,\n",
      " 'weighted_vote_score': '0.509803950786590576',\n",
      " 'written_during_early_access': False}\n"
     ]
    }
   ],
   "source": [
    "pprint(reviews[\"reviews\"][0])"
   ]
  },
  {
   "cell_type": "code",
   "execution_count": null,
   "metadata": {
    "vscode": {
     "languageId": "yaml"
    }
   },
   "outputs": [],
   "source": [
    "from pydantic import BaseModel\n",
    "\n",
    "class Author(BaseModel):\n",
    "    last_played: int\n",
    "    num_games_owned: int\n",
    "    num_reviews: int\n",
    "    playtime_at_review: int\n",
    "    playtime_forever: int\n",
    "    playtime_last_two_weeks: int\n",
    "    steamid: str\n",
    "\n",
    "class Review(BaseModel):\n",
    "    author: Author\n",
    "    comment_count: int\n",
    "    hidden_in_steam_china: bool\n",
    "    language: str\n",
    "    received_for_free: bool\n",
    "    recommendationid: str\n",
    "    review: str\n",
    "    steam_china_location: str\n",
    "    steam_purchase: bool\n",
    "    timestamp_created: int\n",
    "    timestamp_updated: int\n",
    "    voted_up: bool\n",
    "    votes_funny: int\n",
    "    votes_up: int\n",
    "    weighted_vote_score: str\n",
    "    written_during_early_access: bool"
   ]
  },
  {
   "cell_type": "code",
   "execution_count": null,
   "metadata": {},
   "outputs": [],
   "source": []
  }
 ],
 "metadata": {
  "kernelspec": {
   "display_name": ".venv",
   "language": "python",
   "name": "python3"
  },
  "language_info": {
   "codemirror_mode": {
    "name": "ipython",
    "version": 3
   },
   "file_extension": ".py",
   "mimetype": "text/x-python",
   "name": "python",
   "nbconvert_exporter": "python",
   "pygments_lexer": "ipython3",
   "version": "3.10.12"
  }
 },
 "nbformat": 4,
 "nbformat_minor": 2
}
