{
 "cells": [
  {
   "cell_type": "code",
   "execution_count": 1,
   "metadata": {},
   "outputs": [
    {
     "data": {
      "text/plain": [
       "'/home/keith/company-detective/.cache/langchain.sqlite'"
      ]
     },
     "execution_count": 1,
     "metadata": {},
     "output_type": "execute_result"
    }
   ],
   "source": [
    "from core import CompanyProduct, init_langchain_cache, init_requests_cache\n",
    "\n",
    "init_requests_cache()\n",
    "init_langchain_cache()\n",
    "\n"
   ]
  },
  {
   "cell_type": "code",
   "execution_count": 2,
   "metadata": {},
   "outputs": [
    {
     "name": "stderr",
     "output_type": "stream",
     "text": [
      "\u001b[32m2024-08-19 08:57:11.980\u001b[0m | \u001b[34m\u001b[1mDEBUG   \u001b[0m | \u001b[36msearch\u001b[0m:\u001b[36msearch\u001b[0m:\u001b[36m68\u001b[0m - \u001b[34m\u001b[1mGoogle search results: {'kind': 'customsearch#search', 'url': {'type': 'application/json', 'template': 'https://www.googleapis.com/customsearch/v1?q={searchTerms}&num={count?}&start={startIndex?}&lr={language?}&safe={safe?}&cx={cx?}&sort={sort?}&filter={filter?}&gl={gl?}&cr={cr?}&googlehost={googleHost?}&c2coff={disableCnTwTranslation?}&hq={hq?}&hl={hl?}&siteSearch={siteSearch?}&siteSearchFilter={siteSearchFilter?}&exactTerms={exactTerms?}&excludeTerms={excludeTerms?}&linkSite={linkSite?}&orTerms={orTerms?}&dateRestrict={dateRestrict?}&lowRange={lowRange?}&highRange={highRange?}&searchType={searchType}&fileType={fileType?}&rights={rights?}&imgSize={imgSize?}&imgType={imgType?}&imgColorType={imgColorType?}&imgDominantColor={imgDominantColor?}&alt=json'}, 'queries': {'request': [{'title': 'Google Custom Search - site:reddit.com \"Singularity 6\"\" \"Palia\"', 'totalResults': '2060', 'searchTerms': 'site:reddit.com \"Singularity 6\"\" \"Palia\"', 'count': 4, 'startIndex': 1, 'language': 'lang_en', 'inputEncoding': 'utf8', 'outputEncoding': 'utf8', 'safe': 'off', 'cx': 'd5705c8967e3c4d63', 'gl': 'us', 'hl': 'en'}], 'nextPage': [{'title': 'Google Custom Search - site:reddit.com \"Singularity 6\"\" \"Palia\"', 'totalResults': '2060', 'searchTerms': 'site:reddit.com \"Singularity 6\"\" \"Palia\"', 'count': 4, 'startIndex': 5, 'language': 'lang_en', 'inputEncoding': 'utf8', 'outputEncoding': 'utf8', 'safe': 'off', 'cx': 'd5705c8967e3c4d63', 'gl': 'us', 'hl': 'en'}]}, 'context': {'title': 'company_detective'}, 'searchInformation': {'searchTime': 0.184429, 'formattedSearchTime': '0.18', 'totalResults': '2060', 'formattedTotalResults': '2,060'}, 'items': [{'kind': 'customsearch#result', 'title': 'Palia developers, Singularity 6, axes 35% of staff just after Steam ...', 'htmlTitle': '<b>Palia</b> developers, <b>Singularity 6</b>, axes 35% of staff just after Steam ...', 'link': 'https://www.reddit.com/r/MMORPG/comments/1bz2e0z/palia_developers_singularity_6_axes_35_of_staff/', 'displayLink': 'www.reddit.com', 'snippet': 'Apr 9, 2024 ... Palia developers, Singularity 6, axes 35% of staff just after Steam launch ... Palia isn\\'t quite an \"MMO\" but it\\'s still news. The developers have\\xa0...', 'htmlSnippet': 'Apr 9, 2024 <b>...</b> <b>Palia</b> developers, <b>Singularity 6</b>, axes 35% of staff just after Steam launch ... <b>Palia</b> isn&#39;t quite an &quot;MMO&quot; but it&#39;s still news. The developers have&nbsp;...', 'formattedUrl': 'https://www.reddit.com/.../palia_developers_singularity_6_axes_35_of_staf...', 'htmlFormattedUrl': 'https://www.reddit.com/.../<b>palia</b>_developers_<b>singularity_6</b>_axes_35_of_staf...', 'pagemap': {'cse_thumbnail': [{'src': 'https://encrypted-tbn0.gstatic.com/images?q=tbn:ANd9GcT6Dn6lCbhmplcefbvBLhUtZDfH1AzbWAi3yAXFGEpqX7D5tpyOYxUOGZzi&s', 'width': '300', 'height': '168'}], 'metatags': [{'og:image': 'https://external-preview.redd.it/palia-developers-singularity-6-axes-35-of-staff-just-after-v0-GIWhxWXcWWG3qaFqpledKI3bm93eRTQ-AcluTLNBDDo.jpg?width=1080&crop=smart&auto=webp&s=7b7d738b1aaf1510c7155a016b9f9283933498fe', 'theme-color': '#000000', 'og:image:width': '1080', 'og:type': 'website', 'twitter:card': 'summary_large_image', 'twitter:title': 'r/MMORPG on Reddit: Palia developers, Singularity 6, axes 35% of staff just after Steam launch', 'og:site_name': 'Reddit', 'og:title': 'r/MMORPG on Reddit: Palia developers, Singularity 6, axes 35% of staff just after Steam launch', 'og:image:height': '607', 'msapplication-navbutton-color': '#000000', 'og:description': 'Posted by u/Hexdro - 219 votes and 148 comments', 'twitter:image': 'https://external-preview.redd.it/palia-developers-singularity-6-axes-35-of-staff-just-after-v0-GIWhxWXcWWG3qaFqpledKI3bm93eRTQ-AcluTLNBDDo.jpg?width=1080&crop=smart&auto=webp&s=7b7d738b1aaf1510c7155a016b9f9283933498fe', 'apple-mobile-web-app-status-bar-style': 'black', 'twitter:site': '@reddit', 'viewport': 'width=device-width, initial-scale=1, viewport-fit=cover', 'apple-mobile-web-app-capable': 'yes', 'og:ttl': '600', 'og:url': 'https://www.reddit.com/r/MMORPG/comments/1bz2e0z/palia_developers_singularity_6_axes_35_of_staff/'}], 'cse_image': [{'src': 'https://external-preview.redd.it/palia-developers-singularity-6-axes-35-of-staff-just-after-v0-GIWhxWXcWWG3qaFqpledKI3bm93eRTQ-AcluTLNBDDo.jpg?width=1080&crop=smart&auto=webp&s=7b7d738b1aaf1510c7155a016b9f9283933498fe'}]}}, {'kind': 'customsearch#result', 'title': 'Daybreak acquires Singularity 6 (Palia developer) : r/MMORPG', 'htmlTitle': 'Daybreak acquires <b>Singularity 6</b> (<b>Palia</b> developer) : r/MMORPG', 'link': 'https://www.reddit.com/r/MMORPG/comments/1dtp97n/daybreak_acquires_singularity_6_palia_developer/', 'displayLink': 'www.reddit.com', 'snippet': 'Jul 2, 2024 ... Daybreak acquires Singularity 6 (Palia developer) ... Can somebody finally buy Wildstar from NCsoft and re-launch my favorite mmorpg of all times?', 'htmlSnippet': 'Jul 2, 2024 <b>...</b> Daybreak acquires <b>Singularity 6</b> (<b>Palia</b> developer) ... Can somebody finally buy Wildstar from NCsoft and re-launch my favorite mmorpg of all times?', 'formattedUrl': 'https://www.reddit.com/.../daybreak_acquires_singularity_6_palia_develop...', 'htmlFormattedUrl': 'https://www.reddit.com/.../daybreak_acquires_<b>singularity_6</b>_<b>palia</b>_develop...', 'pagemap': {'cse_thumbnail': [{'src': 'https://encrypted-tbn0.gstatic.com/images?q=tbn:ANd9GcR-Ku0il2ORwE_ZvafGawxoAdFT0q7xTaAxUSDwfYAfknUsva-HC6QI11sQ&s', 'width': '310', 'height': '163'}], 'metatags': [{'og:image': 'https://external-preview.redd.it/daybreak-acquires-singularity-6-palia-developer-v0-P_xVgsCQEOCZlbf862zHmhBmIN0FHdThTHSWNXhxeyk.jpg?width=1080&crop=smart&auto=webp&s=dca3713aa8256861e17dcadf70f1396e7d6977af', 'theme-color': '#000000', 'og:image:width': '1080', 'og:type': 'website', 'twitter:card': 'summary_large_image', 'twitter:title': 'r/MMORPG on Reddit: Daybreak acquires Singularity 6 (Palia developer)', 'og:site_name': 'Reddit', 'og:title': 'r/MMORPG on Reddit: Daybreak acquires Singularity 6 (Palia developer)', 'og:image:height': '567', 'msapplication-navbutton-color': '#000000', 'og:description': 'Posted by u/Kaladinar - 130 votes and 189 comments', 'twitter:image': 'https://external-preview.redd.it/daybreak-acquires-singularity-6-palia-developer-v0-P_xVgsCQEOCZlbf862zHmhBmIN0FHdThTHSWNXhxeyk.jpg?width=1080&crop=smart&auto=webp&s=dca3713aa8256861e17dcadf70f1396e7d6977af', 'apple-mobile-web-app-status-bar-style': 'black', 'twitter:site': '@reddit', 'viewport': 'width=device-width, initial-scale=1, viewport-fit=cover', 'apple-mobile-web-app-capable': 'yes', 'og:ttl': '600', 'og:url': 'https://www.reddit.com/r/MMORPG/comments/1dtp97n/daybreak_acquires_singularity_6_palia_developer/'}], 'cse_image': [{'src': 'https://external-preview.redd.it/daybreak-acquires-singularity-6-palia-developer-v0-P_xVgsCQEOCZlbf862zHmhBmIN0FHdThTHSWNXhxeyk.jpg?width=1080&crop=smart&auto=webp&s=dca3713aa8256861e17dcadf70f1396e7d6977af'}]}}, {'kind': 'customsearch#result', 'title': 'Cozy MMO Palia Developer Singularity 6 Has Suffered Layoffs : r ...', 'htmlTitle': 'Cozy MMO <b>Palia</b> Developer <b>Singularity 6</b> Has Suffered Layoffs : r ...', 'link': 'https://www.reddit.com/r/pcgaming/comments/1bwiuin/cozy_mmo_palia_developer_singularity_6_has/', 'displayLink': 'www.reddit.com', 'snippet': 'Apr 5, 2024 ... Cozy MMO Palia Developer Singularity 6 Has Suffered Layoffs ... The game is just not very good. For a life Sim it lacks basic features, the\\xa0...', 'htmlSnippet': 'Apr 5, 2024 <b>...</b> Cozy MMO <b>Palia</b> Developer <b>Singularity 6</b> Has Suffered Layoffs ... The game is just not very good. For a life Sim it lacks basic features, the&nbsp;...', 'formattedUrl': 'https://www.reddit.com/r/.../cozy_mmo_palia_developer_singularity_6_has...', 'htmlFormattedUrl': 'https://www.reddit.com/r/.../cozy_mmo_<b>palia</b>_developer_<b>singularity_6</b>_has...', 'pagemap': {'cse_thumbnail': [{'src': 'https://encrypted-tbn0.gstatic.com/images?q=tbn:ANd9GcTxvAjWjvShFqEJ43f5pGrq3vhUXXkw78vfN62laVfqHDaaoDKMd8DoSLU&s', 'width': '297', 'height': '170'}], 'metatags': [{'og:image': 'https://external-preview.redd.it/cozy-mmo-palia-developer-singularity-6-has-suffered-layoffs-v0-l6kmIef3L5FWUiv5yotKrjWuYuaS9oe8eGrpXivVfcI.jpg?auto=webp&s=b68c0c1f9f2a8abdbc794198143f0ac2c6e43c83', 'theme-color': '#000000', 'og:image:width': '700', 'og:type': 'website', 'twitter:card': 'summary_large_image', 'twitter:title': 'r/pcgaming on Reddit: Cozy MMO Palia Developer Singularity 6 Has Suffered Layoffs', 'og:site_name': 'Reddit', 'og:title': 'r/pcgaming on Reddit: Cozy MMO Palia Developer Singularity 6 Has Suffered Layoffs', 'og:image:height': '400', 'msapplication-navbutton-color': '#000000', 'og:description': 'Posted by u/quinn50 - 220 votes and 107 comments', 'twitter:image': 'https://external-preview.redd.it/cozy-mmo-palia-developer-singularity-6-has-suffered-layoffs-v0-l6kmIef3L5FWUiv5yotKrjWuYuaS9oe8eGrpXivVfcI.jpg?auto=webp&s=b68c0c1f9f2a8abdbc794198143f0ac2c6e43c83', 'apple-mobile-web-app-status-bar-style': 'black', 'twitter:site': '@reddit', 'viewport': 'width=device-width, initial-scale=1, viewport-fit=cover', 'apple-mobile-web-app-capable': 'yes', 'og:ttl': '600', 'og:url': 'https://www.reddit.com/r/pcgaming/comments/1bwiuin/cozy_mmo_palia_developer_singularity_6_has/'}], 'cse_image': [{'src': 'https://external-preview.redd.it/cozy-mmo-palia-developer-singularity-6-has-suffered-layoffs-v0-l6kmIef3L5FWUiv5yotKrjWuYuaS9oe8eGrpXivVfcI.jpg?auto=webp&s=b68c0c1f9f2a8abdbc794198143f0ac2c6e43c83'}]}}, {'kind': 'customsearch#result', 'title': 'Daybreak acquires Singularity 6, developer of Palia : r/CozyGamers', 'htmlTitle': 'Daybreak acquires <b>Singularity 6</b>, developer of <b>Palia</b> : r/CozyGamers', 'link': 'https://www.reddit.com/r/CozyGamers/comments/1dt80wx/daybreak_acquires_singularity_6_developer_of_palia/', 'displayLink': 'www.reddit.com', 'snippet': 'Jul 1, 2024 ... Daybreak acquires Singularity 6, developer of Palia ... Not a good news for Palia. Daybreak track record is not very good as they cancel alot of\\xa0...', 'htmlSnippet': 'Jul 1, 2024 <b>...</b> Daybreak acquires <b>Singularity 6</b>, developer of <b>Palia</b> ... Not a good news for <b>Palia</b>. Daybreak track record is not very good as they cancel alot of&nbsp;...', 'formattedUrl': 'https://www.reddit.com/.../daybreak_acquires_singularity_6_developer_of_...', 'htmlFormattedUrl': 'https://www.reddit.com/.../daybreak_acquires_<b>singularity_6</b>_developer_of_...', 'pagemap': {'cse_thumbnail': [{'src': 'https://encrypted-tbn0.gstatic.com/images?q=tbn:ANd9GcSKHpKUa36O-wGcgp7fqdSPre--Ick18e_tTFWIkQ-6vcWqyw4TIqxp0jA&s', 'width': '199', 'height': '253'}], 'metatags': [{'og:image': 'https://preview.redd.it/daybreak-acquires-singularity-6-developer-of-palia-v0-0zp7hqn7xz9d1.jpeg?width=1080&crop=smart&auto=webp&s=c74f1e324de579bc67b471c84d09cb8442de9449', 'theme-color': '#000000', 'og:image:width': '1080', 'og:type': 'website', 'twitter:card': 'summary_large_image', 'twitter:title': 'r/CozyGamers on Reddit: Daybreak acquires Singularity 6, developer of Palia', 'og:site_name': 'Reddit', 'og:title': 'r/CozyGamers on Reddit: Daybreak acquires Singularity 6, developer of Palia', 'og:image:height': '1374', 'msapplication-navbutton-color': '#000000', 'og:description': 'Posted by u/Consistent-Hat-8008 - 18 votes and 15 comments', 'twitter:image': 'https://preview.redd.it/daybreak-acquires-singularity-6-developer-of-palia-v0-0zp7hqn7xz9d1.jpeg?width=1080&crop=smart&auto=webp&s=c74f1e324de579bc67b471c84d09cb8442de9449', 'apple-mobile-web-app-status-bar-style': 'black', 'twitter:site': '@reddit', 'viewport': 'width=device-width, initial-scale=1, viewport-fit=cover', 'apple-mobile-web-app-capable': 'yes', 'og:ttl': '600', 'og:url': 'https://www.reddit.com/r/CozyGamers/comments/1dt80wx/daybreak_acquires_singularity_6_developer_of_palia/'}], 'cse_image': [{'src': 'https://preview.redd.it/daybreak-acquires-singularity-6-developer-of-palia-v0-0zp7hqn7xz9d1.jpeg?width=1080&crop=smart&auto=webp&s=c74f1e324de579bc67b471c84d09cb8442de9449'}]}}]}\u001b[0m\n",
      "\u001b[32m2024-08-19 08:57:12.585\u001b[0m | \u001b[1mINFO    \u001b[0m | \u001b[36mcore\u001b[0m:\u001b[36mshorten_markdown\u001b[0m:\u001b[36m179\u001b[0m - \u001b[1m36,249 -> 29,288 chars (81% of original)\u001b[0m\n",
      "\u001b[32m2024-08-19 08:57:12.586\u001b[0m | \u001b[1mINFO    \u001b[0m | \u001b[36mcore\u001b[0m:\u001b[36mshorten_markdown\u001b[0m:\u001b[36m179\u001b[0m - \u001b[1m44,029 -> 33,791 chars (77% of original)\u001b[0m\n",
      "\u001b[32m2024-08-19 08:57:12.587\u001b[0m | \u001b[1mINFO    \u001b[0m | \u001b[36mcore\u001b[0m:\u001b[36mshorten_markdown\u001b[0m:\u001b[36m179\u001b[0m - \u001b[1m24,390 -> 18,457 chars (76% of original)\u001b[0m\n",
      "\u001b[32m2024-08-19 08:57:12.588\u001b[0m | \u001b[1mINFO    \u001b[0m | \u001b[36mcore\u001b[0m:\u001b[36mshorten_markdown\u001b[0m:\u001b[36m179\u001b[0m - \u001b[1m3,228 -> 2,119 chars (66% of original)\u001b[0m\n",
      "\u001b[32m2024-08-19 08:57:12.680\u001b[0m | \u001b[1mINFO    \u001b[0m | \u001b[36mcore\u001b[0m:\u001b[36munshorten_markdown\u001b[0m:\u001b[36m194\u001b[0m - \u001b[1m4,343 -> 6,536 chars (150% of original)\u001b[0m\n",
      "\u001b[32m2024-08-19 08:57:12.681\u001b[0m | \u001b[1mINFO    \u001b[0m | \u001b[36mreddit.summarizer\u001b[0m:\u001b[36msummarize\u001b[0m:\u001b[36m137\u001b[0m - \u001b[1mReddit: Extract stage 107,896 chars -> 6,411 chars (6%)\u001b[0m\n",
      "\u001b[32m2024-08-19 08:57:12.681\u001b[0m | \u001b[1mINFO    \u001b[0m | \u001b[36mreddit.summarizer\u001b[0m:\u001b[36msummarize\u001b[0m:\u001b[36m143\u001b[0m - \u001b[1mReddit: Combine stage 6,411 chars -> 6,536 chars (102%)\u001b[0m\n"
     ]
    }
   ],
   "source": [
    "import reddit\n",
    "\n",
    "# search, filter, and summarize!\n",
    "target = CompanyProduct(\"Singularity 6\", \"Palia\")\n",
    "reddit_result = reddit.run(target, num_threads=4)"
   ]
  },
  {
   "cell_type": "code",
   "execution_count": 3,
   "metadata": {},
   "outputs": [
    {
     "name": "stdout",
     "output_type": "stream",
     "text": [
      "# Sentiment on Palia\n",
      "\n",
      "## Negative Sentiment\n",
      "- \"Palia felt restrictive.\" [generalmasandra, Reddit, 2024-04-08](https://www.reddit.com/r/MMORPG/comments/1bz2e0z/palia_developers_singularity_6_axes_35_of_staff/kyn4d7g/)\n",
      "- \"The gameplay loop was so insanely boring, only two zones and max. 24 other Players with you on one map.\" [Labskaus77, Reddit, 2024-04-08](https://www.reddit.com/r/MMORPG/comments/1bz2e0z/palia_developers_singularity_6_axes_35_of_staff/kyn2w40/)\n",
      "- \"I was looking forward to this game for close to 2 years. It's a massive disappointment even for early access.\" [Grinning_Sun, Reddit, 2024-04-08](https://www.reddit.com/r/MMORPG/comments/1bz2e0z/palia_developers_singularity_6_axes_35_of_staff/kyn4q33/)\n",
      "- \"Palia was a big miss for me, and I'm basically the intended audience. I love cozy and crafting games, and love MMOs. But it had none of the charm that most good cozy games have, and pretty awful monetization.\" [Cavissi, Reddit, 2024-07-02](https://www.reddit.com/r/MMORPG/comments/1dtp97n/daybreak_acquires_singularity_6_palia_developer/lbbellw/)\n",
      "- \"I gave that game 2 months. They spent 8 years making that game. Two tiny maps. Barely any content. A shit ton of boring cash shop stuff with no way to unlock new clothing in-game.\" [MyStationIsAbandoned, Reddit, 2024-07-02](https://www.reddit.com/r/MMORPG/comments/1dtp97n/daybreak_acquires_singularity_6_palia_developer/lbcd04q/)\n",
      "- \"Palia was such a let down. The devs themselves were greedy and lazy and doubled down when called out about it.\" [LostMinimum8404, Reddit, 2024-07-02](https://www.reddit.com/r/MMORPG/comments/1dtp97n/daybreak_acquires_singularity_6_palia_developer/lbbkb5g/)\n",
      "- \"Palia failed as a game and failed their objectives. This is the confirmation.\" [Ic3b3rgS, Reddit, 2024-07-03](https://www.reddit.com/r/MMORPG/comments/1dtp97n/daybreak_acquires_singularity_6_palia_developer/lbd8iv3/)\n",
      "- \"Palia so boring, after 10-20h playing, it's like other farm simulator, but the same Stardew Valley, being essentially a single-player game, is much more exciting and replayable than this 'MMO'.\" [Sand3rok, Reddit, 2024-07-03](https://www.reddit.com/r/MMORPG/comments/1dtp97n/daybreak_acquires_singularity_6_palia_developer/lbf72zi/)\n",
      "- \"The game has shit monetization anyway with cosmetics being 99% locked behind the shop.\" [Puffelpuff, Reddit, 2024-07-03](https://www.reddit.com/r/MMORPG/comments/1dtp97n/daybreak_acquires_singularity_6_palia_developer/lbeo38c/)\n",
      "- \"The game is just not very good. For a life Sim it lacks basic features, the decorating is nice but you can hardly interact with anything.\" [Cavissi, Reddit, 2024-04-05](https://www.reddit.com/r/pcgaming/comments/1bwiuin/cozy_mmo_palia_developer_singularity_6_has/ky6tkrn/)\n",
      "- \"Game is just bad. Ain't even an MMO but an instances game pretending to be an mmo.\" [Lights9, Reddit, 2024-04-05](https://www.reddit.com/r/pcgaming/comments/1bwiuin/cozy_mmo_palia_developer_singularity_6_has/ky6nw78/)\n",
      "- \"Palia is incredibly boring. They’ve spent more on adding outfits to the premium shop than actual content.\" [riddlemore, Reddit, 2024-04-05](https://www.reddit.com/r/pcgaming/comments/1bwiuin/cozy_mmo_palia_developer_singularity_6_has/ky8511k/)\n",
      "\n",
      "## Mixed Sentiment\n",
      "- \"The story and characters are great, if you like those kind of stories.\" [SvenWollinger, Reddit, 2024-04-09](https://www.reddit.com/r/MMORPG/comments/1bz2e0z/palia_developers_singularity_6_axes_35_of_staff/kypy0pe/)\n",
      "- \"I found the game to be enjoyable and relaxing.\" [HOTFIX_bryan, Reddit, 2024-04-12](https://www.reddit.com/r/MMORPG/comments/1bz2e0z/palia_developers_singularity_6_axes_35_of_staff/kz7pdar/)\n",
      "- \"The idea has potential but the execution has not been there.\" [fishingforwoos, Reddit, 2024-04-05](https://www.reddit.com/r/pcgaming/comments/1bwiuin/cozy_mmo_palia_developer_singularity_6_has/ky79arx/)\n",
      "\n",
      "## Criticism of Development and Company\n",
      "- \"The developers have axed around 35% of its staff (49 people or so) which includes people from all areas of the team.\" [Hexdro, Reddit, 2024-04-08](https://www.reddit.com/r/MMORPG/comments/1bz2e0z/palia_developers_singularity_6_axes_35_of_staff/kyn0ulm/)\n",
      "- \"The studio doesn't seem to know what it's doing or they're just trying to go after whales.\" [MyStationIsAbandoned, Reddit, 2024-04-08](https://www.reddit.com/r/MMORPG/comments/1bz2e0z/palia_developers_singularity_6_axes_35_of_staff/kyn75n0/)\n",
      "- \"I've been following the game since alpha. The core problem with this studio is that instead of listening to *years* of player feedback, they try to control the narrative and stifle discussion everywhere they can.\" [Consistent-Hat-8008, Reddit, 2024-04-05](https://www.reddit.com/r/pcgaming/comments/1bwiuin/cozy_mmo_palia_developer_singularity_6_has/ky83aom/)\n",
      "- \"The core problem is that what was available in Alpha was *exactly* what was delivered in Beta 2 years later. No progress whatsoever in the development.\" [SyleSpawn, Reddit, 2024-04-06](https://www.reddit.com/r/pcgaming/comments/1bwiuin/cozy_mmo_palia_developer_singularity_6_has/kyauig7/)\n",
      "- \"Their steam launch was a disaster and they banned 40+ long term community members from their discord in the weeks/days leading up to the steam launch.\" [nightowlcam, Reddit, 2024-04-06](https://www.reddit.com/r/pcgaming/comments/1bwiuin/cozy_mmo_palia_developer_singularity_6_has/kycu29w/)\n",
      "\n",
      "## Concerns About Future\n",
      "- \"Not a good news for Palia. Daybreak track record is not very good as they cancel a lot of games they bought.\" [RyonanGT, Reddit, 2024-07-02](https://www.reddit.com/r/CozyGamers/comments/1dt80wx/daybreak_acquires_singularity_6_developer_of_palia/lb8yx55/)\n",
      "- \"They'll loot it first likely.\" [magvadis, Reddit, 2024-07-02](cache://reddit/270]\n",
      "- \"Yeah literally the worst gaming company I know of.\" [magvadis, Reddit, 2024-07-02](https://www.reddit.com/r/CozyGamers/comments/1dt80wx/daybreak_acquires_singularity_6_developer_of_palia/lbat2at/)\n",
      "- \"RIP Palia.\" [MyPath2Follow, Reddit, 2024-07-02](https://www.reddit.com/r/CozyGamers/comments/1dt80wx/daybreak_acquires_singularity_6_developer_of_palia/lbcheo7/)\n",
      "- \"I'm crossing my fingers and hoping this goes well, but I'm preparing for the worst.\" [MyPath2Follow, Reddit, 2024-07-02](https://www.reddit.com/r/CozyGamers/comments/1dt80wx/daybreak_acquires_singularity_6_developer_of_palia/lbcheo7/)\n",
      "\n",
      "# Sentiment on Singularity 6\n",
      "- \"This game feels like some big money laundering scheme or something.\" [starry101, Reddit, 2024-04-09](https://www.reddit.com/r/MMORPG/comments/1bz2e0z/palia_developers_singularity_6_axes_35_of_staff/kypxgdb/)\n"
     ]
    }
   ],
   "source": [
    "print(reddit_result.summary.output_text)"
   ]
  },
  {
   "cell_type": "code",
   "execution_count": 4,
   "metadata": {},
   "outputs": [],
   "source": [
    "# reddit_result.threads\n",
    "\n",
    "import reddit.fetch\n",
    "thread_markdowns = [reddit.fetch.submission_to_markdown(thread) for thread in reddit_result.threads]"
   ]
  },
  {
   "cell_type": "code",
   "execution_count": 5,
   "metadata": {},
   "outputs": [
    {
     "name": "stdout",
     "output_type": "stream",
     "text": [
      "# Post ID 1bz2e0z: Palia developers, Singularity 6, axes 35% of staff just after Steam launch with +218 score by [Hexdro on 2024-04-08](https://www.reddit.com/r/MMORPG/comments/1bz2e0z/palia_developers_singularity_6_axes_35_of_staff/)\n",
      "\n",
      "\n",
      "## Comment ID kyn4d7g with +35 score by [generalmasandra on 2024-04-08](https://www.reddit.com/r/MMORPG/comments/1bz2e0z/palia_developers_singularity_6_axes_35_of_staff/kyn4d7g/) (in reply to ID 1bz2e0z):\n",
      "I got hopeful when I read former Riot, a non pvp/combat-is\n"
     ]
    }
   ],
   "source": [
    "llm_context = \"\\n\\n\".join(thread_markdowns)\n",
    "print(llm_context[:500])"
   ]
  },
  {
   "cell_type": "code",
   "execution_count": 6,
   "metadata": {},
   "outputs": [
    {
     "name": "stdout",
     "output_type": "stream",
     "text": [
      "# Sentiment on Palia\n",
      "\n",
      "## Negative Sentiment\n",
      "- \"Palia felt restrictive.\" [generalmasandra, Reddit, 2024-04-08](https://www.reddit.com/r/MMORPG/comments/1bz2e0z/palia_developers_singularity_6_axes_35_of_staff/kyn4d7g/)\n",
      "- \"The gameplay loop was so insanely boring, only two zones and max. 24 other Players with you on one map.\" [Labskaus77, Reddit, 2024-04-08](https://www.reddit.com/r/MMORPG/comments/1bz2e0z/palia_developers_singularity_6_axes_35_of_staff/kyn2w40/)\n",
      "- \"I was looking forward to this ga\n"
     ]
    }
   ],
   "source": [
    "llm_output = reddit_result.summary.output_text\n",
    "print(llm_output[:500])"
   ]
  },
  {
   "cell_type": "code",
   "execution_count": 7,
   "metadata": {},
   "outputs": [
    {
     "name": "stdout",
     "output_type": "stream",
     "text": [
      "\n",
      "Summary stats:\n",
      "- Input context length: 107,902 characters\n",
      "- Output summary length: 6,536 characters\n",
      "- Extractive fraction: 64%\n",
      "- Extractive fraction (URLs): 100%\n",
      "- Suspicious URLs: set()\n",
      "- Cache mentions: 1\n",
      "\n"
     ]
    }
   ],
   "source": [
    "from core import extractive_fraction, extractive_fraction_urls, extract_suspicious_urls, num_cache_mentions\n",
    "\n",
    "\n",
    "print(f\"\"\"\n",
    "Summary stats:\n",
    "- Input context length: {len(llm_context):,} characters\n",
    "- Output summary length: {len(llm_output):,} characters\n",
    "- Extractive fraction: {extractive_fraction(llm_output, llm_context):.0%}\n",
    "- Extractive fraction (URLs): {extractive_fraction_urls(llm_output, llm_context):.0%}\n",
    "- Suspicious URLs: {extract_suspicious_urls(llm_output, llm_context)}\n",
    "- Cache mentions: {num_cache_mentions(llm_output)}\n",
    "\"\"\")"
   ]
  },
  {
   "cell_type": "code",
   "execution_count": 8,
   "metadata": {},
   "outputs": [],
   "source": [
    "for url in extract_suspicious_urls(llm_output, llm_context):\n",
    "    print(url)\n",
    "\n",
    "    # Show the line in the summary where the URL appears\n",
    "    for line in llm_output.split(\"\\n\"):\n",
    "        if url in line:\n",
    "            print(line)\n",
    "            break\n",
    "    print()\n"
   ]
  },
  {
   "cell_type": "code",
   "execution_count": 9,
   "metadata": {},
   "outputs": [
    {
     "name": "stdout",
     "output_type": "stream",
     "text": [
      "## Comment ID lbbkb5g with +14 score by [LostMinimum8404 on 2024-07-02](https://www.reddit.com/r/MMORPG/comments/1dtp97n/daybreak_acquires_singularity_6_palia_developer/lbbkb5g/) (in reply to ID 1dtp97n):\n"
     ]
    }
   ],
   "source": [
    "for line in llm_context.split(\"\\n\"):\n",
    "    if \"LostMinimum8404\" in line:\n",
    "        print(line)\n",
    "        break"
   ]
  },
  {
   "cell_type": "code",
   "execution_count": 10,
   "metadata": {},
   "outputs": [
    {
     "data": {
      "text/plain": [
       "'\\nhttps://www.reddit.com/r/MMORPG/comments/1dtp97n/daybreak_acquires_singularity_6_palia_developer/lbkb5g/\\nhttps://www.reddit.com/r/MMORPG/comments/1dtp97n/daybreak_acquires_singularity_6_palia_developer/lbbkb5g/\\n'"
      ]
     },
     "execution_count": 10,
     "metadata": {},
     "output_type": "execute_result"
    }
   ],
   "source": [
    "\"\"\"\n",
    "https://www.reddit.com/r/MMORPG/comments/1dtp97n/daybreak_acquires_singularity_6_palia_developer/lbkb5g/\n",
    "https://www.reddit.com/r/MMORPG/comments/1dtp97n/daybreak_acquires_singularity_6_palia_developer/lbbkb5g/\n",
    "\"\"\""
   ]
  },
  {
   "cell_type": "code",
   "execution_count": 11,
   "metadata": {},
   "outputs": [
    {
     "data": {
      "text/plain": [
       "['https://www.reddit.com/r/CozyGamers/comments/1dt80wx/daybreak_acquires_singularity_6_developer_of_palia/lbat2at/']"
      ]
     },
     "execution_count": 11,
     "metadata": {},
     "output_type": "execute_result"
    }
   ],
   "source": [
    "import re\n",
    "from typing import List\n",
    "\n",
    "def extract_urls(markdown: str) -> List[str]:\n",
    "    return re.findall(r\"\\[[^]]+\\]\\(([^)\\]]+)\\)\", markdown)\n",
    "\n",
    "\n",
    "def test_extract_urls():\n",
    "    assert extract_urls(\"[a](b) [c](d)\") == [\"b\", \"d\"]\n",
    "    assert extract_urls(\"[a](b) [c](d [e](f)\") == [\"b\", \"f\"]\n",
    "\n",
    "test_extract_urls()\n",
    "\n",
    "extract_urls('[hi](cache://reddit/270]\\n- \"Yeah literally the worst gaming company I know of.\" [magvadis, Reddit, 2024-07-02](https://www.reddit.com/r/CozyGamers/comments/1dt80wx/daybreak_acquires_singularity_6_developer_of_palia/lbat2at/)')"
   ]
  },
  {
   "cell_type": "code",
   "execution_count": null,
   "metadata": {},
   "outputs": [],
   "source": []
  }
 ],
 "metadata": {
  "kernelspec": {
   "display_name": ".venv",
   "language": "python",
   "name": "python3"
  },
  "language_info": {
   "codemirror_mode": {
    "name": "ipython",
    "version": 3
   },
   "file_extension": ".py",
   "mimetype": "text/x-python",
   "name": "python",
   "nbconvert_exporter": "python",
   "pygments_lexer": "ipython3",
   "version": "3.10.12"
  }
 },
 "nbformat": 4,
 "nbformat_minor": 2
}
