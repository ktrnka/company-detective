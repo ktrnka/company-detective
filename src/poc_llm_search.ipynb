{
 "cells": [
  {
   "cell_type": "markdown",
   "metadata": {},
   "source": [
    "# LLM as the entrypoint\n",
    "\n",
    "- Inspired from https://blog.apiad.net/p/building-a-perplexity-ai-clone and others to build Perplexity.ai clones"
   ]
  },
  {
   "cell_type": "code",
   "execution_count": null,
   "metadata": {},
   "outputs": [],
   "source": [
    "from langchain_openai import ChatOpenAI\n",
    "from langchain_core.prompts import ChatPromptTemplate\n",
    "from langchain_core.messages.ai import AIMessage\n",
    "\n",
    "from pydantic import BaseModel\n",
    "from typing import List, Field\n",
    "\n",
    "class QueryExpansion(BaseModel):\n",
    "    interpretation: str = Field(description=\"interpretation of the user's information need(s)\")\n",
    "    queries: List[str] = Field(description=\"list of relevant Google searches\")\n",
    "\n",
    "_prompt = ChatPromptTemplate.from_messages(\n",
    "    [\n",
    "        (\n",
    "            \"system\",\n",
    "            \"\"\"\n",
    "Given the following question, provide a set of {num_queries} relevant Google searches that would answer the question. \n",
    "First think about the user's question and provide your own interpretation of the information need(s).\n",
    "Then generate the relevant queries.\n",
    "            \"\"\",\n",
    "        ),\n",
    "        (\n",
    "            \"human\",\n",
    "            \"\"\"\n",
    "User query: {query}\n",
    "            \"\"\",\n",
    "        ),\n",
    "    ]\n",
    ")\n",
    "\n",
    "\n",
    "\n",
    "llm = ChatOpenAI(model=\"gpt-4o-mini\", temperature=0)\n",
    "runnable = _prompt | llm.with_structured_output(QueryExpansion)\n",
    "result = runnable.invoke(\n",
    "    {\n",
    "        \"query\": \"Is 98point6 a good company to work for?\",\n",
    "        \"num_queries\": 5\n",
    "    }\n",
    ")\n",
    "\n",
    "print(result)"
   ]
  }
 ],
 "metadata": {
  "language_info": {
   "name": "python"
  }
 },
 "nbformat": 4,
 "nbformat_minor": 2
}
