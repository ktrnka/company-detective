{
 "cells": [
  {
   "cell_type": "code",
   "execution_count": 1,
   "metadata": {},
   "outputs": [
    {
     "ename": "NameError",
     "evalue": "name 'target' is not defined",
     "output_type": "error",
     "traceback": [
      "\u001b[0;31m---------------------------------------------------------------------------\u001b[0m",
      "\u001b[0;31mNameError\u001b[0m                                 Traceback (most recent call last)",
      "Cell \u001b[0;32mIn[1], line 6\u001b[0m\n\u001b[1;32m      3\u001b[0m init()\n\u001b[1;32m      5\u001b[0m \u001b[38;5;28;01mfrom\u001b[39;00m \u001b[38;5;21;01mcore\u001b[39;00m \u001b[38;5;28;01mimport\u001b[39;00m make_experiment_dir\n\u001b[0;32m----> 6\u001b[0m experiment_dir \u001b[38;5;241m=\u001b[39m make_experiment_dir(\u001b[43mtarget\u001b[49m)\n",
      "\u001b[0;31mNameError\u001b[0m: name 'target' is not defined"
     ]
    }
   ],
   "source": [
    "from core import CompanyProduct, init\n",
    "\n",
    "init()\n",
    "\n",
    "from core import make_experiment_dir\n"
   ]
  },
  {
   "cell_type": "code",
   "execution_count": 2,
   "metadata": {},
   "outputs": [],
   "source": [
    "target = CompanyProduct.same(\"Pomelo Care\")\n",
    "experiment_dir = make_experiment_dir(target)"
   ]
  },
  {
   "cell_type": "code",
   "execution_count": 3,
   "metadata": {},
   "outputs": [
    {
     "name": "stderr",
     "output_type": "stream",
     "text": [
      "\u001b[32m2024-08-19 14:05:45.129\u001b[0m | \u001b[34m\u001b[1mDEBUG   \u001b[0m | \u001b[36msearch\u001b[0m:\u001b[36msearch\u001b[0m:\u001b[36m65\u001b[0m - \u001b[34m\u001b[1mGoogle search results: {'kind': 'customsearch#search', 'url': {'type': 'application/json', 'template': 'https://www.googleapis.com/customsearch/v1?q={searchTerms}&num={count?}&start={startIndex?}&lr={language?}&safe={safe?}&cx={cx?}&sort={sort?}&filter={filter?}&gl={gl?}&cr={cr?}&googlehost={googleHost?}&c2coff={disableCnTwTranslation?}&hq={hq?}&hl={hl?}&siteSearch={siteSearch?}&siteSearchFilter={siteSearchFilter?}&exactTerms={exactTerms?}&excludeTerms={excludeTerms?}&linkSite={linkSite?}&orTerms={orTerms?}&dateRestrict={dateRestrict?}&lowRange={lowRange?}&highRange={highRange?}&searchType={searchType}&fileType={fileType?}&rights={rights?}&imgSize={imgSize?}&imgType={imgType?}&imgColorType={imgColorType?}&imgDominantColor={imgDominantColor?}&alt=json'}, 'queries': {'request': [{'title': 'Google Custom Search - site:www.indeed.com/cmp \"Pomelo Care\"', 'totalResults': '8', 'searchTerms': 'site:www.indeed.com/cmp \"Pomelo Care\"', 'count': 8, 'startIndex': 1, 'language': 'lang_en', 'inputEncoding': 'utf8', 'outputEncoding': 'utf8', 'safe': 'off', 'cx': 'd5705c8967e3c4d63', 'gl': 'us', 'hl': 'en'}]}, 'context': {'title': 'company_detective'}, 'searchInformation': {'searchTime': 0.113428, 'formattedSearchTime': '0.11', 'totalResults': '8', 'formattedTotalResults': '8'}, 'items': [{'kind': 'customsearch#result', 'title': 'Pomelo Care salaries: How much does Pomelo Care pay? | Indeed ...', 'htmlTitle': '<b>Pomelo Care</b> salaries: How much does <b>Pomelo Care</b> pay? | Indeed ...', 'link': 'https://www.indeed.com/cmp/Pomelo-Care/salaries', 'displayLink': 'www.indeed.com', 'snippet': 'The average Pomelo Care salary ranges from approximately $39691 per year for Medical Assistant to $224502 per year for Regional Director.', 'htmlSnippet': 'The average <b>Pomelo Care</b> salary ranges from approximately $39691 per year for Medical Assistant to $224502 per year for Regional Director.', 'formattedUrl': 'https://www.indeed.com/cmp/Pomelo-Care/salaries', 'htmlFormattedUrl': 'https://www.indeed.com/cmp/<b>Pomelo-Care</b>/salaries', 'pagemap': {'cse_thumbnail': [{'src': 'https://encrypted-tbn0.gstatic.com/images?q=tbn:ANd9GcQkZwNDgG_zaOB5GqyMwhZYb9tsbOaM6H3I6v25ZftH2os9t6YS_h6Z0mc&s', 'width': '128', 'height': '128'}], 'metatags': [{'viewport': 'width=device-width,initial-scale=1'}], 'cse_image': [{'src': 'https://d2q79iu7y748jz.cloudfront.net/s/_squarelogo/128x128/7d3837e13aa27c3f4ab7f4a34098a57b'}], 'localbusiness': [{'image': 'https://www.indeed.com/cmp/-/s/assets/9b2af60acf61dd34/placeholder-logo-128.png', 'name': 'Pomelo Care'}], 'listitem': [{'item': 'Pomelo Care', 'name': 'Pomelo Care', 'position': '1'}, {'item': 'Salaries', 'name': 'Salaries', 'position': '2'}]}}, {'kind': 'customsearch#result', 'title': 'Pomelo Care Careers and Employment | Indeed.com', 'htmlTitle': '<b>Pomelo Care</b> Careers and Employment | Indeed.com', 'link': 'https://www.indeed.com/cmp/Pomelo-Care', 'displayLink': 'www.indeed.com', 'snippet': 'Find out what works well at Pomelo Care from the people who know best. Get the inside scoop on jobs, salaries, top office locations, and CEO insights.', 'htmlSnippet': 'Find out what works well at <b>Pomelo Care</b> from the people who know best. Get the inside scoop on jobs, salaries, top office locations, and CEO insights.', 'formattedUrl': 'https://www.indeed.com/cmp/Pomelo-Care', 'htmlFormattedUrl': 'https://www.indeed.com/cmp/<b>Pomelo-Care</b>', 'pagemap': {'metatags': [{'viewport': 'width=device-width,initial-scale=1'}], 'localbusiness': [{'image': 'https://www.indeed.com/cmp/-/s/assets/9b2af60acf61dd34/placeholder-logo-128.png', 'name': 'Pomelo Care'}], 'listitem': [{'item': 'Companies', 'name': 'Companies', 'position': '1'}, {'item': 'Healthcare', 'name': 'Healthcare', 'position': '2'}, {'name': 'Pomelo Care', 'position': '3'}]}}, {'kind': 'customsearch#result', 'title': 'Pomelo Care Jobs in Remote | Indeed.com', 'htmlTitle': '<b>Pomelo Care</b> Jobs in Remote | Indeed.com', 'link': 'https://www.indeed.com/cmp/Pomelo-Care/jobs/l-Remote', 'displayLink': 'www.indeed.com', 'snippet': '14 Pomelo Care Jobs in Remote. Apply for the latest jobs near you. Learn about salary, employee reviews, interviews, benefits, and work-life balance.', 'htmlSnippet': '14 <b>Pomelo Care</b> Jobs in Remote. Apply for the latest jobs near you. Learn about salary, employee reviews, interviews, benefits, and work-life balance.', 'formattedUrl': 'https://www.indeed.com/cmp/Pomelo-Care/jobs/l-Remote', 'htmlFormattedUrl': 'https://www.indeed.com/cmp/<b>Pomelo-Care</b>/jobs/l-Remote', 'pagemap': {'metatags': [{'viewport': 'width=device-width,initial-scale=1'}], 'localbusiness': [{'image': 'https://www.indeed.com/cmp/-/s/assets/9b2af60acf61dd34/placeholder-logo-128.png', 'name': 'Pomelo Care'}], 'listitem': [{'item': 'Companies', 'name': 'Companies', 'position': '1'}, {'item': 'Healthcare', 'name': 'Healthcare', 'position': '2'}, {'item': 'Pomelo Care', 'name': 'Pomelo Care', 'position': '3'}, {'item': 'Jobs', 'name': 'Jobs', 'position': '4'}, {'name': 'Remote', 'position': '5'}]}}, {'kind': 'customsearch#result', 'title': 'How much do Pomelo Care Nursing jobs pay? | Indeed.com', 'htmlTitle': 'How much do <b>Pomelo Care</b> Nursing jobs pay? | Indeed.com', 'link': 'https://www.indeed.com/cmp/Pomelo-Care/salaries?job_category=mednurse', 'displayLink': 'www.indeed.com', 'snippet': 'The average Pomelo Care salary ranges from approximately $39691 per year for Nursing Assistant to $149668 per year for Advanced Practice Registered Nurse.', 'htmlSnippet': 'The average <b>Pomelo Care</b> salary ranges from approximately $39691 per year for Nursing Assistant to $149668 per year for Advanced Practice Registered Nurse.', 'formattedUrl': 'https://www.indeed.com/cmp/Pomelo-Care/salaries?job_category...', 'htmlFormattedUrl': 'https://www.indeed.com/cmp/<b>Pomelo-Care</b>/salaries?job_category...', 'pagemap': {'metatags': [{'viewport': 'width=device-width,initial-scale=1'}], 'localbusiness': [{'image': 'https://www.indeed.com/cmp/-/s/assets/9b2af60acf61dd34/placeholder-logo-128.png', 'name': 'Pomelo Care'}], 'listitem': [{'item': 'Pomelo Care', 'name': 'Pomelo Care', 'position': '1'}, {'item': 'Salaries', 'name': 'Salaries', 'position': '2'}, {'item': 'Nursing', 'name': 'Nursing', 'position': '3'}]}}, {'kind': 'customsearch#result', 'title': 'Nurse Practitioner Salaries in the United States for Pomelo Care ...', 'htmlTitle': 'Nurse Practitioner Salaries in the United States for <b>Pomelo Care</b> ...', 'link': 'https://www.indeed.com/cmp/Pomelo-Care/salaries/Nurse-Practitioner', 'displayLink': 'www.indeed.com', 'snippet': 'Explore Pomelo Care Nurse Practitioner salaries in the United States collected directly from employees and jobs on Indeed.', 'htmlSnippet': 'Explore <b>Pomelo Care</b> Nurse Practitioner salaries in the United States collected directly from employees and jobs on Indeed.', 'formattedUrl': 'https://www.indeed.com/cmp/Pomelo-Care/salaries/Nurse-Practitioner', 'htmlFormattedUrl': 'https://www.indeed.com/cmp/<b>Pomelo-Care</b>/salaries/Nurse-Practitioner', 'pagemap': {'metatags': [{'viewport': 'width=device-width,initial-scale=1'}], 'localbusiness': [{'image': 'https://www.indeed.com/cmp/-/s/assets/9b2af60acf61dd34/placeholder-logo-128.png', 'name': 'Pomelo Care'}], 'listitem': [{'item': 'Pomelo Care', 'name': 'Pomelo Care', 'position': '1'}, {'item': 'Salaries', 'name': 'Salaries', 'position': '2'}, {'item': 'Nurse Practitioner', 'name': 'Nurse Practitioner', 'position': '3'}]}}, {'kind': 'customsearch#result', 'title': 'Senior Recruiter Salaries in the United States for Pomelo Care ...', 'htmlTitle': 'Senior Recruiter Salaries in the United States for <b>Pomelo Care</b> ...', 'link': 'https://www.indeed.com/cmp/Pomelo-Care/salaries/Senior+Recruiter', 'displayLink': 'www.indeed.com', 'snippet': 'May 17, 2024 ... Average Pomelo Care Senior Recruiter yearly pay in the United States is approximately $116,069, which is 58% above the national average. Salary\\xa0...', 'htmlSnippet': 'May 17, 2024 <b>...</b> Average <b>Pomelo Care</b> Senior Recruiter yearly pay in the United States is approximately $116,069, which is 58% above the national average. Salary&nbsp;...', 'formattedUrl': 'https://www.indeed.com/cmp/Pomelo-Care/salaries/Senior+Recruiter', 'htmlFormattedUrl': 'https://www.indeed.com/cmp/<b>Pomelo-Care</b>/salaries/Senior+Recruiter', 'pagemap': {'metatags': [{'viewport': 'width=device-width,initial-scale=1'}], 'localbusiness': [{'image': 'https://www.indeed.com/cmp/-/s/assets/9b2af60acf61dd34/placeholder-logo-128.png', 'name': 'Pomelo Care'}], 'listitem': [{'item': 'Pomelo Care', 'name': 'Pomelo Care', 'position': '1'}, {'item': 'Salaries', 'name': 'Salaries', 'position': '2'}, {'item': 'Senior Recruiter', 'name': 'Senior Recruiter', 'position': '3'}]}}, {'kind': 'customsearch#result', 'title': 'Pomelo Care salaries in New York, NY: How much does Pomelo ...', 'htmlTitle': '<b>Pomelo Care</b> salaries in New York, NY: How much does <b>Pomelo</b> ...', 'link': 'https://www.indeed.com/cmp/Pomelo-Care/salaries?location=US%2FNY%2FNew+York', 'displayLink': 'www.indeed.com', 'snippet': 'The average Pomelo Care salary ranges from approximately $44725 per year for Care Coordinator to $209267 per year for Obstetrics and Gynecology Physician.', 'htmlSnippet': 'The average <b>Pomelo Care</b> salary ranges from approximately $44725 per year for Care Coordinator to $209267 per year for Obstetrics and Gynecology Physician.', 'formattedUrl': 'https://www.indeed.com/cmp/Pomelo-Care/salaries?location...York', 'htmlFormattedUrl': 'https://www.indeed.com/cmp/<b>Pomelo-Care</b>/salaries?location...York', 'pagemap': {'metatags': [{'viewport': 'width=device-width,initial-scale=1'}], 'localbusiness': [{'image': 'https://www.indeed.com/cmp/-/s/assets/9b2af60acf61dd34/placeholder-logo-128.png', 'name': 'Pomelo Care'}], 'listitem': [{'item': 'Pomelo Care', 'name': 'Pomelo Care', 'position': '1'}, {'item': 'Salaries', 'name': 'Salaries', 'position': '2'}, {'item': 'New York State', 'name': 'New York State', 'position': '3'}, {'item': 'New York', 'name': 'New York', 'position': '4'}]}}, {'kind': 'customsearch#result', 'title': 'Social Care Team Lead Salaries in the United States for OneFifteen ...', 'htmlTitle': 'Social Care Team Lead Salaries in the United States for OneFifteen ...', 'link': 'https://www.indeed.com/cmp/Onefifteen-Recovery/salaries/Social-Care-Team-Lead', 'displayLink': 'www.indeed.com', 'snippet': 'May 16, 2024 ... Pomelo Care. Remote. 30+ days ago. slide5 of 6. Beauty Team Leader. Target. Sevierville, TN. 5 hours ago. slide6 of 6. Beauty Team Leader.', 'htmlSnippet': 'May 16, 2024 <b>...</b> <b>Pomelo Care</b>. Remote. 30+ days ago. slide5 of 6. Beauty Team Leader. Target. Sevierville, TN. 5 hours ago. slide6 of 6. Beauty Team Leader.', 'formattedUrl': 'https://www.indeed.com/cmp/Onefifteen.../salaries/Social-Care-Team-Lead', 'htmlFormattedUrl': 'https://www.indeed.com/cmp/Onefifteen.../salaries/Social-Care-Team-Lead', 'pagemap': {'metatags': [{'viewport': 'width=device-width,initial-scale=1'}], 'localbusiness': [{'image': 'https://d2q79iu7y748jz.cloudfront.net/s/_squarelogo/64x64/7054f9956ffbec7d75510664d9a7d613', 'name': 'OneFifteen Recovery'}], 'listitem': [{'item': 'OneFifteen Recovery', 'name': 'OneFifteen Recovery', 'position': '1'}, {'item': 'Salaries', 'name': 'Salaries', 'position': '2'}, {'item': 'Social Care Team Lead', 'name': 'Social Care Team Lead', 'position': '3'}]}}]}\u001b[0m\n",
      "\u001b[32m2024-08-19 14:05:45.131\u001b[0m | \u001b[1mINFO    \u001b[0m | \u001b[36mscrapfly_scrapers.indeed\u001b[0m:\u001b[36mscrape_search\u001b[0m:\u001b[36m47\u001b[0m - \u001b[1mscraping search: https://www.indeed.com/cmp/Pomelo-Care/jobs/l-Remote\u001b[0m\n",
      "\u001b[32m2024-08-19 14:05:47.247\u001b[0m | \u001b[1mINFO    \u001b[0m | \u001b[36mscrapfly_scrapers.indeed\u001b[0m:\u001b[36mscrape_search\u001b[0m:\u001b[36m62\u001b[0m - \u001b[1mfound total pages 0 search pages\u001b[0m\n",
      "\u001b[32m2024-08-19 14:05:47.248\u001b[0m | \u001b[1mINFO    \u001b[0m | \u001b[36mscrapfly_scrapers.indeed\u001b[0m:\u001b[36mscrape_jobs\u001b[0m:\u001b[36m87\u001b[0m - \u001b[1mscraping 14 job listings\u001b[0m\n"
     ]
    },
    {
     "name": "stdout",
     "output_type": "stream",
     "text": [
      "scraping remaining -1.0 pages\n"
     ]
    },
    {
     "name": "stderr",
     "output_type": "stream",
     "text": [
      "\u001b[32m2024-08-19 14:06:42.197\u001b[0m | \u001b[1mINFO    \u001b[0m | \u001b[36mindeed\u001b[0m:\u001b[36msummarize\u001b[0m:\u001b[36m83\u001b[0m - \u001b[1m66,062 -> 5,186 chars (8%)\u001b[0m\n",
      "\u001b[32m2024-08-19 14:06:42.201\u001b[0m | \u001b[1mINFO    \u001b[0m | \u001b[36mindeed\u001b[0m:\u001b[36msummarize\u001b[0m:\u001b[36m91\u001b[0m - \u001b[1mExtractive fraction: 12%\u001b[0m\n",
      "\u001b[32m2024-08-19 14:06:42.202\u001b[0m | \u001b[1mINFO    \u001b[0m | \u001b[36mindeed\u001b[0m:\u001b[36msummarize\u001b[0m:\u001b[36m92\u001b[0m - \u001b[1mPercent of URLs in sources: 100%\u001b[0m\n",
      "\u001b[32m2024-08-19 14:06:42.202\u001b[0m | \u001b[1mINFO    \u001b[0m | \u001b[36mindeed\u001b[0m:\u001b[36msummarize\u001b[0m:\u001b[36m93\u001b[0m - \u001b[1mSuspicious URLs: set()\u001b[0m\n",
      "\u001b[32m2024-08-19 14:06:42.203\u001b[0m | \u001b[1mINFO    \u001b[0m | \u001b[36mindeed\u001b[0m:\u001b[36msummarize\u001b[0m:\u001b[36m94\u001b[0m - \u001b[1mCache mentions: 0 (should be zero)\u001b[0m\n"
     ]
    }
   ],
   "source": [
    "import indeed\n",
    "\n",
    "summary = await indeed.run(target, \"Staff Machine Learning Engineer\")"
   ]
  },
  {
   "cell_type": "code",
   "execution_count": 4,
   "metadata": {},
   "outputs": [
    {
     "data": {
      "text/plain": [
       "AIMessage(content='# Summary of Key Information for Staff Machine Learning Engineer at Pomelo Care\\n\\n## Company Overview\\nPomelo Care is a mission-driven startup focused on improving healthcare outcomes for mothers and babies through a technology-driven care platform. The company emphasizes evidence-based practices and aims to reduce preterm births, NICU admissions, c-sections, and maternal mortality. Their approach includes early patient engagement, individualized risk assessments, and coordinated virtual care throughout pregnancy and postpartum.\\n\\n## Unique Aspects of Roles at Pomelo Care\\n- **Mission-Driven Environment**: Employees are part of a team that is dedicated to making a significant impact on maternal and child health.\\n- **Multi-Disciplinary Collaboration**: The company fosters a collaborative environment where clinicians, engineers, and problem solvers work together.\\n- **Focus on Data-Driven Decision Making**: The company values data-driven approaches in all aspects of its operations, from marketing to clinical care.\\n\\n## Seniority Levels and Expectations\\nWhile the job descriptions provided do not specify distinct seniority levels for machine learning roles, the general expectations for senior positions in tech startups like Pomelo Care typically include:\\n- **Leadership and Mentorship**: Senior engineers are expected to lead projects and mentor junior team members.\\n- **Strategic Input**: Involvement in shaping the technical direction of projects and contributing to high-level decision-making.\\n- **Cross-Functional Collaboration**: Working closely with product, marketing, and clinical teams to align technology solutions with business needs.\\n\\n## Technologies and Skills Relevant to Machine Learning\\nWhile specific machine learning roles were not detailed in the provided job descriptions, the following skills and technologies are generally relevant in a healthcare tech environment:\\n- **Machine Learning Frameworks**: Familiarity with TensorFlow, PyTorch, or similar frameworks.\\n- **Data Engineering**: Skills in data preprocessing, ETL processes, and working with large datasets.\\n- **Programming Languages**: Proficiency in Python, R, or similar languages commonly used in data science and machine learning.\\n- **Statistical Analysis**: Strong understanding of statistical methods and their application in healthcare analytics.\\n- **Cloud Technologies**: Experience with cloud platforms (e.g., AWS, Google Cloud) for deploying machine learning models.\\n\\n## Company Culture and Values\\n- **Diversity and Inclusion**: Pomelo Care is committed to hiring a diverse team and values perspectives from various backgrounds.\\n- **Fast-Paced Environment**: The company operates in a dynamic setting where adaptability and quick decision-making are essential.\\n- **Employee Growth**: Pomelo emphasizes learning and development opportunities, encouraging employees to grow within their roles.\\n\\n## Benefits and Perks\\n- **Competitive Healthcare Benefits**: Comprehensive health insurance options.\\n- **Equity Compensation**: Generous equity packages as part of the compensation.\\n- **Unlimited Vacation**: Flexible vacation policy to promote work-life balance.\\n- **Professional Development**: Membership in the First Round Network, providing access to mentorship and networking opportunities.\\n\\n## Growth and Expansion Plans\\nWhile specific growth plans were not detailed in the job descriptions, the emphasis on expanding B2B partnerships and enhancing patient engagement suggests a focus on scaling operations and increasing market share in the virtual healthcare space.\\n\\n## Conclusion\\nFor a Staff Machine Learning Engineer considering a position at Pomelo Care, the company offers a unique opportunity to work in a mission-driven environment that values collaboration, diversity, and data-driven decision-making. The focus on maternal and child health presents a meaningful context for applying machine learning technologies to improve healthcare outcomes.\\n\\n## Sources\\n- [Manager, B2B Product Marketing](https://www.indeed.com/viewjob?jk=aaf66adb7513f966)\\n- [Director, Lifecycle Marketing](https://www.indeed.com/viewjob?jk=8aaae6f6407bb637)\\n- [Strategic Finance, Senior Manager / Director](https://www.indeed.com/viewjob?jk=7811cd2ecfd5b19b)\\n- [Regional Medical Director (Georgia-based)](https://www.indeed.com/viewjob?jk=a5882611b52f30de)\\n- [Lactation Consultant (IBCLC)](https://www.indeed.com/viewjob?jk=a62358e1f419addd)\\n- [Pediatrics Medical Director](https://www.indeed.com/viewjob?jk=93bdf0c54c0266e8)\\n- [Manager, Lifecycle Marketing](https://www.indeed.com/viewjob?jk=e8117d3e3e842375)\\n- [Bilingual Outreach & Engagement Specialist](https://www.indeed.com/viewjob?jk=aab6f248d84fbfcd)\\n- [FNP-WHNP Overnight Provider (Telehealth)](https://www.indeed.com/viewjob?jk=22444c45b1f0834c)\\n- [Director, Payer Sales](https://www.indeed.com/viewjob?jk=0549e381e11c308d)\\n- [Market Operations Lead](https://www.indeed.com/viewjob?jk=78d44a22fc83b069)\\n- [Medical Coding Specialist](https://www.indeed.com/viewjob?jk=307bb6b369bf04ba)\\n- [Outreach & Engagement Specialist](https://www.indeed.com/viewjob?jk=fde289b342ea64c2)\\n- [Care Coordinator](https://www.indeed.com/viewjob?jk=55b268a5d4ba8cda)', additional_kwargs={'refusal': None}, response_metadata={'token_usage': {'completion_tokens': 1134, 'prompt_tokens': 12967, 'total_tokens': 14101}, 'model_name': 'gpt-4o-mini-2024-07-18', 'system_fingerprint': 'fp_48196bc67a', 'finish_reason': 'stop', 'logprobs': None}, id='run-6f18ad67-f713-417f-bed5-ef1343bdc52c-0', usage_metadata={'input_tokens': 12967, 'output_tokens': 1134, 'total_tokens': 14101})"
      ]
     },
     "execution_count": 4,
     "metadata": {},
     "output_type": "execute_result"
    }
   ],
   "source": [
    "summary"
   ]
  },
  {
   "cell_type": "code",
   "execution_count": 5,
   "metadata": {},
   "outputs": [],
   "source": [
    "with open(f\"{experiment_dir}/indeed.md\", \"w\") as f:\n",
    "    f.write(summary.content)"
   ]
  },
  {
   "cell_type": "code",
   "execution_count": null,
   "metadata": {},
   "outputs": [],
   "source": []
  }
 ],
 "metadata": {
  "kernelspec": {
   "display_name": ".venv",
   "language": "python",
   "name": "python3"
  },
  "language_info": {
   "codemirror_mode": {
    "name": "ipython",
    "version": 3
   },
   "file_extension": ".py",
   "mimetype": "text/x-python",
   "name": "python",
   "nbconvert_exporter": "python",
   "pygments_lexer": "ipython3",
   "version": "3.10.12"
  }
 },
 "nbformat": 4,
 "nbformat_minor": 2
}
