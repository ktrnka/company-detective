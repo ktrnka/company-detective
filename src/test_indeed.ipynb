{
 "cells": [
  {
   "cell_type": "code",
   "execution_count": 3,
   "metadata": {},
   "outputs": [
    {
     "name": "stdout",
     "output_type": "stream",
     "text": [
      "SearchResult(title='RAD AI Jobs and Careers | Indeed.com', link='https://www.indeed.com/cmp/Rad-Ai/jobs', snippet='14 RAD AI jobs. Apply to the latest jobs near you. Learn about salary, employee reviews, interviews, benefits, and work-life balance.', formattedUrl='https://www.indeed.com/cmp/Rad-Ai/jobs')\n",
      "SearchResult(title='RAD AI Careers and Employment | Indeed.com', link='https://www.indeed.com/cmp/Rad-Ai', snippet='Find out what works well at RAD AI from the people who know best. Get the inside scoop on jobs, salaries, top office locations, and CEO insights.', formattedUrl='https://www.indeed.com/cmp/Rad-Ai')\n",
      "SearchResult(title='50+ Cancer Generative Ai Jobs, Employment August 1, 2024 ...', link='https://www.indeed.com/q-cancer-generative-ai-jobs.html', snippet='Implementation Engineer. Rad AI. Remote. This role will report to the Vice President of Implementation. Develop and maintain HL7 and FHIR interfaces with our\\xa0...', formattedUrl='https://www.indeed.com/q-cancer-generative-ai-jobs.html')\n",
      "SearchResult(title='200+ Vice President of Sales Ai Jobs, Employment July 26, 2024 ...', link='https://www.indeed.com/q-vice-president-of-sales-ai-jobs.html', snippet='Rad AI. Remote. PostedPosted 7 days ago. We are looking for a dynamic sales executive to join our high-performing sales team. 7 to 15 years of direct sales\\xa0...', formattedUrl='https://www.indeed.com/q-vice-president-of-sales-ai-jobs.html')\n",
      "SearchResult(title='Ai Accountant Jobs, Employment in Remote | Indeed.com', link='https://www.indeed.com/q-ai-accountant-l-remote-jobs.html', snippet='Rad AI. Remote. PostedPosted 13 days ago. The Accounting Manager will work closely with the VP Finance to enhance internal processes and systems for increased\\xa0...', formattedUrl='https://www.indeed.com/q-ai-accountant-l-remote-jobs.html')\n",
      "SearchResult(title='400+ Ai Healthcare Subject Matter Expert Jobs, Employment July 15 ...', link='https://www.indeed.com/q-ai-healthcare-subject-matter-expert-jobs.html', snippet='[ Choose Your Own Role ]. Rad AI. Remote. PostedPosted 30+ days ago. Comprehensive Medical, Dental, Vision & Life insurance. HSA (with employer match), FSA\\xa0...', formattedUrl='https://www.indeed.com/q-ai-healthcare-subject-matter-expert-jobs.html')\n",
      "SearchResult(title='75+ Anatomy Ai Jobs, Employment August 1, 2024| Indeed.com', link='https://www.indeed.com/q-anatomy-ai-jobs.html', snippet='[ Choose Your Own Role ]. Rad AI. Remote. PostedPosted 30+ days ago. Comprehensive Medical, Dental, Vision & Life insurance. HSA (with employer match), FSA\\xa0...', formattedUrl='https://www.indeed.com/q-anatomy-ai-jobs.html')\n",
      "SearchResult(title='700+ Rad Dental Jobs, Employment July 19, 2024| Indeed.com', link='https://www.indeed.com/m/jobs?q=Rad+Dental', snippet='Rad AI. Remote. $120,000 - $140,000. a year. Full-time. Easily apply. PostedJust posted. In this role you will own a territory and drive growth within health\\xa0...', formattedUrl='https://www.indeed.com/m/jobs?q=Rad+Dental')\n",
      "SearchResult(title='300+ Ai Company Startup Jobs, Employment in Remote July 18, 2024', link='https://www.indeed.com/q-ai-company-startup-l-remote-jobs.html', snippet='Rad AI. Remote. $120,000 - $140,000. a year. Full-time. Easily apply. PostedJust posted. In this role you will own a territory and drive growth within health\\xa0...', formattedUrl='https://www.indeed.com/q-ai-company-startup-l-remote-jobs.html')\n",
      "SearchResult(title='100+ Ai Devops Engineer Jobs, Employment July 12, 2024| Indeed ...', link='https://www.indeed.com/q-ai-devops-engineer-jobs.html', snippet='Rad AI. Remote. $170,000 - $210,000. a year. Full-time. On call. Easily apply. Oversee network and systems monitoring, devise alert strategies, and join a 24x7\\xa0...', formattedUrl='https://www.indeed.com/q-ai-devops-engineer-jobs.html')\n",
      "SearchResult(title='100+ Ai Devops Engineer Jobs, Employment July 12, 2024| Indeed ...', link='https://www.indeed.com/q-ai-devops-engineer-jobs.html', snippet='Rad AI. Remote. $170,000 - $210,000. a year. Full-time. On call. Easily apply. Oversee network and systems monitoring, devise alert strategies, and join a 24x7\\xa0...', formattedUrl='https://www.indeed.com/q-ai-devops-engineer-jobs.html')\n",
      "SearchResult(title='800+ Rad Staff Jobs, Employment July 20, 2024| Indeed.com', link='https://www.indeed.com/q-rad-staff-jobs.html', snippet='Rad AI. Remote. $120,000 - $140,000. a year. Full-time. Easily apply. PostedPosted 1 day ago. Develop relationships with C-Level executives and decision makers\\xa0...', formattedUrl='https://www.indeed.com/q-rad-staff-jobs.html')\n",
      "SearchResult(title='100+ Artificial Intelligence Legal Counsel Jobs, Employment July 31 ...', link='https://www.indeed.com/q-artificial-intelligence-legal-counsel-jobs.html', snippet='Rad AI. Remote. $180,000 - $230,000. a year. Full-time. Easily apply. PostedPosted 19 days ago. Developing scalable legal processes, tools, and infrastructure\\xa0...', formattedUrl='https://www.indeed.com/q-artificial-intelligence-legal-counsel-jobs.html')\n",
      "SearchResult(title='800+ Artificial Intelligence Engineer Jobs, Employment in Remote ...', link='https://www.indeed.com/q-artificial-intelligence-engineer-l-remote-jobs.html', snippet='Implementation Engineer. Rad AI. Remote. This role will report to the Vice President of Implementation. Develop and maintain HL7 and FHIR interfaces with our\\xa0...', formattedUrl='https://www.indeed.com/q-artificial-intelligence-engineer-l-remote-jobs.html')\n",
      "SearchResult(title='75+ Llm Ai Jobs, Employment in Remote August 5, 2024| Indeed.com', link='https://www.indeed.com/q-llm-ai-l-remote-jobs.html', snippet='Legal Counsel. Rad AI. Remote. Developing and implementing a comprehensive privacy program that ensures compliance with HIPAA and our BAAs, safeguarding\\xa0...', formattedUrl='https://www.indeed.com/q-llm-ai-l-remote-jobs.html')\n",
      "SearchResult(title='200+ Vice President of Sales Ai Jobs, Employment August 2, 2024 ...', link='https://www.indeed.com/q-vice-president-of-sales-ai-jobs.html', snippet='Regional Vice President of Sales. Rad AI. Remote. PostedPosted 14 days ago. 7 to 15 years of direct sales experience, with 3+ years of full cycle healthcare\\xa0...', formattedUrl='https://www.indeed.com/q-vice-president-of-sales-ai-jobs.html')\n",
      "SearchResult(title='100+ Remote Physician Jobs Ai Jobs, Employment July 19, 2024 ...', link='https://www.indeed.com/q-remote-physician-jobs-ai-jobs.html', snippet='Rad AI. Remote. $120,000 - $140,000. a year. Full-time. Easily apply. PostedJust posted. In this role you will own a territory and drive growth within health\\xa0...', formattedUrl='https://www.indeed.com/q-remote-physician-jobs-ai-jobs.html')\n",
      "SearchResult(title='200+ $60,000 Healthcare Ai Sales Jobs, Employment in Remote ...', link='https://www.indeed.com/m/jobs?q=$60,000+Healthcare+Ai+Sales&l=Remote', snippet='Rad AI. Remote. PostedPosted 12 days ago. 7 to 15 years of direct sales experience, with 3+ years of full cycle healthcare SaaS sales experience. Demonstrated\\xa0...', formattedUrl='https://www.indeed.com/m/jobs?q=$60,000+Healthcare+Ai+Sales&l...')\n",
      "SearchResult(title='200+ Ai Healthcare Sales Jobs, Employment in Remote August 1 ...', link='https://www.indeed.com/q-ai-healthcare-sales-l-remote-jobs.html', snippet='Regional Vice President of Sales. Rad AI. Remote. PostedPosted 13 days ago. 7 to 15 years of direct sales experience, with 3+ years of full cycle healthcare\\xa0...', formattedUrl='https://www.indeed.com/q-ai-healthcare-sales-l-remote-jobs.html')\n",
      "SearchResult(title='25+ Legal Artificial Intelligence Jobs, Employment in Remote July 31 ...', link='https://www.indeed.com/m/jobs?q=Legal+Artificial+Intelligence&l=Remote', snippet='Rad AI. Remote. $180,000 - $230,000. a year. Full-time. Easily apply. PostedPosted 20 days ago. Developing scalable legal processes, tools, and infrastructure\\xa0...', formattedUrl='https://www.indeed.com/m/jobs?q=Legal+Artificial+Intelligence&l...')\n",
      "SearchResult(title='75+ Reading Ai Jobs, Employment in Remote July 24, 2024| Indeed ...', link='https://www.indeed.com/q-reading-ai-l-remote-jobs.html', snippet='Implementation Engineer. Rad AI. Remote. PostedPosted 2 days ago. Proven technical background, should be comfortable reading logs, source code, querying DBs\\xa0...', formattedUrl='https://www.indeed.com/q-reading-ai-l-remote-jobs.html')\n",
      "SearchResult(title='75+ Generative Ai Startup Jobs, Employment July 30, 2024| Indeed ...', link='https://www.indeed.com/q-generative-ai-startup-jobs.html', snippet='Implementation Engineer. Rad AI. Remote. PostedPosted 7 days ago. This role will report to the Vice President of Implementation. Develop and maintain HL7 and\\xa0...', formattedUrl='https://www.indeed.com/q-generative-ai-startup-jobs.html')\n",
      "SearchResult(title='Patent Attorney Machine Learnings Jobs, Employment | Indeed.com', link='https://www.indeed.com/q-patent-attorney-machine-learnings-jobs.html', snippet='This is a full-time role working within the Data Discovery and Enrichment Organization at LexisNexis. Legal Counsel. Rad AI. Remote. $180,000 - $230,000. a year.', formattedUrl='https://www.indeed.com/q-patent-attorney-machine-learnings-jobs.html')\n",
      "SearchResult(title='100+ Principal Ml Aws Jobs, Employment April 30, 2024| Indeed.com', link='https://www.indeed.com/m/jobs?q=Principal+Ml+Aws', snippet='Principal Machine Learning Research Scientist. Rad AI. Remote. PostedPosted 30+ days ago. The role reports directly to the VP of Engineering. Interdisciplinary\\xa0...', formattedUrl='https://www.indeed.com/m/jobs?q=Principal+Ml+Aws')\n",
      "SearchResult(title='Healthcare Saas Jobs, Employment in Remote | Indeed.com', link='https://www.indeed.com/q-%22healthcare-saas%22-l-remote-jobs.html', snippet='Rad AI. Remote. PostedPosted 16 days ago. 7 to 15 years of direct sales experience, with 3+ years of full cycle healthcare SaaS sales experience. In this role\\xa0...', formattedUrl='https://www.indeed.com/q-%22healthcare-saas%22-l-remote-jobs.html')\n",
      "SearchResult(title='One PACS Jobs, Employment in Remote | Indeed.com', link='https://www.indeed.com/q-one-pacs-l-remote-jobs.html', snippet='Regional Vice President of Sales. Rad AI. Remote. In this role you will own a territory and drive growth within health systems and physician groups across Rad\\xa0...', formattedUrl='https://www.indeed.com/q-one-pacs-l-remote-jobs.html')\n",
      "SearchResult(title='25+ HCA Healthcare Job Fair Jobs, Employment August 4, 2024 ...', link='https://www.indeed.com/q-hca-healthcare-job-fair-jobs.html', snippet='Regional Vice President of Sales. Rad AI. Remote ; Legal Counsel. Rad AI. Remote ; Director of Patient Safety · HCA Florida Brandon Hospital. Brandon, FL 33511.', formattedUrl='https://www.indeed.com/q-hca-healthcare-job-fair-jobs.html')\n",
      "SearchResult(title='600+ Ai SQL Jobs, Employment in Remote July 29, 2024| Indeed.com', link='https://www.indeed.com/q-ai-sql-l-remote-jobs.html', snippet='Rad AI. Remote. PostedPosted 6 days ago. This role will report to the Vice President of Implementation. Develop and maintain HL7 and FHIR interfaces with our\\xa0...', formattedUrl='https://www.indeed.com/q-ai-sql-l-remote-jobs.html')\n",
      "SearchResult(title='50+ Burnout Jobs, Employment in Remote July 30, 2024| Indeed.com', link='https://www.indeed.com/q-burnout-l-remote-jobs.html', snippet='Implementation Engineer. Rad AI. Remote. PostedPosted 7 days ago. Founded by the youngest US radiologist in history, Rad AI empowers physicians with Al to save\\xa0...', formattedUrl='https://www.indeed.com/q-burnout-l-remote-jobs.html')\n",
      "SearchResult(title='25+ Intellectual Property Open Source Legal Counsel Jobs ...', link='https://www.indeed.com/q-intellectual-property-open-source-legal-counsel-jobs.html', snippet='Search results · Legal Counsel. Contrast Security · Legal Counsel. Rad AI · Commercial Counsel (Remote). The Athletic Media Company · Associate Counsel, Product &\\xa0...', formattedUrl='https://www.indeed.com/q-intellectual-property-open-source-legal-counsel-...')\n",
      "SearchResult(title='25+ Intellectual Property Open Source Legal Counsel Jobs ...', link='https://www.indeed.com/q-intellectual-property-open-source-legal-counsel-jobs.html', snippet='Search results · Legal Counsel. Contrast Security · Legal Counsel. Rad AI · Commercial Counsel (Remote). The Athletic Media Company · Associate Counsel, Product &\\xa0...', formattedUrl='https://www.indeed.com/q-intellectual-property-open-source-legal-counsel-...')\n",
      "SearchResult(title='Director 120k Jobs, Employment in Remote | Indeed.com', link='https://www.indeed.com/m/jobs?q=Director+120k&l=Remote', snippet='Regional Vice President of Sales. Rad AI. Remote. About Rad AI We have raised $80+ million to date from venture funds and just closed on our series B financing\\xa0...', formattedUrl='https://www.indeed.com/m/jobs?q=Director+120k&l=Remote')\n",
      "SearchResult(title='25+ Trademark Counsel Jobs, Employment in Remote August 1, 2024', link='https://www.indeed.com/q-trademark-counsel-l-remote-jobs.html', snippet='Rad AI. Remote. $180,000 - $230,000. a year. Full-time. Easily apply. Your counsel will be instrumental in navigating legal complexities, supporting our drive\\xa0...', formattedUrl='https://www.indeed.com/q-trademark-counsel-l-remote-jobs.html')\n",
      "SearchResult(title='25+ 7 Gen Fund Jobs, Employment July 30, 2024| Indeed.com', link='https://www.indeed.com/q-7-gen-fund-jobs.html', snippet='Regional Vice President of Sales. Rad AI. Remote. 7 to 15 years of direct sales experience, with 3+ years of full cycle healthcare SaaS sales experience. In\\xa0...', formattedUrl='https://www.indeed.com/q-7-gen-fund-jobs.html')\n",
      "SearchResult(title='200+ Vice President Saas Sales Jobs, Employment July 19, 2024 ...', link='https://www.indeed.com/q-vice-president-saas-sales-jobs.html', snippet='Rad AI. Remote. $120,000 - $140,000. a year. Full-time. Easily apply. PostedJust posted. 7 to 15 years of direct sales experience, with 3+ years of full cycle\\xa0...', formattedUrl='https://www.indeed.com/q-vice-president-saas-sales-jobs.html')\n",
      "SearchResult(title='25+ Legal Artificial Intelligence Jobs, Employment in Remote August ...', link='https://www.indeed.com/q-legal-artificial-intelligence-l-remote-jobs.html', snippet='... , etc,). Raised $14m from Menlo and LSVP. Legal Counsel. Rad AI. Remote. $180,000 - $230,000. a year. Full-time. Easily apply. PostedPosted 21 days ago.', formattedUrl='https://www.indeed.com/q-legal-artificial-intelligence-l-remote-jobs.html')\n",
      "SearchResult(title='Director Engineering Westin Jobs USA | Indeed.com', link='https://www.indeed.com/m/jobs?q=Director+Engineering+Westin', snippet='Rad AI. Remote. PostedPosted 30+ days ago. 10+ years of experience in software engineering,. Proven track record of leading high-performing engineering teams\\xa0...', formattedUrl='https://www.indeed.com/m/jobs?q=Director+Engineering+Westin')\n",
      "SearchResult(title='25+ Opentelemetry Jobs, Employment in Remote July 26, 2024 ...', link='https://www.indeed.com/q-opentelemetry-l-remote-jobs.html', snippet='Rad AI. Remote. $170,000 - $210,000. a year. Full-time. On call. Easily apply. We have raised $80+ million to date from venture funds and just closed on our\\xa0...', formattedUrl='https://www.indeed.com/q-opentelemetry-l-remote-jobs.html')\n",
      "SearchResult(title='V2 Innovations Jobs USA | Indeed.com', link='https://www.indeed.com/q-v2-innovations-jobs.html', snippet='Implementation Engineer. Rad AI. Remote ; Solar Technician I. AES Corporation. Oak Ridge, LA 71264 ; Cloud Architect. Trinetix. Hybrid remote in Nashville, TN.', formattedUrl='https://www.indeed.com/q-v2-innovations-jobs.html')\n",
      "SearchResult(title='75+ Auth0 Jobs, Employment August 5, 2024| Indeed.com', link='https://www.indeed.com/q-auth0-jobs.html', snippet='Staff Software Engineer, Backend. Rad AI. Remote\\xa0...', formattedUrl='https://www.indeed.com/q-auth0-jobs.html')\n",
      "SearchResult(title='200+ Radiology Sales Jobs, Employment August 4, 2024| Indeed.com', link='https://www.indeed.com/q-radiology-sales-jobs.html', snippet='Regional Vice President of Sales. Rad AI. Remote. 7 to 15 years of direct sales experience, with 3+ years of full cycle healthcare SaaS sales experience\\xa0...', formattedUrl='https://www.indeed.com/q-radiology-sales-jobs.html')\n",
      "SearchResult(title='50+ CPA Tax Artificial Intelligence Jobs, Employment July 13, 2024 ...', link='https://www.indeed.com/q-cpa-tax-artificial-intelligence-jobs.html', snippet='Accounting Manager. Rad AI. Remote. PostedPosted 4 days ago. Handle tax planning and compliance, ensuring timely filing and adherence to regulations. The\\xa0...', formattedUrl='https://www.indeed.com/q-cpa-tax-artificial-intelligence-jobs.html')\n",
      "SearchResult(title='300+ Legal Artificial Intelligence Jobs, Employment August 3, 2024 ...', link='https://www.indeed.com/q-legal-artificial-intelligence-jobs.html', snippet='Rad AI. Remote. $180,000 - $230,000. a year. Full-time. Easily apply. Developing scalable legal processes, tools, and infrastructure, including internal\\xa0...', formattedUrl='https://www.indeed.com/q-legal-artificial-intelligence-jobs.html')\n",
      "SearchResult(title='50+ Software Engineer 110k Jobs, Employment July 31, 2024 ...', link='https://www.indeed.com/q-software-engineer-110k-jobs.html', snippet=\"Rad AI. Remote. PostedPosted 8 days ago. Rad AI's award-winning software has experienced tremendous market growth. We have raised $80+ million to date from\\xa0...\", formattedUrl='https://www.indeed.com/q-software-engineer-110k-jobs.html')\n",
      "SearchResult(title='Kaiser Permanente Healthcare Job Fair Jobs, Employment | Indeed ...', link='https://www.indeed.com/q-kaiser-permanente-healthcare-job-fair-jobs.html', snippet='Rad AI. Remote. $180,000 - $230,000. a year. Full-time. Easily apply. PostedPosted ... Implementation Engineer. Rad AI. Remote. PostedPosted 11 days ago.', formattedUrl='https://www.indeed.com/q-kaiser-permanente-healthcare-job-fair-jobs.html')\n",
      "SearchResult(title='25+ Counsel Infrastructure Jobs, Employment in Remote July 31, 2024', link='https://www.indeed.com/q-counsel-infrastructure-l-remote-jobs.html', snippet='Contract Employment Litigation Defense Attorney · Vision Law® Corporation. Remote in California ; Corporate Counsel. AHEAD. Remote ; Legal Counsel. Rad AI. Remote\\xa0...', formattedUrl='https://www.indeed.com/q-counsel-infrastructure-l-remote-jobs.html')\n",
      "SearchResult(title='Intellectual Property Counsel Pharmaceutical Jobs, Employment ...', link='https://www.indeed.com/q-intellectual-property-counsel-pharmaceutical-jobs.html', snippet='Rad AI. Remote. $180,000 - $230,000. a year. Full-time. Easily apply. PostedPosted 18 days ago. Developing and implementing a comprehensive privacy program that\\xa0...', formattedUrl='https://www.indeed.com/q-intellectual-property-counsel-pharmaceutical-job...')\n",
      "SearchResult(title='New Vice President of Sales $160,000 Jobs (Apply Today) | Indeed ...', link='https://www.indeed.com/q-vice-president-of-sales-$160,000-jobs.html', snippet='Rad AI. Remote. PostedPosted 22 days ago. 7 to 15 years of direct sales experience, with 3+ years of full cycle healthcare SaaS sales experience. Demonstrated\\xa0...', formattedUrl='https://www.indeed.com/q-vice-president-of-sales-$160,000-jobs.html')\n"
     ]
    }
   ],
   "source": [
    "from core import CompanyProduct\n",
    "from search import search\n",
    "\n",
    "# This doesn't work in the notebook but it DOES work on google.com!\n",
    "# It's the /viewjob filter that doesn't work in the notebook.\n",
    "def find_indeed_jobs(target: CompanyProduct):\n",
    "    for result in search(f'site:www.indeed.com \"{target.company}\"', num=100, debug=False):\n",
    "        print(result)\n",
    "\n",
    "find_indeed_jobs(CompanyProduct('Rad AI', 'Omni'))"
   ]
  },
  {
   "cell_type": "code",
   "execution_count": null,
   "metadata": {},
   "outputs": [],
   "source": [
    "import indeed\n",
    "indeed.BASE_CONFIG[\"cache\"] = True\n",
    "\n",
    "# jobs = [\"4c1e2988b22fa223\", \"483d39cbe1b6c1fe\"]\n",
    "# result_jobs = await indeed.scrape_jobs(jobs)\n",
    "# output.joinpath(\"jobs.json\").write_text(json.dumps(result_jobs, indent=2, ensure_ascii=False))\n"
   ]
  }
 ],
 "metadata": {
  "kernelspec": {
   "display_name": ".venv",
   "language": "python",
   "name": "python3"
  },
  "language_info": {
   "codemirror_mode": {
    "name": "ipython",
    "version": 3
   },
   "file_extension": ".py",
   "mimetype": "text/x-python",
   "name": "python",
   "nbconvert_exporter": "python",
   "pygments_lexer": "ipython3",
   "version": "3.10.12"
  }
 },
 "nbformat": 4,
 "nbformat_minor": 2
}
