{
 "cells": [
  {
   "cell_type": "code",
   "execution_count": 39,
   "metadata": {},
   "outputs": [
    {
     "data": {
      "text/plain": [
       "SearchResult(title='RAD AI Jobs and Careers | Indeed.com', link='https://www.indeed.com/cmp/Rad-Ai/jobs', snippet='14 RAD AI jobs. Apply to the latest jobs near you. Learn about salary, employee reviews, interviews, benefits, and work-life balance.', formattedUrl='https://www.indeed.com/cmp/Rad-Ai/jobs')"
      ]
     },
     "execution_count": 39,
     "metadata": {},
     "output_type": "execute_result"
    }
   ],
   "source": [
    "from core import CompanyProduct\n",
    "from search import search, SearchResult\n",
    "\n",
    "def find_indeed_jobs(target: CompanyProduct) -> SearchResult:\n",
    "    results = list(search(f'site:www.indeed.com/cmp \"{target.company}\"', num=1, debug=False))\n",
    "    if results:\n",
    "        return results[0]\n",
    "\n",
    "company_search_results = find_indeed_jobs(CompanyProduct('Rad AI', 'Omni'))\n",
    "company_search_results"
   ]
  },
  {
   "cell_type": "code",
   "execution_count": 40,
   "metadata": {},
   "outputs": [
    {
     "name": "stderr",
     "output_type": "stream",
     "text": [
      "\u001b[32m2024-08-05 18:37:46.673\u001b[0m | \u001b[1mINFO    \u001b[0m | \u001b[36mindeed\u001b[0m:\u001b[36mscrape_search\u001b[0m:\u001b[36m49\u001b[0m - \u001b[1mscraping search: https://www.indeed.com/cmp/Rad-Ai/jobs\u001b[0m\n",
      "\u001b[32m2024-08-05 18:37:47.540\u001b[0m | \u001b[1mINFO    \u001b[0m | \u001b[36mindeed\u001b[0m:\u001b[36mscrape_search\u001b[0m:\u001b[36m64\u001b[0m - \u001b[1mfound total pages 0 search pages\u001b[0m\n"
     ]
    },
    {
     "name": "stdout",
     "output_type": "stream",
     "text": [
      "scraping remaining -1.0 pages\n"
     ]
    }
   ],
   "source": [
    "from pprint import pprint\n",
    "import indeed\n",
    "indeed.BASE_CONFIG[\"cache\"] = True\n",
    "\n",
    "company_result = await indeed.scrape_search(company_search_results.link)\n",
    "# pprint(result)\n"
   ]
  },
  {
   "cell_type": "code",
   "execution_count": 42,
   "metadata": {},
   "outputs": [
    {
     "data": {
      "text/plain": [
       "[JobOverview(createDate=1705091739000, displayTitle='[ Choose Your Own Role ]', expired=False, formattedLocation='Remote', formattedRelativeTime='30+ days ago', jobLocationCity='Remote', jobkey='3b224a1fc510b30f', pubDate=1705039200000, remoteLocation=True, title='[ Choose Your Own Role ]', salarySnippet=Salary(currency='', salaryTextFormatted=False, source=None, text=None), truncatedCompany='Rad AI', taxonomyAttributes=[Attributes(attributes=[Attribute(label='Full-time', suid='CF3CP')], label='job-types'), Attributes(attributes=[], label='shifts'), Attributes(attributes=[Attribute(label='Remote', suid='DSQF7')], label='remote'), Attributes(attributes=[Attribute(label='Health savings account', suid='7KV6C'), Attribute(label='Health insurance', suid='EY33Q'), Attribute(label='Dental insurance', suid='FQJ2X'), Attribute(label='Flexible spending account', suid='G85UP'), Attribute(label='Paid time off', suid='HW4J4'), Attribute(label='Vision insurance', suid='RZAT2'), Attribute(label='401(k) matching', suid='SENX8'), Attribute(label='Life insurance', suid='Y2WS5')], label='benefits'), Attributes(attributes=[Attribute(label='Full-time', suid='CF3CP')], label='job-types-cc'), Attributes(attributes=[], label='schedules')]),\n",
       " JobOverview(createDate=1705091217000, displayTitle='Staff Software Engineer, Backend', expired=False, formattedLocation='Remote', formattedRelativeTime='30+ days ago', jobLocationCity='Remote', jobkey='51613d5ab096219a', pubDate=1705039200000, remoteLocation=True, title='Staff Software Engineer, Backend', salarySnippet=Salary(currency='USD', salaryTextFormatted=True, source='EXTRACTION', text='$170,000 - $210,000 a year'), truncatedCompany='Rad AI', taxonomyAttributes=[Attributes(attributes=[Attribute(label='Full-time', suid='CF3CP')], label='job-types'), Attributes(attributes=[], label='shifts'), Attributes(attributes=[Attribute(label='Remote', suid='DSQF7')], label='remote'), Attributes(attributes=[Attribute(label='Health savings account', suid='7KV6C'), Attribute(label='Health insurance', suid='EY33Q'), Attribute(label='Dental insurance', suid='FQJ2X'), Attribute(label='Flexible spending account', suid='G85UP'), Attribute(label='Paid time off', suid='HW4J4'), Attribute(label='Vision insurance', suid='RZAT2'), Attribute(label='401(k) matching', suid='SENX8'), Attribute(label='Life insurance', suid='Y2WS5')], label='benefits'), Attributes(attributes=[Attribute(label='Full-time', suid='CF3CP')], label='job-types-cc'), Attributes(attributes=[], label='schedules')]),\n",
       " JobOverview(createDate=1717130074000, displayTitle='Staff Infrastructure Engineer', expired=False, formattedLocation='Remote', formattedRelativeTime='30+ days ago', jobLocationCity='Remote', jobkey='cc088d981c8f8a9f', pubDate=1717045200000, remoteLocation=True, title='Staff Infrastructure Engineer', salarySnippet=Salary(currency='USD', salaryTextFormatted=True, source='EXTRACTION', text='$170,000 - $210,000 a year'), truncatedCompany='Rad AI', taxonomyAttributes=[Attributes(attributes=[Attribute(label='Full-time', suid='CF3CP')], label='job-types'), Attributes(attributes=[], label='shifts'), Attributes(attributes=[Attribute(label='Remote', suid='DSQF7')], label='remote'), Attributes(attributes=[Attribute(label='Health savings account', suid='7KV6C'), Attribute(label='Health insurance', suid='EY33Q'), Attribute(label='Dental insurance', suid='FQJ2X'), Attribute(label='Flexible spending account', suid='G85UP'), Attribute(label='Paid time off', suid='HW4J4'), Attribute(label='Vision insurance', suid='RZAT2'), Attribute(label='401(k) matching', suid='SENX8'), Attribute(label='Life insurance', suid='Y2WS5')], label='benefits'), Attributes(attributes=[Attribute(label='Full-time', suid='CF3CP')], label='job-types-cc'), Attributes(attributes=[Attribute(label='On call', suid='VZD9Q')], label='schedules')]),\n",
       " JobOverview(createDate=1710793597000, displayTitle='Director of Engineering', expired=False, formattedLocation='Remote', formattedRelativeTime='30+ days ago', jobLocationCity='Remote', jobkey='750be3177bf907e6', pubDate=1710738000000, remoteLocation=True, title='Director of Engineering', salarySnippet=Salary(currency='USD', salaryTextFormatted=True, source='EXTRACTION', text='$195,000 - $250,000 a year'), truncatedCompany='Rad AI', taxonomyAttributes=[Attributes(attributes=[Attribute(label='Full-time', suid='CF3CP')], label='job-types'), Attributes(attributes=[], label='shifts'), Attributes(attributes=[Attribute(label='Remote', suid='DSQF7')], label='remote'), Attributes(attributes=[Attribute(label='Health savings account', suid='7KV6C'), Attribute(label='Health insurance', suid='EY33Q'), Attribute(label='Dental insurance', suid='FQJ2X'), Attribute(label='Flexible spending account', suid='G85UP'), Attribute(label='Paid time off', suid='HW4J4'), Attribute(label='Vision insurance', suid='RZAT2'), Attribute(label='401(k) matching', suid='SENX8'), Attribute(label='Life insurance', suid='Y2WS5')], label='benefits'), Attributes(attributes=[Attribute(label='Full-time', suid='CF3CP')], label='job-types-cc'), Attributes(attributes=[], label='schedules')]),\n",
       " JobOverview(createDate=1718915977000, displayTitle='Director of Engineering, Platform', expired=False, formattedLocation='Remote', formattedRelativeTime='30+ days ago', jobLocationCity='Remote', jobkey='10dd91ece1641385', pubDate=1718859600000, remoteLocation=True, title='Director of Engineering, Platform', salarySnippet=Salary(currency='USD', salaryTextFormatted=True, source='EXTRACTION', text='$195,000 - $250,000 a year'), truncatedCompany='Rad AI', taxonomyAttributes=[Attributes(attributes=[Attribute(label='Full-time', suid='CF3CP')], label='job-types'), Attributes(attributes=[], label='shifts'), Attributes(attributes=[Attribute(label='Remote', suid='DSQF7')], label='remote'), Attributes(attributes=[Attribute(label='Health savings account', suid='7KV6C'), Attribute(label='Health insurance', suid='EY33Q'), Attribute(label='Dental insurance', suid='FQJ2X'), Attribute(label='Flexible spending account', suid='G85UP'), Attribute(label='Paid time off', suid='HW4J4'), Attribute(label='Vision insurance', suid='RZAT2'), Attribute(label='401(k) matching', suid='SENX8'), Attribute(label='Life insurance', suid='Y2WS5')], label='benefits'), Attributes(attributes=[Attribute(label='Full-time', suid='CF3CP')], label='job-types-cc'), Attributes(attributes=[], label='schedules')]),\n",
       " JobOverview(createDate=1718742558000, displayTitle='Software Engineer', expired=False, formattedLocation='Remote', formattedRelativeTime='30+ days ago', jobLocationCity='Remote', jobkey='6f12a10caa57a0e2', pubDate=1718686800000, remoteLocation=True, title='Software Engineer', salarySnippet=Salary(currency='USD', salaryTextFormatted=True, source='EXTRACTION', text='$120,000 - $160,000 a year'), truncatedCompany='Rad AI', taxonomyAttributes=[Attributes(attributes=[Attribute(label='Full-time', suid='CF3CP')], label='job-types'), Attributes(attributes=[], label='shifts'), Attributes(attributes=[Attribute(label='Remote', suid='DSQF7')], label='remote'), Attributes(attributes=[Attribute(label='Health savings account', suid='7KV6C'), Attribute(label='Health insurance', suid='EY33Q'), Attribute(label='Dental insurance', suid='FQJ2X'), Attribute(label='Flexible spending account', suid='G85UP'), Attribute(label='Paid time off', suid='HW4J4'), Attribute(label='Vision insurance', suid='RZAT2'), Attribute(label='401(k) matching', suid='SENX8'), Attribute(label='Life insurance', suid='Y2WS5')], label='benefits'), Attributes(attributes=[Attribute(label='Full-time', suid='CF3CP')], label='job-types-cc'), Attributes(attributes=[], label='schedules')]),\n",
       " JobOverview(createDate=1705091790000, displayTitle='Senior Software Engineer, Full Stack', expired=False, formattedLocation='Remote', formattedRelativeTime='30+ days ago', jobLocationCity='Remote', jobkey='d9c545612c1609e7', pubDate=1705039200000, remoteLocation=True, title='Senior Software Engineer, Full Stack', salarySnippet=Salary(currency='USD', salaryTextFormatted=True, source='EXTRACTION', text='$145,000 - $190,000 a year'), truncatedCompany='Rad AI', taxonomyAttributes=[Attributes(attributes=[Attribute(label='Full-time', suid='CF3CP')], label='job-types'), Attributes(attributes=[], label='shifts'), Attributes(attributes=[Attribute(label='Remote', suid='DSQF7')], label='remote'), Attributes(attributes=[Attribute(label='Health savings account', suid='7KV6C'), Attribute(label='Health insurance', suid='EY33Q'), Attribute(label='Dental insurance', suid='FQJ2X'), Attribute(label='Flexible spending account', suid='G85UP'), Attribute(label='Paid time off', suid='HW4J4'), Attribute(label='Vision insurance', suid='RZAT2'), Attribute(label='401(k) matching', suid='SENX8'), Attribute(label='Life insurance', suid='Y2WS5')], label='benefits'), Attributes(attributes=[Attribute(label='Full-time', suid='CF3CP')], label='job-types-cc'), Attributes(attributes=[], label='schedules')]),\n",
       " JobOverview(createDate=1708173313000, displayTitle='Senior Machine Learning Engineer, Infrastructure', expired=False, formattedLocation='Remote', formattedRelativeTime='30+ days ago', jobLocationCity='Remote', jobkey='b0a012e7fe49d881', pubDate=1708149600000, remoteLocation=True, title='Senior Machine Learning Engineer, Infrastructure', salarySnippet=Salary(currency='USD', salaryTextFormatted=True, source='EXTRACTION', text='$145,000 - $190,000 a year'), truncatedCompany='Rad AI', taxonomyAttributes=[Attributes(attributes=[Attribute(label='Full-time', suid='CF3CP')], label='job-types'), Attributes(attributes=[], label='shifts'), Attributes(attributes=[Attribute(label='Remote', suid='DSQF7')], label='remote'), Attributes(attributes=[Attribute(label='Health savings account', suid='7KV6C'), Attribute(label='Health insurance', suid='EY33Q'), Attribute(label='Dental insurance', suid='FQJ2X'), Attribute(label='Flexible spending account', suid='G85UP'), Attribute(label='Paid time off', suid='HW4J4'), Attribute(label='Vision insurance', suid='RZAT2'), Attribute(label='401(k) matching', suid='SENX8'), Attribute(label='Life insurance', suid='Y2WS5')], label='benefits'), Attributes(attributes=[Attribute(label='Full-time', suid='CF3CP')], label='job-types-cc'), Attributes(attributes=[], label='schedules')]),\n",
       " JobOverview(createDate=1721680525000, displayTitle='Implementation Engineer', expired=False, formattedLocation='Remote', formattedRelativeTime='14 days ago', jobLocationCity='Remote', jobkey='26bf7f5b7baf000a', pubDate=1721624400000, remoteLocation=True, title='Implementation Engineer', salarySnippet=Salary(currency='USD', salaryTextFormatted=True, source='EXTRACTION', text='$110,000 - $140,000 a year'), truncatedCompany='Rad AI', taxonomyAttributes=[Attributes(attributes=[Attribute(label='Full-time', suid='CF3CP')], label='job-types'), Attributes(attributes=[], label='shifts'), Attributes(attributes=[Attribute(label='Remote', suid='DSQF7')], label='remote'), Attributes(attributes=[Attribute(label='Health savings account', suid='7KV6C'), Attribute(label='Health insurance', suid='EY33Q'), Attribute(label='Dental insurance', suid='FQJ2X'), Attribute(label='Flexible spending account', suid='G85UP'), Attribute(label='Paid time off', suid='HW4J4'), Attribute(label='Vision insurance', suid='RZAT2'), Attribute(label='401(k) matching', suid='SENX8'), Attribute(label='Life insurance', suid='Y2WS5')], label='benefits'), Attributes(attributes=[Attribute(label='Full-time', suid='CF3CP')], label='job-types-cc'), Attributes(attributes=[], label='schedules')]),\n",
       " JobOverview(createDate=1705120133000, displayTitle='Machine Learning Research Scientist', expired=False, formattedLocation='Remote', formattedRelativeTime='30+ days ago', jobLocationCity='Remote', jobkey='ce5a437a0de48dd9', pubDate=1705039200000, remoteLocation=True, title='Machine Learning Research Scientist', salarySnippet=Salary(currency='USD', salaryTextFormatted=True, source='EXTRACTION', text='$120,000 - $170,000 a year'), truncatedCompany='Rad AI', taxonomyAttributes=[Attributes(attributes=[Attribute(label='Full-time', suid='CF3CP')], label='job-types'), Attributes(attributes=[], label='shifts'), Attributes(attributes=[Attribute(label='Remote', suid='DSQF7')], label='remote'), Attributes(attributes=[Attribute(label='Health savings account', suid='7KV6C'), Attribute(label='Health insurance', suid='EY33Q'), Attribute(label='Dental insurance', suid='FQJ2X'), Attribute(label='Flexible spending account', suid='G85UP'), Attribute(label='Paid time off', suid='HW4J4'), Attribute(label='Vision insurance', suid='RZAT2'), Attribute(label='401(k) matching', suid='SENX8'), Attribute(label='Life insurance', suid='Y2WS5')], label='benefits'), Attributes(attributes=[Attribute(label='Full-time', suid='CF3CP')], label='job-types-cc'), Attributes(attributes=[], label='schedules')]),\n",
       " JobOverview(createDate=1721349020000, displayTitle='Regional Vice President of Sales', expired=False, formattedLocation='Remote', formattedRelativeTime='18 days ago', jobLocationCity='Remote', jobkey='c1edc1c3bad6cfa6', pubDate=1721278800000, remoteLocation=True, title='Regional Vice President of Sales', salarySnippet=Salary(currency='USD', salaryTextFormatted=True, source='EXTRACTION', text='$120,000 - $140,000 a year'), truncatedCompany='Rad AI', taxonomyAttributes=[Attributes(attributes=[Attribute(label='Full-time', suid='CF3CP')], label='job-types'), Attributes(attributes=[], label='shifts'), Attributes(attributes=[Attribute(label='Remote', suid='DSQF7')], label='remote'), Attributes(attributes=[Attribute(label='Health savings account', suid='7KV6C'), Attribute(label='Health insurance', suid='EY33Q'), Attribute(label='Dental insurance', suid='FQJ2X'), Attribute(label='Flexible spending account', suid='G85UP'), Attribute(label='Paid time off', suid='HW4J4'), Attribute(label='Vision insurance', suid='RZAT2'), Attribute(label='401(k) matching', suid='SENX8'), Attribute(label='Life insurance', suid='Y2WS5')], label='benefits'), Attributes(attributes=[Attribute(label='Full-time', suid='CF3CP')], label='job-types-cc'), Attributes(attributes=[], label='schedules')]),\n",
       " JobOverview(createDate=1720729609000, displayTitle='Legal Counsel', expired=False, formattedLocation='Remote', formattedRelativeTime='25 days ago', jobLocationCity='Remote', jobkey='9eb56e1c595aff38', pubDate=1720674000000, remoteLocation=True, title='Legal Counsel', salarySnippet=Salary(currency='USD', salaryTextFormatted=True, source='EXTRACTION', text='$180,000 - $230,000 a year'), truncatedCompany='Rad AI', taxonomyAttributes=[Attributes(attributes=[Attribute(label='Full-time', suid='CF3CP')], label='job-types'), Attributes(attributes=[], label='shifts'), Attributes(attributes=[Attribute(label='Remote', suid='DSQF7')], label='remote'), Attributes(attributes=[Attribute(label='Health savings account', suid='7KV6C'), Attribute(label='Health insurance', suid='EY33Q'), Attribute(label='Dental insurance', suid='FQJ2X'), Attribute(label='Flexible spending account', suid='G85UP'), Attribute(label='Paid time off', suid='HW4J4'), Attribute(label='Vision insurance', suid='RZAT2'), Attribute(label='401(k) matching', suid='SENX8'), Attribute(label='Life insurance', suid='Y2WS5')], label='benefits'), Attributes(attributes=[Attribute(label='Full-time', suid='CF3CP')], label='job-types-cc'), Attributes(attributes=[], label='schedules')]),\n",
       " JobOverview(createDate=1720484833000, displayTitle='Accounting Manager', expired=False, formattedLocation='Remote', formattedRelativeTime='28 days ago', jobLocationCity='Remote', jobkey='6b52467939ef2c84', pubDate=1720414800000, remoteLocation=True, title='Accounting Manager', salarySnippet=Salary(currency='USD', salaryTextFormatted=True, source='EXTRACTION', text='$100,000 - $130,000 a year'), truncatedCompany='Rad AI', taxonomyAttributes=[Attributes(attributes=[Attribute(label='Full-time', suid='CF3CP')], label='job-types'), Attributes(attributes=[], label='shifts'), Attributes(attributes=[Attribute(label='Remote', suid='DSQF7')], label='remote'), Attributes(attributes=[Attribute(label='Health savings account', suid='7KV6C'), Attribute(label='Health insurance', suid='EY33Q'), Attribute(label='Dental insurance', suid='FQJ2X'), Attribute(label='Flexible spending account', suid='G85UP'), Attribute(label='Paid time off', suid='HW4J4'), Attribute(label='Vision insurance', suid='RZAT2'), Attribute(label='401(k) matching', suid='SENX8'), Attribute(label='Life insurance', suid='Y2WS5')], label='benefits'), Attributes(attributes=[Attribute(label='Full-time', suid='CF3CP')], label='job-types-cc'), Attributes(attributes=[], label='schedules')]),\n",
       " JobOverview(createDate=1709584074000, displayTitle='Principal Machine Learning Research Scientist', expired=False, formattedLocation='Remote', formattedRelativeTime='30+ days ago', jobLocationCity='Remote', jobkey='29e297a73748ec9b', pubDate=1709532000000, remoteLocation=True, title='Principal Machine Learning Research Scientist', salarySnippet=Salary(currency='USD', salaryTextFormatted=True, source='EXTRACTION', text='$200,000 - $300,000 a year'), truncatedCompany='Rad AI', taxonomyAttributes=[Attributes(attributes=[Attribute(label='Full-time', suid='CF3CP')], label='job-types'), Attributes(attributes=[], label='shifts'), Attributes(attributes=[Attribute(label='Remote', suid='DSQF7')], label='remote'), Attributes(attributes=[Attribute(label='Health savings account', suid='7KV6C'), Attribute(label='Health insurance', suid='EY33Q'), Attribute(label='Dental insurance', suid='FQJ2X'), Attribute(label='Flexible spending account', suid='G85UP'), Attribute(label='Paid time off', suid='HW4J4'), Attribute(label='Vision insurance', suid='RZAT2'), Attribute(label='401(k) matching', suid='SENX8'), Attribute(label='Life insurance', suid='Y2WS5')], label='benefits'), Attributes(attributes=[Attribute(label='Full-time', suid='CF3CP')], label='job-types-cc'), Attributes(attributes=[], label='schedules')])]"
      ]
     },
     "execution_count": 42,
     "metadata": {},
     "output_type": "execute_result"
    }
   ],
   "source": [
    "from pydantic import BaseModel, model_validator\n",
    "from typing import List, Dict, Optional\n",
    "\n",
    "class Salary(BaseModel):\n",
    "    currency: str\n",
    "    salaryTextFormatted: bool\n",
    "    source: Optional[str]\n",
    "    text: Optional[str]\n",
    "\n",
    "    @model_validator(mode='before')\n",
    "    def _allow_missing_optional(cls, data):\n",
    "        if \"source\" not in data:\n",
    "            data[\"source\"] = None\n",
    "        if \"text\" not in data:\n",
    "            data[\"text\"] = None\n",
    "        return data\n",
    "\n",
    "class Attribute(BaseModel):\n",
    "    label: str\n",
    "    suid: str\n",
    "\n",
    "class Attributes(BaseModel):\n",
    "    attributes: List[Attribute]\n",
    "    label: str\n",
    "\n",
    "class JobOverview(BaseModel):\n",
    "    createDate: int\n",
    "    displayTitle: str\n",
    "    expired: bool\n",
    "    formattedLocation: str\n",
    "    formattedRelativeTime: str\n",
    "    jobLocationCity: str\n",
    "    jobkey: str\n",
    "    pubDate: int\n",
    "    remoteLocation: bool\n",
    "    title: str\n",
    "    salarySnippet: Salary\n",
    "    truncatedCompany: str\n",
    "    taxonomyAttributes: List[Attributes]\n",
    "\n",
    "job_overviews = [JobOverview(**job) for job in company_result]\n",
    "job_overviews"
   ]
  },
  {
   "cell_type": "code",
   "execution_count": 43,
   "metadata": {},
   "outputs": [
    {
     "name": "stderr",
     "output_type": "stream",
     "text": [
      "\u001b[32m2024-08-05 18:38:20.724\u001b[0m | \u001b[1mINFO    \u001b[0m | \u001b[36mindeed\u001b[0m:\u001b[36mscrape_jobs\u001b[0m:\u001b[36m89\u001b[0m - \u001b[1mscraping 2 job listings\u001b[0m\n"
     ]
    }
   ],
   "source": [
    "jobKeys = [job.jobkey for job in job_overviews]\n",
    "jobKeys\n",
    "\n",
    "jobs = jobKeys[:2]\n",
    "job_detail_results = await indeed.scrape_jobs(jobs)\n"
   ]
  },
  {
   "cell_type": "code",
   "execution_count": 44,
   "metadata": {},
   "outputs": [
    {
     "name": "stdout",
     "output_type": "stream",
     "text": [
      "\n",
      "# Staff Software Engineer, Backend at Rad AI\n",
      "- Remote\n",
      "- Full-time\n",
      "\n",
      "\n",
      "**About Rad AI**\n",
      "----------------\n",
      "\n",
      "\n",
      " We have raised $80\\+ million to date from venture funds and just closed on our series B financing with investors Khosla Ventures, Gradient (Google’s AI fund) and ARTIS. We’ve also formed a partnership with Google to collaborate on the future of generative AI to \n",
      "\n",
      "\n",
      "# [ Choose Your Own Role ] at Rad AI\n",
      "- Remote\n",
      "- Full-time\n",
      "\n",
      "\n",
      "**About Rad AI**\n",
      "----------------\n",
      "\n",
      "\n",
      " We have raised $80\\+ million to date from venture funds and just closed on our series B financing with investors Khosla Ventures, Gradient (Google’s AI fund) and ARTIS. We’ve also formed a partnership with Google to collaborate on the future of generative AI to \n",
      "\n"
     ]
    }
   ],
   "source": [
    "class JobDetails(BaseModel):\n",
    "    companyName: str\n",
    "    companyOverviewLink: str\n",
    "    companyReviewLink: str\n",
    "    description: str # html formatted\n",
    "    formattedLocation: str\n",
    "    jobNormTitle: Optional[str]\n",
    "    jobTitle: str\n",
    "    jobType: str\n",
    "    jobTypes: Optional[List[str]]\n",
    "    location: Optional[str]\n",
    "    remoteLocation: bool\n",
    "    remoteWorkModel: Dict\n",
    "    salaryCurrency: Optional[str]\n",
    "    salaryMax: Optional[int]\n",
    "    salaryMin: Optional[int]\n",
    "    salaryType: Optional[str]\n",
    "    subtitle: str\n",
    "\n",
    "\n",
    "job_details = [JobDetails(**job) for job in job_detail_results]\n",
    "\n",
    "\n",
    "from markdownify import markdownify as md\n",
    "\n",
    "for job_detail in job_details:\n",
    "    print(f\"\"\"\n",
    "# {job_detail.jobTitle} at {job_detail.companyName}\n",
    "- {job_detail.formattedLocation}\n",
    "- {job_detail.jobType}\n",
    "\n",
    "{md(job_detail.description)[:300]}\n",
    "\"\"\")"
   ]
  },
  {
   "cell_type": "code",
   "execution_count": null,
   "metadata": {},
   "outputs": [],
   "source": []
  }
 ],
 "metadata": {
  "kernelspec": {
   "display_name": ".venv",
   "language": "python",
   "name": "python3"
  },
  "language_info": {
   "codemirror_mode": {
    "name": "ipython",
    "version": 3
   },
   "file_extension": ".py",
   "mimetype": "text/x-python",
   "name": "python",
   "nbconvert_exporter": "python",
   "pygments_lexer": "ipython3",
   "version": "3.10.12"
  }
 },
 "nbformat": 4,
 "nbformat_minor": 2
}
