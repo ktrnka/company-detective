{
 "cells": [
  {
   "cell_type": "code",
   "execution_count": 1,
   "metadata": {},
   "outputs": [],
   "source": [
    "from core import Seed, init\n",
    "\n",
    "init()"
   ]
  },
  {
   "cell_type": "code",
   "execution_count": 2,
   "metadata": {},
   "outputs": [],
   "source": [
    "# # optionally, help find the URL for the seed\n",
    "# from google_search import search\n",
    "\n",
    "# for result in search(\"Imagine Pediatics\"):\n",
    "#     print(result)"
   ]
  },
  {
   "cell_type": "code",
   "execution_count": 3,
   "metadata": {},
   "outputs": [
    {
     "name": "stderr",
     "output_type": "stream",
     "text": [
      "\u001b[32m2024-09-16 15:46:16.977\u001b[0m | \u001b[1mINFO    \u001b[0m | \u001b[36mcompany_webpage\u001b[0m:\u001b[36mrun\u001b[0m:\u001b[36m66\u001b[0m - \u001b[1m85,472 -> 3,974 chars (5%) \u001b[0m\n",
      "\u001b[32m2024-09-16 15:46:16.984\u001b[0m | \u001b[1mINFO    \u001b[0m | \u001b[36mcompany_webpage\u001b[0m:\u001b[36mrun\u001b[0m:\u001b[36m66\u001b[0m - \u001b[1mExtractive fraction: 13% \u001b[0m\n",
      "\u001b[32m2024-09-16 15:46:16.985\u001b[0m | \u001b[1mINFO    \u001b[0m | \u001b[36mcompany_webpage\u001b[0m:\u001b[36mrun\u001b[0m:\u001b[36m66\u001b[0m - \u001b[1mPercent of URLs in sources: 100% ✅\u001b[0m\n",
      "\u001b[32m2024-09-16 15:46:16.986\u001b[0m | \u001b[1mINFO    \u001b[0m | \u001b[36mcompany_webpage\u001b[0m:\u001b[36mrun\u001b[0m:\u001b[36m66\u001b[0m - \u001b[1mCitation density: 11.7% (percent of output used by URLs/link syntax) \u001b[0m\n",
      "\u001b[32m2024-09-16 15:46:16.986\u001b[0m | \u001b[1mINFO    \u001b[0m | \u001b[36mcompany_webpage\u001b[0m:\u001b[36mrun\u001b[0m:\u001b[36m66\u001b[0m - \u001b[1mDistinct URLs (summary / input): 10 / 30\u001b[0m\n",
      "\u001b[32m2024-09-16 15:46:16.987\u001b[0m | \u001b[1mINFO    \u001b[0m | \u001b[36mcompany_webpage\u001b[0m:\u001b[36mrun\u001b[0m:\u001b[36m66\u001b[0m - \u001b[1mSuspicious URLs: set()\u001b[0m\n",
      "\u001b[32m2024-09-16 15:46:16.988\u001b[0m | \u001b[1mINFO    \u001b[0m | \u001b[36mcompany_webpage\u001b[0m:\u001b[36mrun\u001b[0m:\u001b[36m66\u001b[0m - \u001b[1mCache mentions: 0 ✅\u001b[0m\n",
      "\u001b[32m2024-09-16 15:46:20.184\u001b[0m | \u001b[1mINFO    \u001b[0m | \u001b[36mcore\u001b[0m:\u001b[36mshorten_markdown\u001b[0m:\u001b[36m230\u001b[0m - \u001b[1m24,479 -> 19,484 chars (80% of original)\u001b[0m\n",
      "\u001b[32m2024-09-16 15:46:26.843\u001b[0m | \u001b[1mINFO    \u001b[0m | \u001b[36mcore\u001b[0m:\u001b[36munshorten_markdown\u001b[0m:\u001b[36m249\u001b[0m - \u001b[1m2,755 -> 2,755 chars (100% of original)\u001b[0m\n",
      "\u001b[32m2024-09-16 15:46:26.845\u001b[0m | \u001b[1mINFO    \u001b[0m | \u001b[36mgeneral_search\u001b[0m:\u001b[36msummarize\u001b[0m:\u001b[36m126\u001b[0m - \u001b[1m24,479 -> 2,755 chars (11%) \u001b[0m\n",
      "\u001b[32m2024-09-16 15:46:26.849\u001b[0m | \u001b[1mINFO    \u001b[0m | \u001b[36mgeneral_search\u001b[0m:\u001b[36msummarize\u001b[0m:\u001b[36m126\u001b[0m - \u001b[1mExtractive fraction: 39% ❌\u001b[0m\n",
      "\u001b[32m2024-09-16 15:46:26.850\u001b[0m | \u001b[1mINFO    \u001b[0m | \u001b[36mgeneral_search\u001b[0m:\u001b[36msummarize\u001b[0m:\u001b[36m126\u001b[0m - \u001b[1mPercent of URLs in sources: 16% ❌\u001b[0m\n",
      "\u001b[32m2024-09-16 15:46:26.850\u001b[0m | \u001b[1mINFO    \u001b[0m | \u001b[36mgeneral_search\u001b[0m:\u001b[36msummarize\u001b[0m:\u001b[36m126\u001b[0m - \u001b[1mCitation density: 37.4% (percent of output used by URLs/link syntax) \u001b[0m\n",
      "\u001b[32m2024-09-16 15:46:26.851\u001b[0m | \u001b[1mINFO    \u001b[0m | \u001b[36mgeneral_search\u001b[0m:\u001b[36msummarize\u001b[0m:\u001b[36m126\u001b[0m - \u001b[1mDistinct URLs (summary / input): 19 / 81\u001b[0m\n",
      "\u001b[32m2024-09-16 15:46:26.852\u001b[0m | \u001b[1mINFO    \u001b[0m | \u001b[36mgeneral_search\u001b[0m:\u001b[36msummarize\u001b[0m:\u001b[36m126\u001b[0m - \u001b[1mSuspicious URLs: {'https://www.facebook.com/AkiliInteractive', 'https://dtxalliance.org/akili-interactive', 'https://www.crunchbase.com/organization/akili-interactive-labs', 'https://drugtopics.com/view/fda-clears-first-prescription-game-based-treatment-device-adhd', 'https://powertofly.com/jobs/detail/123456', 'https://bostonglobe.com/article/123456', 'https://play.google.com/store/apps/details?id=com.akili.endavorotc', 'https://statnews.com/article/123456', 'https://akiliinteractive.com/products', 'https://citybiz.co/article/123456', 'https://fastcompany.com/article/123456', 'https://healthcare-brew.com/article/123456', 'https://medtechdive.com/news/akili-raises-163m-blank-check-merger/123456', 'https://www.linkedin.com/company/akili-interactive', 'https://akiliinteractive.com/careers', 'https://twitter.com/AkiliLabs'}\u001b[0m\n",
      "\u001b[32m2024-09-16 15:46:26.852\u001b[0m | \u001b[1mINFO    \u001b[0m | \u001b[36mgeneral_search\u001b[0m:\u001b[36msummarize\u001b[0m:\u001b[36m126\u001b[0m - \u001b[1mCache mentions: 0 ✅\u001b[0m\n",
      "\u001b[32m2024-09-16 15:46:27.085\u001b[0m | \u001b[1mINFO    \u001b[0m | \u001b[36mscrapfly_scrapers.crunchbase\u001b[0m:\u001b[36mscrape_company\u001b[0m:\u001b[36m62\u001b[0m - \u001b[1mscraping company: https://www.crunchbase.com/organization/akili/people\u001b[0m\n",
      "CRITICAL:root:<-- 422 | ERR::SCRAPE::COST_BUDGET_LIMIT - Cost budget has been reached, you must increase the budget to pass this target - The cost of the scrape is exceeding the budget of 50, would require 51 API credit. Checkout the related doc: https://scrapfly.io/docs/scrape-api/anti-scraping-protection\n",
      "\u001b[32m2024-09-16 15:46:27.431\u001b[0m | \u001b[33m\u001b[1mWARNING \u001b[0m | \u001b[36mcrunchbase\u001b[0m:\u001b[36mrun\u001b[0m:\u001b[36m59\u001b[0m - \u001b[33m\u001b[1mFailed to process Crunchbase (ScrapflyScrapeError), skipping: <-- 422 | ERR::SCRAPE::COST_BUDGET_LIMIT - Cost budget has been reached, you must increase the budget to pass this target - The cost of the scrape is exceeding the budget of 50, would require 51 API credit. Checkout the related doc: https://scrapfly.io/docs/scrape-api/anti-scraping-protection\u001b[0m\n",
      "\u001b[32m2024-09-16 15:46:27.432\u001b[0m | \u001b[33m\u001b[1mWARNING \u001b[0m | \u001b[36munified\u001b[0m:\u001b[36mrun\u001b[0m:\u001b[36m299\u001b[0m - \u001b[33m\u001b[1mNo Crunchbase info found\u001b[0m\n",
      "\u001b[32m2024-09-16 15:46:28.409\u001b[0m | \u001b[1mINFO    \u001b[0m | \u001b[36mcustomer_experience\u001b[0m:\u001b[36mrun\u001b[0m:\u001b[36m163\u001b[0m - \u001b[1mTotal reviews: 2\u001b[0m\n",
      "\u001b[32m2024-09-16 15:46:28.410\u001b[0m | \u001b[1mINFO    \u001b[0m | \u001b[36mcustomer_experience\u001b[0m:\u001b[36mrun\u001b[0m:\u001b[36m173\u001b[0m - \u001b[1mPacked reviews: 1\u001b[0m\n",
      "\u001b[32m2024-09-16 15:46:28.480\u001b[0m | \u001b[1mINFO    \u001b[0m | \u001b[36mcore\u001b[0m:\u001b[36mshorten_markdown\u001b[0m:\u001b[36m230\u001b[0m - \u001b[1m15,661 -> 12,535 chars (80% of original)\u001b[0m\n",
      "WARNING:langchain_core.callbacks.manager:Error in LangChainTracer.on_chain_start callback: ValidationError(model='Run', errors=[{'loc': ('__root__',), 'msg': \"argument of type 'NoneType' is not iterable\", 'type': 'type_error'}])\n",
      "WARNING:langchain_core.callbacks.manager:Error in LangChainTracer.on_chain_end callback: TracerException('No indexed run ID 83637cd3-a6c7-453e-938f-d0eec58f1e15.')\n",
      "\u001b[32m2024-09-16 15:46:30.839\u001b[0m | \u001b[1mINFO    \u001b[0m | \u001b[36mcustomer_experience\u001b[0m:\u001b[36mrun\u001b[0m:\u001b[36m208\u001b[0m - \u001b[1mMap stage 12,535 chars -> 772 chars (6%)\u001b[0m\n",
      "\u001b[32m2024-09-16 15:46:30.840\u001b[0m | \u001b[1mINFO    \u001b[0m | \u001b[36mcustomer_experience\u001b[0m:\u001b[36mrun\u001b[0m:\u001b[36m208\u001b[0m - \u001b[1mReduce stage 772 chars -> 898 chars (116%)\u001b[0m\n",
      "\u001b[32m2024-09-16 15:46:30.841\u001b[0m | \u001b[1mINFO    \u001b[0m | \u001b[36mcore\u001b[0m:\u001b[36munshorten_markdown\u001b[0m:\u001b[36m249\u001b[0m - \u001b[1m898 -> 1,066 chars (119% of original)\u001b[0m\n",
      "\u001b[32m2024-09-16 15:46:30.841\u001b[0m | \u001b[1mINFO    \u001b[0m | \u001b[36mcustomer_experience\u001b[0m:\u001b[36mrun\u001b[0m:\u001b[36m211\u001b[0m - \u001b[1m15,661 -> 1,066 chars (7%) \u001b[0m\n",
      "\u001b[32m2024-09-16 15:46:30.844\u001b[0m | \u001b[1mINFO    \u001b[0m | \u001b[36mcustomer_experience\u001b[0m:\u001b[36mrun\u001b[0m:\u001b[36m211\u001b[0m - \u001b[1mExtractive fraction: 74% \u001b[0m\n",
      "\u001b[32m2024-09-16 15:46:30.844\u001b[0m | \u001b[1mINFO    \u001b[0m | \u001b[36mcustomer_experience\u001b[0m:\u001b[36mrun\u001b[0m:\u001b[36m211\u001b[0m - \u001b[1mPercent of URLs in sources: 100% ✅\u001b[0m\n",
      "\u001b[32m2024-09-16 15:46:30.845\u001b[0m | \u001b[1mINFO    \u001b[0m | \u001b[36mcustomer_experience\u001b[0m:\u001b[36mrun\u001b[0m:\u001b[36m211\u001b[0m - \u001b[1mCitation density: 21.4% (percent of output used by URLs/link syntax) \u001b[0m\n",
      "\u001b[32m2024-09-16 15:46:30.846\u001b[0m | \u001b[1mINFO    \u001b[0m | \u001b[36mcustomer_experience\u001b[0m:\u001b[36mrun\u001b[0m:\u001b[36m211\u001b[0m - \u001b[1mDistinct URLs (summary / input): 1 / 51\u001b[0m\n",
      "\u001b[32m2024-09-16 15:46:30.846\u001b[0m | \u001b[1mINFO    \u001b[0m | \u001b[36mcustomer_experience\u001b[0m:\u001b[36mrun\u001b[0m:\u001b[36m211\u001b[0m - \u001b[1mSuspicious URLs: set()\u001b[0m\n",
      "\u001b[32m2024-09-16 15:46:30.847\u001b[0m | \u001b[1mINFO    \u001b[0m | \u001b[36mcustomer_experience\u001b[0m:\u001b[36mrun\u001b[0m:\u001b[36m211\u001b[0m - \u001b[1mCache mentions: 0 ✅\u001b[0m\n",
      "\u001b[32m2024-09-16 15:46:30.999\u001b[0m | \u001b[33m\u001b[1mWARNING \u001b[0m | \u001b[36mglassdoor\u001b[0m:\u001b[36mrun\u001b[0m:\u001b[36m67\u001b[0m - \u001b[33m\u001b[1mNo Glassdoor review page found for Seed(company='Akili Interactive', product='Akili Interactive', domain='akiliinteractive.com')\u001b[0m\n",
      "\u001b[32m2024-09-16 15:47:29.053\u001b[0m | \u001b[1mINFO    \u001b[0m | \u001b[36mcore\u001b[0m:\u001b[36mshorten_markdown\u001b[0m:\u001b[36m230\u001b[0m - \u001b[1m172,930 -> 170,144 chars (98% of original)\u001b[0m\n",
      "\u001b[32m2024-09-16 15:47:50.854\u001b[0m | \u001b[1mINFO    \u001b[0m | \u001b[36mcore\u001b[0m:\u001b[36munshorten_markdown\u001b[0m:\u001b[36m249\u001b[0m - \u001b[1m5,258 -> 6,457 chars (123% of original)\u001b[0m\n",
      "\u001b[32m2024-09-16 15:47:50.856\u001b[0m | \u001b[1mINFO    \u001b[0m | \u001b[36mnews.summarize\u001b[0m:\u001b[36msummarize\u001b[0m:\u001b[36m95\u001b[0m - \u001b[1m172,930 -> 6,457 chars (4%) \u001b[0m\n",
      "\u001b[32m2024-09-16 15:47:50.871\u001b[0m | \u001b[1mINFO    \u001b[0m | \u001b[36mnews.summarize\u001b[0m:\u001b[36msummarize\u001b[0m:\u001b[36m95\u001b[0m - \u001b[1mExtractive fraction: 26% \u001b[0m\n",
      "\u001b[32m2024-09-16 15:47:50.871\u001b[0m | \u001b[1mINFO    \u001b[0m | \u001b[36mnews.summarize\u001b[0m:\u001b[36msummarize\u001b[0m:\u001b[36m95\u001b[0m - \u001b[1mPercent of URLs in sources: 88% ❌\u001b[0m\n",
      "\u001b[32m2024-09-16 15:47:50.872\u001b[0m | \u001b[1mINFO    \u001b[0m | \u001b[36mnews.summarize\u001b[0m:\u001b[36msummarize\u001b[0m:\u001b[36m95\u001b[0m - \u001b[1mCitation density: 25.4% (percent of output used by URLs/link syntax) \u001b[0m\n",
      "\u001b[32m2024-09-16 15:47:50.873\u001b[0m | \u001b[1mINFO    \u001b[0m | \u001b[36mnews.summarize\u001b[0m:\u001b[36msummarize\u001b[0m:\u001b[36m95\u001b[0m - \u001b[1mDistinct URLs (summary / input): 8 / 37\u001b[0m\n",
      "\u001b[32m2024-09-16 15:47:50.873\u001b[0m | \u001b[1mINFO    \u001b[0m | \u001b[36mnews.summarize\u001b[0m:\u001b[36msummarize\u001b[0m:\u001b[36m95\u001b[0m - \u001b[1mSuspicious URLs: {'https://www.businesswire.com/news/home/20240701029834/en/'}\u001b[0m\n",
      "\u001b[32m2024-09-16 15:47:50.874\u001b[0m | \u001b[1mINFO    \u001b[0m | \u001b[36mnews.summarize\u001b[0m:\u001b[36msummarize\u001b[0m:\u001b[36m95\u001b[0m - \u001b[1mCache mentions: 0 ✅\u001b[0m\n",
      "\u001b[32m2024-09-16 15:47:50.960\u001b[0m | \u001b[1mINFO    \u001b[0m | \u001b[36mcore\u001b[0m:\u001b[36mshorten_markdown\u001b[0m:\u001b[36m230\u001b[0m - \u001b[1m3,974 -> 3,813 chars (96% of original)\u001b[0m\n",
      "\u001b[32m2024-09-16 15:47:50.961\u001b[0m | \u001b[1mINFO    \u001b[0m | \u001b[36mcore\u001b[0m:\u001b[36mshorten_markdown\u001b[0m:\u001b[36m230\u001b[0m - \u001b[1m6,457 -> 5,266 chars (82% of original)\u001b[0m\n",
      "\u001b[32m2024-09-16 15:48:11.286\u001b[0m | \u001b[1mINFO    \u001b[0m | \u001b[36mcore\u001b[0m:\u001b[36munshorten_markdown\u001b[0m:\u001b[36m249\u001b[0m - \u001b[1m7,125 -> 8,400 chars (118% of original)\u001b[0m\n",
      "\u001b[32m2024-09-16 15:48:11.288\u001b[0m | \u001b[1mINFO    \u001b[0m | \u001b[36munified\u001b[0m:\u001b[36mrun\u001b[0m:\u001b[36m354\u001b[0m - \u001b[1m10,433 -> 8,400 chars (81%) \u001b[0m\n",
      "\u001b[32m2024-09-16 15:48:11.291\u001b[0m | \u001b[1mINFO    \u001b[0m | \u001b[36munified\u001b[0m:\u001b[36mrun\u001b[0m:\u001b[36m354\u001b[0m - \u001b[1mExtractive fraction: 68% \u001b[0m\n",
      "\u001b[32m2024-09-16 15:48:11.292\u001b[0m | \u001b[1mINFO    \u001b[0m | \u001b[36munified\u001b[0m:\u001b[36mrun\u001b[0m:\u001b[36m354\u001b[0m - \u001b[1mPercent of URLs in sources: 100% ✅\u001b[0m\n",
      "\u001b[32m2024-09-16 15:48:11.293\u001b[0m | \u001b[1mINFO    \u001b[0m | \u001b[36munified\u001b[0m:\u001b[36mrun\u001b[0m:\u001b[36m354\u001b[0m - \u001b[1mCitation density: 24.0% (percent of output used by URLs/link syntax) \u001b[0m\n",
      "\u001b[32m2024-09-16 15:48:11.294\u001b[0m | \u001b[1mINFO    \u001b[0m | \u001b[36munified\u001b[0m:\u001b[36mrun\u001b[0m:\u001b[36m354\u001b[0m - \u001b[1mDistinct URLs (summary / input): 18 / 18\u001b[0m\n",
      "\u001b[32m2024-09-16 15:48:11.295\u001b[0m | \u001b[1mINFO    \u001b[0m | \u001b[36munified\u001b[0m:\u001b[36mrun\u001b[0m:\u001b[36m354\u001b[0m - \u001b[1mSuspicious URLs: set()\u001b[0m\n",
      "\u001b[32m2024-09-16 15:48:11.296\u001b[0m | \u001b[1mINFO    \u001b[0m | \u001b[36munified\u001b[0m:\u001b[36mrun\u001b[0m:\u001b[36m354\u001b[0m - \u001b[1mCache mentions: 0 ✅\u001b[0m\n",
      "\u001b[32m2024-09-16 15:48:11.300\u001b[0m | \u001b[1mINFO    \u001b[0m | \u001b[36munified\u001b[0m:\u001b[36mto_markdown_file\u001b[0m:\u001b[36m240\u001b[0m - \u001b[1mWritten to /home/keith/company-detective/output/Akili_Interactive/Akili_Interactive_20240916_154811.md\u001b[0m\n"
     ]
    }
   ],
   "source": [
    "# Set the log level\n",
    "import sys\n",
    "from loguru import logger\n",
    "logger.remove()\n",
    "logger.add(sys.stderr, level=\"INFO\")\n",
    "\n",
    "import unified\n",
    "\n",
    "unified_result = await unified.run(\n",
    "    Seed.init(\"Akili Interactive\", domain=\"akiliinteractive.com\"), \n",
    "    num_reddit_threads=10, \n",
    "    max_glassdoor_review_pages=5, \n",
    "    max_glassdoor_job_pages=0,\n",
    "    max_news_articles=40,\n",
    "    # glassdoor_url=\"https://www.glassdoor.com/Reviews/Pomelo-Care-Reviews-E9429297.htm\"\n",
    "    )\n",
    "\n",
    "markdown_file = unified_result.to_markdown_file()"
   ]
  },
  {
   "cell_type": "code",
   "execution_count": 4,
   "metadata": {},
   "outputs": [
    {
     "name": "stderr",
     "output_type": "stream",
     "text": [
      "\u001b[32m2024-09-16 15:48:11.325\u001b[0m | \u001b[1mINFO    \u001b[0m | \u001b[36munified\u001b[0m:\u001b[36mto_html_file\u001b[0m:\u001b[36m261\u001b[0m - \u001b[1mWritten to /home/keith/company-detective/output/Akili_Interactive/Akili_Interactive_20240916_154811.html\u001b[0m\n"
     ]
    }
   ],
   "source": [
    "html_file = unified_result.to_html_file()"
   ]
  },
  {
   "cell_type": "code",
   "execution_count": 5,
   "metadata": {},
   "outputs": [
    {
     "data": {
      "text/plain": [
       "'http://company-detective.s3-website-us-west-2.amazonaws.com/reports/Akili_Interactive_20240916_154811.html'"
      ]
     },
     "execution_count": 5,
     "metadata": {},
     "output_type": "execute_result"
    }
   ],
   "source": [
    "from publish import publish_to_s3\n",
    "\n",
    "publish_to_s3(html_file)"
   ]
  },
  {
   "cell_type": "code",
   "execution_count": null,
   "metadata": {},
   "outputs": [],
   "source": []
  }
 ],
 "metadata": {
  "kernelspec": {
   "display_name": ".venv",
   "language": "python",
   "name": "python3"
  },
  "language_info": {
   "codemirror_mode": {
    "name": "ipython",
    "version": 3
   },
   "file_extension": ".py",
   "mimetype": "text/x-python",
   "name": "python",
   "nbconvert_exporter": "python",
   "pygments_lexer": "ipython3",
   "version": "3.10.12"
  }
 },
 "nbformat": 4,
 "nbformat_minor": 2
}
