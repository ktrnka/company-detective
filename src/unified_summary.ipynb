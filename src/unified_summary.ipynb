{
 "cells": [
  {
   "cell_type": "code",
   "execution_count": 1,
   "metadata": {},
   "outputs": [],
   "source": [
    "from core import Seed, init\n",
    "\n",
    "init()"
   ]
  },
  {
   "cell_type": "code",
   "execution_count": 2,
   "metadata": {},
   "outputs": [
    {
     "name": "stderr",
     "output_type": "stream",
     "text": [
      "\u001b[32m2024-08-26 18:00:04.321\u001b[0m | \u001b[1mINFO    \u001b[0m | \u001b[36mcore\u001b[0m:\u001b[36mshorten_markdown\u001b[0m:\u001b[36m222\u001b[0m - \u001b[1m25,515 -> 20,382 chars (80% of original)\u001b[0m\n",
      "\u001b[32m2024-08-26 18:00:15.310\u001b[0m | \u001b[1mINFO    \u001b[0m | \u001b[36mcore\u001b[0m:\u001b[36munshorten_markdown\u001b[0m:\u001b[36m241\u001b[0m - \u001b[1m3,082 -> 4,719 chars (153% of original)\u001b[0m\n",
      "\u001b[32m2024-08-26 18:00:15.311\u001b[0m | \u001b[1mINFO    \u001b[0m | \u001b[36mgeneral_search\u001b[0m:\u001b[36msummarize\u001b[0m:\u001b[36m122\u001b[0m - \u001b[1m25,515 -> 4,719 chars (18%) \u001b[0m\n",
      "\u001b[32m2024-08-26 18:00:15.389\u001b[0m | \u001b[1mINFO    \u001b[0m | \u001b[36mgeneral_search\u001b[0m:\u001b[36msummarize\u001b[0m:\u001b[36m122\u001b[0m - \u001b[1mExtractive fraction: 77% \u001b[0m\n",
      "\u001b[32m2024-08-26 18:00:15.390\u001b[0m | \u001b[1mINFO    \u001b[0m | \u001b[36mgeneral_search\u001b[0m:\u001b[36msummarize\u001b[0m:\u001b[36m122\u001b[0m - \u001b[1mPercent of URLs in sources: 100% ✅\u001b[0m\n",
      "\u001b[32m2024-08-26 18:00:15.391\u001b[0m | \u001b[1mINFO    \u001b[0m | \u001b[36mgeneral_search\u001b[0m:\u001b[36msummarize\u001b[0m:\u001b[36m122\u001b[0m - \u001b[1mCitation density: 51.3% (percent of output used by URLs/link syntax) \u001b[0m\n",
      "\u001b[32m2024-08-26 18:00:15.391\u001b[0m | \u001b[1mINFO    \u001b[0m | \u001b[36mgeneral_search\u001b[0m:\u001b[36msummarize\u001b[0m:\u001b[36m122\u001b[0m - \u001b[1mDistinct URLs (summary / input): 31 / 90\u001b[0m\n",
      "\u001b[32m2024-08-26 18:00:15.392\u001b[0m | \u001b[1mINFO    \u001b[0m | \u001b[36mgeneral_search\u001b[0m:\u001b[36msummarize\u001b[0m:\u001b[36m122\u001b[0m - \u001b[1mSuspicious URLs: set()\u001b[0m\n",
      "\u001b[32m2024-08-26 18:00:15.392\u001b[0m | \u001b[1mINFO    \u001b[0m | \u001b[36mgeneral_search\u001b[0m:\u001b[36msummarize\u001b[0m:\u001b[36m122\u001b[0m - \u001b[1mCache mentions: 0 ✅\u001b[0m\n",
      "\u001b[32m2024-08-26 18:00:15.393\u001b[0m | \u001b[1mINFO    \u001b[0m | \u001b[36munified\u001b[0m:\u001b[36mrun\u001b[0m:\u001b[36m199\u001b[0m - \u001b[1mApple Store URLs: [SearchResult(title='98point6 on the App Store', link='https://apps.apple.com/us/app/98point6/id1157653928', snippet='98point6 provides on-demand consultation, diagnosis and treatment from board-certified physicians and sends necessary prescriptions to your pharmacy—all via\\xa0...', formattedUrl='https://apps.apple.com/us/app/98point6/id1157653928')]\u001b[0m\n",
      "\u001b[32m2024-08-26 18:00:15.409\u001b[0m | \u001b[1mINFO    \u001b[0m | \u001b[36mapp_stores.apple\u001b[0m:\u001b[36mrun\u001b[0m:\u001b[36m79\u001b[0m - \u001b[1m32,223 chars in 100 reviews\u001b[0m\n",
      "\u001b[32m2024-08-26 18:00:15.410\u001b[0m | \u001b[1mINFO    \u001b[0m | \u001b[36munified\u001b[0m:\u001b[36mrun\u001b[0m:\u001b[36m205\u001b[0m - \u001b[1mGoogle Play URLs: [SearchResult(title='98point6 - Apps on Google Play', link='https://play.google.com/store/apps/details?id=com.ninety8point6.patientapp&hl=en_US', snippet='Jun 5, 2024 ... 98point6 provides on-demand consultation, diagnosis and treatment from board-certified physicians and sends necessary prescriptions to your\\xa0...', formattedUrl='https://play.google.com/store/apps/details?id=com.ninety8point6...hl...')]\u001b[0m\n",
      "\u001b[32m2024-08-26 18:00:15.684\u001b[0m | \u001b[1mINFO    \u001b[0m | \u001b[36mapp_stores.google_play\u001b[0m:\u001b[36mrun\u001b[0m:\u001b[36m164\u001b[0m - \u001b[1m30,213 chars in 100 reviews\u001b[0m\n",
      "\u001b[32m2024-08-26 18:00:15.685\u001b[0m | \u001b[1mINFO    \u001b[0m | \u001b[36munified\u001b[0m:\u001b[36mrun\u001b[0m:\u001b[36m214\u001b[0m - \u001b[1mSteam URLs: []\u001b[0m\n",
      "\u001b[32m2024-08-26 18:00:15.885\u001b[0m | \u001b[1mINFO    \u001b[0m | \u001b[36mscrapfly_scrapers.crunchbase\u001b[0m:\u001b[36mscrape_company\u001b[0m:\u001b[36m62\u001b[0m - \u001b[1mscraping company: https://www.crunchbase.com/organization/98point6/people\u001b[0m\n",
      "\u001b[32m2024-08-26 18:00:17.184\u001b[0m | \u001b[1mINFO    \u001b[0m | \u001b[36mcore\u001b[0m:\u001b[36mshorten_markdown\u001b[0m:\u001b[36m222\u001b[0m - \u001b[1m10,107 -> 8,965 chars (89% of original)\u001b[0m\n",
      "\u001b[32m2024-08-26 18:00:17.185\u001b[0m | \u001b[1mINFO    \u001b[0m | \u001b[36mcore\u001b[0m:\u001b[36mshorten_markdown\u001b[0m:\u001b[36m222\u001b[0m - \u001b[1m2,455 -> 1,571 chars (64% of original)\u001b[0m\n",
      "\u001b[32m2024-08-26 18:00:17.186\u001b[0m | \u001b[1mINFO    \u001b[0m | \u001b[36mcore\u001b[0m:\u001b[36mshorten_markdown\u001b[0m:\u001b[36m222\u001b[0m - \u001b[1m1,546 -> 1,222 chars (79% of original)\u001b[0m\n",
      "\u001b[32m2024-08-26 18:00:17.186\u001b[0m | \u001b[1mINFO    \u001b[0m | \u001b[36mcore\u001b[0m:\u001b[36mshorten_markdown\u001b[0m:\u001b[36m222\u001b[0m - \u001b[1m963 -> 704 chars (73% of original)\u001b[0m\n",
      "\u001b[32m2024-08-26 18:00:17.187\u001b[0m | \u001b[1mINFO    \u001b[0m | \u001b[36mcore\u001b[0m:\u001b[36mshorten_markdown\u001b[0m:\u001b[36m222\u001b[0m - \u001b[1m1,739 -> 1,513 chars (87% of original)\u001b[0m\n",
      "\u001b[32m2024-08-26 18:00:17.187\u001b[0m | \u001b[1mINFO    \u001b[0m | \u001b[36mcore\u001b[0m:\u001b[36mshorten_markdown\u001b[0m:\u001b[36m222\u001b[0m - \u001b[1m1,091 -> 843 chars (77% of original)\u001b[0m\n",
      "\u001b[32m2024-08-26 18:00:17.188\u001b[0m | \u001b[1mINFO    \u001b[0m | \u001b[36mcore\u001b[0m:\u001b[36mshorten_markdown\u001b[0m:\u001b[36m222\u001b[0m - \u001b[1m3,200 -> 2,858 chars (89% of original)\u001b[0m\n",
      "\u001b[32m2024-08-26 18:00:17.188\u001b[0m | \u001b[1mINFO    \u001b[0m | \u001b[36mcore\u001b[0m:\u001b[36mshorten_markdown\u001b[0m:\u001b[36m222\u001b[0m - \u001b[1m1,678 -> 1,366 chars (81% of original)\u001b[0m\n",
      "\u001b[32m2024-08-26 18:00:17.189\u001b[0m | \u001b[1mINFO    \u001b[0m | \u001b[36mcore\u001b[0m:\u001b[36mshorten_markdown\u001b[0m:\u001b[36m222\u001b[0m - \u001b[1m6,429 -> 4,413 chars (69% of original)\u001b[0m\n",
      "\u001b[32m2024-08-26 18:00:28.621\u001b[0m | \u001b[1mINFO    \u001b[0m | \u001b[36mcore\u001b[0m:\u001b[36munshorten_markdown\u001b[0m:\u001b[36m241\u001b[0m - \u001b[1m3,406 -> 4,870 chars (143% of original)\u001b[0m\n",
      "\u001b[32m2024-08-26 18:00:28.623\u001b[0m | \u001b[1mINFO    \u001b[0m | \u001b[36mreddit.summarizer\u001b[0m:\u001b[36msummarize\u001b[0m:\u001b[36m141\u001b[0m - \u001b[1mReddit: Extract stage 29,208 chars -> 3,495 chars (12%)\u001b[0m\n",
      "\u001b[32m2024-08-26 18:00:28.623\u001b[0m | \u001b[1mINFO    \u001b[0m | \u001b[36mreddit.summarizer\u001b[0m:\u001b[36msummarize\u001b[0m:\u001b[36m147\u001b[0m - \u001b[1mReddit: Combine stage 3,495 chars -> 4,870 chars (139%)\u001b[0m\n",
      "\u001b[32m2024-08-26 18:00:28.624\u001b[0m | \u001b[1mINFO    \u001b[0m | \u001b[36mreddit.summarizer\u001b[0m:\u001b[36msummarize\u001b[0m:\u001b[36m156\u001b[0m - \u001b[1m29,224 -> 4,870 chars (17%) \u001b[0m\n",
      "\u001b[32m2024-08-26 18:00:28.627\u001b[0m | \u001b[1mINFO    \u001b[0m | \u001b[36mreddit.summarizer\u001b[0m:\u001b[36msummarize\u001b[0m:\u001b[36m156\u001b[0m - \u001b[1mExtractive fraction: 68% \u001b[0m\n",
      "\u001b[32m2024-08-26 18:00:28.628\u001b[0m | \u001b[1mINFO    \u001b[0m | \u001b[36mreddit.summarizer\u001b[0m:\u001b[36msummarize\u001b[0m:\u001b[36m156\u001b[0m - \u001b[1mPercent of URLs in sources: 100% ✅\u001b[0m\n",
      "\u001b[32m2024-08-26 18:00:28.629\u001b[0m | \u001b[1mINFO    \u001b[0m | \u001b[36mreddit.summarizer\u001b[0m:\u001b[36msummarize\u001b[0m:\u001b[36m156\u001b[0m - \u001b[1mCitation density: 37.6% (percent of output used by URLs/link syntax) \u001b[0m\n",
      "\u001b[32m2024-08-26 18:00:28.630\u001b[0m | \u001b[1mINFO    \u001b[0m | \u001b[36mreddit.summarizer\u001b[0m:\u001b[36msummarize\u001b[0m:\u001b[36m156\u001b[0m - \u001b[1mDistinct URLs (summary / input): 12 / 70\u001b[0m\n",
      "\u001b[32m2024-08-26 18:00:28.630\u001b[0m | \u001b[1mINFO    \u001b[0m | \u001b[36mreddit.summarizer\u001b[0m:\u001b[36msummarize\u001b[0m:\u001b[36m156\u001b[0m - \u001b[1mSuspicious URLs: set()\u001b[0m\n",
      "\u001b[32m2024-08-26 18:00:28.631\u001b[0m | \u001b[1mINFO    \u001b[0m | \u001b[36mreddit.summarizer\u001b[0m:\u001b[36msummarize\u001b[0m:\u001b[36m156\u001b[0m - \u001b[1mCache mentions: 0 ✅\u001b[0m\n",
      "\u001b[32m2024-08-26 18:00:28.861\u001b[0m | \u001b[1mINFO    \u001b[0m | \u001b[36mscrapfly_scrapers.glassdoor\u001b[0m:\u001b[36mscrape_reviews\u001b[0m:\u001b[36m105\u001b[0m - \u001b[1mscraping reviews from https://www.glassdoor.com/Reviews/98point6-Reviews-E1181484.htm\u001b[0m\n",
      "\u001b[32m2024-08-26 18:00:31.026\u001b[0m | \u001b[1mINFO    \u001b[0m | \u001b[36mscrapfly_scrapers.glassdoor\u001b[0m:\u001b[36mscrape_reviews\u001b[0m:\u001b[36m113\u001b[0m - \u001b[1mscraped first page of reviews of https://www.glassdoor.com/Reviews/98point6-Reviews-E1181484.htm, scraping remaining 4 pages\u001b[0m\n",
      "\u001b[32m2024-08-26 18:00:36.582\u001b[0m | \u001b[1mINFO    \u001b[0m | \u001b[36mscrapfly_scrapers.glassdoor\u001b[0m:\u001b[36mscrape_reviews\u001b[0m:\u001b[36m123\u001b[0m - \u001b[1mscraped 50 reviews from https://www.glassdoor.com/Reviews/98point6-Reviews-E1181484.htm in 5 pages\u001b[0m\n",
      "\u001b[32m2024-08-26 18:00:51.835\u001b[0m | \u001b[1mINFO    \u001b[0m | \u001b[36mglassdoor.summarizer\u001b[0m:\u001b[36msummarize\u001b[0m:\u001b[36m59\u001b[0m - \u001b[1m30,943 -> 4,833 chars (16%) \u001b[0m\n",
      "\u001b[32m2024-08-26 18:00:51.839\u001b[0m | \u001b[1mINFO    \u001b[0m | \u001b[36mglassdoor.summarizer\u001b[0m:\u001b[36msummarize\u001b[0m:\u001b[36m59\u001b[0m - \u001b[1mExtractive fraction: 50% \u001b[0m\n",
      "\u001b[32m2024-08-26 18:00:51.840\u001b[0m | \u001b[1mINFO    \u001b[0m | \u001b[36mglassdoor.summarizer\u001b[0m:\u001b[36msummarize\u001b[0m:\u001b[36m59\u001b[0m - \u001b[1mPercent of URLs in sources: 100% ✅\u001b[0m\n",
      "\u001b[32m2024-08-26 18:00:51.841\u001b[0m | \u001b[1mINFO    \u001b[0m | \u001b[36mglassdoor.summarizer\u001b[0m:\u001b[36msummarize\u001b[0m:\u001b[36m59\u001b[0m - \u001b[1mCitation density: 33.9% (percent of output used by URLs/link syntax) \u001b[0m\n",
      "\u001b[32m2024-08-26 18:00:51.841\u001b[0m | \u001b[1mINFO    \u001b[0m | \u001b[36mglassdoor.summarizer\u001b[0m:\u001b[36msummarize\u001b[0m:\u001b[36m59\u001b[0m - \u001b[1mDistinct URLs (summary / input): 16 / 50\u001b[0m\n",
      "\u001b[32m2024-08-26 18:00:51.842\u001b[0m | \u001b[1mINFO    \u001b[0m | \u001b[36mglassdoor.summarizer\u001b[0m:\u001b[36msummarize\u001b[0m:\u001b[36m59\u001b[0m - \u001b[1mSuspicious URLs: set()\u001b[0m\n",
      "\u001b[32m2024-08-26 18:00:51.842\u001b[0m | \u001b[1mINFO    \u001b[0m | \u001b[36mglassdoor.summarizer\u001b[0m:\u001b[36msummarize\u001b[0m:\u001b[36m59\u001b[0m - \u001b[1mCache mentions: 0 ✅\u001b[0m\n",
      "\u001b[32m2024-08-26 18:01:01.667\u001b[0m | \u001b[1mINFO    \u001b[0m | \u001b[36mcore\u001b[0m:\u001b[36mshorten_markdown\u001b[0m:\u001b[36m222\u001b[0m - \u001b[1m159,534 -> 157,351 chars (99% of original)\u001b[0m\n",
      "\u001b[32m2024-08-26 18:01:21.199\u001b[0m | \u001b[1mINFO    \u001b[0m | \u001b[36mcore\u001b[0m:\u001b[36munshorten_markdown\u001b[0m:\u001b[36m241\u001b[0m - \u001b[1m5,030 -> 6,538 chars (130% of original)\u001b[0m\n",
      "\u001b[32m2024-08-26 18:01:21.200\u001b[0m | \u001b[1mINFO    \u001b[0m | \u001b[36mnews.summarize\u001b[0m:\u001b[36msummarize\u001b[0m:\u001b[36m94\u001b[0m - \u001b[1m159,534 -> 6,538 chars (4%) \u001b[0m\n",
      "\u001b[32m2024-08-26 18:01:21.212\u001b[0m | \u001b[1mINFO    \u001b[0m | \u001b[36mnews.summarize\u001b[0m:\u001b[36msummarize\u001b[0m:\u001b[36m94\u001b[0m - \u001b[1mExtractive fraction: 19% \u001b[0m\n",
      "\u001b[32m2024-08-26 18:01:21.212\u001b[0m | \u001b[1mINFO    \u001b[0m | \u001b[36mnews.summarize\u001b[0m:\u001b[36msummarize\u001b[0m:\u001b[36m94\u001b[0m - \u001b[1mPercent of URLs in sources: 100% ✅\u001b[0m\n",
      "\u001b[32m2024-08-26 18:01:21.213\u001b[0m | \u001b[1mINFO    \u001b[0m | \u001b[36mnews.summarize\u001b[0m:\u001b[36msummarize\u001b[0m:\u001b[36m94\u001b[0m - \u001b[1mCitation density: 27.9% (percent of output used by URLs/link syntax) \u001b[0m\n",
      "\u001b[32m2024-08-26 18:01:21.214\u001b[0m | \u001b[1mINFO    \u001b[0m | \u001b[36mnews.summarize\u001b[0m:\u001b[36msummarize\u001b[0m:\u001b[36m94\u001b[0m - \u001b[1mDistinct URLs (summary / input): 5 / 30\u001b[0m\n",
      "\u001b[32m2024-08-26 18:01:21.215\u001b[0m | \u001b[1mINFO    \u001b[0m | \u001b[36mnews.summarize\u001b[0m:\u001b[36msummarize\u001b[0m:\u001b[36m94\u001b[0m - \u001b[1mSuspicious URLs: set()\u001b[0m\n",
      "\u001b[32m2024-08-26 18:01:21.216\u001b[0m | \u001b[1mINFO    \u001b[0m | \u001b[36mnews.summarize\u001b[0m:\u001b[36msummarize\u001b[0m:\u001b[36m94\u001b[0m - \u001b[1mCache mentions: 0 ✅\u001b[0m\n",
      "\u001b[32m2024-08-26 18:01:21.311\u001b[0m | \u001b[1mINFO    \u001b[0m | \u001b[36mcore\u001b[0m:\u001b[36mshorten_markdown\u001b[0m:\u001b[36m222\u001b[0m - \u001b[1m4,870 -> 3,393 chars (70% of original)\u001b[0m\n",
      "\u001b[32m2024-08-26 18:01:21.312\u001b[0m | \u001b[1mINFO    \u001b[0m | \u001b[36mcore\u001b[0m:\u001b[36mshorten_markdown\u001b[0m:\u001b[36m222\u001b[0m - \u001b[1m4,833 -> 3,699 chars (77% of original)\u001b[0m\n",
      "\u001b[32m2024-08-26 18:01:21.312\u001b[0m | \u001b[1mINFO    \u001b[0m | \u001b[36mcore\u001b[0m:\u001b[36mshorten_markdown\u001b[0m:\u001b[36m222\u001b[0m - \u001b[1m6,538 -> 5,044 chars (77% of original)\u001b[0m\n",
      "\u001b[32m2024-08-26 18:01:21.313\u001b[0m | \u001b[1mINFO    \u001b[0m | \u001b[36mcore\u001b[0m:\u001b[36mshorten_markdown\u001b[0m:\u001b[36m222\u001b[0m - \u001b[1m3,007 -> 2,127 chars (71% of original)\u001b[0m\n",
      "\u001b[32m2024-08-26 18:01:21.314\u001b[0m | \u001b[1mINFO    \u001b[0m | \u001b[36mcore\u001b[0m:\u001b[36mshorten_markdown\u001b[0m:\u001b[36m222\u001b[0m - \u001b[1m4,719 -> 3,089 chars (65% of original)\u001b[0m\n",
      "\u001b[32m2024-08-26 18:01:55.455\u001b[0m | \u001b[1mINFO    \u001b[0m | \u001b[36mcore\u001b[0m:\u001b[36munshorten_markdown\u001b[0m:\u001b[36m241\u001b[0m - \u001b[1m10,931 -> 16,705 chars (153% of original)\u001b[0m\n",
      "\u001b[32m2024-08-26 18:01:55.456\u001b[0m | \u001b[1mINFO    \u001b[0m | \u001b[36munified\u001b[0m:\u001b[36mrun\u001b[0m:\u001b[36m276\u001b[0m - \u001b[1m86,415 -> 16,705 chars (19%) \u001b[0m\n",
      "\u001b[32m2024-08-26 18:01:55.465\u001b[0m | \u001b[1mINFO    \u001b[0m | \u001b[36munified\u001b[0m:\u001b[36mrun\u001b[0m:\u001b[36m276\u001b[0m - \u001b[1mExtractive fraction: 72% \u001b[0m\n",
      "\u001b[32m2024-08-26 18:01:55.466\u001b[0m | \u001b[1mINFO    \u001b[0m | \u001b[36munified\u001b[0m:\u001b[36mrun\u001b[0m:\u001b[36m276\u001b[0m - \u001b[1mPercent of URLs in sources: 97% ❌\u001b[0m\n",
      "\u001b[32m2024-08-26 18:01:55.469\u001b[0m | \u001b[1mINFO    \u001b[0m | \u001b[36munified\u001b[0m:\u001b[36mrun\u001b[0m:\u001b[36m276\u001b[0m - \u001b[1mCitation density: 48.8% (percent of output used by URLs/link syntax) \u001b[0m\n",
      "\u001b[32m2024-08-26 18:01:55.469\u001b[0m | \u001b[1mINFO    \u001b[0m | \u001b[36munified\u001b[0m:\u001b[36mrun\u001b[0m:\u001b[36m276\u001b[0m - \u001b[1mDistinct URLs (summary / input): 60 / 270\u001b[0m\n",
      "\u001b[32m2024-08-26 18:01:55.470\u001b[0m | \u001b[1mINFO    \u001b[0m | \u001b[36munified\u001b[0m:\u001b[36mrun\u001b[0m:\u001b[36m276\u001b[0m - \u001b[1mSuspicious URLs: {'https://google_play', 'https://apple'}\u001b[0m\n",
      "\u001b[32m2024-08-26 18:01:55.471\u001b[0m | \u001b[1mINFO    \u001b[0m | \u001b[36munified\u001b[0m:\u001b[36mrun\u001b[0m:\u001b[36m276\u001b[0m - \u001b[1mCache mentions: 0 ✅\u001b[0m\n",
      "\u001b[32m2024-08-26 18:01:55.474\u001b[0m | \u001b[1mINFO    \u001b[0m | \u001b[36munified\u001b[0m:\u001b[36mrun\u001b[0m:\u001b[36m311\u001b[0m - \u001b[1mWritten to /home/keith/company-detective/output/98point6/98point6_20240826_180155.md\u001b[0m\n"
     ]
    }
   ],
   "source": [
    "# Set the log level\n",
    "import sys\n",
    "from loguru import logger\n",
    "logger.remove()\n",
    "logger.add(sys.stderr, level=\"INFO\")\n",
    "\n",
    "import unified\n",
    "\n",
    "markdown_file = await unified.run(\n",
    "    Seed.init(\"98point6\", domain=\"98point6.com\"), \n",
    "    num_reddit_threads=10, \n",
    "    max_glassdoor_review_pages=5, \n",
    "    max_glassdoor_job_pages=0,\n",
    "    max_news_articles=40,\n",
    "    # glassdoor_url=\"https://www.glassdoor.com/Reviews/Pomelo-Care-Reviews-E9429297.htm\"\n",
    "    )"
   ]
  },
  {
   "cell_type": "code",
   "execution_count": 3,
   "metadata": {},
   "outputs": [
    {
     "name": "stderr",
     "output_type": "stream",
     "text": [
      "\u001b[32m2024-08-26 18:01:55.547\u001b[0m | \u001b[1mINFO    \u001b[0m | \u001b[36mpublish\u001b[0m:\u001b[36mmarkdown_file_to_html\u001b[0m:\u001b[36m26\u001b[0m - \u001b[1mHTML written to /home/keith/company-detective/output/98point6/98point6_20240826_180155.html\u001b[0m\n"
     ]
    },
    {
     "data": {
      "text/plain": [
       "'http://company-detective.s3-website-us-west-2.amazonaws.com/reports/98point6_20240826_180155.html'"
      ]
     },
     "execution_count": 3,
     "metadata": {},
     "output_type": "execute_result"
    }
   ],
   "source": [
    "from publish import markdown_file_to_html, publish_to_s3\n",
    "\n",
    "html_file = markdown_file_to_html(markdown_file)\n",
    "publish_to_s3(html_file)"
   ]
  },
  {
   "cell_type": "code",
   "execution_count": null,
   "metadata": {},
   "outputs": [],
   "source": []
  }
 ],
 "metadata": {
  "kernelspec": {
   "display_name": ".venv",
   "language": "python",
   "name": "python3"
  },
  "language_info": {
   "codemirror_mode": {
    "name": "ipython",
    "version": 3
   },
   "file_extension": ".py",
   "mimetype": "text/x-python",
   "name": "python",
   "nbconvert_exporter": "python",
   "pygments_lexer": "ipython3",
   "version": "3.10.12"
  }
 },
 "nbformat": 4,
 "nbformat_minor": 2
}
