{
 "cells": [
  {
   "cell_type": "code",
   "execution_count": 1,
   "metadata": {},
   "outputs": [],
   "source": [
    "from core import Seed, init\n",
    "\n",
    "init()"
   ]
  },
  {
   "cell_type": "code",
   "execution_count": 2,
   "metadata": {},
   "outputs": [],
   "source": [
    "# # optionally, help find the URL for the seed\n",
    "# from google_search import search\n",
    "\n",
    "# for result in search(\"Imagine Pediatics\"):\n",
    "#     print(result)"
   ]
  },
  {
   "cell_type": "code",
   "execution_count": 3,
   "metadata": {},
   "outputs": [
    {
     "name": "stderr",
     "output_type": "stream",
     "text": [
      "\u001b[32m2024-09-04 12:59:09.689\u001b[0m | \u001b[33m\u001b[1mWARNING \u001b[0m | \u001b[36mnews.scrape\u001b[0m:\u001b[36mrequest_article\u001b[0m:\u001b[36m36\u001b[0m - \u001b[33m\u001b[1mSSL error on https://access.98point6.com/s/login/?\u001b[0m\n",
      "\u001b[32m2024-09-04 12:59:11.871\u001b[0m | \u001b[1mINFO    \u001b[0m | \u001b[36mcompany_webpage\u001b[0m:\u001b[36mrun\u001b[0m:\u001b[36m65\u001b[0m - \u001b[1m167,350 -> 3,007 chars (2%) \u001b[0m\n",
      "\u001b[32m2024-09-04 12:59:11.882\u001b[0m | \u001b[1mINFO    \u001b[0m | \u001b[36mcompany_webpage\u001b[0m:\u001b[36mrun\u001b[0m:\u001b[36m65\u001b[0m - \u001b[1mExtractive fraction: 8% \u001b[0m\n",
      "\u001b[32m2024-09-04 12:59:11.883\u001b[0m | \u001b[1mINFO    \u001b[0m | \u001b[36mcompany_webpage\u001b[0m:\u001b[36mrun\u001b[0m:\u001b[36m65\u001b[0m - \u001b[1mPercent of URLs in sources: 100% ✅\u001b[0m\n",
      "\u001b[32m2024-09-04 12:59:11.883\u001b[0m | \u001b[1mINFO    \u001b[0m | \u001b[36mcompany_webpage\u001b[0m:\u001b[36mrun\u001b[0m:\u001b[36m65\u001b[0m - \u001b[1mCitation density: 10.6% (percent of output used by URLs/link syntax) \u001b[0m\n",
      "\u001b[32m2024-09-04 12:59:11.884\u001b[0m | \u001b[1mINFO    \u001b[0m | \u001b[36mcompany_webpage\u001b[0m:\u001b[36mrun\u001b[0m:\u001b[36m65\u001b[0m - \u001b[1mDistinct URLs (summary / input): 7 / 24\u001b[0m\n",
      "\u001b[32m2024-09-04 12:59:11.885\u001b[0m | \u001b[1mINFO    \u001b[0m | \u001b[36mcompany_webpage\u001b[0m:\u001b[36mrun\u001b[0m:\u001b[36m65\u001b[0m - \u001b[1mSuspicious URLs: set()\u001b[0m\n",
      "\u001b[32m2024-09-04 12:59:11.886\u001b[0m | \u001b[1mINFO    \u001b[0m | \u001b[36mcompany_webpage\u001b[0m:\u001b[36mrun\u001b[0m:\u001b[36m65\u001b[0m - \u001b[1mCache mentions: 0 ✅\u001b[0m\n",
      "\u001b[32m2024-09-04 12:59:14.744\u001b[0m | \u001b[1mINFO    \u001b[0m | \u001b[36mcore\u001b[0m:\u001b[36mshorten_markdown\u001b[0m:\u001b[36m230\u001b[0m - \u001b[1m23,042 -> 18,551 chars (81% of original)\u001b[0m\n",
      "\u001b[32m2024-09-04 13:00:05.691\u001b[0m | \u001b[1mINFO    \u001b[0m | \u001b[36mcore\u001b[0m:\u001b[36munshorten_markdown\u001b[0m:\u001b[36m249\u001b[0m - \u001b[1m2,585 -> 4,004 chars (155% of original)\u001b[0m\n",
      "\u001b[32m2024-09-04 13:00:05.692\u001b[0m | \u001b[1mINFO    \u001b[0m | \u001b[36mgeneral_search\u001b[0m:\u001b[36msummarize\u001b[0m:\u001b[36m124\u001b[0m - \u001b[1m23,042 -> 4,004 chars (17%) \u001b[0m\n",
      "\u001b[32m2024-09-04 13:00:05.695\u001b[0m | \u001b[1mINFO    \u001b[0m | \u001b[36mgeneral_search\u001b[0m:\u001b[36msummarize\u001b[0m:\u001b[36m124\u001b[0m - \u001b[1mExtractive fraction: 78% \u001b[0m\n",
      "\u001b[32m2024-09-04 13:00:05.695\u001b[0m | \u001b[1mINFO    \u001b[0m | \u001b[36mgeneral_search\u001b[0m:\u001b[36msummarize\u001b[0m:\u001b[36m124\u001b[0m - \u001b[1mPercent of URLs in sources: 96% ❌\u001b[0m\n",
      "\u001b[32m2024-09-04 13:00:05.696\u001b[0m | \u001b[1mINFO    \u001b[0m | \u001b[36mgeneral_search\u001b[0m:\u001b[36msummarize\u001b[0m:\u001b[36m124\u001b[0m - \u001b[1mCitation density: 51.9% (percent of output used by URLs/link syntax) \u001b[0m\n",
      "\u001b[32m2024-09-04 13:00:05.696\u001b[0m | \u001b[1mINFO    \u001b[0m | \u001b[36mgeneral_search\u001b[0m:\u001b[36msummarize\u001b[0m:\u001b[36m124\u001b[0m - \u001b[1mDistinct URLs (summary / input): 27 / 82\u001b[0m\n",
      "\u001b[32m2024-09-04 13:00:05.697\u001b[0m | \u001b[1mINFO    \u001b[0m | \u001b[36mgeneral_search\u001b[0m:\u001b[36msummarize\u001b[0m:\u001b[36m124\u001b[0m - \u001b[1mSuspicious URLs: {'cache://otta/60'}\u001b[0m\n",
      "\u001b[32m2024-09-04 13:00:05.698\u001b[0m | \u001b[1mINFO    \u001b[0m | \u001b[36mgeneral_search\u001b[0m:\u001b[36msummarize\u001b[0m:\u001b[36m124\u001b[0m - \u001b[1mCache mentions: 1 ❌\u001b[0m\n",
      "\u001b[32m2024-09-04 13:00:05.858\u001b[0m | \u001b[1mINFO    \u001b[0m | \u001b[36mscrapfly_scrapers.crunchbase\u001b[0m:\u001b[36mscrape_company\u001b[0m:\u001b[36m62\u001b[0m - \u001b[1mscraping company: https://www.crunchbase.com/organization/98point6/people\u001b[0m\n",
      "CRITICAL:root:<-- 422 | ERR::SCRAPE::COST_BUDGET_LIMIT - Cost budget has been reached, you must increase the budget to pass this target - The cost of the scrape is exceeding the budget of 50, would require 51 API credit. Checkout the related doc: https://scrapfly.io/docs/scrape-api/anti-scraping-protection\n",
      "\u001b[32m2024-09-04 13:00:07.148\u001b[0m | \u001b[33m\u001b[1mWARNING \u001b[0m | \u001b[36mcrunchbase\u001b[0m:\u001b[36mrun\u001b[0m:\u001b[36m59\u001b[0m - \u001b[33m\u001b[1mFailed to process Crunchbase (ScrapflyScrapeError), skipping: <-- 422 | ERR::SCRAPE::COST_BUDGET_LIMIT - Cost budget has been reached, you must increase the budget to pass this target - The cost of the scrape is exceeding the budget of 50, would require 51 API credit. Checkout the related doc: https://scrapfly.io/docs/scrape-api/anti-scraping-protection\u001b[0m\n",
      "\u001b[32m2024-09-04 13:00:07.149\u001b[0m | \u001b[33m\u001b[1mWARNING \u001b[0m | \u001b[36munified\u001b[0m:\u001b[36mrun\u001b[0m:\u001b[36m291\u001b[0m - \u001b[33m\u001b[1mNo Crunchbase info found\u001b[0m\n",
      "\u001b[32m2024-09-04 13:00:07.492\u001b[0m | \u001b[1mINFO    \u001b[0m | \u001b[36mcustomer_experience\u001b[0m:\u001b[36mrun\u001b[0m:\u001b[36m121\u001b[0m - \u001b[1mTotal reviews: 609\u001b[0m\n",
      "\u001b[32m2024-09-04 13:00:07.494\u001b[0m | \u001b[1mINFO    \u001b[0m | \u001b[36mcustomer_experience\u001b[0m:\u001b[36mrun\u001b[0m:\u001b[36m129\u001b[0m - \u001b[1mPacked reviews: 5\u001b[0m\n",
      "\u001b[32m2024-09-04 13:00:07.561\u001b[0m | \u001b[1mINFO    \u001b[0m | \u001b[36mcore\u001b[0m:\u001b[36mshorten_markdown\u001b[0m:\u001b[36m230\u001b[0m - \u001b[1m33,471 -> 32,384 chars (97% of original)\u001b[0m\n",
      "\u001b[32m2024-09-04 13:00:07.562\u001b[0m | \u001b[1mINFO    \u001b[0m | \u001b[36mcore\u001b[0m:\u001b[36mshorten_markdown\u001b[0m:\u001b[36m230\u001b[0m - \u001b[1m37,501 -> 35,782 chars (95% of original)\u001b[0m\n",
      "\u001b[32m2024-09-04 13:00:07.564\u001b[0m | \u001b[1mINFO    \u001b[0m | \u001b[36mcore\u001b[0m:\u001b[36mshorten_markdown\u001b[0m:\u001b[36m230\u001b[0m - \u001b[1m57,876 -> 55,153 chars (95% of original)\u001b[0m\n",
      "\u001b[32m2024-09-04 13:00:07.566\u001b[0m | \u001b[1mINFO    \u001b[0m | \u001b[36mcore\u001b[0m:\u001b[36mshorten_markdown\u001b[0m:\u001b[36m230\u001b[0m - \u001b[1m49,157 -> 45,087 chars (92% of original)\u001b[0m\n",
      "\u001b[32m2024-09-04 13:00:07.568\u001b[0m | \u001b[1mINFO    \u001b[0m | \u001b[36mcore\u001b[0m:\u001b[36mshorten_markdown\u001b[0m:\u001b[36m230\u001b[0m - \u001b[1m41,514 -> 38,414 chars (93% of original)\u001b[0m\n",
      "\u001b[32m2024-09-04 13:00:07.983\u001b[0m | \u001b[1mINFO    \u001b[0m | \u001b[36mcore\u001b[0m:\u001b[36munshorten_markdown\u001b[0m:\u001b[36m249\u001b[0m - \u001b[1m7,983 -> 8,667 chars (109% of original)\u001b[0m\n",
      "\u001b[32m2024-09-04 13:00:07.984\u001b[0m | \u001b[1mINFO    \u001b[0m | \u001b[36mcustomer_experience\u001b[0m:\u001b[36mrun\u001b[0m:\u001b[36m159\u001b[0m - \u001b[1m219,523 -> 8,667 chars (4%) \u001b[0m\n",
      "\u001b[32m2024-09-04 13:00:08.001\u001b[0m | \u001b[1mINFO    \u001b[0m | \u001b[36mcustomer_experience\u001b[0m:\u001b[36mrun\u001b[0m:\u001b[36m159\u001b[0m - \u001b[1mExtractive fraction: 72% \u001b[0m\n",
      "\u001b[32m2024-09-04 13:00:08.002\u001b[0m | \u001b[1mINFO    \u001b[0m | \u001b[36mcustomer_experience\u001b[0m:\u001b[36mrun\u001b[0m:\u001b[36m159\u001b[0m - \u001b[1mPercent of URLs in sources: 100% ✅\u001b[0m\n",
      "\u001b[32m2024-09-04 13:00:08.003\u001b[0m | \u001b[1mINFO    \u001b[0m | \u001b[36mcustomer_experience\u001b[0m:\u001b[36mrun\u001b[0m:\u001b[36m159\u001b[0m - \u001b[1mCitation density: 22.2% (percent of output used by URLs/link syntax) \u001b[0m\n",
      "\u001b[32m2024-09-04 13:00:08.004\u001b[0m | \u001b[1mINFO    \u001b[0m | \u001b[36mcustomer_experience\u001b[0m:\u001b[36mrun\u001b[0m:\u001b[36m159\u001b[0m - \u001b[1mDistinct URLs (summary / input): 58 / 668\u001b[0m\n",
      "\u001b[32m2024-09-04 13:00:08.005\u001b[0m | \u001b[1mINFO    \u001b[0m | \u001b[36mcustomer_experience\u001b[0m:\u001b[36mrun\u001b[0m:\u001b[36m159\u001b[0m - \u001b[1mSuspicious URLs: set()\u001b[0m\n",
      "\u001b[32m2024-09-04 13:00:08.006\u001b[0m | \u001b[1mINFO    \u001b[0m | \u001b[36mcustomer_experience\u001b[0m:\u001b[36mrun\u001b[0m:\u001b[36m159\u001b[0m - \u001b[1mCache mentions: 0 ✅\u001b[0m\n",
      "\u001b[32m2024-09-04 13:00:08.250\u001b[0m | \u001b[1mINFO    \u001b[0m | \u001b[36mglassdoor.summarizer\u001b[0m:\u001b[36msummarize\u001b[0m:\u001b[36m59\u001b[0m - \u001b[1m31,159 -> 4,201 chars (13%) \u001b[0m\n",
      "\u001b[32m2024-09-04 13:00:08.252\u001b[0m | \u001b[1mINFO    \u001b[0m | \u001b[36mglassdoor.summarizer\u001b[0m:\u001b[36msummarize\u001b[0m:\u001b[36m59\u001b[0m - \u001b[1mExtractive fraction: 54% \u001b[0m\n",
      "\u001b[32m2024-09-04 13:00:08.253\u001b[0m | \u001b[1mINFO    \u001b[0m | \u001b[36mglassdoor.summarizer\u001b[0m:\u001b[36msummarize\u001b[0m:\u001b[36m59\u001b[0m - \u001b[1mPercent of URLs in sources: 100% ✅\u001b[0m\n",
      "\u001b[32m2024-09-04 13:00:08.254\u001b[0m | \u001b[1mINFO    \u001b[0m | \u001b[36mglassdoor.summarizer\u001b[0m:\u001b[36msummarize\u001b[0m:\u001b[36m59\u001b[0m - \u001b[1mCitation density: 35.3% (percent of output used by URLs/link syntax) \u001b[0m\n",
      "\u001b[32m2024-09-04 13:00:08.254\u001b[0m | \u001b[1mINFO    \u001b[0m | \u001b[36mglassdoor.summarizer\u001b[0m:\u001b[36msummarize\u001b[0m:\u001b[36m59\u001b[0m - \u001b[1mDistinct URLs (summary / input): 13 / 50\u001b[0m\n",
      "\u001b[32m2024-09-04 13:00:08.255\u001b[0m | \u001b[1mINFO    \u001b[0m | \u001b[36mglassdoor.summarizer\u001b[0m:\u001b[36msummarize\u001b[0m:\u001b[36m59\u001b[0m - \u001b[1mSuspicious URLs: set()\u001b[0m\n",
      "\u001b[32m2024-09-04 13:00:08.256\u001b[0m | \u001b[1mINFO    \u001b[0m | \u001b[36mglassdoor.summarizer\u001b[0m:\u001b[36msummarize\u001b[0m:\u001b[36m59\u001b[0m - \u001b[1mCache mentions: 0 ✅\u001b[0m\n",
      "\u001b[32m2024-09-04 13:00:14.494\u001b[0m | \u001b[33m\u001b[1mWARNING \u001b[0m | \u001b[36mnews.scrape\u001b[0m:\u001b[36mrequest_article\u001b[0m:\u001b[36m33\u001b[0m - \u001b[33m\u001b[1mTimeout on https://health.usnews.com/doctors/jerri-jensen-507168\u001b[0m\n",
      "\u001b[32m2024-09-04 13:00:19.608\u001b[0m | \u001b[1mINFO    \u001b[0m | \u001b[36mcore\u001b[0m:\u001b[36mshorten_markdown\u001b[0m:\u001b[36m230\u001b[0m - \u001b[1m143,481 -> 141,490 chars (99% of original)\u001b[0m\n",
      "\u001b[32m2024-09-04 13:01:32.186\u001b[0m | \u001b[1mINFO    \u001b[0m | \u001b[36mcore\u001b[0m:\u001b[36munshorten_markdown\u001b[0m:\u001b[36m249\u001b[0m - \u001b[1m5,200 -> 6,866 chars (132% of original)\u001b[0m\n",
      "\u001b[32m2024-09-04 13:01:32.187\u001b[0m | \u001b[1mINFO    \u001b[0m | \u001b[36mnews.summarize\u001b[0m:\u001b[36msummarize\u001b[0m:\u001b[36m94\u001b[0m - \u001b[1m143,481 -> 6,866 chars (5%) \u001b[0m\n",
      "\u001b[32m2024-09-04 13:01:32.308\u001b[0m | \u001b[1mINFO    \u001b[0m | \u001b[36mnews.summarize\u001b[0m:\u001b[36msummarize\u001b[0m:\u001b[36m94\u001b[0m - \u001b[1mExtractive fraction: 17% \u001b[0m\n",
      "\u001b[32m2024-09-04 13:01:32.309\u001b[0m | \u001b[1mINFO    \u001b[0m | \u001b[36mnews.summarize\u001b[0m:\u001b[36msummarize\u001b[0m:\u001b[36m94\u001b[0m - \u001b[1mPercent of URLs in sources: 86% ❌\u001b[0m\n",
      "\u001b[32m2024-09-04 13:01:32.310\u001b[0m | \u001b[1mINFO    \u001b[0m | \u001b[36mnews.summarize\u001b[0m:\u001b[36msummarize\u001b[0m:\u001b[36m94\u001b[0m - \u001b[1mCitation density: 30.4% (percent of output used by URLs/link syntax) \u001b[0m\n",
      "\u001b[32m2024-09-04 13:01:32.311\u001b[0m | \u001b[1mINFO    \u001b[0m | \u001b[36mnews.summarize\u001b[0m:\u001b[36msummarize\u001b[0m:\u001b[36m94\u001b[0m - \u001b[1mDistinct URLs (summary / input): 7 / 28\u001b[0m\n",
      "\u001b[32m2024-09-04 13:01:32.311\u001b[0m | \u001b[1mINFO    \u001b[0m | \u001b[36mnews.summarize\u001b[0m:\u001b[36msummarize\u001b[0m:\u001b[36m94\u001b[0m - \u001b[1mSuspicious URLs: {'https://www.98point6.com'}\u001b[0m\n",
      "\u001b[32m2024-09-04 13:01:32.312\u001b[0m | \u001b[1mINFO    \u001b[0m | \u001b[36mnews.summarize\u001b[0m:\u001b[36msummarize\u001b[0m:\u001b[36m94\u001b[0m - \u001b[1mCache mentions: 0 ✅\u001b[0m\n",
      "\u001b[32m2024-09-04 13:01:32.403\u001b[0m | \u001b[1mINFO    \u001b[0m | \u001b[36mcore\u001b[0m:\u001b[36mshorten_markdown\u001b[0m:\u001b[36m230\u001b[0m - \u001b[1m3,007 -> 2,841 chars (94% of original)\u001b[0m\n",
      "\u001b[32m2024-09-04 13:01:32.403\u001b[0m | \u001b[1mINFO    \u001b[0m | \u001b[36mcore\u001b[0m:\u001b[36mshorten_markdown\u001b[0m:\u001b[36m230\u001b[0m - \u001b[1m6,866 -> 5,201 chars (76% of original)\u001b[0m\n",
      "\u001b[32m2024-09-04 13:01:46.164\u001b[0m | \u001b[1mINFO    \u001b[0m | \u001b[36mcore\u001b[0m:\u001b[36munshorten_markdown\u001b[0m:\u001b[36m249\u001b[0m - \u001b[1m5,870 -> 7,760 chars (132% of original)\u001b[0m\n",
      "\u001b[32m2024-09-04 13:01:46.165\u001b[0m | \u001b[1mINFO    \u001b[0m | \u001b[36munified\u001b[0m:\u001b[36mrun\u001b[0m:\u001b[36m344\u001b[0m - \u001b[1m9,875 -> 7,760 chars (79%) \u001b[0m\n",
      "\u001b[32m2024-09-04 13:01:46.167\u001b[0m | \u001b[1mINFO    \u001b[0m | \u001b[36munified\u001b[0m:\u001b[36mrun\u001b[0m:\u001b[36m344\u001b[0m - \u001b[1mExtractive fraction: 78% \u001b[0m\n",
      "\u001b[32m2024-09-04 13:01:46.168\u001b[0m | \u001b[1mINFO    \u001b[0m | \u001b[36munified\u001b[0m:\u001b[36mrun\u001b[0m:\u001b[36m344\u001b[0m - \u001b[1mPercent of URLs in sources: 100% ✅\u001b[0m\n",
      "\u001b[32m2024-09-04 13:01:46.168\u001b[0m | \u001b[1mINFO    \u001b[0m | \u001b[36munified\u001b[0m:\u001b[36mrun\u001b[0m:\u001b[36m344\u001b[0m - \u001b[1mCitation density: 32.6% (percent of output used by URLs/link syntax) \u001b[0m\n",
      "\u001b[32m2024-09-04 13:01:46.169\u001b[0m | \u001b[1mINFO    \u001b[0m | \u001b[36munified\u001b[0m:\u001b[36mrun\u001b[0m:\u001b[36m344\u001b[0m - \u001b[1mDistinct URLs (summary / input): 14 / 14\u001b[0m\n",
      "\u001b[32m2024-09-04 13:01:46.170\u001b[0m | \u001b[1mINFO    \u001b[0m | \u001b[36munified\u001b[0m:\u001b[36mrun\u001b[0m:\u001b[36m344\u001b[0m - \u001b[1mSuspicious URLs: set()\u001b[0m\n",
      "\u001b[32m2024-09-04 13:01:46.171\u001b[0m | \u001b[1mINFO    \u001b[0m | \u001b[36munified\u001b[0m:\u001b[36mrun\u001b[0m:\u001b[36m344\u001b[0m - \u001b[1mCache mentions: 0 ✅\u001b[0m\n",
      "\u001b[32m2024-09-04 13:01:46.175\u001b[0m | \u001b[1mINFO    \u001b[0m | \u001b[36munified\u001b[0m:\u001b[36mto_markdown_file\u001b[0m:\u001b[36m240\u001b[0m - \u001b[1mWritten to /home/keith/company-detective/output/98point6/98point6_20240904_130146.md\u001b[0m\n"
     ]
    }
   ],
   "source": [
    "# Set the log level\n",
    "import sys\n",
    "from loguru import logger\n",
    "logger.remove()\n",
    "logger.add(sys.stderr, level=\"INFO\")\n",
    "\n",
    "import unified\n",
    "\n",
    "unified_result = await unified.run(\n",
    "    Seed.init(\"98point6\", domain=\"98point6.com\"), \n",
    "    num_reddit_threads=10, \n",
    "    max_glassdoor_review_pages=5, \n",
    "    max_glassdoor_job_pages=0,\n",
    "    max_news_articles=40,\n",
    "    # glassdoor_url=\"https://www.glassdoor.com/Reviews/Pomelo-Care-Reviews-E9429297.htm\"\n",
    "    )\n",
    "\n",
    "markdown_file = unified_result.to_markdown_file()"
   ]
  },
  {
   "cell_type": "code",
   "execution_count": 6,
   "metadata": {},
   "outputs": [
    {
     "name": "stderr",
     "output_type": "stream",
     "text": [
      "\u001b[32m2024-09-04 13:03:46.468\u001b[0m | \u001b[1mINFO    \u001b[0m | \u001b[36munified\u001b[0m:\u001b[36mto_html_file\u001b[0m:\u001b[36m260\u001b[0m - \u001b[1mWritten to /home/keith/company-detective/output/98point6/98point6_20240904_130346.html\u001b[0m\n"
     ]
    }
   ],
   "source": [
    "html_file = unified_result.to_html_file()"
   ]
  },
  {
   "cell_type": "code",
   "execution_count": 5,
   "metadata": {},
   "outputs": [
    {
     "data": {
      "text/plain": [
       "'http://company-detective.s3-website-us-west-2.amazonaws.com/reports/98point6_20240904_130146.html'"
      ]
     },
     "execution_count": 5,
     "metadata": {},
     "output_type": "execute_result"
    }
   ],
   "source": [
    "from publish import publish_to_s3\n",
    "\n",
    "publish_to_s3(html_file)"
   ]
  },
  {
   "cell_type": "code",
   "execution_count": null,
   "metadata": {},
   "outputs": [],
   "source": []
  }
 ],
 "metadata": {
  "kernelspec": {
   "display_name": ".venv",
   "language": "python",
   "name": "python3"
  },
  "language_info": {
   "codemirror_mode": {
    "name": "ipython",
    "version": 3
   },
   "file_extension": ".py",
   "mimetype": "text/x-python",
   "name": "python",
   "nbconvert_exporter": "python",
   "pygments_lexer": "ipython3",
   "version": "3.10.12"
  }
 },
 "nbformat": 4,
 "nbformat_minor": 2
}
