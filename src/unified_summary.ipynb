{
 "cells": [
  {
   "cell_type": "code",
   "execution_count": 2,
   "metadata": {},
   "outputs": [],
   "source": [
    "from core import Seed, init\n",
    "\n",
    "init()"
   ]
  },
  {
   "cell_type": "code",
   "execution_count": 4,
   "metadata": {},
   "outputs": [
    {
     "name": "stderr",
     "output_type": "stream",
     "text": [
      "\u001b[32m2024-08-29 15:23:22.115\u001b[0m | \u001b[1mINFO    \u001b[0m | \u001b[36mcompany_webpage\u001b[0m:\u001b[36mrun\u001b[0m:\u001b[36m65\u001b[0m - \u001b[1m37,376 -> 3,200 chars (9%) \u001b[0m\n",
      "\u001b[32m2024-08-29 15:23:22.118\u001b[0m | \u001b[1mINFO    \u001b[0m | \u001b[36mcompany_webpage\u001b[0m:\u001b[36mrun\u001b[0m:\u001b[36m65\u001b[0m - \u001b[1mExtractive fraction: 7% \u001b[0m\n",
      "\u001b[32m2024-08-29 15:23:22.119\u001b[0m | \u001b[1mINFO    \u001b[0m | \u001b[36mcompany_webpage\u001b[0m:\u001b[36mrun\u001b[0m:\u001b[36m65\u001b[0m - \u001b[1mPercent of URLs in sources: 100% ✅\u001b[0m\n",
      "\u001b[32m2024-08-29 15:23:22.119\u001b[0m | \u001b[1mINFO    \u001b[0m | \u001b[36mcompany_webpage\u001b[0m:\u001b[36mrun\u001b[0m:\u001b[36m65\u001b[0m - \u001b[1mCitation density: 9.1% (percent of output used by URLs/link syntax) \u001b[0m\n",
      "\u001b[32m2024-08-29 15:23:22.120\u001b[0m | \u001b[1mINFO    \u001b[0m | \u001b[36mcompany_webpage\u001b[0m:\u001b[36mrun\u001b[0m:\u001b[36m65\u001b[0m - \u001b[1mDistinct URLs (summary / input): 8 / 26\u001b[0m\n",
      "\u001b[32m2024-08-29 15:23:22.120\u001b[0m | \u001b[1mINFO    \u001b[0m | \u001b[36mcompany_webpage\u001b[0m:\u001b[36mrun\u001b[0m:\u001b[36m65\u001b[0m - \u001b[1mSuspicious URLs: set()\u001b[0m\n",
      "\u001b[32m2024-08-29 15:23:22.121\u001b[0m | \u001b[1mINFO    \u001b[0m | \u001b[36mcompany_webpage\u001b[0m:\u001b[36mrun\u001b[0m:\u001b[36m65\u001b[0m - \u001b[1mCache mentions: 0 ✅\u001b[0m\n",
      "\u001b[32m2024-08-29 15:23:25.296\u001b[0m | \u001b[1mINFO    \u001b[0m | \u001b[36mcore\u001b[0m:\u001b[36mshorten_markdown\u001b[0m:\u001b[36m230\u001b[0m - \u001b[1m27,100 -> 23,239 chars (86% of original)\u001b[0m\n",
      "\u001b[32m2024-08-29 15:23:32.199\u001b[0m | \u001b[1mINFO    \u001b[0m | \u001b[36mcore\u001b[0m:\u001b[36munshorten_markdown\u001b[0m:\u001b[36m249\u001b[0m - \u001b[1m2,035 -> 2,681 chars (132% of original)\u001b[0m\n",
      "\u001b[32m2024-08-29 15:23:32.200\u001b[0m | \u001b[1mINFO    \u001b[0m | \u001b[36mgeneral_search\u001b[0m:\u001b[36msummarize\u001b[0m:\u001b[36m124\u001b[0m - \u001b[1m27,100 -> 2,681 chars (10%) \u001b[0m\n",
      "\u001b[32m2024-08-29 15:23:32.202\u001b[0m | \u001b[1mINFO    \u001b[0m | \u001b[36mgeneral_search\u001b[0m:\u001b[36msummarize\u001b[0m:\u001b[36m124\u001b[0m - \u001b[1mExtractive fraction: 69% \u001b[0m\n",
      "\u001b[32m2024-08-29 15:23:32.203\u001b[0m | \u001b[1mINFO    \u001b[0m | \u001b[36mgeneral_search\u001b[0m:\u001b[36msummarize\u001b[0m:\u001b[36m124\u001b[0m - \u001b[1mPercent of URLs in sources: 100% ✅\u001b[0m\n",
      "\u001b[32m2024-08-29 15:23:32.204\u001b[0m | \u001b[1mINFO    \u001b[0m | \u001b[36mgeneral_search\u001b[0m:\u001b[36msummarize\u001b[0m:\u001b[36m124\u001b[0m - \u001b[1mCitation density: 48.1% (percent of output used by URLs/link syntax) \u001b[0m\n",
      "\u001b[32m2024-08-29 15:23:32.204\u001b[0m | \u001b[1mINFO    \u001b[0m | \u001b[36mgeneral_search\u001b[0m:\u001b[36msummarize\u001b[0m:\u001b[36m124\u001b[0m - \u001b[1mDistinct URLs (summary / input): 23 / 100\u001b[0m\n",
      "\u001b[32m2024-08-29 15:23:32.204\u001b[0m | \u001b[1mINFO    \u001b[0m | \u001b[36mgeneral_search\u001b[0m:\u001b[36msummarize\u001b[0m:\u001b[36m124\u001b[0m - \u001b[1mSuspicious URLs: set()\u001b[0m\n",
      "\u001b[32m2024-08-29 15:23:32.205\u001b[0m | \u001b[1mINFO    \u001b[0m | \u001b[36mgeneral_search\u001b[0m:\u001b[36msummarize\u001b[0m:\u001b[36m124\u001b[0m - \u001b[1mCache mentions: 0 ✅\u001b[0m\n",
      "\u001b[32m2024-08-29 15:23:32.205\u001b[0m | \u001b[1mINFO    \u001b[0m | \u001b[36munified\u001b[0m:\u001b[36mrun\u001b[0m:\u001b[36m213\u001b[0m - \u001b[1mApple Store URLs: [SearchResult(title='Grammarly: AI Writing Keyboard on the App Store', link='https://apps.apple.com/us/app/grammarly-ai-writing-keyboard/id1158877342', snippet='Designed to deliver real-time writing feedback and provide AI assistance, the Grammarly Keyboard works directly in your iPhone and iPad apps, no copy and paste\\xa0...', formattedUrl='https://apps.apple.com/us/app/grammarly-ai-writing.../id1158877342')]\u001b[0m\n",
      "\u001b[32m2024-08-29 15:23:35.432\u001b[0m | \u001b[1mINFO    \u001b[0m | \u001b[36mapp_stores.apple\u001b[0m:\u001b[36mrun\u001b[0m:\u001b[36m79\u001b[0m - \u001b[1m23,850 chars in 100 reviews\u001b[0m\n",
      "\u001b[32m2024-08-29 15:23:35.433\u001b[0m | \u001b[1mINFO    \u001b[0m | \u001b[36munified\u001b[0m:\u001b[36mrun\u001b[0m:\u001b[36m219\u001b[0m - \u001b[1mGoogle Play URLs: [SearchResult(title='Grammarly-AI Writing Assistant - Apps on Google Play', link='https://play.google.com/store/apps/details?id=com.grammarly.android.keyboard&hl=en_US', snippet='Edit and correct your grammar, spelling, punctuation, and more with your personal writing assistant, grammar checker, and editor. The Grammarly writing app\\xa0...', formattedUrl='https://play.google.com/store/apps/details?id=com.grammarly...hl=en...')]\u001b[0m\n",
      "\u001b[32m2024-08-29 15:23:35.631\u001b[0m | \u001b[1mINFO    \u001b[0m | \u001b[36mapp_stores.google_play\u001b[0m:\u001b[36mrun\u001b[0m:\u001b[36m164\u001b[0m - \u001b[1m21,462 chars in 100 reviews\u001b[0m\n",
      "\u001b[32m2024-08-29 15:23:35.633\u001b[0m | \u001b[1mINFO    \u001b[0m | \u001b[36munified\u001b[0m:\u001b[36mrun\u001b[0m:\u001b[36m228\u001b[0m - \u001b[1mSteam URLs: []\u001b[0m\n",
      "\u001b[32m2024-08-29 15:23:35.800\u001b[0m | \u001b[1mINFO    \u001b[0m | \u001b[36mscrapfly_scrapers.crunchbase\u001b[0m:\u001b[36mscrape_company\u001b[0m:\u001b[36m62\u001b[0m - \u001b[1mscraping company: https://www.crunchbase.com/organization/grammarly/people\u001b[0m\n",
      "\u001b[32m2024-08-29 15:23:44.871\u001b[0m | \u001b[1mINFO    \u001b[0m | \u001b[36mcore\u001b[0m:\u001b[36mshorten_markdown\u001b[0m:\u001b[36m230\u001b[0m - \u001b[1m7,395 -> 6,569 chars (89% of original)\u001b[0m\n",
      "\u001b[32m2024-08-29 15:23:44.872\u001b[0m | \u001b[1mINFO    \u001b[0m | \u001b[36mcore\u001b[0m:\u001b[36mshorten_markdown\u001b[0m:\u001b[36m230\u001b[0m - \u001b[1m13,327 -> 11,746 chars (88% of original)\u001b[0m\n",
      "\u001b[32m2024-08-29 15:23:44.873\u001b[0m | \u001b[1mINFO    \u001b[0m | \u001b[36mcore\u001b[0m:\u001b[36mshorten_markdown\u001b[0m:\u001b[36m230\u001b[0m - \u001b[1m9,892 -> 8,080 chars (82% of original)\u001b[0m\n",
      "\u001b[32m2024-08-29 15:23:44.874\u001b[0m | \u001b[1mINFO    \u001b[0m | \u001b[36mcore\u001b[0m:\u001b[36mshorten_markdown\u001b[0m:\u001b[36m230\u001b[0m - \u001b[1m4,482 -> 3,832 chars (85% of original)\u001b[0m\n",
      "\u001b[32m2024-08-29 15:23:44.875\u001b[0m | \u001b[1mINFO    \u001b[0m | \u001b[36mcore\u001b[0m:\u001b[36mshorten_markdown\u001b[0m:\u001b[36m230\u001b[0m - \u001b[1m29,050 -> 23,269 chars (80% of original)\u001b[0m\n",
      "\u001b[32m2024-08-29 15:23:44.876\u001b[0m | \u001b[1mINFO    \u001b[0m | \u001b[36mcore\u001b[0m:\u001b[36mshorten_markdown\u001b[0m:\u001b[36m230\u001b[0m - \u001b[1m17,776 -> 14,561 chars (82% of original)\u001b[0m\n",
      "\u001b[32m2024-08-29 15:23:44.877\u001b[0m | \u001b[1mINFO    \u001b[0m | \u001b[36mcore\u001b[0m:\u001b[36mshorten_markdown\u001b[0m:\u001b[36m230\u001b[0m - \u001b[1m3,546 -> 2,882 chars (81% of original)\u001b[0m\n",
      "\u001b[32m2024-08-29 15:23:44.878\u001b[0m | \u001b[1mINFO    \u001b[0m | \u001b[36mcore\u001b[0m:\u001b[36mshorten_markdown\u001b[0m:\u001b[36m230\u001b[0m - \u001b[1m4,541 -> 3,793 chars (84% of original)\u001b[0m\n",
      "\u001b[32m2024-08-29 15:23:44.879\u001b[0m | \u001b[1mINFO    \u001b[0m | \u001b[36mcore\u001b[0m:\u001b[36mshorten_markdown\u001b[0m:\u001b[36m230\u001b[0m - \u001b[1m8,272 -> 6,698 chars (81% of original)\u001b[0m\n",
      "\u001b[32m2024-08-29 15:24:51.976\u001b[0m | \u001b[1mINFO    \u001b[0m | \u001b[36mcore\u001b[0m:\u001b[36munshorten_markdown\u001b[0m:\u001b[36m249\u001b[0m - \u001b[1m5,775 -> 8,592 chars (149% of original)\u001b[0m\n",
      "\u001b[32m2024-08-29 15:24:51.977\u001b[0m | \u001b[1mINFO    \u001b[0m | \u001b[36mreddit.summarizer\u001b[0m:\u001b[36msummarize\u001b[0m:\u001b[36m141\u001b[0m - \u001b[1mReddit: Extract stage 98,281 chars -> 11,773 chars (12%)\u001b[0m\n",
      "\u001b[32m2024-08-29 15:24:51.977\u001b[0m | \u001b[1mINFO    \u001b[0m | \u001b[36mreddit.summarizer\u001b[0m:\u001b[36msummarize\u001b[0m:\u001b[36m147\u001b[0m - \u001b[1mReddit: Combine stage 11,773 chars -> 8,592 chars (73%)\u001b[0m\n",
      "\u001b[32m2024-08-29 15:24:51.978\u001b[0m | \u001b[1mINFO    \u001b[0m | \u001b[36mreddit.summarizer\u001b[0m:\u001b[36msummarize\u001b[0m:\u001b[36m156\u001b[0m - \u001b[1m98,297 -> 8,592 chars (9%) \u001b[0m\n",
      "\u001b[32m2024-08-29 15:24:51.985\u001b[0m | \u001b[1mINFO    \u001b[0m | \u001b[36mreddit.summarizer\u001b[0m:\u001b[36msummarize\u001b[0m:\u001b[36m156\u001b[0m - \u001b[1mExtractive fraction: 60% \u001b[0m\n",
      "\u001b[32m2024-08-29 15:24:51.985\u001b[0m | \u001b[1mINFO    \u001b[0m | \u001b[36mreddit.summarizer\u001b[0m:\u001b[36msummarize\u001b[0m:\u001b[36m156\u001b[0m - \u001b[1mPercent of URLs in sources: 100% ✅\u001b[0m\n",
      "\u001b[32m2024-08-29 15:24:51.986\u001b[0m | \u001b[1mINFO    \u001b[0m | \u001b[36mreddit.summarizer\u001b[0m:\u001b[36msummarize\u001b[0m:\u001b[36m156\u001b[0m - \u001b[1mCitation density: 40.9% (percent of output used by URLs/link syntax) \u001b[0m\n",
      "\u001b[32m2024-08-29 15:24:51.987\u001b[0m | \u001b[1mINFO    \u001b[0m | \u001b[36mreddit.summarizer\u001b[0m:\u001b[36msummarize\u001b[0m:\u001b[36m156\u001b[0m - \u001b[1mDistinct URLs (summary / input): 26 / 221\u001b[0m\n",
      "\u001b[32m2024-08-29 15:24:51.987\u001b[0m | \u001b[1mINFO    \u001b[0m | \u001b[36mreddit.summarizer\u001b[0m:\u001b[36msummarize\u001b[0m:\u001b[36m156\u001b[0m - \u001b[1mSuspicious URLs: set()\u001b[0m\n",
      "\u001b[32m2024-08-29 15:24:51.989\u001b[0m | \u001b[1mINFO    \u001b[0m | \u001b[36mreddit.summarizer\u001b[0m:\u001b[36msummarize\u001b[0m:\u001b[36m156\u001b[0m - \u001b[1mCache mentions: 0 ✅\u001b[0m\n",
      "\u001b[32m2024-08-29 15:24:52.200\u001b[0m | \u001b[1mINFO    \u001b[0m | \u001b[36mscrapfly_scrapers.glassdoor\u001b[0m:\u001b[36mscrape_reviews\u001b[0m:\u001b[36m105\u001b[0m - \u001b[1mscraping reviews from https://www.glassdoor.com/Reviews/Grammarly-Reviews-E636873.htm\u001b[0m\n",
      "\u001b[32m2024-08-29 15:25:08.449\u001b[0m | \u001b[1mINFO    \u001b[0m | \u001b[36mscrapfly_scrapers.glassdoor\u001b[0m:\u001b[36mscrape_reviews\u001b[0m:\u001b[36m113\u001b[0m - \u001b[1mscraped first page of reviews of https://www.glassdoor.com/Reviews/Grammarly-Reviews-E636873.htm, scraping remaining 4 pages\u001b[0m\n",
      "\u001b[32m2024-08-29 15:26:18.643\u001b[0m | \u001b[1mINFO    \u001b[0m | \u001b[36mscrapfly_scrapers.glassdoor\u001b[0m:\u001b[36mscrape_reviews\u001b[0m:\u001b[36m123\u001b[0m - \u001b[1mscraped 50 reviews from https://www.glassdoor.com/Reviews/Grammarly-Reviews-E636873.htm in 5 pages\u001b[0m\n",
      "\u001b[32m2024-08-29 15:26:28.665\u001b[0m | \u001b[1mINFO    \u001b[0m | \u001b[36mglassdoor.summarizer\u001b[0m:\u001b[36msummarize\u001b[0m:\u001b[36m59\u001b[0m - \u001b[1m28,782 -> 3,449 chars (12%) \u001b[0m\n",
      "\u001b[32m2024-08-29 15:26:28.674\u001b[0m | \u001b[1mINFO    \u001b[0m | \u001b[36mglassdoor.summarizer\u001b[0m:\u001b[36msummarize\u001b[0m:\u001b[36m59\u001b[0m - \u001b[1mExtractive fraction: 53% \u001b[0m\n",
      "\u001b[32m2024-08-29 15:26:28.675\u001b[0m | \u001b[1mINFO    \u001b[0m | \u001b[36mglassdoor.summarizer\u001b[0m:\u001b[36msummarize\u001b[0m:\u001b[36m59\u001b[0m - \u001b[1mPercent of URLs in sources: 100% ✅\u001b[0m\n",
      "\u001b[32m2024-08-29 15:26:28.676\u001b[0m | \u001b[1mINFO    \u001b[0m | \u001b[36mglassdoor.summarizer\u001b[0m:\u001b[36msummarize\u001b[0m:\u001b[36m59\u001b[0m - \u001b[1mCitation density: 34.4% (percent of output used by URLs/link syntax) \u001b[0m\n",
      "\u001b[32m2024-08-29 15:26:28.677\u001b[0m | \u001b[1mINFO    \u001b[0m | \u001b[36mglassdoor.summarizer\u001b[0m:\u001b[36msummarize\u001b[0m:\u001b[36m59\u001b[0m - \u001b[1mDistinct URLs (summary / input): 11 / 50\u001b[0m\n",
      "\u001b[32m2024-08-29 15:26:28.679\u001b[0m | \u001b[1mINFO    \u001b[0m | \u001b[36mglassdoor.summarizer\u001b[0m:\u001b[36msummarize\u001b[0m:\u001b[36m59\u001b[0m - \u001b[1mSuspicious URLs: set()\u001b[0m\n",
      "\u001b[32m2024-08-29 15:26:28.681\u001b[0m | \u001b[1mINFO    \u001b[0m | \u001b[36mglassdoor.summarizer\u001b[0m:\u001b[36msummarize\u001b[0m:\u001b[36m59\u001b[0m - \u001b[1mCache mentions: 0 ✅\u001b[0m\n",
      "\u001b[32m2024-08-29 15:27:41.686\u001b[0m | \u001b[1mINFO    \u001b[0m | \u001b[36mcore\u001b[0m:\u001b[36mshorten_markdown\u001b[0m:\u001b[36m230\u001b[0m - \u001b[1m136,903 -> 134,006 chars (98% of original)\u001b[0m\n",
      "\u001b[32m2024-08-29 15:28:01.289\u001b[0m | \u001b[1mINFO    \u001b[0m | \u001b[36mcore\u001b[0m:\u001b[36munshorten_markdown\u001b[0m:\u001b[36m249\u001b[0m - \u001b[1m5,186 -> 6,206 chars (120% of original)\u001b[0m\n",
      "\u001b[32m2024-08-29 15:28:01.290\u001b[0m | \u001b[1mINFO    \u001b[0m | \u001b[36mnews.summarize\u001b[0m:\u001b[36msummarize\u001b[0m:\u001b[36m94\u001b[0m - \u001b[1m136,903 -> 6,206 chars (5%) \u001b[0m\n",
      "\u001b[32m2024-08-29 15:28:01.301\u001b[0m | \u001b[1mINFO    \u001b[0m | \u001b[36mnews.summarize\u001b[0m:\u001b[36msummarize\u001b[0m:\u001b[36m94\u001b[0m - \u001b[1mExtractive fraction: 23% \u001b[0m\n",
      "\u001b[32m2024-08-29 15:28:01.302\u001b[0m | \u001b[1mINFO    \u001b[0m | \u001b[36mnews.summarize\u001b[0m:\u001b[36msummarize\u001b[0m:\u001b[36m94\u001b[0m - \u001b[1mPercent of URLs in sources: 100% ✅\u001b[0m\n",
      "\u001b[32m2024-08-29 15:28:01.302\u001b[0m | \u001b[1mINFO    \u001b[0m | \u001b[36mnews.summarize\u001b[0m:\u001b[36msummarize\u001b[0m:\u001b[36m94\u001b[0m - \u001b[1mCitation density: 21.1% (percent of output used by URLs/link syntax) \u001b[0m\n",
      "\u001b[32m2024-08-29 15:28:01.303\u001b[0m | \u001b[1mINFO    \u001b[0m | \u001b[36mnews.summarize\u001b[0m:\u001b[36msummarize\u001b[0m:\u001b[36m94\u001b[0m - \u001b[1mDistinct URLs (summary / input): 7 / 35\u001b[0m\n",
      "\u001b[32m2024-08-29 15:28:01.304\u001b[0m | \u001b[1mINFO    \u001b[0m | \u001b[36mnews.summarize\u001b[0m:\u001b[36msummarize\u001b[0m:\u001b[36m94\u001b[0m - \u001b[1mSuspicious URLs: set()\u001b[0m\n",
      "\u001b[32m2024-08-29 15:28:01.305\u001b[0m | \u001b[1mINFO    \u001b[0m | \u001b[36mnews.summarize\u001b[0m:\u001b[36msummarize\u001b[0m:\u001b[36m94\u001b[0m - \u001b[1mCache mentions: 0 ✅\u001b[0m\n",
      "\u001b[32m2024-08-29 15:28:01.395\u001b[0m | \u001b[1mINFO    \u001b[0m | \u001b[36mcore\u001b[0m:\u001b[36mshorten_markdown\u001b[0m:\u001b[36m230\u001b[0m - \u001b[1m3,200 -> 3,094 chars (97% of original)\u001b[0m\n",
      "\u001b[32m2024-08-29 15:28:01.396\u001b[0m | \u001b[1mINFO    \u001b[0m | \u001b[36mcore\u001b[0m:\u001b[36mshorten_markdown\u001b[0m:\u001b[36m230\u001b[0m - \u001b[1m8,592 -> 5,758 chars (67% of original)\u001b[0m\n",
      "\u001b[32m2024-08-29 15:28:01.396\u001b[0m | \u001b[1mINFO    \u001b[0m | \u001b[36mcore\u001b[0m:\u001b[36mshorten_markdown\u001b[0m:\u001b[36m230\u001b[0m - \u001b[1m3,449 -> 2,624 chars (76% of original)\u001b[0m\n",
      "\u001b[32m2024-08-29 15:28:01.397\u001b[0m | \u001b[1mINFO    \u001b[0m | \u001b[36mcore\u001b[0m:\u001b[36mshorten_markdown\u001b[0m:\u001b[36m230\u001b[0m - \u001b[1m6,206 -> 5,195 chars (84% of original)\u001b[0m\n",
      "\u001b[32m2024-08-29 15:28:01.397\u001b[0m | \u001b[1mINFO    \u001b[0m | \u001b[36mcore\u001b[0m:\u001b[36mshorten_markdown\u001b[0m:\u001b[36m230\u001b[0m - \u001b[1m4,029 -> 2,907 chars (72% of original)\u001b[0m\n",
      "\u001b[32m2024-08-29 15:28:01.398\u001b[0m | \u001b[1mINFO    \u001b[0m | \u001b[36mcore\u001b[0m:\u001b[36mshorten_markdown\u001b[0m:\u001b[36m230\u001b[0m - \u001b[1m2,681 -> 2,039 chars (76% of original)\u001b[0m\n",
      "\u001b[32m2024-08-29 15:28:31.422\u001b[0m | \u001b[1mINFO    \u001b[0m | \u001b[36mcore\u001b[0m:\u001b[36munshorten_markdown\u001b[0m:\u001b[36m249\u001b[0m - \u001b[1m10,277 -> 15,875 chars (154% of original)\u001b[0m\n",
      "\u001b[32m2024-08-29 15:28:31.423\u001b[0m | \u001b[1mINFO    \u001b[0m | \u001b[36munified\u001b[0m:\u001b[36mrun\u001b[0m:\u001b[36m293\u001b[0m - \u001b[1m73,483 -> 15,875 chars (22%) \u001b[0m\n",
      "\u001b[32m2024-08-29 15:28:31.429\u001b[0m | \u001b[1mINFO    \u001b[0m | \u001b[36munified\u001b[0m:\u001b[36mrun\u001b[0m:\u001b[36m293\u001b[0m - \u001b[1mExtractive fraction: 63% \u001b[0m\n",
      "\u001b[32m2024-08-29 15:28:31.430\u001b[0m | \u001b[1mINFO    \u001b[0m | \u001b[36munified\u001b[0m:\u001b[36mrun\u001b[0m:\u001b[36m293\u001b[0m - \u001b[1mPercent of URLs in sources: 99% ❌\u001b[0m\n",
      "\u001b[32m2024-08-29 15:28:31.431\u001b[0m | \u001b[1mINFO    \u001b[0m | \u001b[36munified\u001b[0m:\u001b[36mrun\u001b[0m:\u001b[36m293\u001b[0m - \u001b[1mCitation density: 50.4% (percent of output used by URLs/link syntax) \u001b[0m\n",
      "\u001b[32m2024-08-29 15:28:31.432\u001b[0m | \u001b[1mINFO    \u001b[0m | \u001b[36munified\u001b[0m:\u001b[36mrun\u001b[0m:\u001b[36m293\u001b[0m - \u001b[1mDistinct URLs (summary / input): 79 / 286\u001b[0m\n",
      "\u001b[32m2024-08-29 15:28:31.433\u001b[0m | \u001b[1mINFO    \u001b[0m | \u001b[36munified\u001b[0m:\u001b[36mrun\u001b[0m:\u001b[36m293\u001b[0m - \u001b[1mSuspicious URLs: {'https://www.reddit.com/r/Grammarly/comments/14zm72o/does_anyone_else_also_feel_like_grammarly_is/l35fxs1/'}\u001b[0m\n",
      "\u001b[32m2024-08-29 15:28:31.433\u001b[0m | \u001b[1mINFO    \u001b[0m | \u001b[36munified\u001b[0m:\u001b[36mrun\u001b[0m:\u001b[36m293\u001b[0m - \u001b[1mCache mentions: 0 ✅\u001b[0m\n",
      "\u001b[32m2024-08-29 15:28:31.440\u001b[0m | \u001b[1mINFO    \u001b[0m | \u001b[36munified\u001b[0m:\u001b[36mrun\u001b[0m:\u001b[36m328\u001b[0m - \u001b[1mWritten to /home/keith/company-detective/output/Grammarly/Grammarly_20240829_152831.md\u001b[0m\n"
     ]
    }
   ],
   "source": [
    "# Set the log level\n",
    "import sys\n",
    "from loguru import logger\n",
    "logger.remove()\n",
    "logger.add(sys.stderr, level=\"INFO\")\n",
    "\n",
    "import unified\n",
    "\n",
    "markdown_file = await unified.run(\n",
    "    Seed.init(\"Grammarly\", domain=\"grammarly.com\"), \n",
    "    num_reddit_threads=10, \n",
    "    max_glassdoor_review_pages=5, \n",
    "    max_glassdoor_job_pages=0,\n",
    "    max_news_articles=40,\n",
    "    # glassdoor_url=\"https://www.glassdoor.com/Reviews/Pomelo-Care-Reviews-E9429297.htm\"\n",
    "    )"
   ]
  },
  {
   "cell_type": "code",
   "execution_count": 5,
   "metadata": {},
   "outputs": [
    {
     "name": "stderr",
     "output_type": "stream",
     "text": [
      "\u001b[32m2024-08-29 15:28:44.586\u001b[0m | \u001b[1mINFO    \u001b[0m | \u001b[36mpublish\u001b[0m:\u001b[36mmarkdown_file_to_html\u001b[0m:\u001b[36m26\u001b[0m - \u001b[1mHTML written to /home/keith/company-detective/output/Grammarly/Grammarly_20240829_152831.html\u001b[0m\n"
     ]
    },
    {
     "data": {
      "text/plain": [
       "'http://company-detective.s3-website-us-west-2.amazonaws.com/reports/Grammarly_20240829_152831.html'"
      ]
     },
     "execution_count": 5,
     "metadata": {},
     "output_type": "execute_result"
    }
   ],
   "source": [
    "from publish import markdown_file_to_html, publish_to_s3\n",
    "\n",
    "html_file = markdown_file_to_html(markdown_file)\n",
    "publish_to_s3(html_file)"
   ]
  },
  {
   "cell_type": "code",
   "execution_count": null,
   "metadata": {},
   "outputs": [],
   "source": []
  }
 ],
 "metadata": {
  "kernelspec": {
   "display_name": ".venv",
   "language": "python",
   "name": "python3"
  },
  "language_info": {
   "codemirror_mode": {
    "name": "ipython",
    "version": 3
   },
   "file_extension": ".py",
   "mimetype": "text/x-python",
   "name": "python",
   "nbconvert_exporter": "python",
   "pygments_lexer": "ipython3",
   "version": "3.10.12"
  }
 },
 "nbformat": 4,
 "nbformat_minor": 2
}
