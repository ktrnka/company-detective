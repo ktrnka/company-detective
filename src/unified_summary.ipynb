{
 "cells": [
  {
   "cell_type": "code",
   "execution_count": 1,
   "metadata": {},
   "outputs": [],
   "source": [
    "from core import Seed, init\n",
    "\n",
    "init()"
   ]
  },
  {
   "cell_type": "code",
   "execution_count": 2,
   "metadata": {},
   "outputs": [],
   "source": [
    "# # optionally, help find the URL for the seed\n",
    "# from google_search import search\n",
    "\n",
    "# for result in search(\"Imagine Pediatics\"):\n",
    "#     print(result)"
   ]
  },
  {
   "cell_type": "code",
   "execution_count": 3,
   "metadata": {},
   "outputs": [
    {
     "name": "stderr",
     "output_type": "stream",
     "text": [
      "\u001b[32m2024-09-09 14:03:56.033\u001b[0m | \u001b[1mINFO    \u001b[0m | \u001b[36mcompany_webpage\u001b[0m:\u001b[36mrun\u001b[0m:\u001b[36m65\u001b[0m - \u001b[1m85,472 -> 3,742 chars (4%) \u001b[0m\n",
      "\u001b[32m2024-09-09 14:03:56.040\u001b[0m | \u001b[1mINFO    \u001b[0m | \u001b[36mcompany_webpage\u001b[0m:\u001b[36mrun\u001b[0m:\u001b[36m65\u001b[0m - \u001b[1mExtractive fraction: 11% \u001b[0m\n",
      "\u001b[32m2024-09-09 14:03:56.041\u001b[0m | \u001b[1mINFO    \u001b[0m | \u001b[36mcompany_webpage\u001b[0m:\u001b[36mrun\u001b[0m:\u001b[36m65\u001b[0m - \u001b[1mPercent of URLs in sources: 100% ✅\u001b[0m\n",
      "\u001b[32m2024-09-09 14:03:56.041\u001b[0m | \u001b[1mINFO    \u001b[0m | \u001b[36mcompany_webpage\u001b[0m:\u001b[36mrun\u001b[0m:\u001b[36m65\u001b[0m - \u001b[1mCitation density: 9.0% (percent of output used by URLs/link syntax) \u001b[0m\n",
      "\u001b[32m2024-09-09 14:03:56.041\u001b[0m | \u001b[1mINFO    \u001b[0m | \u001b[36mcompany_webpage\u001b[0m:\u001b[36mrun\u001b[0m:\u001b[36m65\u001b[0m - \u001b[1mDistinct URLs (summary / input): 7 / 30\u001b[0m\n",
      "\u001b[32m2024-09-09 14:03:56.042\u001b[0m | \u001b[1mINFO    \u001b[0m | \u001b[36mcompany_webpage\u001b[0m:\u001b[36mrun\u001b[0m:\u001b[36m65\u001b[0m - \u001b[1mSuspicious URLs: set()\u001b[0m\n",
      "\u001b[32m2024-09-09 14:03:56.043\u001b[0m | \u001b[1mINFO    \u001b[0m | \u001b[36mcompany_webpage\u001b[0m:\u001b[36mrun\u001b[0m:\u001b[36m65\u001b[0m - \u001b[1mCache mentions: 0 ✅\u001b[0m\n",
      "\u001b[32m2024-09-09 14:03:58.802\u001b[0m | \u001b[1mINFO    \u001b[0m | \u001b[36mcore\u001b[0m:\u001b[36mshorten_markdown\u001b[0m:\u001b[36m230\u001b[0m - \u001b[1m29,054 -> 23,091 chars (79% of original)\u001b[0m\n",
      "\u001b[32m2024-09-09 14:04:04.129\u001b[0m | \u001b[1mINFO    \u001b[0m | \u001b[36mcore\u001b[0m:\u001b[36munshorten_markdown\u001b[0m:\u001b[36m249\u001b[0m - \u001b[1m2,144 -> 3,254 chars (152% of original)\u001b[0m\n",
      "\u001b[32m2024-09-09 14:04:04.130\u001b[0m | \u001b[1mINFO    \u001b[0m | \u001b[36mgeneral_search\u001b[0m:\u001b[36msummarize\u001b[0m:\u001b[36m124\u001b[0m - \u001b[1m29,054 -> 3,254 chars (11%) \u001b[0m\n",
      "\u001b[32m2024-09-09 14:04:04.137\u001b[0m | \u001b[1mINFO    \u001b[0m | \u001b[36mgeneral_search\u001b[0m:\u001b[36msummarize\u001b[0m:\u001b[36m124\u001b[0m - \u001b[1mExtractive fraction: 67% \u001b[0m\n",
      "\u001b[32m2024-09-09 14:04:04.139\u001b[0m | \u001b[1mINFO    \u001b[0m | \u001b[36mgeneral_search\u001b[0m:\u001b[36msummarize\u001b[0m:\u001b[36m124\u001b[0m - \u001b[1mPercent of URLs in sources: 100% ✅\u001b[0m\n",
      "\u001b[32m2024-09-09 14:04:04.139\u001b[0m | \u001b[1mINFO    \u001b[0m | \u001b[36mgeneral_search\u001b[0m:\u001b[36msummarize\u001b[0m:\u001b[36m124\u001b[0m - \u001b[1mCitation density: 50.6% (percent of output used by URLs/link syntax) \u001b[0m\n",
      "\u001b[32m2024-09-09 14:04:04.140\u001b[0m | \u001b[1mINFO    \u001b[0m | \u001b[36mgeneral_search\u001b[0m:\u001b[36msummarize\u001b[0m:\u001b[36m124\u001b[0m - \u001b[1mDistinct URLs (summary / input): 21 / 95\u001b[0m\n",
      "\u001b[32m2024-09-09 14:04:04.141\u001b[0m | \u001b[1mINFO    \u001b[0m | \u001b[36mgeneral_search\u001b[0m:\u001b[36msummarize\u001b[0m:\u001b[36m124\u001b[0m - \u001b[1mSuspicious URLs: set()\u001b[0m\n",
      "\u001b[32m2024-09-09 14:04:04.143\u001b[0m | \u001b[1mINFO    \u001b[0m | \u001b[36mgeneral_search\u001b[0m:\u001b[36msummarize\u001b[0m:\u001b[36m124\u001b[0m - \u001b[1mCache mentions: 0 ✅\u001b[0m\n",
      "\u001b[32m2024-09-09 14:04:04.324\u001b[0m | \u001b[1mINFO    \u001b[0m | \u001b[36mscrapfly_scrapers.crunchbase\u001b[0m:\u001b[36mscrape_company\u001b[0m:\u001b[36m62\u001b[0m - \u001b[1mscraping company: https://www.crunchbase.com/organization/akili/people\u001b[0m\n",
      "CRITICAL:root:<-- 422 | ERR::SCRAPE::COST_BUDGET_LIMIT - Cost budget has been reached, you must increase the budget to pass this target - The cost of the scrape is exceeding the budget of 50, would require 51 API credit. Checkout the related doc: https://scrapfly.io/docs/scrape-api/anti-scraping-protection\n",
      "\u001b[32m2024-09-09 14:04:05.324\u001b[0m | \u001b[33m\u001b[1mWARNING \u001b[0m | \u001b[36mcrunchbase\u001b[0m:\u001b[36mrun\u001b[0m:\u001b[36m59\u001b[0m - \u001b[33m\u001b[1mFailed to process Crunchbase (ScrapflyScrapeError), skipping: <-- 422 | ERR::SCRAPE::COST_BUDGET_LIMIT - Cost budget has been reached, you must increase the budget to pass this target - The cost of the scrape is exceeding the budget of 50, would require 51 API credit. Checkout the related doc: https://scrapfly.io/docs/scrape-api/anti-scraping-protection\u001b[0m\n",
      "\u001b[32m2024-09-09 14:04:05.326\u001b[0m | \u001b[33m\u001b[1mWARNING \u001b[0m | \u001b[36munified\u001b[0m:\u001b[36mrun\u001b[0m:\u001b[36m292\u001b[0m - \u001b[33m\u001b[1mNo Crunchbase info found\u001b[0m\n",
      "\u001b[32m2024-09-09 14:04:07.395\u001b[0m | \u001b[1mINFO    \u001b[0m | \u001b[36mcustomer_experience\u001b[0m:\u001b[36mrun\u001b[0m:\u001b[36m162\u001b[0m - \u001b[1mTotal reviews: 42\u001b[0m\n",
      "\u001b[32m2024-09-09 14:04:07.397\u001b[0m | \u001b[1mINFO    \u001b[0m | \u001b[36mcustomer_experience\u001b[0m:\u001b[36mrun\u001b[0m:\u001b[36m170\u001b[0m - \u001b[1mPacked reviews: 2\u001b[0m\n",
      "\u001b[32m2024-09-09 14:04:07.464\u001b[0m | \u001b[1mINFO    \u001b[0m | \u001b[36mcore\u001b[0m:\u001b[36mshorten_markdown\u001b[0m:\u001b[36m230\u001b[0m - \u001b[1m18,865 -> 15,470 chars (82% of original)\u001b[0m\n",
      "\u001b[32m2024-09-09 14:04:07.466\u001b[0m | \u001b[1mINFO    \u001b[0m | \u001b[36mcore\u001b[0m:\u001b[36mshorten_markdown\u001b[0m:\u001b[36m230\u001b[0m - \u001b[1m28,128 -> 23,295 chars (83% of original)\u001b[0m\n",
      "\u001b[32m2024-09-09 14:04:31.723\u001b[0m | \u001b[1mINFO    \u001b[0m | \u001b[36mcustomer_experience\u001b[0m:\u001b[36mrun\u001b[0m:\u001b[36m200\u001b[0m - \u001b[1mMap stage 38,765 chars -> 2,955 chars (8%)\u001b[0m\n",
      "\u001b[32m2024-09-09 14:04:31.724\u001b[0m | \u001b[1mINFO    \u001b[0m | \u001b[36mcustomer_experience\u001b[0m:\u001b[36mrun\u001b[0m:\u001b[36m200\u001b[0m - \u001b[1mReduce stage 2,955 chars -> 3,105 chars (105%)\u001b[0m\n",
      "\u001b[32m2024-09-09 14:04:31.725\u001b[0m | \u001b[1mINFO    \u001b[0m | \u001b[36mcore\u001b[0m:\u001b[36munshorten_markdown\u001b[0m:\u001b[36m249\u001b[0m - \u001b[1m3,105 -> 3,646 chars (117% of original)\u001b[0m\n",
      "\u001b[32m2024-09-09 14:04:31.726\u001b[0m | \u001b[1mINFO    \u001b[0m | \u001b[36mcustomer_experience\u001b[0m:\u001b[36mrun\u001b[0m:\u001b[36m203\u001b[0m - \u001b[1m46,994 -> 3,646 chars (8%) \u001b[0m\n",
      "\u001b[32m2024-09-09 14:04:31.731\u001b[0m | \u001b[1mINFO    \u001b[0m | \u001b[36mcustomer_experience\u001b[0m:\u001b[36mrun\u001b[0m:\u001b[36m203\u001b[0m - \u001b[1mExtractive fraction: 79% \u001b[0m\n",
      "\u001b[32m2024-09-09 14:04:31.732\u001b[0m | \u001b[1mINFO    \u001b[0m | \u001b[36mcustomer_experience\u001b[0m:\u001b[36mrun\u001b[0m:\u001b[36m203\u001b[0m - \u001b[1mPercent of URLs in sources: 100% ✅\u001b[0m\n",
      "\u001b[32m2024-09-09 14:04:31.733\u001b[0m | \u001b[1mINFO    \u001b[0m | \u001b[36mcustomer_experience\u001b[0m:\u001b[36mrun\u001b[0m:\u001b[36m203\u001b[0m - \u001b[1mCitation density: 26.3% (percent of output used by URLs/link syntax) \u001b[0m\n",
      "\u001b[32m2024-09-09 14:04:31.733\u001b[0m | \u001b[1mINFO    \u001b[0m | \u001b[36mcustomer_experience\u001b[0m:\u001b[36mrun\u001b[0m:\u001b[36m203\u001b[0m - \u001b[1mDistinct URLs (summary / input): 16 / 124\u001b[0m\n",
      "\u001b[32m2024-09-09 14:04:31.734\u001b[0m | \u001b[1mINFO    \u001b[0m | \u001b[36mcustomer_experience\u001b[0m:\u001b[36mrun\u001b[0m:\u001b[36m203\u001b[0m - \u001b[1mSuspicious URLs: set()\u001b[0m\n",
      "\u001b[32m2024-09-09 14:04:31.735\u001b[0m | \u001b[1mINFO    \u001b[0m | \u001b[36mcustomer_experience\u001b[0m:\u001b[36mrun\u001b[0m:\u001b[36m203\u001b[0m - \u001b[1mCache mentions: 0 ✅\u001b[0m\n",
      "\u001b[32m2024-09-09 14:04:31.889\u001b[0m | \u001b[1mINFO    \u001b[0m | \u001b[36mscrapfly_scrapers.glassdoor\u001b[0m:\u001b[36mscrape_reviews\u001b[0m:\u001b[36m105\u001b[0m - \u001b[1mscraping reviews from https://www.glassdoor.com/Reviews/Akili-Interactive-Labs-Reviews-E1796040.htm\u001b[0m\n",
      "\u001b[32m2024-09-09 14:04:33.731\u001b[0m | \u001b[1mINFO    \u001b[0m | \u001b[36mscrapfly_scrapers.glassdoor\u001b[0m:\u001b[36mscrape_reviews\u001b[0m:\u001b[36m113\u001b[0m - \u001b[1mscraped first page of reviews of https://www.glassdoor.com/Reviews/Akili-Interactive-Labs-Reviews-E1796040.htm, scraping remaining 2 pages\u001b[0m\n",
      "\u001b[32m2024-09-09 14:04:49.791\u001b[0m | \u001b[1mINFO    \u001b[0m | \u001b[36mscrapfly_scrapers.glassdoor\u001b[0m:\u001b[36mscrape_reviews\u001b[0m:\u001b[36m123\u001b[0m - \u001b[1mscraped 27 reviews from https://www.glassdoor.com/Reviews/Akili-Interactive-Labs-Reviews-E1796040.htm in 3 pages\u001b[0m\n",
      "\u001b[32m2024-09-09 14:05:01.336\u001b[0m | \u001b[1mINFO    \u001b[0m | \u001b[36mglassdoor.summarizer\u001b[0m:\u001b[36msummarize\u001b[0m:\u001b[36m59\u001b[0m - \u001b[1m21,220 -> 4,769 chars (22%) \u001b[0m\n",
      "\u001b[32m2024-09-09 14:05:01.341\u001b[0m | \u001b[1mINFO    \u001b[0m | \u001b[36mglassdoor.summarizer\u001b[0m:\u001b[36msummarize\u001b[0m:\u001b[36m59\u001b[0m - \u001b[1mExtractive fraction: 64% \u001b[0m\n",
      "\u001b[32m2024-09-09 14:05:01.342\u001b[0m | \u001b[1mINFO    \u001b[0m | \u001b[36mglassdoor.summarizer\u001b[0m:\u001b[36msummarize\u001b[0m:\u001b[36m59\u001b[0m - \u001b[1mPercent of URLs in sources: 100% ✅\u001b[0m\n",
      "\u001b[32m2024-09-09 14:05:01.342\u001b[0m | \u001b[1mINFO    \u001b[0m | \u001b[36mglassdoor.summarizer\u001b[0m:\u001b[36msummarize\u001b[0m:\u001b[36m59\u001b[0m - \u001b[1mCitation density: 34.7% (percent of output used by URLs/link syntax) \u001b[0m\n",
      "\u001b[32m2024-09-09 14:05:01.343\u001b[0m | \u001b[1mINFO    \u001b[0m | \u001b[36mglassdoor.summarizer\u001b[0m:\u001b[36msummarize\u001b[0m:\u001b[36m59\u001b[0m - \u001b[1mDistinct URLs (summary / input): 14 / 27\u001b[0m\n",
      "\u001b[32m2024-09-09 14:05:01.344\u001b[0m | \u001b[1mINFO    \u001b[0m | \u001b[36mglassdoor.summarizer\u001b[0m:\u001b[36msummarize\u001b[0m:\u001b[36m59\u001b[0m - \u001b[1mSuspicious URLs: set()\u001b[0m\n",
      "\u001b[32m2024-09-09 14:05:01.344\u001b[0m | \u001b[1mINFO    \u001b[0m | \u001b[36mglassdoor.summarizer\u001b[0m:\u001b[36msummarize\u001b[0m:\u001b[36m59\u001b[0m - \u001b[1mCache mentions: 0 ✅\u001b[0m\n",
      "\u001b[32m2024-09-09 14:06:16.813\u001b[0m | \u001b[1mINFO    \u001b[0m | \u001b[36mcore\u001b[0m:\u001b[36mshorten_markdown\u001b[0m:\u001b[36m230\u001b[0m - \u001b[1m157,367 -> 154,634 chars (98% of original)\u001b[0m\n",
      "\u001b[32m2024-09-09 14:06:39.044\u001b[0m | \u001b[1mINFO    \u001b[0m | \u001b[36mcore\u001b[0m:\u001b[36munshorten_markdown\u001b[0m:\u001b[36m249\u001b[0m - \u001b[1m5,298 -> 6,408 chars (121% of original)\u001b[0m\n",
      "\u001b[32m2024-09-09 14:06:39.045\u001b[0m | \u001b[1mINFO    \u001b[0m | \u001b[36mnews.summarize\u001b[0m:\u001b[36msummarize\u001b[0m:\u001b[36m94\u001b[0m - \u001b[1m157,367 -> 6,408 chars (4%) \u001b[0m\n",
      "\u001b[32m2024-09-09 14:06:39.056\u001b[0m | \u001b[1mINFO    \u001b[0m | \u001b[36mnews.summarize\u001b[0m:\u001b[36msummarize\u001b[0m:\u001b[36m94\u001b[0m - \u001b[1mExtractive fraction: 26% \u001b[0m\n",
      "\u001b[32m2024-09-09 14:06:39.057\u001b[0m | \u001b[1mINFO    \u001b[0m | \u001b[36mnews.summarize\u001b[0m:\u001b[36msummarize\u001b[0m:\u001b[36m94\u001b[0m - \u001b[1mPercent of URLs in sources: 89% ❌\u001b[0m\n",
      "\u001b[32m2024-09-09 14:06:39.057\u001b[0m | \u001b[1mINFO    \u001b[0m | \u001b[36mnews.summarize\u001b[0m:\u001b[36msummarize\u001b[0m:\u001b[36m94\u001b[0m - \u001b[1mCitation density: 22.8% (percent of output used by URLs/link syntax) \u001b[0m\n",
      "\u001b[32m2024-09-09 14:06:39.057\u001b[0m | \u001b[1mINFO    \u001b[0m | \u001b[36mnews.summarize\u001b[0m:\u001b[36msummarize\u001b[0m:\u001b[36m94\u001b[0m - \u001b[1mDistinct URLs (summary / input): 9 / 35\u001b[0m\n",
      "\u001b[32m2024-09-09 14:06:39.058\u001b[0m | \u001b[1mINFO    \u001b[0m | \u001b[36mnews.summarize\u001b[0m:\u001b[36msummarize\u001b[0m:\u001b[36m94\u001b[0m - \u001b[1mSuspicious URLs: {'https://www.businesswire.com/news/home/20240529504802/en/'}\u001b[0m\n",
      "\u001b[32m2024-09-09 14:06:39.058\u001b[0m | \u001b[1mINFO    \u001b[0m | \u001b[36mnews.summarize\u001b[0m:\u001b[36msummarize\u001b[0m:\u001b[36m94\u001b[0m - \u001b[1mCache mentions: 0 ✅\u001b[0m\n",
      "\u001b[32m2024-09-09 14:06:39.143\u001b[0m | \u001b[1mINFO    \u001b[0m | \u001b[36mcore\u001b[0m:\u001b[36mshorten_markdown\u001b[0m:\u001b[36m230\u001b[0m - \u001b[1m3,742 -> 3,620 chars (97% of original)\u001b[0m\n",
      "\u001b[32m2024-09-09 14:06:39.144\u001b[0m | \u001b[1mINFO    \u001b[0m | \u001b[36mcore\u001b[0m:\u001b[36mshorten_markdown\u001b[0m:\u001b[36m230\u001b[0m - \u001b[1m6,408 -> 5,302 chars (83% of original)\u001b[0m\n",
      "\u001b[32m2024-09-09 14:06:54.132\u001b[0m | \u001b[1mINFO    \u001b[0m | \u001b[36mcore\u001b[0m:\u001b[36munshorten_markdown\u001b[0m:\u001b[36m249\u001b[0m - \u001b[1m6,031 -> 7,697 chars (128% of original)\u001b[0m\n",
      "\u001b[32m2024-09-09 14:06:54.133\u001b[0m | \u001b[1mINFO    \u001b[0m | \u001b[36munified\u001b[0m:\u001b[36mrun\u001b[0m:\u001b[36m345\u001b[0m - \u001b[1m10,152 -> 7,697 chars (76%) \u001b[0m\n",
      "\u001b[32m2024-09-09 14:06:54.136\u001b[0m | \u001b[1mINFO    \u001b[0m | \u001b[36munified\u001b[0m:\u001b[36mrun\u001b[0m:\u001b[36m345\u001b[0m - \u001b[1mExtractive fraction: 60% \u001b[0m\n",
      "\u001b[32m2024-09-09 14:06:54.137\u001b[0m | \u001b[1mINFO    \u001b[0m | \u001b[36munified\u001b[0m:\u001b[36mrun\u001b[0m:\u001b[36m345\u001b[0m - \u001b[1mPercent of URLs in sources: 100% ✅\u001b[0m\n",
      "\u001b[32m2024-09-09 14:06:54.137\u001b[0m | \u001b[1mINFO    \u001b[0m | \u001b[36munified\u001b[0m:\u001b[36mrun\u001b[0m:\u001b[36m345\u001b[0m - \u001b[1mCitation density: 31.0% (percent of output used by URLs/link syntax) \u001b[0m\n",
      "\u001b[32m2024-09-09 14:06:54.138\u001b[0m | \u001b[1mINFO    \u001b[0m | \u001b[36munified\u001b[0m:\u001b[36mrun\u001b[0m:\u001b[36m345\u001b[0m - \u001b[1mDistinct URLs (summary / input): 16 / 16\u001b[0m\n",
      "\u001b[32m2024-09-09 14:06:54.139\u001b[0m | \u001b[1mINFO    \u001b[0m | \u001b[36munified\u001b[0m:\u001b[36mrun\u001b[0m:\u001b[36m345\u001b[0m - \u001b[1mSuspicious URLs: set()\u001b[0m\n",
      "\u001b[32m2024-09-09 14:06:54.140\u001b[0m | \u001b[1mINFO    \u001b[0m | \u001b[36munified\u001b[0m:\u001b[36mrun\u001b[0m:\u001b[36m345\u001b[0m - \u001b[1mCache mentions: 0 ✅\u001b[0m\n",
      "\u001b[32m2024-09-09 14:06:54.145\u001b[0m | \u001b[1mINFO    \u001b[0m | \u001b[36munified\u001b[0m:\u001b[36mto_markdown_file\u001b[0m:\u001b[36m240\u001b[0m - \u001b[1mWritten to /home/keith/company-detective/output/Akili_Interactive/Akili_Interactive_20240909_140654.md\u001b[0m\n"
     ]
    }
   ],
   "source": [
    "# Set the log level\n",
    "import sys\n",
    "from loguru import logger\n",
    "logger.remove()\n",
    "logger.add(sys.stderr, level=\"INFO\")\n",
    "\n",
    "import unified\n",
    "\n",
    "unified_result = await unified.run(\n",
    "    Seed.init(\"Akili Interactive\", domain=\"akiliinteractive.com\"), \n",
    "    num_reddit_threads=10, \n",
    "    max_glassdoor_review_pages=5, \n",
    "    max_glassdoor_job_pages=0,\n",
    "    max_news_articles=40,\n",
    "    # glassdoor_url=\"https://www.glassdoor.com/Reviews/Pomelo-Care-Reviews-E9429297.htm\"\n",
    "    )\n",
    "\n",
    "markdown_file = unified_result.to_markdown_file()"
   ]
  },
  {
   "cell_type": "code",
   "execution_count": 4,
   "metadata": {},
   "outputs": [
    {
     "name": "stderr",
     "output_type": "stream",
     "text": [
      "\u001b[32m2024-09-09 14:06:54.170\u001b[0m | \u001b[1mINFO    \u001b[0m | \u001b[36munified\u001b[0m:\u001b[36mto_html_file\u001b[0m:\u001b[36m261\u001b[0m - \u001b[1mWritten to /home/keith/company-detective/output/Akili_Interactive/Akili_Interactive_20240909_140654.html\u001b[0m\n"
     ]
    }
   ],
   "source": [
    "html_file = unified_result.to_html_file()"
   ]
  },
  {
   "cell_type": "code",
   "execution_count": 5,
   "metadata": {},
   "outputs": [
    {
     "data": {
      "text/plain": [
       "'http://company-detective.s3-website-us-west-2.amazonaws.com/reports/Akili_Interactive_20240909_140654.html'"
      ]
     },
     "execution_count": 5,
     "metadata": {},
     "output_type": "execute_result"
    }
   ],
   "source": [
    "from publish import publish_to_s3\n",
    "\n",
    "publish_to_s3(html_file)"
   ]
  },
  {
   "cell_type": "code",
   "execution_count": null,
   "metadata": {},
   "outputs": [],
   "source": []
  }
 ],
 "metadata": {
  "kernelspec": {
   "display_name": ".venv",
   "language": "python",
   "name": "python3"
  },
  "language_info": {
   "codemirror_mode": {
    "name": "ipython",
    "version": 3
   },
   "file_extension": ".py",
   "mimetype": "text/x-python",
   "name": "python",
   "nbconvert_exporter": "python",
   "pygments_lexer": "ipython3",
   "version": "3.10.12"
  }
 },
 "nbformat": 4,
 "nbformat_minor": 2
}
