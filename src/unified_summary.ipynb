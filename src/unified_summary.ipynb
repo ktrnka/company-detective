{
 "cells": [
  {
   "cell_type": "code",
   "execution_count": 1,
   "metadata": {},
   "outputs": [],
   "source": [
    "from core import Seed, init\n",
    "\n",
    "init()"
   ]
  },
  {
   "cell_type": "code",
   "execution_count": 2,
   "metadata": {},
   "outputs": [],
   "source": [
    "# # optionally, help find the URL for the seed\n",
    "# from google_search import search\n",
    "\n",
    "# for result in search(\"Imagine Pediatics\"):\n",
    "#     print(result)"
   ]
  },
  {
   "cell_type": "code",
   "execution_count": 3,
   "metadata": {},
   "outputs": [
    {
     "name": "stderr",
     "output_type": "stream",
     "text": [
      "\u001b[32m2024-08-31 15:28:53.269\u001b[0m | \u001b[1mINFO    \u001b[0m | \u001b[36mcompany_webpage\u001b[0m:\u001b[36mrun\u001b[0m:\u001b[36m65\u001b[0m - \u001b[1m68,711 -> 4,596 chars (7%) \u001b[0m\n",
      "\u001b[32m2024-08-31 15:28:53.274\u001b[0m | \u001b[1mINFO    \u001b[0m | \u001b[36mcompany_webpage\u001b[0m:\u001b[36mrun\u001b[0m:\u001b[36m65\u001b[0m - \u001b[1mExtractive fraction: 14% \u001b[0m\n",
      "\u001b[32m2024-08-31 15:28:53.275\u001b[0m | \u001b[1mINFO    \u001b[0m | \u001b[36mcompany_webpage\u001b[0m:\u001b[36mrun\u001b[0m:\u001b[36m65\u001b[0m - \u001b[1mPercent of URLs in sources: 89% ❌\u001b[0m\n",
      "\u001b[32m2024-08-31 15:28:53.275\u001b[0m | \u001b[1mINFO    \u001b[0m | \u001b[36mcompany_webpage\u001b[0m:\u001b[36mrun\u001b[0m:\u001b[36m65\u001b[0m - \u001b[1mCitation density: 18.2% (percent of output used by URLs/link syntax) \u001b[0m\n",
      "\u001b[32m2024-08-31 15:28:53.276\u001b[0m | \u001b[1mINFO    \u001b[0m | \u001b[36mcompany_webpage\u001b[0m:\u001b[36mrun\u001b[0m:\u001b[36m65\u001b[0m - \u001b[1mDistinct URLs (summary / input): 18 / 29\u001b[0m\n",
      "\u001b[32m2024-08-31 15:28:53.277\u001b[0m | \u001b[1mINFO    \u001b[0m | \u001b[36mcompany_webpage\u001b[0m:\u001b[36mrun\u001b[0m:\u001b[36m65\u001b[0m - \u001b[1mSuspicious URLs: {'https://www.imaginepediatrics.org/holiday', 'https://www.imaginepediatrics.org/events'}\u001b[0m\n",
      "\u001b[32m2024-08-31 15:28:53.277\u001b[0m | \u001b[1mINFO    \u001b[0m | \u001b[36mcompany_webpage\u001b[0m:\u001b[36mrun\u001b[0m:\u001b[36m65\u001b[0m - \u001b[1mCache mentions: 0 ✅\u001b[0m\n",
      "\u001b[32m2024-08-31 15:28:55.464\u001b[0m | \u001b[1mINFO    \u001b[0m | \u001b[36mcore\u001b[0m:\u001b[36mshorten_markdown\u001b[0m:\u001b[36m230\u001b[0m - \u001b[1m13,645 -> 11,138 chars (82% of original)\u001b[0m\n",
      "\u001b[32m2024-08-31 15:28:55.469\u001b[0m | \u001b[1mINFO    \u001b[0m | \u001b[36mcore\u001b[0m:\u001b[36munshorten_markdown\u001b[0m:\u001b[36m249\u001b[0m - \u001b[1m2,220 -> 3,611 chars (163% of original)\u001b[0m\n",
      "\u001b[32m2024-08-31 15:28:55.470\u001b[0m | \u001b[1mINFO    \u001b[0m | \u001b[36mgeneral_search\u001b[0m:\u001b[36msummarize\u001b[0m:\u001b[36m124\u001b[0m - \u001b[1m13,645 -> 3,611 chars (26%) \u001b[0m\n",
      "\u001b[32m2024-08-31 15:28:55.471\u001b[0m | \u001b[1mINFO    \u001b[0m | \u001b[36mgeneral_search\u001b[0m:\u001b[36msummarize\u001b[0m:\u001b[36m124\u001b[0m - \u001b[1mExtractive fraction: 73% \u001b[0m\n",
      "\u001b[32m2024-08-31 15:28:55.472\u001b[0m | \u001b[1mINFO    \u001b[0m | \u001b[36mgeneral_search\u001b[0m:\u001b[36msummarize\u001b[0m:\u001b[36m124\u001b[0m - \u001b[1mPercent of URLs in sources: 100% ✅\u001b[0m\n",
      "\u001b[32m2024-08-31 15:28:55.472\u001b[0m | \u001b[1mINFO    \u001b[0m | \u001b[36mgeneral_search\u001b[0m:\u001b[36msummarize\u001b[0m:\u001b[36m124\u001b[0m - \u001b[1mCitation density: 54.9% (percent of output used by URLs/link syntax) \u001b[0m\n",
      "\u001b[32m2024-08-31 15:28:55.475\u001b[0m | \u001b[1mINFO    \u001b[0m | \u001b[36mgeneral_search\u001b[0m:\u001b[36msummarize\u001b[0m:\u001b[36m124\u001b[0m - \u001b[1mDistinct URLs (summary / input): 20 / 49\u001b[0m\n",
      "\u001b[32m2024-08-31 15:28:55.476\u001b[0m | \u001b[1mINFO    \u001b[0m | \u001b[36mgeneral_search\u001b[0m:\u001b[36msummarize\u001b[0m:\u001b[36m124\u001b[0m - \u001b[1mSuspicious URLs: set()\u001b[0m\n",
      "\u001b[32m2024-08-31 15:28:55.477\u001b[0m | \u001b[1mINFO    \u001b[0m | \u001b[36mgeneral_search\u001b[0m:\u001b[36msummarize\u001b[0m:\u001b[36m124\u001b[0m - \u001b[1mCache mentions: 0 ✅\u001b[0m\n",
      "\u001b[32m2024-08-31 15:28:55.478\u001b[0m | \u001b[1mINFO    \u001b[0m | \u001b[36mapp_stores.apple\u001b[0m:\u001b[36mrun\u001b[0m:\u001b[36m79\u001b[0m - \u001b[1m0 chars in 0 reviews\u001b[0m\n",
      "\u001b[32m2024-08-31 15:28:55.480\u001b[0m | \u001b[1mINFO    \u001b[0m | \u001b[36mapp_stores.google_play\u001b[0m:\u001b[36mrun\u001b[0m:\u001b[36m164\u001b[0m - \u001b[1m1,163 chars in 6 reviews\u001b[0m\n",
      "\u001b[32m2024-08-31 15:28:55.629\u001b[0m | \u001b[1mINFO    \u001b[0m | \u001b[36mscrapfly_scrapers.crunchbase\u001b[0m:\u001b[36mscrape_company\u001b[0m:\u001b[36m62\u001b[0m - \u001b[1mscraping company: https://www.crunchbase.com/organization/imagine-pediatrics-96a9/people\u001b[0m\n",
      "CRITICAL:root:<-- 422 | ERR::ASP::SHIELD_PROTECTION_FAILED - The ASP shield failed to solve the challenge against the anti scrapping protection - Unable to bypass www.crunchbase.com. Checkout the related doc: https://scrapfly.io/docs/scrape-api/anti-scraping-protection#maximize_success_rate\n",
      "\u001b[32m2024-08-31 15:30:07.537\u001b[0m | \u001b[33m\u001b[1mWARNING \u001b[0m | \u001b[36munified\u001b[0m:\u001b[36mrun\u001b[0m:\u001b[36m223\u001b[0m - \u001b[33m\u001b[1mFailed to process Crunchbase (ScrapflyAspError), skipping\u001b[0m\n",
      "\u001b[32m2024-08-31 15:30:08.322\u001b[0m | \u001b[1mINFO    \u001b[0m | \u001b[36mcore\u001b[0m:\u001b[36mshorten_markdown\u001b[0m:\u001b[36m230\u001b[0m - \u001b[1m15,534 -> 13,753 chars (89% of original)\u001b[0m\n",
      "\u001b[32m2024-08-31 15:30:08.323\u001b[0m | \u001b[1mINFO    \u001b[0m | \u001b[36mcore\u001b[0m:\u001b[36mshorten_markdown\u001b[0m:\u001b[36m230\u001b[0m - \u001b[1m38,173 -> 33,782 chars (88% of original)\u001b[0m\n",
      "\u001b[32m2024-08-31 15:30:08.325\u001b[0m | \u001b[1mINFO    \u001b[0m | \u001b[36mcore\u001b[0m:\u001b[36mshorten_markdown\u001b[0m:\u001b[36m230\u001b[0m - \u001b[1m95,121 -> 84,075 chars (88% of original)\u001b[0m\n",
      "\u001b[32m2024-08-31 15:30:08.326\u001b[0m | \u001b[1mINFO    \u001b[0m | \u001b[36mcore\u001b[0m:\u001b[36mshorten_markdown\u001b[0m:\u001b[36m230\u001b[0m - \u001b[1m57,122 -> 48,430 chars (85% of original)\u001b[0m\n",
      "\u001b[32m2024-08-31 15:30:08.341\u001b[0m | \u001b[1mINFO    \u001b[0m | \u001b[36mcore\u001b[0m:\u001b[36munshorten_markdown\u001b[0m:\u001b[36m249\u001b[0m - \u001b[1m1,545 -> 1,545 chars (100% of original)\u001b[0m\n",
      "\u001b[32m2024-08-31 15:30:08.342\u001b[0m | \u001b[1mINFO    \u001b[0m | \u001b[36mreddit.summarizer\u001b[0m:\u001b[36msummarize\u001b[0m:\u001b[36m141\u001b[0m - \u001b[1mReddit: Extract stage 205,950 chars -> 64 chars (0%)\u001b[0m\n",
      "\u001b[32m2024-08-31 15:30:08.342\u001b[0m | \u001b[1mINFO    \u001b[0m | \u001b[36mreddit.summarizer\u001b[0m:\u001b[36msummarize\u001b[0m:\u001b[36m147\u001b[0m - \u001b[1mReddit: Combine stage 64 chars -> 1,545 chars (2414%)\u001b[0m\n",
      "\u001b[32m2024-08-31 15:30:08.343\u001b[0m | \u001b[1mINFO    \u001b[0m | \u001b[36mreddit.summarizer\u001b[0m:\u001b[36msummarize\u001b[0m:\u001b[36m156\u001b[0m - \u001b[1m205,956 -> 1,545 chars (1%) \u001b[0m\n",
      "\u001b[32m2024-08-31 15:30:08.356\u001b[0m | \u001b[1mINFO    \u001b[0m | \u001b[36mreddit.summarizer\u001b[0m:\u001b[36msummarize\u001b[0m:\u001b[36m156\u001b[0m - \u001b[1mExtractive fraction: 0% ❌\u001b[0m\n",
      "\u001b[32m2024-08-31 15:30:08.357\u001b[0m | \u001b[1mINFO    \u001b[0m | \u001b[36mreddit.summarizer\u001b[0m:\u001b[36msummarize\u001b[0m:\u001b[36m156\u001b[0m - \u001b[1mPercent of URLs in sources: No URLs in summary\u001b[0m\n",
      "\u001b[32m2024-08-31 15:30:08.357\u001b[0m | \u001b[1mINFO    \u001b[0m | \u001b[36mreddit.summarizer\u001b[0m:\u001b[36msummarize\u001b[0m:\u001b[36m156\u001b[0m - \u001b[1mCitation density: 0.0% (percent of output used by URLs/link syntax) ❌\u001b[0m\n",
      "\u001b[32m2024-08-31 15:30:08.358\u001b[0m | \u001b[1mINFO    \u001b[0m | \u001b[36mreddit.summarizer\u001b[0m:\u001b[36msummarize\u001b[0m:\u001b[36m156\u001b[0m - \u001b[1mDistinct URLs (summary / input): 0 / 348\u001b[0m\n",
      "\u001b[32m2024-08-31 15:30:08.359\u001b[0m | \u001b[1mINFO    \u001b[0m | \u001b[36mreddit.summarizer\u001b[0m:\u001b[36msummarize\u001b[0m:\u001b[36m156\u001b[0m - \u001b[1mSuspicious URLs: set()\u001b[0m\n",
      "\u001b[32m2024-08-31 15:30:08.359\u001b[0m | \u001b[1mINFO    \u001b[0m | \u001b[36mreddit.summarizer\u001b[0m:\u001b[36msummarize\u001b[0m:\u001b[36m156\u001b[0m - \u001b[1mCache mentions: 0 ✅\u001b[0m\n",
      "\u001b[32m2024-08-31 15:30:08.360\u001b[0m | \u001b[33m\u001b[1mWARNING \u001b[0m | \u001b[36mreddit.summarizer\u001b[0m:\u001b[36msummarize\u001b[0m:\u001b[36m159\u001b[0m - \u001b[33m\u001b[1mSummarization looks fishy, returning empty result. URLs: ['/r/Perfusion/comments/16muqot/interest_in_perfusion_but_been_told_its_not_a/', '/r/Twitch/comments/1anuwaw/am_i_too_sensitive_for_content_creationgen/', '/r/daddit/comments/1eqjg5u/i_am_pregnant_and_my_husband_doesnt_want_to_be_a/', '/r/nursing/comments/xbjb64/age_discrimination/']\u001b[0m\n",
      "\u001b[32m2024-08-31 15:30:08.598\u001b[0m | \u001b[1mINFO    \u001b[0m | \u001b[36mglassdoor.summarizer\u001b[0m:\u001b[36msummarize\u001b[0m:\u001b[36m59\u001b[0m - \u001b[1m6,565 -> 3,704 chars (56%) \u001b[0m\n",
      "\u001b[32m2024-08-31 15:30:08.600\u001b[0m | \u001b[1mINFO    \u001b[0m | \u001b[36mglassdoor.summarizer\u001b[0m:\u001b[36msummarize\u001b[0m:\u001b[36m59\u001b[0m - \u001b[1mExtractive fraction: 52% \u001b[0m\n",
      "\u001b[32m2024-08-31 15:30:08.601\u001b[0m | \u001b[1mINFO    \u001b[0m | \u001b[36mglassdoor.summarizer\u001b[0m:\u001b[36msummarize\u001b[0m:\u001b[36m59\u001b[0m - \u001b[1mPercent of URLs in sources: 100% ✅\u001b[0m\n",
      "\u001b[32m2024-08-31 15:30:08.602\u001b[0m | \u001b[1mINFO    \u001b[0m | \u001b[36mglassdoor.summarizer\u001b[0m:\u001b[36msummarize\u001b[0m:\u001b[36m59\u001b[0m - \u001b[1mCitation density: 38.0% (percent of output used by URLs/link syntax) \u001b[0m\n",
      "\u001b[32m2024-08-31 15:30:08.603\u001b[0m | \u001b[1mINFO    \u001b[0m | \u001b[36mglassdoor.summarizer\u001b[0m:\u001b[36msummarize\u001b[0m:\u001b[36m59\u001b[0m - \u001b[1mDistinct URLs (summary / input): 10 / 11\u001b[0m\n",
      "\u001b[32m2024-08-31 15:30:08.604\u001b[0m | \u001b[1mINFO    \u001b[0m | \u001b[36mglassdoor.summarizer\u001b[0m:\u001b[36msummarize\u001b[0m:\u001b[36m59\u001b[0m - \u001b[1mSuspicious URLs: set()\u001b[0m\n",
      "\u001b[32m2024-08-31 15:30:08.604\u001b[0m | \u001b[1mINFO    \u001b[0m | \u001b[36mglassdoor.summarizer\u001b[0m:\u001b[36msummarize\u001b[0m:\u001b[36m59\u001b[0m - \u001b[1mCache mentions: 0 ✅\u001b[0m\n",
      "\u001b[32m2024-08-31 15:30:16.936\u001b[0m | \u001b[33m\u001b[1mWARNING \u001b[0m | \u001b[36mnews.scrape\u001b[0m:\u001b[36mrequest_article\u001b[0m:\u001b[36m33\u001b[0m - \u001b[33m\u001b[1mTimeout on https://health.usnews.com/doctors/ruchi-kaushik-70520\u001b[0m\n",
      "\u001b[32m2024-08-31 15:30:29.982\u001b[0m | \u001b[1mINFO    \u001b[0m | \u001b[36mcore\u001b[0m:\u001b[36mshorten_markdown\u001b[0m:\u001b[36m230\u001b[0m - \u001b[1m231,818 -> 230,035 chars (99% of original)\u001b[0m\n",
      "\u001b[32m2024-08-31 15:30:56.380\u001b[0m | \u001b[1mINFO    \u001b[0m | \u001b[36mcore\u001b[0m:\u001b[36munshorten_markdown\u001b[0m:\u001b[36m249\u001b[0m - \u001b[1m4,936 -> 5,935 chars (120% of original)\u001b[0m\n",
      "\u001b[32m2024-08-31 15:30:56.382\u001b[0m | \u001b[1mINFO    \u001b[0m | \u001b[36mnews.summarize\u001b[0m:\u001b[36msummarize\u001b[0m:\u001b[36m94\u001b[0m - \u001b[1m231,818 -> 5,935 chars (3%) \u001b[0m\n",
      "\u001b[32m2024-08-31 15:30:56.399\u001b[0m | \u001b[1mINFO    \u001b[0m | \u001b[36mnews.summarize\u001b[0m:\u001b[36msummarize\u001b[0m:\u001b[36m94\u001b[0m - \u001b[1mExtractive fraction: 20% \u001b[0m\n",
      "\u001b[32m2024-08-31 15:30:56.400\u001b[0m | \u001b[1mINFO    \u001b[0m | \u001b[36mnews.summarize\u001b[0m:\u001b[36msummarize\u001b[0m:\u001b[36m94\u001b[0m - \u001b[1mPercent of URLs in sources: 100% ✅\u001b[0m\n",
      "\u001b[32m2024-08-31 15:30:56.401\u001b[0m | \u001b[1mINFO    \u001b[0m | \u001b[36mnews.summarize\u001b[0m:\u001b[36msummarize\u001b[0m:\u001b[36m94\u001b[0m - \u001b[1mCitation density: 24.6% (percent of output used by URLs/link syntax) \u001b[0m\n",
      "\u001b[32m2024-08-31 15:30:56.401\u001b[0m | \u001b[1mINFO    \u001b[0m | \u001b[36mnews.summarize\u001b[0m:\u001b[36msummarize\u001b[0m:\u001b[36m94\u001b[0m - \u001b[1mDistinct URLs (summary / input): 5 / 31\u001b[0m\n",
      "\u001b[32m2024-08-31 15:30:56.404\u001b[0m | \u001b[1mINFO    \u001b[0m | \u001b[36mnews.summarize\u001b[0m:\u001b[36msummarize\u001b[0m:\u001b[36m94\u001b[0m - \u001b[1mSuspicious URLs: set()\u001b[0m\n",
      "\u001b[32m2024-08-31 15:30:56.405\u001b[0m | \u001b[1mINFO    \u001b[0m | \u001b[36mnews.summarize\u001b[0m:\u001b[36msummarize\u001b[0m:\u001b[36m94\u001b[0m - \u001b[1mCache mentions: 0 ✅\u001b[0m\n",
      "\u001b[32m2024-08-31 15:30:56.502\u001b[0m | \u001b[1mINFO    \u001b[0m | \u001b[36mcore\u001b[0m:\u001b[36mshorten_markdown\u001b[0m:\u001b[36m230\u001b[0m - \u001b[1m4,596 -> 4,325 chars (94% of original)\u001b[0m\n",
      "\u001b[32m2024-08-31 15:30:56.503\u001b[0m | \u001b[1mINFO    \u001b[0m | \u001b[36mcore\u001b[0m:\u001b[36mshorten_markdown\u001b[0m:\u001b[36m230\u001b[0m - \u001b[1m5,935 -> 4,947 chars (83% of original)\u001b[0m\n",
      "\u001b[32m2024-08-31 15:30:56.504\u001b[0m | \u001b[1mINFO    \u001b[0m | \u001b[36mcore\u001b[0m:\u001b[36mshorten_markdown\u001b[0m:\u001b[36m230\u001b[0m - \u001b[1m4,940 -> 3,712 chars (75% of original)\u001b[0m\n",
      "\u001b[32m2024-08-31 15:31:20.941\u001b[0m | \u001b[1mINFO    \u001b[0m | \u001b[36mcore\u001b[0m:\u001b[36munshorten_markdown\u001b[0m:\u001b[36m249\u001b[0m - \u001b[1m9,218 -> 11,793 chars (128% of original)\u001b[0m\n",
      "\u001b[32m2024-08-31 15:31:20.942\u001b[0m | \u001b[1mINFO    \u001b[0m | \u001b[36munified\u001b[0m:\u001b[36mrun\u001b[0m:\u001b[36m271\u001b[0m - \u001b[1m15,408 -> 11,793 chars (77%) \u001b[0m\n",
      "\u001b[32m2024-08-31 15:31:20.947\u001b[0m | \u001b[1mINFO    \u001b[0m | \u001b[36munified\u001b[0m:\u001b[36mrun\u001b[0m:\u001b[36m271\u001b[0m - \u001b[1mExtractive fraction: 59% \u001b[0m\n",
      "\u001b[32m2024-08-31 15:31:20.948\u001b[0m | \u001b[1mINFO    \u001b[0m | \u001b[36munified\u001b[0m:\u001b[36mrun\u001b[0m:\u001b[36m271\u001b[0m - \u001b[1mPercent of URLs in sources: 100% ✅\u001b[0m\n",
      "\u001b[32m2024-08-31 15:31:20.949\u001b[0m | \u001b[1mINFO    \u001b[0m | \u001b[36munified\u001b[0m:\u001b[36mrun\u001b[0m:\u001b[36m271\u001b[0m - \u001b[1mCitation density: 35.4% (percent of output used by URLs/link syntax) \u001b[0m\n",
      "\u001b[32m2024-08-31 15:31:20.950\u001b[0m | \u001b[1mINFO    \u001b[0m | \u001b[36munified\u001b[0m:\u001b[36mrun\u001b[0m:\u001b[36m271\u001b[0m - \u001b[1mDistinct URLs (summary / input): 37 / 37\u001b[0m\n",
      "\u001b[32m2024-08-31 15:31:20.951\u001b[0m | \u001b[1mINFO    \u001b[0m | \u001b[36munified\u001b[0m:\u001b[36mrun\u001b[0m:\u001b[36m271\u001b[0m - \u001b[1mSuspicious URLs: set()\u001b[0m\n",
      "\u001b[32m2024-08-31 15:31:20.951\u001b[0m | \u001b[1mINFO    \u001b[0m | \u001b[36munified\u001b[0m:\u001b[36mrun\u001b[0m:\u001b[36m271\u001b[0m - \u001b[1mCache mentions: 0 ✅\u001b[0m\n",
      "\u001b[32m2024-08-31 15:31:20.956\u001b[0m | \u001b[1mINFO    \u001b[0m | \u001b[36munified\u001b[0m:\u001b[36mrun\u001b[0m:\u001b[36m304\u001b[0m - \u001b[1mWritten to /home/keith/company-detective/output/Imagine_Pediatrics/Imagine_Pediatrics_20240831_153120.md\u001b[0m\n"
     ]
    }
   ],
   "source": [
    "# Set the log level\n",
    "import sys\n",
    "from loguru import logger\n",
    "logger.remove()\n",
    "logger.add(sys.stderr, level=\"INFO\")\n",
    "\n",
    "import unified\n",
    "\n",
    "markdown_file = await unified.run(\n",
    "    Seed.init(\"Imagine Pediatrics\", domain=\"imaginepediatrics.org\"), \n",
    "    num_reddit_threads=10, \n",
    "    max_glassdoor_review_pages=5, \n",
    "    max_glassdoor_job_pages=0,\n",
    "    max_news_articles=40,\n",
    "    # glassdoor_url=\"https://www.glassdoor.com/Reviews/Pomelo-Care-Reviews-E9429297.htm\"\n",
    "    )"
   ]
  },
  {
   "cell_type": "code",
   "execution_count": 4,
   "metadata": {},
   "outputs": [
    {
     "name": "stderr",
     "output_type": "stream",
     "text": [
      "\u001b[32m2024-08-31 15:31:20.997\u001b[0m | \u001b[1mINFO    \u001b[0m | \u001b[36mpublish\u001b[0m:\u001b[36mmarkdown_file_to_html\u001b[0m:\u001b[36m26\u001b[0m - \u001b[1mHTML written to /home/keith/company-detective/output/Imagine_Pediatrics/Imagine_Pediatrics_20240831_153120.html\u001b[0m\n"
     ]
    },
    {
     "data": {
      "text/plain": [
       "'http://company-detective.s3-website-us-west-2.amazonaws.com/reports/Imagine_Pediatrics_20240831_153120.html'"
      ]
     },
     "execution_count": 4,
     "metadata": {},
     "output_type": "execute_result"
    }
   ],
   "source": [
    "from publish import markdown_file_to_html, publish_to_s3\n",
    "\n",
    "html_file = markdown_file_to_html(markdown_file)\n",
    "publish_to_s3(html_file)"
   ]
  },
  {
   "cell_type": "code",
   "execution_count": 5,
   "metadata": {},
   "outputs": [],
   "source": [
    "# TO CATCH: ScrapflyAspError in ht eCrunchbase pipeline"
   ]
  }
 ],
 "metadata": {
  "kernelspec": {
   "display_name": ".venv",
   "language": "python",
   "name": "python3"
  },
  "language_info": {
   "codemirror_mode": {
    "name": "ipython",
    "version": 3
   },
   "file_extension": ".py",
   "mimetype": "text/x-python",
   "name": "python",
   "nbconvert_exporter": "python",
   "pygments_lexer": "ipython3",
   "version": "3.10.12"
  }
 },
 "nbformat": 4,
 "nbformat_minor": 2
}
