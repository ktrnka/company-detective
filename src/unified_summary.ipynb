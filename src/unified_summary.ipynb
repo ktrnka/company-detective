{
 "cells": [
  {
   "cell_type": "code",
   "execution_count": 1,
   "metadata": {},
   "outputs": [],
   "source": [
    "from core import Seed, init\n",
    "\n",
    "init()"
   ]
  },
  {
   "cell_type": "code",
   "execution_count": 2,
   "metadata": {},
   "outputs": [
    {
     "name": "stderr",
     "output_type": "stream",
     "text": [
      "\u001b[32m2024-08-29 10:12:32.915\u001b[0m | \u001b[1mINFO    \u001b[0m | \u001b[36mcompany_webpage\u001b[0m:\u001b[36mrun\u001b[0m:\u001b[36m65\u001b[0m - \u001b[1m70,192 -> 4,021 chars (6%) \u001b[0m\n",
      "\u001b[32m2024-08-29 10:12:32.987\u001b[0m | \u001b[1mINFO    \u001b[0m | \u001b[36mcompany_webpage\u001b[0m:\u001b[36mrun\u001b[0m:\u001b[36m65\u001b[0m - \u001b[1mExtractive fraction: 9% \u001b[0m\n",
      "\u001b[32m2024-08-29 10:12:32.988\u001b[0m | \u001b[1mINFO    \u001b[0m | \u001b[36mcompany_webpage\u001b[0m:\u001b[36mrun\u001b[0m:\u001b[36m65\u001b[0m - \u001b[1mPercent of URLs in sources: 89% ❌\u001b[0m\n",
      "\u001b[32m2024-08-29 10:12:32.989\u001b[0m | \u001b[1mINFO    \u001b[0m | \u001b[36mcompany_webpage\u001b[0m:\u001b[36mrun\u001b[0m:\u001b[36m65\u001b[0m - \u001b[1mCitation density: 12.8% (percent of output used by URLs/link syntax) \u001b[0m\n",
      "\u001b[32m2024-08-29 10:12:32.990\u001b[0m | \u001b[1mINFO    \u001b[0m | \u001b[36mcompany_webpage\u001b[0m:\u001b[36mrun\u001b[0m:\u001b[36m65\u001b[0m - \u001b[1mDistinct URLs (summary / input): 9 / 30\u001b[0m\n",
      "\u001b[32m2024-08-29 10:12:32.990\u001b[0m | \u001b[1mINFO    \u001b[0m | \u001b[36mcompany_webpage\u001b[0m:\u001b[36mrun\u001b[0m:\u001b[36m65\u001b[0m - \u001b[1mSuspicious URLs: {'https://www.singularity6.com/news/palia-community-demonstrates-player-excitement-and-appeal-of-new-ip'}\u001b[0m\n",
      "\u001b[32m2024-08-29 10:12:32.991\u001b[0m | \u001b[1mINFO    \u001b[0m | \u001b[36mcompany_webpage\u001b[0m:\u001b[36mrun\u001b[0m:\u001b[36m65\u001b[0m - \u001b[1mCache mentions: 0 ✅\u001b[0m\n"
     ]
    },
    {
     "ename": "AssertionError",
     "evalue": "No results?!",
     "output_type": "error",
     "traceback": [
      "\u001b[0;31m---------------------------------------------------------------------------\u001b[0m",
      "\u001b[0;31mAssertionError\u001b[0m                            Traceback (most recent call last)",
      "Cell \u001b[0;32mIn[2], line 9\u001b[0m\n\u001b[1;32m      5\u001b[0m logger\u001b[38;5;241m.\u001b[39madd(sys\u001b[38;5;241m.\u001b[39mstderr, level\u001b[38;5;241m=\u001b[39m\u001b[38;5;124m\"\u001b[39m\u001b[38;5;124mINFO\u001b[39m\u001b[38;5;124m\"\u001b[39m)\n\u001b[1;32m      7\u001b[0m \u001b[38;5;28;01mimport\u001b[39;00m \u001b[38;5;21;01munified\u001b[39;00m\n\u001b[0;32m----> 9\u001b[0m markdown_file \u001b[38;5;241m=\u001b[39m \u001b[38;5;28;01mawait\u001b[39;00m unified\u001b[38;5;241m.\u001b[39mrun(\n\u001b[1;32m     10\u001b[0m     Seed\u001b[38;5;241m.\u001b[39minit(\u001b[38;5;124m\"\u001b[39m\u001b[38;5;124mSimgularity 6\u001b[39m\u001b[38;5;124m\"\u001b[39m, \u001b[38;5;124m\"\u001b[39m\u001b[38;5;124mPalia\u001b[39m\u001b[38;5;124m\"\u001b[39m, domain\u001b[38;5;241m=\u001b[39m\u001b[38;5;124m\"\u001b[39m\u001b[38;5;124msingularity6.com\u001b[39m\u001b[38;5;124m\"\u001b[39m), \n\u001b[1;32m     11\u001b[0m     num_reddit_threads\u001b[38;5;241m=\u001b[39m\u001b[38;5;241m10\u001b[39m, \n\u001b[1;32m     12\u001b[0m     max_glassdoor_review_pages\u001b[38;5;241m=\u001b[39m\u001b[38;5;241m5\u001b[39m, \n\u001b[1;32m     13\u001b[0m     max_glassdoor_job_pages\u001b[38;5;241m=\u001b[39m\u001b[38;5;241m0\u001b[39m,\n\u001b[1;32m     14\u001b[0m     max_news_articles\u001b[38;5;241m=\u001b[39m\u001b[38;5;241m40\u001b[39m,\n\u001b[1;32m     15\u001b[0m     \u001b[38;5;66;03m# glassdoor_url=\"https://www.glassdoor.com/Reviews/Pomelo-Care-Reviews-E9429297.htm\"\u001b[39;00m\n\u001b[1;32m     16\u001b[0m     )\n",
      "File \u001b[0;32m~/company-detective/src/unified.py:208\u001b[0m, in \u001b[0;36mrun\u001b[0;34m(target, num_reddit_threads, max_glassdoor_review_pages, max_glassdoor_job_pages, max_news_articles, glassdoor_url)\u001b[0m\n\u001b[1;32m    205\u001b[0m webpage_summary \u001b[38;5;241m=\u001b[39m company_webpage\u001b[38;5;241m.\u001b[39mrun(target\u001b[38;5;241m.\u001b[39mdomain)\n\u001b[1;32m    207\u001b[0m general_search_results \u001b[38;5;241m=\u001b[39m general_search\u001b[38;5;241m.\u001b[39msearch_web(target)\n\u001b[0;32m--> 208\u001b[0m general_search_summary \u001b[38;5;241m=\u001b[39m \u001b[43mgeneral_search\u001b[49m\u001b[38;5;241;43m.\u001b[39;49m\u001b[43msummarize\u001b[49m\u001b[43m(\u001b[49m\n\u001b[1;32m    209\u001b[0m \u001b[43m    \u001b[49m\u001b[43mtarget\u001b[49m\u001b[43m,\u001b[49m\u001b[43m \u001b[49m\u001b[43mgeneral_search_results\u001b[49m\n\u001b[1;32m    210\u001b[0m \u001b[43m\u001b[49m\u001b[43m)\u001b[49m\u001b[38;5;241m.\u001b[39mcontent\n\u001b[1;32m    212\u001b[0m apple_store_matches \u001b[38;5;241m=\u001b[39m [result \u001b[38;5;28;01mfor\u001b[39;00m result \u001b[38;5;129;01min\u001b[39;00m general_search_results \u001b[38;5;28;01mif\u001b[39;00m app_stores\u001b[38;5;241m.\u001b[39mapple\u001b[38;5;241m.\u001b[39mURL_PATTERN\u001b[38;5;241m.\u001b[39mmatch(result\u001b[38;5;241m.\u001b[39mlink)]\n\u001b[1;32m    213\u001b[0m logger\u001b[38;5;241m.\u001b[39minfo(\u001b[38;5;124mf\u001b[39m\u001b[38;5;124m\"\u001b[39m\u001b[38;5;124mApple Store URLs: \u001b[39m\u001b[38;5;132;01m{\u001b[39;00mapple_store_matches\u001b[38;5;132;01m}\u001b[39;00m\u001b[38;5;124m\"\u001b[39m)\n",
      "File \u001b[0;32m~/company-detective/src/general_search.py:109\u001b[0m, in \u001b[0;36msummarize\u001b[0;34m(target, search_results)\u001b[0m\n\u001b[1;32m    106\u001b[0m llm \u001b[38;5;241m=\u001b[39m ChatOpenAI(model\u001b[38;5;241m=\u001b[39m\u001b[38;5;124m\"\u001b[39m\u001b[38;5;124mgpt-4o-mini\u001b[39m\u001b[38;5;124m\"\u001b[39m, temperature\u001b[38;5;241m=\u001b[39m\u001b[38;5;241m0\u001b[39m)\n\u001b[1;32m    107\u001b[0m unified_markdown \u001b[38;5;241m=\u001b[39m results_to_markdown(search_results)\n\u001b[0;32m--> 109\u001b[0m \u001b[38;5;28;01massert\u001b[39;00m \u001b[38;5;28mlen\u001b[39m(unified_markdown) \u001b[38;5;241m>\u001b[39m \u001b[38;5;241m0\u001b[39m, \u001b[38;5;124m\"\u001b[39m\u001b[38;5;124mNo results?!\u001b[39m\u001b[38;5;124m\"\u001b[39m\n\u001b[1;32m    111\u001b[0m url_shortener \u001b[38;5;241m=\u001b[39m URLShortener()\n\u001b[1;32m    113\u001b[0m runnable \u001b[38;5;241m=\u001b[39m _prompt \u001b[38;5;241m|\u001b[39m llm\n",
      "\u001b[0;31mAssertionError\u001b[0m: No results?!"
     ]
    }
   ],
   "source": [
    "# Set the log level\n",
    "import sys\n",
    "from loguru import logger\n",
    "logger.remove()\n",
    "logger.add(sys.stderr, level=\"INFO\")\n",
    "\n",
    "import unified\n",
    "\n",
    "markdown_file = await unified.run(\n",
    "    Seed.init(\"Singularity 6\", \"Palia\", domain=\"singularity6.com\"), \n",
    "    num_reddit_threads=10, \n",
    "    max_glassdoor_review_pages=5, \n",
    "    max_glassdoor_job_pages=0,\n",
    "    max_news_articles=40,\n",
    "    # glassdoor_url=\"https://www.glassdoor.com/Reviews/Pomelo-Care-Reviews-E9429297.htm\"\n",
    "    )"
   ]
  },
  {
   "cell_type": "code",
   "execution_count": null,
   "metadata": {},
   "outputs": [
    {
     "name": "stderr",
     "output_type": "stream",
     "text": [
      "\u001b[32m2024-08-29 10:04:31.454\u001b[0m | \u001b[1mINFO    \u001b[0m | \u001b[36mpublish\u001b[0m:\u001b[36mmarkdown_file_to_html\u001b[0m:\u001b[36m26\u001b[0m - \u001b[1mHTML written to /home/keith/company-detective/output/Pomelo_Care/Pomelo_Care_20240829_100431.html\u001b[0m\n"
     ]
    },
    {
     "data": {
      "text/plain": [
       "'http://company-detective.s3-website-us-west-2.amazonaws.com/reports/Pomelo_Care_20240829_100431.html'"
      ]
     },
     "execution_count": 3,
     "metadata": {},
     "output_type": "execute_result"
    }
   ],
   "source": [
    "from publish import markdown_file_to_html, publish_to_s3\n",
    "\n",
    "html_file = markdown_file_to_html(markdown_file)\n",
    "publish_to_s3(html_file)"
   ]
  },
  {
   "cell_type": "code",
   "execution_count": null,
   "metadata": {},
   "outputs": [],
   "source": []
  }
 ],
 "metadata": {
  "kernelspec": {
   "display_name": ".venv",
   "language": "python",
   "name": "python3"
  },
  "language_info": {
   "codemirror_mode": {
    "name": "ipython",
    "version": 3
   },
   "file_extension": ".py",
   "mimetype": "text/x-python",
   "name": "python",
   "nbconvert_exporter": "python",
   "pygments_lexer": "ipython3",
   "version": "3.10.12"
  }
 },
 "nbformat": 4,
 "nbformat_minor": 2
}
