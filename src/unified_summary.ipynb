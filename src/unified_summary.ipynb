{
 "cells": [
  {
   "cell_type": "code",
   "execution_count": 1,
   "metadata": {},
   "outputs": [],
   "source": [
    "from core import CompanyProduct, init\n",
    "\n",
    "init()"
   ]
  },
  {
   "cell_type": "code",
   "execution_count": 3,
   "metadata": {},
   "outputs": [
    {
     "name": "stderr",
     "output_type": "stream",
     "text": [
      "\u001b[32m2024-08-24 16:47:34.416\u001b[0m | \u001b[1mINFO    \u001b[0m | \u001b[36mcore\u001b[0m:\u001b[36mshorten_markdown\u001b[0m:\u001b[36m222\u001b[0m - \u001b[1m18,523 -> 15,689 chars (85% of original)\u001b[0m\n",
      "\u001b[32m2024-08-24 16:47:41.478\u001b[0m | \u001b[1mINFO    \u001b[0m | \u001b[36mcore\u001b[0m:\u001b[36munshorten_markdown\u001b[0m:\u001b[36m241\u001b[0m - \u001b[1m2,810 -> 4,242 chars (151% of original)\u001b[0m\n",
      "\u001b[32m2024-08-24 16:47:41.478\u001b[0m | \u001b[1mINFO    \u001b[0m | \u001b[36mgeneral_search\u001b[0m:\u001b[36msummarize\u001b[0m:\u001b[36m122\u001b[0m - \u001b[1m18,523 -> 4,242 chars (23%) \u001b[0m\n",
      "\u001b[32m2024-08-24 16:47:41.480\u001b[0m | \u001b[1mINFO    \u001b[0m | \u001b[36mgeneral_search\u001b[0m:\u001b[36msummarize\u001b[0m:\u001b[36m122\u001b[0m - \u001b[1mExtractive fraction: 76% \u001b[0m\n",
      "\u001b[32m2024-08-24 16:47:41.481\u001b[0m | \u001b[1mINFO    \u001b[0m | \u001b[36mgeneral_search\u001b[0m:\u001b[36msummarize\u001b[0m:\u001b[36m122\u001b[0m - \u001b[1mPercent of URLs in sources: 100% ✅\u001b[0m\n",
      "\u001b[32m2024-08-24 16:47:41.481\u001b[0m | \u001b[1mINFO    \u001b[0m | \u001b[36mgeneral_search\u001b[0m:\u001b[36msummarize\u001b[0m:\u001b[36m122\u001b[0m - \u001b[1mCitation density: 51.7% (percent of output used by URLs/link syntax) \u001b[0m\n",
      "\u001b[32m2024-08-24 16:47:41.482\u001b[0m | \u001b[1mINFO    \u001b[0m | \u001b[36mgeneral_search\u001b[0m:\u001b[36msummarize\u001b[0m:\u001b[36m122\u001b[0m - \u001b[1mDistinct URLs (summary / input): 29 / 69\u001b[0m\n",
      "\u001b[32m2024-08-24 16:47:41.482\u001b[0m | \u001b[1mINFO    \u001b[0m | \u001b[36mgeneral_search\u001b[0m:\u001b[36msummarize\u001b[0m:\u001b[36m122\u001b[0m - \u001b[1mSuspicious URLs: set()\u001b[0m\n",
      "\u001b[32m2024-08-24 16:47:41.483\u001b[0m | \u001b[1mINFO    \u001b[0m | \u001b[36mgeneral_search\u001b[0m:\u001b[36msummarize\u001b[0m:\u001b[36m122\u001b[0m - \u001b[1mCache mentions: 0 ✅\u001b[0m\n",
      "\u001b[32m2024-08-24 16:47:41.692\u001b[0m | \u001b[1mINFO    \u001b[0m | \u001b[36mscrapfly_scrapers.crunchbase\u001b[0m:\u001b[36mscrape_company\u001b[0m:\u001b[36m62\u001b[0m - \u001b[1mscraping company: https://www.crunchbase.com/organization/luma-health/people\u001b[0m\n",
      "\u001b[32m2024-08-24 16:47:42.947\u001b[0m | \u001b[1mINFO    \u001b[0m | \u001b[36mcore\u001b[0m:\u001b[36mshorten_markdown\u001b[0m:\u001b[36m222\u001b[0m - \u001b[1m3,903 -> 3,139 chars (80% of original)\u001b[0m\n",
      "\u001b[32m2024-08-24 16:47:42.948\u001b[0m | \u001b[1mINFO    \u001b[0m | \u001b[36mcore\u001b[0m:\u001b[36mshorten_markdown\u001b[0m:\u001b[36m222\u001b[0m - \u001b[1m8,605 -> 6,718 chars (78% of original)\u001b[0m\n",
      "\u001b[32m2024-08-24 16:47:42.949\u001b[0m | \u001b[1mINFO    \u001b[0m | \u001b[36mcore\u001b[0m:\u001b[36mshorten_markdown\u001b[0m:\u001b[36m222\u001b[0m - \u001b[1m3,614 -> 2,701 chars (75% of original)\u001b[0m\n",
      "\u001b[32m2024-08-24 16:47:42.949\u001b[0m | \u001b[1mINFO    \u001b[0m | \u001b[36mcore\u001b[0m:\u001b[36mshorten_markdown\u001b[0m:\u001b[36m222\u001b[0m - \u001b[1m7,124 -> 5,688 chars (80% of original)\u001b[0m\n",
      "\u001b[32m2024-08-24 16:47:42.950\u001b[0m | \u001b[1mINFO    \u001b[0m | \u001b[36mcore\u001b[0m:\u001b[36mshorten_markdown\u001b[0m:\u001b[36m222\u001b[0m - \u001b[1m7,805 -> 6,527 chars (84% of original)\u001b[0m\n",
      "\u001b[32m2024-08-24 16:47:42.951\u001b[0m | \u001b[1mINFO    \u001b[0m | \u001b[36mcore\u001b[0m:\u001b[36mshorten_markdown\u001b[0m:\u001b[36m222\u001b[0m - \u001b[1m25,642 -> 21,153 chars (82% of original)\u001b[0m\n",
      "\u001b[32m2024-08-24 16:47:48.193\u001b[0m | \u001b[1mINFO    \u001b[0m | \u001b[36mcore\u001b[0m:\u001b[36munshorten_markdown\u001b[0m:\u001b[36m241\u001b[0m - \u001b[1m837 -> 1,241 chars (148% of original)\u001b[0m\n",
      "\u001b[32m2024-08-24 16:47:48.195\u001b[0m | \u001b[1mINFO    \u001b[0m | \u001b[36mreddit.summarizer\u001b[0m:\u001b[36msummarize\u001b[0m:\u001b[36m137\u001b[0m - \u001b[1mReddit: Extract stage 56,693 chars -> 756 chars (1%)\u001b[0m\n",
      "\u001b[32m2024-08-24 16:47:48.196\u001b[0m | \u001b[1mINFO    \u001b[0m | \u001b[36mreddit.summarizer\u001b[0m:\u001b[36msummarize\u001b[0m:\u001b[36m143\u001b[0m - \u001b[1mReddit: Combine stage 756 chars -> 1,241 chars (164%)\u001b[0m\n",
      "\u001b[32m2024-08-24 16:47:48.198\u001b[0m | \u001b[1mINFO    \u001b[0m | \u001b[36mreddit.summarizer\u001b[0m:\u001b[36msummarize\u001b[0m:\u001b[36m152\u001b[0m - \u001b[1m56,703 -> 1,241 chars (2%) \u001b[0m\n",
      "\u001b[32m2024-08-24 16:47:48.204\u001b[0m | \u001b[1mINFO    \u001b[0m | \u001b[36mreddit.summarizer\u001b[0m:\u001b[36msummarize\u001b[0m:\u001b[36m152\u001b[0m - \u001b[1mExtractive fraction: 66% \u001b[0m\n",
      "\u001b[32m2024-08-24 16:47:48.205\u001b[0m | \u001b[1mINFO    \u001b[0m | \u001b[36mreddit.summarizer\u001b[0m:\u001b[36msummarize\u001b[0m:\u001b[36m152\u001b[0m - \u001b[1mPercent of URLs in sources: 100% ✅\u001b[0m\n",
      "\u001b[32m2024-08-24 16:47:48.206\u001b[0m | \u001b[1mINFO    \u001b[0m | \u001b[36mreddit.summarizer\u001b[0m:\u001b[36msummarize\u001b[0m:\u001b[36m152\u001b[0m - \u001b[1mCitation density: 40.9% (percent of output used by URLs/link syntax) \u001b[0m\n",
      "\u001b[32m2024-08-24 16:47:48.206\u001b[0m | \u001b[1mINFO    \u001b[0m | \u001b[36mreddit.summarizer\u001b[0m:\u001b[36msummarize\u001b[0m:\u001b[36m152\u001b[0m - \u001b[1mDistinct URLs (summary / input): 5 / 144\u001b[0m\n",
      "\u001b[32m2024-08-24 16:47:48.207\u001b[0m | \u001b[1mINFO    \u001b[0m | \u001b[36mreddit.summarizer\u001b[0m:\u001b[36msummarize\u001b[0m:\u001b[36m152\u001b[0m - \u001b[1mSuspicious URLs: set()\u001b[0m\n",
      "\u001b[32m2024-08-24 16:47:48.207\u001b[0m | \u001b[1mINFO    \u001b[0m | \u001b[36mreddit.summarizer\u001b[0m:\u001b[36msummarize\u001b[0m:\u001b[36m152\u001b[0m - \u001b[1mCache mentions: 0 ✅\u001b[0m\n",
      "\u001b[32m2024-08-24 16:47:48.581\u001b[0m | \u001b[1mINFO    \u001b[0m | \u001b[36mscrapfly_scrapers.glassdoor\u001b[0m:\u001b[36mscrape_reviews\u001b[0m:\u001b[36m105\u001b[0m - \u001b[1mscraping reviews from https://www.glassdoor.com/Reviews/Luma-Health-Reviews-E1630375.htm\u001b[0m\n",
      "\u001b[32m2024-08-24 16:47:48.610\u001b[0m | \u001b[1mINFO    \u001b[0m | \u001b[36mscrapfly_scrapers.glassdoor\u001b[0m:\u001b[36mscrape_reviews\u001b[0m:\u001b[36m113\u001b[0m - \u001b[1mscraped first page of reviews of https://www.glassdoor.com/Reviews/Luma-Health-Reviews-E1630375.htm, scraping remaining 7 pages\u001b[0m\n",
      "\u001b[32m2024-08-24 16:47:52.710\u001b[0m | \u001b[1mINFO    \u001b[0m | \u001b[36mscrapfly_scrapers.glassdoor\u001b[0m:\u001b[36mscrape_reviews\u001b[0m:\u001b[36m123\u001b[0m - \u001b[1mscraped 72 reviews from https://www.glassdoor.com/Reviews/Luma-Health-Reviews-E1630375.htm in 8 pages\u001b[0m\n",
      "\u001b[32m2024-08-24 16:47:52.826\u001b[0m | \u001b[1mINFO    \u001b[0m | \u001b[36mglassdoor.summarizer\u001b[0m:\u001b[36msummarize\u001b[0m:\u001b[36m59\u001b[0m - \u001b[1m56,896 -> 4,024 chars (7%) \u001b[0m\n",
      "\u001b[32m2024-08-24 16:47:52.830\u001b[0m | \u001b[1mINFO    \u001b[0m | \u001b[36mglassdoor.summarizer\u001b[0m:\u001b[36msummarize\u001b[0m:\u001b[36m59\u001b[0m - \u001b[1mExtractive fraction: 58% \u001b[0m\n",
      "\u001b[32m2024-08-24 16:47:52.831\u001b[0m | \u001b[1mINFO    \u001b[0m | \u001b[36mglassdoor.summarizer\u001b[0m:\u001b[36msummarize\u001b[0m:\u001b[36m59\u001b[0m - \u001b[1mPercent of URLs in sources: 100% ✅\u001b[0m\n",
      "\u001b[32m2024-08-24 16:47:52.832\u001b[0m | \u001b[1mINFO    \u001b[0m | \u001b[36mglassdoor.summarizer\u001b[0m:\u001b[36msummarize\u001b[0m:\u001b[36m59\u001b[0m - \u001b[1mCitation density: 32.2% (percent of output used by URLs/link syntax) \u001b[0m\n",
      "\u001b[32m2024-08-24 16:47:52.832\u001b[0m | \u001b[1mINFO    \u001b[0m | \u001b[36mglassdoor.summarizer\u001b[0m:\u001b[36msummarize\u001b[0m:\u001b[36m59\u001b[0m - \u001b[1mDistinct URLs (summary / input): 15 / 72\u001b[0m\n",
      "\u001b[32m2024-08-24 16:47:52.833\u001b[0m | \u001b[1mINFO    \u001b[0m | \u001b[36mglassdoor.summarizer\u001b[0m:\u001b[36msummarize\u001b[0m:\u001b[36m59\u001b[0m - \u001b[1mSuspicious URLs: set()\u001b[0m\n",
      "\u001b[32m2024-08-24 16:47:52.834\u001b[0m | \u001b[1mINFO    \u001b[0m | \u001b[36mglassdoor.summarizer\u001b[0m:\u001b[36msummarize\u001b[0m:\u001b[36m59\u001b[0m - \u001b[1mCache mentions: 0 ✅\u001b[0m\n",
      "\u001b[32m2024-08-24 16:48:07.910\u001b[0m | \u001b[1mINFO    \u001b[0m | \u001b[36mcore\u001b[0m:\u001b[36mshorten_markdown\u001b[0m:\u001b[36m222\u001b[0m - \u001b[1m138,304 -> 136,547 chars (99% of original)\u001b[0m\n",
      "\u001b[32m2024-08-24 16:48:24.191\u001b[0m | \u001b[1mINFO    \u001b[0m | \u001b[36mcore\u001b[0m:\u001b[36munshorten_markdown\u001b[0m:\u001b[36m241\u001b[0m - \u001b[1m5,178 -> 6,203 chars (120% of original)\u001b[0m\n",
      "\u001b[32m2024-08-24 16:48:24.193\u001b[0m | \u001b[1mINFO    \u001b[0m | \u001b[36mnews.summarize\u001b[0m:\u001b[36msummarize\u001b[0m:\u001b[36m94\u001b[0m - \u001b[1m138,304 -> 6,203 chars (4%) \u001b[0m\n",
      "\u001b[32m2024-08-24 16:48:24.202\u001b[0m | \u001b[1mINFO    \u001b[0m | \u001b[36mnews.summarize\u001b[0m:\u001b[36msummarize\u001b[0m:\u001b[36m94\u001b[0m - \u001b[1mExtractive fraction: 31% \u001b[0m\n",
      "\u001b[32m2024-08-24 16:48:24.203\u001b[0m | \u001b[1mINFO    \u001b[0m | \u001b[36mnews.summarize\u001b[0m:\u001b[36msummarize\u001b[0m:\u001b[36m94\u001b[0m - \u001b[1mPercent of URLs in sources: 78% ❌\u001b[0m\n",
      "\u001b[32m2024-08-24 16:48:24.204\u001b[0m | \u001b[1mINFO    \u001b[0m | \u001b[36mnews.summarize\u001b[0m:\u001b[36msummarize\u001b[0m:\u001b[36m94\u001b[0m - \u001b[1mCitation density: 21.7% (percent of output used by URLs/link syntax) \u001b[0m\n",
      "\u001b[32m2024-08-24 16:48:24.204\u001b[0m | \u001b[1mINFO    \u001b[0m | \u001b[36mnews.summarize\u001b[0m:\u001b[36msummarize\u001b[0m:\u001b[36m94\u001b[0m - \u001b[1mDistinct URLs (summary / input): 9 / 32\u001b[0m\n",
      "\u001b[32m2024-08-24 16:48:24.205\u001b[0m | \u001b[1mINFO    \u001b[0m | \u001b[36mnews.summarize\u001b[0m:\u001b[36msummarize\u001b[0m:\u001b[36m94\u001b[0m - \u001b[1mSuspicious URLs: {'cache://prnewswire/10', 'https://lumahealth.io'}\u001b[0m\n",
      "\u001b[32m2024-08-24 16:48:24.205\u001b[0m | \u001b[1mINFO    \u001b[0m | \u001b[36mnews.summarize\u001b[0m:\u001b[36msummarize\u001b[0m:\u001b[36m94\u001b[0m - \u001b[1mCache mentions: 1 ❌\u001b[0m\n",
      "\u001b[32m2024-08-24 16:48:24.295\u001b[0m | \u001b[1mINFO    \u001b[0m | \u001b[36mcore\u001b[0m:\u001b[36mshorten_markdown\u001b[0m:\u001b[36m222\u001b[0m - \u001b[1m1,241 -> 833 chars (67% of original)\u001b[0m\n",
      "\u001b[32m2024-08-24 16:48:24.296\u001b[0m | \u001b[1mINFO    \u001b[0m | \u001b[36mcore\u001b[0m:\u001b[36mshorten_markdown\u001b[0m:\u001b[36m222\u001b[0m - \u001b[1m4,024 -> 3,107 chars (77% of original)\u001b[0m\n",
      "\u001b[32m2024-08-24 16:48:24.296\u001b[0m | \u001b[1mINFO    \u001b[0m | \u001b[36mcore\u001b[0m:\u001b[36mshorten_markdown\u001b[0m:\u001b[36m222\u001b[0m - \u001b[1m6,203 -> 5,186 chars (84% of original)\u001b[0m\n",
      "\u001b[32m2024-08-24 16:48:24.297\u001b[0m | \u001b[1mINFO    \u001b[0m | \u001b[36mcore\u001b[0m:\u001b[36mshorten_markdown\u001b[0m:\u001b[36m222\u001b[0m - \u001b[1m3,414 -> 2,110 chars (62% of original)\u001b[0m\n",
      "\u001b[32m2024-08-24 16:48:24.297\u001b[0m | \u001b[1mINFO    \u001b[0m | \u001b[36mcore\u001b[0m:\u001b[36mshorten_markdown\u001b[0m:\u001b[36m222\u001b[0m - \u001b[1m4,242 -> 2,815 chars (66% of original)\u001b[0m\n",
      "\u001b[32m2024-08-24 16:48:49.512\u001b[0m | \u001b[1mINFO    \u001b[0m | \u001b[36mcore\u001b[0m:\u001b[36munshorten_markdown\u001b[0m:\u001b[36m241\u001b[0m - \u001b[1m11,054 -> 16,619 chars (150% of original)\u001b[0m\n",
      "\u001b[32m2024-08-24 16:48:49.513\u001b[0m | \u001b[1mINFO    \u001b[0m | \u001b[36munified\u001b[0m:\u001b[36mrun\u001b[0m:\u001b[36m237\u001b[0m - \u001b[1m19,132 -> 16,619 chars (87%) \u001b[0m\n",
      "\u001b[32m2024-08-24 16:48:49.516\u001b[0m | \u001b[1mINFO    \u001b[0m | \u001b[36munified\u001b[0m:\u001b[36mrun\u001b[0m:\u001b[36m237\u001b[0m - \u001b[1mExtractive fraction: 76% \u001b[0m\n",
      "\u001b[32m2024-08-24 16:48:49.517\u001b[0m | \u001b[1mINFO    \u001b[0m | \u001b[36munified\u001b[0m:\u001b[36mrun\u001b[0m:\u001b[36m237\u001b[0m - \u001b[1mPercent of URLs in sources: 100% ✅\u001b[0m\n",
      "\u001b[32m2024-08-24 16:48:49.517\u001b[0m | \u001b[1mINFO    \u001b[0m | \u001b[36munified\u001b[0m:\u001b[36mrun\u001b[0m:\u001b[36m237\u001b[0m - \u001b[1mCitation density: 46.3% (percent of output used by URLs/link syntax) \u001b[0m\n",
      "\u001b[32m2024-08-24 16:48:49.518\u001b[0m | \u001b[1mINFO    \u001b[0m | \u001b[36munified\u001b[0m:\u001b[36mrun\u001b[0m:\u001b[36m237\u001b[0m - \u001b[1mDistinct URLs (summary / input): 57 / 63\u001b[0m\n",
      "\u001b[32m2024-08-24 16:48:49.519\u001b[0m | \u001b[1mINFO    \u001b[0m | \u001b[36munified\u001b[0m:\u001b[36mrun\u001b[0m:\u001b[36m237\u001b[0m - \u001b[1mSuspicious URLs: set()\u001b[0m\n",
      "\u001b[32m2024-08-24 16:48:49.519\u001b[0m | \u001b[1mINFO    \u001b[0m | \u001b[36munified\u001b[0m:\u001b[36mrun\u001b[0m:\u001b[36m237\u001b[0m - \u001b[1mCache mentions: 0 ✅\u001b[0m\n",
      "\u001b[32m2024-08-24 16:48:49.524\u001b[0m | \u001b[1mINFO    \u001b[0m | \u001b[36munified\u001b[0m:\u001b[36mrun\u001b[0m:\u001b[36m284\u001b[0m - \u001b[1mWritten to /home/keith/company-detective/output/Luma_Health/Luma_Health_20240824_164849.md\u001b[0m\n"
     ]
    }
   ],
   "source": [
    "# Set the log level\n",
    "import sys\n",
    "from loguru import logger\n",
    "logger.remove()\n",
    "logger.add(sys.stderr, level=\"INFO\")\n",
    "\n",
    "import unified\n",
    "\n",
    "markdown_file = await unified.run(\n",
    "    CompanyProduct.same(\"Luma Health\"), \n",
    "    num_reddit_threads=10, \n",
    "    max_glassdoor_review_pages=10, \n",
    "    max_glassdoor_job_pages=0,\n",
    "    max_news_articles=40,\n",
    "    # glassdoor_url=\"https://www.glassdoor.com/Reviews/Pomelo-Care-Reviews-E9429297.htm\"\n",
    "    )"
   ]
  },
  {
   "cell_type": "code",
   "execution_count": null,
   "metadata": {},
   "outputs": [
    {
     "name": "stderr",
     "output_type": "stream",
     "text": [
      "\u001b[32m2024-08-23 18:12:15.997\u001b[0m | \u001b[1mINFO    \u001b[0m | \u001b[36mpublish\u001b[0m:\u001b[36mmarkdown_file_to_html\u001b[0m:\u001b[36m26\u001b[0m - \u001b[1mHTML written to /home/keith/company-detective/output/Luma_Health/Luma_Health_20240823_181215.html\u001b[0m\n"
     ]
    },
    {
     "data": {
      "text/plain": [
       "'http://company-detective.s3-website-us-west-2.amazonaws.com/reports/Luma_Health_20240823_181215.html'"
      ]
     },
     "execution_count": 6,
     "metadata": {},
     "output_type": "execute_result"
    }
   ],
   "source": [
    "from publish import markdown_file_to_html, publish_to_s3\n",
    "\n",
    "html_file = markdown_file_to_html(markdown_file)\n",
    "publish_to_s3(html_file)"
   ]
  },
  {
   "cell_type": "code",
   "execution_count": null,
   "metadata": {},
   "outputs": [],
   "source": []
  }
 ],
 "metadata": {
  "kernelspec": {
   "display_name": ".venv",
   "language": "python",
   "name": "python3"
  },
  "language_info": {
   "codemirror_mode": {
    "name": "ipython",
    "version": 3
   },
   "file_extension": ".py",
   "mimetype": "text/x-python",
   "name": "python",
   "nbconvert_exporter": "python",
   "pygments_lexer": "ipython3",
   "version": "3.10.12"
  }
 },
 "nbformat": 4,
 "nbformat_minor": 2
}
