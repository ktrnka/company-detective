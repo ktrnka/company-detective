{
 "cells": [
  {
   "cell_type": "code",
   "execution_count": 1,
   "metadata": {},
   "outputs": [],
   "source": [
    "from core import Seed, init\n",
    "\n",
    "init()"
   ]
  },
  {
   "cell_type": "code",
   "execution_count": 2,
   "metadata": {},
   "outputs": [],
   "source": [
    "# # optionally, help find the URL for the seed\n",
    "# from google_search import search\n",
    "\n",
    "# for result in search(\"Imagine Pediatics\"):\n",
    "#     print(result)"
   ]
  },
  {
   "cell_type": "code",
   "execution_count": 3,
   "metadata": {},
   "outputs": [
    {
     "name": "stderr",
     "output_type": "stream",
     "text": [
      "\u001b[32m2024-09-03 15:51:39.279\u001b[0m | \u001b[1mINFO    \u001b[0m | \u001b[36mcompany_webpage\u001b[0m:\u001b[36mrun\u001b[0m:\u001b[36m65\u001b[0m - \u001b[1m68,718 -> 4,303 chars (6%) \u001b[0m\n",
      "\u001b[32m2024-09-03 15:51:39.284\u001b[0m | \u001b[1mINFO    \u001b[0m | \u001b[36mcompany_webpage\u001b[0m:\u001b[36mrun\u001b[0m:\u001b[36m65\u001b[0m - \u001b[1mExtractive fraction: 15% \u001b[0m\n",
      "\u001b[32m2024-09-03 15:51:39.285\u001b[0m | \u001b[1mINFO    \u001b[0m | \u001b[36mcompany_webpage\u001b[0m:\u001b[36mrun\u001b[0m:\u001b[36m65\u001b[0m - \u001b[1mPercent of URLs in sources: 89% ❌\u001b[0m\n",
      "\u001b[32m2024-09-03 15:51:39.286\u001b[0m | \u001b[1mINFO    \u001b[0m | \u001b[36mcompany_webpage\u001b[0m:\u001b[36mrun\u001b[0m:\u001b[36m65\u001b[0m - \u001b[1mCitation density: 19.6% (percent of output used by URLs/link syntax) \u001b[0m\n",
      "\u001b[32m2024-09-03 15:51:39.286\u001b[0m | \u001b[1mINFO    \u001b[0m | \u001b[36mcompany_webpage\u001b[0m:\u001b[36mrun\u001b[0m:\u001b[36m65\u001b[0m - \u001b[1mDistinct URLs (summary / input): 18 / 29\u001b[0m\n",
      "\u001b[32m2024-09-03 15:51:39.287\u001b[0m | \u001b[1mINFO    \u001b[0m | \u001b[36mcompany_webpage\u001b[0m:\u001b[36mrun\u001b[0m:\u001b[36m65\u001b[0m - \u001b[1mSuspicious URLs: {'https://www.imaginepediatrics.org/team-member', 'https://www.imaginepediatrics.org/holiday'}\u001b[0m\n",
      "\u001b[32m2024-09-03 15:51:39.288\u001b[0m | \u001b[1mINFO    \u001b[0m | \u001b[36mcompany_webpage\u001b[0m:\u001b[36mrun\u001b[0m:\u001b[36m65\u001b[0m - \u001b[1mCache mentions: 0 ✅\u001b[0m\n",
      "\u001b[32m2024-09-03 15:51:41.585\u001b[0m | \u001b[1mINFO    \u001b[0m | \u001b[36mcore\u001b[0m:\u001b[36mshorten_markdown\u001b[0m:\u001b[36m230\u001b[0m - \u001b[1m13,657 -> 11,048 chars (81% of original)\u001b[0m\n",
      "\u001b[32m2024-09-03 15:51:47.452\u001b[0m | \u001b[1mINFO    \u001b[0m | \u001b[36mcore\u001b[0m:\u001b[36munshorten_markdown\u001b[0m:\u001b[36m249\u001b[0m - \u001b[1m2,166 -> 3,490 chars (161% of original)\u001b[0m\n",
      "\u001b[32m2024-09-03 15:51:47.453\u001b[0m | \u001b[1mINFO    \u001b[0m | \u001b[36mgeneral_search\u001b[0m:\u001b[36msummarize\u001b[0m:\u001b[36m124\u001b[0m - \u001b[1m13,657 -> 3,490 chars (26%) \u001b[0m\n",
      "\u001b[32m2024-09-03 15:51:47.454\u001b[0m | \u001b[1mINFO    \u001b[0m | \u001b[36mgeneral_search\u001b[0m:\u001b[36msummarize\u001b[0m:\u001b[36m124\u001b[0m - \u001b[1mExtractive fraction: 69% \u001b[0m\n",
      "\u001b[32m2024-09-03 15:51:47.455\u001b[0m | \u001b[1mINFO    \u001b[0m | \u001b[36mgeneral_search\u001b[0m:\u001b[36msummarize\u001b[0m:\u001b[36m124\u001b[0m - \u001b[1mPercent of URLs in sources: 100% ✅\u001b[0m\n",
      "\u001b[32m2024-09-03 15:51:47.455\u001b[0m | \u001b[1mINFO    \u001b[0m | \u001b[36mgeneral_search\u001b[0m:\u001b[36msummarize\u001b[0m:\u001b[36m124\u001b[0m - \u001b[1mCitation density: 54.8% (percent of output used by URLs/link syntax) \u001b[0m\n",
      "\u001b[32m2024-09-03 15:51:47.456\u001b[0m | \u001b[1mINFO    \u001b[0m | \u001b[36mgeneral_search\u001b[0m:\u001b[36msummarize\u001b[0m:\u001b[36m124\u001b[0m - \u001b[1mDistinct URLs (summary / input): 19 / 49\u001b[0m\n",
      "\u001b[32m2024-09-03 15:51:47.456\u001b[0m | \u001b[1mINFO    \u001b[0m | \u001b[36mgeneral_search\u001b[0m:\u001b[36msummarize\u001b[0m:\u001b[36m124\u001b[0m - \u001b[1mSuspicious URLs: set()\u001b[0m\n",
      "\u001b[32m2024-09-03 15:51:47.456\u001b[0m | \u001b[1mINFO    \u001b[0m | \u001b[36mgeneral_search\u001b[0m:\u001b[36msummarize\u001b[0m:\u001b[36m124\u001b[0m - \u001b[1mCache mentions: 0 ✅\u001b[0m\n",
      "\u001b[32m2024-09-03 15:51:47.611\u001b[0m | \u001b[1mINFO    \u001b[0m | \u001b[36mscrapfly_scrapers.crunchbase\u001b[0m:\u001b[36mscrape_company\u001b[0m:\u001b[36m62\u001b[0m - \u001b[1mscraping company: https://www.crunchbase.com/organization/imagine-pediatrics-96a9/people\u001b[0m\n",
      "CRITICAL:root:<-- 422 | ERR::SCRAPE::COST_BUDGET_LIMIT - Cost budget has been reached, you must increase the budget to pass this target - The cost of the scrape is exceeding the budget of 50, would require 51 API credit. Checkout the related doc: https://scrapfly.io/docs/scrape-api/anti-scraping-protection\n",
      "\u001b[32m2024-09-03 15:51:47.844\u001b[0m | \u001b[33m\u001b[1mWARNING \u001b[0m | \u001b[36mcrunchbase\u001b[0m:\u001b[36mrun\u001b[0m:\u001b[36m59\u001b[0m - \u001b[33m\u001b[1mFailed to process Crunchbase (ScrapflyScrapeError), skipping: <-- 422 | ERR::SCRAPE::COST_BUDGET_LIMIT - Cost budget has been reached, you must increase the budget to pass this target - The cost of the scrape is exceeding the budget of 50, would require 51 API credit. Checkout the related doc: https://scrapfly.io/docs/scrape-api/anti-scraping-protection\u001b[0m\n",
      "\u001b[32m2024-09-03 15:51:47.845\u001b[0m | \u001b[33m\u001b[1mWARNING \u001b[0m | \u001b[36munified\u001b[0m:\u001b[36mrun\u001b[0m:\u001b[36m163\u001b[0m - \u001b[33m\u001b[1mNo Crunchbase info found\u001b[0m\n",
      "\u001b[32m2024-09-03 15:51:48.412\u001b[0m | \u001b[1mINFO    \u001b[0m | \u001b[36mcustomer_experience\u001b[0m:\u001b[36mrun\u001b[0m:\u001b[36m106\u001b[0m - \u001b[1mTotal reviews: 9\u001b[0m\n",
      "\u001b[32m2024-09-03 15:51:48.412\u001b[0m | \u001b[1mINFO    \u001b[0m | \u001b[36mcustomer_experience\u001b[0m:\u001b[36mrun\u001b[0m:\u001b[36m114\u001b[0m - \u001b[1mPacked reviews: 2\u001b[0m\n",
      "\u001b[32m2024-09-03 15:51:48.478\u001b[0m | \u001b[1mINFO    \u001b[0m | \u001b[36mcore\u001b[0m:\u001b[36mshorten_markdown\u001b[0m:\u001b[36m230\u001b[0m - \u001b[1m55,458 -> 49,082 chars (89% of original)\u001b[0m\n",
      "\u001b[32m2024-09-03 15:51:48.480\u001b[0m | \u001b[1mINFO    \u001b[0m | \u001b[36mcore\u001b[0m:\u001b[36mshorten_markdown\u001b[0m:\u001b[36m230\u001b[0m - \u001b[1m58,322 -> 49,610 chars (85% of original)\u001b[0m\n",
      "\u001b[32m2024-09-03 15:51:58.820\u001b[0m | \u001b[1mINFO    \u001b[0m | \u001b[36mcore\u001b[0m:\u001b[36munshorten_markdown\u001b[0m:\u001b[36m249\u001b[0m - \u001b[1m1,204 -> 1,472 chars (122% of original)\u001b[0m\n",
      "\u001b[32m2024-09-03 15:51:58.822\u001b[0m | \u001b[1mINFO    \u001b[0m | \u001b[36mcustomer_experience\u001b[0m:\u001b[36mrun\u001b[0m:\u001b[36m144\u001b[0m - \u001b[1m113,781 -> 1,472 chars (1%) \u001b[0m\n",
      "\u001b[32m2024-09-03 15:51:58.830\u001b[0m | \u001b[1mINFO    \u001b[0m | \u001b[36mcustomer_experience\u001b[0m:\u001b[36mrun\u001b[0m:\u001b[36m144\u001b[0m - \u001b[1mExtractive fraction: 77% \u001b[0m\n",
      "\u001b[32m2024-09-03 15:51:58.831\u001b[0m | \u001b[1mINFO    \u001b[0m | \u001b[36mcustomer_experience\u001b[0m:\u001b[36mrun\u001b[0m:\u001b[36m144\u001b[0m - \u001b[1mPercent of URLs in sources: 100% ✅\u001b[0m\n",
      "\u001b[32m2024-09-03 15:51:58.832\u001b[0m | \u001b[1mINFO    \u001b[0m | \u001b[36mcustomer_experience\u001b[0m:\u001b[36mrun\u001b[0m:\u001b[36m144\u001b[0m - \u001b[1mCitation density: 29.9% (percent of output used by URLs/link syntax) \u001b[0m\n",
      "\u001b[32m2024-09-03 15:51:58.832\u001b[0m | \u001b[1mINFO    \u001b[0m | \u001b[36mcustomer_experience\u001b[0m:\u001b[36mrun\u001b[0m:\u001b[36m144\u001b[0m - \u001b[1mDistinct URLs (summary / input): 7 / 229\u001b[0m\n",
      "\u001b[32m2024-09-03 15:51:58.833\u001b[0m | \u001b[1mINFO    \u001b[0m | \u001b[36mcustomer_experience\u001b[0m:\u001b[36mrun\u001b[0m:\u001b[36m144\u001b[0m - \u001b[1mSuspicious URLs: set()\u001b[0m\n",
      "\u001b[32m2024-09-03 15:51:58.833\u001b[0m | \u001b[1mINFO    \u001b[0m | \u001b[36mcustomer_experience\u001b[0m:\u001b[36mrun\u001b[0m:\u001b[36m144\u001b[0m - \u001b[1mCache mentions: 0 ✅\u001b[0m\n",
      "\u001b[32m2024-09-03 15:51:59.141\u001b[0m | \u001b[1mINFO    \u001b[0m | \u001b[36mglassdoor.summarizer\u001b[0m:\u001b[36msummarize\u001b[0m:\u001b[36m59\u001b[0m - \u001b[1m6,565 -> 3,704 chars (56%) \u001b[0m\n",
      "\u001b[32m2024-09-03 15:51:59.142\u001b[0m | \u001b[1mINFO    \u001b[0m | \u001b[36mglassdoor.summarizer\u001b[0m:\u001b[36msummarize\u001b[0m:\u001b[36m59\u001b[0m - \u001b[1mExtractive fraction: 52% \u001b[0m\n",
      "\u001b[32m2024-09-03 15:51:59.143\u001b[0m | \u001b[1mINFO    \u001b[0m | \u001b[36mglassdoor.summarizer\u001b[0m:\u001b[36msummarize\u001b[0m:\u001b[36m59\u001b[0m - \u001b[1mPercent of URLs in sources: 100% ✅\u001b[0m\n",
      "\u001b[32m2024-09-03 15:51:59.143\u001b[0m | \u001b[1mINFO    \u001b[0m | \u001b[36mglassdoor.summarizer\u001b[0m:\u001b[36msummarize\u001b[0m:\u001b[36m59\u001b[0m - \u001b[1mCitation density: 38.0% (percent of output used by URLs/link syntax) \u001b[0m\n",
      "\u001b[32m2024-09-03 15:51:59.143\u001b[0m | \u001b[1mINFO    \u001b[0m | \u001b[36mglassdoor.summarizer\u001b[0m:\u001b[36msummarize\u001b[0m:\u001b[36m59\u001b[0m - \u001b[1mDistinct URLs (summary / input): 10 / 11\u001b[0m\n",
      "\u001b[32m2024-09-03 15:51:59.144\u001b[0m | \u001b[1mINFO    \u001b[0m | \u001b[36mglassdoor.summarizer\u001b[0m:\u001b[36msummarize\u001b[0m:\u001b[36m59\u001b[0m - \u001b[1mSuspicious URLs: set()\u001b[0m\n",
      "\u001b[32m2024-09-03 15:51:59.144\u001b[0m | \u001b[1mINFO    \u001b[0m | \u001b[36mglassdoor.summarizer\u001b[0m:\u001b[36msummarize\u001b[0m:\u001b[36m59\u001b[0m - \u001b[1mCache mentions: 0 ✅\u001b[0m\n",
      "\u001b[32m2024-09-03 15:52:10.972\u001b[0m | \u001b[33m\u001b[1mWARNING \u001b[0m | \u001b[36mnews.scrape\u001b[0m:\u001b[36mrequest_article\u001b[0m:\u001b[36m33\u001b[0m - \u001b[33m\u001b[1mTimeout on https://health.usnews.com/doctors/ruchi-kaushik-70520\u001b[0m\n",
      "\u001b[32m2024-09-03 15:52:23.422\u001b[0m | \u001b[1mINFO    \u001b[0m | \u001b[36mcore\u001b[0m:\u001b[36mshorten_markdown\u001b[0m:\u001b[36m230\u001b[0m - \u001b[1m231,452 -> 229,759 chars (99% of original)\u001b[0m\n",
      "\u001b[32m2024-09-03 15:52:46.894\u001b[0m | \u001b[1mINFO    \u001b[0m | \u001b[36mcore\u001b[0m:\u001b[36munshorten_markdown\u001b[0m:\u001b[36m249\u001b[0m - \u001b[1m4,608 -> 5,441 chars (118% of original)\u001b[0m\n",
      "\u001b[32m2024-09-03 15:52:46.896\u001b[0m | \u001b[1mINFO    \u001b[0m | \u001b[36mnews.summarize\u001b[0m:\u001b[36msummarize\u001b[0m:\u001b[36m94\u001b[0m - \u001b[1m231,452 -> 5,441 chars (2%) \u001b[0m\n",
      "\u001b[32m2024-09-03 15:52:46.913\u001b[0m | \u001b[1mINFO    \u001b[0m | \u001b[36mnews.summarize\u001b[0m:\u001b[36msummarize\u001b[0m:\u001b[36m94\u001b[0m - \u001b[1mExtractive fraction: 17% \u001b[0m\n",
      "\u001b[32m2024-09-03 15:52:46.914\u001b[0m | \u001b[1mINFO    \u001b[0m | \u001b[36mnews.summarize\u001b[0m:\u001b[36msummarize\u001b[0m:\u001b[36m94\u001b[0m - \u001b[1mPercent of URLs in sources: 100% ✅\u001b[0m\n",
      "\u001b[32m2024-09-03 15:52:46.915\u001b[0m | \u001b[1mINFO    \u001b[0m | \u001b[36mnews.summarize\u001b[0m:\u001b[36msummarize\u001b[0m:\u001b[36m94\u001b[0m - \u001b[1mCitation density: 22.2% (percent of output used by URLs/link syntax) \u001b[0m\n",
      "\u001b[32m2024-09-03 15:52:46.916\u001b[0m | \u001b[1mINFO    \u001b[0m | \u001b[36mnews.summarize\u001b[0m:\u001b[36msummarize\u001b[0m:\u001b[36m94\u001b[0m - \u001b[1mDistinct URLs (summary / input): 4 / 32\u001b[0m\n",
      "\u001b[32m2024-09-03 15:52:46.916\u001b[0m | \u001b[1mINFO    \u001b[0m | \u001b[36mnews.summarize\u001b[0m:\u001b[36msummarize\u001b[0m:\u001b[36m94\u001b[0m - \u001b[1mSuspicious URLs: set()\u001b[0m\n",
      "\u001b[32m2024-09-03 15:52:46.916\u001b[0m | \u001b[1mINFO    \u001b[0m | \u001b[36mnews.summarize\u001b[0m:\u001b[36msummarize\u001b[0m:\u001b[36m94\u001b[0m - \u001b[1mCache mentions: 0 ✅\u001b[0m\n",
      "\u001b[32m2024-09-03 15:52:47.011\u001b[0m | \u001b[1mINFO    \u001b[0m | \u001b[36mcore\u001b[0m:\u001b[36mshorten_markdown\u001b[0m:\u001b[36m230\u001b[0m - \u001b[1m4,303 -> 4,027 chars (94% of original)\u001b[0m\n",
      "\u001b[32m2024-09-03 15:52:47.012\u001b[0m | \u001b[1mINFO    \u001b[0m | \u001b[36mcore\u001b[0m:\u001b[36mshorten_markdown\u001b[0m:\u001b[36m230\u001b[0m - \u001b[1m5,441 -> 4,617 chars (85% of original)\u001b[0m\n",
      "\u001b[32m2024-09-03 15:52:59.875\u001b[0m | \u001b[1mINFO    \u001b[0m | \u001b[36mcore\u001b[0m:\u001b[36munshorten_markdown\u001b[0m:\u001b[36m249\u001b[0m - \u001b[1m6,153 -> 7,581 chars (123% of original)\u001b[0m\n",
      "\u001b[32m2024-09-03 15:52:59.876\u001b[0m | \u001b[1mINFO    \u001b[0m | \u001b[36munified\u001b[0m:\u001b[36mrun\u001b[0m:\u001b[36m216\u001b[0m - \u001b[1m9,746 -> 7,581 chars (78%) \u001b[0m\n",
      "\u001b[32m2024-09-03 15:52:59.880\u001b[0m | \u001b[1mINFO    \u001b[0m | \u001b[36munified\u001b[0m:\u001b[36mrun\u001b[0m:\u001b[36m216\u001b[0m - \u001b[1mExtractive fraction: 87% \u001b[0m\n",
      "\u001b[32m2024-09-03 15:52:59.881\u001b[0m | \u001b[1mINFO    \u001b[0m | \u001b[36munified\u001b[0m:\u001b[36mrun\u001b[0m:\u001b[36m216\u001b[0m - \u001b[1mPercent of URLs in sources: 100% ✅\u001b[0m\n",
      "\u001b[32m2024-09-03 15:52:59.883\u001b[0m | \u001b[1mINFO    \u001b[0m | \u001b[36munified\u001b[0m:\u001b[36mrun\u001b[0m:\u001b[36m216\u001b[0m - \u001b[1mCitation density: 32.9% (percent of output used by URLs/link syntax) \u001b[0m\n",
      "\u001b[32m2024-09-03 15:52:59.883\u001b[0m | \u001b[1mINFO    \u001b[0m | \u001b[36munified\u001b[0m:\u001b[36mrun\u001b[0m:\u001b[36m216\u001b[0m - \u001b[1mDistinct URLs (summary / input): 21 / 21\u001b[0m\n",
      "\u001b[32m2024-09-03 15:52:59.884\u001b[0m | \u001b[1mINFO    \u001b[0m | \u001b[36munified\u001b[0m:\u001b[36mrun\u001b[0m:\u001b[36m216\u001b[0m - \u001b[1mSuspicious URLs: set()\u001b[0m\n",
      "\u001b[32m2024-09-03 15:52:59.885\u001b[0m | \u001b[1mINFO    \u001b[0m | \u001b[36munified\u001b[0m:\u001b[36mrun\u001b[0m:\u001b[36m216\u001b[0m - \u001b[1mCache mentions: 0 ✅\u001b[0m\n",
      "\u001b[32m2024-09-03 15:52:59.888\u001b[0m | \u001b[1mINFO    \u001b[0m | \u001b[36munified\u001b[0m:\u001b[36mrun\u001b[0m:\u001b[36m268\u001b[0m - \u001b[1mWritten to /home/keith/company-detective/output/Imagine_Pediatrics/Imagine_Pediatrics_20240903_155259.md\u001b[0m\n"
     ]
    }
   ],
   "source": [
    "# Set the log level\n",
    "import sys\n",
    "from loguru import logger\n",
    "logger.remove()\n",
    "logger.add(sys.stderr, level=\"INFO\")\n",
    "\n",
    "import unified\n",
    "\n",
    "markdown_file = await unified.run(\n",
    "    Seed.init(\"Imagine Pediatrics\", domain=\"imaginepediatrics.org\"), \n",
    "    num_reddit_threads=10, \n",
    "    max_glassdoor_review_pages=5, \n",
    "    max_glassdoor_job_pages=0,\n",
    "    max_news_articles=40,\n",
    "    # glassdoor_url=\"https://www.glassdoor.com/Reviews/Pomelo-Care-Reviews-E9429297.htm\"\n",
    "    )"
   ]
  },
  {
   "cell_type": "code",
   "execution_count": 4,
   "metadata": {},
   "outputs": [
    {
     "name": "stderr",
     "output_type": "stream",
     "text": [
      "\u001b[32m2024-09-03 15:52:59.927\u001b[0m | \u001b[1mINFO    \u001b[0m | \u001b[36mpublish\u001b[0m:\u001b[36mmarkdown_file_to_html\u001b[0m:\u001b[36m26\u001b[0m - \u001b[1mHTML written to /home/keith/company-detective/output/Imagine_Pediatrics/Imagine_Pediatrics_20240903_155259.html\u001b[0m\n"
     ]
    },
    {
     "data": {
      "text/plain": [
       "'http://company-detective.s3-website-us-west-2.amazonaws.com/reports/Imagine_Pediatrics_20240903_155259.html'"
      ]
     },
     "execution_count": 4,
     "metadata": {},
     "output_type": "execute_result"
    }
   ],
   "source": [
    "from publish import markdown_file_to_html, publish_to_s3\n",
    "\n",
    "html_file = markdown_file_to_html(markdown_file)\n",
    "publish_to_s3(html_file)"
   ]
  }
 ],
 "metadata": {
  "kernelspec": {
   "display_name": ".venv",
   "language": "python",
   "name": "python3"
  },
  "language_info": {
   "codemirror_mode": {
    "name": "ipython",
    "version": 3
   },
   "file_extension": ".py",
   "mimetype": "text/x-python",
   "name": "python",
   "nbconvert_exporter": "python",
   "pygments_lexer": "ipython3",
   "version": "3.10.12"
  }
 },
 "nbformat": 4,
 "nbformat_minor": 2
}
