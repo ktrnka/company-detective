{
 "cells": [
  {
   "cell_type": "code",
   "execution_count": 1,
   "metadata": {},
   "outputs": [],
   "source": [
    "from core import Seed, init\n",
    "\n",
    "init()"
   ]
  },
  {
   "cell_type": "code",
   "execution_count": 2,
   "metadata": {},
   "outputs": [],
   "source": [
    "# # optionally, help find the URL for the seed\n",
    "# from google_search import search\n",
    "\n",
    "# for result in search(\"Imagine Pediatics\"):\n",
    "#     print(result)"
   ]
  },
  {
   "cell_type": "code",
   "execution_count": 3,
   "metadata": {},
   "outputs": [
    {
     "name": "stderr",
     "output_type": "stream",
     "text": [
      "\u001b[32m2024-09-17 09:09:32.074\u001b[0m | \u001b[33m\u001b[1mWARNING \u001b[0m | \u001b[36mnews.scrape\u001b[0m:\u001b[36mrequest_article\u001b[0m:\u001b[36m36\u001b[0m - \u001b[33m\u001b[1mSSL error on https://access.98point6.com/s/login/?\u001b[0m\n",
      "\u001b[32m2024-09-17 09:09:52.848\u001b[0m | \u001b[1mINFO    \u001b[0m | \u001b[36mcompany_webpage\u001b[0m:\u001b[36mrun\u001b[0m:\u001b[36m66\u001b[0m - \u001b[1m173,421 -> 3,427 chars (2%) \u001b[0m\n",
      "\u001b[32m2024-09-17 09:09:52.860\u001b[0m | \u001b[1mINFO    \u001b[0m | \u001b[36mcompany_webpage\u001b[0m:\u001b[36mrun\u001b[0m:\u001b[36m66\u001b[0m - \u001b[1mExtractive fraction: 8% \u001b[0m\n",
      "\u001b[32m2024-09-17 09:09:52.861\u001b[0m | \u001b[1mINFO    \u001b[0m | \u001b[36mcompany_webpage\u001b[0m:\u001b[36mrun\u001b[0m:\u001b[36m66\u001b[0m - \u001b[1mPercent of URLs in sources: 86% ❌\u001b[0m\n",
      "\u001b[32m2024-09-17 09:09:52.861\u001b[0m | \u001b[1mINFO    \u001b[0m | \u001b[36mcompany_webpage\u001b[0m:\u001b[36mrun\u001b[0m:\u001b[36m66\u001b[0m - \u001b[1mCitation density: 8.2% (percent of output used by URLs/link syntax) \u001b[0m\n",
      "\u001b[32m2024-09-17 09:09:52.862\u001b[0m | \u001b[1mINFO    \u001b[0m | \u001b[36mcompany_webpage\u001b[0m:\u001b[36mrun\u001b[0m:\u001b[36m66\u001b[0m - \u001b[1mDistinct URLs (summary / input): 7 / 24\u001b[0m\n",
      "\u001b[32m2024-09-17 09:09:52.862\u001b[0m | \u001b[1mINFO    \u001b[0m | \u001b[36mcompany_webpage\u001b[0m:\u001b[36mrun\u001b[0m:\u001b[36m66\u001b[0m - \u001b[1mSuspicious URLs: {'https://www.98point6.com/press_release/'}\u001b[0m\n",
      "\u001b[32m2024-09-17 09:09:52.863\u001b[0m | \u001b[1mINFO    \u001b[0m | \u001b[36mcompany_webpage\u001b[0m:\u001b[36mrun\u001b[0m:\u001b[36m66\u001b[0m - \u001b[1mCache mentions: 0 ✅\u001b[0m\n",
      "\u001b[32m2024-09-17 09:09:56.083\u001b[0m | \u001b[1mINFO    \u001b[0m | \u001b[36mcore\u001b[0m:\u001b[36mshorten_markdown\u001b[0m:\u001b[36m230\u001b[0m - \u001b[1m22,006 -> 17,664 chars (80% of original)\u001b[0m\n",
      "\u001b[32m2024-09-17 09:10:07.944\u001b[0m | \u001b[1mINFO    \u001b[0m | \u001b[36mcore\u001b[0m:\u001b[36munshorten_markdown\u001b[0m:\u001b[36m249\u001b[0m - \u001b[1m2,751 -> 4,464 chars (162% of original)\u001b[0m\n",
      "\u001b[32m2024-09-17 09:10:07.945\u001b[0m | \u001b[1mINFO    \u001b[0m | \u001b[36mgeneral_search\u001b[0m:\u001b[36msummarize\u001b[0m:\u001b[36m126\u001b[0m - \u001b[1m22,006 -> 4,464 chars (20%) \u001b[0m\n",
      "\u001b[32m2024-09-17 09:10:07.948\u001b[0m | \u001b[1mINFO    \u001b[0m | \u001b[36mgeneral_search\u001b[0m:\u001b[36msummarize\u001b[0m:\u001b[36m126\u001b[0m - \u001b[1mExtractive fraction: 81% \u001b[0m\n",
      "\u001b[32m2024-09-17 09:10:07.948\u001b[0m | \u001b[1mINFO    \u001b[0m | \u001b[36mgeneral_search\u001b[0m:\u001b[36msummarize\u001b[0m:\u001b[36m126\u001b[0m - \u001b[1mPercent of URLs in sources: 100% ✅\u001b[0m\n",
      "\u001b[32m2024-09-17 09:10:07.949\u001b[0m | \u001b[1mINFO    \u001b[0m | \u001b[36mgeneral_search\u001b[0m:\u001b[36msummarize\u001b[0m:\u001b[36m126\u001b[0m - \u001b[1mCitation density: 53.7% (percent of output used by URLs/link syntax) \u001b[0m\n",
      "\u001b[32m2024-09-17 09:10:07.949\u001b[0m | \u001b[1mINFO    \u001b[0m | \u001b[36mgeneral_search\u001b[0m:\u001b[36msummarize\u001b[0m:\u001b[36m126\u001b[0m - \u001b[1mDistinct URLs (summary / input): 28 / 76\u001b[0m\n",
      "\u001b[32m2024-09-17 09:10:07.950\u001b[0m | \u001b[1mINFO    \u001b[0m | \u001b[36mgeneral_search\u001b[0m:\u001b[36msummarize\u001b[0m:\u001b[36m126\u001b[0m - \u001b[1mSuspicious URLs: set()\u001b[0m\n",
      "\u001b[32m2024-09-17 09:10:07.951\u001b[0m | \u001b[1mINFO    \u001b[0m | \u001b[36mgeneral_search\u001b[0m:\u001b[36msummarize\u001b[0m:\u001b[36m126\u001b[0m - \u001b[1mCache mentions: 0 ✅\u001b[0m\n",
      "\u001b[32m2024-09-17 09:10:08.267\u001b[0m | \u001b[1mINFO    \u001b[0m | \u001b[36mscrapfly_scrapers.crunchbase\u001b[0m:\u001b[36mscrape_company\u001b[0m:\u001b[36m62\u001b[0m - \u001b[1mscraping company: https://www.crunchbase.com/organization/98point6/people\u001b[0m\n",
      "CRITICAL:root:<-- 422 | ERR::SCRAPE::COST_BUDGET_LIMIT - Cost budget has been reached, you must increase the budget to pass this target - The cost of the scrape is exceeding the budget of 50, would require 51 API credit. Checkout the related doc: https://scrapfly.io/docs/scrape-api/anti-scraping-protection\n",
      "\u001b[32m2024-09-17 09:10:09.234\u001b[0m | \u001b[33m\u001b[1mWARNING \u001b[0m | \u001b[36mcrunchbase\u001b[0m:\u001b[36mrun\u001b[0m:\u001b[36m59\u001b[0m - \u001b[33m\u001b[1mFailed to process Crunchbase (ScrapflyScrapeError), skipping: <-- 422 | ERR::SCRAPE::COST_BUDGET_LIMIT - Cost budget has been reached, you must increase the budget to pass this target - The cost of the scrape is exceeding the budget of 50, would require 51 API credit. Checkout the related doc: https://scrapfly.io/docs/scrape-api/anti-scraping-protection\u001b[0m\n",
      "\u001b[32m2024-09-17 09:10:09.235\u001b[0m | \u001b[33m\u001b[1mWARNING \u001b[0m | \u001b[36munified\u001b[0m:\u001b[36mrun\u001b[0m:\u001b[36m299\u001b[0m - \u001b[33m\u001b[1mNo Crunchbase info found\u001b[0m\n",
      "\u001b[32m2024-09-17 09:10:18.041\u001b[0m | \u001b[1mINFO    \u001b[0m | \u001b[36mcustomer_experience\u001b[0m:\u001b[36mrun\u001b[0m:\u001b[36m163\u001b[0m - \u001b[1mTotal reviews: 608\u001b[0m\n",
      "\u001b[32m2024-09-17 09:10:18.044\u001b[0m | \u001b[1mINFO    \u001b[0m | \u001b[36mcustomer_experience\u001b[0m:\u001b[36mrun\u001b[0m:\u001b[36m173\u001b[0m - \u001b[1mPacked reviews: 9\u001b[0m\n",
      "\u001b[32m2024-09-17 09:10:18.112\u001b[0m | \u001b[1mINFO    \u001b[0m | \u001b[36mcore\u001b[0m:\u001b[36mshorten_markdown\u001b[0m:\u001b[36m230\u001b[0m - \u001b[1m20,469 -> 18,965 chars (93% of original)\u001b[0m\n",
      "\u001b[32m2024-09-17 09:10:18.113\u001b[0m | \u001b[1mINFO    \u001b[0m | \u001b[36mcore\u001b[0m:\u001b[36mshorten_markdown\u001b[0m:\u001b[36m230\u001b[0m - \u001b[1m21,745 -> 19,122 chars (88% of original)\u001b[0m\n",
      "\u001b[32m2024-09-17 09:10:18.114\u001b[0m | \u001b[1mINFO    \u001b[0m | \u001b[36mcore\u001b[0m:\u001b[36mshorten_markdown\u001b[0m:\u001b[36m230\u001b[0m - \u001b[1m30,808 -> 29,595 chars (96% of original)\u001b[0m\n",
      "\u001b[32m2024-09-17 09:10:18.115\u001b[0m | \u001b[1mINFO    \u001b[0m | \u001b[36mcore\u001b[0m:\u001b[36mshorten_markdown\u001b[0m:\u001b[36m230\u001b[0m - \u001b[1m23,263 -> 22,302 chars (96% of original)\u001b[0m\n",
      "\u001b[32m2024-09-17 09:10:18.116\u001b[0m | \u001b[1mINFO    \u001b[0m | \u001b[36mcore\u001b[0m:\u001b[36mshorten_markdown\u001b[0m:\u001b[36m230\u001b[0m - \u001b[1m27,664 -> 26,575 chars (96% of original)\u001b[0m\n",
      "\u001b[32m2024-09-17 09:10:18.118\u001b[0m | \u001b[1mINFO    \u001b[0m | \u001b[36mcore\u001b[0m:\u001b[36mshorten_markdown\u001b[0m:\u001b[36m230\u001b[0m - \u001b[1m38,154 -> 36,397 chars (95% of original)\u001b[0m\n",
      "\u001b[32m2024-09-17 09:10:18.120\u001b[0m | \u001b[1mINFO    \u001b[0m | \u001b[36mcore\u001b[0m:\u001b[36mshorten_markdown\u001b[0m:\u001b[36m230\u001b[0m - \u001b[1m75,325 -> 61,152 chars (81% of original)\u001b[0m\n",
      "\u001b[32m2024-09-17 09:10:18.121\u001b[0m | \u001b[1mINFO    \u001b[0m | \u001b[36mcore\u001b[0m:\u001b[36mshorten_markdown\u001b[0m:\u001b[36m230\u001b[0m - \u001b[1m34,000 -> 32,960 chars (97% of original)\u001b[0m\n",
      "\u001b[32m2024-09-17 09:10:18.122\u001b[0m | \u001b[1mINFO    \u001b[0m | \u001b[36mcore\u001b[0m:\u001b[36mshorten_markdown\u001b[0m:\u001b[36m230\u001b[0m - \u001b[1m25,527 -> 22,631 chars (89% of original)\u001b[0m\n",
      "WARNING:langchain_core.callbacks.manager:Error in LangChainTracer.on_chain_start callback: ValidationError(model='Run', errors=[{'loc': ('__root__',), 'msg': \"argument of type 'NoneType' is not iterable\", 'type': 'type_error'}])\n",
      "WARNING:langchain_core.callbacks.manager:Error in LangChainTracer.on_chain_end callback: TracerException('No indexed run ID 9a9df4b8-fb8f-4aac-a8a8-6eae97eb917a.')\n",
      "\u001b[32m2024-09-17 09:11:29.526\u001b[0m | \u001b[1mINFO    \u001b[0m | \u001b[36mcustomer_experience\u001b[0m:\u001b[36mrun\u001b[0m:\u001b[36m208\u001b[0m - \u001b[1mMap stage 269,699 chars -> 29,770 chars (11%)\u001b[0m\n",
      "\u001b[32m2024-09-17 09:11:29.526\u001b[0m | \u001b[1mINFO    \u001b[0m | \u001b[36mcustomer_experience\u001b[0m:\u001b[36mrun\u001b[0m:\u001b[36m208\u001b[0m - \u001b[1mReduce stage 29,770 chars -> 7,480 chars (25%)\u001b[0m\n",
      "\u001b[32m2024-09-17 09:11:29.527\u001b[0m | \u001b[1mINFO    \u001b[0m | \u001b[36mcore\u001b[0m:\u001b[36munshorten_markdown\u001b[0m:\u001b[36m249\u001b[0m - \u001b[1m7,480 -> 8,155 chars (109% of original)\u001b[0m\n",
      "\u001b[32m2024-09-17 09:11:29.528\u001b[0m | \u001b[1mINFO    \u001b[0m | \u001b[36mcustomer_experience\u001b[0m:\u001b[36mrun\u001b[0m:\u001b[36m211\u001b[0m - \u001b[1m296,963 -> 8,155 chars (3%) \u001b[0m\n",
      "\u001b[32m2024-09-17 09:11:29.548\u001b[0m | \u001b[1mINFO    \u001b[0m | \u001b[36mcustomer_experience\u001b[0m:\u001b[36mrun\u001b[0m:\u001b[36m211\u001b[0m - \u001b[1mExtractive fraction: 74% \u001b[0m\n",
      "\u001b[32m2024-09-17 09:11:29.549\u001b[0m | \u001b[1mINFO    \u001b[0m | \u001b[36mcustomer_experience\u001b[0m:\u001b[36mrun\u001b[0m:\u001b[36m211\u001b[0m - \u001b[1mPercent of URLs in sources: 100% ✅\u001b[0m\n",
      "\u001b[32m2024-09-17 09:11:29.549\u001b[0m | \u001b[1mINFO    \u001b[0m | \u001b[36mcustomer_experience\u001b[0m:\u001b[36mrun\u001b[0m:\u001b[36m211\u001b[0m - \u001b[1mCitation density: 19.3% (percent of output used by URLs/link syntax) \u001b[0m\n",
      "\u001b[32m2024-09-17 09:11:29.550\u001b[0m | \u001b[1mINFO    \u001b[0m | \u001b[36mcustomer_experience\u001b[0m:\u001b[36mrun\u001b[0m:\u001b[36m211\u001b[0m - \u001b[1mDistinct URLs (summary / input): 40 / 839\u001b[0m\n",
      "\u001b[32m2024-09-17 09:11:29.550\u001b[0m | \u001b[1mINFO    \u001b[0m | \u001b[36mcustomer_experience\u001b[0m:\u001b[36mrun\u001b[0m:\u001b[36m211\u001b[0m - \u001b[1mSuspicious URLs: set()\u001b[0m\n",
      "\u001b[32m2024-09-17 09:11:29.551\u001b[0m | \u001b[1mINFO    \u001b[0m | \u001b[36mcustomer_experience\u001b[0m:\u001b[36mrun\u001b[0m:\u001b[36m211\u001b[0m - \u001b[1mCache mentions: 0 ✅\u001b[0m\n",
      "\u001b[32m2024-09-17 09:11:29.756\u001b[0m | \u001b[1mINFO    \u001b[0m | \u001b[36mscrapfly_scrapers.glassdoor\u001b[0m:\u001b[36mscrape_reviews\u001b[0m:\u001b[36m105\u001b[0m - \u001b[1mscraping reviews from https://www.glassdoor.com/Reviews/98point6-Reviews-E1181484.htm\u001b[0m\n",
      "\u001b[32m2024-09-17 09:12:22.491\u001b[0m | \u001b[1mINFO    \u001b[0m | \u001b[36mscrapfly_scrapers.glassdoor\u001b[0m:\u001b[36mscrape_reviews\u001b[0m:\u001b[36m113\u001b[0m - \u001b[1mscraped first page of reviews of https://www.glassdoor.com/Reviews/98point6-Reviews-E1181484.htm, scraping remaining 4 pages\u001b[0m\n",
      "\u001b[32m2024-09-17 09:14:13.715\u001b[0m | \u001b[1mINFO    \u001b[0m | \u001b[36mscrapfly_scrapers.glassdoor\u001b[0m:\u001b[36mscrape_reviews\u001b[0m:\u001b[36m123\u001b[0m - \u001b[1mscraped 50 reviews from https://www.glassdoor.com/Reviews/98point6-Reviews-E1181484.htm in 5 pages\u001b[0m\n",
      "\u001b[32m2024-09-17 09:14:28.261\u001b[0m | \u001b[1mINFO    \u001b[0m | \u001b[36mglassdoor.summarizer\u001b[0m:\u001b[36msummarize\u001b[0m:\u001b[36m60\u001b[0m - \u001b[1m31,159 -> 3,943 chars (13%) \u001b[0m\n",
      "\u001b[32m2024-09-17 09:14:28.269\u001b[0m | \u001b[1mINFO    \u001b[0m | \u001b[36mglassdoor.summarizer\u001b[0m:\u001b[36msummarize\u001b[0m:\u001b[36m60\u001b[0m - \u001b[1mExtractive fraction: 53% \u001b[0m\n",
      "\u001b[32m2024-09-17 09:14:28.270\u001b[0m | \u001b[1mINFO    \u001b[0m | \u001b[36mglassdoor.summarizer\u001b[0m:\u001b[36msummarize\u001b[0m:\u001b[36m60\u001b[0m - \u001b[1mPercent of URLs in sources: 100% ✅\u001b[0m\n",
      "\u001b[32m2024-09-17 09:14:28.271\u001b[0m | \u001b[1mINFO    \u001b[0m | \u001b[36mglassdoor.summarizer\u001b[0m:\u001b[36msummarize\u001b[0m:\u001b[36m60\u001b[0m - \u001b[1mCitation density: 35.6% (percent of output used by URLs/link syntax) \u001b[0m\n",
      "\u001b[32m2024-09-17 09:14:28.272\u001b[0m | \u001b[1mINFO    \u001b[0m | \u001b[36mglassdoor.summarizer\u001b[0m:\u001b[36msummarize\u001b[0m:\u001b[36m60\u001b[0m - \u001b[1mDistinct URLs (summary / input): 12 / 50\u001b[0m\n",
      "\u001b[32m2024-09-17 09:14:28.273\u001b[0m | \u001b[1mINFO    \u001b[0m | \u001b[36mglassdoor.summarizer\u001b[0m:\u001b[36msummarize\u001b[0m:\u001b[36m60\u001b[0m - \u001b[1mSuspicious URLs: set()\u001b[0m\n",
      "\u001b[32m2024-09-17 09:14:28.275\u001b[0m | \u001b[1mINFO    \u001b[0m | \u001b[36mglassdoor.summarizer\u001b[0m:\u001b[36msummarize\u001b[0m:\u001b[36m60\u001b[0m - \u001b[1mCache mentions: 0 ✅\u001b[0m\n",
      "\u001b[32m2024-09-17 09:15:00.368\u001b[0m | \u001b[33m\u001b[1mWARNING \u001b[0m | \u001b[36mnews.scrape\u001b[0m:\u001b[36mrequest_article\u001b[0m:\u001b[36m33\u001b[0m - \u001b[33m\u001b[1mTimeout on https://health.usnews.com/doctors/mubina-nasrin-506342\u001b[0m\n",
      "\u001b[32m2024-09-17 09:15:46.203\u001b[0m | \u001b[1mINFO    \u001b[0m | \u001b[36mcore\u001b[0m:\u001b[36mshorten_markdown\u001b[0m:\u001b[36m230\u001b[0m - \u001b[1m249,857 -> 247,826 chars (99% of original)\u001b[0m\n",
      "\u001b[32m2024-09-17 09:16:12.630\u001b[0m | \u001b[1mINFO    \u001b[0m | \u001b[36mcore\u001b[0m:\u001b[36munshorten_markdown\u001b[0m:\u001b[36m249\u001b[0m - \u001b[1m4,982 -> 6,141 chars (123% of original)\u001b[0m\n",
      "\u001b[32m2024-09-17 09:16:12.630\u001b[0m | \u001b[1mINFO    \u001b[0m | \u001b[36mnews.summarize\u001b[0m:\u001b[36msummarize\u001b[0m:\u001b[36m95\u001b[0m - \u001b[1m249,857 -> 6,141 chars (2%) \u001b[0m\n",
      "\u001b[32m2024-09-17 09:16:12.647\u001b[0m | \u001b[1mINFO    \u001b[0m | \u001b[36mnews.summarize\u001b[0m:\u001b[36msummarize\u001b[0m:\u001b[36m95\u001b[0m - \u001b[1mExtractive fraction: 17% \u001b[0m\n",
      "\u001b[32m2024-09-17 09:16:12.647\u001b[0m | \u001b[1mINFO    \u001b[0m | \u001b[36mnews.summarize\u001b[0m:\u001b[36msummarize\u001b[0m:\u001b[36m95\u001b[0m - \u001b[1mPercent of URLs in sources: 83% ❌\u001b[0m\n",
      "\u001b[32m2024-09-17 09:16:12.648\u001b[0m | \u001b[1mINFO    \u001b[0m | \u001b[36mnews.summarize\u001b[0m:\u001b[36msummarize\u001b[0m:\u001b[36m95\u001b[0m - \u001b[1mCitation density: 23.4% (percent of output used by URLs/link syntax) \u001b[0m\n",
      "\u001b[32m2024-09-17 09:16:12.648\u001b[0m | \u001b[1mINFO    \u001b[0m | \u001b[36mnews.summarize\u001b[0m:\u001b[36msummarize\u001b[0m:\u001b[36m95\u001b[0m - \u001b[1mDistinct URLs (summary / input): 6 / 29\u001b[0m\n",
      "\u001b[32m2024-09-17 09:16:12.649\u001b[0m | \u001b[1mINFO    \u001b[0m | \u001b[36mnews.summarize\u001b[0m:\u001b[36msummarize\u001b[0m:\u001b[36m95\u001b[0m - \u001b[1mSuspicious URLs: {'https://www.98point6.com'}\u001b[0m\n",
      "\u001b[32m2024-09-17 09:16:12.649\u001b[0m | \u001b[1mINFO    \u001b[0m | \u001b[36mnews.summarize\u001b[0m:\u001b[36msummarize\u001b[0m:\u001b[36m95\u001b[0m - \u001b[1mCache mentions: 0 ✅\u001b[0m\n",
      "\u001b[32m2024-09-17 09:16:12.728\u001b[0m | \u001b[1mINFO    \u001b[0m | \u001b[36mcore\u001b[0m:\u001b[36mshorten_markdown\u001b[0m:\u001b[36m230\u001b[0m - \u001b[1m3,427 -> 3,299 chars (96% of original)\u001b[0m\n",
      "\u001b[32m2024-09-17 09:16:12.729\u001b[0m | \u001b[1mINFO    \u001b[0m | \u001b[36mcore\u001b[0m:\u001b[36mshorten_markdown\u001b[0m:\u001b[36m230\u001b[0m - \u001b[1m6,141 -> 4,982 chars (81% of original)\u001b[0m\n",
      "\u001b[32m2024-09-17 09:16:22.998\u001b[0m | \u001b[1mINFO    \u001b[0m | \u001b[36mcore\u001b[0m:\u001b[36munshorten_markdown\u001b[0m:\u001b[36m249\u001b[0m - \u001b[1m3,474 -> 4,881 chars (141% of original)\u001b[0m\n",
      "\u001b[32m2024-09-17 09:16:22.999\u001b[0m | \u001b[1mINFO    \u001b[0m | \u001b[36munified\u001b[0m:\u001b[36mrun\u001b[0m:\u001b[36m354\u001b[0m - \u001b[1m9,570 -> 4,881 chars (51%) \u001b[0m\n",
      "\u001b[32m2024-09-17 09:16:23.001\u001b[0m | \u001b[1mINFO    \u001b[0m | \u001b[36munified\u001b[0m:\u001b[36mrun\u001b[0m:\u001b[36m354\u001b[0m - \u001b[1mExtractive fraction: 62% \u001b[0m\n",
      "\u001b[32m2024-09-17 09:16:23.001\u001b[0m | \u001b[1mINFO    \u001b[0m | \u001b[36munified\u001b[0m:\u001b[36mrun\u001b[0m:\u001b[36m354\u001b[0m - \u001b[1mPercent of URLs in sources: 100% ✅\u001b[0m\n",
      "\u001b[32m2024-09-17 09:16:23.002\u001b[0m | \u001b[1mINFO    \u001b[0m | \u001b[36munified\u001b[0m:\u001b[36mrun\u001b[0m:\u001b[36m354\u001b[0m - \u001b[1mCitation density: 35.3% (percent of output used by URLs/link syntax) \u001b[0m\n",
      "\u001b[32m2024-09-17 09:16:23.002\u001b[0m | \u001b[1mINFO    \u001b[0m | \u001b[36munified\u001b[0m:\u001b[36mrun\u001b[0m:\u001b[36m354\u001b[0m - \u001b[1mDistinct URLs (summary / input): 6 / 13\u001b[0m\n",
      "\u001b[32m2024-09-17 09:16:23.002\u001b[0m | \u001b[1mINFO    \u001b[0m | \u001b[36munified\u001b[0m:\u001b[36mrun\u001b[0m:\u001b[36m354\u001b[0m - \u001b[1mSuspicious URLs: set()\u001b[0m\n",
      "\u001b[32m2024-09-17 09:16:23.003\u001b[0m | \u001b[1mINFO    \u001b[0m | \u001b[36munified\u001b[0m:\u001b[36mrun\u001b[0m:\u001b[36m354\u001b[0m - \u001b[1mCache mentions: 0 ✅\u001b[0m\n",
      "\u001b[32m2024-09-17 09:16:23.015\u001b[0m | \u001b[1mINFO    \u001b[0m | \u001b[36munified\u001b[0m:\u001b[36mto_markdown_file\u001b[0m:\u001b[36m240\u001b[0m - \u001b[1mWritten to /home/keith/company-detective/output/98point6/98point6_20240917_091623.md\u001b[0m\n"
     ]
    }
   ],
   "source": [
    "# Set the log level\n",
    "import sys\n",
    "from loguru import logger\n",
    "logger.remove()\n",
    "logger.add(sys.stderr, level=\"INFO\")\n",
    "\n",
    "import unified\n",
    "\n",
    "unified_result = await unified.run(\n",
    "    Seed.init(\"98point6\", domain=\"98point6.com\"), \n",
    "    num_reddit_threads=10, \n",
    "    max_glassdoor_review_pages=5, \n",
    "    max_glassdoor_job_pages=0,\n",
    "    max_news_articles=40,\n",
    "    # glassdoor_url=\"https://www.glassdoor.com/Reviews/Pomelo-Care-Reviews-E9429297.htm\"\n",
    "    )\n",
    "\n",
    "markdown_file = unified_result.to_markdown_file()"
   ]
  },
  {
   "cell_type": "code",
   "execution_count": 4,
   "metadata": {},
   "outputs": [
    {
     "name": "stderr",
     "output_type": "stream",
     "text": [
      "\u001b[32m2024-09-17 09:16:23.043\u001b[0m | \u001b[1mINFO    \u001b[0m | \u001b[36munified\u001b[0m:\u001b[36mto_html_file\u001b[0m:\u001b[36m261\u001b[0m - \u001b[1mWritten to /home/keith/company-detective/output/98point6/98point6_20240917_091623.html\u001b[0m\n"
     ]
    }
   ],
   "source": [
    "html_file = unified_result.to_html_file()"
   ]
  },
  {
   "cell_type": "code",
   "execution_count": 5,
   "metadata": {},
   "outputs": [
    {
     "data": {
      "text/plain": [
       "'http://company-detective.s3-website-us-west-2.amazonaws.com/reports/98point6_20240917_091623.html'"
      ]
     },
     "execution_count": 5,
     "metadata": {},
     "output_type": "execute_result"
    }
   ],
   "source": [
    "from publish import publish_to_s3\n",
    "\n",
    "publish_to_s3(html_file)"
   ]
  },
  {
   "cell_type": "code",
   "execution_count": null,
   "metadata": {},
   "outputs": [],
   "source": []
  }
 ],
 "metadata": {
  "kernelspec": {
   "display_name": ".venv",
   "language": "python",
   "name": "python3"
  },
  "language_info": {
   "codemirror_mode": {
    "name": "ipython",
    "version": 3
   },
   "file_extension": ".py",
   "mimetype": "text/x-python",
   "name": "python",
   "nbconvert_exporter": "python",
   "pygments_lexer": "ipython3",
   "version": "3.10.12"
  }
 },
 "nbformat": 4,
 "nbformat_minor": 2
}
