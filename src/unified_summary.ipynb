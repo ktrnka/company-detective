{
 "cells": [
  {
   "cell_type": "code",
   "execution_count": 1,
   "metadata": {},
   "outputs": [],
   "source": [
    "from core import Seed, init\n",
    "\n",
    "init()"
   ]
  },
  {
   "cell_type": "code",
   "execution_count": 7,
   "metadata": {},
   "outputs": [
    {
     "name": "stdout",
     "output_type": "stream",
     "text": [
      "title='Kevala: The Future of Healthcare Staffing' link='https://www.kevala.care/' snippet='Kevala brings together your entire workforce behind a single login, allowing your schedulers the unprecedented ability to balance shift coverage, cost-\\xa0...' formattedUrl='https://www.kevala.care/'\n",
      "title='Kevala | Grid Intelligence Delivered' link='https://www.kevala.com/' snippet='Kevala equips energy leaders with advanced grid analytics to seamlessly integrate renewables, accurately predict electrification impacts, and enhance grid\\xa0...' formattedUrl='https://www.kevala.com/'\n",
      "title='Kevala.net: Organic products – Kevala' link='https://kevala.net/' snippet='At Kevala, our passion is to find unique, organic, high-quality ingredients, bringing the best for our valued customers.' formattedUrl='https://kevala.net/'\n",
      "title='Todd Owens - Kevala | LinkedIn' link='https://www.linkedin.com/in/toddowens2001' snippet=\"Mar 12, 2018 ... Experience: Kevala · Education: Harvard Business School · Location: Kirkland · 500+ connections on LinkedIn. View Todd Owens' profile on\\xa0...\" formattedUrl='https://www.linkedin.com/in/toddowens2001'\n",
      "title=\"Kevala's Sesame Oil – Kevala\" link='https://kevala.net/collections/sesame-oil' snippet='Our Sesame Oil is made only with the finest organic sesame seeds. These are cold pressed to obtain a delicious and rich flavor.' formattedUrl='https://kevala.net/collections/sesame-oil'\n",
      "title='CPUC Cover Sheet Kevala EIS Part 1' link='https://docs.cpuc.ca.gov/PublishedDocs/Efile/G000/M508/K423/508423247.PDF' snippet='May 9, 2023 ... California has some of the most progressive environmental policies and greenhouse gas reduction goals in the world.' formattedUrl='https://docs.cpuc.ca.gov/PublishedDocs/Efile/G000/.../508423247.PDF'\n",
      "title='Kevala Wellness and Ayurveda' link='https://kevalawellness.com/' snippet='Welcome to Kevala Wellness and Ayurveda, your sanctuary for holistic healing and profound restoration nestled in Long Beach. Here, we believe that the path to\\xa0...' formattedUrl='https://kevalawellness.com/'\n",
      "title='Kevala Organic Sesame Tahini, 32 Ounce : Grocery ... - Amazon.com' link='https://www.amazon.com/Kevala-Organic-Sesame-Tahini-Ounce/dp/B014X4UPQW' snippet='Features · The Tahini for the perfect hummus! · Made with USDA Organic Sesame Seeds – Slightly roasted & hulled · Non-GMO Project Verified · Kosher · Gluten-\\xa0...' formattedUrl='https://www.amazon.com/Kevala-Organic-Sesame-Tahini.../B014X4UPQW'\n",
      "title='Kevala Retreat – A Midwestern Dhamma Refuge for contemplative ...' link='https://www.kevalaretreat.org/' snippet='…deepening wisdom, cultivating peace. Kevala Retreat is a Buddha-Dhamma refuge in southwestern Wisconsin that hosts individual and small group self-retreats for\\xa0...' formattedUrl='https://www.kevalaretreat.org/'\n",
      "title='Kevala Counseling, LLC | Therapy in Lacey, WA' link='https://healingthepast.com/' snippet='Deep healing for life issues is possible. Kevala Counseling, LLC offers therapy and coaching for individuals, couples, and parents in Lacey, WA and online.' formattedUrl='https://healingthepast.com/'\n"
     ]
    }
   ],
   "source": [
    "# optionally, help find the URL for the seed\n",
    "from google_search import search\n",
    "\n",
    "for result in search(\"Kevala\"):\n",
    "    print(result)"
   ]
  },
  {
   "cell_type": "code",
   "execution_count": 8,
   "metadata": {},
   "outputs": [
    {
     "name": "stderr",
     "output_type": "stream",
     "text": [
      "\u001b[32m2024-09-17 12:29:01.508\u001b[0m | \u001b[1mINFO    \u001b[0m | \u001b[36mcompany_webpage\u001b[0m:\u001b[36mrun\u001b[0m:\u001b[36m66\u001b[0m - \u001b[1m58,401 -> 3,539 chars (6%) \u001b[0m\n",
      "\u001b[32m2024-09-17 12:29:01.514\u001b[0m | \u001b[1mINFO    \u001b[0m | \u001b[36mcompany_webpage\u001b[0m:\u001b[36mrun\u001b[0m:\u001b[36m66\u001b[0m - \u001b[1mExtractive fraction: 11% \u001b[0m\n",
      "\u001b[32m2024-09-17 12:29:01.515\u001b[0m | \u001b[1mINFO    \u001b[0m | \u001b[36mcompany_webpage\u001b[0m:\u001b[36mrun\u001b[0m:\u001b[36m66\u001b[0m - \u001b[1mPercent of URLs in sources: 100% ✅\u001b[0m\n",
      "\u001b[32m2024-09-17 12:29:01.515\u001b[0m | \u001b[1mINFO    \u001b[0m | \u001b[36mcompany_webpage\u001b[0m:\u001b[36mrun\u001b[0m:\u001b[36m66\u001b[0m - \u001b[1mCitation density: 10.8% (percent of output used by URLs/link syntax) \u001b[0m\n",
      "\u001b[32m2024-09-17 12:29:01.516\u001b[0m | \u001b[1mINFO    \u001b[0m | \u001b[36mcompany_webpage\u001b[0m:\u001b[36mrun\u001b[0m:\u001b[36m66\u001b[0m - \u001b[1mDistinct URLs (summary / input): 10 / 30\u001b[0m\n",
      "\u001b[32m2024-09-17 12:29:01.516\u001b[0m | \u001b[1mINFO    \u001b[0m | \u001b[36mcompany_webpage\u001b[0m:\u001b[36mrun\u001b[0m:\u001b[36m66\u001b[0m - \u001b[1mSuspicious URLs: set()\u001b[0m\n",
      "\u001b[32m2024-09-17 12:29:01.517\u001b[0m | \u001b[1mINFO    \u001b[0m | \u001b[36mcompany_webpage\u001b[0m:\u001b[36mrun\u001b[0m:\u001b[36m66\u001b[0m - \u001b[1mCache mentions: 0 ✅\u001b[0m\n",
      "\u001b[32m2024-09-17 12:29:03.894\u001b[0m | \u001b[1mINFO    \u001b[0m | \u001b[36mcore\u001b[0m:\u001b[36mshorten_markdown\u001b[0m:\u001b[36m230\u001b[0m - \u001b[1m15,574 -> 13,158 chars (84% of original)\u001b[0m\n",
      "\u001b[32m2024-09-17 12:29:15.879\u001b[0m | \u001b[1mINFO    \u001b[0m | \u001b[36mcore\u001b[0m:\u001b[36munshorten_markdown\u001b[0m:\u001b[36m249\u001b[0m - \u001b[1m2,129 -> 3,232 chars (152% of original)\u001b[0m\n",
      "\u001b[32m2024-09-17 12:29:15.880\u001b[0m | \u001b[1mINFO    \u001b[0m | \u001b[36mgeneral_search\u001b[0m:\u001b[36msummarize\u001b[0m:\u001b[36m126\u001b[0m - \u001b[1m15,574 -> 3,232 chars (21%) \u001b[0m\n",
      "\u001b[32m2024-09-17 12:29:15.882\u001b[0m | \u001b[1mINFO    \u001b[0m | \u001b[36mgeneral_search\u001b[0m:\u001b[36msummarize\u001b[0m:\u001b[36m126\u001b[0m - \u001b[1mExtractive fraction: 76% \u001b[0m\n",
      "\u001b[32m2024-09-17 12:29:15.882\u001b[0m | \u001b[1mINFO    \u001b[0m | \u001b[36mgeneral_search\u001b[0m:\u001b[36msummarize\u001b[0m:\u001b[36m126\u001b[0m - \u001b[1mPercent of URLs in sources: 100% ✅\u001b[0m\n",
      "\u001b[32m2024-09-17 12:29:15.883\u001b[0m | \u001b[1mINFO    \u001b[0m | \u001b[36mgeneral_search\u001b[0m:\u001b[36msummarize\u001b[0m:\u001b[36m126\u001b[0m - \u001b[1mCitation density: 52.0% (percent of output used by URLs/link syntax) \u001b[0m\n",
      "\u001b[32m2024-09-17 12:29:15.883\u001b[0m | \u001b[1mINFO    \u001b[0m | \u001b[36mgeneral_search\u001b[0m:\u001b[36msummarize\u001b[0m:\u001b[36m126\u001b[0m - \u001b[1mDistinct URLs (summary / input): 24 / 58\u001b[0m\n",
      "\u001b[32m2024-09-17 12:29:15.884\u001b[0m | \u001b[1mINFO    \u001b[0m | \u001b[36mgeneral_search\u001b[0m:\u001b[36msummarize\u001b[0m:\u001b[36m126\u001b[0m - \u001b[1mSuspicious URLs: set()\u001b[0m\n",
      "\u001b[32m2024-09-17 12:29:15.885\u001b[0m | \u001b[1mINFO    \u001b[0m | \u001b[36mgeneral_search\u001b[0m:\u001b[36msummarize\u001b[0m:\u001b[36m126\u001b[0m - \u001b[1mCache mentions: 0 ✅\u001b[0m\n",
      "\u001b[32m2024-09-17 12:29:16.076\u001b[0m | \u001b[1mINFO    \u001b[0m | \u001b[36mscrapfly_scrapers.crunchbase\u001b[0m:\u001b[36mscrape_company\u001b[0m:\u001b[36m62\u001b[0m - \u001b[1mscraping company: https://www.crunchbase.com/organization/kevala/people\u001b[0m\n",
      "\u001b[32m2024-09-17 12:29:16.657\u001b[0m | \u001b[33m\u001b[1mWARNING \u001b[0m | \u001b[36mcrunchbase\u001b[0m:\u001b[36mrun\u001b[0m:\u001b[36m59\u001b[0m - \u001b[33m\u001b[1mFailed to process Crunchbase (ScrapflyScrapeError), skipping: <-- 422 | ERR::SCRAPE::COST_BUDGET_LIMIT - Cost budget has been reached, you must increase the budget to pass this target - The cost of the scrape is exceeding the budget of 50, would require 51 API credit. Checkout the related doc: https://scrapfly.io/docs/scrape-api/anti-scraping-protection\u001b[0m\n",
      "\u001b[32m2024-09-17 12:29:16.657\u001b[0m | \u001b[33m\u001b[1mWARNING \u001b[0m | \u001b[36munified\u001b[0m:\u001b[36mrun\u001b[0m:\u001b[36m299\u001b[0m - \u001b[33m\u001b[1mNo Crunchbase info found\u001b[0m\n",
      "\u001b[32m2024-09-17 12:29:20.027\u001b[0m | \u001b[1mINFO    \u001b[0m | \u001b[36mcustomer_experience\u001b[0m:\u001b[36mrun\u001b[0m:\u001b[36m163\u001b[0m - \u001b[1mTotal reviews: 10\u001b[0m\n",
      "\u001b[32m2024-09-17 12:29:20.028\u001b[0m | \u001b[1mINFO    \u001b[0m | \u001b[36mcustomer_experience\u001b[0m:\u001b[36mrun\u001b[0m:\u001b[36m173\u001b[0m - \u001b[1mPacked reviews: 3\u001b[0m\n",
      "\u001b[32m2024-09-17 12:29:20.106\u001b[0m | \u001b[1mINFO    \u001b[0m | \u001b[36mcore\u001b[0m:\u001b[36mshorten_markdown\u001b[0m:\u001b[36m230\u001b[0m - \u001b[1m19,825 -> 17,466 chars (88% of original)\u001b[0m\n",
      "\u001b[32m2024-09-17 12:29:20.107\u001b[0m | \u001b[1mINFO    \u001b[0m | \u001b[36mcore\u001b[0m:\u001b[36mshorten_markdown\u001b[0m:\u001b[36m230\u001b[0m - \u001b[1m55,939 -> 54,005 chars (97% of original)\u001b[0m\n",
      "\u001b[32m2024-09-17 12:29:20.108\u001b[0m | \u001b[1mINFO    \u001b[0m | \u001b[36mcore\u001b[0m:\u001b[36mshorten_markdown\u001b[0m:\u001b[36m230\u001b[0m - \u001b[1m31,456 -> 25,091 chars (80% of original)\u001b[0m\n",
      "WARNING:langchain_core.callbacks.manager:Error in LangChainTracer.on_chain_start callback: ValidationError(model='Run', errors=[{'loc': ('__root__',), 'msg': \"argument of type 'NoneType' is not iterable\", 'type': 'type_error'}])\n",
      "WARNING:langchain_core.callbacks.manager:Error in LangChainTracer.on_chain_end callback: TracerException('No indexed run ID dde48346-40a1-4933-bfbf-f06908dc0895.')\n",
      "\u001b[32m2024-09-17 12:29:24.665\u001b[0m | \u001b[1mINFO    \u001b[0m | \u001b[36mcustomer_experience\u001b[0m:\u001b[36mrun\u001b[0m:\u001b[36m208\u001b[0m - \u001b[1mMap stage 96,562 chars -> 699 chars (1%)\u001b[0m\n",
      "\u001b[32m2024-09-17 12:29:24.666\u001b[0m | \u001b[1mINFO    \u001b[0m | \u001b[36mcustomer_experience\u001b[0m:\u001b[36mrun\u001b[0m:\u001b[36m208\u001b[0m - \u001b[1mReduce stage 699 chars -> 818 chars (117%)\u001b[0m\n",
      "\u001b[32m2024-09-17 12:29:24.666\u001b[0m | \u001b[1mINFO    \u001b[0m | \u001b[36mcore\u001b[0m:\u001b[36munshorten_markdown\u001b[0m:\u001b[36m249\u001b[0m - \u001b[1m818 -> 1,241 chars (152% of original)\u001b[0m\n",
      "\u001b[32m2024-09-17 12:29:24.667\u001b[0m | \u001b[1mINFO    \u001b[0m | \u001b[36mcustomer_experience\u001b[0m:\u001b[36mrun\u001b[0m:\u001b[36m211\u001b[0m - \u001b[1m107,222 -> 1,241 chars (1%) \u001b[0m\n",
      "\u001b[32m2024-09-17 12:29:24.674\u001b[0m | \u001b[1mINFO    \u001b[0m | \u001b[36mcustomer_experience\u001b[0m:\u001b[36mrun\u001b[0m:\u001b[36m211\u001b[0m - \u001b[1mExtractive fraction: 68% \u001b[0m\n",
      "\u001b[32m2024-09-17 12:29:24.675\u001b[0m | \u001b[1mINFO    \u001b[0m | \u001b[36mcustomer_experience\u001b[0m:\u001b[36mrun\u001b[0m:\u001b[36m211\u001b[0m - \u001b[1mPercent of URLs in sources: 100% ✅\u001b[0m\n",
      "\u001b[32m2024-09-17 12:29:24.675\u001b[0m | \u001b[1mINFO    \u001b[0m | \u001b[36mcustomer_experience\u001b[0m:\u001b[36mrun\u001b[0m:\u001b[36m211\u001b[0m - \u001b[1mCitation density: 42.8% (percent of output used by URLs/link syntax) \u001b[0m\n",
      "\u001b[32m2024-09-17 12:29:24.676\u001b[0m | \u001b[1mINFO    \u001b[0m | \u001b[36mcustomer_experience\u001b[0m:\u001b[36mrun\u001b[0m:\u001b[36m211\u001b[0m - \u001b[1mDistinct URLs (summary / input): 5 / 125\u001b[0m\n",
      "\u001b[32m2024-09-17 12:29:24.677\u001b[0m | \u001b[1mINFO    \u001b[0m | \u001b[36mcustomer_experience\u001b[0m:\u001b[36mrun\u001b[0m:\u001b[36m211\u001b[0m - \u001b[1mSuspicious URLs: set()\u001b[0m\n",
      "\u001b[32m2024-09-17 12:29:24.677\u001b[0m | \u001b[1mINFO    \u001b[0m | \u001b[36mcustomer_experience\u001b[0m:\u001b[36mrun\u001b[0m:\u001b[36m211\u001b[0m - \u001b[1mCache mentions: 0 ✅\u001b[0m\n",
      "\u001b[32m2024-09-17 12:29:24.677\u001b[0m | \u001b[33m\u001b[1mWARNING \u001b[0m | \u001b[36mcustomer_experience\u001b[0m:\u001b[36mrun\u001b[0m:\u001b[36m215\u001b[0m - \u001b[33m\u001b[1mSummarization expanded too much, which is a sign of hallucination, returning empty result.\u001b[0m\n",
      "\u001b[32m2024-09-17 12:29:24.995\u001b[0m | \u001b[1mINFO    \u001b[0m | \u001b[36mscrapfly_scrapers.glassdoor\u001b[0m:\u001b[36mscrape_reviews\u001b[0m:\u001b[36m105\u001b[0m - \u001b[1mscraping reviews from https://www.glassdoor.com/Reviews/Kevala-Care-Reviews-E5145912.htm\u001b[0m\n",
      "\u001b[32m2024-09-17 12:29:46.632\u001b[0m | \u001b[1mINFO    \u001b[0m | \u001b[36mscrapfly_scrapers.glassdoor\u001b[0m:\u001b[36mscrape_reviews\u001b[0m:\u001b[36m113\u001b[0m - \u001b[1mscraped first page of reviews of https://www.glassdoor.com/Reviews/Kevala-Care-Reviews-E5145912.htm, scraping remaining 1 pages\u001b[0m\n",
      "\u001b[32m2024-09-17 12:30:05.164\u001b[0m | \u001b[1mINFO    \u001b[0m | \u001b[36mscrapfly_scrapers.glassdoor\u001b[0m:\u001b[36mscrape_reviews\u001b[0m:\u001b[36m123\u001b[0m - \u001b[1mscraped 13 reviews from https://www.glassdoor.com/Reviews/Kevala-Care-Reviews-E5145912.htm in 2 pages\u001b[0m\n",
      "\u001b[32m2024-09-17 12:30:17.966\u001b[0m | \u001b[1mINFO    \u001b[0m | \u001b[36mglassdoor.summarizer\u001b[0m:\u001b[36msummarize\u001b[0m:\u001b[36m60\u001b[0m - \u001b[1m4,397 -> 4,448 chars (101%) \u001b[0m\n",
      "\u001b[32m2024-09-17 12:30:17.967\u001b[0m | \u001b[1mINFO    \u001b[0m | \u001b[36mglassdoor.summarizer\u001b[0m:\u001b[36msummarize\u001b[0m:\u001b[36m60\u001b[0m - \u001b[1mExtractive fraction: 51% \u001b[0m\n",
      "\u001b[32m2024-09-17 12:30:17.967\u001b[0m | \u001b[1mINFO    \u001b[0m | \u001b[36mglassdoor.summarizer\u001b[0m:\u001b[36msummarize\u001b[0m:\u001b[36m60\u001b[0m - \u001b[1mPercent of URLs in sources: 100% ✅\u001b[0m\n",
      "\u001b[32m2024-09-17 12:30:17.968\u001b[0m | \u001b[1mINFO    \u001b[0m | \u001b[36mglassdoor.summarizer\u001b[0m:\u001b[36msummarize\u001b[0m:\u001b[36m60\u001b[0m - \u001b[1mCitation density: 38.2% (percent of output used by URLs/link syntax) \u001b[0m\n",
      "\u001b[32m2024-09-17 12:30:17.968\u001b[0m | \u001b[1mINFO    \u001b[0m | \u001b[36mglassdoor.summarizer\u001b[0m:\u001b[36msummarize\u001b[0m:\u001b[36m60\u001b[0m - \u001b[1mDistinct URLs (summary / input): 13 / 13\u001b[0m\n",
      "\u001b[32m2024-09-17 12:30:17.968\u001b[0m | \u001b[1mINFO    \u001b[0m | \u001b[36mglassdoor.summarizer\u001b[0m:\u001b[36msummarize\u001b[0m:\u001b[36m60\u001b[0m - \u001b[1mSuspicious URLs: set()\u001b[0m\n",
      "\u001b[32m2024-09-17 12:30:17.969\u001b[0m | \u001b[1mINFO    \u001b[0m | \u001b[36mglassdoor.summarizer\u001b[0m:\u001b[36msummarize\u001b[0m:\u001b[36m60\u001b[0m - \u001b[1mCache mentions: 0 ✅\u001b[0m\n",
      "\u001b[32m2024-09-17 12:31:15.048\u001b[0m | \u001b[33m\u001b[1mWARNING \u001b[0m | \u001b[36mnews.scrape\u001b[0m:\u001b[36mrequest_article\u001b[0m:\u001b[36m33\u001b[0m - \u001b[33m\u001b[1mTimeout on https://www.citymarket.com/p/kevala-organic-sesame-tahini-16-oz-454-g-/0081653601101\u001b[0m\n",
      "\u001b[32m2024-09-17 12:31:22.059\u001b[0m | \u001b[33m\u001b[1mWARNING \u001b[0m | \u001b[36mnews.scrape\u001b[0m:\u001b[36mrequest_article\u001b[0m:\u001b[36m33\u001b[0m - \u001b[33m\u001b[1mTimeout on https://www.kroger.com/p/kevala-organic-coconut-butter-16-oz-453-g-/0081653601108\u001b[0m\n",
      "\u001b[32m2024-09-17 12:31:33.768\u001b[0m | \u001b[33m\u001b[1mWARNING \u001b[0m | \u001b[36mnews.scrape\u001b[0m:\u001b[36mrequest_article\u001b[0m:\u001b[36m33\u001b[0m - \u001b[33m\u001b[1mTimeout on https://www.qfc.com/q/black+sesame+seed\u001b[0m\n",
      "\u001b[32m2024-09-17 12:31:47.080\u001b[0m | \u001b[1mINFO    \u001b[0m | \u001b[36mcore\u001b[0m:\u001b[36mshorten_markdown\u001b[0m:\u001b[36m230\u001b[0m - \u001b[1m117,045 -> 115,039 chars (98% of original)\u001b[0m\n",
      "\u001b[32m2024-09-17 12:32:00.654\u001b[0m | \u001b[1mINFO    \u001b[0m | \u001b[36mcore\u001b[0m:\u001b[36munshorten_markdown\u001b[0m:\u001b[36m249\u001b[0m - \u001b[1m4,421 -> 4,968 chars (112% of original)\u001b[0m\n",
      "\u001b[32m2024-09-17 12:32:00.654\u001b[0m | \u001b[1mINFO    \u001b[0m | \u001b[36mnews.summarize\u001b[0m:\u001b[36msummarize\u001b[0m:\u001b[36m95\u001b[0m - \u001b[1m117,045 -> 4,968 chars (4%) \u001b[0m\n",
      "\u001b[32m2024-09-17 12:32:00.663\u001b[0m | \u001b[1mINFO    \u001b[0m | \u001b[36mnews.summarize\u001b[0m:\u001b[36msummarize\u001b[0m:\u001b[36m95\u001b[0m - \u001b[1mExtractive fraction: 20% \u001b[0m\n",
      "\u001b[32m2024-09-17 12:32:00.665\u001b[0m | \u001b[1mINFO    \u001b[0m | \u001b[36mnews.summarize\u001b[0m:\u001b[36msummarize\u001b[0m:\u001b[36m95\u001b[0m - \u001b[1mPercent of URLs in sources: 80% ❌\u001b[0m\n",
      "\u001b[32m2024-09-17 12:32:00.665\u001b[0m | \u001b[1mINFO    \u001b[0m | \u001b[36mnews.summarize\u001b[0m:\u001b[36msummarize\u001b[0m:\u001b[36m95\u001b[0m - \u001b[1mCitation density: 16.4% (percent of output used by URLs/link syntax) \u001b[0m\n",
      "\u001b[32m2024-09-17 12:32:00.666\u001b[0m | \u001b[1mINFO    \u001b[0m | \u001b[36mnews.summarize\u001b[0m:\u001b[36msummarize\u001b[0m:\u001b[36m95\u001b[0m - \u001b[1mDistinct URLs (summary / input): 5 / 34\u001b[0m\n",
      "\u001b[32m2024-09-17 12:32:00.666\u001b[0m | \u001b[1mINFO    \u001b[0m | \u001b[36mnews.summarize\u001b[0m:\u001b[36msummarize\u001b[0m:\u001b[36m95\u001b[0m - \u001b[1mSuspicious URLs: {'https://www.kevala.care'}\u001b[0m\n",
      "\u001b[32m2024-09-17 12:32:00.667\u001b[0m | \u001b[1mINFO    \u001b[0m | \u001b[36mnews.summarize\u001b[0m:\u001b[36msummarize\u001b[0m:\u001b[36m95\u001b[0m - \u001b[1mCache mentions: 0 ✅\u001b[0m\n",
      "\u001b[32m2024-09-17 12:32:00.759\u001b[0m | \u001b[1mINFO    \u001b[0m | \u001b[36mcore\u001b[0m:\u001b[36mshorten_markdown\u001b[0m:\u001b[36m230\u001b[0m - \u001b[1m3,539 -> 3,407 chars (96% of original)\u001b[0m\n",
      "\u001b[32m2024-09-17 12:32:00.760\u001b[0m | \u001b[1mINFO    \u001b[0m | \u001b[36mcore\u001b[0m:\u001b[36mshorten_markdown\u001b[0m:\u001b[36m230\u001b[0m - \u001b[1m4,968 -> 4,427 chars (89% of original)\u001b[0m\n",
      "\u001b[32m2024-09-17 12:32:32.064\u001b[0m | \u001b[1mINFO    \u001b[0m | \u001b[36mcore\u001b[0m:\u001b[36munshorten_markdown\u001b[0m:\u001b[36m249\u001b[0m - \u001b[1m4,964 -> 5,657 chars (114% of original)\u001b[0m\n",
      "\u001b[32m2024-09-17 12:32:32.064\u001b[0m | \u001b[1mINFO    \u001b[0m | \u001b[36munified\u001b[0m:\u001b[36mrun\u001b[0m:\u001b[36m354\u001b[0m - \u001b[1m8,509 -> 5,657 chars (66%) \u001b[0m\n",
      "\u001b[32m2024-09-17 12:32:32.066\u001b[0m | \u001b[1mINFO    \u001b[0m | \u001b[36munified\u001b[0m:\u001b[36mrun\u001b[0m:\u001b[36m354\u001b[0m - \u001b[1mExtractive fraction: 53% \u001b[0m\n",
      "\u001b[32m2024-09-17 12:32:32.066\u001b[0m | \u001b[1mINFO    \u001b[0m | \u001b[36munified\u001b[0m:\u001b[36mrun\u001b[0m:\u001b[36m354\u001b[0m - \u001b[1mPercent of URLs in sources: 100% ✅\u001b[0m\n",
      "\u001b[32m2024-09-17 12:32:32.067\u001b[0m | \u001b[1mINFO    \u001b[0m | \u001b[36munified\u001b[0m:\u001b[36mrun\u001b[0m:\u001b[36m354\u001b[0m - \u001b[1mCitation density: 22.0% (percent of output used by URLs/link syntax) \u001b[0m\n",
      "\u001b[32m2024-09-17 12:32:32.067\u001b[0m | \u001b[1mINFO    \u001b[0m | \u001b[36munified\u001b[0m:\u001b[36mrun\u001b[0m:\u001b[36m354\u001b[0m - \u001b[1mDistinct URLs (summary / input): 14 / 14\u001b[0m\n",
      "\u001b[32m2024-09-17 12:32:32.068\u001b[0m | \u001b[1mINFO    \u001b[0m | \u001b[36munified\u001b[0m:\u001b[36mrun\u001b[0m:\u001b[36m354\u001b[0m - \u001b[1mSuspicious URLs: set()\u001b[0m\n",
      "\u001b[32m2024-09-17 12:32:32.070\u001b[0m | \u001b[1mINFO    \u001b[0m | \u001b[36munified\u001b[0m:\u001b[36mrun\u001b[0m:\u001b[36m354\u001b[0m - \u001b[1mCache mentions: 0 ✅\u001b[0m\n",
      "\u001b[32m2024-09-17 12:32:32.090\u001b[0m | \u001b[1mINFO    \u001b[0m | \u001b[36munified\u001b[0m:\u001b[36mto_markdown_file\u001b[0m:\u001b[36m240\u001b[0m - \u001b[1mWritten to /home/keith/company-detective/output/Kevala/Kevala_20240917_123232.md\u001b[0m\n"
     ]
    }
   ],
   "source": [
    "# Set the log level\n",
    "import sys\n",
    "from loguru import logger\n",
    "logger.remove()\n",
    "logger.add(sys.stderr, level=\"INFO\")\n",
    "\n",
    "import unified\n",
    "\n",
    "unified_result = await unified.run(\n",
    "    Seed.init(\"Kevala\", domain=\"kevala.care\"), \n",
    "    num_reddit_threads=10, \n",
    "    max_glassdoor_review_pages=5, \n",
    "    max_glassdoor_job_pages=0,\n",
    "    max_news_articles=40,\n",
    "    # glassdoor_url=\"https://www.glassdoor.com/Reviews/Pomelo-Care-Reviews-E9429297.htm\"\n",
    "    )\n",
    "\n",
    "markdown_file = unified_result.to_markdown_file()"
   ]
  },
  {
   "cell_type": "code",
   "execution_count": 9,
   "metadata": {},
   "outputs": [
    {
     "name": "stderr",
     "output_type": "stream",
     "text": [
      "\u001b[32m2024-09-17 12:32:32.109\u001b[0m | \u001b[1mINFO    \u001b[0m | \u001b[36munified\u001b[0m:\u001b[36mto_html_file\u001b[0m:\u001b[36m261\u001b[0m - \u001b[1mWritten to /home/keith/company-detective/output/Kevala/Kevala_20240917_123232.html\u001b[0m\n"
     ]
    }
   ],
   "source": [
    "html_file = unified_result.to_html_file()"
   ]
  },
  {
   "cell_type": "code",
   "execution_count": 10,
   "metadata": {},
   "outputs": [
    {
     "data": {
      "text/plain": [
       "'http://company-detective.s3-website-us-west-2.amazonaws.com/reports/Kevala_20240917_123232.html'"
      ]
     },
     "execution_count": 10,
     "metadata": {},
     "output_type": "execute_result"
    }
   ],
   "source": [
    "from publish import publish_to_s3\n",
    "\n",
    "publish_to_s3(html_file)"
   ]
  },
  {
   "cell_type": "code",
   "execution_count": null,
   "metadata": {},
   "outputs": [],
   "source": []
  }
 ],
 "metadata": {
  "kernelspec": {
   "display_name": ".venv",
   "language": "python",
   "name": "python3"
  },
  "language_info": {
   "codemirror_mode": {
    "name": "ipython",
    "version": 3
   },
   "file_extension": ".py",
   "mimetype": "text/x-python",
   "name": "python",
   "nbconvert_exporter": "python",
   "pygments_lexer": "ipython3",
   "version": "3.10.12"
  }
 },
 "nbformat": 4,
 "nbformat_minor": 2
}
