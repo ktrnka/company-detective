{
 "cells": [
  {
   "cell_type": "code",
   "execution_count": 1,
   "metadata": {},
   "outputs": [],
   "source": [
    "from core import Seed, init\n",
    "\n",
    "init()"
   ]
  },
  {
   "cell_type": "code",
   "execution_count": 2,
   "metadata": {},
   "outputs": [],
   "source": [
    "# # optionally, help find the URL for the seed\n",
    "# from google_search import search\n",
    "\n",
    "# for result in search(\"Imagine Pediatics\"):\n",
    "#     print(result)"
   ]
  },
  {
   "cell_type": "code",
   "execution_count": 3,
   "metadata": {},
   "outputs": [
    {
     "name": "stderr",
     "output_type": "stream",
     "text": [
      "\u001b[32m2024-09-04 18:12:08.760\u001b[0m | \u001b[1mINFO    \u001b[0m | \u001b[36mcompany_webpage\u001b[0m:\u001b[36mrun\u001b[0m:\u001b[36m65\u001b[0m - \u001b[1m70,192 -> 4,021 chars (6%) \u001b[0m\n",
      "\u001b[32m2024-09-04 18:12:08.765\u001b[0m | \u001b[1mINFO    \u001b[0m | \u001b[36mcompany_webpage\u001b[0m:\u001b[36mrun\u001b[0m:\u001b[36m65\u001b[0m - \u001b[1mExtractive fraction: 9% \u001b[0m\n",
      "\u001b[32m2024-09-04 18:12:08.767\u001b[0m | \u001b[1mINFO    \u001b[0m | \u001b[36mcompany_webpage\u001b[0m:\u001b[36mrun\u001b[0m:\u001b[36m65\u001b[0m - \u001b[1mPercent of URLs in sources: 89% ❌\u001b[0m\n",
      "\u001b[32m2024-09-04 18:12:08.767\u001b[0m | \u001b[1mINFO    \u001b[0m | \u001b[36mcompany_webpage\u001b[0m:\u001b[36mrun\u001b[0m:\u001b[36m65\u001b[0m - \u001b[1mCitation density: 12.8% (percent of output used by URLs/link syntax) \u001b[0m\n",
      "\u001b[32m2024-09-04 18:12:08.768\u001b[0m | \u001b[1mINFO    \u001b[0m | \u001b[36mcompany_webpage\u001b[0m:\u001b[36mrun\u001b[0m:\u001b[36m65\u001b[0m - \u001b[1mDistinct URLs (summary / input): 9 / 30\u001b[0m\n",
      "\u001b[32m2024-09-04 18:12:08.768\u001b[0m | \u001b[1mINFO    \u001b[0m | \u001b[36mcompany_webpage\u001b[0m:\u001b[36mrun\u001b[0m:\u001b[36m65\u001b[0m - \u001b[1mSuspicious URLs: {'https://www.singularity6.com/news/palia-community-demonstrates-player-excitement-and-appeal-of-new-ip'}\u001b[0m\n",
      "\u001b[32m2024-09-04 18:12:08.769\u001b[0m | \u001b[1mINFO    \u001b[0m | \u001b[36mcompany_webpage\u001b[0m:\u001b[36mrun\u001b[0m:\u001b[36m65\u001b[0m - \u001b[1mCache mentions: 0 ✅\u001b[0m\n",
      "\u001b[32m2024-09-04 18:12:15.987\u001b[0m | \u001b[1mINFO    \u001b[0m | \u001b[36mcore\u001b[0m:\u001b[36mshorten_markdown\u001b[0m:\u001b[36m230\u001b[0m - \u001b[1m46,890 -> 37,534 chars (80% of original)\u001b[0m\n",
      "\u001b[32m2024-09-04 18:12:23.514\u001b[0m | \u001b[1mINFO    \u001b[0m | \u001b[36mcore\u001b[0m:\u001b[36munshorten_markdown\u001b[0m:\u001b[36m249\u001b[0m - \u001b[1m2,253 -> 3,218 chars (143% of original)\u001b[0m\n",
      "\u001b[32m2024-09-04 18:12:23.515\u001b[0m | \u001b[1mINFO    \u001b[0m | \u001b[36mgeneral_search\u001b[0m:\u001b[36msummarize\u001b[0m:\u001b[36m124\u001b[0m - \u001b[1m46,890 -> 3,218 chars (7%) \u001b[0m\n",
      "\u001b[32m2024-09-04 18:12:23.520\u001b[0m | \u001b[1mINFO    \u001b[0m | \u001b[36mgeneral_search\u001b[0m:\u001b[36msummarize\u001b[0m:\u001b[36m124\u001b[0m - \u001b[1mExtractive fraction: 71% \u001b[0m\n",
      "\u001b[32m2024-09-04 18:12:23.521\u001b[0m | \u001b[1mINFO    \u001b[0m | \u001b[36mgeneral_search\u001b[0m:\u001b[36msummarize\u001b[0m:\u001b[36m124\u001b[0m - \u001b[1mPercent of URLs in sources: 100% ✅\u001b[0m\n",
      "\u001b[32m2024-09-04 18:12:23.522\u001b[0m | \u001b[1mINFO    \u001b[0m | \u001b[36mgeneral_search\u001b[0m:\u001b[36msummarize\u001b[0m:\u001b[36m124\u001b[0m - \u001b[1mCitation density: 50.5% (percent of output used by URLs/link syntax) \u001b[0m\n",
      "\u001b[32m2024-09-04 18:12:23.523\u001b[0m | \u001b[1mINFO    \u001b[0m | \u001b[36mgeneral_search\u001b[0m:\u001b[36msummarize\u001b[0m:\u001b[36m124\u001b[0m - \u001b[1mDistinct URLs (summary / input): 26 / 122\u001b[0m\n",
      "\u001b[32m2024-09-04 18:12:23.524\u001b[0m | \u001b[1mINFO    \u001b[0m | \u001b[36mgeneral_search\u001b[0m:\u001b[36msummarize\u001b[0m:\u001b[36m124\u001b[0m - \u001b[1mSuspicious URLs: set()\u001b[0m\n",
      "\u001b[32m2024-09-04 18:12:23.524\u001b[0m | \u001b[1mINFO    \u001b[0m | \u001b[36mgeneral_search\u001b[0m:\u001b[36msummarize\u001b[0m:\u001b[36m124\u001b[0m - \u001b[1mCache mentions: 0 ✅\u001b[0m\n",
      "\u001b[32m2024-09-04 18:12:23.916\u001b[0m | \u001b[1mINFO    \u001b[0m | \u001b[36mscrapfly_scrapers.crunchbase\u001b[0m:\u001b[36mscrape_company\u001b[0m:\u001b[36m62\u001b[0m - \u001b[1mscraping company: https://www.crunchbase.com/organization/singularity-6/people\u001b[0m\n",
      "CRITICAL:root:<-- 422 | ERR::SCRAPE::COST_BUDGET_LIMIT - Cost budget has been reached, you must increase the budget to pass this target - The cost of the scrape is exceeding the budget of 50, would require 51 API credit. Checkout the related doc: https://scrapfly.io/docs/scrape-api/anti-scraping-protection\n",
      "\u001b[32m2024-09-04 18:12:25.630\u001b[0m | \u001b[33m\u001b[1mWARNING \u001b[0m | \u001b[36mcrunchbase\u001b[0m:\u001b[36mrun\u001b[0m:\u001b[36m59\u001b[0m - \u001b[33m\u001b[1mFailed to process Crunchbase (ScrapflyScrapeError), skipping: <-- 422 | ERR::SCRAPE::COST_BUDGET_LIMIT - Cost budget has been reached, you must increase the budget to pass this target - The cost of the scrape is exceeding the budget of 50, would require 51 API credit. Checkout the related doc: https://scrapfly.io/docs/scrape-api/anti-scraping-protection\u001b[0m\n",
      "\u001b[32m2024-09-04 18:12:25.630\u001b[0m | \u001b[33m\u001b[1mWARNING \u001b[0m | \u001b[36munified\u001b[0m:\u001b[36mrun\u001b[0m:\u001b[36m292\u001b[0m - \u001b[33m\u001b[1mNo Crunchbase info found\u001b[0m\n",
      "\u001b[32m2024-09-04 18:12:30.589\u001b[0m | \u001b[1mINFO    \u001b[0m | \u001b[36mcustomer_experience\u001b[0m:\u001b[36mrun\u001b[0m:\u001b[36m121\u001b[0m - \u001b[1mTotal reviews: 510\u001b[0m\n",
      "\u001b[32m2024-09-04 18:12:30.592\u001b[0m | \u001b[1mINFO    \u001b[0m | \u001b[36mcustomer_experience\u001b[0m:\u001b[36mrun\u001b[0m:\u001b[36m129\u001b[0m - \u001b[1mPacked reviews: 12\u001b[0m\n",
      "\u001b[32m2024-09-04 18:12:30.664\u001b[0m | \u001b[1mINFO    \u001b[0m | \u001b[36mcore\u001b[0m:\u001b[36mshorten_markdown\u001b[0m:\u001b[36m230\u001b[0m - \u001b[1m36,643 -> 29,794 chars (81% of original)\u001b[0m\n",
      "\u001b[32m2024-09-04 18:12:30.665\u001b[0m | \u001b[1mINFO    \u001b[0m | \u001b[36mcore\u001b[0m:\u001b[36mshorten_markdown\u001b[0m:\u001b[36m230\u001b[0m - \u001b[1m42,713 -> 41,781 chars (98% of original)\u001b[0m\n",
      "\u001b[32m2024-09-04 18:12:30.666\u001b[0m | \u001b[1mINFO    \u001b[0m | \u001b[36mcore\u001b[0m:\u001b[36mshorten_markdown\u001b[0m:\u001b[36m230\u001b[0m - \u001b[1m38,847 -> 37,608 chars (97% of original)\u001b[0m\n",
      "\u001b[32m2024-09-04 18:12:30.667\u001b[0m | \u001b[1mINFO    \u001b[0m | \u001b[36mcore\u001b[0m:\u001b[36mshorten_markdown\u001b[0m:\u001b[36m230\u001b[0m - \u001b[1m52,100 -> 44,875 chars (86% of original)\u001b[0m\n",
      "\u001b[32m2024-09-04 18:12:30.670\u001b[0m | \u001b[1mINFO    \u001b[0m | \u001b[36mcore\u001b[0m:\u001b[36mshorten_markdown\u001b[0m:\u001b[36m230\u001b[0m - \u001b[1m52,039 -> 46,800 chars (90% of original)\u001b[0m\n",
      "\u001b[32m2024-09-04 18:12:30.671\u001b[0m | \u001b[1mINFO    \u001b[0m | \u001b[36mcore\u001b[0m:\u001b[36mshorten_markdown\u001b[0m:\u001b[36m230\u001b[0m - \u001b[1m43,689 -> 33,783 chars (77% of original)\u001b[0m\n",
      "\u001b[32m2024-09-04 18:12:30.672\u001b[0m | \u001b[1mINFO    \u001b[0m | \u001b[36mcore\u001b[0m:\u001b[36mshorten_markdown\u001b[0m:\u001b[36m230\u001b[0m - \u001b[1m47,029 -> 42,627 chars (91% of original)\u001b[0m\n",
      "\u001b[32m2024-09-04 18:12:30.674\u001b[0m | \u001b[1mINFO    \u001b[0m | \u001b[36mcore\u001b[0m:\u001b[36mshorten_markdown\u001b[0m:\u001b[36m230\u001b[0m - \u001b[1m68,017 -> 66,491 chars (98% of original)\u001b[0m\n",
      "\u001b[32m2024-09-04 18:12:30.676\u001b[0m | \u001b[1mINFO    \u001b[0m | \u001b[36mcore\u001b[0m:\u001b[36mshorten_markdown\u001b[0m:\u001b[36m230\u001b[0m - \u001b[1m84,910 -> 72,477 chars (85% of original)\u001b[0m\n",
      "\u001b[32m2024-09-04 18:12:30.678\u001b[0m | \u001b[1mINFO    \u001b[0m | \u001b[36mcore\u001b[0m:\u001b[36mshorten_markdown\u001b[0m:\u001b[36m230\u001b[0m - \u001b[1m91,538 -> 76,315 chars (83% of original)\u001b[0m\n",
      "\u001b[32m2024-09-04 18:12:30.679\u001b[0m | \u001b[1mINFO    \u001b[0m | \u001b[36mcore\u001b[0m:\u001b[36mshorten_markdown\u001b[0m:\u001b[36m230\u001b[0m - \u001b[1m55,106 -> 48,055 chars (87% of original)\u001b[0m\n",
      "\u001b[32m2024-09-04 18:12:30.680\u001b[0m | \u001b[1mINFO    \u001b[0m | \u001b[36mcore\u001b[0m:\u001b[36mshorten_markdown\u001b[0m:\u001b[36m230\u001b[0m - \u001b[1m59,552 -> 56,458 chars (95% of original)\u001b[0m\n",
      "\u001b[32m2024-09-04 18:12:31.187\u001b[0m | \u001b[1mINFO    \u001b[0m | \u001b[36mcore\u001b[0m:\u001b[36munshorten_markdown\u001b[0m:\u001b[36m249\u001b[0m - \u001b[1m6,658 -> 8,351 chars (125% of original)\u001b[0m\n",
      "\u001b[32m2024-09-04 18:12:31.188\u001b[0m | \u001b[1mINFO    \u001b[0m | \u001b[36mcustomer_experience\u001b[0m:\u001b[36mrun\u001b[0m:\u001b[36m159\u001b[0m - \u001b[1m672,194 -> 8,351 chars (1%) \u001b[0m\n",
      "\u001b[32m2024-09-04 18:12:31.244\u001b[0m | \u001b[1mINFO    \u001b[0m | \u001b[36mcustomer_experience\u001b[0m:\u001b[36mrun\u001b[0m:\u001b[36m159\u001b[0m - \u001b[1mExtractive fraction: 67% \u001b[0m\n",
      "\u001b[32m2024-09-04 18:12:31.246\u001b[0m | \u001b[1mINFO    \u001b[0m | \u001b[36mcustomer_experience\u001b[0m:\u001b[36mrun\u001b[0m:\u001b[36m159\u001b[0m - \u001b[1mPercent of URLs in sources: 100% ✅\u001b[0m\n",
      "\u001b[32m2024-09-04 18:12:31.247\u001b[0m | \u001b[1mINFO    \u001b[0m | \u001b[36mcustomer_experience\u001b[0m:\u001b[36mrun\u001b[0m:\u001b[36m159\u001b[0m - \u001b[1mCitation density: 29.9% (percent of output used by URLs/link syntax) \u001b[0m\n",
      "\u001b[32m2024-09-04 18:12:31.249\u001b[0m | \u001b[1mINFO    \u001b[0m | \u001b[36mcustomer_experience\u001b[0m:\u001b[36mrun\u001b[0m:\u001b[36m159\u001b[0m - \u001b[1mDistinct URLs (summary / input): 37 / 1378\u001b[0m\n",
      "\u001b[32m2024-09-04 18:12:31.251\u001b[0m | \u001b[1mINFO    \u001b[0m | \u001b[36mcustomer_experience\u001b[0m:\u001b[36mrun\u001b[0m:\u001b[36m159\u001b[0m - \u001b[1mSuspicious URLs: set()\u001b[0m\n",
      "\u001b[32m2024-09-04 18:12:31.251\u001b[0m | \u001b[1mINFO    \u001b[0m | \u001b[36mcustomer_experience\u001b[0m:\u001b[36mrun\u001b[0m:\u001b[36m159\u001b[0m - \u001b[1mCache mentions: 0 ✅\u001b[0m\n",
      "\u001b[32m2024-09-04 18:12:31.537\u001b[0m | \u001b[1mINFO    \u001b[0m | \u001b[36mglassdoor.summarizer\u001b[0m:\u001b[36msummarize\u001b[0m:\u001b[36m59\u001b[0m - \u001b[1m25,058 -> 4,650 chars (19%) \u001b[0m\n",
      "\u001b[32m2024-09-04 18:12:31.540\u001b[0m | \u001b[1mINFO    \u001b[0m | \u001b[36mglassdoor.summarizer\u001b[0m:\u001b[36msummarize\u001b[0m:\u001b[36m59\u001b[0m - \u001b[1mExtractive fraction: 68% \u001b[0m\n",
      "\u001b[32m2024-09-04 18:12:31.541\u001b[0m | \u001b[1mINFO    \u001b[0m | \u001b[36mglassdoor.summarizer\u001b[0m:\u001b[36msummarize\u001b[0m:\u001b[36m59\u001b[0m - \u001b[1mPercent of URLs in sources: 100% ✅\u001b[0m\n",
      "\u001b[32m2024-09-04 18:12:31.541\u001b[0m | \u001b[1mINFO    \u001b[0m | \u001b[36mglassdoor.summarizer\u001b[0m:\u001b[36msummarize\u001b[0m:\u001b[36m59\u001b[0m - \u001b[1mCitation density: 32.1% (percent of output used by URLs/link syntax) \u001b[0m\n",
      "\u001b[32m2024-09-04 18:12:31.542\u001b[0m | \u001b[1mINFO    \u001b[0m | \u001b[36mglassdoor.summarizer\u001b[0m:\u001b[36msummarize\u001b[0m:\u001b[36m59\u001b[0m - \u001b[1mDistinct URLs (summary / input): 13 / 22\u001b[0m\n",
      "\u001b[32m2024-09-04 18:12:31.542\u001b[0m | \u001b[1mINFO    \u001b[0m | \u001b[36mglassdoor.summarizer\u001b[0m:\u001b[36msummarize\u001b[0m:\u001b[36m59\u001b[0m - \u001b[1mSuspicious URLs: set()\u001b[0m\n",
      "\u001b[32m2024-09-04 18:12:31.543\u001b[0m | \u001b[1mINFO    \u001b[0m | \u001b[36mglassdoor.summarizer\u001b[0m:\u001b[36msummarize\u001b[0m:\u001b[36m59\u001b[0m - \u001b[1mCache mentions: 0 ✅\u001b[0m\n",
      "\u001b[32m2024-09-04 18:12:40.789\u001b[0m | \u001b[1mINFO    \u001b[0m | \u001b[36mcore\u001b[0m:\u001b[36mshorten_markdown\u001b[0m:\u001b[36m230\u001b[0m - \u001b[1m157,477 -> 155,215 chars (99% of original)\u001b[0m\n",
      "\u001b[32m2024-09-04 18:13:00.028\u001b[0m | \u001b[1mINFO    \u001b[0m | \u001b[36mcore\u001b[0m:\u001b[36munshorten_markdown\u001b[0m:\u001b[36m249\u001b[0m - \u001b[1m4,467 -> 5,258 chars (118% of original)\u001b[0m\n",
      "\u001b[32m2024-09-04 18:13:00.029\u001b[0m | \u001b[1mINFO    \u001b[0m | \u001b[36mnews.summarize\u001b[0m:\u001b[36msummarize\u001b[0m:\u001b[36m94\u001b[0m - \u001b[1m157,477 -> 5,258 chars (3%) \u001b[0m\n",
      "\u001b[32m2024-09-04 18:13:00.040\u001b[0m | \u001b[1mINFO    \u001b[0m | \u001b[36mnews.summarize\u001b[0m:\u001b[36msummarize\u001b[0m:\u001b[36m94\u001b[0m - \u001b[1mExtractive fraction: 24% \u001b[0m\n",
      "\u001b[32m2024-09-04 18:13:00.041\u001b[0m | \u001b[1mINFO    \u001b[0m | \u001b[36mnews.summarize\u001b[0m:\u001b[36msummarize\u001b[0m:\u001b[36m94\u001b[0m - \u001b[1mPercent of URLs in sources: 100% ✅\u001b[0m\n",
      "\u001b[32m2024-09-04 18:13:00.042\u001b[0m | \u001b[1mINFO    \u001b[0m | \u001b[36mnews.summarize\u001b[0m:\u001b[36msummarize\u001b[0m:\u001b[36m94\u001b[0m - \u001b[1mCitation density: 20.6% (percent of output used by URLs/link syntax) \u001b[0m\n",
      "\u001b[32m2024-09-04 18:13:00.043\u001b[0m | \u001b[1mINFO    \u001b[0m | \u001b[36mnews.summarize\u001b[0m:\u001b[36msummarize\u001b[0m:\u001b[36m94\u001b[0m - \u001b[1mDistinct URLs (summary / input): 9 / 34\u001b[0m\n",
      "\u001b[32m2024-09-04 18:13:00.043\u001b[0m | \u001b[1mINFO    \u001b[0m | \u001b[36mnews.summarize\u001b[0m:\u001b[36msummarize\u001b[0m:\u001b[36m94\u001b[0m - \u001b[1mSuspicious URLs: set()\u001b[0m\n",
      "\u001b[32m2024-09-04 18:13:00.044\u001b[0m | \u001b[1mINFO    \u001b[0m | \u001b[36mnews.summarize\u001b[0m:\u001b[36msummarize\u001b[0m:\u001b[36m94\u001b[0m - \u001b[1mCache mentions: 0 ✅\u001b[0m\n",
      "\u001b[32m2024-09-04 18:13:00.132\u001b[0m | \u001b[1mINFO    \u001b[0m | \u001b[36mcore\u001b[0m:\u001b[36mshorten_markdown\u001b[0m:\u001b[36m230\u001b[0m - \u001b[1m4,021 -> 3,740 chars (93% of original)\u001b[0m\n",
      "\u001b[32m2024-09-04 18:13:00.133\u001b[0m | \u001b[1mINFO    \u001b[0m | \u001b[36mcore\u001b[0m:\u001b[36mshorten_markdown\u001b[0m:\u001b[36m230\u001b[0m - \u001b[1m5,258 -> 4,471 chars (85% of original)\u001b[0m\n",
      "\u001b[32m2024-09-04 18:13:15.038\u001b[0m | \u001b[1mINFO    \u001b[0m | \u001b[36mcore\u001b[0m:\u001b[36munshorten_markdown\u001b[0m:\u001b[36m249\u001b[0m - \u001b[1m6,673 -> 8,407 chars (126% of original)\u001b[0m\n",
      "\u001b[32m2024-09-04 18:13:15.039\u001b[0m | \u001b[1mINFO    \u001b[0m | \u001b[36munified\u001b[0m:\u001b[36mrun\u001b[0m:\u001b[36m345\u001b[0m - \u001b[1m9,281 -> 8,407 chars (91%) \u001b[0m\n",
      "\u001b[32m2024-09-04 18:13:15.042\u001b[0m | \u001b[1mINFO    \u001b[0m | \u001b[36munified\u001b[0m:\u001b[36mrun\u001b[0m:\u001b[36m345\u001b[0m - \u001b[1mExtractive fraction: 79% \u001b[0m\n",
      "\u001b[32m2024-09-04 18:13:15.043\u001b[0m | \u001b[1mINFO    \u001b[0m | \u001b[36munified\u001b[0m:\u001b[36mrun\u001b[0m:\u001b[36m345\u001b[0m - \u001b[1mPercent of URLs in sources: 100% ✅\u001b[0m\n",
      "\u001b[32m2024-09-04 18:13:15.044\u001b[0m | \u001b[1mINFO    \u001b[0m | \u001b[36munified\u001b[0m:\u001b[36mrun\u001b[0m:\u001b[36m345\u001b[0m - \u001b[1mCitation density: 31.1% (percent of output used by URLs/link syntax) \u001b[0m\n",
      "\u001b[32m2024-09-04 18:13:15.045\u001b[0m | \u001b[1mINFO    \u001b[0m | \u001b[36munified\u001b[0m:\u001b[36mrun\u001b[0m:\u001b[36m345\u001b[0m - \u001b[1mDistinct URLs (summary / input): 18 / 18\u001b[0m\n",
      "\u001b[32m2024-09-04 18:13:15.046\u001b[0m | \u001b[1mINFO    \u001b[0m | \u001b[36munified\u001b[0m:\u001b[36mrun\u001b[0m:\u001b[36m345\u001b[0m - \u001b[1mSuspicious URLs: set()\u001b[0m\n",
      "\u001b[32m2024-09-04 18:13:15.047\u001b[0m | \u001b[1mINFO    \u001b[0m | \u001b[36munified\u001b[0m:\u001b[36mrun\u001b[0m:\u001b[36m345\u001b[0m - \u001b[1mCache mentions: 0 ✅\u001b[0m\n",
      "\u001b[32m2024-09-04 18:13:15.053\u001b[0m | \u001b[1mINFO    \u001b[0m | \u001b[36munified\u001b[0m:\u001b[36mto_markdown_file\u001b[0m:\u001b[36m240\u001b[0m - \u001b[1mWritten to /home/keith/company-detective/output/Singularity_6_Palia/Singularity_6_Palia_20240904_181315.md\u001b[0m\n"
     ]
    }
   ],
   "source": [
    "# Set the log level\n",
    "import sys\n",
    "from loguru import logger\n",
    "logger.remove()\n",
    "logger.add(sys.stderr, level=\"INFO\")\n",
    "\n",
    "import unified\n",
    "\n",
    "unified_result = await unified.run(\n",
    "    Seed.init(\"Singularity 6\", \"Palia\", domain=\"singularity6.com\"), \n",
    "    num_reddit_threads=10, \n",
    "    max_glassdoor_review_pages=5, \n",
    "    max_glassdoor_job_pages=0,\n",
    "    max_news_articles=40,\n",
    "    # glassdoor_url=\"https://www.glassdoor.com/Reviews/Pomelo-Care-Reviews-E9429297.htm\"\n",
    "    )\n",
    "\n",
    "markdown_file = unified_result.to_markdown_file()"
   ]
  },
  {
   "cell_type": "code",
   "execution_count": 4,
   "metadata": {},
   "outputs": [
    {
     "name": "stderr",
     "output_type": "stream",
     "text": [
      "\u001b[32m2024-09-04 18:13:15.098\u001b[0m | \u001b[1mINFO    \u001b[0m | \u001b[36munified\u001b[0m:\u001b[36mto_html_file\u001b[0m:\u001b[36m261\u001b[0m - \u001b[1mWritten to /home/keith/company-detective/output/Singularity_6_Palia/Singularity_6_Palia_20240904_181315.html\u001b[0m\n"
     ]
    }
   ],
   "source": [
    "html_file = unified_result.to_html_file()"
   ]
  },
  {
   "cell_type": "code",
   "execution_count": 5,
   "metadata": {},
   "outputs": [
    {
     "data": {
      "text/plain": [
       "'http://company-detective.s3-website-us-west-2.amazonaws.com/reports/Singularity_6_Palia_20240904_181315.html'"
      ]
     },
     "execution_count": 5,
     "metadata": {},
     "output_type": "execute_result"
    }
   ],
   "source": [
    "from publish import publish_to_s3\n",
    "\n",
    "publish_to_s3(html_file)"
   ]
  },
  {
   "cell_type": "code",
   "execution_count": null,
   "metadata": {},
   "outputs": [],
   "source": []
  }
 ],
 "metadata": {
  "kernelspec": {
   "display_name": ".venv",
   "language": "python",
   "name": "python3"
  },
  "language_info": {
   "codemirror_mode": {
    "name": "ipython",
    "version": 3
   },
   "file_extension": ".py",
   "mimetype": "text/x-python",
   "name": "python",
   "nbconvert_exporter": "python",
   "pygments_lexer": "ipython3",
   "version": "3.10.12"
  }
 },
 "nbformat": 4,
 "nbformat_minor": 2
}
