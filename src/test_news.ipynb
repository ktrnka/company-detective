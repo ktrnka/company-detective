{
 "cells": [
  {
   "cell_type": "code",
   "execution_count": 1,
   "metadata": {},
   "outputs": [
    {
     "data": {
      "text/plain": [
       "'/home/keith/company-detective/.cache/langchain.sqlite'"
      ]
     },
     "execution_count": 1,
     "metadata": {},
     "output_type": "execute_result"
    }
   ],
   "source": [
    "from core import CompanyProduct, init_langchain_cache, init_requests_cache\n",
    "\n",
    "init_requests_cache()\n",
    "init_langchain_cache()\n",
    "\n"
   ]
  },
  {
   "cell_type": "code",
   "execution_count": 2,
   "metadata": {},
   "outputs": [],
   "source": [
    "import news\n",
    "import news.search\n",
    "import news.scrape\n",
    "\n",
    "# search, filter, and summarize!\n",
    "target = CompanyProduct(\"Singularity 6\", \"Palia\")\n",
    "\n",
    "search_results = news.search.find_news_articles(target, num_results=10)"
   ]
  },
  {
   "cell_type": "code",
   "execution_count": 3,
   "metadata": {},
   "outputs": [],
   "source": [
    "import news.summarize\n",
    "\n"
   ]
  },
  {
   "cell_type": "code",
   "execution_count": 4,
   "metadata": {},
   "outputs": [
    {
     "name": "stdout",
     "output_type": "stream",
     "text": [
      "get_article_text: Cache hit for https://www.gamedeveloper.com/business/report-palia-studio-singularity-6-lays-off-36-employees\n",
      "get_article_text: Cache hit for https://www.singularity6.com/news/studio-acquisition\n",
      "get_article_text: Cache hit for https://www.gamedeveloper.com/business/daybreak-acquires-struggling-palia-developer-singularity-6\n",
      "get_article_text: Cache hit for https://www.pcgamer.com/games/mmo/palia-studio-singularity-6-is-the-latest-studio-to-suffer-layoffs/\n",
      "get_article_text: Cache hit for https://www.daybreakgames.com/news/dbg-s6-acquisition-announcement\n",
      "get_article_text: Cache hit for https://palia.com/news/patch-177\n",
      "get_article_text: Cache hit for https://www.mmorpg.com/news/daybreak-games-has-acquired-palia-developer-singularity-6-2000132085\n",
      "get_article_text: Failed to get article from https://www.mmorpg.com/news/daybreak-games-has-acquired-palia-developer-singularity-6-2000132085: 403\n",
      "get_article_text: Cache hit for https://palia.com/news/patch-182\n",
      "get_article_text: Cache hit for https://massivelyop.com/2024/07/01/daybreak-bought-palia-studio-singularity-6-and-aims-to-bring-the-game-to-launch/\n",
      "get_article_text: Cache hit for https://palia.com/news/patch-180\n",
      "News: 9,599 characters of context, 5 articles\n",
      "News: The summary has 4,129 characters, 43% of the input\n",
      "# Comprehensive Analyst Report on Singularity 6 and Palia\n",
      "\n",
      "## Company Overview\n",
      "**Singularity 6** is a game development studio known for creating the cozy MMO, **Palia**. The studio has faced significant challenges recently, including layoffs and financial difficulties, but has also made strategic moves to secure its future.\n",
      "\n",
      "## Recent Developments\n",
      "\n",
      "### Layoffs\n",
      "On April 5, 2024, Singularity 6 announced layoffs affecting approximately 49 employees, which is about one-third of its workforce. This decision was part of a broader trend in the gaming industry, where many studios have been reducing staff due to financial pressures. The layoffs were confirmed by various employees on social media, with one environmental artist stating, \"Whelp, I've been laid off,\" and another developer mentioning they received the news while on vacation ([PC Gamer, April 2024](https://www.pcgamer.com/games/mmo/palia-studio-singularity-6-is-the-latest-studio-to-suffer-layoffs/)).\n",
      "\n",
      "### Acquisition by Daybreak Game Company\n",
      "In a surprising turn of events, Singularity 6 was acquired by **Daybreak Game Company** on July 1, 2024. This acquisition is seen as a positive development for the studio, as it provides access to additional resources and support to enhance Palia. Singularity 6 stated, \"Our team is absolutely thrilled to be joining forces with Daybreak Game Company,\" emphasizing that they will continue to operate independently under their co-founders while maintaining their vision and creative direction ([Massively OP, July 2024](https://massivelyop.com/2024/07/01/daybreak-bought-palia-studio-singularity-6-and-aims-to-bring-the-game-to-launch/)).\n",
      "\n",
      "## Product Information: Palia\n",
      "\n",
      "### Game Overview\n",
      "Palia is a free-to-play MMO that focuses on a cozy gaming experience, featuring farming, building, and social interactions. The game was initially released as an Epic Games exclusive and made its way to Steam on March 25, 2024. \n",
      "\n",
      "### User Reception\n",
      "Upon its release on Steam, Palia received a mixed reception, with over 3,700 user reviews leading to a \"Mixed\" rating. Players have praised its cozy vibes but criticized aspects such as slow progression, reliance on timers, and limited multiplayer features. There has been some confusion regarding its development status, as it is not in early access, yet the store page suggests it is a feature-complete game while it is still in beta ([PC Gamer, April 2024](https://www.pcgamer.com/games/mmo/palia-studio-singularity-6-is-the-latest-studio-to-suffer-layoffs/)).\n",
      "\n",
      "### Future Development Plans\n",
      "With the acquisition by Daybreak, Singularity 6 aims to enhance Palia by introducing new content, social features, and quality-of-life improvements. The studio's leadership has expressed optimism about the future, indicating that the acquisition will help elevate the game to meet player expectations ([Massively OP, July 2024](https://massivelyop.com/2024/07/01/daybreak-bought-palia-studio-singularity-6-and-aims-to-bring-the-game-to-launch/)).\n",
      "\n",
      "## Key Personnel\n",
      "While specific names of key personnel were not mentioned in the articles, it is noted that the studio will continue to operate under its co-founders, maintaining its creative direction post-acquisition.\n",
      "\n",
      "## Financial Context\n",
      "The gaming industry has seen a significant number of layoffs, with estimates suggesting around 8,000 job losses in 2024 alone, following a staggering 10,500 in 2023. Singularity 6's layoffs are part of this broader trend, highlighting the financial challenges faced by many studios in the current market ([PC Gamer, April 2024](https://www.pcgamer.com/games/mmo/palia-studio-singularity-6-is-the-latest-studio-to-suffer-layoffs/)).\n",
      "\n",
      "## Conclusion\n",
      "Singularity 6 is navigating a tumultuous period marked by layoffs and a recent acquisition by Daybreak Game Company. The future of Palia appears promising with the backing of a larger publisher, which may provide the necessary resources to enhance the game and improve its reception among players. For prospective candidates or investors, the studio's ability to adapt and innovate in a challenging environment will be crucial to its long-term success.\n"
     ]
    }
   ],
   "source": [
    "## OLD STYLE OF ARTICLES ##\n",
    "old_article_markdowns = {result.link: news.scrape.get_article_markdown(result.link) for result in search_results}\n",
    "\n",
    "old_article_markdown_list = [article for article in old_article_markdowns.values() if article]\n",
    "\n",
    "old_llm_result = news.summarize.summarize(target, old_article_markdown_list)\n",
    "\n",
    "print(old_llm_result.content)"
   ]
  },
  {
   "cell_type": "code",
   "execution_count": 5,
   "metadata": {},
   "outputs": [
    {
     "name": "stdout",
     "output_type": "stream",
     "text": [
      "request_article: Cache hit for https://www.gamedeveloper.com/business/report-palia-studio-singularity-6-lays-off-36-employees\n",
      "request_article: Cache hit for https://www.singularity6.com/news/studio-acquisition\n",
      "request_article: Cache hit for https://www.gamedeveloper.com/business/daybreak-acquires-struggling-palia-developer-singularity-6\n",
      "request_article: Cache hit for https://www.pcgamer.com/games/mmo/palia-studio-singularity-6-is-the-latest-studio-to-suffer-layoffs/\n",
      "request_article: Cache hit for https://www.daybreakgames.com/news/dbg-s6-acquisition-announcement\n",
      "request_article: Cache hit for https://palia.com/news/patch-177\n",
      "request_article: Cache hit for https://www.mmorpg.com/news/daybreak-games-has-acquired-palia-developer-singularity-6-2000132085\n",
      "request_article: Cache hit for https://palia.com/news/patch-182\n",
      "request_article: Cache hit for https://massivelyop.com/2024/07/01/daybreak-bought-palia-studio-singularity-6-and-aims-to-bring-the-game-to-launch/\n",
      "request_article: Cache hit for https://palia.com/news/patch-180\n",
      "News: 70,258 characters of context, 9 articles\n",
      "News: The summary has 4,478 characters, 6% of the input\n",
      "# Comprehensive Analyst Report on Singularity 6 and Palia\n",
      "\n",
      "## Company Overview\n",
      "**Singularity 6** is a game development studio based in Los Angeles, California, founded in 2018 by former Riot Games developers. The studio focuses on creating immersive online worlds that enhance players' lives through community-driven experiences. Their flagship product is **Palia**, a cozy multiplayer community simulation game.\n",
      "\n",
      "## Key Personnel\n",
      "- **Anthony Leung**: Co-founder and CEO of Singularity 6.\n",
      "- **Aidan Karabaich**: Co-founder and part of the leadership team.\n",
      "\n",
      "## Product Overview: Palia\n",
      "**Palia** is a multiplayer cozy community online game that combines elements of farming, crafting, homebuilding, and social interaction. It is designed to create a welcoming environment for players to build communities and engage in various activities together. The game is currently available in open beta on multiple platforms, including PC, Nintendo Switch, and Steam.\n",
      "\n",
      "### Key Features of Palia\n",
      "- **Gameplay**: Players can engage in farming, crafting, home decoration, fishing, hunting, and questing.\n",
      "- **Community Focus**: The game emphasizes social interactions and community building.\n",
      "- **Aesthetic**: The game has been compared to titles like *Stardew Valley* and *Animal Crossing* for its cozy vibes and gameplay style.\n",
      "\n",
      "## Financial Overview\n",
      "- **Funding**: Singularity 6 has raised nearly **$50 million** across multiple funding rounds since its inception.\n",
      "- **User Base**: Palia has attracted over **4 million players** since its launch, with **over 100,000 daily active players** as of June 2024.\n",
      "\n",
      "## Recent Developments\n",
      "### Acquisitions and Partnerships\n",
      "- **Acquisition by Daybreak Game Company**: On July 1, 2024, Singularity 6 was acquired by Daybreak Game Company, a subsidiary of Enad Global 7 AB. This acquisition is expected to provide Singularity 6 with additional resources and support to enhance Palia and expand its player community ([Daybreak Acquires Singularity 6 Announcement](https://www.daybreakgames.com/news/dbg-s6-acquisition-announcement)).\n",
      "  \n",
      "### Layoffs\n",
      "- **Staff Reductions**: Singularity 6 has faced significant layoffs, with **36 employees** laid off in May 2024, following a previous round of **49 layoffs** in April 2024. These layoffs represent about **40%** of the company's workforce and were described as necessary to navigate a \"tough economic period\" while continuing to support Palia ([Danielle Riendeau, Game Developer, May 2024](https://www.gamedeveloper.com/business/report-palia-studio-singularity-6-lays-off-36-employees)).\n",
      "\n",
      "## Product Development and Updates\n",
      "- **Open Beta Launch**: Palia was launched in open beta in August 2023 and has since been made available on various platforms, including the Epic Game Store, Nintendo Switch, and Steam.\n",
      "- **Game Updates**: The development team has been actively releasing patches to improve gameplay, fix bugs, and introduce new features. Recent updates have included new decor sets, gameplay mechanics, and community events ([Patch 0.177 Notes](https://palia.com/news/patch-177)).\n",
      "  \n",
      "## Community Reception\n",
      "- **Player Feedback**: Palia has received mixed reviews, with some players praising its cozy atmosphere and community features, while others have criticized its slow progression and reliance on timers. The game currently holds a \"Mixed\" rating on Steam with over **3,700 user reviews** ([Mollie Taylor, PC Gamer, April 2024](https://www.pcgamer.com/games/mmo/palia-studio-singularity-6-is-the-latest-studio-to-suffer-layoffs/)).\n",
      "\n",
      "## Future Outlook\n",
      "With the acquisition by Daybreak, Singularity 6 aims to leverage additional resources to enhance Palia and ensure its long-term sustainability. The studio's commitment to maintaining its creative direction while benefiting from Daybreak's experience in building gaming communities is a positive sign for the future of Palia ([Chris Kerr, Game Developer, July 2024](https://www.gamedeveloper.com/business/daybreak-acquires-struggling-palia-developer-singularity-6)).\n",
      "\n",
      "## Conclusion\n",
      "Singularity 6 is navigating a challenging landscape marked by significant layoffs and financial pressures, yet it has a strong product in Palia with a growing player base. The recent acquisition by Daybreak Game Company may provide the necessary support to stabilize the studio and enhance the game's development, making it an interesting prospect for both candidates and investors looking to engage with a company focused on community-driven gaming experiences.\n"
     ]
    }
   ],
   "source": [
    "\n",
    "## NEW STYLE OF ARTICLES ##\n",
    "# Fetch everything\n",
    "new_article_responses = [news.scrape.request_article(result.link) for result in search_results]\n",
    "\n",
    "# Filter non 2xx\n",
    "new_article_responses = [response for response in new_article_responses if response.ok]\n",
    "\n",
    "# Parse into Article objects\n",
    "new_articles = [news.scrape.response_to_article(response) for response in new_article_responses]\n",
    "\n",
    "# Convert into Markdown\n",
    "new_article_markdowns = [news.scrape.article_to_markdown(article) for article in new_articles]\n",
    "\n",
    "# Print\n",
    "# for markdown in article_markdowns:\n",
    "#     print(markdown)\n",
    "\n",
    "new_llm_result = news.summarize.summarize(target, new_article_markdowns)\n",
    "print(new_llm_result.content)"
   ]
  },
  {
   "cell_type": "code",
   "execution_count": null,
   "metadata": {},
   "outputs": [],
   "source": []
  }
 ],
 "metadata": {
  "kernelspec": {
   "display_name": ".venv",
   "language": "python",
   "name": "python3"
  },
  "language_info": {
   "codemirror_mode": {
    "name": "ipython",
    "version": 3
   },
   "file_extension": ".py",
   "mimetype": "text/x-python",
   "name": "python",
   "nbconvert_exporter": "python",
   "pygments_lexer": "ipython3",
   "version": "3.10.12"
  }
 },
 "nbformat": 4,
 "nbformat_minor": 2
}
