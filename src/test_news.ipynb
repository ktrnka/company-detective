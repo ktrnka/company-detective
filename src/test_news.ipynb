{
 "cells": [
  {
   "cell_type": "code",
   "execution_count": 1,
   "metadata": {},
   "outputs": [
    {
     "data": {
      "text/plain": [
       "'/home/keith/company-detective/.cache/langchain.sqlite'"
      ]
     },
     "execution_count": 1,
     "metadata": {},
     "output_type": "execute_result"
    }
   ],
   "source": [
    "from core import CompanyProduct, init_langchain_cache, init_requests_cache\n",
    "\n",
    "init_requests_cache()\n",
    "init_langchain_cache()\n",
    "\n"
   ]
  },
  {
   "cell_type": "code",
   "execution_count": 2,
   "metadata": {},
   "outputs": [],
   "source": [
    "import news\n",
    "import news.search\n",
    "import news.scrape\n",
    "\n",
    "# search, filter, and summarize!\n",
    "target = CompanyProduct.same(\"98point6\")\n",
    "\n",
    "search_results = news.search.find_news_articles(target, num_results=10)"
   ]
  },
  {
   "cell_type": "code",
   "execution_count": 3,
   "metadata": {},
   "outputs": [],
   "source": [
    "import news.summarize\n",
    "\n"
   ]
  },
  {
   "cell_type": "code",
   "execution_count": 4,
   "metadata": {},
   "outputs": [
    {
     "name": "stdout",
     "output_type": "stream",
     "text": [
      "News: 25,933 characters of context, 7 articles\n",
      "News: The summary has 4,993 characters, 19% of the input\n",
      "# 98point6 Technologies: Company and Product Overview\n",
      "\n",
      "## Company Overview\n",
      "**98point6 Technologies** is a Seattle-based health tech company founded in 2015, specializing in licensed on-demand virtual care software. The company has transitioned from providing direct healthcare services to focusing on licensing its technology to healthcare providers. This strategic pivot aims to leverage its proprietary software for scalable and economically sustainable growth in the evolving healthcare landscape.\n",
      "\n",
      "### Key Developments\n",
      "- **Acquisition of Bright.md**: On January 16, 2024, 98point6 announced the acquisition of Bright.md's remaining assets, which includes 16 customer contracts and the sales and customer success teams. This acquisition is part of 98point6's strategy to enhance its asynchronous care delivery capabilities ([PR Newswire, January 2024](https://www.prnewswire.com/news-releases/98point6-technologies-announces-the-acquisition-of-brightmd-to-accelerate-the-launch-of-its-asynchronous-care-module-302034295.html)).\n",
      "- **Partnership with SteadyMD**: In October 2023, 98point6 formed a strategic partnership with SteadyMD to provide a comprehensive virtual care solution, combining 98point6's technology with SteadyMD's network of clinicians ([SteadyMD, October 2023](https://www.steadymd.com/blog/98point6-technologies-collaborates-with-steadymd-to-offer-comprehensive-virtual-care-solution-to-healthcare-organizations/)).\n",
      "- **Funding and Financials**: The company raised $32 million in recent financing, which positions it for growth and expansion in the competitive virtual care market ([LeadIQ](https://leadiq.com/c/point-technologies-inc/5a1d98e42300005400877e7d)).\n",
      "\n",
      "### Employee and Market Scale\n",
      "While the exact number of employees has fluctuated due to recent layoffs, the company has undergone significant workforce reductions as part of its business model transformation. The layoffs are indicative of broader challenges in the health tech sector, which has seen many companies reevaluating their business models post-pandemic ([Pragmatic DLT, April 2024](https://pragmaticdlt.com/news/98point6-undergoes-significant-workforce-reduction-amid-business-model-transformation/)).\n",
      "\n",
      "## Product Overview: 98point6 Technology Platform\n",
      "The **98point6 Technology Platform** is a cloud-based software solution designed to enhance virtual care delivery for healthcare providers. It integrates artificial intelligence and automated clinical support tools to streamline patient interactions and improve care efficiency.\n",
      "\n",
      "### Key Features\n",
      "- **Asynchronous Care Module**: The newly launched asynchronous module allows healthcare providers to communicate with patients at their convenience, addressing clinician burnout and improving patient engagement ([PR Newswire, January 2024](https://www.prnewswire.com/news-releases/98point6-technologies-announces-the-acquisition-of-brightmd-to-accelerate-the-launch-of-its-asynchronous-care-module-302034295.html)).\n",
      "- **Clinician Console**: A physician-facing interface that supports efficient patient visits and integrates with existing electronic health record (EHR) systems.\n",
      "- **AI-Enhanced Decision Support**: The platform utilizes machine learning to assist providers in clinical decision-making, enabling them to manage over 4,000 conditions virtually ([SteadyMD, October 2023](https://www.steadymd.com/blog/98point6-technologies-collaborates-with-steadymd-to-offer-comprehensive-virtual-care-solution-to-healthcare-organizations/)).\n",
      "\n",
      "### Market Position and Competitors\n",
      "98point6 competes in the rapidly growing virtual health service market, alongside companies like Teladoc Health, Amwell, and MDLive. The market is expected to expand significantly between 2024 and 2031, driven by increasing demand for digital health solutions ([EIN Presswire, March 2024](https://www.cbinsights.com/company/98point6)).\n",
      "\n",
      "## Leadership and Vision\n",
      "**Jay Burrell**, CEO of 98point6, emphasizes the company's mission to empower healthcare providers with technology that broadens access and enhances patient engagement. He stated, \"With the Bright.md acquisition, we are dramatically accelerating our efforts to offer a robust, multi-functional virtual care software platform\" ([PR Newswire, January 2024](https://www.prnewswire.com/news-releases/98point6-technologies-announces-the-acquisition-of-brightmd-to-accelerate-the-launch-of-its-asynchronous-care-module-302034295.html)).\n",
      "\n",
      "## Conclusion\n",
      "98point6 Technologies is navigating a transformative phase in the health tech industry, focusing on software licensing and asynchronous care delivery. The recent acquisition of Bright.md and partnership with SteadyMD position the company to enhance its offerings and address the growing demand for virtual care solutions. However, the company faces challenges related to workforce reductions and the need to adapt to a competitive market landscape. Investors and prospective candidates should consider these dynamics when evaluating opportunities with 98point6.\n"
     ]
    }
   ],
   "source": [
    "\n",
    "## NEW STYLE OF ARTICLES ##\n",
    "# Fetch everything\n",
    "new_article_responses = [news.scrape.request_article(result.link) for result in search_results]\n",
    "\n",
    "# Filter non 2xx\n",
    "new_article_responses = [response for response in new_article_responses if response.ok]\n",
    "\n",
    "# Parse into Article objects\n",
    "new_articles = [news.scrape.response_to_article(response) for response in new_article_responses]\n",
    "\n",
    "# Convert into Markdown\n",
    "new_article_markdowns = [news.scrape.article_to_markdown(article) for article in new_articles]\n",
    "\n",
    "# Print\n",
    "# for markdown in article_markdowns:\n",
    "#     print(markdown)\n",
    "\n",
    "new_llm_result = news.summarize.summarize(target, new_article_markdowns)\n",
    "print(new_llm_result.content)"
   ]
  },
  {
   "cell_type": "code",
   "execution_count": null,
   "metadata": {},
   "outputs": [],
   "source": []
  }
 ],
 "metadata": {
  "kernelspec": {
   "display_name": ".venv",
   "language": "python",
   "name": "python3"
  },
  "language_info": {
   "codemirror_mode": {
    "name": "ipython",
    "version": 3
   },
   "file_extension": ".py",
   "mimetype": "text/x-python",
   "name": "python",
   "nbconvert_exporter": "python",
   "pygments_lexer": "ipython3",
   "version": "3.10.12"
  }
 },
 "nbformat": 4,
 "nbformat_minor": 2
}
