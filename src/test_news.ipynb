{
 "cells": [
  {
   "cell_type": "code",
   "execution_count": 1,
   "metadata": {},
   "outputs": [
    {
     "data": {
      "text/plain": [
       "'/home/keith/company-detective/.cache/langchain.sqlite'"
      ]
     },
     "execution_count": 1,
     "metadata": {},
     "output_type": "execute_result"
    }
   ],
   "source": [
    "from core import CompanyProduct, init_langchain_cache, init_requests_cache\n",
    "\n",
    "init_requests_cache()\n",
    "init_langchain_cache()\n",
    "\n"
   ]
  },
  {
   "cell_type": "code",
   "execution_count": 4,
   "metadata": {},
   "outputs": [],
   "source": [
    "import news\n",
    "import news.search\n",
    "import news.scrape\n",
    "\n",
    "# search, filter, and summarize!\n",
    "target = CompanyProduct(\"Singularity 6\", \"Palia\")\n",
    "\n",
    "search_results = news.search.find_news_articles(target, num_results=10)"
   ]
  },
  {
   "cell_type": "code",
   "execution_count": 5,
   "metadata": {},
   "outputs": [],
   "source": [
    "import news.summarize\n",
    "\n"
   ]
  },
  {
   "cell_type": "code",
   "execution_count": 6,
   "metadata": {},
   "outputs": [
    {
     "name": "stdout",
     "output_type": "stream",
     "text": [
      "get_article_text: Cache hit for https://www.gamedeveloper.com/business/report-palia-studio-singularity-6-lays-off-36-employees\n",
      "get_article_text: Cache hit for https://www.singularity6.com/news/studio-acquisition\n",
      "get_article_text: Cache hit for https://www.gamedeveloper.com/business/daybreak-acquires-struggling-palia-developer-singularity-6\n",
      "get_article_text: Cache hit for https://www.pcgamer.com/games/mmo/palia-studio-singularity-6-is-the-latest-studio-to-suffer-layoffs/\n",
      "get_article_text: Cache hit for https://www.daybreakgames.com/news/dbg-s6-acquisition-announcement\n",
      "get_article_text: Cache hit for https://palia.com/news/patch-177\n",
      "get_article_text: Cache hit for https://www.mmorpg.com/news/daybreak-games-has-acquired-palia-developer-singularity-6-2000132085\n",
      "get_article_text: Failed to get article from https://www.mmorpg.com/news/daybreak-games-has-acquired-palia-developer-singularity-6-2000132085: 403\n",
      "get_article_text: Cache hit for https://palia.com/news/patch-180\n",
      "get_article_text: Cache hit for https://massivelyop.com/2024/07/01/daybreak-bought-palia-studio-singularity-6-and-aims-to-bring-the-game-to-launch/\n",
      "get_article_text: Cache hit for https://palia.com/news/patch-182\n",
      "News: 9,599 characters of context, 5 articles\n",
      "News: The summary has 4,125 characters, 43% of the input\n",
      "# Comprehensive Summary of Singularity 6 and Palia\n",
      "\n",
      "## Company Overview\n",
      "**Singularity 6** is a game development studio known for creating the cozy MMO, **Palia**. The studio has faced significant challenges recently, including layoffs and financial difficulties, but has also made strategic moves to secure its future.\n",
      "\n",
      "### Recent Developments\n",
      "1. **Layoffs**: In April 2024, Singularity 6 laid off approximately 49 employees, which accounted for about one-third of its workforce. This decision was part of a broader trend in the gaming industry, which has seen significant job losses in recent months. The layoffs were reported by multiple sources, including PC Gamer, which noted that the studio had not publicly addressed the situation at the time ([Mollie Taylor, PC Gamer, April 2024](https://www.pcgamer.com/games/mmo/palia-studio-singularity-6-is-the-latest-studio-to-suffer-layoffs/)).\n",
      "\n",
      "2. **Acquisition by Daybreak**: On July 1, 2024, it was announced that Singularity 6 had been acquired by **Daybreak Game Company**, a subsidiary of Enad Global 7 AB (EG7). This acquisition is seen as a positive development for the studio, providing it with additional resources to enhance Palia and bring it to a full launch. Singularity 6 will continue to operate independently under its co-founders, maintaining its vision and creative direction ([Bree Royce, Massively OP, July 2024](https://massivelyop.com/2024/07/01/daybreak-bought-palia-studio-singularity-6-and-aims-to-bring-the-game-to-launch/)).\n",
      "\n",
      "### Product Information: Palia\n",
      "- **Launch and Reception**: Palia was released on Steam on March 25, 2024, after a period of exclusivity on the Epic Games Store. The game has received mixed reviews, with over 3,700 user reviews on Steam, resulting in a \"Mixed\" rating. Players have praised its cozy atmosphere and farming mechanics but criticized its slow progression and reliance on timers ([Mollie Taylor, PC Gamer, April 2024](https://www.pcgamer.com/games/mmo/palia-studio-singularity-6-is-the-latest-studio-to-suffer-layoffs/)).\n",
      "  \n",
      "- **Development Status**: Despite being available on Steam, Palia is still in beta, which has led to some confusion among players regarding its development status. The game is not classified as early access, yet its store page suggests it is feature-complete ([Mollie Taylor, PC Gamer, April 2024](https://www.pcgamer.com/games/mmo/palia-studio-singularity-6-is-the-latest-studio-to-suffer-layoffs/)).\n",
      "\n",
      "### Key Personnel\n",
      "- The studio is co-founded by individuals who have maintained their roles following the acquisition by Daybreak. Specific names and roles of key personnel were not detailed in the articles reviewed.\n",
      "\n",
      "### Financial and User Metrics\n",
      "- The company has faced financial difficulties, as indicated by the layoffs and the need for acquisition. The gaming industry has seen a significant number of layoffs, with estimates of around 8,000 job losses in 2024 alone ([Mollie Taylor, PC Gamer, April 2024](https://www.pcgamer.com/games/mmo/palia-studio-singularity-6-is-the-latest-studio-to-suffer-layoffs/)).\n",
      "  \n",
      "- Palia's user engagement metrics are not explicitly detailed, but the mixed reviews suggest a community that is engaged yet divided on the game's current state.\n",
      "\n",
      "### Community and Future Outlook\n",
      "- The acquisition by Daybreak is viewed positively, as it may provide the necessary support for Palia to reach its full potential. Singularity 6 aims to enhance the game with new content and quality-of-life improvements, which could lead to a more favorable reception in the future ([Bree Royce, Massively OP, July 2024](https://massivelyop.com/2024/07/01/daybreak-bought-palia-studio-singularity-6-and-aims-to-bring-the-game-to-launch/)).\n",
      "\n",
      "## Conclusion\n",
      "For prospective candidates or investors, Singularity 6 presents a mixed picture. While the studio has faced significant challenges, including layoffs and financial struggles, the recent acquisition by Daybreak offers a potential pathway to stability and growth. Palia, with its unique cozy MMO experience, has the opportunity to evolve and attract a larger player base with the right support and development focus.\n"
     ]
    }
   ],
   "source": [
    "## OLD STYLE OF ARTICLES ##\n",
    "old_article_markdowns = {result.link: news.scrape.get_article_markdown(result.link) for result in search_results}\n",
    "\n",
    "old_article_markdown_list = [article for article in old_article_markdowns.values() if article]\n",
    "\n",
    "old_llm_result = news.summarize.summarize(target, old_article_markdown_list)\n",
    "\n",
    "print(old_llm_result.content)"
   ]
  },
  {
   "cell_type": "code",
   "execution_count": 8,
   "metadata": {},
   "outputs": [
    {
     "name": "stdout",
     "output_type": "stream",
     "text": [
      "request_article: Cache hit for https://www.gamedeveloper.com/business/report-palia-studio-singularity-6-lays-off-36-employees\n",
      "request_article: Cache hit for https://www.singularity6.com/news/studio-acquisition\n",
      "request_article: Cache hit for https://www.gamedeveloper.com/business/daybreak-acquires-struggling-palia-developer-singularity-6\n",
      "request_article: Cache hit for https://www.pcgamer.com/games/mmo/palia-studio-singularity-6-is-the-latest-studio-to-suffer-layoffs/\n",
      "request_article: Cache hit for https://www.daybreakgames.com/news/dbg-s6-acquisition-announcement\n",
      "request_article: Cache hit for https://palia.com/news/patch-177\n",
      "request_article: Cache hit for https://www.mmorpg.com/news/daybreak-games-has-acquired-palia-developer-singularity-6-2000132085\n",
      "request_article: Cache hit for https://palia.com/news/patch-180\n",
      "request_article: Cache hit for https://massivelyop.com/2024/07/01/daybreak-bought-palia-studio-singularity-6-and-aims-to-bring-the-game-to-launch/\n",
      "request_article: Cache hit for https://palia.com/news/patch-182\n",
      "News: 70,258 characters of context, 9 articles\n",
      "News: The summary has 5,049 characters, 7% of the input\n",
      "# Comprehensive Summary of Singularity 6 and Palia\n",
      "\n",
      "## Company Overview\n",
      "**Singularity 6** is a game development studio based in Los Angeles, California, founded in 2018 by former Riot Games developers. The studio focuses on creating immersive online worlds that foster community and social interaction. Their flagship product, **Palia**, is a cozy multiplayer community simulation game that combines elements of farming, crafting, and social gameplay.\n",
      "\n",
      "## Key Personnel\n",
      "- **Anthony Leung**: Co-founder and CEO of Singularity 6.\n",
      "- **Aidan Karabaich**: Co-founder and key leader in the studio.\n",
      "\n",
      "## Product Information: Palia\n",
      "- **Launch and Availability**: Palia was released in open beta in August 2023 and has since been made available on multiple platforms, including PC, Nintendo Switch, and Steam.\n",
      "- **User Base**: The game has attracted over **4 million players** and maintains around **100,000 daily active users** ([Chris Kerr, Game Developer, July 2024](https://www.gamedeveloper.com/business/daybreak-acquires-struggling-palia-developer-singularity-6)).\n",
      "- **Gameplay**: Palia is described as a \"cozy world made for you,\" featuring gameplay similar to **Stardew Valley** and **Animal Crossing**. Players can engage in activities like farming, crafting, homebuilding, and socializing with others in a vibrant online community.\n",
      "\n",
      "## Recent Developments\n",
      "### Acquisitions and Partnerships\n",
      "- **Acquisition by Daybreak Game Company**: On July 1, 2024, Singularity 6 was acquired by Daybreak Game Company, a subsidiary of Enad Global 7 AB. This acquisition aims to provide Singularity 6 with additional resources and support to enhance Palia and expand its player community ([Daybreak Acquires Singularity 6 Announcement, July 2024](https://www.daybreakgames.com/news/dbg-s6-acquisition-announcement)).\n",
      "- **Independence Maintained**: Despite the acquisition, Singularity 6 will continue to operate independently under its current leadership, ensuring that its vision and creative direction remain intact ([Daybreak Acquires Singularity 6, July 2024](https://massivelyop.com/2024/07/01/daybreak-bought-palia-studio-singularity-6-and-aims-to-bring-the-game-to-launch/)).\n",
      "\n",
      "### Financial Challenges and Layoffs\n",
      "- **Layoffs**: Singularity 6 has faced significant financial challenges, leading to multiple rounds of layoffs. In April 2024, the studio laid off **49 employees**, approximately one-third of its workforce, followed by an additional **36 layoffs** in May 2024 ([Danielle Riendeau, Game Developer, May 2024](https://www.gamedeveloper.com/business/report-palia-studio-singularity-6-lays-off-36-employees)).\n",
      "- **Economic Restructuring**: The layoffs were described as a necessary step to navigate a \"tough economic period\" while maintaining support for Palia ([Danielle Riendeau, Game Developer, May 2024](https://www.gamedeveloper.com/business/report-palia-studio-singularity-6-lays-off-36-employees)).\n",
      "\n",
      "### Product Development and Updates\n",
      "- **Ongoing Improvements**: Singularity 6 has committed to enhancing Palia with new content, social features, and quality-of-life improvements. Recent patches have introduced new decor sets, gameplay features, and bug fixes ([Patch 0.177 Notes](https://palia.com/news/patch-177)).\n",
      "- **Community Engagement**: The studio has implemented community-driven events, such as Home Tours, allowing players to showcase their housing designs and earn rewards ([Patch 0.182 Notes](https://palia.com/news/patch-182)).\n",
      "\n",
      "## Financial Overview\n",
      "- **Funding**: Singularity 6 has raised nearly **$50 million** in funding across multiple investment rounds since its inception ([Chris Kerr, Game Developer, July 2024](https://www.gamedeveloper.com/business/daybreak-acquires-struggling-palia-developer-singularity-6)).\n",
      "- **Revenue Model**: Palia operates on a free-to-play model, with monetization through in-game purchases and premium content.\n",
      "\n",
      "## Community and Reception\n",
      "- **Player Feedback**: Palia has received mixed reviews, with some praising its cozy atmosphere and community aspects, while others have criticized its slow progression and reliance on timers ([Mollie Taylor, PC Gamer, April 2024](https://www.pcgamer.com/games/mmo/palia-studio-singularity-6-is-the-latest-studio-to-suffer-layoffs/)).\n",
      "- **Engagement Metrics**: The game has seen strong initial interest, with **600,000 playtest sign-ups** prior to its launch ([Danielle Riendeau, Game Developer, May 2024](https://www.gamedeveloper.com/business/report-palia-studio-singularity-6-lays-off-36-employees)).\n",
      "\n",
      "## Conclusion\n",
      "Singularity 6 is navigating a challenging landscape as it continues to develop Palia amidst financial difficulties and significant workforce reductions. The recent acquisition by Daybreak Game Company may provide the necessary support to stabilize the studio and enhance the game, potentially leading to a successful full launch in the future. For prospective candidates or investors, the studio's commitment to community engagement and ongoing development of Palia presents both opportunities and risks in the evolving gaming market.\n"
     ]
    }
   ],
   "source": [
    "\n",
    "## NEW STYLE OF ARTICLES ##\n",
    "# Fetch everything\n",
    "new_article_responses = [news.scrape.request_article(result.link) for result in search_results]\n",
    "\n",
    "# Filter non 2xx\n",
    "new_article_responses = [response for response in new_article_responses if response.ok]\n",
    "\n",
    "# Parse into Article objects\n",
    "new_articles = [news.scrape.response_to_article(response) for response in new_article_responses]\n",
    "\n",
    "# Convert into Markdown\n",
    "new_article_markdowns = [news.scrape.article_to_markdown(article) for article in new_articles]\n",
    "\n",
    "# Print\n",
    "# for markdown in article_markdowns:\n",
    "#     print(markdown)\n",
    "\n",
    "new_llm_result = news.summarize.summarize(target, new_article_markdowns)\n",
    "print(new_llm_result.content)"
   ]
  },
  {
   "cell_type": "code",
   "execution_count": null,
   "metadata": {},
   "outputs": [],
   "source": []
  }
 ],
 "metadata": {
  "kernelspec": {
   "display_name": ".venv",
   "language": "python",
   "name": "python3"
  },
  "language_info": {
   "codemirror_mode": {
    "name": "ipython",
    "version": 3
   },
   "file_extension": ".py",
   "mimetype": "text/x-python",
   "name": "python",
   "nbconvert_exporter": "python",
   "pygments_lexer": "ipython3",
   "version": "3.10.12"
  }
 },
 "nbformat": 4,
 "nbformat_minor": 2
}
