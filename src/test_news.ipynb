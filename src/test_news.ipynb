{
 "cells": [
  {
   "cell_type": "code",
   "execution_count": 1,
   "metadata": {},
   "outputs": [
    {
     "data": {
      "text/plain": [
       "'/home/keith/company-detective/.cache/langchain.sqlite'"
      ]
     },
     "execution_count": 1,
     "metadata": {},
     "output_type": "execute_result"
    }
   ],
   "source": [
    "from core import CompanyProduct, init_langchain_cache, init_requests_cache\n",
    "\n",
    "init_requests_cache()\n",
    "init_langchain_cache()\n",
    "\n"
   ]
  },
  {
   "cell_type": "code",
   "execution_count": 2,
   "metadata": {},
   "outputs": [
    {
     "name": "stdout",
     "output_type": "stream",
     "text": [
      "get_article_text: Cache hit for https://www.reddit.com/r/MMORPG/comments/1bz2e0z/palia_developers_singularity_6_axes_35_of_staff/\n",
      "get_article_text: Cache hit for https://www.gamedeveloper.com/business/report-palia-studio-singularity-6-lays-off-36-employees\n",
      "get_article_text: Cache hit for https://www.reddit.com/r/pcgaming/comments/1bwiuin/cozy_mmo_palia_developer_singularity_6_has/\n",
      "get_article_text: Cache hit for https://www.gamedeveloper.com/business/daybreak-acquires-struggling-palia-developer-singularity-6\n",
      "get_article_text: Cache hit for https://www.singularity6.com/news/studio-acquisition\n",
      "get_article_text: Cache hit for https://www.pcgamer.com/games/mmo/palia-studio-singularity-6-is-the-latest-studio-to-suffer-layoffs/\n",
      "get_article_text: Cache hit for https://www.daybreakgames.com/news/dbg-s6-acquisition-announcement\n",
      "get_article_text: Cache hit for https://palia.com/news/patch-177\n",
      "get_article_text: Cache hit for https://www.mmorpg.com/news/daybreak-games-has-acquired-palia-developer-singularity-6-2000132085\n",
      "get_article_text: Failed to get article from https://www.mmorpg.com/news/daybreak-games-has-acquired-palia-developer-singularity-6-2000132085: 403\n",
      "get_article_text: Cache hit for https://palia.com/news/patch-180\n",
      "News: 6,283 characters of context, 3 articles\n",
      "News: The summary has 3,326 characters, 53% of the input\n"
     ]
    },
    {
     "data": {
      "text/plain": [
       "NewsSummary(target=CompanyProduct(company='Singularity 6', product='Palia'), search_results=[SearchResult(title='Palia developers, Singularity 6, axes 35% of staff just after Steam ...', link='https://www.reddit.com/r/MMORPG/comments/1bz2e0z/palia_developers_singularity_6_axes_35_of_staff/', snippet='Apr 9, 2024 ... Palia developers, Singularity 6, axes 35% of staff just after Steam launch ... Palia isn\\'t quite an \"MMO\" but it\\'s still news. The developers have axed\\xa0...', formattedUrl='https://www.reddit.com/.../palia_developers_singularity_6_axes_35_of_staf...'), SearchResult(title='Update: Palia studio Singularity 6 confirms 36 workers have been ...', link='https://www.gamedeveloper.com/business/report-palia-studio-singularity-6-lays-off-36-employees', snippet='May 17, 2024 ... Update: Palia studio Singularity 6 confirms 36 workers have been laid off. The latest layoffs come mere weeks after the studio eliminated nearly 50 roles.', formattedUrl='https://www.gamedeveloper.com/.../report-palia-studio-singularity-6-lays-o...'), SearchResult(title='Cozy MMO Palia Developer Singularity 6 Has Suffered Layoffs : r ...', link='https://www.reddit.com/r/pcgaming/comments/1bwiuin/cozy_mmo_palia_developer_singularity_6_has/', snippet='Apr 5, 2024 ... Cozy MMO Palia Developer Singularity 6 Has Suffered Layoffs ... The game is just not very good. For a life Sim it lacks basic features, the decorating is nice but\\xa0...', formattedUrl='https://www.reddit.com/r/.../cozy_mmo_palia_developer_singularity_6_has...'), SearchResult(title='Daybreak acquires struggling Palia developer Singularity 6', link='https://www.gamedeveloper.com/business/daybreak-acquires-struggling-palia-developer-singularity-6', snippet='Jul 2, 2024 ... MMO specialist Daybreak has acquired Palia developer Singularity 6 (S6) for an undisclosed fee. Daybreak, known for developing EverQuest and PlanetSide 2,\\xa0...', formattedUrl='https://www.gamedeveloper.com/.../daybreak-acquires-struggling-palia-dev...'), SearchResult(title='Singularity 6, Daybreak Game Company Cozy Up in Studio Acquisition', link='https://www.singularity6.com/news/studio-acquisition', snippet=\"Jul 1, 2024 ... The Singularity 6 team has some exciting news to share that is bigger than ... Palia, and our future projects. With the expanded resources, we'll\\xa0...\", formattedUrl='https://www.singularity6.com/news/studio-acquisition'), SearchResult(title='Palia studio Singularity 6 is the latest studio to suffer layoffs | PC ...', link='https://www.pcgamer.com/games/mmo/palia-studio-singularity-6-is-the-latest-studio-to-suffer-layoffs/', snippet='Apr 5, 2024 ... Palia. Palia studio Singularity 6 is the latest studio to suffer layoffs. News. By Mollie Taylor. published April 5, 2024. Approximately 49 of the staff behind\\xa0...', formattedUrl='https://www.pcgamer.com/.../palia-studio-singularity-6-is-the-latest-studio-t...'), SearchResult(title='Daybreak Acquires Singularity 6 Announcement | Daybreak Game ...', link='https://www.daybreakgames.com/news/dbg-s6-acquisition-announcement', snippet='Jul 1, 2024 ... We look forward to benefiting from their experience, expertise, and investment into Singularity 6 and Palia. ... News Feed · Server Status · Press · About\\xa0...', formattedUrl='https://www.daybreakgames.com/news/dbg-s6-acquisition-announcement'), SearchResult(title='Patch 0.177 Notes', link='https://palia.com/news/patch-177', snippet=\"Mar 1, 2024 ... Check out the patch notes for Palia's latest update ... © 2024 Singularity 6 Corporation. Palia, and any associated logos are trademarks, service marks\\xa0...\", formattedUrl='https://palia.com/news/patch-177'), SearchResult(title='Daybreak Games Has Acquired Palia Developer Singularity 6 ...', link='https://www.mmorpg.com/news/daybreak-games-has-acquired-palia-developer-singularity-6-2000132085', snippet='Jul 1, 2024 ... Category: News 30. Daybreak Games Has Acquired Palia Developer Singularity 6. Daybreak Games has acquired Singularity 6, the developer of the cozy MMO Palia\\xa0...', formattedUrl='https://www.mmorpg.com/news/daybreak-games-has-acquired-palia-develo...'), SearchResult(title='Patch 0.180 Notes', link='https://palia.com/news/patch-180', snippet=\"May 28, 2024 ... Check out the patch notes for Palia's latest update ... © 2024 Singularity 6 Corporation. Palia, and any associated logos are trademarks, service marks\\xa0...\", formattedUrl='https://palia.com/news/patch-180')], article_markdowns={'https://www.reddit.com/r/MMORPG/comments/1bz2e0z/palia_developers_singularity_6_axes_35_of_staff/': None, 'https://www.gamedeveloper.com/business/report-palia-studio-singularity-6-lays-off-36-employees': None, 'https://www.reddit.com/r/pcgaming/comments/1bwiuin/cozy_mmo_palia_developer_singularity_6_has/': None, 'https://www.gamedeveloper.com/business/daybreak-acquires-struggling-palia-developer-singularity-6': None, 'https://www.singularity6.com/news/studio-acquisition': None, 'https://www.pcgamer.com/games/mmo/palia-studio-singularity-6-is-the-latest-studio-to-suffer-layoffs/': '\\n# URL: https://www.pcgamer.com/games/mmo/palia-studio-singularity-6-is-the-latest-studio-to-suffer-layoffs/\\n\\nGames\\n\\n\\nMMO\\n\\n\\nPalia\\n\\n\\n\\nPalia studio Singularity 6 is the latest studio to suffer layoffs\\n\\n\\nNews\\nBy Mollie Taylor published 5 April 2024 \\n\\nApproximately 49 of the staff behind the cosy MMO have been let go.\\n\\n\\n\\n\\n \\n\\n\\n\\n \\n\\n\\n\\n \\n\\n\\n\\n\\n\\n\\n\\n\\n \\n\\n\\n\\n \\n\\n\\n\\n\\n\\n\\n\\n\\n\\nComments\\n\\n\\n\\n\\n\\n\\n\\nWhen you purchase through links on our site, we may earn an affiliate commission. Here’s how it works.\\n\\n\\n \\n\\n\\n\\n\\n\\n\\n\\n\\n\\n\\n\\n\\n\\n\\n\\n\\n\\n(Image credit: Singularity 6)\\n\\n\\n\\n\\nSingularity 6, the studio behind the cosy MMO Palia, is the latest developer to suffer layoffs. Just under 50 developers, around one third of the company, have been let go according to Polygon reporter Nicole Carpenter.Environmental artist Daphne Fiato tweeted \"Whelp, I\\'ve been laid off,\" following up with \"49 people Thanos snapped\". Other Singularity 6 folk joined to reveal they\\'d also been laid off, including Brian Ernst who tweeted they\\'d been with the developer for five years. One developer revealed via LinkedIn that they\\'d been given the news while on vacation, according to MMORPG.com.Singularity 6 is yet to publicly address the layoffs, with its last Twitter post happening on April 3, one day before they occurred. It\\'s the same situation for the official Palia account.\\xa0Palia only just arrived on Steam on March 25, following a stint as an Epic exclusive. The free-to-play MMO has generated some praise for its cosy vibes and its stress-free cycle of farming and building, but it\\'s also been criticised for its slow progression, reliance on timers and limited multiplayer elements. Its development status has also led to some confusion—it\\'s not in early access, and the store page implies a feature-complete game, when in reality it is still in beta. On Steam, it\\'s currently sitting at just over 3,700 user reviews with a \"Mixed\" rating.\\xa0The studio joins a painfully long line of developers to have nixed a portion of its staff this year. Despite only being four months into the year, the number of layoffs are close to reaching last year\\'s count. It was estimated that around 10,500 developers lost their jobs last year, according to the Game Industry Layoffs tracker. The number is already up to around 8000 estimated job losses right now, with more undoubtedly on their way given the volatility of the industry.We compiled our own layoff chart earlier this year, showing the trajectory of 16,000 layoffs from January 2023 to January 2024. Since the chart was published, companies like Relic, Certain Affinity, Sony and Blackbird Interactive have joined the list.\\xa0The biggest gaming news, reviews and hardware dealsKeep up to date with the most important stories and the best deals, as picked by the PC Gamer team.Contact me with news and offers from other Future brandsReceive email from us on behalf of our trusted partners or sponsorsBy submitting your information you agree to the Terms & Conditions and Privacy Policy and are aged 16 or over.\\n\\nMollie TaylorSocial Links NavigationFeatures ProducerMollie spent her early childhood deeply invested in games like Killer Instinct, Toontown and Audition Online, which continue to form the pillars of her personality today. She joined PC Gamer in 2020 as a news writer and now lends her expertise to write a wealth of features, guides and reviews with a dash of chaos. She can often be found causing mischief in Final Fantasy 14, using those experiences to write neat things about her favourite MMO. When she\\'s not staring at her bunny girl she can be found sweating out rhythm games, pretending to be good at fighting games or spending far too much money at her local arcade. \\xa0\\nMore about mmoGuild Wars 2\\'s 5th expansion launches next week, and once again a mount is the star of the showPoker star Justin Bonomo, who\\'s won over $60 million, made his first bankroll by selling his EverQuest druid: \\'It was over AIM and he offered me $500\\'LatestMy biggest question about Dragon Age: The Veilguard is actually \\'Which of these mages is going to lie right to my face and stab me in the back after 80 hours?\\'See more latest\\xa0►\\n\\nSee comments\\n\\n\\n\\n\\n\\n\\n\\n\\n\\n\\nMost PopularDoom running on a Def Con attendee badge at 50 fps is the highlight of the otherwise messy backstory to this year\\'s popular hacking conferenceBlack Myth: Wukong\\'s most-wishlisted status means its new benchmarking tool is the 18th most played \\'game\\' on Steam right nowBorderlands grosses $16 million globally, leaving it roughly $60 million shy of breaking even—and that\\'s before the theatres take their cutDazzling Doom 2 mod upgrades the legendary FPS with full-blown ray tracing, looks hellishly goodToday\\'s Wordle answer for Tuesday, August 13Stalker 2 devs\\' 35-minute in-depth gameplay video and promise of an \\'authentic\\' experience that\\'ll kill you dead finally has me fully on board the hype train to The ZoneWe can all see that Valve\\'s unannounced shooter Deadlock just hit over 18,000 concurrent players, GabeBethesda\\'s updated Doom remasters have opened a portal to a hellish dimension of uncredited mod uploads: \\'This is a massive breach of trust\\'Baldur\\'s Gate 3\\'s rarest ending has only been unlocked by 34 players, and it requires an obscenely specific sequence of poor decisionsHunt: Showdown is going offline for 48 hours to prepare for its biggest update everRandy Pitchford is posting through it after Borderlands bombs bad\\n\\n\\n\\n\\n\\nLoad Comments\\n\\n\\n\\n\\n\\n\\n\\n\\n\\n\\n\\n\\n\\n\\n\\n\\n\\n\\n\\n\\n\\n\\n\\n\\n\\n\\n\\nHARDWARE BUYING GUIDESLATEST GAME REVIEWS1Best Mini-ITX motherboards in 2024: My pick from all the mini mobo marvels I\\'ve tested 2Best RAM for gaming in 2024: I\\'ve tested the best DDR4 and DDR5 RAM to find the right kits for you3Best ultrawide monitor for gaming in 2024: the expansive panels I recommend for PC gamers4Best wireless gaming keyboard in 20245Best gaming laptops in 2024: I\\'ve had my pick of portable powerhouses and these are the best1Minisforum AtomMan G7 PT mini PC review2Minisforum Venus UM790 Pro mini PC review3AMD Ryzen 7 9700X CPU review4AMD Ryzen 5 9600X CPU review5Elgato Key Light Neo review\\n', 'https://www.daybreakgames.com/news/dbg-s6-acquisition-announcement': None, 'https://palia.com/news/patch-177': '\\n# URL: https://palia.com/news/patch-177\\n\\n8/9/2024\\xa0|\\xa0\\n Updates, Community \\nDev Blog: Looking Ahead\\n Read More\\n', 'https://www.mmorpg.com/news/daybreak-games-has-acquired-palia-developer-singularity-6-2000132085': None, 'https://palia.com/news/patch-180': '\\n# URL: https://palia.com/news/patch-180\\n\\n8/9/2024\\xa0|\\xa0\\n Updates, Community \\nDev Blog: Looking Ahead\\n Read More\\n'}, summary_markdown='# Comprehensive Summary of Singularity 6 and Palia\\n\\n## Company Overview\\n**Singularity 6** is a game development studio known for creating the cozy MMO, **Palia**. The studio has recently faced significant challenges, including layoffs affecting approximately one-third of its workforce, totaling around 49 employees. This situation reflects broader trends in the gaming industry, where layoffs have been prevalent, with an estimated 8,000 job losses reported in early 2024 alone ([PC Gamer, April 2024](https://www.pcgamer.com/games/mmo/palia-studio-singularity-6-is-the-latest-studio-to-suffer-layoffs/)).\\n\\n## Product Information: Palia\\n**Palia** is a free-to-play MMO that emphasizes a relaxed gaming experience, focusing on farming and building mechanics. The game was released on Steam on March 25, 2024, after a period of exclusivity on the Epic Games Store. Despite its positive reception for its \"cosy vibes,\" Palia has faced criticism for its slow progression, reliance on timers, and limited multiplayer features. As of now, it holds a \"Mixed\" rating on Steam, with over 3,700 user reviews ([PC Gamer, April 2024](https://www.pcgamer.com/games/mmo/palia-studio-singularity-6-is-the-latest-studio-to-suffer-layoffs/)).\\n\\n### Development Status\\nPalia is currently in beta, which has led to some confusion among players regarding its development status. The game\\'s store page suggests it is feature-complete, but it is still undergoing updates and improvements ([PC Gamer, April 2024](https://www.pcgamer.com/games/mmo/palia-studio-singularity-6-is-the-latest-studio-to-suffer-layoffs/)).\\n\\n## Key Personnel\\nWhile specific names of key personnel were not mentioned in the articles, the layoffs included long-term employees, indicating a significant restructuring within the company. Notably, environmental artist Daphne Fiato and developer Brian Ernst publicly shared their experiences regarding the layoffs on social media ([PC Gamer, April 2024](https://www.pcgamer.com/games/mmo/palia-studio-singularity-6-is-the-latest-studio-to-suffer-layoffs/)).\\n\\n## Industry Context\\nThe gaming industry is currently experiencing a wave of layoffs, with Singularity 6 being one of many studios affected. The trend has raised concerns about job security within the sector, as the number of layoffs in 2024 is on track to match or exceed the previous year\\'s total of approximately 10,500 job losses ([PC Gamer, April 2024](https://www.pcgamer.com/games/mmo/palia-studio-singularity-6-is-the-latest-studio-to-suffer-layoffs/)).\\n\\n## Community Engagement\\nSingularity 6 has been active in communicating with its community through updates and dev blogs, although the latest posts were made prior to the layoffs. The company appears to be focused on maintaining a connection with its player base as it navigates these challenges ([Palia, August 2024](https://palia.com/news/patch-177)).\\n\\n## Conclusion\\nFor prospective candidates or investors, Singularity 6 presents a mixed picture. While Palia has carved out a niche in the cozy MMO genre, the recent layoffs and industry volatility raise questions about the company\\'s stability and future direction. The ongoing development of Palia and its community engagement efforts may offer potential for recovery and growth, but caution is advised given the current landscape of the gaming industry.')"
      ]
     },
     "execution_count": 2,
     "metadata": {},
     "output_type": "execute_result"
    }
   ],
   "source": [
    "import news\n",
    "\n",
    "# search, filter, and summarize!\n",
    "target = CompanyProduct(\"Singularity 6\", \"Palia\")\n",
    "result = news.run(target, max_results=10)\n",
    "result"
   ]
  },
  {
   "cell_type": "code",
   "execution_count": 3,
   "metadata": {},
   "outputs": [
    {
     "data": {
      "text/plain": [
       "[SearchResult(title='Palia developers, Singularity 6, axes 35% of staff just after Steam ...', link='https://www.reddit.com/r/MMORPG/comments/1bz2e0z/palia_developers_singularity_6_axes_35_of_staff/', snippet='Apr 9, 2024 ... Palia developers, Singularity 6, axes 35% of staff just after Steam launch ... Palia isn\\'t quite an \"MMO\" but it\\'s still news. The developers have axed\\xa0...', formattedUrl='https://www.reddit.com/.../palia_developers_singularity_6_axes_35_of_staf...'),\n",
       " SearchResult(title='Update: Palia studio Singularity 6 confirms 36 workers have been ...', link='https://www.gamedeveloper.com/business/report-palia-studio-singularity-6-lays-off-36-employees', snippet='May 17, 2024 ... Update: Palia studio Singularity 6 confirms 36 workers have been laid off. The latest layoffs come mere weeks after the studio eliminated nearly 50 roles.', formattedUrl='https://www.gamedeveloper.com/.../report-palia-studio-singularity-6-lays-o...'),\n",
       " SearchResult(title='Cozy MMO Palia Developer Singularity 6 Has Suffered Layoffs : r ...', link='https://www.reddit.com/r/pcgaming/comments/1bwiuin/cozy_mmo_palia_developer_singularity_6_has/', snippet='Apr 5, 2024 ... Cozy MMO Palia Developer Singularity 6 Has Suffered Layoffs ... The game is just not very good. For a life Sim it lacks basic features, the decorating is nice but\\xa0...', formattedUrl='https://www.reddit.com/r/.../cozy_mmo_palia_developer_singularity_6_has...'),\n",
       " SearchResult(title='Daybreak acquires struggling Palia developer Singularity 6', link='https://www.gamedeveloper.com/business/daybreak-acquires-struggling-palia-developer-singularity-6', snippet='Jul 2, 2024 ... MMO specialist Daybreak has acquired Palia developer Singularity 6 (S6) for an undisclosed fee. Daybreak, known for developing EverQuest and PlanetSide 2,\\xa0...', formattedUrl='https://www.gamedeveloper.com/.../daybreak-acquires-struggling-palia-dev...'),\n",
       " SearchResult(title='Singularity 6, Daybreak Game Company Cozy Up in Studio Acquisition', link='https://www.singularity6.com/news/studio-acquisition', snippet=\"Jul 1, 2024 ... The Singularity 6 team has some exciting news to share that is bigger than ... Palia, and our future projects. With the expanded resources, we'll\\xa0...\", formattedUrl='https://www.singularity6.com/news/studio-acquisition'),\n",
       " SearchResult(title='Palia studio Singularity 6 is the latest studio to suffer layoffs | PC ...', link='https://www.pcgamer.com/games/mmo/palia-studio-singularity-6-is-the-latest-studio-to-suffer-layoffs/', snippet='Apr 5, 2024 ... Palia. Palia studio Singularity 6 is the latest studio to suffer layoffs. News. By Mollie Taylor. published April 5, 2024. Approximately 49 of the staff behind\\xa0...', formattedUrl='https://www.pcgamer.com/.../palia-studio-singularity-6-is-the-latest-studio-t...'),\n",
       " SearchResult(title='Daybreak Acquires Singularity 6 Announcement | Daybreak Game ...', link='https://www.daybreakgames.com/news/dbg-s6-acquisition-announcement', snippet='Jul 1, 2024 ... We look forward to benefiting from their experience, expertise, and investment into Singularity 6 and Palia. ... News Feed · Server Status · Press · About\\xa0...', formattedUrl='https://www.daybreakgames.com/news/dbg-s6-acquisition-announcement'),\n",
       " SearchResult(title='Patch 0.177 Notes', link='https://palia.com/news/patch-177', snippet=\"Mar 1, 2024 ... Check out the patch notes for Palia's latest update ... © 2024 Singularity 6 Corporation. Palia, and any associated logos are trademarks, service marks\\xa0...\", formattedUrl='https://palia.com/news/patch-177'),\n",
       " SearchResult(title='Daybreak Games Has Acquired Palia Developer Singularity 6 ...', link='https://www.mmorpg.com/news/daybreak-games-has-acquired-palia-developer-singularity-6-2000132085', snippet='Jul 1, 2024 ... Category: News 30. Daybreak Games Has Acquired Palia Developer Singularity 6. Daybreak Games has acquired Singularity 6, the developer of the cozy MMO Palia\\xa0...', formattedUrl='https://www.mmorpg.com/news/daybreak-games-has-acquired-palia-develo...'),\n",
       " SearchResult(title='Patch 0.180 Notes', link='https://palia.com/news/patch-180', snippet=\"May 28, 2024 ... Check out the patch notes for Palia's latest update ... © 2024 Singularity 6 Corporation. Palia, and any associated logos are trademarks, service marks\\xa0...\", formattedUrl='https://palia.com/news/patch-180')]"
      ]
     },
     "execution_count": 3,
     "metadata": {},
     "output_type": "execute_result"
    }
   ],
   "source": [
    "result.search_results"
   ]
  },
  {
   "cell_type": "code",
   "execution_count": 4,
   "metadata": {},
   "outputs": [
    {
     "data": {
      "text/plain": [
       "{'https://www.reddit.com/r/MMORPG/comments/1bz2e0z/palia_developers_singularity_6_axes_35_of_staff/': None,\n",
       " 'https://www.gamedeveloper.com/business/report-palia-studio-singularity-6-lays-off-36-employees': None,\n",
       " 'https://www.reddit.com/r/pcgaming/comments/1bwiuin/cozy_mmo_palia_developer_singularity_6_has/': None,\n",
       " 'https://www.gamedeveloper.com/business/daybreak-acquires-struggling-palia-developer-singularity-6': None,\n",
       " 'https://www.singularity6.com/news/studio-acquisition': None,\n",
       " 'https://www.pcgamer.com/games/mmo/palia-studio-singularity-6-is-the-latest-studio-to-suffer-layoffs/': '\\n# URL: https://www.pcgamer.com/games/mmo/palia-studio-singularity-6-is-the-latest-studio-to-suffer-layoffs/\\n\\nGames\\n\\n\\nMMO\\n\\n\\nPalia\\n\\n\\n\\nPalia studio Singularity 6 is the latest studio to suffer layoffs\\n\\n\\nNews\\nBy Mollie Taylor published 5 April 2024 \\n\\nApproximately 49 of the staff behind the cosy MMO have been let go.\\n\\n\\n\\n\\n \\n\\n\\n\\n \\n\\n\\n\\n \\n\\n\\n\\n\\n\\n\\n\\n\\n \\n\\n\\n\\n \\n\\n\\n\\n\\n\\n\\n\\n\\n\\nComments\\n\\n\\n\\n\\n\\n\\n\\nWhen you purchase through links on our site, we may earn an affiliate commission. Here’s how it works.\\n\\n\\n \\n\\n\\n\\n\\n\\n\\n\\n\\n\\n\\n\\n\\n\\n\\n\\n\\n\\n(Image credit: Singularity 6)\\n\\n\\n\\n\\nSingularity 6, the studio behind the cosy MMO Palia, is the latest developer to suffer layoffs. Just under 50 developers, around one third of the company, have been let go according to Polygon reporter Nicole Carpenter.Environmental artist Daphne Fiato tweeted \"Whelp, I\\'ve been laid off,\" following up with \"49 people Thanos snapped\". Other Singularity 6 folk joined to reveal they\\'d also been laid off, including Brian Ernst who tweeted they\\'d been with the developer for five years. One developer revealed via LinkedIn that they\\'d been given the news while on vacation, according to MMORPG.com.Singularity 6 is yet to publicly address the layoffs, with its last Twitter post happening on April 3, one day before they occurred. It\\'s the same situation for the official Palia account.\\xa0Palia only just arrived on Steam on March 25, following a stint as an Epic exclusive. The free-to-play MMO has generated some praise for its cosy vibes and its stress-free cycle of farming and building, but it\\'s also been criticised for its slow progression, reliance on timers and limited multiplayer elements. Its development status has also led to some confusion—it\\'s not in early access, and the store page implies a feature-complete game, when in reality it is still in beta. On Steam, it\\'s currently sitting at just over 3,700 user reviews with a \"Mixed\" rating.\\xa0The studio joins a painfully long line of developers to have nixed a portion of its staff this year. Despite only being four months into the year, the number of layoffs are close to reaching last year\\'s count. It was estimated that around 10,500 developers lost their jobs last year, according to the Game Industry Layoffs tracker. The number is already up to around 8000 estimated job losses right now, with more undoubtedly on their way given the volatility of the industry.We compiled our own layoff chart earlier this year, showing the trajectory of 16,000 layoffs from January 2023 to January 2024. Since the chart was published, companies like Relic, Certain Affinity, Sony and Blackbird Interactive have joined the list.\\xa0The biggest gaming news, reviews and hardware dealsKeep up to date with the most important stories and the best deals, as picked by the PC Gamer team.Contact me with news and offers from other Future brandsReceive email from us on behalf of our trusted partners or sponsorsBy submitting your information you agree to the Terms & Conditions and Privacy Policy and are aged 16 or over.\\n\\nMollie TaylorSocial Links NavigationFeatures ProducerMollie spent her early childhood deeply invested in games like Killer Instinct, Toontown and Audition Online, which continue to form the pillars of her personality today. She joined PC Gamer in 2020 as a news writer and now lends her expertise to write a wealth of features, guides and reviews with a dash of chaos. She can often be found causing mischief in Final Fantasy 14, using those experiences to write neat things about her favourite MMO. When she\\'s not staring at her bunny girl she can be found sweating out rhythm games, pretending to be good at fighting games or spending far too much money at her local arcade. \\xa0\\nMore about mmoGuild Wars 2\\'s 5th expansion launches next week, and once again a mount is the star of the showPoker star Justin Bonomo, who\\'s won over $60 million, made his first bankroll by selling his EverQuest druid: \\'It was over AIM and he offered me $500\\'LatestMy biggest question about Dragon Age: The Veilguard is actually \\'Which of these mages is going to lie right to my face and stab me in the back after 80 hours?\\'See more latest\\xa0►\\n\\nSee comments\\n\\n\\n\\n\\n\\n\\n\\n\\n\\n\\nMost PopularDoom running on a Def Con attendee badge at 50 fps is the highlight of the otherwise messy backstory to this year\\'s popular hacking conferenceBlack Myth: Wukong\\'s most-wishlisted status means its new benchmarking tool is the 18th most played \\'game\\' on Steam right nowBorderlands grosses $16 million globally, leaving it roughly $60 million shy of breaking even—and that\\'s before the theatres take their cutDazzling Doom 2 mod upgrades the legendary FPS with full-blown ray tracing, looks hellishly goodToday\\'s Wordle answer for Tuesday, August 13Stalker 2 devs\\' 35-minute in-depth gameplay video and promise of an \\'authentic\\' experience that\\'ll kill you dead finally has me fully on board the hype train to The ZoneWe can all see that Valve\\'s unannounced shooter Deadlock just hit over 18,000 concurrent players, GabeBethesda\\'s updated Doom remasters have opened a portal to a hellish dimension of uncredited mod uploads: \\'This is a massive breach of trust\\'Baldur\\'s Gate 3\\'s rarest ending has only been unlocked by 34 players, and it requires an obscenely specific sequence of poor decisionsHunt: Showdown is going offline for 48 hours to prepare for its biggest update everRandy Pitchford is posting through it after Borderlands bombs bad\\n\\n\\n\\n\\n\\nLoad Comments\\n\\n\\n\\n\\n\\n\\n\\n\\n\\n\\n\\n\\n\\n\\n\\n\\n\\n\\n\\n\\n\\n\\n\\n\\n\\n\\n\\nHARDWARE BUYING GUIDESLATEST GAME REVIEWS1Best Mini-ITX motherboards in 2024: My pick from all the mini mobo marvels I\\'ve tested 2Best RAM for gaming in 2024: I\\'ve tested the best DDR4 and DDR5 RAM to find the right kits for you3Best ultrawide monitor for gaming in 2024: the expansive panels I recommend for PC gamers4Best wireless gaming keyboard in 20245Best gaming laptops in 2024: I\\'ve had my pick of portable powerhouses and these are the best1Minisforum AtomMan G7 PT mini PC review2Minisforum Venus UM790 Pro mini PC review3AMD Ryzen 7 9700X CPU review4AMD Ryzen 5 9600X CPU review5Elgato Key Light Neo review\\n',\n",
       " 'https://www.daybreakgames.com/news/dbg-s6-acquisition-announcement': None,\n",
       " 'https://palia.com/news/patch-177': '\\n# URL: https://palia.com/news/patch-177\\n\\n8/9/2024\\xa0|\\xa0\\n Updates, Community \\nDev Blog: Looking Ahead\\n Read More\\n',\n",
       " 'https://www.mmorpg.com/news/daybreak-games-has-acquired-palia-developer-singularity-6-2000132085': None,\n",
       " 'https://palia.com/news/patch-180': '\\n# URL: https://palia.com/news/patch-180\\n\\n8/9/2024\\xa0|\\xa0\\n Updates, Community \\nDev Blog: Looking Ahead\\n Read More\\n'}"
      ]
     },
     "execution_count": 4,
     "metadata": {},
     "output_type": "execute_result"
    }
   ],
   "source": [
    "result.article_markdowns"
   ]
  },
  {
   "cell_type": "code",
   "execution_count": 5,
   "metadata": {},
   "outputs": [
    {
     "data": {
      "text/plain": [
       "200"
      ]
     },
     "execution_count": 5,
     "metadata": {},
     "output_type": "execute_result"
    }
   ],
   "source": [
    "# Let's try a single URL to inspect in detail\n",
    "import requests\n",
    "\n",
    "# Cache miss: https://www.daybreakgames.com/news/dbg-s6-acquisition-announcement\n",
    "# get_article_text: Cache hit for https://palia.com/news/patch-177\n",
    "\n",
    "url = \"https://www.daybreakgames.com/news/dbg-s6-acquisition-announcement\"\n",
    "response = requests.get(\n",
    "    url,\n",
    "    timeout=5,\n",
    "    headers={\n",
    "        \"Accept\": \"text/html\",\n",
    "        \"User-Agent\": \"Mozilla/5.0 (Windows NT 10.0; Win64; x64) AppleWebKit/537.36 (KHTML, like Gecko) Chrome/126.0.0.0 Safari/537.36\",\n",
    "    },\n",
    ")\n",
    "response.status_code"
   ]
  },
  {
   "cell_type": "code",
   "execution_count": 6,
   "metadata": {},
   "outputs": [
    {
     "data": {
      "text/plain": [
       "requests_cache.models.response.CachedResponse"
      ]
     },
     "execution_count": 6,
     "metadata": {},
     "output_type": "execute_result"
    }
   ],
   "source": [
    "type(response)"
   ]
  },
  {
   "cell_type": "code",
   "execution_count": 7,
   "metadata": {},
   "outputs": [
    {
     "name": "stdout",
     "output_type": "stream",
     "text": [
      "{  'Cache-Control': 'no-cache, no-store, max-age=0, must-revalidate',\n",
      "   'Connection': 'Keep-Alive',\n",
      "   'Content-Encoding': 'gzip',\n",
      "   'Content-Security-Policy': \"frame-ancestors 'none'\",\n",
      "   'Content-Type': 'text/html;charset=UTF-8',\n",
      "   'Date': 'Wed, 14 Aug 2024 17:31:07 GMT',\n",
      "   'Expires': '0',\n",
      "   'Keep-Alive': 'timeout=150',\n",
      "   'Pragma': 'no-cache',\n",
      "   'Server': 'Apache',\n",
      "   'Set-Cookie': 'JSESSIONID=69803A40527DC410DE11E21FBCB8775C.lvs-foyert1-5409; '\n",
      "                 'Path=/; Secure; HttpOnly, locale=en_US; Expires=Thu, '\n",
      "                 '14-Aug-2025 17:31:07 GMT; Path=/; Secure',\n",
      "   'Strict-Transport-Security': 'max-age=31536000 ; includeSubDomains',\n",
      "   'Transfer-Encoding': 'chunked',\n",
      "   'Vary': 'Accept-Encoding,User-Agent',\n",
      "   'X-Content-Type-Options': 'nosniff',\n",
      "   'X-Frame-Options': 'DENY, DENY',\n",
      "   'X-XSS-Protection': '1; mode=block'}\n"
     ]
    }
   ],
   "source": [
    "from pprint import pprint\n",
    "\n",
    "pprint(dict(response.headers), indent=3)"
   ]
  },
  {
   "cell_type": "code",
   "execution_count": 8,
   "metadata": {},
   "outputs": [],
   "source": [
    "# Cache hit response for https://palia.com/news/patch-177\n",
    "# {  'CF-Cache-Status': 'DYNAMIC',\n",
    "#    'CF-RAY': '8b2a727e7c28283e-SEA',\n",
    "#    'Connection': 'keep-alive',\n",
    "#    'Content-Encoding': 'br',\n",
    "#    'Content-Type': 'text/html; charset=utf-8',\n",
    "#    'Date': 'Tue, 13 Aug 2024 17:32:55 GMT',\n",
    "#    'Server': 'cloudflare',\n",
    "#    'Transfer-Encoding': 'chunked',\n",
    "#    'alt-svc': 'h3=\":443\"; ma=86400',\n",
    "#    'referrer-policy': 'strict-origin-when-cross-origin',\n",
    "#    'strict-transport-security': 'max-age=31536000',\n",
    "#    'vary': 'Accept-Encoding',\n",
    "#    'via': '1.1 1352c0a623ff0601dd16439f3f225f70.cloudfront.net (CloudFront)',\n",
    "#    'x-amz-cf-id': 'Jy4wBv0zVfzMPRi9hUDam0ZXgwWEfeq8Dlqx1SJ7_N3xtadIj_9G1Q==',\n",
    "#    'x-amz-cf-pop': 'SEA73-P2',\n",
    "#    'x-cache': 'RefreshHit from cloudfront',\n",
    "#    'x-content-type-options': 'nosniff',\n",
    "#    'x-frame-options': 'SAMEORIGIN',\n",
    "#    'x-xss-protection': '1; mode=block'}\n",
    "\n",
    "# Cache miss response for https://www.daybreakgames.com/news/dbg-s6-acquisition-announcement\n",
    "# {  'Cache-Control': 'no-cache, no-store, max-age=0, must-revalidate',\n",
    "#    'Connection': 'Keep-Alive',\n",
    "#    'Content-Encoding': 'gzip',\n",
    "#    'Content-Security-Policy': \"frame-ancestors 'none'\",\n",
    "#    'Content-Type': 'text/html;charset=UTF-8',\n",
    "#    'Date': 'Wed, 14 Aug 2024 17:27:53 GMT',\n",
    "#    'Expires': '0',\n",
    "#    'Keep-Alive': 'timeout=150',\n",
    "#    'Pragma': 'no-cache',\n",
    "#    'Server': 'Apache',\n",
    "#    'Set-Cookie': 'JSESSIONID=410D4B770605286140E60B7752655522.lvs-foyert1-5409; '\n",
    "#                  'Path=/; Secure; HttpOnly, locale=en_US; Expires=Thu, '\n",
    "#                  '14-Aug-2025 17:27:53 GMT; Path=/; Secure',\n",
    "#    'Strict-Transport-Security': 'max-age=31536000 ; includeSubDomains',\n",
    "#    'Transfer-Encoding': 'chunked',\n",
    "#    'Vary': 'Accept-Encoding,User-Agent',\n",
    "#    'X-Content-Type-Options': 'nosniff',\n",
    "#    'X-Frame-Options': 'DENY, DENY',\n",
    "#    'X-XSS-Protection': '1; mode=block'}\n",
    "\n",
    "# Ah, I see now... the Daybreak website has a cache control policy that prevents caching, while the Palia website does not."
   ]
  },
  {
   "cell_type": "code",
   "execution_count": 9,
   "metadata": {},
   "outputs": [
    {
     "data": {
      "text/plain": [
       "0.237821"
      ]
     },
     "execution_count": 9,
     "metadata": {},
     "output_type": "execute_result"
    }
   ],
   "source": [
    "from datetime import datetime, timedelta\n",
    "\n",
    "# I'm pretty sure this is the time it took the uncached response\n",
    "response.elapsed / timedelta(seconds=1)"
   ]
  },
  {
   "cell_type": "code",
   "execution_count": 10,
   "metadata": {},
   "outputs": [
    {
     "data": {
      "text/plain": [
       "requests_cache.models.response.CachedResponse"
      ]
     },
     "execution_count": 10,
     "metadata": {},
     "output_type": "execute_result"
    }
   ],
   "source": [
    "type(response)\n",
    "\n",
    "# cached: requests_cache.models.response.CachedResponse\n",
    "# not cached: requests_cache.models.response.OriginalResponse"
   ]
  },
  {
   "cell_type": "code",
   "execution_count": 11,
   "metadata": {},
   "outputs": [
    {
     "data": {
      "text/plain": [
       "datetime.datetime(2024, 8, 14, 10, 31, 6, 492720, tzinfo=<DstTzInfo 'US/Pacific' PDT-1 day, 17:00:00 DST>)"
      ]
     },
     "execution_count": 11,
     "metadata": {},
     "output_type": "execute_result"
    }
   ],
   "source": [
    "import pytz\n",
    "\n",
    "# Assuming response.created_at is in UTC timezone\n",
    "utc_time = response.created_at\n",
    "\n",
    "# Convert UTC time to US/Pacific timezone\n",
    "pacific_timezone = pytz.timezone('US/Pacific')\n",
    "pacific_time = utc_time.astimezone(pacific_timezone)\n",
    "\n",
    "pacific_time"
   ]
  },
  {
   "cell_type": "code",
   "execution_count": null,
   "metadata": {},
   "outputs": [],
   "source": []
  }
 ],
 "metadata": {
  "kernelspec": {
   "display_name": ".venv",
   "language": "python",
   "name": "python3"
  },
  "language_info": {
   "codemirror_mode": {
    "name": "ipython",
    "version": 3
   },
   "file_extension": ".py",
   "mimetype": "text/x-python",
   "name": "python",
   "nbconvert_exporter": "python",
   "pygments_lexer": "ipython3",
   "version": "3.10.12"
  }
 },
 "nbformat": 4,
 "nbformat_minor": 2
}
