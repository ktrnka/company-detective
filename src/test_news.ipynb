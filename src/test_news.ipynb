{
 "cells": [
  {
   "cell_type": "code",
   "execution_count": 1,
   "metadata": {},
   "outputs": [
    {
     "data": {
      "text/plain": [
       "'/home/keith/company-detective/.cache/langchain.sqlite'"
      ]
     },
     "execution_count": 1,
     "metadata": {},
     "output_type": "execute_result"
    }
   ],
   "source": [
    "from core import CompanyProduct, init_langchain_cache, init_requests_cache\n",
    "\n",
    "init_requests_cache()\n",
    "init_langchain_cache()\n",
    "\n"
   ]
  },
  {
   "cell_type": "code",
   "execution_count": 2,
   "metadata": {},
   "outputs": [],
   "source": [
    "import news\n",
    "import news.search\n",
    "import news.scrape\n",
    "\n",
    "# search, filter, and summarize!\n",
    "target = CompanyProduct(\"Singularity 6\", \"Palia\")\n",
    "\n",
    "search_results = news.search.find_news_articles(target, num_results=10)"
   ]
  },
  {
   "cell_type": "code",
   "execution_count": 3,
   "metadata": {},
   "outputs": [],
   "source": [
    "import news.summarize\n",
    "\n"
   ]
  },
  {
   "cell_type": "code",
   "execution_count": 4,
   "metadata": {},
   "outputs": [
    {
     "name": "stdout",
     "output_type": "stream",
     "text": [
      "get_article_text: Cache hit for https://www.gamedeveloper.com/business/report-palia-studio-singularity-6-lays-off-36-employees\n",
      "get_article_text: Cache hit for https://www.singularity6.com/news/studio-acquisition\n",
      "get_article_text: Cache hit for https://www.gamedeveloper.com/business/daybreak-acquires-struggling-palia-developer-singularity-6\n",
      "get_article_text: Cache hit for https://www.pcgamer.com/games/mmo/palia-studio-singularity-6-is-the-latest-studio-to-suffer-layoffs/\n",
      "get_article_text: Cache hit for https://www.daybreakgames.com/news/dbg-s6-acquisition-announcement\n",
      "get_article_text: Cache hit for https://palia.com/news/patch-177\n",
      "get_article_text: Cache hit for https://www.mmorpg.com/news/daybreak-games-has-acquired-palia-developer-singularity-6-2000132085\n",
      "get_article_text: Failed to get article from https://www.mmorpg.com/news/daybreak-games-has-acquired-palia-developer-singularity-6-2000132085: 403\n",
      "get_article_text: Cache hit for https://palia.com/news/patch-180\n",
      "get_article_text: Cache hit for https://massivelyop.com/2024/07/01/daybreak-bought-palia-studio-singularity-6-and-aims-to-bring-the-game-to-launch/\n",
      "get_article_text: Cache hit for https://palia.com/news/patch-182\n",
      "News: 9,599 characters of context, 5 articles\n",
      "News: The summary has 4,482 characters, 47% of the input\n",
      "# Comprehensive Analyst Report on Singularity 6 and Palia\n",
      "\n",
      "## Company Overview: Singularity 6\n",
      "\n",
      "**Singularity 6** is a game development studio known for creating the cozy MMO, **Palia**. The company has faced significant challenges recently, including layoffs and financial difficulties. As of April 2024, approximately 49 employees, which constitutes about one-third of the workforce, were laid off. This move reflects a broader trend in the gaming industry, where many studios have been reducing staff due to economic pressures ([PC Gamer, April 2024](https://www.pcgamer.com/games/mmo/palia-studio-singularity-6-is-the-latest-studio-to-suffer-layoffs/)).\n",
      "\n",
      "### Key Personnel\n",
      "The studio was co-founded by a team of industry veterans, although specific names were not highlighted in the articles. The leadership has expressed a commitment to maintaining the studio's vision and creative direction despite the recent acquisition by Daybreak Game Company.\n",
      "\n",
      "## Product Overview: Palia\n",
      "\n",
      "**Palia** is a free-to-play MMO that emphasizes a cozy gaming experience, focusing on farming, building, and social interactions. The game was initially released as an Epic Games exclusive and transitioned to Steam on March 25, 2024. It has received mixed reviews, with over 3,700 user reviews on Steam, reflecting a \"Mixed\" rating. Players have praised its relaxing gameplay but criticized its slow progression and reliance on timers ([PC Gamer, April 2024](https://www.pcgamer.com/games/mmo/palia-studio-singularity-6-is-the-latest-studio-to-suffer-layoffs/)).\n",
      "\n",
      "### Recent Developments\n",
      "1. **Acquisition by Daybreak Game Company**: On July 1, 2024, Singularity 6 announced its acquisition by Daybreak Game Company, a subsidiary of Enad Global 7 AB. This acquisition is seen as a positive development, providing the studio with additional resources to enhance Palia and address its developmental challenges. The studio will continue to operate independently under its co-founders, maintaining its creative direction ([Massively OP, July 2024](https://massivelyop.com/2024/07/01/daybreak-bought-palia-studio-singularity-6-and-aims-to-bring-the-game-to-launch/)).\n",
      "\n",
      "2. **Community Engagement**: The studio has been actively communicating with its community through updates and dev blogs, indicating a commitment to transparency and player feedback. Recent patches have focused on improving gameplay and addressing community concerns ([Palia Official Site, August 2024](https://palia.com/news/patch-177)).\n",
      "\n",
      "## Financial and Operational Challenges\n",
      "Singularity 6 has faced significant operational challenges, including layoffs and financial difficulties. The gaming industry has seen a wave of layoffs, with estimates suggesting around 8,000 job losses in 2024 alone, following a staggering 10,500 in 2023 ([PC Gamer, April 2024](https://www.pcgamer.com/games/mmo/palia-studio-singularity-6-is-the-latest-studio-to-suffer-layoffs/)). The acquisition by Daybreak is viewed as a strategic move to stabilize the company and ensure the future of Palia.\n",
      "\n",
      "## Opinions and Market Position\n",
      "The reception of Palia has been mixed, with players enjoying its cozy atmosphere but expressing concerns over its gameplay mechanics. The acquisition by Daybreak may provide the necessary support to refine the game and enhance its appeal. As noted in the acquisition announcement, \"The acquisition provides us with some incredible resources and support to continue developing Palia and elevate the product to meet the gold standard that our players expect\" ([Massively OP, July 2024](https://massivelyop.com/2024/07/01/daybreak-bought-palia-studio-singularity-6-and-aims-to-bring-the-game-to-launch/)).\n",
      "\n",
      "## Conclusion\n",
      "Singularity 6 is navigating a challenging landscape marked by layoffs and financial instability. However, the acquisition by Daybreak Game Company presents an opportunity for revitalization and growth. For prospective candidates, this could mean a more stable work environment with the backing of a larger company. For investors, the potential for Palia to evolve into a successful title under new management could represent a worthwhile opportunity.\n",
      "\n",
      "### Sources\n",
      "- [PC Gamer, April 2024](https://www.pcgamer.com/games/mmo/palia-studio-singularity-6-is-the-latest-studio-to-suffer-layoffs/)\n",
      "- [Massively OP, July 2024](https://massivelyop.com/2024/07/01/daybreak-bought-palia-studio-singularity-6-and-aims-to-bring-the-game-to-launch/)\n",
      "- [Palia Official Site, August 2024](https://palia.com/news/patch-177)\n"
     ]
    }
   ],
   "source": [
    "## OLD STYLE OF ARTICLES ##\n",
    "old_article_markdowns = {result.link: news.scrape.get_article_markdown(result.link) for result in search_results}\n",
    "\n",
    "old_article_markdown_list = [article for article in old_article_markdowns.values() if article]\n",
    "\n",
    "old_llm_result = news.summarize.summarize(target, old_article_markdown_list)\n",
    "\n",
    "print(old_llm_result.content)"
   ]
  },
  {
   "cell_type": "code",
   "execution_count": 5,
   "metadata": {},
   "outputs": [
    {
     "name": "stdout",
     "output_type": "stream",
     "text": [
      "request_article: Cache hit for https://www.gamedeveloper.com/business/report-palia-studio-singularity-6-lays-off-36-employees\n",
      "request_article: Cache hit for https://www.singularity6.com/news/studio-acquisition\n",
      "request_article: Cache hit for https://www.gamedeveloper.com/business/daybreak-acquires-struggling-palia-developer-singularity-6\n",
      "request_article: Cache hit for https://www.pcgamer.com/games/mmo/palia-studio-singularity-6-is-the-latest-studio-to-suffer-layoffs/\n",
      "request_article: Cache hit for https://www.daybreakgames.com/news/dbg-s6-acquisition-announcement\n",
      "request_article: Cache hit for https://palia.com/news/patch-177\n",
      "request_article: Cache hit for https://www.mmorpg.com/news/daybreak-games-has-acquired-palia-developer-singularity-6-2000132085\n",
      "request_article: Cache hit for https://palia.com/news/patch-180\n",
      "request_article: Cache hit for https://massivelyop.com/2024/07/01/daybreak-bought-palia-studio-singularity-6-and-aims-to-bring-the-game-to-launch/\n",
      "request_article: Cache hit for https://palia.com/news/patch-182\n",
      "News: 70,258 characters of context, 9 articles\n",
      "News: The summary has 5,203 characters, 7% of the input\n",
      "# Comprehensive Analyst Report on Singularity 6 and Palia\n",
      "\n",
      "## Company Overview: Singularity 6\n",
      "\n",
      "**Founded:** 2018  \n",
      "**Location:** Los Angeles, California  \n",
      "**Founders:** Anthony Leung and Aidan Karabaich, along with a team of former Riot Games developers.  \n",
      "**Funding:** Nearly $50 million across multiple investment rounds.  \n",
      "**Employee Count:** Approximately 90 employees prior to recent layoffs.  \n",
      "**Mission:** To create immersive online worlds that deepen players' lives through community-driven experiences.\n",
      "\n",
      "### Recent Developments\n",
      "1. **Acquisition by Daybreak Game Company:**  \n",
      "   On July 1, 2024, Singularity 6 was acquired by Daybreak Game Company, a subsidiary of Enad Global 7 AB. This acquisition aims to provide Singularity 6 with additional resources and support to enhance the development of their flagship product, Palia. Daybreak CEO Ji Ham expressed excitement about the acquisition, stating, \"S6 is an excellent addition to our development studios, renowned for their success in creating large-scale online games and content\" ([Daybreak Acquires Singularity 6 Announcement](https://www.daybreakgames.com/news/dbg-s6-acquisition-announcement)).\n",
      "\n",
      "2. **Layoffs:**  \n",
      "   In May 2024, Singularity 6 laid off 36 employees, representing about 40% of its workforce, following a previous layoff of 49 employees in April. The company cited the need to navigate a \"tough economic period\" while continuing to support Palia ([Danielle Riendeau, Game Developer, May 2024](https://www.gamedeveloper.com/business/report-palia-studio-singularity-6-lays-off-36-employees)). This restructuring was aimed at ensuring long-term stability and quality gameplay service.\n",
      "\n",
      "3. **Community Engagement:**  \n",
      "   Singularity 6 has emphasized its commitment to community engagement, with co-founder Anthony Leung stating, \"We ultimately want to get Palia into the hands of every gamer that wants to play it\" ([Daybreak Acquires Singularity 6 Announcement](https://www.daybreakgames.com/news/dbg-s6-acquisition-announcement)).\n",
      "\n",
      "## Product Overview: Palia\n",
      "\n",
      "**Launch Date:** Open Beta began in August 2023, with subsequent releases on various platforms including Steam, Epic Game Store, and Nintendo Switch.  \n",
      "**Player Base:** Over 4 million players have registered, with more than 100,000 daily active users ([Chris Kerr, Game Developer, July 2024](https://www.gamedeveloper.com/business/daybreak-acquires-struggling-palia-developer-singularity-6)).  \n",
      "**Game Type:** A cozy community multiplayer online game that combines elements of farming, crafting, homebuilding, and social interaction, reminiscent of titles like Stardew Valley and Animal Crossing.\n",
      "\n",
      "### Key Features\n",
      "- **Gameplay Mechanics:** Players can engage in various activities such as farming, crafting, fishing, and questing, all within a vibrant, immersive world.\n",
      "- **Community Focus:** Palia is designed to foster social connections, allowing players to build relationships and communities.\n",
      "- **Free-to-Play Model:** The game is available for free, with monetization through in-game purchases.\n",
      "\n",
      "### Recent Updates and Changes\n",
      "1. **Game Development and Support:**  \n",
      "   Following the acquisition by Daybreak, Singularity 6 plans to leverage Daybreak's resources to enhance Palia's development, including new content and quality-of-life improvements ([Daybreak Acquires Singularity 6 Announcement](https://www.daybreakgames.com/news/dbg-s6-acquisition-announcement)).\n",
      "\n",
      "2. **Patch Updates:**  \n",
      "   Regular updates have been released to address bugs, introduce new features, and enhance gameplay. For example, the recent patch (0.180) introduced a new building system, allowing players to create more personalized housing experiences ([Patch 0.180 Notes](https://palia.com/news/patch-180)).\n",
      "\n",
      "3. **Community Events:**  \n",
      "   New features such as Home Tours have been introduced, allowing players to showcase their housing designs and earn rewards, further enhancing community engagement ([Patch 0.182 Notes](https://palia.com/news/patch-182)).\n",
      "\n",
      "### Challenges and Criticisms\n",
      "- **Economic Viability:** Despite a strong player base, Singularity 6 has faced challenges in achieving financial sustainability, leading to significant layoffs and restructuring efforts ([Chris Kerr, Game Developer, July 2024](https://www.gamedeveloper.com/business/daybreak-acquires-struggling-palia-developer-singularity-6)).\n",
      "- **Gameplay Critiques:** Some players have criticized Palia for its slow progression and reliance on timers, which may affect user retention ([Mollie Taylor, PC Gamer, April 2024](https://www.pcgamer.com/games/mmo/palia-studio-singularity-6-is-the-latest-studio-to-suffer-layoffs/)).\n",
      "\n",
      "## Conclusion\n",
      "\n",
      "Singularity 6 is navigating a challenging landscape as it continues to develop Palia, a game that has garnered significant interest and a large player base. The recent acquisition by Daybreak Game Company presents an opportunity for growth and stability, but the studio must address its internal challenges and player feedback to ensure long-term success. For prospective candidates and investors, the focus on community engagement and the potential for enhanced resources under Daybreak's umbrella may present a compelling opportunity in the gaming industry.\n"
     ]
    }
   ],
   "source": [
    "\n",
    "## NEW STYLE OF ARTICLES ##\n",
    "# Fetch everything\n",
    "new_article_responses = [news.scrape.request_article(result.link) for result in search_results]\n",
    "\n",
    "# Filter non 2xx\n",
    "new_article_responses = [response for response in new_article_responses if response.ok]\n",
    "\n",
    "# Parse into Article objects\n",
    "new_articles = [news.scrape.response_to_article(response) for response in new_article_responses]\n",
    "\n",
    "# Convert into Markdown\n",
    "new_article_markdowns = [news.scrape.article_to_markdown(article) for article in new_articles]\n",
    "\n",
    "# Print\n",
    "# for markdown in article_markdowns:\n",
    "#     print(markdown)\n",
    "\n",
    "new_llm_result = news.summarize.summarize(target, new_article_markdowns)\n",
    "print(new_llm_result.content)"
   ]
  },
  {
   "cell_type": "code",
   "execution_count": null,
   "metadata": {},
   "outputs": [],
   "source": []
  }
 ],
 "metadata": {
  "kernelspec": {
   "display_name": ".venv",
   "language": "python",
   "name": "python3"
  },
  "language_info": {
   "codemirror_mode": {
    "name": "ipython",
    "version": 3
   },
   "file_extension": ".py",
   "mimetype": "text/x-python",
   "name": "python",
   "nbconvert_exporter": "python",
   "pygments_lexer": "ipython3",
   "version": "3.10.12"
  }
 },
 "nbformat": 4,
 "nbformat_minor": 2
}
