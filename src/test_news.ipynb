{
 "cells": [
  {
   "cell_type": "code",
   "execution_count": 1,
   "metadata": {},
   "outputs": [
    {
     "data": {
      "text/plain": [
       "'/home/keith/company-detective/.cache/langchain.sqlite'"
      ]
     },
     "execution_count": 1,
     "metadata": {},
     "output_type": "execute_result"
    }
   ],
   "source": [
    "from core import CompanyProduct, init_langchain_cache, init_requests_cache\n",
    "\n",
    "init_requests_cache()\n",
    "init_langchain_cache()\n",
    "\n"
   ]
  },
  {
   "cell_type": "code",
   "execution_count": 2,
   "metadata": {},
   "outputs": [
    {
     "name": "stdout",
     "output_type": "stream",
     "text": [
      "get_article_text: Cache hit for https://www.reddit.com/r/MMORPG/comments/1bz2e0z/palia_developers_singularity_6_axes_35_of_staff/\n",
      "get_article_text: Cache hit for https://www.gamedeveloper.com/business/report-palia-studio-singularity-6-lays-off-36-employees\n",
      "get_article_text: Cache hit for https://www.reddit.com/r/pcgaming/comments/1bwiuin/cozy_mmo_palia_developer_singularity_6_has/\n",
      "get_article_text: Cache hit for https://www.gamedeveloper.com/business/daybreak-acquires-struggling-palia-developer-singularity-6\n",
      "get_article_text: Cache hit for https://www.singularity6.com/news/studio-acquisition\n",
      "get_article_text: Cache hit for https://www.pcgamer.com/games/mmo/palia-studio-singularity-6-is-the-latest-studio-to-suffer-layoffs/\n",
      "get_article_text: Cache miss, delaying 1 seconds for https://www.daybreakgames.com/news/dbg-s6-acquisition-announcement\n",
      "get_article_text: Cache hit for https://palia.com/news/patch-177\n",
      "get_article_text: Cache hit for https://www.mmorpg.com/news/daybreak-games-has-acquired-palia-developer-singularity-6-2000132085\n",
      "get_article_text: Failed to get article from https://www.mmorpg.com/news/daybreak-games-has-acquired-palia-developer-singularity-6-2000132085: 403\n",
      "get_article_text: Cache hit for https://palia.com/news/patch-180\n",
      "News: 6,283 characters of context, 3 articles\n",
      "News: The summary has 3,326 characters, 53% of the input\n"
     ]
    },
    {
     "data": {
      "text/plain": [
       "NewsSummary(target=CompanyProduct(company='Singularity 6', product='Palia'), search_results=[SearchResult(title='Palia developers, Singularity 6, axes 35% of staff just after Steam ...', link='https://www.reddit.com/r/MMORPG/comments/1bz2e0z/palia_developers_singularity_6_axes_35_of_staff/', snippet='Apr 9, 2024 ... Palia developers, Singularity 6, axes 35% of staff just after Steam launch ... Palia isn\\'t quite an \"MMO\" but it\\'s still news. The developers have axed\\xa0...', formattedUrl='https://www.reddit.com/.../palia_developers_singularity_6_axes_35_of_staf...'), SearchResult(title='Update: Palia studio Singularity 6 confirms 36 workers have been ...', link='https://www.gamedeveloper.com/business/report-palia-studio-singularity-6-lays-off-36-employees', snippet='May 17, 2024 ... Update: Palia studio Singularity 6 confirms 36 workers have been laid off. The latest layoffs come mere weeks after the studio eliminated nearly 50 roles.', formattedUrl='https://www.gamedeveloper.com/.../report-palia-studio-singularity-6-lays-o...'), SearchResult(title='Cozy MMO Palia Developer Singularity 6 Has Suffered Layoffs : r ...', link='https://www.reddit.com/r/pcgaming/comments/1bwiuin/cozy_mmo_palia_developer_singularity_6_has/', snippet='Apr 5, 2024 ... Cozy MMO Palia Developer Singularity 6 Has Suffered Layoffs ... The game is just not very good. For a life Sim it lacks basic features, the decorating is nice but\\xa0...', formattedUrl='https://www.reddit.com/r/.../cozy_mmo_palia_developer_singularity_6_has...'), SearchResult(title='Daybreak acquires struggling Palia developer Singularity 6', link='https://www.gamedeveloper.com/business/daybreak-acquires-struggling-palia-developer-singularity-6', snippet='Jul 2, 2024 ... MMO specialist Daybreak has acquired Palia developer Singularity 6 (S6) for an undisclosed fee. Daybreak, known for developing EverQuest and PlanetSide 2,\\xa0...', formattedUrl='https://www.gamedeveloper.com/.../daybreak-acquires-struggling-palia-dev...'), SearchResult(title='Singularity 6, Daybreak Game Company Cozy Up in Studio Acquisition', link='https://www.singularity6.com/news/studio-acquisition', snippet=\"Jul 1, 2024 ... The Singularity 6 team has some exciting news to share that is bigger than ... Palia, and our future projects. With the expanded resources, we'll\\xa0...\", formattedUrl='https://www.singularity6.com/news/studio-acquisition'), SearchResult(title='Palia studio Singularity 6 is the latest studio to suffer layoffs | PC ...', link='https://www.pcgamer.com/games/mmo/palia-studio-singularity-6-is-the-latest-studio-to-suffer-layoffs/', snippet='Apr 5, 2024 ... Palia. Palia studio Singularity 6 is the latest studio to suffer layoffs. News. By Mollie Taylor. published April 5, 2024. Approximately 49 of the staff behind\\xa0...', formattedUrl='https://www.pcgamer.com/.../palia-studio-singularity-6-is-the-latest-studio-t...'), SearchResult(title='Daybreak Acquires Singularity 6 Announcement | Daybreak Game ...', link='https://www.daybreakgames.com/news/dbg-s6-acquisition-announcement', snippet='Jul 1, 2024 ... We look forward to benefiting from their experience, expertise, and investment into Singularity 6 and Palia. ... News Feed · Server Status · Press · About\\xa0...', formattedUrl='https://www.daybreakgames.com/news/dbg-s6-acquisition-announcement'), SearchResult(title='Patch 0.177 Notes', link='https://palia.com/news/patch-177', snippet=\"Mar 1, 2024 ... Check out the patch notes for Palia's latest update ... © 2024 Singularity 6 Corporation. Palia, and any associated logos are trademarks, service marks\\xa0...\", formattedUrl='https://palia.com/news/patch-177'), SearchResult(title='Daybreak Games Has Acquired Palia Developer Singularity 6 ...', link='https://www.mmorpg.com/news/daybreak-games-has-acquired-palia-developer-singularity-6-2000132085', snippet='Jul 1, 2024 ... Category: News 30. Daybreak Games Has Acquired Palia Developer Singularity 6. Daybreak Games has acquired Singularity 6, the developer of the cozy MMO Palia\\xa0...', formattedUrl='https://www.mmorpg.com/news/daybreak-games-has-acquired-palia-develo...'), SearchResult(title='Patch 0.180 Notes', link='https://palia.com/news/patch-180', snippet=\"May 28, 2024 ... Check out the patch notes for Palia's latest update ... © 2024 Singularity 6 Corporation. Palia, and any associated logos are trademarks, service marks\\xa0...\", formattedUrl='https://palia.com/news/patch-180')], article_markdowns={'https://www.reddit.com/r/MMORPG/comments/1bz2e0z/palia_developers_singularity_6_axes_35_of_staff/': None, 'https://www.gamedeveloper.com/business/report-palia-studio-singularity-6-lays-off-36-employees': None, 'https://www.reddit.com/r/pcgaming/comments/1bwiuin/cozy_mmo_palia_developer_singularity_6_has/': None, 'https://www.gamedeveloper.com/business/daybreak-acquires-struggling-palia-developer-singularity-6': None, 'https://www.singularity6.com/news/studio-acquisition': None, 'https://www.pcgamer.com/games/mmo/palia-studio-singularity-6-is-the-latest-studio-to-suffer-layoffs/': '\\n# URL: https://www.pcgamer.com/games/mmo/palia-studio-singularity-6-is-the-latest-studio-to-suffer-layoffs/\\n\\nGames\\n\\n\\nMMO\\n\\n\\nPalia\\n\\n\\n\\nPalia studio Singularity 6 is the latest studio to suffer layoffs\\n\\n\\nNews\\nBy Mollie Taylor published 5 April 2024 \\n\\nApproximately 49 of the staff behind the cosy MMO have been let go.\\n\\n\\n\\n\\n \\n\\n\\n\\n \\n\\n\\n\\n \\n\\n\\n\\n\\n\\n\\n\\n\\n \\n\\n\\n\\n \\n\\n\\n\\n\\n\\n\\n\\n\\n\\nComments\\n\\n\\n\\n\\n\\n\\n\\nWhen you purchase through links on our site, we may earn an affiliate commission. Here’s how it works.\\n\\n\\n \\n\\n\\n\\n\\n\\n\\n\\n\\n\\n\\n\\n\\n\\n\\n\\n\\n\\n(Image credit: Singularity 6)\\n\\n\\n\\n\\nSingularity 6, the studio behind the cosy MMO Palia, is the latest developer to suffer layoffs. Just under 50 developers, around one third of the company, have been let go according to Polygon reporter Nicole Carpenter.Environmental artist Daphne Fiato tweeted \"Whelp, I\\'ve been laid off,\" following up with \"49 people Thanos snapped\". Other Singularity 6 folk joined to reveal they\\'d also been laid off, including Brian Ernst who tweeted they\\'d been with the developer for five years. One developer revealed via LinkedIn that they\\'d been given the news while on vacation, according to MMORPG.com.Singularity 6 is yet to publicly address the layoffs, with its last Twitter post happening on April 3, one day before they occurred. It\\'s the same situation for the official Palia account.\\xa0Palia only just arrived on Steam on March 25, following a stint as an Epic exclusive. The free-to-play MMO has generated some praise for its cosy vibes and its stress-free cycle of farming and building, but it\\'s also been criticised for its slow progression, reliance on timers and limited multiplayer elements. Its development status has also led to some confusion—it\\'s not in early access, and the store page implies a feature-complete game, when in reality it is still in beta. On Steam, it\\'s currently sitting at just over 3,700 user reviews with a \"Mixed\" rating.\\xa0The studio joins a painfully long line of developers to have nixed a portion of its staff this year. Despite only being four months into the year, the number of layoffs are close to reaching last year\\'s count. It was estimated that around 10,500 developers lost their jobs last year, according to the Game Industry Layoffs tracker. The number is already up to around 8000 estimated job losses right now, with more undoubtedly on their way given the volatility of the industry.We compiled our own layoff chart earlier this year, showing the trajectory of 16,000 layoffs from January 2023 to January 2024. Since the chart was published, companies like Relic, Certain Affinity, Sony and Blackbird Interactive have joined the list.\\xa0The biggest gaming news, reviews and hardware dealsKeep up to date with the most important stories and the best deals, as picked by the PC Gamer team.Contact me with news and offers from other Future brandsReceive email from us on behalf of our trusted partners or sponsorsBy submitting your information you agree to the Terms & Conditions and Privacy Policy and are aged 16 or over.\\n\\nMollie TaylorSocial Links NavigationFeatures ProducerMollie spent her early childhood deeply invested in games like Killer Instinct, Toontown and Audition Online, which continue to form the pillars of her personality today. She joined PC Gamer in 2020 as a news writer and now lends her expertise to write a wealth of features, guides and reviews with a dash of chaos. She can often be found causing mischief in Final Fantasy 14, using those experiences to write neat things about her favourite MMO. When she\\'s not staring at her bunny girl she can be found sweating out rhythm games, pretending to be good at fighting games or spending far too much money at her local arcade. \\xa0\\nMore about mmoGuild Wars 2\\'s 5th expansion launches next week, and once again a mount is the star of the showPoker star Justin Bonomo, who\\'s won over $60 million, made his first bankroll by selling his EverQuest druid: \\'It was over AIM and he offered me $500\\'LatestMy biggest question about Dragon Age: The Veilguard is actually \\'Which of these mages is going to lie right to my face and stab me in the back after 80 hours?\\'See more latest\\xa0►\\n\\nSee comments\\n\\n\\n\\n\\n\\n\\n\\n\\n\\n\\nMost PopularDoom running on a Def Con attendee badge at 50 fps is the highlight of the otherwise messy backstory to this year\\'s popular hacking conferenceBlack Myth: Wukong\\'s most-wishlisted status means its new benchmarking tool is the 18th most played \\'game\\' on Steam right nowBorderlands grosses $16 million globally, leaving it roughly $60 million shy of breaking even—and that\\'s before the theatres take their cutDazzling Doom 2 mod upgrades the legendary FPS with full-blown ray tracing, looks hellishly goodToday\\'s Wordle answer for Tuesday, August 13Stalker 2 devs\\' 35-minute in-depth gameplay video and promise of an \\'authentic\\' experience that\\'ll kill you dead finally has me fully on board the hype train to The ZoneWe can all see that Valve\\'s unannounced shooter Deadlock just hit over 18,000 concurrent players, GabeBethesda\\'s updated Doom remasters have opened a portal to a hellish dimension of uncredited mod uploads: \\'This is a massive breach of trust\\'Baldur\\'s Gate 3\\'s rarest ending has only been unlocked by 34 players, and it requires an obscenely specific sequence of poor decisionsHunt: Showdown is going offline for 48 hours to prepare for its biggest update everRandy Pitchford is posting through it after Borderlands bombs bad\\n\\n\\n\\n\\n\\nLoad Comments\\n\\n\\n\\n\\n\\n\\n\\n\\n\\n\\n\\n\\n\\n\\n\\n\\n\\n\\n\\n\\n\\n\\n\\n\\n\\n\\n\\nHARDWARE BUYING GUIDESLATEST GAME REVIEWS1Best Mini-ITX motherboards in 2024: My pick from all the mini mobo marvels I\\'ve tested 2Best RAM for gaming in 2024: I\\'ve tested the best DDR4 and DDR5 RAM to find the right kits for you3Best ultrawide monitor for gaming in 2024: the expansive panels I recommend for PC gamers4Best wireless gaming keyboard in 20245Best gaming laptops in 2024: I\\'ve had my pick of portable powerhouses and these are the best1Minisforum AtomMan G7 PT mini PC review2Minisforum Venus UM790 Pro mini PC review3AMD Ryzen 7 9700X CPU review4AMD Ryzen 5 9600X CPU review5Elgato Key Light Neo review\\n', 'https://www.daybreakgames.com/news/dbg-s6-acquisition-announcement': None, 'https://palia.com/news/patch-177': '\\n# URL: https://palia.com/news/patch-177\\n\\n8/9/2024\\xa0|\\xa0\\n Updates, Community \\nDev Blog: Looking Ahead\\n Read More\\n', 'https://www.mmorpg.com/news/daybreak-games-has-acquired-palia-developer-singularity-6-2000132085': None, 'https://palia.com/news/patch-180': '\\n# URL: https://palia.com/news/patch-180\\n\\n8/9/2024\\xa0|\\xa0\\n Updates, Community \\nDev Blog: Looking Ahead\\n Read More\\n'}, summary_markdown='# Comprehensive Summary of Singularity 6 and Palia\\n\\n## Company Overview\\n**Singularity 6** is a game development studio known for creating the cozy MMO, **Palia**. The studio has recently faced significant challenges, including layoffs affecting approximately one-third of its workforce, totaling around 49 employees. This situation reflects broader trends in the gaming industry, where layoffs have been prevalent, with an estimated 8,000 job losses reported in early 2024 alone ([PC Gamer, April 2024](https://www.pcgamer.com/games/mmo/palia-studio-singularity-6-is-the-latest-studio-to-suffer-layoffs/)).\\n\\n## Product Information: Palia\\n**Palia** is a free-to-play MMO that emphasizes a relaxed gaming experience, focusing on farming and building mechanics. The game was released on Steam on March 25, 2024, after a period of exclusivity on the Epic Games Store. Despite its positive reception for its \"cosy vibes,\" Palia has faced criticism for its slow progression, reliance on timers, and limited multiplayer features. As of now, it holds a \"Mixed\" rating on Steam, with over 3,700 user reviews ([PC Gamer, April 2024](https://www.pcgamer.com/games/mmo/palia-studio-singularity-6-is-the-latest-studio-to-suffer-layoffs/)).\\n\\n### Development Status\\nPalia is currently in beta, which has led to some confusion among players regarding its development status. The game\\'s store page suggests it is feature-complete, but it is still undergoing updates and improvements ([PC Gamer, April 2024](https://www.pcgamer.com/games/mmo/palia-studio-singularity-6-is-the-latest-studio-to-suffer-layoffs/)).\\n\\n## Key Personnel\\nWhile specific names of key personnel were not mentioned in the articles, the layoffs included long-term employees, indicating a significant restructuring within the company. Notably, environmental artist Daphne Fiato and developer Brian Ernst publicly shared their experiences regarding the layoffs on social media ([PC Gamer, April 2024](https://www.pcgamer.com/games/mmo/palia-studio-singularity-6-is-the-latest-studio-to-suffer-layoffs/)).\\n\\n## Industry Context\\nThe gaming industry is currently experiencing a wave of layoffs, with Singularity 6 being one of many studios affected. The trend has raised concerns about job security within the sector, as the number of layoffs in 2024 is on track to match or exceed the previous year\\'s total of approximately 10,500 job losses ([PC Gamer, April 2024](https://www.pcgamer.com/games/mmo/palia-studio-singularity-6-is-the-latest-studio-to-suffer-layoffs/)).\\n\\n## Community Engagement\\nSingularity 6 has been active in communicating with its community through updates and dev blogs, although the latest posts were made prior to the layoffs. The company appears to be focused on maintaining a connection with its player base as it navigates these challenges ([Palia, August 2024](https://palia.com/news/patch-177)).\\n\\n## Conclusion\\nFor prospective candidates or investors, Singularity 6 presents a mixed picture. While Palia has carved out a niche in the cozy MMO genre, the recent layoffs and industry volatility raise questions about the company\\'s stability and future direction. The ongoing development of Palia and its community engagement efforts may offer potential for recovery and growth, but caution is advised given the current landscape of the gaming industry.')"
      ]
     },
     "execution_count": 2,
     "metadata": {},
     "output_type": "execute_result"
    }
   ],
   "source": [
    "import news\n",
    "\n",
    "# search, filter, and summarize!\n",
    "target = CompanyProduct(\"Singularity 6\", \"Palia\")\n",
    "result = news.run(target, max_results=10)\n",
    "result"
   ]
  },
  {
   "cell_type": "code",
   "execution_count": 3,
   "metadata": {},
   "outputs": [
    {
     "data": {
      "text/plain": [
       "[SearchResult(title='Palia developers, Singularity 6, axes 35% of staff just after Steam ...', link='https://www.reddit.com/r/MMORPG/comments/1bz2e0z/palia_developers_singularity_6_axes_35_of_staff/', snippet='Apr 9, 2024 ... Palia developers, Singularity 6, axes 35% of staff just after Steam launch ... Palia isn\\'t quite an \"MMO\" but it\\'s still news. The developers have axed\\xa0...', formattedUrl='https://www.reddit.com/.../palia_developers_singularity_6_axes_35_of_staf...'),\n",
       " SearchResult(title='Update: Palia studio Singularity 6 confirms 36 workers have been ...', link='https://www.gamedeveloper.com/business/report-palia-studio-singularity-6-lays-off-36-employees', snippet='May 17, 2024 ... Update: Palia studio Singularity 6 confirms 36 workers have been laid off. The latest layoffs come mere weeks after the studio eliminated nearly 50 roles.', formattedUrl='https://www.gamedeveloper.com/.../report-palia-studio-singularity-6-lays-o...'),\n",
       " SearchResult(title='Cozy MMO Palia Developer Singularity 6 Has Suffered Layoffs : r ...', link='https://www.reddit.com/r/pcgaming/comments/1bwiuin/cozy_mmo_palia_developer_singularity_6_has/', snippet='Apr 5, 2024 ... Cozy MMO Palia Developer Singularity 6 Has Suffered Layoffs ... The game is just not very good. For a life Sim it lacks basic features, the decorating is nice but\\xa0...', formattedUrl='https://www.reddit.com/r/.../cozy_mmo_palia_developer_singularity_6_has...'),\n",
       " SearchResult(title='Daybreak acquires struggling Palia developer Singularity 6', link='https://www.gamedeveloper.com/business/daybreak-acquires-struggling-palia-developer-singularity-6', snippet='Jul 2, 2024 ... MMO specialist Daybreak has acquired Palia developer Singularity 6 (S6) for an undisclosed fee. Daybreak, known for developing EverQuest and PlanetSide 2,\\xa0...', formattedUrl='https://www.gamedeveloper.com/.../daybreak-acquires-struggling-palia-dev...'),\n",
       " SearchResult(title='Singularity 6, Daybreak Game Company Cozy Up in Studio Acquisition', link='https://www.singularity6.com/news/studio-acquisition', snippet=\"Jul 1, 2024 ... The Singularity 6 team has some exciting news to share that is bigger than ... Palia, and our future projects. With the expanded resources, we'll\\xa0...\", formattedUrl='https://www.singularity6.com/news/studio-acquisition'),\n",
       " SearchResult(title='Palia studio Singularity 6 is the latest studio to suffer layoffs | PC ...', link='https://www.pcgamer.com/games/mmo/palia-studio-singularity-6-is-the-latest-studio-to-suffer-layoffs/', snippet='Apr 5, 2024 ... Palia. Palia studio Singularity 6 is the latest studio to suffer layoffs. News. By Mollie Taylor. published April 5, 2024. Approximately 49 of the staff behind\\xa0...', formattedUrl='https://www.pcgamer.com/.../palia-studio-singularity-6-is-the-latest-studio-t...'),\n",
       " SearchResult(title='Daybreak Acquires Singularity 6 Announcement | Daybreak Game ...', link='https://www.daybreakgames.com/news/dbg-s6-acquisition-announcement', snippet='Jul 1, 2024 ... We look forward to benefiting from their experience, expertise, and investment into Singularity 6 and Palia. ... News Feed · Server Status · Press · About\\xa0...', formattedUrl='https://www.daybreakgames.com/news/dbg-s6-acquisition-announcement'),\n",
       " SearchResult(title='Patch 0.177 Notes', link='https://palia.com/news/patch-177', snippet=\"Mar 1, 2024 ... Check out the patch notes for Palia's latest update ... © 2024 Singularity 6 Corporation. Palia, and any associated logos are trademarks, service marks\\xa0...\", formattedUrl='https://palia.com/news/patch-177'),\n",
       " SearchResult(title='Daybreak Games Has Acquired Palia Developer Singularity 6 ...', link='https://www.mmorpg.com/news/daybreak-games-has-acquired-palia-developer-singularity-6-2000132085', snippet='Jul 1, 2024 ... Category: News 30. Daybreak Games Has Acquired Palia Developer Singularity 6. Daybreak Games has acquired Singularity 6, the developer of the cozy MMO Palia\\xa0...', formattedUrl='https://www.mmorpg.com/news/daybreak-games-has-acquired-palia-develo...'),\n",
       " SearchResult(title='Patch 0.180 Notes', link='https://palia.com/news/patch-180', snippet=\"May 28, 2024 ... Check out the patch notes for Palia's latest update ... © 2024 Singularity 6 Corporation. Palia, and any associated logos are trademarks, service marks\\xa0...\", formattedUrl='https://palia.com/news/patch-180')]"
      ]
     },
     "execution_count": 3,
     "metadata": {},
     "output_type": "execute_result"
    }
   ],
   "source": [
    "result.search_results"
   ]
  },
  {
   "cell_type": "code",
   "execution_count": 4,
   "metadata": {},
   "outputs": [
    {
     "data": {
      "text/plain": [
       "{'https://www.reddit.com/r/MMORPG/comments/1bz2e0z/palia_developers_singularity_6_axes_35_of_staff/': None,\n",
       " 'https://www.gamedeveloper.com/business/report-palia-studio-singularity-6-lays-off-36-employees': None,\n",
       " 'https://www.reddit.com/r/pcgaming/comments/1bwiuin/cozy_mmo_palia_developer_singularity_6_has/': None,\n",
       " 'https://www.gamedeveloper.com/business/daybreak-acquires-struggling-palia-developer-singularity-6': None,\n",
       " 'https://www.singularity6.com/news/studio-acquisition': None,\n",
       " 'https://www.pcgamer.com/games/mmo/palia-studio-singularity-6-is-the-latest-studio-to-suffer-layoffs/': '\\n# URL: https://www.pcgamer.com/games/mmo/palia-studio-singularity-6-is-the-latest-studio-to-suffer-layoffs/\\n\\nGames\\n\\n\\nMMO\\n\\n\\nPalia\\n\\n\\n\\nPalia studio Singularity 6 is the latest studio to suffer layoffs\\n\\n\\nNews\\nBy Mollie Taylor published 5 April 2024 \\n\\nApproximately 49 of the staff behind the cosy MMO have been let go.\\n\\n\\n\\n\\n \\n\\n\\n\\n \\n\\n\\n\\n \\n\\n\\n\\n\\n\\n\\n\\n\\n \\n\\n\\n\\n \\n\\n\\n\\n\\n\\n\\n\\n\\n\\nComments\\n\\n\\n\\n\\n\\n\\n\\nWhen you purchase through links on our site, we may earn an affiliate commission. Here’s how it works.\\n\\n\\n \\n\\n\\n\\n\\n\\n\\n\\n\\n\\n\\n\\n\\n\\n\\n\\n\\n\\n(Image credit: Singularity 6)\\n\\n\\n\\n\\nSingularity 6, the studio behind the cosy MMO Palia, is the latest developer to suffer layoffs. Just under 50 developers, around one third of the company, have been let go according to Polygon reporter Nicole Carpenter.Environmental artist Daphne Fiato tweeted \"Whelp, I\\'ve been laid off,\" following up with \"49 people Thanos snapped\". Other Singularity 6 folk joined to reveal they\\'d also been laid off, including Brian Ernst who tweeted they\\'d been with the developer for five years. One developer revealed via LinkedIn that they\\'d been given the news while on vacation, according to MMORPG.com.Singularity 6 is yet to publicly address the layoffs, with its last Twitter post happening on April 3, one day before they occurred. It\\'s the same situation for the official Palia account.\\xa0Palia only just arrived on Steam on March 25, following a stint as an Epic exclusive. The free-to-play MMO has generated some praise for its cosy vibes and its stress-free cycle of farming and building, but it\\'s also been criticised for its slow progression, reliance on timers and limited multiplayer elements. Its development status has also led to some confusion—it\\'s not in early access, and the store page implies a feature-complete game, when in reality it is still in beta. On Steam, it\\'s currently sitting at just over 3,700 user reviews with a \"Mixed\" rating.\\xa0The studio joins a painfully long line of developers to have nixed a portion of its staff this year. Despite only being four months into the year, the number of layoffs are close to reaching last year\\'s count. It was estimated that around 10,500 developers lost their jobs last year, according to the Game Industry Layoffs tracker. The number is already up to around 8000 estimated job losses right now, with more undoubtedly on their way given the volatility of the industry.We compiled our own layoff chart earlier this year, showing the trajectory of 16,000 layoffs from January 2023 to January 2024. Since the chart was published, companies like Relic, Certain Affinity, Sony and Blackbird Interactive have joined the list.\\xa0The biggest gaming news, reviews and hardware dealsKeep up to date with the most important stories and the best deals, as picked by the PC Gamer team.Contact me with news and offers from other Future brandsReceive email from us on behalf of our trusted partners or sponsorsBy submitting your information you agree to the Terms & Conditions and Privacy Policy and are aged 16 or over.\\n\\nMollie TaylorSocial Links NavigationFeatures ProducerMollie spent her early childhood deeply invested in games like Killer Instinct, Toontown and Audition Online, which continue to form the pillars of her personality today. She joined PC Gamer in 2020 as a news writer and now lends her expertise to write a wealth of features, guides and reviews with a dash of chaos. She can often be found causing mischief in Final Fantasy 14, using those experiences to write neat things about her favourite MMO. When she\\'s not staring at her bunny girl she can be found sweating out rhythm games, pretending to be good at fighting games or spending far too much money at her local arcade. \\xa0\\nMore about mmoGuild Wars 2\\'s 5th expansion launches next week, and once again a mount is the star of the showPoker star Justin Bonomo, who\\'s won over $60 million, made his first bankroll by selling his EverQuest druid: \\'It was over AIM and he offered me $500\\'LatestMy biggest question about Dragon Age: The Veilguard is actually \\'Which of these mages is going to lie right to my face and stab me in the back after 80 hours?\\'See more latest\\xa0►\\n\\nSee comments\\n\\n\\n\\n\\n\\n\\n\\n\\n\\n\\nMost PopularDoom running on a Def Con attendee badge at 50 fps is the highlight of the otherwise messy backstory to this year\\'s popular hacking conferenceBlack Myth: Wukong\\'s most-wishlisted status means its new benchmarking tool is the 18th most played \\'game\\' on Steam right nowBorderlands grosses $16 million globally, leaving it roughly $60 million shy of breaking even—and that\\'s before the theatres take their cutDazzling Doom 2 mod upgrades the legendary FPS with full-blown ray tracing, looks hellishly goodToday\\'s Wordle answer for Tuesday, August 13Stalker 2 devs\\' 35-minute in-depth gameplay video and promise of an \\'authentic\\' experience that\\'ll kill you dead finally has me fully on board the hype train to The ZoneWe can all see that Valve\\'s unannounced shooter Deadlock just hit over 18,000 concurrent players, GabeBethesda\\'s updated Doom remasters have opened a portal to a hellish dimension of uncredited mod uploads: \\'This is a massive breach of trust\\'Baldur\\'s Gate 3\\'s rarest ending has only been unlocked by 34 players, and it requires an obscenely specific sequence of poor decisionsHunt: Showdown is going offline for 48 hours to prepare for its biggest update everRandy Pitchford is posting through it after Borderlands bombs bad\\n\\n\\n\\n\\n\\nLoad Comments\\n\\n\\n\\n\\n\\n\\n\\n\\n\\n\\n\\n\\n\\n\\n\\n\\n\\n\\n\\n\\n\\n\\n\\n\\n\\n\\n\\nHARDWARE BUYING GUIDESLATEST GAME REVIEWS1Best Mini-ITX motherboards in 2024: My pick from all the mini mobo marvels I\\'ve tested 2Best RAM for gaming in 2024: I\\'ve tested the best DDR4 and DDR5 RAM to find the right kits for you3Best ultrawide monitor for gaming in 2024: the expansive panels I recommend for PC gamers4Best wireless gaming keyboard in 20245Best gaming laptops in 2024: I\\'ve had my pick of portable powerhouses and these are the best1Minisforum AtomMan G7 PT mini PC review2Minisforum Venus UM790 Pro mini PC review3AMD Ryzen 7 9700X CPU review4AMD Ryzen 5 9600X CPU review5Elgato Key Light Neo review\\n',\n",
       " 'https://www.daybreakgames.com/news/dbg-s6-acquisition-announcement': None,\n",
       " 'https://palia.com/news/patch-177': '\\n# URL: https://palia.com/news/patch-177\\n\\n8/9/2024\\xa0|\\xa0\\n Updates, Community \\nDev Blog: Looking Ahead\\n Read More\\n',\n",
       " 'https://www.mmorpg.com/news/daybreak-games-has-acquired-palia-developer-singularity-6-2000132085': None,\n",
       " 'https://palia.com/news/patch-180': '\\n# URL: https://palia.com/news/patch-180\\n\\n8/9/2024\\xa0|\\xa0\\n Updates, Community \\nDev Blog: Looking Ahead\\n Read More\\n'}"
      ]
     },
     "execution_count": 4,
     "metadata": {},
     "output_type": "execute_result"
    }
   ],
   "source": [
    "result.article_markdowns"
   ]
  },
  {
   "cell_type": "code",
   "execution_count": 5,
   "metadata": {},
   "outputs": [],
   "source": [
    "# # Let's try a single URL to inspect in detail\n",
    "# import requests\n",
    "\n",
    "\n",
    "\n",
    "# url = \"https://www.mmorpg.com/news/daybreak-games-has-acquired-palia-developer-singularity-6-2000132085\"\n",
    "# response = requests.get(\n",
    "#     url,\n",
    "#     timeout=5,\n",
    "#     headers={\n",
    "#         \"Accept\": \"text/html\",\n",
    "#         \"User-Agent\": \"Mozilla/5.0 (Windows NT 10.0; Win64; x64) AppleWebKit/537.36 (KHTML, like Gecko) Chrome/126.0.0.0 Safari/537.36\",\n",
    "#     },\n",
    "# )\n",
    "# response.status_code"
   ]
  },
  {
   "cell_type": "code",
   "execution_count": 6,
   "metadata": {},
   "outputs": [],
   "source": [
    "# type(response)"
   ]
  },
  {
   "cell_type": "code",
   "execution_count": 7,
   "metadata": {},
   "outputs": [],
   "source": [
    "# from pprint import pprint\n",
    "\n",
    "# pprint(dict(response.headers), indent=3)"
   ]
  },
  {
   "cell_type": "code",
   "execution_count": 8,
   "metadata": {},
   "outputs": [],
   "source": [
    "# Cache hit response for https://palia.com/news/patch-177\n",
    "# {  'CF-Cache-Status': 'DYNAMIC',\n",
    "#    'CF-RAY': '8b2a727e7c28283e-SEA',\n",
    "#    'Connection': 'keep-alive',\n",
    "#    'Content-Encoding': 'br',\n",
    "#    'Content-Type': 'text/html; charset=utf-8',\n",
    "#    'Date': 'Tue, 13 Aug 2024 17:32:55 GMT',\n",
    "#    'Server': 'cloudflare',\n",
    "#    'Transfer-Encoding': 'chunked',\n",
    "#    'alt-svc': 'h3=\":443\"; ma=86400',\n",
    "#    'referrer-policy': 'strict-origin-when-cross-origin',\n",
    "#    'strict-transport-security': 'max-age=31536000',\n",
    "#    'vary': 'Accept-Encoding',\n",
    "#    'via': '1.1 1352c0a623ff0601dd16439f3f225f70.cloudfront.net (CloudFront)',\n",
    "#    'x-amz-cf-id': 'Jy4wBv0zVfzMPRi9hUDam0ZXgwWEfeq8Dlqx1SJ7_N3xtadIj_9G1Q==',\n",
    "#    'x-amz-cf-pop': 'SEA73-P2',\n",
    "#    'x-cache': 'RefreshHit from cloudfront',\n",
    "#    'x-content-type-options': 'nosniff',\n",
    "#    'x-frame-options': 'SAMEORIGIN',\n",
    "#    'x-xss-protection': '1; mode=block'}\n",
    "\n",
    "# Cache miss response for https://www.daybreakgames.com/news/dbg-s6-acquisition-announcement\n",
    "# {  'Cache-Control': 'no-cache, no-store, max-age=0, must-revalidate',\n",
    "#    'Connection': 'Keep-Alive',\n",
    "#    'Content-Encoding': 'gzip',\n",
    "#    'Content-Security-Policy': \"frame-ancestors 'none'\",\n",
    "#    'Content-Type': 'text/html;charset=UTF-8',\n",
    "#    'Date': 'Wed, 14 Aug 2024 17:27:53 GMT',\n",
    "#    'Expires': '0',\n",
    "#    'Keep-Alive': 'timeout=150',\n",
    "#    'Pragma': 'no-cache',\n",
    "#    'Server': 'Apache',\n",
    "#    'Set-Cookie': 'JSESSIONID=410D4B770605286140E60B7752655522.lvs-foyert1-5409; '\n",
    "#                  'Path=/; Secure; HttpOnly, locale=en_US; Expires=Thu, '\n",
    "#                  '14-Aug-2025 17:27:53 GMT; Path=/; Secure',\n",
    "#    'Strict-Transport-Security': 'max-age=31536000 ; includeSubDomains',\n",
    "#    'Transfer-Encoding': 'chunked',\n",
    "#    'Vary': 'Accept-Encoding,User-Agent',\n",
    "#    'X-Content-Type-Options': 'nosniff',\n",
    "#    'X-Frame-Options': 'DENY, DENY',\n",
    "#    'X-XSS-Protection': '1; mode=block'}\n",
    "\n",
    "# Ah, I see now... the Daybreak website has a cache control policy that prevents caching, while the Palia website does not."
   ]
  },
  {
   "cell_type": "code",
   "execution_count": 9,
   "metadata": {},
   "outputs": [],
   "source": [
    "# # Let's figure out why the BS code doesn't extract the article content from missing results\n",
    "# from bs4 import BeautifulSoup\n",
    "\n",
    "# soup = BeautifulSoup(response.text, \"html.parser\")\n",
    "# article = soup.find(\"article\")\n",
    "# if article:\n",
    "#     print(f\"\"\"# Article text\\n{article.get_text().strip()}\"\"\")\n",
    "# else:\n",
    "#     print(f\"# soup.get_text()\\n{soup.get_text().strip()}\")\n"
   ]
  },
  {
   "cell_type": "code",
   "execution_count": 10,
   "metadata": {},
   "outputs": [],
   "source": [
    "# from newspaper import fulltext\n",
    "\n",
    "# # >>> html = requests.get(...).text\n",
    "# # text = fulltext(response.text)\n",
    "\n",
    "\n",
    "# for url, content in result.article_markdowns.items():\n",
    "#     if \"reddit\" not in url:\n",
    "#         print(f\"# {url}\")\n",
    "#         response = requests.get(\n",
    "#             url,\n",
    "#             timeout=5,\n",
    "#             headers={\n",
    "#                 \"Accept\": \"text/html\",\n",
    "#                 \"User-Agent\": \"Mozilla/5.0 (Windows NT 10.0; Win64; x64) AppleWebKit/537.36 (KHTML, like Gecko) Chrome/126.0.0.0 Safari/537.36\",\n",
    "#             },\n",
    "#         )\n",
    "\n",
    "#         if not response.ok:\n",
    "#             print(f\"Response not OK: {response.status_code}\")\n",
    "#             continue\n",
    "\n",
    "#         try:\n",
    "#             text = fulltext(response.text)\n",
    "#             print(f\"{text[:500]}...\")\n",
    "#         except AttributeError:\n",
    "#             print(f\"Failed extraction on: {response.text[:500]}...\")\n",
    "\n",
    "#         # soup = BeautifulSoup(response.text, \"html.parser\")\n",
    "#         # article = soup.find(\"article\")\n",
    "#         # if article:\n",
    "#         #     print(f\"\"\"## Article text\\n{article.get_text().strip()}\"\"\")\n",
    "#         # else:\n",
    "#         #     print(f\"## soup.get_text()\\n{soup.get_text().strip()}\")\n"
   ]
  },
  {
   "cell_type": "code",
   "execution_count": 14,
   "metadata": {},
   "outputs": [
    {
     "name": "stdout",
     "output_type": "stream",
     "text": [
      "\n",
      "# Daybreak Acquires Singularity 6 Announcement by [] on 2024-07-01 16:30:00\n",
      "Daybreak Games, Singularity 6 to Collaborate on Development of Palia, a Cozy Community Multiplayer Online Game\n",
      "\n",
      "SAN DIEGO, Calif. -- July 1, 2024 -- Daybreak Game Company, a global publisher and developer of large-scale multiplayer online games, today announced it acquired Singularity 6 (S6), the Los Angeles-based developer of the popular multiplayer cozy community online game, Palia, as a wholly owned subsidiary.\n",
      "\n",
      "“We are thrilled to welcome Singularity 6 to Daybreak Games,” said Ji Ham, CEO of...\n",
      "      \n"
     ]
    }
   ],
   "source": [
    "# with newspaper3k (abandoned)\n",
    "# from newspaper import Article\n",
    "# article = Article(\"https://www.daybreakgames.com/news/dbg-s6-acquisition-announcement\")\n",
    "# article.download()\n",
    "# article.parse()\n",
    "\n",
    "# print(f\"\"\"\n",
    "# # {article.title} by {article.authors}\n",
    "# {article.text[:500]}...\n",
    "#       \"\"\")\n",
    "\n",
    "import requests\n",
    "\n",
    "\n",
    "\n",
    "url = \"https://www.daybreakgames.com/news/dbg-s6-acquisition-announcement\"\n",
    "response = requests.get(\n",
    "    url,\n",
    "    timeout=5,\n",
    "    headers={\n",
    "        \"Accept\": \"text/html\",\n",
    "        \"User-Agent\": \"Mozilla/5.0 (Windows NT 10.0; Win64; x64) AppleWebKit/537.36 (KHTML, like Gecko) Chrome/126.0.0.0 Safari/537.36\",\n",
    "    },\n",
    ")\n",
    "response.raise_for_status()\n",
    "\n",
    "# with newspaper4k\n",
    "import newspaper\n",
    "article = newspaper.article(response.url, language='en', input_html=response.text)\n",
    "article.parse()\n",
    "# article.nlp()\n",
    "\n",
    "# Extracted information\n",
    "# yield {\n",
    "# 'url': response.url,\n",
    "# 'title': article.title,\n",
    "# 'authors': article.authors,\n",
    "# 'text': article.text,\n",
    "# 'publish_date': article.publish_date,\n",
    "# 'keywords': article.keywords,\n",
    "# 'summary': article.summary,\n",
    "# }\n",
    "print(f\"\"\"\n",
    "# {article.title} by {article.authors} on {article.publish_date}\n",
    "{article.text[:500]}...\n",
    "      \"\"\")"
   ]
  },
  {
   "cell_type": "code",
   "execution_count": 15,
   "metadata": {},
   "outputs": [
    {
     "name": "stdout",
     "output_type": "stream",
     "text": [
      "\n",
      "# Update: Palia studio Singularity 6 confirms 36 workers have been laid off by ['Danielle Riendeau'] on 2024-05-16 21:31:45+00:00\n",
      "Update (05/17/24): Singularity 6 has told Game Developer it has laid off 36 staffers to navigate through a \"tough economic period.\" The studio said it will continue supporting Palia following the job cuts.\n",
      "\n",
      "\"Unfortunately we have had to restructure and reduce the size of our team as we stay focused on supporting Palia and serving our community long term. We had to let 36 of our colleagues go yesterday, in an effort to navigate this tough economic period,\" reads a statement issued by a company sp...\n",
      "            \n",
      "\n",
      "# Daybreak acquires struggling Palia developer Singularity 6 by ['Chris Kerr'] on 2024-07-02 08:53:11+00:00\n",
      "MMO specialist Daybreak has acquired Palia developer Singularity 6 (S6) for an undisclosed fee.\n",
      "\n",
      "Daybreak, known for developing EverQuest and PlanetSide 2, said Singularity 6 will join its ranks as a wholly owned subsidiary.\n",
      "\n",
      "\"We are thrilled to welcome Singularity 6 to Daybreak Games. S6 is an excellent addition to our development studios, renowned for their success in creating large-scale online games and content,\" said Daybreak CEO, Ji Ham, in a press release.\n",
      "\n",
      "\"Their debut title, Palia, is a...\n",
      "            \n",
      "\n",
      "# Singularity 6, Daybreak Game Company Cozy Up in Studio Acquisition by [] on None\n",
      "The Singularity 6 team has some exciting news to share that is bigger than Kaiju Frogbert (if you can believe that’s even possible!). As of today, we’re adding a new chapter to the S6 lore: Acquisition. Some folks can find reading this chapter to be scary. But it's far from it. Our team is absolutely thrilled to be joining forces with Daybreak Game Company, a subsidiary of Enad Global 7 AB (EG7), known for publishing and supporting some of the world’s most popular and successful online multiplay...\n",
      "            \n",
      "\n",
      "# Palia studio Singularity 6 is the latest studio to suffer layoffs by ['Mollie Taylor'] on 2024-04-05 16:41:47+00:00\n",
      "Singularity 6, the studio behind the cosy MMO Palia, is the latest developer to suffer layoffs. Just under 50 developers, around one third of the company, have been let go according to Polygon reporter Nicole Carpenter.\n",
      "\n",
      "Environmental artist Daphne Fiato tweeted \"Whelp, I've been laid off,\" following up with \"49 people Thanos snapped\". Other Singularity 6 folk joined to reveal they'd also been laid off, including Brian Ernst who tweeted they'd been with the developer for five years. One develope...\n",
      "            \n",
      "\n",
      "# Daybreak Acquires Singularity 6 Announcement by [] on 2024-07-01 16:30:00\n",
      "Daybreak Games, Singularity 6 to Collaborate on Development of Palia, a Cozy Community Multiplayer Online Game\n",
      "\n",
      "SAN DIEGO, Calif. -- July 1, 2024 -- Daybreak Game Company, a global publisher and developer of large-scale multiplayer online games, today announced it acquired Singularity 6 (S6), the Los Angeles-based developer of the popular multiplayer cozy community online game, Palia, as a wholly owned subsidiary.\n",
      "\n",
      "“We are thrilled to welcome Singularity 6 to Daybreak Games,” said Ji Ham, CEO of...\n",
      "            \n",
      "\n",
      "# Patch 0.177 Notes by [] on None\n",
      "📸Screenshot taken by TinyHydra\n",
      "\n",
      "It’s Bug-Hunting Season!\n",
      "\n",
      "As promised in our last dev update, this patch is dedicated to squashing a whole lotta bugs that have been reported to us by the players! Of course, we just couldn’t help ourselves and decided to add in some new features and content we know Palians all over are sure to enjoy. That includes not one, not two, but THREE new decor sets! Take a look.\n",
      "\n",
      "At a Glance\n",
      "\n",
      "Several new decor sets, including the steampunk-inspired PalTech set. ♨️\n",
      "\n",
      "Tons o...\n",
      "            \n",
      "Response not OK for https://www.mmorpg.com/news/daybreak-games-has-acquired-palia-developer-singularity-6-2000132085: 403\n",
      "\n",
      "# Patch 0.180 Notes by [] on None\n",
      "At a Glance\n",
      "\n",
      "Give your home a major upgrade by unlocking the Grand Harvest House, utilizing Building Blocks, and adding in some Pavers to create some walkways! 🏠\n",
      "\n",
      "Add some adorable insect plushies to your home today! 🐞 Or perhaps build out a library of BOOKS! 📚\n",
      "\n",
      "Enjoy Friendship Level 5 Quests with Jina, Hekla, and Einar. 🔍\n",
      "\n",
      "Roleplayers rejoice! Chat bubbles are now here! 💬\n",
      "\n",
      "Hotpot is now a permanent addition in the Underground Black Market. 🍜\n",
      "\n",
      "New ways to elevate your look! 💅🌸🦊⛏️\n",
      "\n",
      "…and so much ...\n",
      "            \n"
     ]
    }
   ],
   "source": [
    "# Reprocess everything\n",
    "for url, content in result.article_markdowns.items():\n",
    "    if \"reddit\" not in url:\n",
    "        response = requests.get(\n",
    "            url,\n",
    "            timeout=5,\n",
    "            headers={\n",
    "                \"Accept\": \"text/html\",\n",
    "                \"User-Agent\": \"Mozilla/5.0 (Windows NT 10.0; Win64; x64) AppleWebKit/537.36 (KHTML, like Gecko) Chrome/126.0.0.0 Safari/537.36\",\n",
    "            },\n",
    "        )\n",
    "\n",
    "        if not response.ok:\n",
    "            print(f\"Response not OK for {url}: {response.status_code}\")\n",
    "            continue\n",
    "\n",
    "        article = newspaper.article(response.url, language='en', input_html=response.text)\n",
    "        article.parse()\n",
    "        print(f\"\"\"\n",
    "# {article.title} by {article.authors} on {article.publish_date}\n",
    "{article.text[:500]}...\n",
    "            \"\"\")\n",
    "\n"
   ]
  },
  {
   "cell_type": "code",
   "execution_count": null,
   "metadata": {},
   "outputs": [],
   "source": []
  }
 ],
 "metadata": {
  "kernelspec": {
   "display_name": ".venv",
   "language": "python",
   "name": "python3"
  },
  "language_info": {
   "codemirror_mode": {
    "name": "ipython",
    "version": 3
   },
   "file_extension": ".py",
   "mimetype": "text/x-python",
   "name": "python",
   "nbconvert_exporter": "python",
   "pygments_lexer": "ipython3",
   "version": "3.10.12"
  }
 },
 "nbformat": 4,
 "nbformat_minor": 2
}
