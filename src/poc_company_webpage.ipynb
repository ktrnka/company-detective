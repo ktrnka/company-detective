{
 "cells": [
  {
   "cell_type": "markdown",
   "metadata": {},
   "source": [
    "# Company webpage\n",
    "\n",
    "Extract some key information from the company webpage"
   ]
  },
  {
   "cell_type": "code",
   "execution_count": 1,
   "metadata": {},
   "outputs": [],
   "source": [
    "from core import CompanyProduct, init\n",
    "\n",
    "init()"
   ]
  },
  {
   "cell_type": "code",
   "execution_count": 2,
   "metadata": {},
   "outputs": [],
   "source": [
    "target = CompanyProduct.same(\"98point6\")"
   ]
  },
  {
   "cell_type": "code",
   "execution_count": 3,
   "metadata": {},
   "outputs": [],
   "source": [
    "from core import make_experiment_dir\n",
    "\n",
    "experiment_dir = make_experiment_dir(target)"
   ]
  },
  {
   "cell_type": "code",
   "execution_count": 17,
   "metadata": {},
   "outputs": [
    {
     "name": "stderr",
     "output_type": "stream",
     "text": [
      "\u001b[32m2024-08-19 14:58:11.092\u001b[0m | \u001b[34m\u001b[1mDEBUG   \u001b[0m | \u001b[36msearch\u001b[0m:\u001b[36msearch\u001b[0m:\u001b[36m65\u001b[0m - \u001b[34m\u001b[1mGoogle search results: {'kind': 'customsearch#search', 'url': {'type': 'application/json', 'template': 'https://www.googleapis.com/customsearch/v1?q={searchTerms}&num={count?}&start={startIndex?}&lr={language?}&safe={safe?}&cx={cx?}&sort={sort?}&filter={filter?}&gl={gl?}&cr={cr?}&googlehost={googleHost?}&c2coff={disableCnTwTranslation?}&hq={hq?}&hl={hl?}&siteSearch={siteSearch?}&siteSearchFilter={siteSearchFilter?}&exactTerms={exactTerms?}&excludeTerms={excludeTerms?}&linkSite={linkSite?}&orTerms={orTerms?}&dateRestrict={dateRestrict?}&lowRange={lowRange?}&highRange={highRange?}&searchType={searchType}&fileType={fileType?}&rights={rights?}&imgSize={imgSize?}&imgType={imgType?}&imgColorType={imgColorType?}&imgDominantColor={imgDominantColor?}&alt=json'}, 'queries': {'request': [{'title': 'Google Custom Search - site:98point6.com about', 'totalResults': '39', 'searchTerms': 'site:98point6.com about', 'count': 1, 'startIndex': 1, 'language': 'lang_en', 'inputEncoding': 'utf8', 'outputEncoding': 'utf8', 'safe': 'off', 'cx': 'd5705c8967e3c4d63', 'gl': 'us', 'hl': 'en'}], 'nextPage': [{'title': 'Google Custom Search - site:98point6.com about', 'totalResults': '39', 'searchTerms': 'site:98point6.com about', 'count': 1, 'startIndex': 2, 'language': 'lang_en', 'inputEncoding': 'utf8', 'outputEncoding': 'utf8', 'safe': 'off', 'cx': 'd5705c8967e3c4d63', 'gl': 'us', 'hl': 'en'}]}, 'context': {'title': 'company_detective'}, 'searchInformation': {'searchTime': 0.087021, 'formattedSearchTime': '0.09', 'totalResults': '39', 'formattedTotalResults': '39'}, 'items': [{'kind': 'customsearch#result', 'title': 'About Us | 98point6 Technologies', 'htmlTitle': '<b>About</b> Us | 98point6 Technologies', 'link': 'https://www.98point6.com/about-us/', 'displayLink': 'www.98point6.com', 'snippet': 'A software company powering best in class virtual care experiences with purpose-built technology advancing medical technology to enable exceptional\\xa0...', 'htmlSnippet': 'A software company powering best in class virtual care experiences with purpose-built technology advancing medical technology to enable exceptional&nbsp;...', 'formattedUrl': 'https://www.98point6.com/about-us/', 'htmlFormattedUrl': 'https://www.98point6.com/about-us/', 'pagemap': {'cse_thumbnail': [{'src': 'https://encrypted-tbn0.gstatic.com/images?q=tbn:ANd9GcSWdzdN3L4w_Auagz2Rwo-xHjFTVoVq8FMkrnXUmVWZXt23eIb5h-9Amzo&s', 'width': '253', 'height': '199'}], 'metatags': [{'application-name': '98point6 Technologies', 'og:image': 'https://staging-marketing-uploads-gravitate-98point6-com.s3.us-west-2.amazonaws.com/uploads/2024/01/15224154/hero-aboutus-coworkers.jpg', 'og:type': 'article', 'og:image:width': '1084', 'twitter:card': 'summary_large_image', 'og:site_name': '98point6 Technologies', 'og:title': 'About Us | 98point6 Technologies', 'og:image:height': '851', 'og:image:type': 'image/jpeg', 'msapplication-tileimage': 'https://staging-marketing-uploads-gravitate-98point6-com.s3.us-west-2.amazonaws.com/uploads/2023/05/31164354/cropped-Brand_icon_transparent_bg-270x270.png', 'og:description': 'A software company powering best in class virtual care experiences with purpose-built technology advancing medical technology to enable exceptional healthcare.', 'article:publisher': 'https://www.facebook.com/98point6inc/', 'twitter:site': '@98point6Inc', 'article:modified_time': '2024-05-28T18:57:03+00:00', 'viewport': 'width=device-width, initial-scale=1', 'og:locale': 'en_US', 'og:url': '/about-us/'}], 'cse_image': [{'src': 'https://staging-marketing-uploads-gravitate-98point6-com.s3.us-west-2.amazonaws.com/uploads/2024/01/15224154/hero-aboutus-coworkers.jpg'}]}}]}\u001b[0m\n"
     ]
    },
    {
     "data": {
      "text/plain": [
       "[SearchResult(title='About Us | 98point6 Technologies', link='https://www.98point6.com/about-us/', snippet='A software company powering best in class virtual care experiences with purpose-built technology advancing medical technology to enable exceptional\\xa0...', formattedUrl='https://www.98point6.com/about-us/')]"
      ]
     },
     "execution_count": 17,
     "metadata": {},
     "output_type": "execute_result"
    }
   ],
   "source": [
    "from google_search import search\n",
    "\n",
    "results = list(search(\"site:98point6.com about\", num=1))\n",
    "results"
   ]
  },
  {
   "cell_type": "code",
   "execution_count": 18,
   "metadata": {},
   "outputs": [
    {
     "data": {
      "text/plain": [
       "<newspaper.article.Article at 0x7f28e5312b30>"
      ]
     },
     "execution_count": 18,
     "metadata": {},
     "output_type": "execute_result"
    }
   ],
   "source": [
    "# request and get the content\n",
    "from news.scrape import request_article, response_to_article\n",
    "\n",
    "response = request_article(results[0].link)\n",
    "content = response_to_article(response)\n",
    "content"
   ]
  },
  {
   "cell_type": "code",
   "execution_count": 19,
   "metadata": {},
   "outputs": [
    {
     "name": "stdout",
     "output_type": "stream",
     "text": [
      "# [98point6 Technologies on 2023-12-19](https://www.98point6.com/about-us/)\n",
      "Yes, we used to be affiliated with a virtual clinic â¦\n",
      "\n",
      "Before the days when video calls and remote meetings were ubiquitous, our team of healthcare experts knew there was a need to expand access to quality care beyond physical spaces. In 2017, 98point6 launched technology that created a 24/7 virtual clinic with on-demand, text-based primary care. Over the years, we refined the platform to:\n",
      "\n",
      "Integrate with electronic health records\n",
      "\n",
      "Provide clinical documentation and decision-support tools\n",
      "\n",
      "Improve provider efficiency\n",
      "\n",
      "â¦ and now our software is changing healthcare tech.\n",
      "\n",
      "98point6 is no longer affiliated with a virtual clinic, and in 2023, we evolved to focus our business on building and licensing technology to healthcare organizations. In short, weâve made it even easier for customers to leverage our learnings and experience for their virtual care needs.\n",
      "\n",
      "The fine print\n",
      "\n",
      "In spring 2023, Transcarent acquired the 98point6 healthcare delivery division and we reincorporated as 98point6 Technologies â evolving our mission by licensing our technology to healthcare organizations to expand access to care, improve patient engagement, and achieve cost savings. We acquired Bright.md in 2024, which is accelerating that expansion.\n",
      "\n",
      "Leveraging AI (before it was cool)\n",
      "\n",
      "Since 2017, 98point6 has developed machine learning models that utilize insights from hundreds of thousands of patient visits and have been seamlessly deployed within our platform. This intelligence engine empowers our system to efficiently prioritize case assignments and equip clinical care teams with instant, one-click text-based options during patient interactions.\n",
      "\n",
      "Because of our extensive history with AI, we have a vast data set that is one-of-a-kind in the field of natural language processing for medical applications â and these learnings are a key component to our software.\n"
     ]
    }
   ],
   "source": [
    "from news.scrape import article_to_markdown\n",
    "\n",
    "print(article_to_markdown(content))"
   ]
  },
  {
   "cell_type": "code",
   "execution_count": null,
   "metadata": {},
   "outputs": [],
   "source": []
  }
 ],
 "metadata": {
  "kernelspec": {
   "display_name": ".venv",
   "language": "python",
   "name": "python3"
  },
  "language_info": {
   "codemirror_mode": {
    "name": "ipython",
    "version": 3
   },
   "file_extension": ".py",
   "mimetype": "text/x-python",
   "name": "python",
   "nbconvert_exporter": "python",
   "pygments_lexer": "ipython3",
   "version": "3.10.12"
  }
 },
 "nbformat": 4,
 "nbformat_minor": 2
}
