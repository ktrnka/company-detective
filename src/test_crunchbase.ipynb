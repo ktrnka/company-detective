{
 "cells": [
  {
   "cell_type": "code",
   "execution_count": 1,
   "metadata": {},
   "outputs": [],
   "source": [
    "from core import init\n",
    "\n",
    "init()"
   ]
  },
  {
   "cell_type": "code",
   "execution_count": 2,
   "metadata": {},
   "outputs": [],
   "source": [
    "from core import CompanyProduct\n",
    "\n",
    "target = CompanyProduct.same(\"98point6\")"
   ]
  },
  {
   "cell_type": "code",
   "execution_count": 5,
   "metadata": {},
   "outputs": [
    {
     "name": "stderr",
     "output_type": "stream",
     "text": [
      "\u001b[32m2024-08-19 13:46:03.633\u001b[0m | \u001b[34m\u001b[1mDEBUG   \u001b[0m | \u001b[36msearch\u001b[0m:\u001b[36msearch\u001b[0m:\u001b[36m65\u001b[0m - \u001b[34m\u001b[1mGoogle search results: {'kind': 'customsearch#search', 'url': {'type': 'application/json', 'template': 'https://www.googleapis.com/customsearch/v1?q={searchTerms}&num={count?}&start={startIndex?}&lr={language?}&safe={safe?}&cx={cx?}&sort={sort?}&filter={filter?}&gl={gl?}&cr={cr?}&googlehost={googleHost?}&c2coff={disableCnTwTranslation?}&hq={hq?}&hl={hl?}&siteSearch={siteSearch?}&siteSearchFilter={siteSearchFilter?}&exactTerms={exactTerms?}&excludeTerms={excludeTerms?}&linkSite={linkSite?}&orTerms={orTerms?}&dateRestrict={dateRestrict?}&lowRange={lowRange?}&highRange={highRange?}&searchType={searchType}&fileType={fileType?}&rights={rights?}&imgSize={imgSize?}&imgType={imgType?}&imgColorType={imgColorType?}&imgDominantColor={imgDominantColor?}&alt=json'}, 'queries': {'request': [{'title': 'Google Custom Search - site:www.crunchbase.com/organization \"98point6\"', 'totalResults': '6', 'searchTerms': 'site:www.crunchbase.com/organization \"98point6\"', 'count': 1, 'startIndex': 1, 'language': 'lang_en', 'inputEncoding': 'utf8', 'outputEncoding': 'utf8', 'safe': 'off', 'cx': 'd5705c8967e3c4d63', 'gl': 'us', 'hl': 'en'}], 'nextPage': [{'title': 'Google Custom Search - site:www.crunchbase.com/organization \"98point6\"', 'totalResults': '6', 'searchTerms': 'site:www.crunchbase.com/organization \"98point6\"', 'count': 1, 'startIndex': 2, 'language': 'lang_en', 'inputEncoding': 'utf8', 'outputEncoding': 'utf8', 'safe': 'off', 'cx': 'd5705c8967e3c4d63', 'gl': 'us', 'hl': 'en'}]}, 'context': {'title': 'company_detective'}, 'searchInformation': {'searchTime': 0.114836, 'formattedSearchTime': '0.11', 'totalResults': '6', 'formattedTotalResults': '6'}, 'items': [{'kind': 'customsearch#result', 'title': '98point6 - Crunchbase Company Profile & Funding', 'htmlTitle': '<b>98point6</b> - Crunchbase Company Profile &amp; Funding', 'link': 'https://www.crunchbase.com/organization/98point6', 'displayLink': 'www.crunchbase.com', 'snippet': '98point6 is a software digital care service company that provides consultation, diagnosis, and treatment to patients.', 'htmlSnippet': '<b>98point6</b> is a software digital care service company that provides consultation, diagnosis, and treatment to patients.', 'formattedUrl': 'https://www.crunchbase.com/organization/98point6', 'htmlFormattedUrl': 'https://www.crunchbase.com/organization/<b>98point6</b>', 'pagemap': {'cse_thumbnail': [{'src': 'https://encrypted-tbn0.gstatic.com/images?q=tbn:ANd9GcRr3WjPSNi_aHhlhv6r36Cpgof85ArIkt109V1SumAl9x8dAocCPFuqnAi6&s', 'width': '225', 'height': '225'}], 'metatags': [{'og:image': 'https://images.crunchbase.com/image/upload/c_pad,h_256,w_256,f_auto,q_auto:eco,dpr_1/efrzyqexmykgpkcd6knj', 'og:type': 'website', 'og:image:alt': '98point6', 'og:image:width': '256', 'og:site_name': 'Crunchbase', 'viewport': 'width=device-width, minimum-scale=1.0, initial-scale=1.0', 'og:title': '98point6 - Crunchbase Company Profile & Funding', 'og:image:height': '256', 'og:url': 'https://www.crunchbase.com/organization/98point6', 'og:description': '98point6 is a software digital care service company that provides consultation, diagnosis, and treatment to patients.', 'og:image:secure_url': 'https://images.crunchbase.com/image/upload/c_pad,h_256,w_256,f_auto,q_auto:eco,dpr_1/efrzyqexmykgpkcd6knj'}], 'cse_image': [{'src': 'https://images.crunchbase.com/image/upload/c_pad,h_256,w_256,f_auto,q_auto:eco,dpr_1/efrzyqexmykgpkcd6knj'}]}}]}\u001b[0m\n",
      "\u001b[32m2024-08-19 13:46:03.637\u001b[0m | \u001b[1mINFO    \u001b[0m | \u001b[36mscrapfly_scrapers.crunchbase\u001b[0m:\u001b[36mscrape_company\u001b[0m:\u001b[36m60\u001b[0m - \u001b[1mscraping company: https://www.crunchbase.com/organization/98point6/people\u001b[0m\n",
      "\u001b[32m2024-08-19 13:46:03.694\u001b[0m | \u001b[34m\u001b[1mDEBUG   \u001b[0m | \u001b[36mcrunchbase\u001b[0m:\u001b[36mrun\u001b[0m:\u001b[36m42\u001b[0m - \u001b[34m\u001b[1mCrunchbase response: {'organization': {'id': '98point6', 'name': '98point6', 'logo': 'efrzyqexmykgpkcd6knj', 'description': '98point6 is a digital care service that delivers personalized consultation, diagnosis, and treatment to patients. The company combines deep technology with the expertise of board-certified physicians to provide text-based care anytime, anywhere. The company meets consumers where they are by offering private, text-based diagnosis and treatment via a mobile app. \\n\\nThe company was founded in 2015 and is headquartered in Seattle, Washington.', 'linkedin': 'https://www.linkedin.com/company/98point6-inc.', 'facebook': 'https://www.facebook.com/98point6inc', 'twitter': 'https://twitter.com/98point6inc', 'email': 'support@98point6.com', 'phone': '+1 866 657 7991', 'website': 'http://www.98point6.com', 'ipo_status': 'private', 'rank_org_company': 53227, 'semrush_global_rank': 2851232, 'semrush_visits_latest_month': 5843, 'semrush_id': '98point6', 'categories': ['Health Care', 'Health Diagnostics', 'Medical', 'mHealth', 'Mobile Apps'], 'legal_name': '98point6 Inc.', 'operating_status': 'active', 'last_funding_type': 'debt_financing', 'founded_on': '2015-03-01', 'location_groups': ['Greater Seattle Area', 'West Coast', 'Western US'], 'trademarks': 3, 'trademark_popular_class': 'c9', 'patents': 1, 'patent_popular_category': 'g06', 'investments': [], 'investors': [{'is_lead_investor': True, 'name': 'Activant Capital'}, {'is_lead_investor': None, 'name': 'Activant Capital'}, {'is_lead_investor': None, 'name': 'L Catterton'}, {'is_lead_investor': True, 'name': 'Activant Capital'}, {'is_lead_investor': None, 'name': 'Meyer Ventures'}, {'is_lead_investor': True, 'name': 'L Catterton'}, {'is_lead_investor': None, 'name': 'Goldman Sachs'}, {'is_lead_investor': True, 'name': 'Goldman Sachs Merchant Banking Division'}, {'is_lead_investor': None, 'name': 'James Sinegal'}, {'is_lead_investor': None, 'name': 'Nader J. Naini'}], 'acquisitions': 1, 'contacts': 233, 'funding_total_usd': 299300000, 'stock_symbol': None, 'exits': None, 'similar_orgs': 9, 'current_positions': 17, 'investors_lead': 3, 'investments_lead': None, 'funding_rounds': [{'announced_on': '2023-04-12', 'raised_usd': 32000000, 'investors': 1, 'lead_investors': ['Activant Capital']}, {'announced_on': '2022-09-01', 'raised_usd': 20000000, 'investors': 2, 'lead_investors': None}, {'announced_on': '2020-10-15', 'raised_usd': 118000000, 'investors': 4, 'lead_investors': ['Activant Capital', 'L Catterton']}, {'announced_on': '2020-04-03', 'raised_usd': 43000000, 'investors': 5, 'lead_investors': ['Goldman Sachs Merchant Banking Division']}, {'announced_on': '2018-10-30', 'raised_usd': 50000000, 'investors': 1, 'lead_investors': ['Goldman Sachs Merchant Banking Division']}, {'announced_on': '2017-09-19', 'raised_usd': 20700000, 'investors': None, 'lead_investors': None}, {'announced_on': '2016-07-18', 'raised_usd': 12600000, 'investors': 1, 'lead_investors': None}, {'announced_on': '2015-04-17', 'raised_usd': 3000000, 'investors': None, 'lead_investors': None}], 'event_appearances': None, 'advisors': 3, 'buildwith_tech_used': 28, 'similar': [{'score': 0.9793487, 'reasons': ['category', 'funding_stage'], 'id': 'towerview-health'}, {'score': 0.97561425, 'reasons': ['category', 'num_employees'], 'id': 'thrive-earlier-detection'}, {'score': 0.97414017, 'reasons': ['category', 'description', 'num_employees'], 'id': 'everlywell'}, {'score': 0.97352296, 'reasons': ['category'], 'id': 'sweetch-2'}, {'score': 0.96553224, 'reasons': ['category'], 'id': 'spectrawave'}, {'score': 0.96121246, 'reasons': ['category', 'revenue'], 'id': 'open-systems-healthcare'}, {'score': 0.7428335, 'reasons': ['category'], 'id': 'the-real-time-voice-analyzer'}, {'score': 0.71734303, 'reasons': ['category'], 'id': '1-yong-cloud'}, {'score': 0.56148255, 'reasons': ['category'], 'id': 'luci-1188'}], 'timeline': [{'title': '98point6 lays off employees after shifting focus last year', 'author': None, 'publisher': 'The Business Journals', 'url': 'https://www.bizjournals.com/seattle/news/2024/04/24/98point6-layoffs-seattle-telehealth-transcarent.html', 'thumb': None, 'date': '2024-04-27', 'type': 'press_reference'}, {'title': '98point6 hit by new layoffs in latest change at health tech startup', 'author': None, 'publisher': 'GeekWire', 'url': 'https://www.geekwire.com/2024/98point6-hit-by-new-layoffs-in-latest-change-at-health-tech-startup/', 'thumb': None, 'date': '2024-04-27', 'type': 'press_reference'}, {'title': 'The Crunchbase Tech Layoffs Tracker', 'author': None, 'publisher': None, 'url': 'https://news.crunchbase.com/startups/tech-layoffs/', 'thumb': None, 'date': '2024-04-26', 'type': 'press_reference'}, {'title': '98point6 lays off employees after shifting focus last year', 'author': None, 'publisher': 'The Business Journals', 'url': 'https://www.bizjournals.com/seattle/news/2024/04/24/98point6-layoffs-seattle-telehealth-transcarent.html', 'thumb': None, 'date': '2024-04-24', 'type': 'press_reference'}, {'title': '98point6 hit by new layoffs in latest change at health tech startup', 'author': None, 'publisher': 'GeekWire', 'url': 'https://www.geekwire.com/2024/98point6-hit-by-new-layoffs-in-latest-change-at-health-tech-startup/', 'thumb': None, 'date': '2024-04-23', 'type': 'press_reference'}, {'title': '98point6 hit by new layoffs in latest change at health tech startup', 'author': 'Kurt Schlosser', 'publisher': 'GeekWire', 'url': 'https://www.geekwire.com/2024/98point6-hit-by-new-layoffs-in-latest-change-at-health-tech-startup/', 'thumb': 'https://cdn.geekwire.com/wp-content/uploads/2023/03/98point6_Homescreen_Lifestyle1-Landscape-768x512-1.jpeg', 'date': '2024-04-23', 'type': 'press_reference'}, {'title': \"98point6 buys asynchronous telehealth company Bright.md's remaining assets\", 'author': None, 'publisher': 'Yahoo Finance', 'url': 'https://finance.yahoo.com/news/98point6-buys-asynchronous-telehealth-company-152723381.html', 'thumb': None, 'date': '2024-01-17', 'type': 'press_reference'}, {'title': '98point6 acquires assets from Portland telehealth company - Puget Sound Business Journal', 'author': None, 'publisher': 'The Business Journals', 'url': 'https://www.bizjournals.com/seattle/news/2024/01/17/98point6-brightmd-acquisition-seattle-telehealth.html', 'thumb': None, 'date': '2024-01-17', 'type': 'press_reference'}, {'title': '98point6 acquires assets from Portland telehealth company', 'author': None, 'publisher': 'Puget Sound Business Journal', 'url': 'https://www.bizjournals.com/seattle/news/2024/01/17/98point6-brightmd-acquisition-seattle-telehealth.html', 'thumb': 'https://media.bizj.us/view/img/12462955/jay-burrell-headshot390*900xx2400-1353-0-0.jpg', 'date': '2024-01-17', 'type': 'press_reference'}, {'title': '98point6 Technologies Announces the Acquisition of Bright.md to Accelerate the Launch of its Asynchronous Care ...', 'author': None, 'publisher': 'PR Newswire', 'url': 'https://www.prnewswire.com/news-releases/98point6-technologies-announces-the-acquisition-of-brightmd-to-accelerate-the-launch-of-its-asynchronous-care-module-302034295.html', 'thumb': None, 'date': '2024-01-16', 'type': 'press_reference'}], 'events': []}, 'employees': [{'name': 'Aimee Brice', 'linkedin': 'aimee-brice-0588a19', 'job_levels': ['l_100_individual', 'l_500_exec'], 'job_departments': ['legal', 'management']}, {'name': 'Angelo Gray', 'linkedin': 'angelo-gray-4483404', 'job_levels': ['l_100_individual', 'l_500_exec'], 'job_departments': ['finance']}, {'name': 'Anifat Balogun', 'linkedin': 'anifatbalogun', 'job_levels': ['l_500_exec'], 'job_departments': ['management']}, {'name': 'Bradley Younggren', 'linkedin': 'younggren', 'job_levels': ['l_500_exec'], 'job_departments': ['management', 'medical_science']}, {'name': 'Bradley Younggren', 'linkedin': 'bradley-younggren-b0244312', 'job_levels': ['l_500_exec'], 'job_departments': None}, {'name': 'Fukiko Ogisu', 'linkedin': 'fukiko-ogisu-10b1213', 'job_levels': ['l_500_exec'], 'job_departments': ['finance', 'operations']}, {'name': 'Jay Burrell', 'linkedin': 'jaburrell', 'job_levels': ['l_100_individual', 'l_500_exec'], 'job_departments': ['management', 'operations']}, {'name': 'Jeff Greenstein', 'linkedin': 'jeff-greenstein', 'job_levels': ['l_100_individual', 'l_500_exec'], 'job_departments': ['management']}, {'name': 'Troy Potthoff', 'linkedin': 'troypotthoff', 'job_levels': ['l_300_director', 'l_500_exec'], 'job_departments': ['management', 'medical_science']}, {'name': 'Brad Hefta-Gaub', 'linkedin': 'bradheftagaub', 'job_levels': ['l_400_vp'], 'job_departments': ['management']}]}\u001b[0m\n",
      "/tmp/ipykernel_302420/1886919644.py:3: RuntimeWarning: coroutine 'run' was never awaited\n",
      "  overview_md = await crunchbase.run(target)\n",
      "RuntimeWarning: Enable tracemalloc to get the object allocation traceback\n"
     ]
    }
   ],
   "source": [
    "import crunchbase\n",
    "\n",
    "overview_md = await crunchbase.run(target)"
   ]
  },
  {
   "cell_type": "code",
   "execution_count": 6,
   "metadata": {},
   "outputs": [
    {
     "name": "stdout",
     "output_type": "stream",
     "text": [
      "# 98point6 Inc., founded 2015-03-01 [(Crunchbase, 2024)](https://www.crunchbase.com/organization/98point6)\n",
      "98point6 is a digital care service that delivers personalized consultation, diagnosis, and treatment to patients. The company combines deep technology with the expertise of board-certified physicians to provide text-based care anytime, anywhere. The company meets consumers where they are by offering private, text-based diagnosis and treatment via a mobile app. \n",
      "\n",
      "The company was founded in 2015 and is headquartered in Seattle, Washington.\n",
      "\n",
      "- [Website](http://www.98point6.com)\n",
      "- [LinkedIn](https://www.linkedin.com/company/98point6-inc.)\n",
      "- [Twitter](https://twitter.com/98point6inc)\n",
      "\n",
      "## Funding (299M USD total)\n",
      "\n",
      "- 32M USD on 2023-04-12\n",
      "- 20M USD on 2022-09-01\n",
      "- 118M USD on 2020-10-15\n",
      "- 43M USD on 2020-04-03\n",
      "- 50M USD on 2018-10-30\n",
      "- 20M USD on 2017-09-19\n",
      "- 12M USD on 2016-07-18\n",
      "- 3M USD on 2015-04-17\n",
      "\n",
      "\n",
      "## News\n",
      "\n",
      "- 98point6 lays off employees after shifting focus last year ([The Business Journals, 2024-04-27](https://www.bizjournals.com/seattle/news/2024/04/24/98point6-layoffs-seattle-telehealth-transcarent.html))\n",
      "- 98point6 hit by new layoffs in latest change at health tech startup ([GeekWire, 2024-04-27](https://www.geekwire.com/2024/98point6-hit-by-new-layoffs-in-latest-change-at-health-tech-startup/))\n",
      "- The Crunchbase Tech Layoffs Tracker ([None, 2024-04-26](https://news.crunchbase.com/startups/tech-layoffs/))\n",
      "- 98point6 lays off employees after shifting focus last year ([The Business Journals, 2024-04-24](https://www.bizjournals.com/seattle/news/2024/04/24/98point6-layoffs-seattle-telehealth-transcarent.html))\n",
      "- 98point6 hit by new layoffs in latest change at health tech startup ([GeekWire, 2024-04-23](https://www.geekwire.com/2024/98point6-hit-by-new-layoffs-in-latest-change-at-health-tech-startup/))\n",
      "- 98point6 hit by new layoffs in latest change at health tech startup ([Kurt Schlosser, 2024-04-23](https://www.geekwire.com/2024/98point6-hit-by-new-layoffs-in-latest-change-at-health-tech-startup/))\n",
      "- 98point6 buys asynchronous telehealth company Bright.md's remaining assets ([Yahoo Finance, 2024-01-17](https://finance.yahoo.com/news/98point6-buys-asynchronous-telehealth-company-152723381.html))\n",
      "- 98point6 acquires assets from Portland telehealth company - Puget Sound Business Journal ([The Business Journals, 2024-01-17](https://www.bizjournals.com/seattle/news/2024/01/17/98point6-brightmd-acquisition-seattle-telehealth.html))\n",
      "- 98point6 acquires assets from Portland telehealth company ([Puget Sound Business Journal, 2024-01-17](https://www.bizjournals.com/seattle/news/2024/01/17/98point6-brightmd-acquisition-seattle-telehealth.html))\n",
      "- 98point6 Technologies Announces the Acquisition of Bright.md to Accelerate the Launch of its Asynchronous Care ... ([PR Newswire, 2024-01-16](https://www.prnewswire.com/news-releases/98point6-technologies-announces-the-acquisition-of-brightmd-to-accelerate-the-launch-of-its-asynchronous-care-module-302034295.html))\n",
      "\n"
     ]
    }
   ],
   "source": [
    "print(overview_md)"
   ]
  },
  {
   "cell_type": "code",
   "execution_count": null,
   "metadata": {},
   "outputs": [],
   "source": []
  }
 ],
 "metadata": {
  "kernelspec": {
   "display_name": ".venv",
   "language": "python",
   "name": "python3"
  },
  "language_info": {
   "codemirror_mode": {
    "name": "ipython",
    "version": 3
   },
   "file_extension": ".py",
   "mimetype": "text/x-python",
   "name": "python",
   "nbconvert_exporter": "python",
   "pygments_lexer": "ipython3",
   "version": "3.10.12"
  }
 },
 "nbformat": 4,
 "nbformat_minor": 2
}
