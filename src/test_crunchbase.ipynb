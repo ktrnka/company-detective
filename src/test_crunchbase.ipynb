{
 "cells": [
  {
   "cell_type": "code",
   "execution_count": 30,
   "metadata": {},
   "outputs": [],
   "source": [
    "import scrapfly_scrapers.crunchbase\n",
    "from dotenv import load_dotenv\n",
    "from core import init_requests_cache\n",
    "\n",
    "# config\n",
    "init_requests_cache()\n",
    "load_dotenv()\n",
    "\n",
    "import scrapfly_scrapers.crunchbase.BASE_CONFIG[\"cache\"] = True"
   ]
  },
  {
   "cell_type": "code",
   "execution_count": 31,
   "metadata": {},
   "outputs": [],
   "source": [
    "from core import CompanyProduct\n",
    "\n",
    "target = CompanyProduct.same(\"98point6\")"
   ]
  },
  {
   "cell_type": "code",
   "execution_count": null,
   "metadata": {},
   "outputs": [],
   "source": [
    "import scrapfly_scrapers.crunchbase\n",
    "scrapfly_scrapers.crunchbase.BASE_CONFIG[\"cache\"] = True\n",
    "\n",
    "crunchbase_response = await crunchbase.scrape_company(url)\n",
    "\n",
    "pprint(crunchbase_response)"
   ]
  },
  {
   "cell_type": "code",
   "execution_count": 20,
   "metadata": {},
   "outputs": [],
   "source": [
    "from src.crunchbase.models import *\n",
    "\n",
    "organization, employees = parse(crunchbase_response)"
   ]
  },
  {
   "cell_type": "code",
   "execution_count": 21,
   "metadata": {},
   "outputs": [
    {
     "name": "stdout",
     "output_type": "stream",
     "text": [
      "# Rad AI, Inc., founded 2018-01-01\n",
      "Rad AI develops an artificial intelligence automated report generation platform to automate repetitive tasks for radiologists. Its platform integrates with existing workflow, automating repetitive tasks, and enabling radiologists to improve radiology workflow that maximizes efficiency and accuracy while reducing burnout for radiologists and improving patient care.\n",
      "\n",
      "Website: https://www.radai.com\n",
      "LinkedIn: https://www.linkedin.com/company/radai\n",
      "Twitter: https://twitter.com/radai\n",
      "Facebook: https://m.facebook.com/radaiFB\n",
      "\n",
      "## Funding (83M USD total)\n",
      "\n",
      "- 50M USD on 2024-05-07\n",
      "- 25M USD on 2021-11-10\n",
      "- 8M USD on 2020-08-20\n",
      "\n",
      "\n",
      "## News\n",
      "\n",
      "- Wake Radiology Adds Rad AI Technology to Revolutionize Radiology Reporting (Wake Radiology UNC Rex Healthcare, 2024-07-29)\n",
      "- Bayer, Rad AI partner for AI radiology workflow offering (Mobi Health News, 2024-07-01)\n",
      "- Bayer and Rad AI Announce Collaboration agreement (Business Wire, 2024-06-27)\n",
      "- Most-Active US Investors In May: Andreessen Horowitz And General Catalyst Lead Month With A Lot Of Big Rounds (Chris Metinko, 2024-06-07)\n",
      "- Rad AI raises $50M to invest in generative AI (Vator.tv, 2024-05-08)\n",
      "- Rad AI Announces Partnership with Google to Move Radiology Reporting Forward with AI (Rad AI, 2024-05-07)\n",
      "- Rad AI Scores $50M Series B Funding Round (VC News Daily, 2024-05-07)\n",
      "- RAD AI Announces Strategic Artificial Intelligence Buyout Plan to Propel Growth and Advance the Creator Economy (Morningstar, 2024-04-23)\n",
      "- RAD AI Boosts Beauty Strategy with Maya Kosovalic, Appoints NYX Professional Makeup’s Digital Maverick to its Advisory Board (Business Wire, 2024-03-26)\n",
      "\n"
     ]
    }
   ],
   "source": [
    "import jinja2\n",
    "\n",
    "\n",
    "# Create a Jinja2 environment and load templates from the directory\n",
    "env = jinja2.Environment(loader=jinja2.FileSystemLoader(\"templates\"))\n",
    "\n",
    "print(env.get_template(\"crunchbase.md\").render(organization=organization, employees=employees))"
   ]
  },
  {
   "cell_type": "code",
   "execution_count": 29,
   "metadata": {},
   "outputs": [
    {
     "name": "stdout",
     "output_type": "stream",
     "text": [
      "https://www.crunchbase.com/organization/pomelo-care/people\n"
     ]
    }
   ],
   "source": [
    "from search import search\n",
    "from core import CompanyProduct\n",
    "\n",
    "target = \"Rad AI\"\n",
    "# https://www.crunchbase.com/organization/radai/people\n",
    "# for result in search(f'site:www.crunchbase.com/organization \"{target}\" people'):\n",
    "#     pprint(result)\n",
    "\n",
    "def find_people_url(target: CompanyProduct) -> str:\n",
    "    result = next(search(f'site:www.crunchbase.com/organization \"{target.company}\"', num=1))\n",
    "    assert \"/organization/\" in result.link\n",
    "\n",
    "    return f\"{result.link}/people\"\n",
    "\n",
    "print(find_people_url(CompanyProduct.same(\"Pomelo Care\")))"
   ]
  },
  {
   "cell_type": "code",
   "execution_count": null,
   "metadata": {},
   "outputs": [],
   "source": []
  }
 ],
 "metadata": {
  "kernelspec": {
   "display_name": ".venv",
   "language": "python",
   "name": "python3"
  },
  "language_info": {
   "codemirror_mode": {
    "name": "ipython",
    "version": 3
   },
   "file_extension": ".py",
   "mimetype": "text/x-python",
   "name": "python",
   "nbconvert_exporter": "python",
   "pygments_lexer": "ipython3",
   "version": "3.10.12"
  }
 },
 "nbformat": 4,
 "nbformat_minor": 2
}
