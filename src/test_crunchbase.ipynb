{
 "cells": [
  {
   "cell_type": "code",
   "execution_count": 1,
   "metadata": {},
   "outputs": [],
   "source": [
    "from core import init\n",
    "\n",
    "init()"
   ]
  },
  {
   "cell_type": "code",
   "execution_count": 1,
   "metadata": {},
   "outputs": [],
   "source": [
    "from core import CompanyProduct\n",
    "\n",
    "target = CompanyProduct.same(\"Mt. Joy\")"
   ]
  },
  {
   "cell_type": "code",
   "execution_count": 40,
   "metadata": {},
   "outputs": [
    {
     "name": "stderr",
     "output_type": "stream",
     "text": [
      "\u001b[32m2024-08-23 10:42:58.667\u001b[0m | \u001b[34m\u001b[1mDEBUG   \u001b[0m | \u001b[36msearch\u001b[0m:\u001b[36msearch\u001b[0m:\u001b[36m58\u001b[0m - \u001b[34m\u001b[1mGoogle search results: {'kind': 'customsearch#search', 'url': {'type': 'application/json', 'template': 'https://www.googleapis.com/customsearch/v1?q={searchTerms}&num={count?}&start={startIndex?}&lr={language?}&safe={safe?}&cx={cx?}&sort={sort?}&filter={filter?}&gl={gl?}&cr={cr?}&googlehost={googleHost?}&c2coff={disableCnTwTranslation?}&hq={hq?}&hl={hl?}&siteSearch={siteSearch?}&siteSearchFilter={siteSearchFilter?}&exactTerms={exactTerms?}&excludeTerms={excludeTerms?}&linkSite={linkSite?}&orTerms={orTerms?}&dateRestrict={dateRestrict?}&lowRange={lowRange?}&highRange={highRange?}&searchType={searchType}&fileType={fileType?}&rights={rights?}&imgSize={imgSize?}&imgType={imgType?}&imgColorType={imgColorType?}&imgDominantColor={imgDominantColor?}&alt=json'}, 'queries': {'request': [{'title': 'Google Custom Search - site:www.crunchbase.com/organization \"Mt. Joy\"', 'totalResults': '1', 'searchTerms': 'site:www.crunchbase.com/organization \"Mt. Joy\"', 'count': 1, 'startIndex': 1, 'inputEncoding': 'utf8', 'outputEncoding': 'utf8', 'safe': 'off', 'cx': 'd5705c8967e3c4d63'}]}, 'context': {'title': 'company_detective'}, 'searchInformation': {'searchTime': 0.088524, 'formattedSearchTime': '0.09', 'totalResults': '1', 'formattedTotalResults': '1'}, 'items': [{'kind': 'customsearch#result', 'title': 'Coors Light - Crunchbase Company Profile & Funding', 'htmlTitle': 'Coors Light - Crunchbase Company Profile &amp; Funding', 'link': 'https://www.crunchbase.com/organization/coors-light', 'displayLink': 'www.crunchbase.com', 'snippet': 'PR Newswire — Coors Light® Announces New \"Chill Amplified\" Music Platform Headlined by Lainey Wilson, LL COOL J, Mt. Joy and Tainy · View All. Crunchbase\\xa0...', 'htmlSnippet': 'PR Newswire — Coors Light® Announces New &quot;Chill Amplified&quot; Music Platform Headlined by Lainey Wilson, LL COOL J, <b>Mt. Joy</b> and Tainy &middot; View All. Crunchbase&nbsp;...', 'formattedUrl': 'https://www.crunchbase.com/organization/coors-light', 'htmlFormattedUrl': 'https://www.crunchbase.com/organization/coors-light', 'pagemap': {'cse_thumbnail': [{'src': 'https://encrypted-tbn0.gstatic.com/images?q=tbn:ANd9GcSUZQeI7HKt0ldxdds_-98aj-Tm2svy7lMrvAdT0SQNJC3xLNyqjHwEnIo&s', 'width': '225', 'height': '225'}], 'metatags': [{'og:image': 'https://images.crunchbase.com/image/upload/c_pad,h_256,w_256,f_auto,q_auto:eco,dpr_1/m5havkfggusa9twgf0zd', 'og:type': 'website', 'og:image:alt': 'Coors Light', 'og:image:width': '256', 'og:site_name': 'Crunchbase', 'viewport': 'width=device-width, minimum-scale=1.0, initial-scale=1.0', 'og:title': 'Coors Light - Crunchbase Company Profile & Funding', 'og:image:height': '256', 'og:url': 'https://www.crunchbase.com/organization/coors-light', 'og:description': 'Coors Light is a brewery company.', 'og:image:secure_url': 'https://images.crunchbase.com/image/upload/c_pad,h_256,w_256,f_auto,q_auto:eco,dpr_1/m5havkfggusa9twgf0zd'}], 'cse_image': [{'src': 'https://images.crunchbase.com/image/upload/c_pad,h_256,w_256,f_auto,q_auto:eco,dpr_1/m5havkfggusa9twgf0zd'}]}}]}\u001b[0m\n"
     ]
    }
   ],
   "source": [
    "from typing import Optional, Iterable\n",
    "from google_search import search, SearchResult\n",
    "\n",
    "def filter_url(search_iter: Iterable[SearchResult], url_substring: str) -> Iterable[SearchResult]:\n",
    "    for result in search_iter:\n",
    "        if url_substring in result.link:\n",
    "            yield result\n",
    "\n",
    "def filter_title_relevance(search_iter: Iterable[SearchResult], query: str, min_unigram_ratio=0.5) -> Iterable[SearchResult]:\n",
    "    query_unigrams = set(query.split())\n",
    "    for result in search_iter:\n",
    "        title_unigrams = set(result.title.split())\n",
    "        if len(title_unigrams & query_unigrams) / len(query_unigrams) > min_unigram_ratio:\n",
    "            yield result\n",
    "\n",
    "def find_people_url(target: CompanyProduct) -> Optional[str]:\n",
    "    \"\"\"Find the Crunchbase people page for a company using Google search\"\"\"\n",
    "\n",
    "    results_iter = search(f'site:www.crunchbase.com/organization \"{target.company}\"', num=10)\n",
    "    results_iter = filter_url(results_iter, \"/organization/\")\n",
    "    results_iter = filter_title_relevance(results_iter, target.company)\n",
    "    \n",
    "    results = list(results_iter)\n",
    "\n",
    "    if not results:\n",
    "        return None\n",
    "\n",
    "    return f\"{results[0].link}/people\"\n",
    "\n",
    "find_people_url(CompanyProduct.same(\"Mt. Joy\"))"
   ]
  },
  {
   "cell_type": "code",
   "execution_count": 42,
   "metadata": {},
   "outputs": [
    {
     "name": "stderr",
     "output_type": "stream",
     "text": [
      "\u001b[32m2024-08-23 10:50:02.998\u001b[0m | \u001b[34m\u001b[1mDEBUG   \u001b[0m | \u001b[36msearch\u001b[0m:\u001b[36msearch\u001b[0m:\u001b[36m58\u001b[0m - \u001b[34m\u001b[1mGoogle search results: {'kind': 'customsearch#search', 'url': {'type': 'application/json', 'template': 'https://www.googleapis.com/customsearch/v1?q={searchTerms}&num={count?}&start={startIndex?}&lr={language?}&safe={safe?}&cx={cx?}&sort={sort?}&filter={filter?}&gl={gl?}&cr={cr?}&googlehost={googleHost?}&c2coff={disableCnTwTranslation?}&hq={hq?}&hl={hl?}&siteSearch={siteSearch?}&siteSearchFilter={siteSearchFilter?}&exactTerms={exactTerms?}&excludeTerms={excludeTerms?}&linkSite={linkSite?}&orTerms={orTerms?}&dateRestrict={dateRestrict?}&lowRange={lowRange?}&highRange={highRange?}&searchType={searchType}&fileType={fileType?}&rights={rights?}&imgSize={imgSize?}&imgType={imgType?}&imgColorType={imgColorType?}&imgDominantColor={imgDominantColor?}&alt=json'}, 'queries': {'request': [{'title': 'Google Custom Search - site:www.glassdoor.com/Reviews/ \"Mt. Joy\"', 'totalResults': '1', 'searchTerms': 'site:www.glassdoor.com/Reviews/ \"Mt. Joy\"', 'count': 1, 'startIndex': 1, 'inputEncoding': 'utf8', 'outputEncoding': 'utf8', 'safe': 'off', 'cx': 'd5705c8967e3c4d63'}]}, 'context': {'title': 'company_detective'}, 'searchInformation': {'searchTime': 0.192842, 'formattedSearchTime': '0.19', 'totalResults': '1', 'formattedTotalResults': '1'}, 'items': [{'kind': 'customsearch#result', 'title': 'Blueprints for Addiction Recovery Reviews in Lancaster | Glassdoor', 'htmlTitle': 'Blueprints for Addiction Recovery Reviews in Lancaster | Glassdoor', 'link': 'https://www.glassdoor.com/Reviews/Blueprints-for-Addiction-Recovery-Lancaster-Reviews-EI_IE7017930.0,33_IL.34,43_IM470.htm', 'displayLink': 'www.glassdoor.com', 'snippet': \"Environmental sustainability varies significantly depending on which location you're at (Mt Joy is chaotic, Lancaster is laid back and goofy). Can feel\\xa0...\", 'htmlSnippet': 'Environmental sustainability varies significantly depending on which location you&#39;re at (<b>Mt Joy</b> is chaotic, Lancaster is laid back and goofy). Can feel&nbsp;...', 'formattedUrl': 'https://www.glassdoor.com/.../Blueprints-for-Addiction-Recovery-Lancaster...', 'htmlFormattedUrl': 'https://www.glassdoor.com/.../Blueprints-for-Addiction-Recovery-Lancaster...', 'pagemap': {'breadcrumb': [{'title': 'Reviews', 'url': 'Reviews>'}, {'title': 'Lancaster', 'url': 'Lancaster>'}, {'title': 'Blueprints for Addiction Recovery', 'url': 'Blueprints for Addiction Recovery'}], 'metatags': [{'next-head-count': '34', 'referrer': 'origin', 'og:type': 'website', 'theme-color': '#0caa41', 'og:site_name': 'Glassdoor', 'apple-mobile-web-app-status-bar-style': '#0caa41', 'viewport': 'width=device-width', 'apple-mobile-web-app-capable': 'yes', 'og:title': 'Blueprints for Addiction Recovery Reviews in Lancaster', 'bingbot': 'nocache', 'og:description': '6 Blueprints for Addiction Recovery reviews in Lancaster. A free inside look at company reviews and salaries posted anonymously by employees.', 'msapplication-navbutton-color': '#0caa41'}]}}]}\u001b[0m\n"
     ]
    }
   ],
   "source": [
    "import re\n",
    "\n",
    "def find_review(target: CompanyProduct) -> Optional[SearchResult]:\n",
    "    \"\"\"Find the Glassdoor review page for a company\"\"\"\n",
    "    query = f'site:www.glassdoor.com/Reviews/ \"{target.company}\"'\n",
    "\n",
    "    urls = list(search(query, num=10))\n",
    "    # logger.debug(\"Search results {}\", urls)\n",
    "\n",
    "    # Filter\n",
    "    urls = [url for url in urls if re.match(r\".*/Reviews/(.*)-Reviews-E([0-9A-F]+).htm.*\", url.link)]\n",
    "\n",
    "    # logger.debug(\"Filtered results {}\", urls)\n",
    "\n",
    "    if not urls:\n",
    "        return None\n",
    "    return urls[0]\n",
    "\n",
    "find_review(CompanyProduct.same(\"Mt. Joy\"))"
   ]
  },
  {
   "cell_type": "code",
   "execution_count": 25,
   "metadata": {},
   "outputs": [
    {
     "name": "stderr",
     "output_type": "stream",
     "text": [
      "\u001b[32m2024-08-23 10:33:31.312\u001b[0m | \u001b[34m\u001b[1mDEBUG   \u001b[0m | \u001b[36msearch\u001b[0m:\u001b[36msearch\u001b[0m:\u001b[36m58\u001b[0m - \u001b[34m\u001b[1mGoogle search results: {'kind': 'customsearch#search', 'url': {'type': 'application/json', 'template': 'https://www.googleapis.com/customsearch/v1?q={searchTerms}&num={count?}&start={startIndex?}&lr={language?}&safe={safe?}&cx={cx?}&sort={sort?}&filter={filter?}&gl={gl?}&cr={cr?}&googlehost={googleHost?}&c2coff={disableCnTwTranslation?}&hq={hq?}&hl={hl?}&siteSearch={siteSearch?}&siteSearchFilter={siteSearchFilter?}&exactTerms={exactTerms?}&excludeTerms={excludeTerms?}&linkSite={linkSite?}&orTerms={orTerms?}&dateRestrict={dateRestrict?}&lowRange={lowRange?}&highRange={highRange?}&searchType={searchType}&fileType={fileType?}&rights={rights?}&imgSize={imgSize?}&imgType={imgType?}&imgColorType={imgColorType?}&imgDominantColor={imgDominantColor?}&alt=json'}, 'queries': {'request': [{'title': 'Google Custom Search - site:crunchbase.com/organization \"Mt. Joy\"', 'totalResults': '1', 'searchTerms': 'site:crunchbase.com/organization \"Mt. Joy\"', 'count': 1, 'startIndex': 1, 'inputEncoding': 'utf8', 'outputEncoding': 'utf8', 'safe': 'off', 'cx': 'd5705c8967e3c4d63'}]}, 'context': {'title': 'company_detective'}, 'searchInformation': {'searchTime': 0.092253, 'formattedSearchTime': '0.09', 'totalResults': '1', 'formattedTotalResults': '1'}, 'items': [{'kind': 'customsearch#result', 'title': 'Coors Light - Crunchbase Company Profile & Funding', 'htmlTitle': 'Coors Light - Crunchbase Company Profile &amp; Funding', 'link': 'https://www.crunchbase.com/organization/coors-light', 'displayLink': 'www.crunchbase.com', 'snippet': 'PR Newswire — Coors Light® Announces New \"Chill Amplified\" Music Platform Headlined by Lainey Wilson, LL COOL J, Mt. Joy and Tainy · View All. Crunchbase\\xa0...', 'htmlSnippet': 'PR Newswire — Coors Light® Announces New &quot;Chill Amplified&quot; Music Platform Headlined by Lainey Wilson, LL COOL J, <b>Mt. Joy</b> and Tainy &middot; View All. Crunchbase&nbsp;...', 'formattedUrl': 'https://www.crunchbase.com/organization/coors-light', 'htmlFormattedUrl': 'https://www.crunchbase.com/organization/coors-light', 'pagemap': {'cse_thumbnail': [{'src': 'https://encrypted-tbn0.gstatic.com/images?q=tbn:ANd9GcSUZQeI7HKt0ldxdds_-98aj-Tm2svy7lMrvAdT0SQNJC3xLNyqjHwEnIo&s', 'width': '225', 'height': '225'}], 'metatags': [{'og:image': 'https://images.crunchbase.com/image/upload/c_pad,h_256,w_256,f_auto,q_auto:eco,dpr_1/m5havkfggusa9twgf0zd', 'og:type': 'website', 'og:image:alt': 'Coors Light', 'og:image:width': '256', 'og:site_name': 'Crunchbase', 'viewport': 'width=device-width, minimum-scale=1.0, initial-scale=1.0', 'og:title': 'Coors Light - Crunchbase Company Profile & Funding', 'og:image:height': '256', 'og:url': 'https://www.crunchbase.com/organization/coors-light', 'og:description': 'Coors Light is a brewery company.', 'og:image:secure_url': 'https://images.crunchbase.com/image/upload/c_pad,h_256,w_256,f_auto,q_auto:eco,dpr_1/m5havkfggusa9twgf0zd'}], 'cse_image': [{'src': 'https://images.crunchbase.com/image/upload/c_pad,h_256,w_256,f_auto,q_auto:eco,dpr_1/m5havkfggusa9twgf0zd'}]}}]}\u001b[0m\n"
     ]
    },
    {
     "data": {
      "text/plain": [
       "[SearchResult(title='Coors Light - Crunchbase Company Profile & Funding', link='https://www.crunchbase.com/organization/coors-light', snippet='PR Newswire — Coors Light® Announces New \"Chill Amplified\" Music Platform Headlined by Lainey Wilson, LL COOL J, Mt. Joy and Tainy · View All. Crunchbase\\xa0...', formattedUrl='https://www.crunchbase.com/organization/coors-light')]"
      ]
     },
     "execution_count": 25,
     "metadata": {},
     "output_type": "execute_result"
    }
   ],
   "source": [
    "from google_search import search\n",
    "\n",
    "results = list(\n",
    "    search(f'site:crunchbase.com/organization \"Mt. Joy\"', num=10)\n",
    ")\n",
    "results"
   ]
  },
  {
   "cell_type": "code",
   "execution_count": 3,
   "metadata": {},
   "outputs": [
    {
     "name": "stdout",
     "output_type": "stream",
     "text": [
      "[SearchResult(title='Coors Light - Crunchbase Company Profile & Funding', link='https://www.crunchbase.com/organization/coors-light', snippet='PR Newswire — Coors Light® Announces New \"Chill Amplified\" Music Platform Headlined by Lainey Wilson, LL COOL J, Mt. Joy and Tainy · View All. Crunchbase\\xa0...', formattedUrl='https://www.crunchbase.com/organization/coors-light')]\n"
     ]
    }
   ],
   "source": [
    "from pprint import pprint\n",
    "pprint(results)"
   ]
  },
  {
   "cell_type": "code",
   "execution_count": 4,
   "metadata": {},
   "outputs": [
    {
     "name": "stdout",
     "output_type": "stream",
     "text": [
      "q: site:crunchbase.com/organization \"Mt. Joy\"\n",
      "sca_esv: f5ef27e69a38b3b6\n",
      "sca_upv: 1\n",
      "sxsrf: ADLYWIInUBh188rUTu-68vYal_LfnjXOuQ:1724433162307\n",
      "ei: CsPIZvG0EtXA0PEPorTRwQw\n",
      "ved: 0ahUKEwjx4c-QzouIAxVVIDQIHSJaNMgQ4dUDCA8\n",
      "uact: 5\n",
      "oq: site:crunchbase.com/organization \"Mt. Joy\"\n",
      "gs_lp: Egxnd3Mtd2l6LXNlcnAiKnNpdGU6Y3J1bmNoYmFzZS5jb20vb3JnYW5pemF0aW9uICJNdC4gSm95IkirFlDsB1jMFHABeACQAQCYATmgAZEFqgECMTO4AQPIAQD4AQGYAgCgAgCYAwCIBgGSBwCgB8kE\n",
      "sclient: gws-wiz-serp\n"
     ]
    }
   ],
   "source": [
    "from urllib.parse import parse_qs, urlparse\n",
    "\n",
    "url = \"https://www.google.com/search?q=site%3Acrunchbase.com%2Forganization+%22Mt.+Joy%22&sca_esv=f5ef27e69a38b3b6&sca_upv=1&sxsrf=ADLYWIInUBh188rUTu-68vYal_LfnjXOuQ%3A1724433162307&ei=CsPIZvG0EtXA0PEPorTRwQw&ved=0ahUKEwjx4c-QzouIAxVVIDQIHSJaNMgQ4dUDCA8&uact=5&oq=site%3Acrunchbase.com%2Forganization+%22Mt.+Joy%22&gs_lp=Egxnd3Mtd2l6LXNlcnAiKnNpdGU6Y3J1bmNoYmFzZS5jb20vb3JnYW5pemF0aW9uICJNdC4gSm95IkirFlDsB1jMFHABeACQAQCYATmgAZEFqgECMTO4AQPIAQD4AQGYAgCgAgCYAwCIBgGSBwCgB8kE&sclient=gws-wiz-serp\"\n",
    "\n",
    "parsed_url = urlparse(url)\n",
    "query_params = parse_qs(parsed_url.query)\n",
    "\n",
    "for param, values in query_params.items():\n",
    "    print(f\"{param}: {values[0]}\")"
   ]
  },
  {
   "cell_type": "code",
   "execution_count": 3,
   "metadata": {},
   "outputs": [
    {
     "name": "stderr",
     "output_type": "stream",
     "text": [
      "\u001b[32m2024-08-23 10:15:02.563\u001b[0m | \u001b[34m\u001b[1mDEBUG   \u001b[0m | \u001b[36msearch\u001b[0m:\u001b[36msearch\u001b[0m:\u001b[36m58\u001b[0m - \u001b[34m\u001b[1mGoogle search results: {'kind': 'customsearch#search', 'url': {'type': 'application/json', 'template': 'https://www.googleapis.com/customsearch/v1?q={searchTerms}&num={count?}&start={startIndex?}&lr={language?}&safe={safe?}&cx={cx?}&sort={sort?}&filter={filter?}&gl={gl?}&cr={cr?}&googlehost={googleHost?}&c2coff={disableCnTwTranslation?}&hq={hq?}&hl={hl?}&siteSearch={siteSearch?}&siteSearchFilter={siteSearchFilter?}&exactTerms={exactTerms?}&excludeTerms={excludeTerms?}&linkSite={linkSite?}&orTerms={orTerms?}&dateRestrict={dateRestrict?}&lowRange={lowRange?}&highRange={highRange?}&searchType={searchType}&fileType={fileType?}&rights={rights?}&imgSize={imgSize?}&imgType={imgType?}&imgColorType={imgColorType?}&imgDominantColor={imgDominantColor?}&alt=json'}, 'queries': {'request': [{'title': 'Google Custom Search - site:www.crunchbase.com/organization \"Mt. Joy\"', 'totalResults': '1', 'searchTerms': 'site:www.crunchbase.com/organization \"Mt. Joy\"', 'count': 1, 'startIndex': 1, 'language': 'lang_en', 'inputEncoding': 'utf8', 'outputEncoding': 'utf8', 'safe': 'off', 'cx': 'd5705c8967e3c4d63', 'gl': 'us', 'hl': 'en'}]}, 'context': {'title': 'company_detective'}, 'searchInformation': {'searchTime': 0.176875, 'formattedSearchTime': '0.18', 'totalResults': '1', 'formattedTotalResults': '1'}, 'items': [{'kind': 'customsearch#result', 'title': 'Coors Light - Crunchbase Company Profile & Funding', 'htmlTitle': 'Coors Light - Crunchbase Company Profile &amp; Funding', 'link': 'https://www.crunchbase.com/organization/coors-light', 'displayLink': 'www.crunchbase.com', 'snippet': 'PR Newswire — Coors Light® Announces New \"Chill Amplified\" Music Platform Headlined by Lainey Wilson, LL COOL J, Mt. Joy and Tainy · View All. Crunchbase\\xa0...', 'htmlSnippet': 'PR Newswire — Coors Light® Announces New &quot;Chill Amplified&quot; Music Platform Headlined by Lainey Wilson, LL COOL J, <b>Mt. Joy</b> and Tainy &middot; View All. Crunchbase&nbsp;...', 'formattedUrl': 'https://www.crunchbase.com/organization/coors-light', 'htmlFormattedUrl': 'https://www.crunchbase.com/organization/coors-light', 'pagemap': {'cse_thumbnail': [{'src': 'https://encrypted-tbn0.gstatic.com/images?q=tbn:ANd9GcSUZQeI7HKt0ldxdds_-98aj-Tm2svy7lMrvAdT0SQNJC3xLNyqjHwEnIo&s', 'width': '225', 'height': '225'}], 'metatags': [{'og:image': 'https://images.crunchbase.com/image/upload/c_pad,h_256,w_256,f_auto,q_auto:eco,dpr_1/m5havkfggusa9twgf0zd', 'og:type': 'website', 'og:image:alt': 'Coors Light', 'og:image:width': '256', 'og:site_name': 'Crunchbase', 'viewport': 'width=device-width, minimum-scale=1.0, initial-scale=1.0', 'og:title': 'Coors Light - Crunchbase Company Profile & Funding', 'og:image:height': '256', 'og:url': 'https://www.crunchbase.com/organization/coors-light', 'og:description': 'Coors Light is a brewery company.', 'og:image:secure_url': 'https://images.crunchbase.com/image/upload/c_pad,h_256,w_256,f_auto,q_auto:eco,dpr_1/m5havkfggusa9twgf0zd'}], 'cse_image': [{'src': 'https://images.crunchbase.com/image/upload/c_pad,h_256,w_256,f_auto,q_auto:eco,dpr_1/m5havkfggusa9twgf0zd'}]}}]}\u001b[0m\n",
      "\u001b[32m2024-08-23 10:15:02.566\u001b[0m | \u001b[1mINFO    \u001b[0m | \u001b[36mscrapfly_scrapers.crunchbase\u001b[0m:\u001b[36mscrape_company\u001b[0m:\u001b[36m62\u001b[0m - \u001b[1mscraping company: https://www.crunchbase.com/organization/coors-light/people\u001b[0m\n",
      "\u001b[32m2024-08-23 10:15:02.601\u001b[0m | \u001b[34m\u001b[1mDEBUG   \u001b[0m | \u001b[36mcrunchbase\u001b[0m:\u001b[36mrun\u001b[0m:\u001b[36m42\u001b[0m - \u001b[34m\u001b[1mCrunchbase response: {'organization': {'id': 'coors-light', 'name': 'Coors Light', 'logo': 'm5havkfggusa9twgf0zd', 'description': 'Coors Light is a beer manufacturer that uses ingredients such as barley malt, hop extract, lager yeast, and corn syrup in its products. Their store sells a variety of accessories, apparel, bars, and sports equipment, among other things. Reusable and recyclable beer bottles are used by them.', 'linkedin': 'https://www.linkedin.com/company/coors-light/', 'facebook': None, 'twitter': 'https://twitter.com/CoorsLight/', 'email': None, 'phone': None, 'website': 'https://coorslight.com', 'ipo_status': 'private', 'rank_org_company': 432526, 'semrush_global_rank': 56941, 'semrush_visits_latest_month': 1051281, 'semrush_id': 'coors-light', 'categories': ['Food and Beverage', 'Manufacturing', 'Wine And Spirits'], 'legal_name': 'Molson Coors Beverage Company', 'operating_status': 'active', 'last_funding_type': None, 'founded_on': None, 'location_groups': ['Greater Denver Area', 'Western US'], 'trademarks': None, 'trademark_popular_class': None, 'patents': None, 'patent_popular_category': None, 'investments': [], 'investors': [], 'acquisitions': None, 'contacts': None, 'funding_total_usd': None, 'stock_symbol': None, 'exits': None, 'similar_orgs': 20, 'current_positions': None, 'investors_lead': None, 'investments_lead': None, 'funding_rounds': [], 'event_appearances': None, 'advisors': None, 'buildwith_tech_used': 32, 'similar': [{'score': 0.9509235, 'reasons': ['category', 'revenue'], 'id': 'coors-light'}, {'score': 0.91883606, 'reasons': ['category', 'description', 'num_employees', 'revenue'], 'id': 'coors-light'}, {'score': 0.9182247, 'reasons': ['category', 'description'], 'id': 'coors-light'}, {'score': 0.91702265, 'reasons': ['category', 'num_employees', 'revenue'], 'id': 'coors-light'}, {'score': 0.9112774, 'reasons': ['category', 'num_employees', 'revenue'], 'id': 'coors-light'}, {'score': 0.9031694, 'reasons': ['category', 'num_employees', 'revenue'], 'id': 'coors-light'}, {'score': 0.901331, 'reasons': ['category'], 'id': 'coors-light'}, {'score': 0.90005654, 'reasons': ['category'], 'id': 'coors-light'}, {'score': 0.8911056, 'reasons': ['category', 'description', 'num_employees', 'revenue'], 'id': 'coors-light'}, {'score': 0.8865923, 'reasons': ['category', 'description', 'num_employees'], 'id': 'coors-light'}, {'score': 0.8863795, 'reasons': ['category', 'description', 'num_employees', 'revenue'], 'id': 'coors-light'}, {'score': 0.8839794, 'reasons': ['category', 'description', 'revenue'], 'id': 'coors-light'}, {'score': 0.87853974, 'reasons': ['category', 'description', 'num_employees'], 'id': 'coors-light'}, {'score': 0.8780156, 'reasons': ['category', 'description', 'revenue'], 'id': 'coors-light'}, {'score': 0.8684041, 'reasons': ['category', 'description', 'num_employees', 'revenue'], 'id': 'coors-light'}, {'score': 0.84681094, 'reasons': ['category', 'num_employees', 'revenue'], 'id': 'coors-light'}, {'score': 0.7805597, 'reasons': ['category'], 'id': 'coors-light'}, {'score': 0.7750778, 'reasons': ['category', 'num_employees'], 'id': 'just-pop-in'}, {'score': 0.72988415, 'reasons': ['description'], 'id': 'coors-light'}, {'score': 0.72564465, 'reasons': ['category'], 'id': 'coors-light'}], 'timeline': [{'title': 'Coors Light® Refreshes the Game with New Chill Jersey for Passionate Soccer Fans', 'author': None, 'publisher': 'PR Newswire', 'url': 'https://www.prnewswire.com/news-releases/coors-light-refreshes-the-game-with-new-chill-jersey-for-passionate-soccer-fans-302173390.html', 'thumb': None, 'date': '2024-07-03', 'type': 'press_reference'}, {'title': 'Bud Light sales still falling as Modelo, Coors fight to keep their gains', 'author': None, 'publisher': 'Yahoo Finance', 'url': 'https://finance.yahoo.com/news/bud-light-sales-still-falling-as-modelo-coors-fight-to-keep-their-gains-173043825.html', 'thumb': None, 'date': '2024-05-10', 'type': 'press_reference'}, {'title': 'Coors Light® Announces New \"Chill Amplified\" Music Platform Headlined by Lainey Wilson, LL COOL J, Mt. Joy and Tainy', 'author': None, 'publisher': 'PR Newswire', 'url': 'https://www.prnewswire.com/news-releases/coors-light-announces-new-chill-amplified-music-platform-headlined-by-lainey-wilson-ll-cool-j-mt-joy-and-tainy-302136242.html', 'thumb': None, 'date': '2024-05-06', 'type': 'press_reference'}, {'title': 'Big rig crashes, spills cans of Coors Light all over I-80 in Sierra', 'author': None, 'publisher': 'CBS News', 'url': 'https://www.cbsnews.com/sacramento/news/big-rig-crashes-spills-cans-of-coors-light-all-over-i-80-in-sierra/', 'thumb': None, 'date': '2024-05-04', 'type': 'press_reference'}, {'title': \"Patrick Mahomes partners with Coors Light on 'Dad Bod' T-shirts for children's charity\", 'author': None, 'publisher': 'Fox Business', 'url': 'https://www.foxbusiness.com/sports/patrick-mahomes-partners-coors-light-dad-bod-t-shirts-childrens-charity', 'thumb': None, 'date': '2024-05-04', 'type': 'press_reference'}, {'title': 'Coors Light® Announces New \"Chill Amplified\" Music Platform Headlined by Lainey Wilson, LL COOL J, Mt. Joy and ...', 'author': None, 'publisher': 'PR Newswire', 'url': 'https://www.prnewswire.com/news-releases/coors-light-announces-new-chill-amplified-music-platform-headlined-by-lainey-wilson-ll-cool-j-mt-joy-and-tainy-302136242.html', 'thumb': None, 'date': '2024-05-04', 'type': 'press_reference'}, {'title': 'Molson Coors workers in Fort Worth see no end in sight as strike enters second month', 'author': None, 'publisher': 'Dallas News', 'url': 'https://www.dallasnews.com/business/jobs/2024/03/18/molson-coors-workers-in-fort-worth-see-no-end-in-sight-as-strike-enters-second-month/', 'thumb': None, 'date': '2024-03-18', 'type': 'press_reference'}, {'title': 'PROMO: Coors Light #ChillYourGame Basketball Shoes Giveaway | Free Fun | nola.com', 'author': None, 'publisher': 'NOLA.com', 'url': 'https://www.nola.com/gambit/free_fun/promo-coors-light-chillyourgame-basketball-shoes-giveaway/article_00095d0c-db0d-11ee-93d5-f7def54bcfb6.html', 'thumb': None, 'date': '2024-03-05', 'type': 'press_reference'}, {'title': 'Molson Coors looks to lock in market share gains as consumers shift away from Bud Light', 'author': None, 'publisher': 'CNBC', 'url': 'https://www.cnbc.com/2024/02/13/molson-coors-gains-market-share-as-consumers-shift-away-from-bud-light.html', 'thumb': None, 'date': '2024-03-05', 'type': 'press_reference'}, {'title': 'Molson Coors posts strong Q4, full year results as marketing bets increase', 'author': None, 'publisher': 'Yahoo Finance', 'url': 'https://finance.yahoo.com/news/molson-coors-posts-strong-q4-110000516.html', 'thumb': 'https://finance.yahoo.com/news/molson-coors-posts-strong-q4-110000516.html', 'date': '2024-02-14', 'type': 'press_reference'}], 'events': []}, 'employees': []}\u001b[0m\n"
     ]
    },
    {
     "ename": "ValidationError",
     "evalue": "1 validation error for Organization\nfounded_on\n  Input should be a valid date [type=date_type, input_value=None, input_type=NoneType]\n    For further information visit https://errors.pydantic.dev/2.8/v/date_type",
     "output_type": "error",
     "traceback": [
      "\u001b[0;31m---------------------------------------------------------------------------\u001b[0m",
      "\u001b[0;31mValidationError\u001b[0m                           Traceback (most recent call last)",
      "Cell \u001b[0;32mIn[3], line 3\u001b[0m\n\u001b[1;32m      1\u001b[0m \u001b[38;5;28;01mimport\u001b[39;00m \u001b[38;5;21;01mcrunchbase\u001b[39;00m\n\u001b[0;32m----> 3\u001b[0m overview_md \u001b[38;5;241m=\u001b[39m \u001b[38;5;28;01mawait\u001b[39;00m crunchbase\u001b[38;5;241m.\u001b[39mrun(target)\n",
      "File \u001b[0;32m~/company-detective/src/crunchbase/__init__.py:43\u001b[0m, in \u001b[0;36mrun\u001b[0;34m(target)\u001b[0m\n\u001b[1;32m     41\u001b[0m crunchbase_raw_response \u001b[38;5;241m=\u001b[39m _response_cache[url]\n\u001b[1;32m     42\u001b[0m logger\u001b[38;5;241m.\u001b[39mdebug(\u001b[38;5;124m\"\u001b[39m\u001b[38;5;124mCrunchbase response: \u001b[39m\u001b[38;5;132;01m{}\u001b[39;00m\u001b[38;5;124m\"\u001b[39m, crunchbase_raw_response)\n\u001b[0;32m---> 43\u001b[0m organization, employees \u001b[38;5;241m=\u001b[39m \u001b[43mparse\u001b[49m\u001b[43m(\u001b[49m\u001b[43mcrunchbase_raw_response\u001b[49m\u001b[43m)\u001b[49m\n\u001b[1;32m     45\u001b[0m \u001b[38;5;28;01mreturn\u001b[39;00m templates\u001b[38;5;241m.\u001b[39mget_template(\u001b[38;5;124m\"\u001b[39m\u001b[38;5;124mcrunchbase.md\u001b[39m\u001b[38;5;124m\"\u001b[39m)\u001b[38;5;241m.\u001b[39mrender(\n\u001b[1;32m     46\u001b[0m     organization\u001b[38;5;241m=\u001b[39morganization, employees\u001b[38;5;241m=\u001b[39memployees, current_year\u001b[38;5;241m=\u001b[39mdatetime\u001b[38;5;241m.\u001b[39mnow()\u001b[38;5;241m.\u001b[39myear\n\u001b[1;32m     47\u001b[0m )\n",
      "File \u001b[0;32m~/company-detective/src/crunchbase/models.py:69\u001b[0m, in \u001b[0;36mparse\u001b[0;34m(response)\u001b[0m\n\u001b[1;32m     68\u001b[0m \u001b[38;5;28;01mdef\u001b[39;00m \u001b[38;5;21mparse\u001b[39m(response: \u001b[38;5;28mdict\u001b[39m) \u001b[38;5;241m-\u001b[39m\u001b[38;5;241m>\u001b[39m Tuple[Organization, List[Employee]]:\n\u001b[0;32m---> 69\u001b[0m     \u001b[38;5;28;01mreturn\u001b[39;00m \u001b[43mOrganization\u001b[49m\u001b[43m(\u001b[49m\u001b[38;5;241;43m*\u001b[39;49m\u001b[38;5;241;43m*\u001b[39;49m\u001b[43mresponse\u001b[49m\u001b[43m[\u001b[49m\u001b[38;5;124;43m\"\u001b[39;49m\u001b[38;5;124;43morganization\u001b[39;49m\u001b[38;5;124;43m\"\u001b[39;49m\u001b[43m]\u001b[49m\u001b[43m)\u001b[49m, [Employee(\u001b[38;5;241m*\u001b[39m\u001b[38;5;241m*\u001b[39memp) \u001b[38;5;28;01mfor\u001b[39;00m emp \u001b[38;5;129;01min\u001b[39;00m response[\u001b[38;5;124m\"\u001b[39m\u001b[38;5;124memployees\u001b[39m\u001b[38;5;124m\"\u001b[39m]]\n",
      "File \u001b[0;32m~/company-detective/.venv/lib/python3.10/site-packages/pydantic/main.py:193\u001b[0m, in \u001b[0;36mBaseModel.__init__\u001b[0;34m(self, **data)\u001b[0m\n\u001b[1;32m    191\u001b[0m \u001b[38;5;66;03m# `__tracebackhide__` tells pytest and some other tools to omit this function from tracebacks\u001b[39;00m\n\u001b[1;32m    192\u001b[0m __tracebackhide__ \u001b[38;5;241m=\u001b[39m \u001b[38;5;28;01mTrue\u001b[39;00m\n\u001b[0;32m--> 193\u001b[0m \u001b[38;5;28;43mself\u001b[39;49m\u001b[38;5;241;43m.\u001b[39;49m\u001b[43m__pydantic_validator__\u001b[49m\u001b[38;5;241;43m.\u001b[39;49m\u001b[43mvalidate_python\u001b[49m\u001b[43m(\u001b[49m\u001b[43mdata\u001b[49m\u001b[43m,\u001b[49m\u001b[43m \u001b[49m\u001b[43mself_instance\u001b[49m\u001b[38;5;241;43m=\u001b[39;49m\u001b[38;5;28;43mself\u001b[39;49m\u001b[43m)\u001b[49m\n",
      "\u001b[0;31mValidationError\u001b[0m: 1 validation error for Organization\nfounded_on\n  Input should be a valid date [type=date_type, input_value=None, input_type=NoneType]\n    For further information visit https://errors.pydantic.dev/2.8/v/date_type"
     ]
    }
   ],
   "source": [
    "import crunchbase\n",
    "\n",
    "overview_md = await crunchbase.run(target)"
   ]
  },
  {
   "cell_type": "code",
   "execution_count": null,
   "metadata": {},
   "outputs": [
    {
     "name": "stdout",
     "output_type": "stream",
     "text": [
      "# 98point6 Inc., founded 2015-03-01 [(Crunchbase, 2024)](https://www.crunchbase.com/organization/98point6)\n",
      "98point6 is a digital care service that delivers personalized consultation, diagnosis, and treatment to patients. The company combines deep technology with the expertise of board-certified physicians to provide text-based care anytime, anywhere. The company meets consumers where they are by offering private, text-based diagnosis and treatment via a mobile app. \n",
      "\n",
      "The company was founded in 2015 and is headquartered in Seattle, Washington.\n",
      "\n",
      "- [Website](http://www.98point6.com)\n",
      "- [LinkedIn](https://www.linkedin.com/company/98point6-inc.)\n",
      "- [Twitter](https://twitter.com/98point6inc)\n",
      "\n",
      "## Funding (299M USD total)\n",
      "\n",
      "- 32M USD on 2023-04-12\n",
      "- 20M USD on 2022-09-01\n",
      "- 118M USD on 2020-10-15\n",
      "- 43M USD on 2020-04-03\n",
      "- 50M USD on 2018-10-30\n",
      "- 20M USD on 2017-09-19\n",
      "- 12M USD on 2016-07-18\n",
      "- 3M USD on 2015-04-17\n",
      "\n",
      "\n",
      "## News\n",
      "\n",
      "- 98point6 lays off employees after shifting focus last year ([The Business Journals, 2024-04-27](https://www.bizjournals.com/seattle/news/2024/04/24/98point6-layoffs-seattle-telehealth-transcarent.html))\n",
      "- 98point6 hit by new layoffs in latest change at health tech startup ([GeekWire, 2024-04-27](https://www.geekwire.com/2024/98point6-hit-by-new-layoffs-in-latest-change-at-health-tech-startup/))\n",
      "- The Crunchbase Tech Layoffs Tracker ([None, 2024-04-26](https://news.crunchbase.com/startups/tech-layoffs/))\n",
      "- 98point6 lays off employees after shifting focus last year ([The Business Journals, 2024-04-24](https://www.bizjournals.com/seattle/news/2024/04/24/98point6-layoffs-seattle-telehealth-transcarent.html))\n",
      "- 98point6 hit by new layoffs in latest change at health tech startup ([GeekWire, 2024-04-23](https://www.geekwire.com/2024/98point6-hit-by-new-layoffs-in-latest-change-at-health-tech-startup/))\n",
      "- 98point6 hit by new layoffs in latest change at health tech startup ([Kurt Schlosser, 2024-04-23](https://www.geekwire.com/2024/98point6-hit-by-new-layoffs-in-latest-change-at-health-tech-startup/))\n",
      "- 98point6 buys asynchronous telehealth company Bright.md's remaining assets ([Yahoo Finance, 2024-01-17](https://finance.yahoo.com/news/98point6-buys-asynchronous-telehealth-company-152723381.html))\n",
      "- 98point6 acquires assets from Portland telehealth company - Puget Sound Business Journal ([The Business Journals, 2024-01-17](https://www.bizjournals.com/seattle/news/2024/01/17/98point6-brightmd-acquisition-seattle-telehealth.html))\n",
      "- 98point6 acquires assets from Portland telehealth company ([Puget Sound Business Journal, 2024-01-17](https://www.bizjournals.com/seattle/news/2024/01/17/98point6-brightmd-acquisition-seattle-telehealth.html))\n",
      "- 98point6 Technologies Announces the Acquisition of Bright.md to Accelerate the Launch of its Asynchronous Care ... ([PR Newswire, 2024-01-16](https://www.prnewswire.com/news-releases/98point6-technologies-announces-the-acquisition-of-brightmd-to-accelerate-the-launch-of-its-asynchronous-care-module-302034295.html))\n",
      "\n"
     ]
    }
   ],
   "source": [
    "print(overview_md)"
   ]
  },
  {
   "cell_type": "code",
   "execution_count": null,
   "metadata": {},
   "outputs": [],
   "source": []
  }
 ],
 "metadata": {
  "kernelspec": {
   "display_name": ".venv",
   "language": "python",
   "name": "python3"
  },
  "language_info": {
   "codemirror_mode": {
    "name": "ipython",
    "version": 3
   },
   "file_extension": ".py",
   "mimetype": "text/x-python",
   "name": "python",
   "nbconvert_exporter": "python",
   "pygments_lexer": "ipython3",
   "version": "3.10.12"
  }
 },
 "nbformat": 4,
 "nbformat_minor": 2
}
