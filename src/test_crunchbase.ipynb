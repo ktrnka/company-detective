{
 "cells": [
  {
   "cell_type": "code",
   "execution_count": 1,
   "metadata": {},
   "outputs": [],
   "source": [
    "from core import init\n",
    "\n",
    "init()"
   ]
  },
  {
   "cell_type": "code",
   "execution_count": 2,
   "metadata": {},
   "outputs": [],
   "source": [
    "from core import Seed\n",
    "\n",
    "target = Seed.init(\"Mt. Joy\")"
   ]
  },
  {
   "cell_type": "code",
   "execution_count": 3,
   "metadata": {},
   "outputs": [
    {
     "name": "stderr",
     "output_type": "stream",
     "text": [
      "\u001b[32m2024-08-23 20:36:36.996\u001b[0m | \u001b[34m\u001b[1mDEBUG   \u001b[0m | \u001b[36mgoogle_search\u001b[0m:\u001b[36msearch\u001b[0m:\u001b[36m58\u001b[0m - \u001b[34m\u001b[1mGoogle search results: {'kind': 'customsearch#search', 'url': {'type': 'application/json', 'template': 'https://www.googleapis.com/customsearch/v1?q={searchTerms}&num={count?}&start={startIndex?}&lr={language?}&safe={safe?}&cx={cx?}&sort={sort?}&filter={filter?}&gl={gl?}&cr={cr?}&googlehost={googleHost?}&c2coff={disableCnTwTranslation?}&hq={hq?}&hl={hl?}&siteSearch={siteSearch?}&siteSearchFilter={siteSearchFilter?}&exactTerms={exactTerms?}&excludeTerms={excludeTerms?}&linkSite={linkSite?}&orTerms={orTerms?}&dateRestrict={dateRestrict?}&lowRange={lowRange?}&highRange={highRange?}&searchType={searchType}&fileType={fileType?}&rights={rights?}&imgSize={imgSize?}&imgType={imgType?}&imgColorType={imgColorType?}&imgDominantColor={imgDominantColor?}&alt=json'}, 'queries': {'request': [{'title': 'Google Custom Search - site:crunchbase.com/organization \"Mt. Joy\"', 'totalResults': '1', 'searchTerms': 'site:crunchbase.com/organization \"Mt. Joy\"', 'count': 1, 'startIndex': 1, 'language': 'lang_en', 'inputEncoding': 'utf8', 'outputEncoding': 'utf8', 'safe': 'off', 'cx': 'd5705c8967e3c4d63', 'gl': 'us', 'hl': 'en'}]}, 'context': {'title': 'company_detective'}, 'searchInformation': {'searchTime': 0.103711, 'formattedSearchTime': '0.10', 'totalResults': '1', 'formattedTotalResults': '1'}, 'items': [{'kind': 'customsearch#result', 'title': 'Coors Light - Crunchbase Company Profile & Funding', 'htmlTitle': 'Coors Light - Crunchbase Company Profile &amp; Funding', 'link': 'https://www.crunchbase.com/organization/coors-light', 'displayLink': 'www.crunchbase.com', 'snippet': 'PR Newswire — Coors Light® Announces New \"Chill Amplified\" Music Platform Headlined by Lainey Wilson, LL COOL J, Mt. Joy and Tainy · View All. Crunchbase\\xa0...', 'htmlSnippet': 'PR Newswire — Coors Light® Announces New &quot;Chill Amplified&quot; Music Platform Headlined by Lainey Wilson, LL COOL J, <b>Mt. Joy</b> and Tainy &middot; View All. Crunchbase&nbsp;...', 'formattedUrl': 'https://www.crunchbase.com/organization/coors-light', 'htmlFormattedUrl': 'https://www.crunchbase.com/organization/coors-light', 'pagemap': {'cse_thumbnail': [{'src': 'https://encrypted-tbn0.gstatic.com/images?q=tbn:ANd9GcSUZQeI7HKt0ldxdds_-98aj-Tm2svy7lMrvAdT0SQNJC3xLNyqjHwEnIo&s', 'width': '225', 'height': '225'}], 'metatags': [{'og:image': 'https://images.crunchbase.com/image/upload/c_pad,h_256,w_256,f_auto,q_auto:eco,dpr_1/m5havkfggusa9twgf0zd', 'og:type': 'website', 'og:image:alt': 'Coors Light', 'og:image:width': '256', 'og:site_name': 'Crunchbase', 'viewport': 'width=device-width, minimum-scale=1.0, initial-scale=1.0', 'og:title': 'Coors Light - Crunchbase Company Profile & Funding', 'og:image:height': '256', 'og:url': 'https://www.crunchbase.com/organization/coors-light', 'og:description': 'Coors Light is a brewery company.', 'og:image:secure_url': 'https://images.crunchbase.com/image/upload/c_pad,h_256,w_256,f_auto,q_auto:eco,dpr_1/m5havkfggusa9twgf0zd'}], 'cse_image': [{'src': 'https://images.crunchbase.com/image/upload/c_pad,h_256,w_256,f_auto,q_auto:eco,dpr_1/m5havkfggusa9twgf0zd'}]}}]}\u001b[0m\n"
     ]
    },
    {
     "data": {
      "text/plain": [
       "[SearchResult(title='Coors Light - Crunchbase Company Profile & Funding', link='https://www.crunchbase.com/organization/coors-light', snippet='PR Newswire — Coors Light® Announces New \"Chill Amplified\" Music Platform Headlined by Lainey Wilson, LL COOL J, Mt. Joy and Tainy · View All. Crunchbase\\xa0...', formattedUrl='https://www.crunchbase.com/organization/coors-light')]"
      ]
     },
     "execution_count": 3,
     "metadata": {},
     "output_type": "execute_result"
    }
   ],
   "source": [
    "from google_search import search\n",
    "\n",
    "results = list(\n",
    "    search(f'site:crunchbase.com/organization \"Mt. Joy\"', num=10)\n",
    ")\n",
    "results"
   ]
  },
  {
   "cell_type": "code",
   "execution_count": 4,
   "metadata": {},
   "outputs": [
    {
     "name": "stdout",
     "output_type": "stream",
     "text": [
      "[SearchResult(title='Coors Light - Crunchbase Company Profile & Funding', link='https://www.crunchbase.com/organization/coors-light', snippet='PR Newswire — Coors Light® Announces New \"Chill Amplified\" Music Platform Headlined by Lainey Wilson, LL COOL J, Mt. Joy and Tainy · View All. Crunchbase\\xa0...', formattedUrl='https://www.crunchbase.com/organization/coors-light')]\n"
     ]
    }
   ],
   "source": [
    "from pprint import pprint\n",
    "pprint(results)"
   ]
  },
  {
   "cell_type": "code",
   "execution_count": 5,
   "metadata": {},
   "outputs": [
    {
     "name": "stderr",
     "output_type": "stream",
     "text": [
      "\u001b[32m2024-08-23 20:36:37.295\u001b[0m | \u001b[34m\u001b[1mDEBUG   \u001b[0m | \u001b[36mgoogle_search\u001b[0m:\u001b[36msearch\u001b[0m:\u001b[36m58\u001b[0m - \u001b[34m\u001b[1mGoogle search results: {'kind': 'customsearch#search', 'url': {'type': 'application/json', 'template': 'https://www.googleapis.com/customsearch/v1?q={searchTerms}&num={count?}&start={startIndex?}&lr={language?}&safe={safe?}&cx={cx?}&sort={sort?}&filter={filter?}&gl={gl?}&cr={cr?}&googlehost={googleHost?}&c2coff={disableCnTwTranslation?}&hq={hq?}&hl={hl?}&siteSearch={siteSearch?}&siteSearchFilter={siteSearchFilter?}&exactTerms={exactTerms?}&excludeTerms={excludeTerms?}&linkSite={linkSite?}&orTerms={orTerms?}&dateRestrict={dateRestrict?}&lowRange={lowRange?}&highRange={highRange?}&searchType={searchType}&fileType={fileType?}&rights={rights?}&imgSize={imgSize?}&imgType={imgType?}&imgColorType={imgColorType?}&imgDominantColor={imgDominantColor?}&alt=json'}, 'queries': {'request': [{'title': 'Google Custom Search - site:www.crunchbase.com/organization \"Mt. Joy\"', 'totalResults': '1', 'searchTerms': 'site:www.crunchbase.com/organization \"Mt. Joy\"', 'count': 1, 'startIndex': 1, 'language': 'lang_en', 'inputEncoding': 'utf8', 'outputEncoding': 'utf8', 'safe': 'off', 'cx': 'd5705c8967e3c4d63', 'gl': 'us', 'hl': 'en'}]}, 'context': {'title': 'company_detective'}, 'searchInformation': {'searchTime': 0.104885, 'formattedSearchTime': '0.10', 'totalResults': '1', 'formattedTotalResults': '1'}, 'items': [{'kind': 'customsearch#result', 'title': 'Coors Light - Crunchbase Company Profile & Funding', 'htmlTitle': 'Coors Light - Crunchbase Company Profile &amp; Funding', 'link': 'https://www.crunchbase.com/organization/coors-light', 'displayLink': 'www.crunchbase.com', 'snippet': 'PR Newswire — Coors Light® Announces New \"Chill Amplified\" Music Platform Headlined by Lainey Wilson, LL COOL J, Mt. Joy and Tainy · View All. Crunchbase\\xa0...', 'htmlSnippet': 'PR Newswire — Coors Light® Announces New &quot;Chill Amplified&quot; Music Platform Headlined by Lainey Wilson, LL COOL J, <b>Mt. Joy</b> and Tainy &middot; View All. Crunchbase&nbsp;...', 'formattedUrl': 'https://www.crunchbase.com/organization/coors-light', 'htmlFormattedUrl': 'https://www.crunchbase.com/organization/coors-light', 'pagemap': {'cse_thumbnail': [{'src': 'https://encrypted-tbn0.gstatic.com/images?q=tbn:ANd9GcSUZQeI7HKt0ldxdds_-98aj-Tm2svy7lMrvAdT0SQNJC3xLNyqjHwEnIo&s', 'width': '225', 'height': '225'}], 'metatags': [{'og:image': 'https://images.crunchbase.com/image/upload/c_pad,h_256,w_256,f_auto,q_auto:eco,dpr_1/m5havkfggusa9twgf0zd', 'og:type': 'website', 'og:image:alt': 'Coors Light', 'og:image:width': '256', 'og:site_name': 'Crunchbase', 'viewport': 'width=device-width, minimum-scale=1.0, initial-scale=1.0', 'og:title': 'Coors Light - Crunchbase Company Profile & Funding', 'og:image:height': '256', 'og:url': 'https://www.crunchbase.com/organization/coors-light', 'og:description': 'Coors Light is a brewery company.', 'og:image:secure_url': 'https://images.crunchbase.com/image/upload/c_pad,h_256,w_256,f_auto,q_auto:eco,dpr_1/m5havkfggusa9twgf0zd'}], 'cse_image': [{'src': 'https://images.crunchbase.com/image/upload/c_pad,h_256,w_256,f_auto,q_auto:eco,dpr_1/m5havkfggusa9twgf0zd'}]}}]}\u001b[0m\n"
     ]
    }
   ],
   "source": [
    "import crunchbase\n",
    "\n",
    "overview_md = await crunchbase.run(target)"
   ]
  },
  {
   "cell_type": "code",
   "execution_count": 6,
   "metadata": {},
   "outputs": [
    {
     "name": "stdout",
     "output_type": "stream",
     "text": [
      "None\n"
     ]
    }
   ],
   "source": [
    "print(overview_md)"
   ]
  },
  {
   "cell_type": "code",
   "execution_count": null,
   "metadata": {},
   "outputs": [],
   "source": []
  }
 ],
 "metadata": {
  "kernelspec": {
   "display_name": ".venv",
   "language": "python",
   "name": "python3"
  },
  "language_info": {
   "codemirror_mode": {
    "name": "ipython",
    "version": 3
   },
   "file_extension": ".py",
   "mimetype": "text/x-python",
   "name": "python",
   "nbconvert_exporter": "python",
   "pygments_lexer": "ipython3",
   "version": "3.10.12"
  }
 },
 "nbformat": 4,
 "nbformat_minor": 2
}
