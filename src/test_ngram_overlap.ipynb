{
 "cells": [
  {
   "cell_type": "code",
   "execution_count": 11,
   "metadata": {},
   "outputs": [],
   "source": [
    "from typing import Iterable, Hashable, List\n",
    "\n",
    "def iterate_ngrams(tokens: List[Hashable], n: int) -> Iterable[tuple]:\n",
    "    for i in range(len(tokens) - n + 1):\n",
    "        yield tuple(tokens[i:i + n])\n",
    "\n",
    "assert list(iterate_ngrams(['a', 'b', 'c', 'd'], 2)) == [('a', 'b'), ('b', 'c'), ('c', 'd')]"
   ]
  },
  {
   "cell_type": "code",
   "execution_count": 13,
   "metadata": {},
   "outputs": [],
   "source": [
    "import re\n",
    "\n",
    "def tokenize(text: str) -> List[str]:\n",
    "    return re.split(r'\\W+', text)\n",
    "\n",
    "def extractive_fraction(summary: str, source: str, n: int=4):\n",
    "    summary_ngrams = set(iterate_ngrams(tokenize(summary), n))\n",
    "    source_ngrams = set(iterate_ngrams(tokenize(source), n))\n",
    "    return len(summary_ngrams & source_ngrams) / len(summary_ngrams)\n",
    "\n",
    "example_source = 'a b c d e f g h i j k l m n o p q r s t u v w x y z'\n",
    "example_summary = 'a b c d e f g h i j k'\n",
    "\n",
    "assert extractive_fraction(example_summary, example_source) == 1.0\n",
    "\n",
    "example_source = 'a b c d e f g h i j k l m n o p q r s t u v w x y z'\n",
    "example_summary = 'a b c d e g h i j k'\n",
    "\n",
    "assert extractive_fraction(example_summary, example_source) < 1.0"
   ]
  },
  {
   "cell_type": "code",
   "execution_count": 21,
   "metadata": {},
   "outputs": [],
   "source": [
    "def extract_urls(markdown: str) -> List[str]:\n",
    "    return re.findall(r'\\[[^]]+\\]\\(([^)]+)\\)', markdown)\n",
    "\n",
    "assert extract_urls('[a](b) [c](d)') == ['b', 'd']\n",
    "\n",
    "def extractive_fraction_urls(summary: str, source: str, n: int=4):\n",
    "    summary_urls = set(extract_urls(summary))\n",
    "    source_urls = set(extract_urls(source))\n",
    "    return len(summary_urls & source_urls) / len(summary_urls)\n",
    "\n",
    "example_source = '[a](b) [c](d) [e](f) [g](h)'\n",
    "example_summary = '[a](b) [c](d) [e](f)'\n",
    "\n",
    "assert extractive_fraction_urls(example_summary, example_source) == 1.0\n",
    "\n",
    "example_summary = '[a](b) [c](d) [e](l)'\n",
    "assert extractive_fraction_urls(example_summary, example_source) == 2/3\n"
   ]
  },
  {
   "cell_type": "code",
   "execution_count": null,
   "metadata": {},
   "outputs": [],
   "source": []
  }
 ],
 "metadata": {
  "kernelspec": {
   "display_name": ".venv",
   "language": "python",
   "name": "python3"
  },
  "language_info": {
   "codemirror_mode": {
    "name": "ipython",
    "version": 3
   },
   "file_extension": ".py",
   "mimetype": "text/x-python",
   "name": "python",
   "nbconvert_exporter": "python",
   "pygments_lexer": "ipython3",
   "version": "3.10.12"
  }
 },
 "nbformat": 4,
 "nbformat_minor": 2
}
