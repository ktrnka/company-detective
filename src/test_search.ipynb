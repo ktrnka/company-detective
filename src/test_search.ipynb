{
 "cells": [
  {
   "cell_type": "code",
   "execution_count": 4,
   "metadata": {},
   "outputs": [
    {
     "name": "stdout",
     "output_type": "stream",
     "text": [
      "SearchResult(title='Working at 98point6 | Glassdoor', link='https://www.glassdoor.com/Overview/Working-at-98point6-EI_IE1181484.11,19.htm', snippet='Employees rate 98point6 3.8 out of 5 stars based on 167 anonymous reviews on Glassdoor. How can I get a job at\\xa0...', formattedUrl='https://www.glassdoor.com/.../Working-at-98point6-EI_IE1181484.11,19....')\n",
      "SearchResult(title='98point6 Reviews: What Is It Like to Work At 98point6? | Glassdoor', link='https://www.glassdoor.com/Reviews/98point6-Reviews-E1181484.htm', snippet='98point6 has an overall rating of 3.8 out of 5, based on over 178 reviews left anonymously by employees. 61% of employees would recommend working at 98point6 to\\xa0...', formattedUrl='https://www.glassdoor.com/Reviews/98point6-Reviews-E1181484.htm')\n",
      "SearchResult(title='98point6 Interview Questions | Glassdoor', link='https://www.glassdoor.com/Interview/98point6-Interview-Questions-E1181484.htm', snippet=\"All very positive: the technicals were explaining what you've done in past projects. As in, describe in depth what you used to work on, your part of it, how you\\xa0...\", formattedUrl='https://www.glassdoor.com/.../98point6-Interview-Questions-E1181484.ht...')\n",
      "SearchResult(title='How Much Does 98point6 Pay in 2024? (324 Salaries) | Glassdoor', link='https://www.glassdoor.com/Salary/98point6-Salaries-E1181484.htm', snippet='A free inside look at 98point6 salary trends based on 324 salaries wages for 155 jobs at 98point6. Salaries posted anonymously by 98point6 employees.', formattedUrl='https://www.glassdoor.com/Salary/98point6-Salaries-E1181484.htm')\n",
      "SearchResult(title='98point6 Software Engineer(Internship) Reviews | Glassdoor', link='https://www.glassdoor.com/Reviews/98point6-Reviews-E1181484.htm?filter.jobTitleExact=Software+Engineer(Internship)', snippet='3 98point6 reviews. A free inside look at company reviews and salaries posted anonymously by employees.', formattedUrl='https://www.glassdoor.com/Reviews/98point6-Reviews-E1181484.htm?...')\n",
      "SearchResult(title=\"Transcarent's Affiliated Medical Group hiring Per Diem Physician ...\", link='https://www.glassdoor.com/job-listing/per-diem-physician-transcarent-s-affiliated-medical-group-JV_KO0,18_KE19,57.htm?jl=1009303413942', snippet=\"About us Transcarent's affiliated Medical Group, 98point6 Physicians PC, is hiring for an open role within its virtual ... See this and similar jobs on\\xa0...\", formattedUrl='https://www.glassdoor.com/.../per-diem-physician-transcarent-s-affiliated-m...')\n",
      "SearchResult(title='Salary: Physician in Seattle, WA 2024 | Glassdoor', link='https://www.glassdoor.com/Salaries/seattle-wa-physician-salary-SRCH_IL.0,10_IM781_KO11,20.htm', snippet='98point6. $243,375/yr. 10. University of ... $355K. 98point6. 3.8. Physician See 10 salaries from this location\\xa0...', formattedUrl='https://www.glassdoor.com/.../seattle-wa-physician-salary-SRCH_IL.0,10_I...')\n",
      "SearchResult(title='Salary: Vp Engineering in Seattle, WA 2024 | Glassdoor', link='https://www.glassdoor.com/Salaries/seattle-vp-engineering-salary-SRCH_IL.0,7_IM781_KO8,22.htm', snippet='Jul 27, 2024 ... 98point6. 3.8. Vice President Engineering See 1 salary from this location. $277,439. / yr. $238K. $323K.', formattedUrl='https://www.glassdoor.com/.../seattle-vp-engineering-salary-SRCH_IL.0,7_I...')\n",
      "SearchResult(title='Salary: Recruiting Coordinator in Seattle, WA 2024 | Glassdoor', link='https://www.glassdoor.com/Salaries/seattle-recruiting-coordinator-salary-SRCH_IL.0,7_IM781_KO8,30.htm', snippet='Jul 9, 2024 ... 98point6. $67,622/yr. See pay for all companies for a ... 98point6. 3.8. Recruiting Coordinator See 9 salaries from this\\xa0...', formattedUrl='https://www.glassdoor.com/.../seattle-recruiting-coordinator-salary-SRCH_I...')\n",
      "SearchResult(title='Salary: Talent Operations Coordinator in United States 2024 ...', link='https://www.glassdoor.com/Salaries/talent-operations-coordinator-salary-SRCH_KO0,29.htm', snippet='98point6-logo. 98point6. 3.8. $59K - $83K. /yr. Total Pay. $70K. Median. Talent Operations Coordinator. Create job alert. Avenica-logo. Avenica. 3.7. $50K - $69\\xa0...', formattedUrl='https://www.glassdoor.com/.../talent-operations-coordinator-salary-SRCH_...')\n",
      "SearchResult(title='Salary: Talent Operations Coordinator in United States 2024 ...', link='https://www.glassdoor.com/Salaries/talent-operations-coordinator-salary-SRCH_KO0,29.htm', snippet='98point6-logo. 98point6. 3.8. $59K - $83K. /yr. Total Pay. $70K. Median. Talent Operations Coordinator. Create job alert. Avenica-logo. Avenica. 3.7. $50K - $69\\xa0...', formattedUrl='https://www.glassdoor.com/.../talent-operations-coordinator-salary-SRCH_...')\n",
      "SearchResult(title='Salary: Clinical Training Manager in United States 2024 | Glassdoor', link='https://www.glassdoor.com/Salaries/united-states-clinical-training-manager-salary-SRCH_IL.0,13_IN1_KO14,39.htm', snippet='Jul 5, 2024 ... 98point6. 3.8. Clinical Training Manager See 1 salary from this location. $98,157. / yr. $82K. $118K.', formattedUrl='https://www.glassdoor.com/.../united-states-clinical-training-manager-salary...')\n",
      "SearchResult(title='Salary: Vp Finance in Seattle, WA 2024 | Glassdoor', link='https://www.glassdoor.com/Salaries/seattle-vp-finance-salary-SRCH_IL.0,7_IM781_KO8,18.htm', snippet='$349K. 98point6. 3.8. Vice President Finance See 2 salaries from this location. $228,189. / yr. $192K.', formattedUrl='https://www.glassdoor.com/.../seattle-vp-finance-salary-SRCH_IL.0,7_IM7...')\n",
      "SearchResult(title='Salary: Telemedicine Physician in United States 2024 | Glassdoor', link='https://www.glassdoor.com/Salaries/telemedicine-physician-salary-SRCH_KO0,22.htm', snippet='8 hours ago ... ... $133. / hr. $112. $159. 98point6. 3.8. Telemedicine Physician See 1 salary from this location. $122. / hr. $105. $142. Download as\\xa0...', formattedUrl='https://www.glassdoor.com/.../telemedicine-physician-salary-SRCH_KO0,2...')\n",
      "SearchResult(title='Salary: Corporate Counsel in Seattle, WA 2024 | Glassdoor', link='https://www.glassdoor.com/Salaries/seattle-corporate-counsel-salary-SRCH_IL.0,7_IM781_KO8,25.htm', snippet='4 days ago ... 98point6. 3.8. Corporate Counsel See 1 salary from this location. $219,896. / yr. $185K. $262K.', formattedUrl='https://www.glassdoor.com/.../seattle-corporate-counsel-salary-SRCH_IL.0,...')\n",
      "SearchResult(title='Working at West Boca Medical Center | Glassdoor', link='https://www.glassdoor.com/Overview/Working-at-West-Boca-Medical-Center-EI_IE385991.11,35.htm', snippet='Health Care Services & Hospitals. Competitors: Roane General Hospital, HCA Florida Trinity Hospital, 98point6Create comparison. Relevant posts in this\\xa0...', formattedUrl='https://www.glassdoor.com/.../Working-at-West-Boca-Medical-Center-EI_I...')\n",
      "SearchResult(title='Salary: Backend Developer in Seattle 2024 | Glassdoor', link='https://www.glassdoor.com/Salaries/seattle-backend-developer-salary-SRCH_IL.0,7_IC1150505_KO8,25.htm', snippet='Jun 5, 2024 ... 98point6. 3.8. Backend Software Engineer See 1 salary from this location. $153,173. / yr. $136K. $173K.', formattedUrl='https://www.glassdoor.com/.../seattle-backend-developer-salary-SRCH_IL.0...')\n",
      "SearchResult(title='Salary: Senior Ux Designer in Seattle, WA 2024 | Glassdoor', link='https://www.glassdoor.com/Salaries/seattle-wa-senior-ux-designer-salary-SRCH_IL.0,10_IM781_KO11,29.htm', snippet='3 days ago ... 98point6. 3.8. Senior UX Designer See 1 salary from this location. $168,721. / yr. $141K. $203K.', formattedUrl='https://www.glassdoor.com/.../seattle-wa-senior-ux-designer-salary-SRCH_I...')\n",
      "SearchResult(title='Salary: Copy Director in New York City, NY 2024 | Glassdoor', link='https://www.glassdoor.com/Salaries/new-york-city-ny-copy-director-salary-SRCH_IL.0,16_IM615_KO17,30.htm', snippet='$193K. 98point6. 3.8. Copy Director See 1 salary from this location. $128,477. / yr. $105K.', formattedUrl='https://www.glassdoor.com/.../new-york-city-ny-copy-director-salary-SRC...')\n",
      "SearchResult(title='Salary: Data Engineer in Seattle, WA 2024 | Glassdoor', link='https://www.glassdoor.com/Salaries/seattle-data-engineer-salary-SRCH_IL.0,7_IM781_KO8,21.htm', snippet='Jul 18, 2024 ... 98point6. 3.8. Data Engineer See 5 salaries from this location. $139,796. / yr. $125K. $156K.', formattedUrl='https://www.glassdoor.com/.../seattle-data-engineer-salary-SRCH_IL.0,7_I...')\n",
      "SearchResult(title='Senior sdet Interview Questions | Glassdoor', link='https://www.glassdoor.com/Interview/senior-sdet-interview-questions-SRCH_KO0,11.htm', snippet='98point6. Senior Software Development Engineer In Test (SDET) was asked...October 3, 2022. Q: Create a calculator using the language of your choice? 1 Answers.', formattedUrl='https://www.glassdoor.com/.../senior-sdet-interview-questions-SRCH_KO0,...')\n",
      "SearchResult(title='Immigration manager Interview Questions | Glassdoor', link='https://www.glassdoor.com/Interview/immigration-manager-interview-questions-SRCH_KO0,19.htm', snippet='98point6. Program Manager, Immigration was asked...April 21, 2021. The company values are core to their interview process, and everyone I spoke with seemed\\xa0...', formattedUrl='https://www.glassdoor.com/.../immigration-manager-interview-questions-S...')\n",
      "SearchResult(title='Salary: Senior Engineering Manager in Seattle, WA 2024 | Glassdoor', link='https://www.glassdoor.com/Salaries/seattle-senior-engineering-manager-salary-SRCH_IL.0,7_IM781_KO8,34.htm', snippet='Jul 23, 2024 ... 98point6. 3.8. Senior Engineering Manager See 3 salaries from this location. $218,451. / yr. $197K. $242K.', formattedUrl='https://www.glassdoor.com/.../seattle-senior-engineering-manager-salary-SR...')\n",
      "SearchResult(title='Iron Hill Brewery, LLC hiring Server Assistant Job in United States ...', link='https://www.glassdoor.com/job-listing/server-assistant-iron-hill-brewery-llc-JV_KO0,16_KE17,38.htm?jl=1009333684722', snippet='Free primary care for all employees through 98point6; 401K; Healthy Employee Shift Meals; Employee Recognition; Opportunities to support your local community.', formattedUrl='https://www.glassdoor.com/.../server-assistant-iron-hill-brewery-llc-JV_KO...')\n",
      "SearchResult(title='Iron Hill Brewery, LLC hiring Server Assistant Job in Lehigh Valley ...', link='https://www.glassdoor.com/job-listing/server-assistant-iron-hill-brewery-llc-JV_IC1151943_KO0,16_KE17,38.htm?jl=1009333684722', snippet='Free primary care for all employees through 98point6; 401K; Healthy Employee Shift Meals; Employee Recognition; Opportunities to support your local community.', formattedUrl='https://www.glassdoor.com/.../server-assistant-iron-hill-brewery-llc-JV_IC1...')\n",
      "SearchResult(title='Iron Hill Brewery, LLC hiring Bartender Job in United States ...', link='https://www.glassdoor.com/job-listing/bartender-iron-hill-brewery-llc-JV_KO0,9_KE10,31.htm?jl=1009333684730', snippet='Free primary care for all employees through 98point6; 401K; Healthy Employee Shift Meals; Employee Recognition; Opportunities to support your local community.', formattedUrl='https://www.glassdoor.com/.../bartender-iron-hill-brewery-llc-JV_KO0,9_K...')\n",
      "SearchResult(title='AHC Northbrooke hiring Registered Nurse - RN PRN Job in Jackson ...', link='https://www.glassdoor.com/job-listing/registered-nurse-rn-prn-ahc-northbrooke-JV_IC1144353_KO0,23_KE24,39.htm?jl=1009329849704', snippet='Telehealth through 98point6 – free to all employees; Continuing Education opportunities; Nursing scholarships to obtain LPN and/or RN degree; Career\\xa0...', formattedUrl='https://www.glassdoor.com/.../registered-nurse-rn-prn-ahc-northbrooke-JV...')\n",
      "SearchResult(title='AHC Westwood LLC hiring Certified Nursing Assistant (CNA) FT ...', link='https://www.glassdoor.com/job-listing/certified-nursing-assistant-cna-ft-days-american-health-communities-JV_IC1144106_KO0,39_KE40,67.htm?jl=1009366531723', snippet='Telehealth through 98point6 – free to all employees; Continuing Education opportunities; Nursing scholarships to obtain LPN and/or RN degree; Career\\xa0...', formattedUrl='https://www.glassdoor.com/.../certified-nursing-assistant-cna-ft-days-americ...')\n",
      "SearchResult(title='American Health Communities hiring Licensed Practical Nurse ...', link='https://www.glassdoor.com/job-listing/licensed-practical-nurse-lpn-nights-american-health-communities-JV_IC1144614_KO0,35_KE36,63.htm?jl=1009280597976', snippet='Telehealth through 98point6 – free to all employees; Continuing Education opportunities; Nursing scholarships to obtain LPN and/or RN degree; Career\\xa0...', formattedUrl='https://www.glassdoor.com/.../licensed-practical-nurse-lpn-nights-american-...')\n",
      "SearchResult(title='AHC Lexington hiring Registered Nurse - RN PRN Job in Lexington ...', link='https://www.glassdoor.com/job-listing/registered-nurse-rn-prn-american-health-communities-JV_IC1144153_KO0,23_KE24,51.htm?jl=1009380785730', snippet='Telehealth through 98point6 – free to all employees; Continuing Education opportunities; Nursing scholarships to obtain LPN and/or RN degree; Career\\xa0...', formattedUrl='https://www.glassdoor.com/.../registered-nurse-rn-prn-american-health-com...')\n"
     ]
    }
   ],
   "source": [
    "from search import search\n",
    "from pprint import pprint\n",
    "\n",
    "for result in search(\"site:glassdoor.com 98point6\", num=30):\n",
    "    pprint(result)"
   ]
  },
  {
   "cell_type": "code",
   "execution_count": null,
   "metadata": {},
   "outputs": [],
   "source": []
  }
 ],
 "metadata": {
  "kernelspec": {
   "display_name": ".venv",
   "language": "python",
   "name": "python3"
  },
  "language_info": {
   "codemirror_mode": {
    "name": "ipython",
    "version": 3
   },
   "file_extension": ".py",
   "mimetype": "text/x-python",
   "name": "python",
   "nbconvert_exporter": "python",
   "pygments_lexer": "ipython3",
   "version": "3.10.12"
  }
 },
 "nbformat": 4,
 "nbformat_minor": 2
}
